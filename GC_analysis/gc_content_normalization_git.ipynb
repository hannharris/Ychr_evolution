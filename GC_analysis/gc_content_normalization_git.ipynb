{
 "cells": [
  {
   "cell_type": "code",
   "execution_count": 6,
   "id": "6ba2fd82-8776-47dd-b6c0-5b721c85c911",
   "metadata": {
    "collapsed": true,
    "jupyter": {
     "outputs_hidden": true
    },
    "tags": []
   },
   "outputs": [
    {
     "data": {
      "text/plain": [
       "['Alphabet',\n",
       " 'GC',\n",
       " 'GC123',\n",
       " 'GC_skew',\n",
       " 'IUPACData',\n",
       " 'MutableSeq',\n",
       " 'Seq',\n",
       " '__builtins__',\n",
       " '__cached__',\n",
       " '__doc__',\n",
       " '__file__',\n",
       " '__loader__',\n",
       " '__name__',\n",
       " '__package__',\n",
       " '__path__',\n",
       " '__spec__',\n",
       " 'cos',\n",
       " 'molecular_weight',\n",
       " 'nt_search',\n",
       " 'pi',\n",
       " 'print_function',\n",
       " 're',\n",
       " 'seq1',\n",
       " 'seq3',\n",
       " 'sin',\n",
       " 'six_frame_translations',\n",
       " 'xGC_skew']"
      ]
     },
     "execution_count": 6,
     "metadata": {},
     "output_type": "execute_result"
    }
   ],
   "source": [
    "import os\n",
    "import subprocess\n",
    "import Bio \n",
    "from Bio.Align import MultipleSeqAlignment\n",
    "import glob\n",
    "from Bio import SeqRecord\n",
    "from Bio.Seq import Seq #added\n",
    "import pandas as pd\n",
    "import genomicranges as gr\n",
    "from Bio.Seq import Seq\n",
    "import pyranges as pr\n",
    "from Bio.SeqUtils import GC\n",
    "from Bio import AlignIO, SeqIO\n",
    "dir(Bio.SeqUtils)"
   ]
  },
  {
   "cell_type": "code",
   "execution_count": null,
   "id": "612f7a06-971b-45dd-a19c-c368a13760ff",
   "metadata": {},
   "outputs": [],
   "source": [
    "myPath = #PATH TO GITHUB FOLDER"
   ]
  },
  {
   "cell_type": "markdown",
   "id": "f6b4183a-9d1a-4e89-9e90-cb37b6337c91",
   "metadata": {
    "tags": []
   },
   "source": [
    "## GC normalization plan\n",
    "    -need to do this for each human - species file individually (or else the alignment cols may be off) \n",
    "    -find regions of human intron that have the same GC content as the promoter (concatenated together) \n",
    "    -concatenate those together \n",
    "    -can pull out intron from each species/gene pair"
   ]
  },
  {
   "cell_type": "code",
   "execution_count": 7,
   "id": "05cafdf4-b80f-4b09-b172-dbc7f99624dc",
   "metadata": {
    "tags": []
   },
   "outputs": [
    {
     "name": "stdout",
     "output_type": "stream",
     "text": [
      "{}\n",
      "{}\n"
     ]
    }
   ],
   "source": [
    "def give_me_gc_content_dict(type_of_seq):\n",
    "    #type of seq = promoter or exon character\n",
    "    species= ['chimp', 'gorilla', 'orangutan', 'pileatedgibbon', 'marm', 'mac']\n",
    "    genes = [\"EIF1AX\", \"EIF1AY\", \"KDM5D\" , \"KDM5C\",\"UTY\", \"KDM6A\", \"ZFY\", \"ZFX\", \"DDX3Y\" ,\"DDX3X\", \"USP9Y\" , \"USP9X\", \"RPS4Y1\", \"RPS4X\"] \n",
    "\n",
    "    gc_prom_dict = {}\n",
    "\n",
    "    for spec in species: \n",
    "        for gene in genes: \n",
    "            try:\n",
    "                sample_seqY = AlignIO.read(myPath + \"/sequences/primates/\" + gene + '/' + 'humanmasked.' + spec + '_' + type_of_seq + '_msa_filtered.phy', \"phylip\")\n",
    "                gc_prom_dict[(spec, gene)] = GC(sample_seqY[0].seq)\n",
    "            except: \n",
    "                next\n",
    "    return gc_prom_dict\n",
    "                                \n",
    "gc_prom_dict =     give_me_gc_content_dict('promoter')\n",
    "print(gc_prom_dict)\n",
    "gc_exon_dict =     give_me_gc_content_dict('exon')\n",
    "print(gc_exon_dict)\n"
   ]
  },
  {
   "cell_type": "code",
   "execution_count": 111,
   "id": "889bf082-dbcf-4a5d-b130-c6f10cb56c4f",
   "metadata": {
    "tags": []
   },
   "outputs": [],
   "source": [
    "def give_me_intron_coords(gc_prom_dict):\n",
    "    \n",
    "    same_gc_introns = {} #[[1,2,3], [4,5,6]] #starts list and end list\n",
    "                     #can make these files have the exact same GC content \n",
    " \n",
    "    species= ['chimp', 'gorilla', 'orangutan', 'pileatedgibbon', 'marm', 'mac']\n",
    "\n",
    "    genes = [\"EIF1AX\", \"EIF1AY\", \"KDM5D\" , \"KDM5C\",\"UTY\", \"KDM6A\", \"ZFY\", \"ZFX\", \"DDX3Y\" ,\"DDX3X\", \"USP9Y\" , \"USP9X\", \"RPS4Y1\", \"RPS4X\"] \n",
    "\n",
    "    for gene in genes: #only running through sample_seqY \n",
    "\n",
    "        for spec in species:\n",
    "            try:\n",
    "                sample = AlignIO.read(myPath + \"sequences/primates/\" + gene + '/' + 'humanmasked.' + spec + '_intron_msa_filtered.phy', \"phylip\")\n",
    "                if len(sample) == 1: \n",
    "                    print('here', gene, spec)\n",
    "\n",
    "                    continue \n",
    "            except: \n",
    "                continue \n",
    "                print(gene, spec)\n",
    "            try:\n",
    "                target = gc_prom_dict[(spec, gene)]\n",
    "            except: \n",
    "                print(target) \n",
    "                continue\n",
    "            \n",
    "            range_gc = [target - 5, target + 5]\n",
    "                \n",
    "            for s in range(0, len(sample[0].seq), 50):                                                   #take thousand intervals that are +/- 5% of the promoter GC\n",
    "                e = s + 50\n",
    "                gc_perc = GC(sample[0][s:e].seq)\n",
    "                if (range_gc[0] < gc_perc) & (gc_perc < range_gc[1]):\n",
    "                    try:\n",
    "                        same_gc_introns[(spec,gene)][0].append(s)\n",
    "                        same_gc_introns[(spec,gene)][1].append(e)\n",
    "                    except: \n",
    "                        same_gc_introns[(spec,gene)] = [[s],[e]]\n",
    "                    \n",
    "    return same_gc_introns\n",
    "\n",
    "same_gc_introns_promoters = give_me_intron_coords(gc_prom_dict)\n",
    "same_gc_introns_exons = give_me_intron_coords(gc_exon_dict)\n"
   ]
  },
  {
   "cell_type": "code",
   "execution_count": 8,
   "id": "8e50952d-3b35-43d0-b81b-8fb95539daa9",
   "metadata": {
    "collapsed": true,
    "jupyter": {
     "outputs_hidden": true
    },
    "tags": []
   },
   "outputs": [
    {
     "ename": "NameError",
     "evalue": "name 'same_gc_introns_exons' is not defined",
     "output_type": "error",
     "traceback": [
      "\u001b[0;31m---------------------------------------------------------------------------\u001b[0m",
      "\u001b[0;31mNameError\u001b[0m                                 Traceback (most recent call last)",
      "Cell \u001b[0;32mIn[8], line 39\u001b[0m\n\u001b[1;32m     36\u001b[0m         \u001b[38;5;28mprint\u001b[39m(\u001b[38;5;28mlen\u001b[39m(record1))\n\u001b[1;32m     37\u001b[0m         AlignIO\u001b[38;5;241m.\u001b[39mwrite(newmsa, myPath \u001b[38;5;241m+\u001b[39m \u001b[38;5;124m\"\u001b[39m\u001b[38;5;124m/sequences/primates/\u001b[39m\u001b[38;5;124m\"\u001b[39m \u001b[38;5;241m+\u001b[39m gene \u001b[38;5;241m+\u001b[39m \u001b[38;5;124m\"\u001b[39m\u001b[38;5;124m/humanmasked.\u001b[39m\u001b[38;5;124m\"\u001b[39m \u001b[38;5;241m+\u001b[39m spec \u001b[38;5;241m+\u001b[39m \u001b[38;5;124m\"\u001b[39m\u001b[38;5;124m_intron_msa_GCadj\u001b[39m\u001b[38;5;124m\"\u001b[39m \u001b[38;5;241m+\u001b[39m type_of_norm \u001b[38;5;241m+\u001b[39m \u001b[38;5;124m\"\u001b[39m\u001b[38;5;124m.phy\u001b[39m\u001b[38;5;124m\"\u001b[39m, \u001b[38;5;124m\"\u001b[39m\u001b[38;5;124mphylip\u001b[39m\u001b[38;5;124m\"\u001b[39m)\n\u001b[0;32m---> 39\u001b[0m make_new_intron_files(\u001b[43msame_gc_introns_exons\u001b[49m, \u001b[38;5;124m'\u001b[39m\u001b[38;5;124mfor_exon\u001b[39m\u001b[38;5;124m'\u001b[39m)\n\u001b[1;32m     40\u001b[0m make_new_intron_files(same_gc_introns_promoters, \u001b[38;5;124m'\u001b[39m\u001b[38;5;124mfor_promoter\u001b[39m\u001b[38;5;124m'\u001b[39m)\n",
      "\u001b[0;31mNameError\u001b[0m: name 'same_gc_introns_exons' is not defined"
     ]
    }
   ],
   "source": [
    "def make_new_intron_files(same_gc_introns, type_of_norm):\n",
    "\n",
    "    for key, values in same_gc_introns.items():\n",
    "        gene = key[1]\n",
    "        spec = key[0]\n",
    "        print(gene, spec)\n",
    "        seq1= \"\"\n",
    "        seq2 = \"\"\n",
    "\n",
    "        sample = AlignIO.read(myPath + \"/sequences/primates/\" + gene + '/' + 'humanmasked.' + spec + '_intron_msa_filtered.phy', \"phylip\")\n",
    "\n",
    "        for ix in range(0, len(values[0])):\n",
    "            s = same_gc_introns[key][0][ix]\n",
    "            e = same_gc_introns[key][1][ix] #end list\n",
    "           # print(s,e)\n",
    "            new_seq = [seq[s:e] for seq in sample]\n",
    "            seq1 = seq1+str(new_seq[0].seq)\n",
    "            seq2 = seq2+str(new_seq[1].seq)\n",
    "\n",
    "        alignment = MultipleSeqAlignment([])\n",
    "\n",
    "    # Create individual sequences and add them to the alignment \n",
    "        record1 = seq1\n",
    "        record2 = seq2\n",
    "\n",
    "        newmsa = MultipleSeqAlignment([])\n",
    "\n",
    "        new_record1 = SeqRecord.SeqRecord(\"\")\n",
    "        new_record1.id = \"human\"\n",
    "        new_record1.seq = Seq(record1) #added this \n",
    "        newmsa.append(new_record1)\n",
    "        new_record = SeqRecord.SeqRecord(\"\")\n",
    "        new_record.id = \"sequence2\"\n",
    "        new_record.seq = Seq(record2)\n",
    "        newmsa.append(new_record)\n",
    "        print(len(record1))\n",
    "        AlignIO.write(newmsa, myPath + \"/sequences/primates/\" + gene + \"/humanmasked.\" + spec + \"_intron_msa_GCadj\" + type_of_norm + \".phy\", \"phylip\")\n",
    "        \n",
    "make_new_intron_files(same_gc_introns_exons, 'for_exon')\n",
    "make_new_intron_files(same_gc_introns_promoters, 'for_promoter')\n"
   ]
  }
 ],
 "metadata": {
  "kernelspec": {
   "display_name": "Python 3",
   "language": "python",
   "name": "python3"
  },
  "language_info": {
   "codemirror_mode": {
    "name": "ipython",
    "version": 3
   },
   "file_extension": ".py",
   "mimetype": "text/x-python",
   "name": "python",
   "nbconvert_exporter": "python",
   "pygments_lexer": "ipython3",
   "version": "3.8.10"
  }
 },
 "nbformat": 4,
 "nbformat_minor": 5
}
