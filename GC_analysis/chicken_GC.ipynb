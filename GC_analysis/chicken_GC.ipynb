{
 "cells": [
  {
   "cell_type": "code",
   "execution_count": 50,
   "id": "f00296b7-8212-4dc3-8d8d-420c8ecdb3fb",
   "metadata": {
    "tags": []
   },
   "outputs": [],
   "source": [
    "import os\n",
    "import subprocess\n",
    "import Bio\n",
    "from Bio import SeqIO \n",
    "from Bio import AlignIO\n",
    "from Bio.Align import MultipleSeqAlignment\n",
    "import glob\n",
    "from Bio import SeqRecord\n",
    "import pandas as pd\n",
    "import genomicranges as gr\n",
    "from Bio.Seq import Seq\n",
    "import pyranges as pr\n",
    "from Bio import AlignIO, SeqIO"
   ]
  },
  {
   "cell_type": "code",
   "execution_count": 51,
   "id": "d5a33a41-0d42-46e0-bed9-65c0983d8d12",
   "metadata": {
    "tags": []
   },
   "outputs": [
    {
     "name": "stdout",
     "output_type": "stream",
     "text": [
      "DDX3X\n",
      "EIF1AX\n",
      "KDM6A\n",
      "RPS4X\n",
      "ZFX\n",
      "USP9X\n",
      "KDM5C\n"
     ]
    }
   ],
   "source": [
    "g = []\n",
    "gc = []\n",
    "speci = []\n",
    "\n",
    "genes = ['DDX3X', 'EIF1AX', 'KDM6A', 'RPS4X', 'ZFX', 'USP9X', 'KDM5C']\n",
    "\n",
    "for gene in genes: \n",
    "    print(gene)\n",
    "    records = SeqIO.read(myPath + \"/sequences/chicken/\" + 'chicken_' + gene,  \"fasta\")\n",
    "    human_seq = str(records.seq)\n",
    "            \n",
    "    h_gc = ((human_seq.count('G') + human_seq.count('C')) / (human_seq.count('G') + human_seq.count('C') + human_seq.count('A') + human_seq.count('T'))) *100\n",
    "            \n",
    "    gc.append(h_gc)\n",
    "    g.append(gene)\n",
    "    speci.append('chicken')\n",
    "    "
   ]
  },
  {
   "cell_type": "code",
   "execution_count": 52,
   "id": "12a6e59e-6ab5-465b-8f59-e6bb26ffe66f",
   "metadata": {
    "tags": []
   },
   "outputs": [],
   "source": [
    "df = pd.DataFrame((list(zip(g,gc,speci))), columns = ['gene', 'gc', 'species']) "
   ]
  },
  {
   "cell_type": "code",
   "execution_count": 53,
   "id": "43b690c0-f97a-4bbb-a71a-62dd39e539d2",
   "metadata": {
    "tags": []
   },
   "outputs": [
    {
     "data": {
      "text/html": [
       "<div>\n",
       "<style scoped>\n",
       "    .dataframe tbody tr th:only-of-type {\n",
       "        vertical-align: middle;\n",
       "    }\n",
       "\n",
       "    .dataframe tbody tr th {\n",
       "        vertical-align: top;\n",
       "    }\n",
       "\n",
       "    .dataframe thead th {\n",
       "        text-align: right;\n",
       "    }\n",
       "</style>\n",
       "<table border=\"1\" class=\"dataframe\">\n",
       "  <thead>\n",
       "    <tr style=\"text-align: right;\">\n",
       "      <th></th>\n",
       "      <th>gene</th>\n",
       "      <th>gc</th>\n",
       "      <th>species</th>\n",
       "    </tr>\n",
       "  </thead>\n",
       "  <tbody>\n",
       "    <tr>\n",
       "      <th>0</th>\n",
       "      <td>DDX3X</td>\n",
       "      <td>69.061876</td>\n",
       "      <td>chicken</td>\n",
       "    </tr>\n",
       "    <tr>\n",
       "      <th>1</th>\n",
       "      <td>EIF1AX</td>\n",
       "      <td>70.459082</td>\n",
       "      <td>chicken</td>\n",
       "    </tr>\n",
       "    <tr>\n",
       "      <th>2</th>\n",
       "      <td>KDM6A</td>\n",
       "      <td>74.650699</td>\n",
       "      <td>chicken</td>\n",
       "    </tr>\n",
       "    <tr>\n",
       "      <th>3</th>\n",
       "      <td>RPS4X</td>\n",
       "      <td>76.047904</td>\n",
       "      <td>chicken</td>\n",
       "    </tr>\n",
       "    <tr>\n",
       "      <th>4</th>\n",
       "      <td>ZFX</td>\n",
       "      <td>80.838323</td>\n",
       "      <td>chicken</td>\n",
       "    </tr>\n",
       "    <tr>\n",
       "      <th>5</th>\n",
       "      <td>USP9X</td>\n",
       "      <td>79.640719</td>\n",
       "      <td>chicken</td>\n",
       "    </tr>\n",
       "    <tr>\n",
       "      <th>6</th>\n",
       "      <td>KDM5C</td>\n",
       "      <td>71.856287</td>\n",
       "      <td>chicken</td>\n",
       "    </tr>\n",
       "  </tbody>\n",
       "</table>\n",
       "</div>"
      ],
      "text/plain": [
       "     gene         gc  species\n",
       "0   DDX3X  69.061876  chicken\n",
       "1  EIF1AX  70.459082  chicken\n",
       "2   KDM6A  74.650699  chicken\n",
       "3   RPS4X  76.047904  chicken\n",
       "4     ZFX  80.838323  chicken\n",
       "5   USP9X  79.640719  chicken\n",
       "6   KDM5C  71.856287  chicken"
      ]
     },
     "execution_count": 53,
     "metadata": {},
     "output_type": "execute_result"
    }
   ],
   "source": [
    "df"
   ]
  },
  {
   "cell_type": "code",
   "execution_count": 54,
   "id": "5ff2253a-041a-4a79-aedf-0dd18bf99fa3",
   "metadata": {},
   "outputs": [],
   "source": [
    "df.to_csv(myPath, '/tables/chicken_gc.txt', index=False)"
   ]
  },
  {
   "cell_type": "code",
   "execution_count": null,
   "id": "8863ef62-7c4d-4278-80c4-80abfa671120",
   "metadata": {},
   "outputs": [],
   "source": []
  },
  {
   "cell_type": "code",
   "execution_count": null,
   "id": "83537256-c547-4686-b2be-aecc694cc9b1",
   "metadata": {},
   "outputs": [],
   "source": []
  },
  {
   "cell_type": "code",
   "execution_count": null,
   "id": "d278b79d-bf5f-41e1-a7cf-0d9fd036a7c8",
   "metadata": {},
   "outputs": [],
   "source": []
  },
  {
   "cell_type": "code",
   "execution_count": null,
   "id": "895fed99-125b-4937-874c-4e8ce8989fb1",
   "metadata": {},
   "outputs": [],
   "source": []
  },
  {
   "cell_type": "code",
   "execution_count": null,
   "id": "00962f1d-efcc-4254-a4dd-ada4263edd0c",
   "metadata": {},
   "outputs": [],
   "source": []
  }
 ],
 "metadata": {
  "kernelspec": {
   "display_name": "Python 3",
   "language": "python",
   "name": "python3"
  },
  "language_info": {
   "codemirror_mode": {
    "name": "ipython",
    "version": 3
   },
   "file_extension": ".py",
   "mimetype": "text/x-python",
   "name": "python",
   "nbconvert_exporter": "python",
   "pygments_lexer": "ipython3",
   "version": "3.8.10"
  }
 },
 "nbformat": 4,
 "nbformat_minor": 5
}
