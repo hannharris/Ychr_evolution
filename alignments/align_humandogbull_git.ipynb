{
 "cells": [
  {
   "cell_type": "code",
   "execution_count": 1,
   "id": "c55aa666-d81d-48a9-bf4a-f4d453ce466a",
   "metadata": {
    "tags": []
   },
   "outputs": [],
   "source": [
    "import os\n",
    "import subprocess\n",
    "import Bio\n",
    "from Bio import SeqIO \n",
    "from Bio import AlignIO\n",
    "from Bio.Align import MultipleSeqAlignment\n",
    "import glob\n",
    "from Bio import SeqRecord\n",
    "import pandas as pd\n",
    "import genomicranges as gr\n",
    "from Bio.Seq import Seq\n",
    "import pyranges as pr\n",
    "from Bio import AlignIO, SeqIO"
   ]
  },
  {
   "cell_type": "code",
   "execution_count": 3,
   "id": "fac0a00a-b8d6-4771-baef-8eaeb534475b",
   "metadata": {
    "tags": []
   },
   "outputs": [],
   "source": [
    "def make_sbatch_file(filename):\n",
    "    \n",
    "    my_list = [\"#!/bin/bash\", \n",
    "               \"#SBATCH --job-name=all_bz\", \n",
    "               \"#SBATCH --nodes=1\",  \n",
    "               \"#SBATCH --ntasks=1\",                     \n",
    "               \"#SBATCH --cpus-per-task=10\",              \n",
    "               \"#SBATCH --mem=20gb\",                    \n",
    "               \"#SBATCH --partition=20\",                \n",
    "               \"##SBATCH --output all_bz-%j.out\",  \n",
    "               \"#SBATCH --mail-type=ALL\",               \n",
    "               \"#SBATCH --mail-user=hlharris@wi.mit.edu\"] \n",
    "    \n",
    "    with open(filename, \"w\") as file: \n",
    "        for item in my_list:\n",
    "            file.write(item + '\\n') \n",
    "    \n",
    "def calc_zeros(alignment): \n",
    "    count = 0 \n",
    "    return [0 if base == \"-\" else (count := count + 1) for base in alignment[0]]\n",
    "\n",
    "\n",
    "def crop_alignment(start, end, alignment):\n",
    "        \n",
    "    zeros_seq = calc_zeros(alignment)\n",
    "    try:\n",
    "        ix_start = zeros_seq.index(start)\n",
    "        ix_end = zeros_seq.index(end) \n",
    "        cropped_alignment = alignment[:, ix_start:ix_end]\n",
    "        return cropped_alignment\n",
    "    except: \n",
    "        return None\n",
    "    \n",
    "    \n",
    "def concat_alignment(gtf_file, alignment):\n",
    "    complete_align_type = MultipleSeqAlignment([]) \n",
    "    for recordix in range(len(alignment)): \n",
    "        new_record = SeqRecord(\"\")\n",
    "        new_record.id = alignment[recordix].id \n",
    "        new_record.seq = Seq(\"\") #added this \n",
    "\n",
    "        complete_align_type.append(new_record)\n",
    "    \n",
    "    for index, row in gtf_file.iterrows():     \n",
    "        crop_align = crop_alignment(row[3], row[4], alignment)\n",
    "        #print(crop_align)\n",
    "        if crop_align is not None: \n",
    "            for recordix in range(len(crop_align)): \n",
    "                complete_align_type[recordix].seq += crop_align[recordix].seq #append additional sequence\n",
    "        \n",
    "    return complete_align_type\n",
    "\n",
    "def has_ACGT(sequence):\n",
    "    count_ACGT = sum(c in 'ACTG' for c in sequence)\n",
    "    return count_ACGT > len(sequence) / 4 #"
   ]
  },
  {
   "cell_type": "code",
   "execution_count": 1,
   "id": "753e3d88-daf3-4d5c-a297-c77411159db9",
   "metadata": {
    "tags": []
   },
   "outputs": [
    {
     "ename": "SyntaxError",
     "evalue": "invalid syntax (1432213991.py, line 3)",
     "output_type": "error",
     "traceback": [
      "\u001b[0;36m  Cell \u001b[0;32mIn[1], line 3\u001b[0;36m\u001b[0m\n\u001b[0;31m    myPath = #PATH TO GITHUB FOLDER\u001b[0m\n\u001b[0m             ^\u001b[0m\n\u001b[0;31mSyntaxError\u001b[0m\u001b[0;31m:\u001b[0m invalid syntax\n"
     ]
    }
   ],
   "source": [
    "#generate alignment \n",
    "\n",
    "myPath = #PATH TO GITHUB FOLDER \n",
    "\n",
    "genes = ['DDX3X', 'EIF1AX', 'KDM5C', 'KDM6A', 'RPS4X', 'USP9X', 'ZFX']\n",
    "\n",
    "\n",
    "for gene in genes: \n",
    "\n",
    "    tree = '(humanmasked (bull dog))'\n",
    "    \n",
    "    os.chdir(myPath + '/sequences/' + gene)\n",
    "\n",
    "    subprocess.run([\"touch\", \"all_bz.log\"])  #making a new file \n",
    "    \n",
    "    with open(\"all_bz.log\", \"w\") as log_file:\n",
    "        result = subprocess.run(['all_bz', '-', tree], stdout=log_file, stderr=subprocess.PIPE, check=True)\n",
    "        \n",
    "    make_sbatch_file(\"testj1.sh\") #make sbatch file - it makes a new one each time through so you dont have to delete the old one \n",
    "    print(gene) \n",
    "    with open(\"testj1.sh\", \"a\") as file: #append to the file \n",
    "        file.write(\"bash \") \n",
    "        file.write(\"all_bz.log\" + \"\\n\")\n",
    "        file.write(\"tba '\" + tree + \"' *.*.maf tba.maf >&tba.log\" + \"\\n\") \n",
    "        file.write(\"maf_project tba.maf humanmasked '\" + tree + \"' > human_proj.maf\" + \"\\n\") #project from the perspective of the X chr \n",
    "        file.write(\"msa_view -o FASTA human_proj.maf > \" + gene + \"_msa.fa\")\n",
    "        \n",
    "    subprocess.run([\"sbatch\", 'testj1.sh'], stderr=subprocess.PIPE) \n",
    "    print(gene)\n",
    "    os.chdir(myPath + '/sequences/')  \n",
    "\n",
    "    "
   ]
  },
  {
   "cell_type": "code",
   "execution_count": 2,
   "id": "6f52832f-18e9-4585-bba7-3a0856c6cbac",
   "metadata": {
    "tags": []
   },
   "outputs": [
    {
     "ename": "NameError",
     "evalue": "name 'AlignIO' is not defined",
     "output_type": "error",
     "traceback": [
      "\u001b[0;31m---------------------------------------------------------------------------\u001b[0m",
      "\u001b[0;31mNameError\u001b[0m                                 Traceback (most recent call last)",
      "Cell \u001b[0;32mIn[2], line 6\u001b[0m\n\u001b[1;32m      3\u001b[0m regions \u001b[38;5;241m=\u001b[39m [\u001b[38;5;124m\"\u001b[39m\u001b[38;5;124mpromoter\u001b[39m\u001b[38;5;124m\"\u001b[39m, \u001b[38;5;124m\"\u001b[39m\u001b[38;5;124mexon\u001b[39m\u001b[38;5;124m\"\u001b[39m, \u001b[38;5;124m\"\u001b[39m\u001b[38;5;124mintron\u001b[39m\u001b[38;5;124m\"\u001b[39m]   \n\u001b[1;32m      5\u001b[0m \u001b[38;5;28;01mfor\u001b[39;00m gene \u001b[38;5;129;01min\u001b[39;00m genes: \n\u001b[0;32m----> 6\u001b[0m     alignment \u001b[38;5;241m=\u001b[39m \u001b[43mAlignIO\u001b[49m\u001b[38;5;241m.\u001b[39mread(myPath \u001b[38;5;241m+\u001b[39m \u001b[38;5;124m\"\u001b[39m\u001b[38;5;124m/sequences/\u001b[39m\u001b[38;5;124m\"\u001b[39m \u001b[38;5;241m+\u001b[39m gene \u001b[38;5;241m+\u001b[39m \u001b[38;5;124m\"\u001b[39m\u001b[38;5;124m/\u001b[39m\u001b[38;5;124m\"\u001b[39m \u001b[38;5;241m+\u001b[39m gene \u001b[38;5;241m+\u001b[39m \u001b[38;5;124m\"\u001b[39m\u001b[38;5;124m_msa.fa\u001b[39m\u001b[38;5;124m\"\u001b[39m, \u001b[38;5;124m\"\u001b[39m\u001b[38;5;124mfasta\u001b[39m\u001b[38;5;124m\"\u001b[39m)\n\u001b[1;32m      8\u001b[0m     gtf_file \u001b[38;5;241m=\u001b[39m pd\u001b[38;5;241m.\u001b[39mread_csv(myPath \u001b[38;5;241m+\u001b[39m \u001b[38;5;124m\"\u001b[39m\u001b[38;5;124m/tables/\u001b[39m\u001b[38;5;124m\"\u001b[39m \u001b[38;5;241m+\u001b[39m gene \u001b[38;5;241m+\u001b[39m \u001b[38;5;124m\"\u001b[39m\u001b[38;5;124m_gtf_all103023.txt\u001b[39m\u001b[38;5;124m\"\u001b[39m, delimiter\u001b[38;5;241m=\u001b[39m\u001b[38;5;124m\"\u001b[39m\u001b[38;5;130;01m\\t\u001b[39;00m\u001b[38;5;124m\"\u001b[39m, header \u001b[38;5;241m=\u001b[39m \u001b[38;5;28;01mNone\u001b[39;00m) \n\u001b[1;32m     10\u001b[0m     \u001b[38;5;28;01mfor\u001b[39;00m region \u001b[38;5;129;01min\u001b[39;00m regions: \n",
      "\u001b[0;31mNameError\u001b[0m: name 'AlignIO' is not defined"
     ]
    }
   ],
   "source": [
    "#get alignments with no editing of gaps w trimal\n",
    "genes = ['DDX3X', 'EIF1AX', 'KDM5C', 'KDM6A', 'RPS4X', 'USP9X', 'ZFX']\n",
    "regions = [\"promoter\", \"exon\", \"intron\"]   \n",
    "\n",
    "for gene in genes: \n",
    "    alignment = AlignIO.read(myPath + \"/sequences/\" + gene + \"/\" + gene + \"_msa.fa\", \"fasta\")\n",
    "    \n",
    "    gtf_file = pd.read_csv(myPath + \"/tables/\" + gene + \"_gtf_all103023.txt\", delimiter=\"\\t\", header = None) \n",
    "    \n",
    "    for region in regions: \n",
    "        \n",
    "        gtf_file1 = gtf_file[gtf_file[2] == region] \n",
    "        #print(gtf_file1)\n",
    "        returned_align = concat_alignment(gtf_file1,alignment) \n",
    "        #print(gene_pair, returned_align, region)\n",
    "        SeqIO.write(returned_align, myPath + \"/sequences/\" + gene + \"/\" + gene + \"_\" + region + \"_msa.fa\", \"fasta\") #as fasta\n",
    "        SeqIO.write(returned_align, myPath + \"/sequences/\" + gene + \"/\" + gene + \"_\" + region + \"_msa.phy\", \"phylip\") #as phylip\n"
   ]
  },
  {
   "cell_type": "markdown",
   "id": "a2d2826a-e6a5-4d10-a691-4b8ef6d117a2",
   "metadata": {},
   "source": [
    "## generate percent calculations for regions/alignments"
   ]
  },
  {
   "cell_type": "code",
   "execution_count": 24,
   "id": "049824c8-84e5-42f4-bcf9-3a76bb90c5ce",
   "metadata": {},
   "outputs": [],
   "source": [
    "def edit_alignment(records_X, gene, region, specy):\n",
    "\n",
    "    new_alignment = MultipleSeqAlignment([])\n",
    "    \n",
    "    if specy == \"bull\":\n",
    "        records_x_lost = [0,1] \n",
    "    else:\n",
    "        records_x_lost = [0,2]\n",
    "        \n",
    "    for ix in records_x_lost:\n",
    "        \n",
    "        new_record = records_X[ix]\n",
    "     \n",
    "        new_alignment.append(new_record)\n",
    "    \n",
    "    SeqIO.write(new_alignment, myPath + \"/sequences/\" + gene + \"/\" + \"humanmasked.\" + specy + region + \"_gaps_msa.phy\", \"phylip\") #as phylip\n",
    "    \n",
    "    #NEED TO ADD YOUR PATH TO SOFTWARE PROGRAM TRIMAL \n",
    "    subprocess.run(['/lab/page_scratch/hannah/trimal/source/trimal', '-in', myPath + \"/sequences/\" + gene + \"/\" + \"humanmasked.\" + specy + region + \"gaps_msa.phy\", '-out',  myPath +  \"/sequences/\" + gene + \"/\" + \"humanmasked.\" + specy + region + \"_gaps_msa.phy\", '-noallgaps'],  stderr=subprocess.PIPE)\n",
    "\n",
    "    records_X = list(SeqIO.parse( myPath + \"/sequences/\" + gene + \"/\" + \"humanmasked.\" + specy + region + \"_gaps_msa.phy\", \"phylip\"))\n",
    "    \n",
    "    \n",
    "    new_alignment = MultipleSeqAlignment([])\n",
    "    records_x_lost = [0,1] #take edit the alignment since now its only 2 sequences long\n",
    "    \n",
    "    for ix in records_x_lost:\n",
    "    # Replace '*' with '-' in the sequence\n",
    "        \n",
    "        modified_seq  = str(records_X[ix].seq).replace('-', 'K')\n",
    "        modified_seq = str(modified_seq).replace('*', '-')\n",
    "        modified_seq = str(modified_seq).replace('K', '*') #replacing the - w stars - want to keep the gaps for the calculations of % alignments \n",
    "        new_record = records_X[ix]\n",
    "        new_record.seq = Seq(modified_seq)     \n",
    "        new_alignment.append(new_record)\n",
    "                \n",
    "    \n",
    "    SeqIO.write(new_alignment, myPath + \"/sequences/\" + gene + \"/\" + specy + region + \"replgaps_msa.phy\", \"phylip\") #as phylip\n",
    "\n",
    "    subprocess.run(['/lab/page_scratch/hannah/trimal/source/trimal', '-in', myPath + \"/sequences/\" + gene + \"/\" + specy + region + \"replgaps_msa.phy\", '-out', myPath + \"/sequences/\" + gene + \"/\" + specy + region + \"nogaps_msa.phy\", '-gt', '1'],  stderr=subprocess.PIPE)\n",
    "        \n",
    "    try:\n",
    "        new_alignment = list(SeqIO.parse(myPath + \"/sequences/\" + gene + \"/\" + specy + region + \"nogaps_msa.phy\", \"phylip\"))    \n",
    "        return new_alignment\n",
    "          \n",
    "    except: \n",
    "        return []\n",
    "    "
   ]
  },
  {
   "cell_type": "code",
   "execution_count": 3,
   "id": "acd504c8-11f0-4733-9d43-3f1fc5b25937",
   "metadata": {
    "tags": []
   },
   "outputs": [
    {
     "ename": "NameError",
     "evalue": "name 'SeqIO' is not defined",
     "output_type": "error",
     "traceback": [
      "\u001b[0;31m---------------------------------------------------------------------------\u001b[0m",
      "\u001b[0;31mNameError\u001b[0m                                 Traceback (most recent call last)",
      "Cell \u001b[0;32mIn[3], line 15\u001b[0m\n\u001b[1;32m     10\u001b[0m \u001b[38;5;28;01mfor\u001b[39;00m gene \u001b[38;5;129;01min\u001b[39;00m genes: \n\u001b[1;32m     13\u001b[0m     \u001b[38;5;28;01mfor\u001b[39;00m region \u001b[38;5;129;01min\u001b[39;00m regions: \n\u001b[1;32m     14\u001b[0m            \u001b[38;5;66;03m# print(records_X, \"here\")     \u001b[39;00m\n\u001b[0;32m---> 15\u001b[0m             records_X \u001b[38;5;241m=\u001b[39m \u001b[38;5;28mlist\u001b[39m(\u001b[43mSeqIO\u001b[49m\u001b[38;5;241m.\u001b[39mparse(myPath \u001b[38;5;241m+\u001b[39m \u001b[38;5;124m'\u001b[39m\u001b[38;5;124m/sequences/\u001b[39m\u001b[38;5;124m'\u001b[39m \u001b[38;5;241m+\u001b[39m gene \u001b[38;5;241m+\u001b[39m \u001b[38;5;124m\"\u001b[39m\u001b[38;5;124m/\u001b[39m\u001b[38;5;124m\"\u001b[39m \u001b[38;5;241m+\u001b[39m gene \u001b[38;5;241m+\u001b[39m \u001b[38;5;124m\"\u001b[39m\u001b[38;5;124m_\u001b[39m\u001b[38;5;124m\"\u001b[39m \u001b[38;5;241m+\u001b[39m region \u001b[38;5;241m+\u001b[39m \u001b[38;5;124m\"\u001b[39m\u001b[38;5;124m_msa.fa\u001b[39m\u001b[38;5;124m\"\u001b[39m, \u001b[38;5;124m\"\u001b[39m\u001b[38;5;124mfasta\u001b[39m\u001b[38;5;124m\"\u001b[39m)) \n\u001b[1;32m     16\u001b[0m             \u001b[38;5;66;03m#print(records_X[0])\u001b[39;00m\n\u001b[1;32m     17\u001b[0m             \u001b[38;5;28;01mfor\u001b[39;00m specy \u001b[38;5;129;01min\u001b[39;00m species: \n",
      "\u001b[0;31mNameError\u001b[0m: name 'SeqIO' is not defined"
     ]
    }
   ],
   "source": [
    "regions = [\"exon\", \"intron\", \"promoter\"]  \n",
    "genes = ['DDX3X', 'EIF1AX', 'KDM5C', 'KDM6A', 'RPS4X', 'USP9X', 'ZFX']\n",
    "species = [\"dog\", \"bull\"]\n",
    "\n",
    "p = []\n",
    "r = []\n",
    "perc = []\n",
    "speci = []\n",
    "\n",
    "for gene in genes: \n",
    "   \n",
    "    \n",
    "    for region in regions: \n",
    "           # print(records_X, \"here\")     \n",
    "            records_X = list(SeqIO.parse(myPath + '/sequences/' + gene + \"/\" + gene + \"_\" + region + \"_msa.fa\", \"fasta\")) \n",
    "            #print(records_X[0])\n",
    "            for specy in species: \n",
    "                new_alignment = edit_alignment(records_X, gene, region, specy)\n",
    "            \n",
    "                if new_alignment:\n",
    "                    x_gene = new_alignment[0] \n",
    "                    y_gene = new_alignment[1] \n",
    "                    num_matches = sum(a == b for a, b in zip(x_gene, y_gene))\n",
    "             \n",
    "                    percent_identity = (num_matches / len(x_gene)) * 100\n",
    "                    p.append(gene)\n",
    "                    r.append(region) \n",
    "                    speci.append(specy)\n",
    "                    perc.append(percent_identity)\n",
    "                else: \n",
    "                    print(pair, region, \"NONE\")\n",
    "                \n",
    "\n",
    "\n",
    "df = pd.DataFrame((list(zip(p,r,perc, speci))), columns = ['pair', 'region', 'percent', \"species\"]) \n",
    "        \n",
    "        "
   ]
  },
  {
   "cell_type": "code",
   "execution_count": 28,
   "id": "39972764-69b7-4867-80a6-de1e3193acd9",
   "metadata": {},
   "outputs": [],
   "source": [
    "\n",
    "df.to_csv(myPath + '/tables/percent_alignment_1211_dogbull.csv')"
   ]
  },
  {
   "cell_type": "code",
   "execution_count": 76,
   "id": "f0197872-c610-4392-83e1-254ad76797c2",
   "metadata": {},
   "outputs": [],
   "source": [
    "g = []\n",
    "gc = []\n",
    "speci = []\n",
    "regions1 = []\n",
    "\n",
    "regions = [\"exon\", \"intron\", \"promoter\"]  \n",
    "genes = ['DDX3X', 'EIF1AX', 'KDM5C', 'KDM6A', 'RPS4X', 'USP9X', 'ZFX']\n",
    "species = [\"dog\", \"bull\"]\n",
    "\n",
    "\n",
    "for gene in genes: \n",
    "    for region in regions:\n",
    "        for specy in species: \n",
    "            records = AlignIO.read(myPath + \"/sequences/\" + gene + \"/\" + \"humanmasked.\" + specy + region + \"_gaps_msa.phy\", \"phylip\")\n",
    "            human_seq = str(records[0].seq)\n",
    "            animal_seq = str(records[1].seq)\n",
    "            \n",
    "            h_gc = ((human_seq.count('G') + human_seq.count('C')) / (human_seq.count('G') + human_seq.count('C') + human_seq.count('A') + human_seq.count('T'))) *100\n",
    "            a_gc = ((animal_seq.count('G') + animal_seq.count('C')) / (animal_seq.count('G') + animal_seq.count('C') + animal_seq.count('A') + animal_seq.count('T'))) *100\n",
    "            \n",
    "            gc.append(h_gc)\n",
    "            g.append(gene)\n",
    "            speci.append('human')\n",
    "            \n",
    "            regions1.append(region)\n",
    "            \n",
    "            gc.append(a_gc)\n",
    "            g.append(gene)\n",
    "            speci.append(specy)\n",
    "            regions1.append(region) \n"
   ]
  },
  {
   "cell_type": "code",
   "execution_count": 77,
   "id": "541fcb49-558e-4ecf-a7fa-f35ebea8524b",
   "metadata": {},
   "outputs": [],
   "source": [
    "df = pd.DataFrame((list(zip(g,gc,speci, regions1))), columns = ['gene', 'gc', 'species', 'region']) "
   ]
  },
  {
   "cell_type": "code",
   "execution_count": 4,
   "id": "49adbfea-deaf-48ce-ba6b-80d1ea80ef58",
   "metadata": {
    "tags": []
   },
   "outputs": [
    {
     "ename": "NameError",
     "evalue": "name 'df' is not defined",
     "output_type": "error",
     "traceback": [
      "\u001b[0;31m---------------------------------------------------------------------------\u001b[0m",
      "\u001b[0;31mNameError\u001b[0m                                 Traceback (most recent call last)",
      "Cell \u001b[0;32mIn[4], line 1\u001b[0m\n\u001b[0;32m----> 1\u001b[0m \u001b[43mdf\u001b[49m\u001b[38;5;241m.\u001b[39mto_csv(myPath \u001b[38;5;241m+\u001b[39m \u001b[38;5;124m'\u001b[39m\u001b[38;5;124m/tables/percent_GC_1211_dogbull.csv\u001b[39m\u001b[38;5;124m'\u001b[39m)\n",
      "\u001b[0;31mNameError\u001b[0m: name 'df' is not defined"
     ]
    }
   ],
   "source": [
    "df.to_csv(myPath + '/tables/percent_GC_1211_dogbull.csv')"
   ]
  }
 ],
 "metadata": {
  "kernelspec": {
   "display_name": "Python 3",
   "language": "python",
   "name": "python3"
  },
  "language_info": {
   "codemirror_mode": {
    "name": "ipython",
    "version": 3
   },
   "file_extension": ".py",
   "mimetype": "text/x-python",
   "name": "python",
   "nbconvert_exporter": "python",
   "pygments_lexer": "ipython3",
   "version": "3.8.10"
  }
 },
 "nbformat": 4,
 "nbformat_minor": 5
}
