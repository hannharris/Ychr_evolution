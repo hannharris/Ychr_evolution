{
 "cells": [
  {
   "cell_type": "code",
   "execution_count": 3,
   "id": "e166751c-3024-432c-9647-1a6e5b042cd5",
   "metadata": {},
   "outputs": [],
   "source": [
    "import pandas as pd\n",
    "import matplotlib as plt\n",
    "import matplotlib.pyplot as plt\n",
    "import copy\n",
    "from gtfparse import read_gtf\n",
    "import os\n",
    "import pyranges as pr\n"
   ]
  },
  {
   "cell_type": "code",
   "execution_count": 4,
   "id": "b17a86f2-1d1b-4350-a43c-3ffe6b598a1b",
   "metadata": {
    "tags": []
   },
   "outputs": [],
   "source": [
    "gtf_ = pr.read_gtf(\"/nfs/genomes/human_hg38_dec13_no_random/gtf/Homo_sapiens.GRCh38.99.chr.canonical.gtf\") #dowload gtf file from ensembl\n",
    "gtf_ = gtf_.df"
   ]
  },
  {
   "cell_type": "code",
   "execution_count": 16,
   "id": "59eb3d21-5b57-4c3f-b1fb-46851935e749",
   "metadata": {
    "tags": []
   },
   "outputs": [
    {
     "data": {
      "text/plain": [
       "array(['CDS'], dtype=object)"
      ]
     },
     "execution_count": 16,
     "metadata": {},
     "output_type": "execute_result"
    }
   ],
   "source": [
    "genes = [ \"EIF1AX\", \"EIF1AY\", \"KDM5D\" , \"KDM5C\",\"UTY\", \"KDM6A\", \"ZFY\", \"ZFX\", \"DDX3Y\" ,\"DDX3X\", \"USP9Y\" , \"USP9X\", \"RPS4Y1\", \"RPS4X\"] \n",
    "\n",
    "gtf_xy = gtf_[gtf_.gene_name.isin(genes)]\n",
    "\n",
    "#extract the exons and genes\n",
    "gtf_xy = gtf_xy[(gtf_xy['Feature'] == \"CDS\")]\n",
    "\n",
    "gtf_xy['Feature'].unique() \n",
    "gtf_xy['gene_name'].unique()\n",
    "gtf_xy['Feature'].unique() "
   ]
  },
  {
   "cell_type": "code",
   "execution_count": 17,
   "id": "f5e56d43-cf2f-4804-94a2-e4e7c44c285c",
   "metadata": {
    "tags": []
   },
   "outputs": [],
   "source": [
    "def intron_overlapping(exons, intron_start, intron_end):\n",
    "      \n",
    "    for index in range(len(exons)): \n",
    "        exon_st = exons.iloc[index]['Start']\n",
    "        exon_end = exons.iloc[index]['End']\n",
    "        \n",
    "        if ((exon_st >= intron_start) & (exon_st <= intron_end)):\n",
    "            return True\n",
    "        if ((exon_end >= intron_start) & (exon_end <= intron_end)):\n",
    "            return True\n",
    "        \n",
    "        if ((exon_st <= intron_start) & (exon_end >= intron_start)):\n",
    "            return True \n",
    "        if ((exon_st <= intron_end) & (exon_end >= intron_end)):\n",
    "            return True\n",
    "\n",
    "    return False\n"
   ]
  },
  {
   "cell_type": "code",
   "execution_count": 18,
   "id": "ef3dba0d-4456-42da-9dde-f17ae4ddfb2b",
   "metadata": {
    "collapsed": true,
    "jupyter": {
     "outputs_hidden": true
    },
    "tags": []
   },
   "outputs": [
    {
     "name": "stdout",
     "output_type": "stream",
     "text": [
      "<pandas.core.groupby.generic.DataFrameGroupBy object at 0x7f1894077880>\n",
      "adding 20128411 20130415\n",
      "adding 20130707 20132081\n",
      "adding 20132363 20133856\n",
      "adding 20134107 20135637\n",
      "HERE 20135941 20141524\n",
      "adding 20128411 20130415\n",
      "adding 20130707 20132081\n",
      "adding 20132363 20133856\n",
      "adding 20134107 20135637\n",
      "adding 20135941 20138438\n",
      "adding 20138722 20141524\n",
      "<pandas.core.groupby.generic.DataFrameGroupBy object at 0x7f18c413da00>\n",
      "adding 20575987 20579507\n",
      "adding 20579791 20582489\n",
      "adding 20582793 20584373\n",
      "adding 20584624 20587923\n",
      "adding 20588205 20589383\n",
      "adding 20589675 20592240\n",
      "adding 20575987 20579507\n",
      "adding 20579791 20582489\n",
      "HERE 20582793 20587923\n",
      "adding 20588205 20589383\n",
      "adding 20589675 20592240\n"
     ]
    },
    {
     "name": "stderr",
     "output_type": "stream",
     "text": [
      "/tmp/ipykernel_2357504/3447769798.py:37: FutureWarning: The frame.append method is deprecated and will be removed from pandas in a future version. Use pandas.concat instead.\n",
      "  intron_coordinates = intron_coordinates.append(new_row, ignore_index=True)\n",
      "/tmp/ipykernel_2357504/3447769798.py:37: FutureWarning: The frame.append method is deprecated and will be removed from pandas in a future version. Use pandas.concat instead.\n",
      "  intron_coordinates = intron_coordinates.append(new_row, ignore_index=True)\n",
      "/tmp/ipykernel_2357504/3447769798.py:37: FutureWarning: The frame.append method is deprecated and will be removed from pandas in a future version. Use pandas.concat instead.\n",
      "  intron_coordinates = intron_coordinates.append(new_row, ignore_index=True)\n",
      "/tmp/ipykernel_2357504/3447769798.py:37: FutureWarning: The frame.append method is deprecated and will be removed from pandas in a future version. Use pandas.concat instead.\n",
      "  intron_coordinates = intron_coordinates.append(new_row, ignore_index=True)\n",
      "/tmp/ipykernel_2357504/3447769798.py:37: FutureWarning: The frame.append method is deprecated and will be removed from pandas in a future version. Use pandas.concat instead.\n",
      "  intron_coordinates = intron_coordinates.append(new_row, ignore_index=True)\n",
      "/tmp/ipykernel_2357504/3447769798.py:37: FutureWarning: The frame.append method is deprecated and will be removed from pandas in a future version. Use pandas.concat instead.\n",
      "  intron_coordinates = intron_coordinates.append(new_row, ignore_index=True)\n",
      "/tmp/ipykernel_2357504/3447769798.py:37: FutureWarning: The frame.append method is deprecated and will be removed from pandas in a future version. Use pandas.concat instead.\n",
      "  intron_coordinates = intron_coordinates.append(new_row, ignore_index=True)\n",
      "/tmp/ipykernel_2357504/3447769798.py:37: FutureWarning: The frame.append method is deprecated and will be removed from pandas in a future version. Use pandas.concat instead.\n",
      "  intron_coordinates = intron_coordinates.append(new_row, ignore_index=True)\n",
      "/tmp/ipykernel_2357504/3447769798.py:37: FutureWarning: The frame.append method is deprecated and will be removed from pandas in a future version. Use pandas.concat instead.\n",
      "  intron_coordinates = intron_coordinates.append(new_row, ignore_index=True)\n",
      "/tmp/ipykernel_2357504/3447769798.py:37: FutureWarning: The frame.append method is deprecated and will be removed from pandas in a future version. Use pandas.concat instead.\n",
      "  intron_coordinates = intron_coordinates.append(new_row, ignore_index=True)\n",
      "/tmp/ipykernel_2357504/3447769798.py:37: FutureWarning: The frame.append method is deprecated and will be removed from pandas in a future version. Use pandas.concat instead.\n",
      "  intron_coordinates = intron_coordinates.append(new_row, ignore_index=True)\n",
      "/tmp/ipykernel_2357504/3447769798.py:37: FutureWarning: The frame.append method is deprecated and will be removed from pandas in a future version. Use pandas.concat instead.\n",
      "  intron_coordinates = intron_coordinates.append(new_row, ignore_index=True)\n",
      "/tmp/ipykernel_2357504/3447769798.py:37: FutureWarning: The frame.append method is deprecated and will be removed from pandas in a future version. Use pandas.concat instead.\n",
      "  intron_coordinates = intron_coordinates.append(new_row, ignore_index=True)\n",
      "/tmp/ipykernel_2357504/3447769798.py:37: FutureWarning: The frame.append method is deprecated and will be removed from pandas in a future version. Use pandas.concat instead.\n",
      "  intron_coordinates = intron_coordinates.append(new_row, ignore_index=True)\n",
      "/tmp/ipykernel_2357504/3447769798.py:37: FutureWarning: The frame.append method is deprecated and will be removed from pandas in a future version. Use pandas.concat instead.\n",
      "  intron_coordinates = intron_coordinates.append(new_row, ignore_index=True)\n",
      "/tmp/ipykernel_2357504/3447769798.py:37: FutureWarning: The frame.append method is deprecated and will be removed from pandas in a future version. Use pandas.concat instead.\n",
      "  intron_coordinates = intron_coordinates.append(new_row, ignore_index=True)\n",
      "/tmp/ipykernel_2357504/3447769798.py:37: FutureWarning: The frame.append method is deprecated and will be removed from pandas in a future version. Use pandas.concat instead.\n",
      "  intron_coordinates = intron_coordinates.append(new_row, ignore_index=True)\n",
      "/tmp/ipykernel_2357504/3447769798.py:37: FutureWarning: The frame.append method is deprecated and will be removed from pandas in a future version. Use pandas.concat instead.\n",
      "  intron_coordinates = intron_coordinates.append(new_row, ignore_index=True)\n",
      "/tmp/ipykernel_2357504/3447769798.py:37: FutureWarning: The frame.append method is deprecated and will be removed from pandas in a future version. Use pandas.concat instead.\n",
      "  intron_coordinates = intron_coordinates.append(new_row, ignore_index=True)\n",
      "/tmp/ipykernel_2357504/3447769798.py:37: FutureWarning: The frame.append method is deprecated and will be removed from pandas in a future version. Use pandas.concat instead.\n",
      "  intron_coordinates = intron_coordinates.append(new_row, ignore_index=True)\n"
     ]
    },
    {
     "name": "stdout",
     "output_type": "stream",
     "text": [
      "<pandas.core.groupby.generic.DataFrameGroupBy object at 0x7f18f50663d0>\n",
      "adding 19706963 19707046\n",
      "adding 19708523 19708774\n",
      "adding 19709113 19709350\n",
      "adding 19709909 19710275\n",
      "adding 19710572 19715251\n"
     ]
    },
    {
     "name": "stderr",
     "output_type": "stream",
     "text": [
      "/tmp/ipykernel_2357504/3447769798.py:37: FutureWarning: The frame.append method is deprecated and will be removed from pandas in a future version. Use pandas.concat instead.\n",
      "  intron_coordinates = intron_coordinates.append(new_row, ignore_index=True)\n",
      "/tmp/ipykernel_2357504/3447769798.py:37: FutureWarning: The frame.append method is deprecated and will be removed from pandas in a future version. Use pandas.concat instead.\n",
      "  intron_coordinates = intron_coordinates.append(new_row, ignore_index=True)\n",
      "/tmp/ipykernel_2357504/3447769798.py:37: FutureWarning: The frame.append method is deprecated and will be removed from pandas in a future version. Use pandas.concat instead.\n",
      "  intron_coordinates = intron_coordinates.append(new_row, ignore_index=True)\n",
      "/tmp/ipykernel_2357504/3447769798.py:37: FutureWarning: The frame.append method is deprecated and will be removed from pandas in a future version. Use pandas.concat instead.\n",
      "  intron_coordinates = intron_coordinates.append(new_row, ignore_index=True)\n",
      "/tmp/ipykernel_2357504/3447769798.py:37: FutureWarning: The frame.append method is deprecated and will be removed from pandas in a future version. Use pandas.concat instead.\n",
      "  intron_coordinates = intron_coordinates.append(new_row, ignore_index=True)\n",
      "/tmp/ipykernel_2357504/3447769798.py:37: FutureWarning: The frame.append method is deprecated and will be removed from pandas in a future version. Use pandas.concat instead.\n",
      "  intron_coordinates = intron_coordinates.append(new_row, ignore_index=True)\n"
     ]
    },
    {
     "name": "stdout",
     "output_type": "stream",
     "text": [
      "adding 19716104 19716178\n",
      "adding 19716815 19720771\n",
      "HERE 19721411 19731671\n",
      "adding 19732265 19732483\n",
      "adding 19732842 19735251\n",
      "adding 19735850 19739427\n"
     ]
    },
    {
     "name": "stderr",
     "output_type": "stream",
     "text": [
      "/tmp/ipykernel_2357504/3447769798.py:37: FutureWarning: The frame.append method is deprecated and will be removed from pandas in a future version. Use pandas.concat instead.\n",
      "  intron_coordinates = intron_coordinates.append(new_row, ignore_index=True)\n",
      "/tmp/ipykernel_2357504/3447769798.py:37: FutureWarning: The frame.append method is deprecated and will be removed from pandas in a future version. Use pandas.concat instead.\n",
      "  intron_coordinates = intron_coordinates.append(new_row, ignore_index=True)\n",
      "/tmp/ipykernel_2357504/3447769798.py:37: FutureWarning: The frame.append method is deprecated and will be removed from pandas in a future version. Use pandas.concat instead.\n",
      "  intron_coordinates = intron_coordinates.append(new_row, ignore_index=True)\n",
      "/tmp/ipykernel_2357504/3447769798.py:37: FutureWarning: The frame.append method is deprecated and will be removed from pandas in a future version. Use pandas.concat instead.\n",
      "  intron_coordinates = intron_coordinates.append(new_row, ignore_index=True)\n",
      "/tmp/ipykernel_2357504/3447769798.py:37: FutureWarning: The frame.append method is deprecated and will be removed from pandas in a future version. Use pandas.concat instead.\n",
      "  intron_coordinates = intron_coordinates.append(new_row, ignore_index=True)\n",
      "/tmp/ipykernel_2357504/3447769798.py:37: FutureWarning: The frame.append method is deprecated and will be removed from pandas in a future version. Use pandas.concat instead.\n",
      "  intron_coordinates = intron_coordinates.append(new_row, ignore_index=True)\n"
     ]
    },
    {
     "name": "stdout",
     "output_type": "stream",
     "text": [
      "adding 19739762 19741217\n",
      "adding 19741588 19741634\n",
      "adding 19741957 19743061\n",
      "adding 19743339 19744284\n",
      "adding 19706963 19707046\n",
      "adding 19708523 19708774\n"
     ]
    },
    {
     "name": "stderr",
     "output_type": "stream",
     "text": [
      "/tmp/ipykernel_2357504/3447769798.py:37: FutureWarning: The frame.append method is deprecated and will be removed from pandas in a future version. Use pandas.concat instead.\n",
      "  intron_coordinates = intron_coordinates.append(new_row, ignore_index=True)\n",
      "/tmp/ipykernel_2357504/3447769798.py:37: FutureWarning: The frame.append method is deprecated and will be removed from pandas in a future version. Use pandas.concat instead.\n",
      "  intron_coordinates = intron_coordinates.append(new_row, ignore_index=True)\n",
      "/tmp/ipykernel_2357504/3447769798.py:37: FutureWarning: The frame.append method is deprecated and will be removed from pandas in a future version. Use pandas.concat instead.\n",
      "  intron_coordinates = intron_coordinates.append(new_row, ignore_index=True)\n",
      "/tmp/ipykernel_2357504/3447769798.py:37: FutureWarning: The frame.append method is deprecated and will be removed from pandas in a future version. Use pandas.concat instead.\n",
      "  intron_coordinates = intron_coordinates.append(new_row, ignore_index=True)\n",
      "/tmp/ipykernel_2357504/3447769798.py:37: FutureWarning: The frame.append method is deprecated and will be removed from pandas in a future version. Use pandas.concat instead.\n",
      "  intron_coordinates = intron_coordinates.append(new_row, ignore_index=True)\n",
      "/tmp/ipykernel_2357504/3447769798.py:37: FutureWarning: The frame.append method is deprecated and will be removed from pandas in a future version. Use pandas.concat instead.\n",
      "  intron_coordinates = intron_coordinates.append(new_row, ignore_index=True)\n"
     ]
    },
    {
     "name": "stdout",
     "output_type": "stream",
     "text": [
      "adding 19709113 19709350\n",
      "adding 19709909 19710275\n",
      "adding 19710572 19715251\n",
      "adding 19716104 19716178\n",
      "adding 19716815 19720771\n",
      "HERE 19721411 19731671\n"
     ]
    },
    {
     "name": "stderr",
     "output_type": "stream",
     "text": [
      "/tmp/ipykernel_2357504/3447769798.py:37: FutureWarning: The frame.append method is deprecated and will be removed from pandas in a future version. Use pandas.concat instead.\n",
      "  intron_coordinates = intron_coordinates.append(new_row, ignore_index=True)\n",
      "/tmp/ipykernel_2357504/3447769798.py:37: FutureWarning: The frame.append method is deprecated and will be removed from pandas in a future version. Use pandas.concat instead.\n",
      "  intron_coordinates = intron_coordinates.append(new_row, ignore_index=True)\n",
      "/tmp/ipykernel_2357504/3447769798.py:37: FutureWarning: The frame.append method is deprecated and will be removed from pandas in a future version. Use pandas.concat instead.\n",
      "  intron_coordinates = intron_coordinates.append(new_row, ignore_index=True)\n",
      "/tmp/ipykernel_2357504/3447769798.py:37: FutureWarning: The frame.append method is deprecated and will be removed from pandas in a future version. Use pandas.concat instead.\n",
      "  intron_coordinates = intron_coordinates.append(new_row, ignore_index=True)\n",
      "/tmp/ipykernel_2357504/3447769798.py:37: FutureWarning: The frame.append method is deprecated and will be removed from pandas in a future version. Use pandas.concat instead.\n",
      "  intron_coordinates = intron_coordinates.append(new_row, ignore_index=True)\n",
      "/tmp/ipykernel_2357504/3447769798.py:37: FutureWarning: The frame.append method is deprecated and will be removed from pandas in a future version. Use pandas.concat instead.\n",
      "  intron_coordinates = intron_coordinates.append(new_row, ignore_index=True)\n"
     ]
    },
    {
     "name": "stdout",
     "output_type": "stream",
     "text": [
      "adding 19732265 19732483\n",
      "adding 19732842 19735251\n",
      "adding 19735850 19739427\n",
      "HERE 19739762 19741634\n",
      "adding 19741957 19743061\n",
      "adding 19743339 19744284\n"
     ]
    },
    {
     "name": "stderr",
     "output_type": "stream",
     "text": [
      "/tmp/ipykernel_2357504/3447769798.py:37: FutureWarning: The frame.append method is deprecated and will be removed from pandas in a future version. Use pandas.concat instead.\n",
      "  intron_coordinates = intron_coordinates.append(new_row, ignore_index=True)\n",
      "/tmp/ipykernel_2357504/3447769798.py:37: FutureWarning: The frame.append method is deprecated and will be removed from pandas in a future version. Use pandas.concat instead.\n",
      "  intron_coordinates = intron_coordinates.append(new_row, ignore_index=True)\n",
      "/tmp/ipykernel_2357504/3447769798.py:37: FutureWarning: The frame.append method is deprecated and will be removed from pandas in a future version. Use pandas.concat instead.\n",
      "  intron_coordinates = intron_coordinates.append(new_row, ignore_index=True)\n",
      "/tmp/ipykernel_2357504/3447769798.py:37: FutureWarning: The frame.append method is deprecated and will be removed from pandas in a future version. Use pandas.concat instead.\n",
      "  intron_coordinates = intron_coordinates.append(new_row, ignore_index=True)\n",
      "/tmp/ipykernel_2357504/3447769798.py:37: FutureWarning: The frame.append method is deprecated and will be removed from pandas in a future version. Use pandas.concat instead.\n",
      "  intron_coordinates = intron_coordinates.append(new_row, ignore_index=True)\n",
      "/tmp/ipykernel_2357504/3447769798.py:37: FutureWarning: The frame.append method is deprecated and will be removed from pandas in a future version. Use pandas.concat instead.\n",
      "  intron_coordinates = intron_coordinates.append(new_row, ignore_index=True)\n"
     ]
    },
    {
     "name": "stdout",
     "output_type": "stream",
     "text": [
      "adding 19708171 19708221\n",
      "adding 19708523 19708774\n",
      "adding 19706963 19707046\n",
      "adding 19708523 19708774\n",
      "adding 19709113 19709350\n",
      "adding 19709909 19710275\n"
     ]
    },
    {
     "name": "stderr",
     "output_type": "stream",
     "text": [
      "/tmp/ipykernel_2357504/3447769798.py:37: FutureWarning: The frame.append method is deprecated and will be removed from pandas in a future version. Use pandas.concat instead.\n",
      "  intron_coordinates = intron_coordinates.append(new_row, ignore_index=True)\n",
      "/tmp/ipykernel_2357504/3447769798.py:37: FutureWarning: The frame.append method is deprecated and will be removed from pandas in a future version. Use pandas.concat instead.\n",
      "  intron_coordinates = intron_coordinates.append(new_row, ignore_index=True)\n",
      "/tmp/ipykernel_2357504/3447769798.py:37: FutureWarning: The frame.append method is deprecated and will be removed from pandas in a future version. Use pandas.concat instead.\n",
      "  intron_coordinates = intron_coordinates.append(new_row, ignore_index=True)\n",
      "/tmp/ipykernel_2357504/3447769798.py:37: FutureWarning: The frame.append method is deprecated and will be removed from pandas in a future version. Use pandas.concat instead.\n",
      "  intron_coordinates = intron_coordinates.append(new_row, ignore_index=True)\n",
      "/tmp/ipykernel_2357504/3447769798.py:37: FutureWarning: The frame.append method is deprecated and will be removed from pandas in a future version. Use pandas.concat instead.\n",
      "  intron_coordinates = intron_coordinates.append(new_row, ignore_index=True)\n",
      "/tmp/ipykernel_2357504/3447769798.py:37: FutureWarning: The frame.append method is deprecated and will be removed from pandas in a future version. Use pandas.concat instead.\n",
      "  intron_coordinates = intron_coordinates.append(new_row, ignore_index=True)\n"
     ]
    },
    {
     "name": "stdout",
     "output_type": "stream",
     "text": [
      "adding 19710572 19715251\n",
      "adding 19716104 19716178\n",
      "adding 19716815 19720771\n",
      "HERE 19721411 19731671\n",
      "adding 19732265 19732483\n",
      "adding 19732842 19735251\n"
     ]
    },
    {
     "name": "stderr",
     "output_type": "stream",
     "text": [
      "/tmp/ipykernel_2357504/3447769798.py:37: FutureWarning: The frame.append method is deprecated and will be removed from pandas in a future version. Use pandas.concat instead.\n",
      "  intron_coordinates = intron_coordinates.append(new_row, ignore_index=True)\n",
      "/tmp/ipykernel_2357504/3447769798.py:37: FutureWarning: The frame.append method is deprecated and will be removed from pandas in a future version. Use pandas.concat instead.\n",
      "  intron_coordinates = intron_coordinates.append(new_row, ignore_index=True)\n",
      "/tmp/ipykernel_2357504/3447769798.py:37: FutureWarning: The frame.append method is deprecated and will be removed from pandas in a future version. Use pandas.concat instead.\n",
      "  intron_coordinates = intron_coordinates.append(new_row, ignore_index=True)\n",
      "/tmp/ipykernel_2357504/3447769798.py:37: FutureWarning: The frame.append method is deprecated and will be removed from pandas in a future version. Use pandas.concat instead.\n",
      "  intron_coordinates = intron_coordinates.append(new_row, ignore_index=True)\n",
      "/tmp/ipykernel_2357504/3447769798.py:37: FutureWarning: The frame.append method is deprecated and will be removed from pandas in a future version. Use pandas.concat instead.\n",
      "  intron_coordinates = intron_coordinates.append(new_row, ignore_index=True)\n"
     ]
    },
    {
     "name": "stdout",
     "output_type": "stream",
     "text": [
      "adding 19735850 19739427\n",
      "adding 19739762 19741217\n",
      "HERE 19741588 19743061\n",
      "adding 19743339 19744284\n",
      "HERE 19721411 19731671\n",
      "adding 19732265 19732483\n",
      "adding 19732842 19735251\n"
     ]
    },
    {
     "name": "stderr",
     "output_type": "stream",
     "text": [
      "/tmp/ipykernel_2357504/3447769798.py:37: FutureWarning: The frame.append method is deprecated and will be removed from pandas in a future version. Use pandas.concat instead.\n",
      "  intron_coordinates = intron_coordinates.append(new_row, ignore_index=True)\n",
      "/tmp/ipykernel_2357504/3447769798.py:37: FutureWarning: The frame.append method is deprecated and will be removed from pandas in a future version. Use pandas.concat instead.\n",
      "  intron_coordinates = intron_coordinates.append(new_row, ignore_index=True)\n",
      "/tmp/ipykernel_2357504/3447769798.py:37: FutureWarning: The frame.append method is deprecated and will be removed from pandas in a future version. Use pandas.concat instead.\n",
      "  intron_coordinates = intron_coordinates.append(new_row, ignore_index=True)\n",
      "/tmp/ipykernel_2357504/3447769798.py:37: FutureWarning: The frame.append method is deprecated and will be removed from pandas in a future version. Use pandas.concat instead.\n",
      "  intron_coordinates = intron_coordinates.append(new_row, ignore_index=True)\n",
      "/tmp/ipykernel_2357504/3447769798.py:37: FutureWarning: The frame.append method is deprecated and will be removed from pandas in a future version. Use pandas.concat instead.\n",
      "  intron_coordinates = intron_coordinates.append(new_row, ignore_index=True)\n"
     ]
    },
    {
     "name": "stdout",
     "output_type": "stream",
     "text": [
      "HERE 19735850 19741217\n",
      "adding 19741588 19741634\n",
      "adding 19741957 19743061\n",
      "adding 19743339 19744284\n",
      "adding 19706963 19707046\n",
      "adding 19708523 19708774\n"
     ]
    },
    {
     "name": "stderr",
     "output_type": "stream",
     "text": [
      "/tmp/ipykernel_2357504/3447769798.py:37: FutureWarning: The frame.append method is deprecated and will be removed from pandas in a future version. Use pandas.concat instead.\n",
      "  intron_coordinates = intron_coordinates.append(new_row, ignore_index=True)\n",
      "/tmp/ipykernel_2357504/3447769798.py:37: FutureWarning: The frame.append method is deprecated and will be removed from pandas in a future version. Use pandas.concat instead.\n",
      "  intron_coordinates = intron_coordinates.append(new_row, ignore_index=True)\n",
      "/tmp/ipykernel_2357504/3447769798.py:37: FutureWarning: The frame.append method is deprecated and will be removed from pandas in a future version. Use pandas.concat instead.\n",
      "  intron_coordinates = intron_coordinates.append(new_row, ignore_index=True)\n",
      "/tmp/ipykernel_2357504/3447769798.py:37: FutureWarning: The frame.append method is deprecated and will be removed from pandas in a future version. Use pandas.concat instead.\n",
      "  intron_coordinates = intron_coordinates.append(new_row, ignore_index=True)\n",
      "/tmp/ipykernel_2357504/3447769798.py:37: FutureWarning: The frame.append method is deprecated and will be removed from pandas in a future version. Use pandas.concat instead.\n",
      "  intron_coordinates = intron_coordinates.append(new_row, ignore_index=True)\n",
      "/tmp/ipykernel_2357504/3447769798.py:37: FutureWarning: The frame.append method is deprecated and will be removed from pandas in a future version. Use pandas.concat instead.\n",
      "  intron_coordinates = intron_coordinates.append(new_row, ignore_index=True)\n"
     ]
    },
    {
     "name": "stdout",
     "output_type": "stream",
     "text": [
      "adding 19709113 19709350\n",
      "adding 19709909 19710275\n",
      "adding 19710572 19715251\n",
      "adding 19716104 19716178\n",
      "adding 19716815 19720771\n",
      "adding 19721411 19723240\n"
     ]
    },
    {
     "name": "stderr",
     "output_type": "stream",
     "text": [
      "/tmp/ipykernel_2357504/3447769798.py:37: FutureWarning: The frame.append method is deprecated and will be removed from pandas in a future version. Use pandas.concat instead.\n",
      "  intron_coordinates = intron_coordinates.append(new_row, ignore_index=True)\n",
      "/tmp/ipykernel_2357504/3447769798.py:37: FutureWarning: The frame.append method is deprecated and will be removed from pandas in a future version. Use pandas.concat instead.\n",
      "  intron_coordinates = intron_coordinates.append(new_row, ignore_index=True)\n",
      "/tmp/ipykernel_2357504/3447769798.py:37: FutureWarning: The frame.append method is deprecated and will be removed from pandas in a future version. Use pandas.concat instead.\n",
      "  intron_coordinates = intron_coordinates.append(new_row, ignore_index=True)\n",
      "/tmp/ipykernel_2357504/3447769798.py:37: FutureWarning: The frame.append method is deprecated and will be removed from pandas in a future version. Use pandas.concat instead.\n",
      "  intron_coordinates = intron_coordinates.append(new_row, ignore_index=True)\n",
      "/tmp/ipykernel_2357504/3447769798.py:37: FutureWarning: The frame.append method is deprecated and will be removed from pandas in a future version. Use pandas.concat instead.\n",
      "  intron_coordinates = intron_coordinates.append(new_row, ignore_index=True)\n",
      "/tmp/ipykernel_2357504/3447769798.py:37: FutureWarning: The frame.append method is deprecated and will be removed from pandas in a future version. Use pandas.concat instead.\n",
      "  intron_coordinates = intron_coordinates.append(new_row, ignore_index=True)\n"
     ]
    },
    {
     "name": "stdout",
     "output_type": "stream",
     "text": [
      "adding 19723533 19731671\n",
      "adding 19732265 19732483\n",
      "adding 19732842 19735251\n",
      "adding 19735850 19739427\n",
      "adding 19739762 19741217\n",
      "adding 19741588 19741634\n"
     ]
    },
    {
     "name": "stderr",
     "output_type": "stream",
     "text": [
      "/tmp/ipykernel_2357504/3447769798.py:37: FutureWarning: The frame.append method is deprecated and will be removed from pandas in a future version. Use pandas.concat instead.\n",
      "  intron_coordinates = intron_coordinates.append(new_row, ignore_index=True)\n",
      "/tmp/ipykernel_2357504/3447769798.py:37: FutureWarning: The frame.append method is deprecated and will be removed from pandas in a future version. Use pandas.concat instead.\n",
      "  intron_coordinates = intron_coordinates.append(new_row, ignore_index=True)\n",
      "/tmp/ipykernel_2357504/3447769798.py:37: FutureWarning: The frame.append method is deprecated and will be removed from pandas in a future version. Use pandas.concat instead.\n",
      "  intron_coordinates = intron_coordinates.append(new_row, ignore_index=True)\n",
      "/tmp/ipykernel_2357504/3447769798.py:37: FutureWarning: The frame.append method is deprecated and will be removed from pandas in a future version. Use pandas.concat instead.\n",
      "  intron_coordinates = intron_coordinates.append(new_row, ignore_index=True)\n",
      "/tmp/ipykernel_2357504/3447769798.py:37: FutureWarning: The frame.append method is deprecated and will be removed from pandas in a future version. Use pandas.concat instead.\n",
      "  intron_coordinates = intron_coordinates.append(new_row, ignore_index=True)\n",
      "/tmp/ipykernel_2357504/3447769798.py:37: FutureWarning: The frame.append method is deprecated and will be removed from pandas in a future version. Use pandas.concat instead.\n",
      "  intron_coordinates = intron_coordinates.append(new_row, ignore_index=True)\n"
     ]
    },
    {
     "name": "stdout",
     "output_type": "stream",
     "text": [
      "adding 19741957 19743061\n",
      "adding 19743339 19744284\n",
      "<pandas.core.groupby.generic.DataFrameGroupBy object at 0x7f18e3607a30>\n",
      "adding 53221893 53224639\n",
      "adding 53193951 53194038\n",
      "adding 53195510 53195815\n",
      "adding 53196154 53196585\n"
     ]
    },
    {
     "name": "stderr",
     "output_type": "stream",
     "text": [
      "/tmp/ipykernel_2357504/3447769798.py:37: FutureWarning: The frame.append method is deprecated and will be removed from pandas in a future version. Use pandas.concat instead.\n",
      "  intron_coordinates = intron_coordinates.append(new_row, ignore_index=True)\n",
      "/tmp/ipykernel_2357504/3447769798.py:37: FutureWarning: The frame.append method is deprecated and will be removed from pandas in a future version. Use pandas.concat instead.\n",
      "  intron_coordinates = intron_coordinates.append(new_row, ignore_index=True)\n",
      "/tmp/ipykernel_2357504/3447769798.py:37: FutureWarning: The frame.append method is deprecated and will be removed from pandas in a future version. Use pandas.concat instead.\n",
      "  intron_coordinates = intron_coordinates.append(new_row, ignore_index=True)\n",
      "/tmp/ipykernel_2357504/3447769798.py:37: FutureWarning: The frame.append method is deprecated and will be removed from pandas in a future version. Use pandas.concat instead.\n",
      "  intron_coordinates = intron_coordinates.append(new_row, ignore_index=True)\n",
      "/tmp/ipykernel_2357504/3447769798.py:37: FutureWarning: The frame.append method is deprecated and will be removed from pandas in a future version. Use pandas.concat instead.\n",
      "  intron_coordinates = intron_coordinates.append(new_row, ignore_index=True)\n"
     ]
    },
    {
     "name": "stdout",
     "output_type": "stream",
     "text": [
      "adding 53197144 53197670\n",
      "adding 53197976 53198389\n",
      "adding 53199258 53201449\n",
      "adding 53202073 53210313\n",
      "adding 53210957 53211396\n"
     ]
    },
    {
     "name": "stderr",
     "output_type": "stream",
     "text": [
      "/tmp/ipykernel_2357504/3447769798.py:37: FutureWarning: The frame.append method is deprecated and will be removed from pandas in a future version. Use pandas.concat instead.\n",
      "  intron_coordinates = intron_coordinates.append(new_row, ignore_index=True)\n",
      "/tmp/ipykernel_2357504/3447769798.py:37: FutureWarning: The frame.append method is deprecated and will be removed from pandas in a future version. Use pandas.concat instead.\n",
      "  intron_coordinates = intron_coordinates.append(new_row, ignore_index=True)\n",
      "/tmp/ipykernel_2357504/3447769798.py:37: FutureWarning: The frame.append method is deprecated and will be removed from pandas in a future version. Use pandas.concat instead.\n",
      "  intron_coordinates = intron_coordinates.append(new_row, ignore_index=True)\n",
      "/tmp/ipykernel_2357504/3447769798.py:37: FutureWarning: The frame.append method is deprecated and will be removed from pandas in a future version. Use pandas.concat instead.\n",
      "  intron_coordinates = intron_coordinates.append(new_row, ignore_index=True)\n",
      "/tmp/ipykernel_2357504/3447769798.py:37: FutureWarning: The frame.append method is deprecated and will be removed from pandas in a future version. Use pandas.concat instead.\n",
      "  intron_coordinates = intron_coordinates.append(new_row, ignore_index=True)\n"
     ]
    },
    {
     "name": "stdout",
     "output_type": "stream",
     "text": [
      "adding 53212006 53214588\n",
      "adding 53214947 53215694\n",
      "adding 53216297 53217042\n",
      "adding 53217377 53217695\n",
      "adding 53218066 53218175\n",
      "HERE 53218498 53220738\n"
     ]
    },
    {
     "name": "stderr",
     "output_type": "stream",
     "text": [
      "/tmp/ipykernel_2357504/3447769798.py:37: FutureWarning: The frame.append method is deprecated and will be removed from pandas in a future version. Use pandas.concat instead.\n",
      "  intron_coordinates = intron_coordinates.append(new_row, ignore_index=True)\n",
      "/tmp/ipykernel_2357504/3447769798.py:37: FutureWarning: The frame.append method is deprecated and will be removed from pandas in a future version. Use pandas.concat instead.\n",
      "  intron_coordinates = intron_coordinates.append(new_row, ignore_index=True)\n",
      "/tmp/ipykernel_2357504/3447769798.py:37: FutureWarning: The frame.append method is deprecated and will be removed from pandas in a future version. Use pandas.concat instead.\n",
      "  intron_coordinates = intron_coordinates.append(new_row, ignore_index=True)\n",
      "/tmp/ipykernel_2357504/3447769798.py:37: FutureWarning: The frame.append method is deprecated and will be removed from pandas in a future version. Use pandas.concat instead.\n",
      "  intron_coordinates = intron_coordinates.append(new_row, ignore_index=True)\n"
     ]
    },
    {
     "name": "stdout",
     "output_type": "stream",
     "text": [
      "HERE 53221016 53224639\n",
      "adding 53193951 53194038\n",
      "adding 53195510 53195815\n",
      "adding 53196154 53196585\n",
      "adding 53197144 53197670\n",
      "adding 53197976 53198389\n"
     ]
    },
    {
     "name": "stderr",
     "output_type": "stream",
     "text": [
      "/tmp/ipykernel_2357504/3447769798.py:37: FutureWarning: The frame.append method is deprecated and will be removed from pandas in a future version. Use pandas.concat instead.\n",
      "  intron_coordinates = intron_coordinates.append(new_row, ignore_index=True)\n",
      "/tmp/ipykernel_2357504/3447769798.py:37: FutureWarning: The frame.append method is deprecated and will be removed from pandas in a future version. Use pandas.concat instead.\n",
      "  intron_coordinates = intron_coordinates.append(new_row, ignore_index=True)\n",
      "/tmp/ipykernel_2357504/3447769798.py:37: FutureWarning: The frame.append method is deprecated and will be removed from pandas in a future version. Use pandas.concat instead.\n",
      "  intron_coordinates = intron_coordinates.append(new_row, ignore_index=True)\n",
      "/tmp/ipykernel_2357504/3447769798.py:37: FutureWarning: The frame.append method is deprecated and will be removed from pandas in a future version. Use pandas.concat instead.\n",
      "  intron_coordinates = intron_coordinates.append(new_row, ignore_index=True)\n",
      "/tmp/ipykernel_2357504/3447769798.py:37: FutureWarning: The frame.append method is deprecated and will be removed from pandas in a future version. Use pandas.concat instead.\n",
      "  intron_coordinates = intron_coordinates.append(new_row, ignore_index=True)\n"
     ]
    },
    {
     "name": "stdout",
     "output_type": "stream",
     "text": [
      "adding 53199258 53201449\n",
      "adding 53202073 53210313\n",
      "adding 53210957 53211396\n",
      "adding 53212006 53214588\n",
      "adding 53214947 53215694\n"
     ]
    },
    {
     "name": "stderr",
     "output_type": "stream",
     "text": [
      "/tmp/ipykernel_2357504/3447769798.py:37: FutureWarning: The frame.append method is deprecated and will be removed from pandas in a future version. Use pandas.concat instead.\n",
      "  intron_coordinates = intron_coordinates.append(new_row, ignore_index=True)\n",
      "/tmp/ipykernel_2357504/3447769798.py:37: FutureWarning: The frame.append method is deprecated and will be removed from pandas in a future version. Use pandas.concat instead.\n",
      "  intron_coordinates = intron_coordinates.append(new_row, ignore_index=True)\n",
      "/tmp/ipykernel_2357504/3447769798.py:37: FutureWarning: The frame.append method is deprecated and will be removed from pandas in a future version. Use pandas.concat instead.\n",
      "  intron_coordinates = intron_coordinates.append(new_row, ignore_index=True)\n",
      "/tmp/ipykernel_2357504/3447769798.py:37: FutureWarning: The frame.append method is deprecated and will be removed from pandas in a future version. Use pandas.concat instead.\n",
      "  intron_coordinates = intron_coordinates.append(new_row, ignore_index=True)\n"
     ]
    },
    {
     "name": "stdout",
     "output_type": "stream",
     "text": [
      "adding 53216297 53217042\n",
      "adding 53217377 53217695\n",
      "HERE 53218066 53220738\n",
      "HERE 53221016 53224639\n",
      "adding 53193951 53194038\n",
      "adding 53195510 53195815\n"
     ]
    },
    {
     "name": "stderr",
     "output_type": "stream",
     "text": [
      "/tmp/ipykernel_2357504/3447769798.py:37: FutureWarning: The frame.append method is deprecated and will be removed from pandas in a future version. Use pandas.concat instead.\n",
      "  intron_coordinates = intron_coordinates.append(new_row, ignore_index=True)\n",
      "/tmp/ipykernel_2357504/3447769798.py:37: FutureWarning: The frame.append method is deprecated and will be removed from pandas in a future version. Use pandas.concat instead.\n",
      "  intron_coordinates = intron_coordinates.append(new_row, ignore_index=True)\n",
      "/tmp/ipykernel_2357504/3447769798.py:37: FutureWarning: The frame.append method is deprecated and will be removed from pandas in a future version. Use pandas.concat instead.\n",
      "  intron_coordinates = intron_coordinates.append(new_row, ignore_index=True)\n",
      "/tmp/ipykernel_2357504/3447769798.py:37: FutureWarning: The frame.append method is deprecated and will be removed from pandas in a future version. Use pandas.concat instead.\n",
      "  intron_coordinates = intron_coordinates.append(new_row, ignore_index=True)\n",
      "/tmp/ipykernel_2357504/3447769798.py:37: FutureWarning: The frame.append method is deprecated and will be removed from pandas in a future version. Use pandas.concat instead.\n",
      "  intron_coordinates = intron_coordinates.append(new_row, ignore_index=True)\n"
     ]
    },
    {
     "name": "stdout",
     "output_type": "stream",
     "text": [
      "adding 53196154 53196585\n",
      "adding 53197144 53197670\n",
      "adding 53197976 53198389\n",
      "adding 53199258 53201449\n",
      "adding 53202073 53210313\n"
     ]
    },
    {
     "name": "stderr",
     "output_type": "stream",
     "text": [
      "/tmp/ipykernel_2357504/3447769798.py:37: FutureWarning: The frame.append method is deprecated and will be removed from pandas in a future version. Use pandas.concat instead.\n",
      "  intron_coordinates = intron_coordinates.append(new_row, ignore_index=True)\n",
      "/tmp/ipykernel_2357504/3447769798.py:37: FutureWarning: The frame.append method is deprecated and will be removed from pandas in a future version. Use pandas.concat instead.\n",
      "  intron_coordinates = intron_coordinates.append(new_row, ignore_index=True)\n",
      "/tmp/ipykernel_2357504/3447769798.py:37: FutureWarning: The frame.append method is deprecated and will be removed from pandas in a future version. Use pandas.concat instead.\n",
      "  intron_coordinates = intron_coordinates.append(new_row, ignore_index=True)\n",
      "/tmp/ipykernel_2357504/3447769798.py:37: FutureWarning: The frame.append method is deprecated and will be removed from pandas in a future version. Use pandas.concat instead.\n",
      "  intron_coordinates = intron_coordinates.append(new_row, ignore_index=True)\n",
      "/tmp/ipykernel_2357504/3447769798.py:37: FutureWarning: The frame.append method is deprecated and will be removed from pandas in a future version. Use pandas.concat instead.\n",
      "  intron_coordinates = intron_coordinates.append(new_row, ignore_index=True)\n"
     ]
    },
    {
     "name": "stdout",
     "output_type": "stream",
     "text": [
      "adding 53210957 53211396\n",
      "adding 53212006 53214588\n",
      "adding 53214947 53215694\n",
      "adding 53216297 53217042\n",
      "adding 53217377 53217695\n"
     ]
    },
    {
     "name": "stderr",
     "output_type": "stream",
     "text": [
      "/tmp/ipykernel_2357504/3447769798.py:37: FutureWarning: The frame.append method is deprecated and will be removed from pandas in a future version. Use pandas.concat instead.\n",
      "  intron_coordinates = intron_coordinates.append(new_row, ignore_index=True)\n",
      "/tmp/ipykernel_2357504/3447769798.py:37: FutureWarning: The frame.append method is deprecated and will be removed from pandas in a future version. Use pandas.concat instead.\n",
      "  intron_coordinates = intron_coordinates.append(new_row, ignore_index=True)\n",
      "/tmp/ipykernel_2357504/3447769798.py:37: FutureWarning: The frame.append method is deprecated and will be removed from pandas in a future version. Use pandas.concat instead.\n",
      "  intron_coordinates = intron_coordinates.append(new_row, ignore_index=True)\n",
      "/tmp/ipykernel_2357504/3447769798.py:37: FutureWarning: The frame.append method is deprecated and will be removed from pandas in a future version. Use pandas.concat instead.\n",
      "  intron_coordinates = intron_coordinates.append(new_row, ignore_index=True)\n"
     ]
    },
    {
     "name": "stdout",
     "output_type": "stream",
     "text": [
      "adding 53218066 53218175\n",
      "HERE 53218498 53220738\n",
      "HERE 53221016 53224639\n",
      "adding 53193951 53194038\n",
      "adding 53195510 53195815\n",
      "adding 53196154 53196585\n"
     ]
    },
    {
     "name": "stderr",
     "output_type": "stream",
     "text": [
      "/tmp/ipykernel_2357504/3447769798.py:37: FutureWarning: The frame.append method is deprecated and will be removed from pandas in a future version. Use pandas.concat instead.\n",
      "  intron_coordinates = intron_coordinates.append(new_row, ignore_index=True)\n",
      "/tmp/ipykernel_2357504/3447769798.py:37: FutureWarning: The frame.append method is deprecated and will be removed from pandas in a future version. Use pandas.concat instead.\n",
      "  intron_coordinates = intron_coordinates.append(new_row, ignore_index=True)\n",
      "/tmp/ipykernel_2357504/3447769798.py:37: FutureWarning: The frame.append method is deprecated and will be removed from pandas in a future version. Use pandas.concat instead.\n",
      "  intron_coordinates = intron_coordinates.append(new_row, ignore_index=True)\n",
      "/tmp/ipykernel_2357504/3447769798.py:37: FutureWarning: The frame.append method is deprecated and will be removed from pandas in a future version. Use pandas.concat instead.\n",
      "  intron_coordinates = intron_coordinates.append(new_row, ignore_index=True)\n",
      "/tmp/ipykernel_2357504/3447769798.py:37: FutureWarning: The frame.append method is deprecated and will be removed from pandas in a future version. Use pandas.concat instead.\n",
      "  intron_coordinates = intron_coordinates.append(new_row, ignore_index=True)\n"
     ]
    },
    {
     "name": "stdout",
     "output_type": "stream",
     "text": [
      "adding 53197144 53197670\n",
      "adding 53197976 53198389\n",
      "adding 53199258 53201449\n",
      "adding 53202073 53210313\n",
      "adding 53210957 53211396\n"
     ]
    },
    {
     "name": "stderr",
     "output_type": "stream",
     "text": [
      "/tmp/ipykernel_2357504/3447769798.py:37: FutureWarning: The frame.append method is deprecated and will be removed from pandas in a future version. Use pandas.concat instead.\n",
      "  intron_coordinates = intron_coordinates.append(new_row, ignore_index=True)\n",
      "/tmp/ipykernel_2357504/3447769798.py:37: FutureWarning: The frame.append method is deprecated and will be removed from pandas in a future version. Use pandas.concat instead.\n",
      "  intron_coordinates = intron_coordinates.append(new_row, ignore_index=True)\n",
      "/tmp/ipykernel_2357504/3447769798.py:37: FutureWarning: The frame.append method is deprecated and will be removed from pandas in a future version. Use pandas.concat instead.\n",
      "  intron_coordinates = intron_coordinates.append(new_row, ignore_index=True)\n",
      "/tmp/ipykernel_2357504/3447769798.py:37: FutureWarning: The frame.append method is deprecated and will be removed from pandas in a future version. Use pandas.concat instead.\n",
      "  intron_coordinates = intron_coordinates.append(new_row, ignore_index=True)\n",
      "/tmp/ipykernel_2357504/3447769798.py:37: FutureWarning: The frame.append method is deprecated and will be removed from pandas in a future version. Use pandas.concat instead.\n",
      "  intron_coordinates = intron_coordinates.append(new_row, ignore_index=True)\n"
     ]
    },
    {
     "name": "stdout",
     "output_type": "stream",
     "text": [
      "adding 53212006 53214588\n",
      "adding 53214947 53215694\n",
      "adding 53216297 53217042\n",
      "adding 53217374 53217695\n",
      "adding 53218066 53218175\n"
     ]
    },
    {
     "name": "stderr",
     "output_type": "stream",
     "text": [
      "/tmp/ipykernel_2357504/3447769798.py:37: FutureWarning: The frame.append method is deprecated and will be removed from pandas in a future version. Use pandas.concat instead.\n",
      "  intron_coordinates = intron_coordinates.append(new_row, ignore_index=True)\n",
      "/tmp/ipykernel_2357504/3447769798.py:37: FutureWarning: The frame.append method is deprecated and will be removed from pandas in a future version. Use pandas.concat instead.\n",
      "  intron_coordinates = intron_coordinates.append(new_row, ignore_index=True)\n",
      "/tmp/ipykernel_2357504/3447769798.py:37: FutureWarning: The frame.append method is deprecated and will be removed from pandas in a future version. Use pandas.concat instead.\n",
      "  intron_coordinates = intron_coordinates.append(new_row, ignore_index=True)\n"
     ]
    },
    {
     "name": "stdout",
     "output_type": "stream",
     "text": [
      "HERE 53218498 53220738\n",
      "HERE 53221016 53224639\n",
      "adding 53218812 53220738\n",
      "HERE 53221016 53224639\n",
      "adding 53221830 53224639\n",
      "HERE 53192937 53193397\n",
      "adding 53193951 53194038\n",
      "adding 53195510 53195815\n"
     ]
    },
    {
     "name": "stderr",
     "output_type": "stream",
     "text": [
      "/tmp/ipykernel_2357504/3447769798.py:37: FutureWarning: The frame.append method is deprecated and will be removed from pandas in a future version. Use pandas.concat instead.\n",
      "  intron_coordinates = intron_coordinates.append(new_row, ignore_index=True)\n",
      "/tmp/ipykernel_2357504/3447769798.py:37: FutureWarning: The frame.append method is deprecated and will be removed from pandas in a future version. Use pandas.concat instead.\n",
      "  intron_coordinates = intron_coordinates.append(new_row, ignore_index=True)\n",
      "/tmp/ipykernel_2357504/3447769798.py:37: FutureWarning: The frame.append method is deprecated and will be removed from pandas in a future version. Use pandas.concat instead.\n",
      "  intron_coordinates = intron_coordinates.append(new_row, ignore_index=True)\n",
      "/tmp/ipykernel_2357504/3447769798.py:37: FutureWarning: The frame.append method is deprecated and will be removed from pandas in a future version. Use pandas.concat instead.\n",
      "  intron_coordinates = intron_coordinates.append(new_row, ignore_index=True)\n",
      "/tmp/ipykernel_2357504/3447769798.py:37: FutureWarning: The frame.append method is deprecated and will be removed from pandas in a future version. Use pandas.concat instead.\n",
      "  intron_coordinates = intron_coordinates.append(new_row, ignore_index=True)\n"
     ]
    },
    {
     "name": "stdout",
     "output_type": "stream",
     "text": [
      "adding 53196154 53196585\n",
      "adding 53197144 53197670\n",
      "adding 53197976 53198389\n",
      "adding 53199258 53201449\n",
      "adding 53202073 53210313\n"
     ]
    },
    {
     "name": "stderr",
     "output_type": "stream",
     "text": [
      "/tmp/ipykernel_2357504/3447769798.py:37: FutureWarning: The frame.append method is deprecated and will be removed from pandas in a future version. Use pandas.concat instead.\n",
      "  intron_coordinates = intron_coordinates.append(new_row, ignore_index=True)\n",
      "/tmp/ipykernel_2357504/3447769798.py:37: FutureWarning: The frame.append method is deprecated and will be removed from pandas in a future version. Use pandas.concat instead.\n",
      "  intron_coordinates = intron_coordinates.append(new_row, ignore_index=True)\n",
      "/tmp/ipykernel_2357504/3447769798.py:37: FutureWarning: The frame.append method is deprecated and will be removed from pandas in a future version. Use pandas.concat instead.\n",
      "  intron_coordinates = intron_coordinates.append(new_row, ignore_index=True)\n",
      "/tmp/ipykernel_2357504/3447769798.py:37: FutureWarning: The frame.append method is deprecated and will be removed from pandas in a future version. Use pandas.concat instead.\n",
      "  intron_coordinates = intron_coordinates.append(new_row, ignore_index=True)\n",
      "/tmp/ipykernel_2357504/3447769798.py:37: FutureWarning: The frame.append method is deprecated and will be removed from pandas in a future version. Use pandas.concat instead.\n",
      "  intron_coordinates = intron_coordinates.append(new_row, ignore_index=True)\n"
     ]
    },
    {
     "name": "stdout",
     "output_type": "stream",
     "text": [
      "adding 53210957 53211396\n",
      "adding 53212006 53214588\n",
      "adding 53214947 53215694\n",
      "adding 53216297 53217042\n",
      "adding 53217377 53217695\n"
     ]
    },
    {
     "name": "stderr",
     "output_type": "stream",
     "text": [
      "/tmp/ipykernel_2357504/3447769798.py:37: FutureWarning: The frame.append method is deprecated and will be removed from pandas in a future version. Use pandas.concat instead.\n",
      "  intron_coordinates = intron_coordinates.append(new_row, ignore_index=True)\n",
      "/tmp/ipykernel_2357504/3447769798.py:37: FutureWarning: The frame.append method is deprecated and will be removed from pandas in a future version. Use pandas.concat instead.\n",
      "  intron_coordinates = intron_coordinates.append(new_row, ignore_index=True)\n",
      "/tmp/ipykernel_2357504/3447769798.py:37: FutureWarning: The frame.append method is deprecated and will be removed from pandas in a future version. Use pandas.concat instead.\n",
      "  intron_coordinates = intron_coordinates.append(new_row, ignore_index=True)\n"
     ]
    },
    {
     "name": "stdout",
     "output_type": "stream",
     "text": [
      "HERE 53218066 53224639\n",
      "<pandas.core.groupby.generic.DataFrameGroupBy object at 0x7f18f5066640>\n",
      "adding 13323860 13324500\n",
      "adding 13324806 13326120\n"
     ]
    },
    {
     "name": "stderr",
     "output_type": "stream",
     "text": [
      "/tmp/ipykernel_2357504/3447769798.py:37: FutureWarning: The frame.append method is deprecated and will be removed from pandas in a future version. Use pandas.concat instead.\n",
      "  intron_coordinates = intron_coordinates.append(new_row, ignore_index=True)\n",
      "/tmp/ipykernel_2357504/3447769798.py:37: FutureWarning: The frame.append method is deprecated and will be removed from pandas in a future version. Use pandas.concat instead.\n",
      "  intron_coordinates = intron_coordinates.append(new_row, ignore_index=True)\n",
      "/tmp/ipykernel_2357504/3447769798.py:37: FutureWarning: The frame.append method is deprecated and will be removed from pandas in a future version. Use pandas.concat instead.\n",
      "  intron_coordinates = intron_coordinates.append(new_row, ignore_index=True)\n"
     ]
    },
    {
     "name": "stdout",
     "output_type": "stream",
     "text": [
      "adding 13326450 13335462\n",
      "HERE 13336435 13354902\n",
      "adding 13355498 13355822\n"
     ]
    },
    {
     "name": "stderr",
     "output_type": "stream",
     "text": [
      "/tmp/ipykernel_2357504/3447769798.py:37: FutureWarning: The frame.append method is deprecated and will be removed from pandas in a future version. Use pandas.concat instead.\n",
      "  intron_coordinates = intron_coordinates.append(new_row, ignore_index=True)\n",
      "/tmp/ipykernel_2357504/3447769798.py:37: FutureWarning: The frame.append method is deprecated and will be removed from pandas in a future version. Use pandas.concat instead.\n",
      "  intron_coordinates = intron_coordinates.append(new_row, ignore_index=True)\n"
     ]
    },
    {
     "name": "stdout",
     "output_type": "stream",
     "text": [
      "adding 13356118 13357776\n",
      "HERE 13358069 13359666\n",
      "adding 13360086 13360329\n"
     ]
    },
    {
     "name": "stderr",
     "output_type": "stream",
     "text": [
      "/tmp/ipykernel_2357504/3447769798.py:37: FutureWarning: The frame.append method is deprecated and will be removed from pandas in a future version. Use pandas.concat instead.\n",
      "  intron_coordinates = intron_coordinates.append(new_row, ignore_index=True)\n",
      "/tmp/ipykernel_2357504/3447769798.py:37: FutureWarning: The frame.append method is deprecated and will be removed from pandas in a future version. Use pandas.concat instead.\n",
      "  intron_coordinates = intron_coordinates.append(new_row, ignore_index=True)\n",
      "/tmp/ipykernel_2357504/3447769798.py:37: FutureWarning: The frame.append method is deprecated and will be removed from pandas in a future version. Use pandas.concat instead.\n",
      "  intron_coordinates = intron_coordinates.append(new_row, ignore_index=True)\n"
     ]
    },
    {
     "name": "stdout",
     "output_type": "stream",
     "text": [
      "adding 13360628 13366166\n",
      "adding 13366493 13369155\n",
      "adding 13369449 13393758\n"
     ]
    },
    {
     "name": "stderr",
     "output_type": "stream",
     "text": [
      "/tmp/ipykernel_2357504/3447769798.py:37: FutureWarning: The frame.append method is deprecated and will be removed from pandas in a future version. Use pandas.concat instead.\n",
      "  intron_coordinates = intron_coordinates.append(new_row, ignore_index=True)\n",
      "/tmp/ipykernel_2357504/3447769798.py:37: FutureWarning: The frame.append method is deprecated and will be removed from pandas in a future version. Use pandas.concat instead.\n",
      "  intron_coordinates = intron_coordinates.append(new_row, ignore_index=True)\n",
      "/tmp/ipykernel_2357504/3447769798.py:37: FutureWarning: The frame.append method is deprecated and will be removed from pandas in a future version. Use pandas.concat instead.\n",
      "  intron_coordinates = intron_coordinates.append(new_row, ignore_index=True)\n"
     ]
    },
    {
     "name": "stdout",
     "output_type": "stream",
     "text": [
      "adding 13393993 13396817\n",
      "adding 13397072 13410892\n",
      "adding 13411213 13414634\n"
     ]
    },
    {
     "name": "stderr",
     "output_type": "stream",
     "text": [
      "/tmp/ipykernel_2357504/3447769798.py:37: FutureWarning: The frame.append method is deprecated and will be removed from pandas in a future version. Use pandas.concat instead.\n",
      "  intron_coordinates = intron_coordinates.append(new_row, ignore_index=True)\n",
      "/tmp/ipykernel_2357504/3447769798.py:37: FutureWarning: The frame.append method is deprecated and will be removed from pandas in a future version. Use pandas.concat instead.\n",
      "  intron_coordinates = intron_coordinates.append(new_row, ignore_index=True)\n",
      "/tmp/ipykernel_2357504/3447769798.py:37: FutureWarning: The frame.append method is deprecated and will be removed from pandas in a future version. Use pandas.concat instead.\n",
      "  intron_coordinates = intron_coordinates.append(new_row, ignore_index=True)\n"
     ]
    },
    {
     "name": "stdout",
     "output_type": "stream",
     "text": [
      "adding 13414893 13448916\n",
      "adding 13449166 13470020\n",
      "adding 13470329 13479153\n"
     ]
    },
    {
     "name": "stderr",
     "output_type": "stream",
     "text": [
      "/tmp/ipykernel_2357504/3447769798.py:37: FutureWarning: The frame.append method is deprecated and will be removed from pandas in a future version. Use pandas.concat instead.\n",
      "  intron_coordinates = intron_coordinates.append(new_row, ignore_index=True)\n",
      "/tmp/ipykernel_2357504/3447769798.py:37: FutureWarning: The frame.append method is deprecated and will be removed from pandas in a future version. Use pandas.concat instead.\n",
      "  intron_coordinates = intron_coordinates.append(new_row, ignore_index=True)\n",
      "/tmp/ipykernel_2357504/3447769798.py:37: FutureWarning: The frame.append method is deprecated and will be removed from pandas in a future version. Use pandas.concat instead.\n",
      "  intron_coordinates = intron_coordinates.append(new_row, ignore_index=True)\n"
     ]
    },
    {
     "name": "stdout",
     "output_type": "stream",
     "text": [
      "adding 13249982 13250916\n",
      "adding 13251287 13260177\n",
      "adding 13260504 13297606\n"
     ]
    },
    {
     "name": "stderr",
     "output_type": "stream",
     "text": [
      "/tmp/ipykernel_2357504/3447769798.py:37: FutureWarning: The frame.append method is deprecated and will be removed from pandas in a future version. Use pandas.concat instead.\n",
      "  intron_coordinates = intron_coordinates.append(new_row, ignore_index=True)\n",
      "/tmp/ipykernel_2357504/3447769798.py:37: FutureWarning: The frame.append method is deprecated and will be removed from pandas in a future version. Use pandas.concat instead.\n",
      "  intron_coordinates = intron_coordinates.append(new_row, ignore_index=True)\n",
      "/tmp/ipykernel_2357504/3447769798.py:37: FutureWarning: The frame.append method is deprecated and will be removed from pandas in a future version. Use pandas.concat instead.\n",
      "  intron_coordinates = intron_coordinates.append(new_row, ignore_index=True)\n"
     ]
    },
    {
     "name": "stdout",
     "output_type": "stream",
     "text": [
      "adding 13297948 13298856\n",
      "adding 13299244 13302776\n",
      "adding 13303091 13305298\n"
     ]
    },
    {
     "name": "stderr",
     "output_type": "stream",
     "text": [
      "/tmp/ipykernel_2357504/3447769798.py:37: FutureWarning: The frame.append method is deprecated and will be removed from pandas in a future version. Use pandas.concat instead.\n",
      "  intron_coordinates = intron_coordinates.append(new_row, ignore_index=True)\n",
      "/tmp/ipykernel_2357504/3447769798.py:37: FutureWarning: The frame.append method is deprecated and will be removed from pandas in a future version. Use pandas.concat instead.\n",
      "  intron_coordinates = intron_coordinates.append(new_row, ignore_index=True)\n"
     ]
    },
    {
     "name": "stdout",
     "output_type": "stream",
     "text": [
      "adding 13305647 13305937\n",
      "HERE 13306350 13323454\n",
      "adding 13323860 13324500\n"
     ]
    },
    {
     "name": "stderr",
     "output_type": "stream",
     "text": [
      "/tmp/ipykernel_2357504/3447769798.py:37: FutureWarning: The frame.append method is deprecated and will be removed from pandas in a future version. Use pandas.concat instead.\n",
      "  intron_coordinates = intron_coordinates.append(new_row, ignore_index=True)\n",
      "/tmp/ipykernel_2357504/3447769798.py:37: FutureWarning: The frame.append method is deprecated and will be removed from pandas in a future version. Use pandas.concat instead.\n",
      "  intron_coordinates = intron_coordinates.append(new_row, ignore_index=True)\n",
      "/tmp/ipykernel_2357504/3447769798.py:37: FutureWarning: The frame.append method is deprecated and will be removed from pandas in a future version. Use pandas.concat instead.\n",
      "  intron_coordinates = intron_coordinates.append(new_row, ignore_index=True)\n"
     ]
    },
    {
     "name": "stdout",
     "output_type": "stream",
     "text": [
      "adding 13324806 13326120\n",
      "adding 13326450 13335462\n",
      "HERE 13336435 13354902\n",
      "adding 13355498 13355822\n",
      "adding 13356118 13357776\n",
      "HERE 13358069 13359666\n"
     ]
    },
    {
     "name": "stderr",
     "output_type": "stream",
     "text": [
      "/tmp/ipykernel_2357504/3447769798.py:37: FutureWarning: The frame.append method is deprecated and will be removed from pandas in a future version. Use pandas.concat instead.\n",
      "  intron_coordinates = intron_coordinates.append(new_row, ignore_index=True)\n",
      "/tmp/ipykernel_2357504/3447769798.py:37: FutureWarning: The frame.append method is deprecated and will be removed from pandas in a future version. Use pandas.concat instead.\n",
      "  intron_coordinates = intron_coordinates.append(new_row, ignore_index=True)\n"
     ]
    },
    {
     "name": "stdout",
     "output_type": "stream",
     "text": [
      "adding 13360086 13360329\n",
      "adding 13360628 13366166\n",
      "adding 13366493 13369155\n"
     ]
    },
    {
     "name": "stderr",
     "output_type": "stream",
     "text": [
      "/tmp/ipykernel_2357504/3447769798.py:37: FutureWarning: The frame.append method is deprecated and will be removed from pandas in a future version. Use pandas.concat instead.\n",
      "  intron_coordinates = intron_coordinates.append(new_row, ignore_index=True)\n",
      "/tmp/ipykernel_2357504/3447769798.py:37: FutureWarning: The frame.append method is deprecated and will be removed from pandas in a future version. Use pandas.concat instead.\n",
      "  intron_coordinates = intron_coordinates.append(new_row, ignore_index=True)\n",
      "/tmp/ipykernel_2357504/3447769798.py:37: FutureWarning: The frame.append method is deprecated and will be removed from pandas in a future version. Use pandas.concat instead.\n",
      "  intron_coordinates = intron_coordinates.append(new_row, ignore_index=True)\n"
     ]
    },
    {
     "name": "stdout",
     "output_type": "stream",
     "text": [
      "adding 13369449 13393758\n",
      "adding 13393993 13396817\n",
      "adding 13397072 13410892\n"
     ]
    },
    {
     "name": "stderr",
     "output_type": "stream",
     "text": [
      "/tmp/ipykernel_2357504/3447769798.py:37: FutureWarning: The frame.append method is deprecated and will be removed from pandas in a future version. Use pandas.concat instead.\n",
      "  intron_coordinates = intron_coordinates.append(new_row, ignore_index=True)\n",
      "/tmp/ipykernel_2357504/3447769798.py:37: FutureWarning: The frame.append method is deprecated and will be removed from pandas in a future version. Use pandas.concat instead.\n",
      "  intron_coordinates = intron_coordinates.append(new_row, ignore_index=True)\n",
      "/tmp/ipykernel_2357504/3447769798.py:37: FutureWarning: The frame.append method is deprecated and will be removed from pandas in a future version. Use pandas.concat instead.\n",
      "  intron_coordinates = intron_coordinates.append(new_row, ignore_index=True)\n"
     ]
    },
    {
     "name": "stdout",
     "output_type": "stream",
     "text": [
      "adding 13411213 13414634\n",
      "adding 13414893 13448916\n",
      "adding 13449166 13470020\n"
     ]
    },
    {
     "name": "stderr",
     "output_type": "stream",
     "text": [
      "/tmp/ipykernel_2357504/3447769798.py:37: FutureWarning: The frame.append method is deprecated and will be removed from pandas in a future version. Use pandas.concat instead.\n",
      "  intron_coordinates = intron_coordinates.append(new_row, ignore_index=True)\n",
      "/tmp/ipykernel_2357504/3447769798.py:37: FutureWarning: The frame.append method is deprecated and will be removed from pandas in a future version. Use pandas.concat instead.\n",
      "  intron_coordinates = intron_coordinates.append(new_row, ignore_index=True)\n",
      "/tmp/ipykernel_2357504/3447769798.py:37: FutureWarning: The frame.append method is deprecated and will be removed from pandas in a future version. Use pandas.concat instead.\n",
      "  intron_coordinates = intron_coordinates.append(new_row, ignore_index=True)\n"
     ]
    },
    {
     "name": "stdout",
     "output_type": "stream",
     "text": [
      "adding 13470329 13479153\n",
      "adding 13297948 13298856\n",
      "adding 13299244 13302776\n"
     ]
    },
    {
     "name": "stderr",
     "output_type": "stream",
     "text": [
      "/tmp/ipykernel_2357504/3447769798.py:37: FutureWarning: The frame.append method is deprecated and will be removed from pandas in a future version. Use pandas.concat instead.\n",
      "  intron_coordinates = intron_coordinates.append(new_row, ignore_index=True)\n",
      "/tmp/ipykernel_2357504/3447769798.py:37: FutureWarning: The frame.append method is deprecated and will be removed from pandas in a future version. Use pandas.concat instead.\n",
      "  intron_coordinates = intron_coordinates.append(new_row, ignore_index=True)\n",
      "/tmp/ipykernel_2357504/3447769798.py:37: FutureWarning: The frame.append method is deprecated and will be removed from pandas in a future version. Use pandas.concat instead.\n",
      "  intron_coordinates = intron_coordinates.append(new_row, ignore_index=True)\n"
     ]
    },
    {
     "name": "stdout",
     "output_type": "stream",
     "text": [
      "adding 13303091 13305298\n",
      "adding 13305647 13305937\n",
      "HERE 13306350 13323454\n"
     ]
    },
    {
     "name": "stderr",
     "output_type": "stream",
     "text": [
      "/tmp/ipykernel_2357504/3447769798.py:37: FutureWarning: The frame.append method is deprecated and will be removed from pandas in a future version. Use pandas.concat instead.\n",
      "  intron_coordinates = intron_coordinates.append(new_row, ignore_index=True)\n",
      "/tmp/ipykernel_2357504/3447769798.py:37: FutureWarning: The frame.append method is deprecated and will be removed from pandas in a future version. Use pandas.concat instead.\n",
      "  intron_coordinates = intron_coordinates.append(new_row, ignore_index=True)\n"
     ]
    },
    {
     "name": "stdout",
     "output_type": "stream",
     "text": [
      "adding 13323860 13324500\n",
      "adding 13324806 13326120\n",
      "adding 13326450 13335462\n"
     ]
    },
    {
     "name": "stderr",
     "output_type": "stream",
     "text": [
      "/tmp/ipykernel_2357504/3447769798.py:37: FutureWarning: The frame.append method is deprecated and will be removed from pandas in a future version. Use pandas.concat instead.\n",
      "  intron_coordinates = intron_coordinates.append(new_row, ignore_index=True)\n",
      "/tmp/ipykernel_2357504/3447769798.py:37: FutureWarning: The frame.append method is deprecated and will be removed from pandas in a future version. Use pandas.concat instead.\n",
      "  intron_coordinates = intron_coordinates.append(new_row, ignore_index=True)\n",
      "/tmp/ipykernel_2357504/3447769798.py:37: FutureWarning: The frame.append method is deprecated and will be removed from pandas in a future version. Use pandas.concat instead.\n",
      "  intron_coordinates = intron_coordinates.append(new_row, ignore_index=True)\n"
     ]
    },
    {
     "name": "stdout",
     "output_type": "stream",
     "text": [
      "HERE 13336435 13354902\n",
      "adding 13355498 13355822\n",
      "adding 13356118 13357776\n"
     ]
    },
    {
     "name": "stderr",
     "output_type": "stream",
     "text": [
      "/tmp/ipykernel_2357504/3447769798.py:37: FutureWarning: The frame.append method is deprecated and will be removed from pandas in a future version. Use pandas.concat instead.\n",
      "  intron_coordinates = intron_coordinates.append(new_row, ignore_index=True)\n",
      "/tmp/ipykernel_2357504/3447769798.py:37: FutureWarning: The frame.append method is deprecated and will be removed from pandas in a future version. Use pandas.concat instead.\n",
      "  intron_coordinates = intron_coordinates.append(new_row, ignore_index=True)\n"
     ]
    },
    {
     "name": "stdout",
     "output_type": "stream",
     "text": [
      "HERE 13358069 13359666\n",
      "adding 13360086 13360329\n",
      "adding 13360628 13366166\n"
     ]
    },
    {
     "name": "stderr",
     "output_type": "stream",
     "text": [
      "/tmp/ipykernel_2357504/3447769798.py:37: FutureWarning: The frame.append method is deprecated and will be removed from pandas in a future version. Use pandas.concat instead.\n",
      "  intron_coordinates = intron_coordinates.append(new_row, ignore_index=True)\n",
      "/tmp/ipykernel_2357504/3447769798.py:37: FutureWarning: The frame.append method is deprecated and will be removed from pandas in a future version. Use pandas.concat instead.\n",
      "  intron_coordinates = intron_coordinates.append(new_row, ignore_index=True)\n",
      "/tmp/ipykernel_2357504/3447769798.py:37: FutureWarning: The frame.append method is deprecated and will be removed from pandas in a future version. Use pandas.concat instead.\n",
      "  intron_coordinates = intron_coordinates.append(new_row, ignore_index=True)\n"
     ]
    },
    {
     "name": "stdout",
     "output_type": "stream",
     "text": [
      "adding 13366493 13369155\n",
      "adding 13369449 13393758\n",
      "adding 13393993 13396817\n"
     ]
    },
    {
     "name": "stderr",
     "output_type": "stream",
     "text": [
      "/tmp/ipykernel_2357504/3447769798.py:37: FutureWarning: The frame.append method is deprecated and will be removed from pandas in a future version. Use pandas.concat instead.\n",
      "  intron_coordinates = intron_coordinates.append(new_row, ignore_index=True)\n",
      "/tmp/ipykernel_2357504/3447769798.py:37: FutureWarning: The frame.append method is deprecated and will be removed from pandas in a future version. Use pandas.concat instead.\n",
      "  intron_coordinates = intron_coordinates.append(new_row, ignore_index=True)\n",
      "/tmp/ipykernel_2357504/3447769798.py:37: FutureWarning: The frame.append method is deprecated and will be removed from pandas in a future version. Use pandas.concat instead.\n",
      "  intron_coordinates = intron_coordinates.append(new_row, ignore_index=True)\n"
     ]
    },
    {
     "name": "stdout",
     "output_type": "stream",
     "text": [
      "adding 13397072 13410892\n",
      "adding 13411213 13414634\n",
      "adding 13414893 13448916\n"
     ]
    },
    {
     "name": "stderr",
     "output_type": "stream",
     "text": [
      "/tmp/ipykernel_2357504/3447769798.py:37: FutureWarning: The frame.append method is deprecated and will be removed from pandas in a future version. Use pandas.concat instead.\n",
      "  intron_coordinates = intron_coordinates.append(new_row, ignore_index=True)\n",
      "/tmp/ipykernel_2357504/3447769798.py:37: FutureWarning: The frame.append method is deprecated and will be removed from pandas in a future version. Use pandas.concat instead.\n",
      "  intron_coordinates = intron_coordinates.append(new_row, ignore_index=True)\n",
      "/tmp/ipykernel_2357504/3447769798.py:37: FutureWarning: The frame.append method is deprecated and will be removed from pandas in a future version. Use pandas.concat instead.\n",
      "  intron_coordinates = intron_coordinates.append(new_row, ignore_index=True)\n"
     ]
    },
    {
     "name": "stdout",
     "output_type": "stream",
     "text": [
      "adding 13449166 13470020\n",
      "adding 13470329 13479153\n",
      "adding 13397072 13410892\n"
     ]
    },
    {
     "name": "stderr",
     "output_type": "stream",
     "text": [
      "/tmp/ipykernel_2357504/3447769798.py:37: FutureWarning: The frame.append method is deprecated and will be removed from pandas in a future version. Use pandas.concat instead.\n",
      "  intron_coordinates = intron_coordinates.append(new_row, ignore_index=True)\n",
      "/tmp/ipykernel_2357504/3447769798.py:37: FutureWarning: The frame.append method is deprecated and will be removed from pandas in a future version. Use pandas.concat instead.\n",
      "  intron_coordinates = intron_coordinates.append(new_row, ignore_index=True)\n",
      "/tmp/ipykernel_2357504/3447769798.py:37: FutureWarning: The frame.append method is deprecated and will be removed from pandas in a future version. Use pandas.concat instead.\n",
      "  intron_coordinates = intron_coordinates.append(new_row, ignore_index=True)\n"
     ]
    },
    {
     "name": "stdout",
     "output_type": "stream",
     "text": [
      "adding 13411213 13414634\n",
      "adding 13414893 13448916\n",
      "adding 13449166 13470020\n"
     ]
    },
    {
     "name": "stderr",
     "output_type": "stream",
     "text": [
      "/tmp/ipykernel_2357504/3447769798.py:37: FutureWarning: The frame.append method is deprecated and will be removed from pandas in a future version. Use pandas.concat instead.\n",
      "  intron_coordinates = intron_coordinates.append(new_row, ignore_index=True)\n",
      "/tmp/ipykernel_2357504/3447769798.py:37: FutureWarning: The frame.append method is deprecated and will be removed from pandas in a future version. Use pandas.concat instead.\n",
      "  intron_coordinates = intron_coordinates.append(new_row, ignore_index=True)\n",
      "/tmp/ipykernel_2357504/3447769798.py:37: FutureWarning: The frame.append method is deprecated and will be removed from pandas in a future version. Use pandas.concat instead.\n",
      "  intron_coordinates = intron_coordinates.append(new_row, ignore_index=True)\n"
     ]
    },
    {
     "name": "stdout",
     "output_type": "stream",
     "text": [
      "adding 13470329 13479153\n",
      "adding 13249982 13250916\n",
      "adding 13251287 13260177\n"
     ]
    },
    {
     "name": "stderr",
     "output_type": "stream",
     "text": [
      "/tmp/ipykernel_2357504/3447769798.py:37: FutureWarning: The frame.append method is deprecated and will be removed from pandas in a future version. Use pandas.concat instead.\n",
      "  intron_coordinates = intron_coordinates.append(new_row, ignore_index=True)\n",
      "/tmp/ipykernel_2357504/3447769798.py:37: FutureWarning: The frame.append method is deprecated and will be removed from pandas in a future version. Use pandas.concat instead.\n",
      "  intron_coordinates = intron_coordinates.append(new_row, ignore_index=True)\n",
      "/tmp/ipykernel_2357504/3447769798.py:37: FutureWarning: The frame.append method is deprecated and will be removed from pandas in a future version. Use pandas.concat instead.\n",
      "  intron_coordinates = intron_coordinates.append(new_row, ignore_index=True)\n"
     ]
    },
    {
     "name": "stdout",
     "output_type": "stream",
     "text": [
      "adding 13260504 13297606\n",
      "adding 13297948 13298856\n",
      "adding 13299244 13302776\n"
     ]
    },
    {
     "name": "stderr",
     "output_type": "stream",
     "text": [
      "/tmp/ipykernel_2357504/3447769798.py:37: FutureWarning: The frame.append method is deprecated and will be removed from pandas in a future version. Use pandas.concat instead.\n",
      "  intron_coordinates = intron_coordinates.append(new_row, ignore_index=True)\n",
      "/tmp/ipykernel_2357504/3447769798.py:37: FutureWarning: The frame.append method is deprecated and will be removed from pandas in a future version. Use pandas.concat instead.\n",
      "  intron_coordinates = intron_coordinates.append(new_row, ignore_index=True)\n",
      "/tmp/ipykernel_2357504/3447769798.py:37: FutureWarning: The frame.append method is deprecated and will be removed from pandas in a future version. Use pandas.concat instead.\n",
      "  intron_coordinates = intron_coordinates.append(new_row, ignore_index=True)\n"
     ]
    },
    {
     "name": "stdout",
     "output_type": "stream",
     "text": [
      "adding 13303091 13305298\n",
      "adding 13305647 13305937\n",
      "HERE 13306350 13323454\n"
     ]
    },
    {
     "name": "stderr",
     "output_type": "stream",
     "text": [
      "/tmp/ipykernel_2357504/3447769798.py:37: FutureWarning: The frame.append method is deprecated and will be removed from pandas in a future version. Use pandas.concat instead.\n",
      "  intron_coordinates = intron_coordinates.append(new_row, ignore_index=True)\n",
      "/tmp/ipykernel_2357504/3447769798.py:37: FutureWarning: The frame.append method is deprecated and will be removed from pandas in a future version. Use pandas.concat instead.\n",
      "  intron_coordinates = intron_coordinates.append(new_row, ignore_index=True)\n"
     ]
    },
    {
     "name": "stdout",
     "output_type": "stream",
     "text": [
      "adding 13323860 13324500\n",
      "adding 13324806 13326120\n",
      "adding 13326450 13335462\n"
     ]
    },
    {
     "name": "stderr",
     "output_type": "stream",
     "text": [
      "/tmp/ipykernel_2357504/3447769798.py:37: FutureWarning: The frame.append method is deprecated and will be removed from pandas in a future version. Use pandas.concat instead.\n",
      "  intron_coordinates = intron_coordinates.append(new_row, ignore_index=True)\n",
      "/tmp/ipykernel_2357504/3447769798.py:37: FutureWarning: The frame.append method is deprecated and will be removed from pandas in a future version. Use pandas.concat instead.\n",
      "  intron_coordinates = intron_coordinates.append(new_row, ignore_index=True)\n"
     ]
    },
    {
     "name": "stdout",
     "output_type": "stream",
     "text": [
      "HERE 13336435 13354902\n",
      "adding 13355498 13355822\n",
      "adding 13356118 13357776\n"
     ]
    },
    {
     "name": "stderr",
     "output_type": "stream",
     "text": [
      "/tmp/ipykernel_2357504/3447769798.py:37: FutureWarning: The frame.append method is deprecated and will be removed from pandas in a future version. Use pandas.concat instead.\n",
      "  intron_coordinates = intron_coordinates.append(new_row, ignore_index=True)\n",
      "/tmp/ipykernel_2357504/3447769798.py:37: FutureWarning: The frame.append method is deprecated and will be removed from pandas in a future version. Use pandas.concat instead.\n",
      "  intron_coordinates = intron_coordinates.append(new_row, ignore_index=True)\n"
     ]
    },
    {
     "name": "stdout",
     "output_type": "stream",
     "text": [
      "HERE 13358069 13358987\n",
      "adding 13359322 13359666\n",
      "adding 13360086 13360329\n"
     ]
    },
    {
     "name": "stderr",
     "output_type": "stream",
     "text": [
      "/tmp/ipykernel_2357504/3447769798.py:37: FutureWarning: The frame.append method is deprecated and will be removed from pandas in a future version. Use pandas.concat instead.\n",
      "  intron_coordinates = intron_coordinates.append(new_row, ignore_index=True)\n",
      "/tmp/ipykernel_2357504/3447769798.py:37: FutureWarning: The frame.append method is deprecated and will be removed from pandas in a future version. Use pandas.concat instead.\n",
      "  intron_coordinates = intron_coordinates.append(new_row, ignore_index=True)\n",
      "/tmp/ipykernel_2357504/3447769798.py:37: FutureWarning: The frame.append method is deprecated and will be removed from pandas in a future version. Use pandas.concat instead.\n",
      "  intron_coordinates = intron_coordinates.append(new_row, ignore_index=True)\n"
     ]
    },
    {
     "name": "stdout",
     "output_type": "stream",
     "text": [
      "adding 13360628 13366166\n",
      "adding 13366493 13369155\n",
      "adding 13369449 13393758\n"
     ]
    },
    {
     "name": "stderr",
     "output_type": "stream",
     "text": [
      "/tmp/ipykernel_2357504/3447769798.py:37: FutureWarning: The frame.append method is deprecated and will be removed from pandas in a future version. Use pandas.concat instead.\n",
      "  intron_coordinates = intron_coordinates.append(new_row, ignore_index=True)\n",
      "/tmp/ipykernel_2357504/3447769798.py:37: FutureWarning: The frame.append method is deprecated and will be removed from pandas in a future version. Use pandas.concat instead.\n",
      "  intron_coordinates = intron_coordinates.append(new_row, ignore_index=True)\n",
      "/tmp/ipykernel_2357504/3447769798.py:37: FutureWarning: The frame.append method is deprecated and will be removed from pandas in a future version. Use pandas.concat instead.\n",
      "  intron_coordinates = intron_coordinates.append(new_row, ignore_index=True)\n"
     ]
    },
    {
     "name": "stdout",
     "output_type": "stream",
     "text": [
      "adding 13393993 13396817\n",
      "adding 13397072 13410892\n",
      "adding 13411213 13414634\n"
     ]
    },
    {
     "name": "stderr",
     "output_type": "stream",
     "text": [
      "/tmp/ipykernel_2357504/3447769798.py:37: FutureWarning: The frame.append method is deprecated and will be removed from pandas in a future version. Use pandas.concat instead.\n",
      "  intron_coordinates = intron_coordinates.append(new_row, ignore_index=True)\n",
      "/tmp/ipykernel_2357504/3447769798.py:37: FutureWarning: The frame.append method is deprecated and will be removed from pandas in a future version. Use pandas.concat instead.\n",
      "  intron_coordinates = intron_coordinates.append(new_row, ignore_index=True)\n",
      "/tmp/ipykernel_2357504/3447769798.py:37: FutureWarning: The frame.append method is deprecated and will be removed from pandas in a future version. Use pandas.concat instead.\n",
      "  intron_coordinates = intron_coordinates.append(new_row, ignore_index=True)\n"
     ]
    },
    {
     "name": "stdout",
     "output_type": "stream",
     "text": [
      "adding 13414893 13448916\n",
      "adding 13449166 13470020\n",
      "adding 13470329 13479153\n"
     ]
    },
    {
     "name": "stderr",
     "output_type": "stream",
     "text": [
      "/tmp/ipykernel_2357504/3447769798.py:37: FutureWarning: The frame.append method is deprecated and will be removed from pandas in a future version. Use pandas.concat instead.\n",
      "  intron_coordinates = intron_coordinates.append(new_row, ignore_index=True)\n",
      "/tmp/ipykernel_2357504/3447769798.py:37: FutureWarning: The frame.append method is deprecated and will be removed from pandas in a future version. Use pandas.concat instead.\n",
      "  intron_coordinates = intron_coordinates.append(new_row, ignore_index=True)\n",
      "/tmp/ipykernel_2357504/3447769798.py:37: FutureWarning: The frame.append method is deprecated and will be removed from pandas in a future version. Use pandas.concat instead.\n",
      "  intron_coordinates = intron_coordinates.append(new_row, ignore_index=True)\n"
     ]
    },
    {
     "name": "stdout",
     "output_type": "stream",
     "text": [
      "HERE 13249982 13260177\n",
      "adding 13260504 13297606\n",
      "adding 13297948 13298856\n"
     ]
    },
    {
     "name": "stderr",
     "output_type": "stream",
     "text": [
      "/tmp/ipykernel_2357504/3447769798.py:37: FutureWarning: The frame.append method is deprecated and will be removed from pandas in a future version. Use pandas.concat instead.\n",
      "  intron_coordinates = intron_coordinates.append(new_row, ignore_index=True)\n",
      "/tmp/ipykernel_2357504/3447769798.py:37: FutureWarning: The frame.append method is deprecated and will be removed from pandas in a future version. Use pandas.concat instead.\n",
      "  intron_coordinates = intron_coordinates.append(new_row, ignore_index=True)\n",
      "/tmp/ipykernel_2357504/3447769798.py:37: FutureWarning: The frame.append method is deprecated and will be removed from pandas in a future version. Use pandas.concat instead.\n",
      "  intron_coordinates = intron_coordinates.append(new_row, ignore_index=True)\n"
     ]
    },
    {
     "name": "stdout",
     "output_type": "stream",
     "text": [
      "adding 13299244 13302776\n",
      "adding 13303091 13305298\n",
      "adding 13305647 13305937\n"
     ]
    },
    {
     "name": "stderr",
     "output_type": "stream",
     "text": [
      "/tmp/ipykernel_2357504/3447769798.py:37: FutureWarning: The frame.append method is deprecated and will be removed from pandas in a future version. Use pandas.concat instead.\n",
      "  intron_coordinates = intron_coordinates.append(new_row, ignore_index=True)\n",
      "/tmp/ipykernel_2357504/3447769798.py:37: FutureWarning: The frame.append method is deprecated and will be removed from pandas in a future version. Use pandas.concat instead.\n",
      "  intron_coordinates = intron_coordinates.append(new_row, ignore_index=True)\n"
     ]
    },
    {
     "name": "stdout",
     "output_type": "stream",
     "text": [
      "HERE 13306350 13323454\n",
      "adding 13323860 13324500\n",
      "adding 13324806 13326120\n"
     ]
    },
    {
     "name": "stderr",
     "output_type": "stream",
     "text": [
      "/tmp/ipykernel_2357504/3447769798.py:37: FutureWarning: The frame.append method is deprecated and will be removed from pandas in a future version. Use pandas.concat instead.\n",
      "  intron_coordinates = intron_coordinates.append(new_row, ignore_index=True)\n",
      "/tmp/ipykernel_2357504/3447769798.py:37: FutureWarning: The frame.append method is deprecated and will be removed from pandas in a future version. Use pandas.concat instead.\n",
      "  intron_coordinates = intron_coordinates.append(new_row, ignore_index=True)\n"
     ]
    },
    {
     "name": "stdout",
     "output_type": "stream",
     "text": [
      "adding 13326450 13335462\n",
      "HERE 13336435 13354902\n",
      "adding 13355498 13355822\n"
     ]
    },
    {
     "name": "stderr",
     "output_type": "stream",
     "text": [
      "/tmp/ipykernel_2357504/3447769798.py:37: FutureWarning: The frame.append method is deprecated and will be removed from pandas in a future version. Use pandas.concat instead.\n",
      "  intron_coordinates = intron_coordinates.append(new_row, ignore_index=True)\n",
      "/tmp/ipykernel_2357504/3447769798.py:37: FutureWarning: The frame.append method is deprecated and will be removed from pandas in a future version. Use pandas.concat instead.\n",
      "  intron_coordinates = intron_coordinates.append(new_row, ignore_index=True)\n"
     ]
    },
    {
     "name": "stdout",
     "output_type": "stream",
     "text": [
      "adding 13356118 13357776\n",
      "HERE 13358069 13358987\n",
      "adding 13359322 13359666\n"
     ]
    },
    {
     "name": "stderr",
     "output_type": "stream",
     "text": [
      "/tmp/ipykernel_2357504/3447769798.py:37: FutureWarning: The frame.append method is deprecated and will be removed from pandas in a future version. Use pandas.concat instead.\n",
      "  intron_coordinates = intron_coordinates.append(new_row, ignore_index=True)\n",
      "/tmp/ipykernel_2357504/3447769798.py:37: FutureWarning: The frame.append method is deprecated and will be removed from pandas in a future version. Use pandas.concat instead.\n",
      "  intron_coordinates = intron_coordinates.append(new_row, ignore_index=True)\n",
      "/tmp/ipykernel_2357504/3447769798.py:37: FutureWarning: The frame.append method is deprecated and will be removed from pandas in a future version. Use pandas.concat instead.\n",
      "  intron_coordinates = intron_coordinates.append(new_row, ignore_index=True)\n"
     ]
    },
    {
     "name": "stdout",
     "output_type": "stream",
     "text": [
      "adding 13360086 13360329\n",
      "adding 13360628 13366166\n",
      "adding 13366493 13369155\n"
     ]
    },
    {
     "name": "stderr",
     "output_type": "stream",
     "text": [
      "/tmp/ipykernel_2357504/3447769798.py:37: FutureWarning: The frame.append method is deprecated and will be removed from pandas in a future version. Use pandas.concat instead.\n",
      "  intron_coordinates = intron_coordinates.append(new_row, ignore_index=True)\n",
      "/tmp/ipykernel_2357504/3447769798.py:37: FutureWarning: The frame.append method is deprecated and will be removed from pandas in a future version. Use pandas.concat instead.\n",
      "  intron_coordinates = intron_coordinates.append(new_row, ignore_index=True)\n",
      "/tmp/ipykernel_2357504/3447769798.py:37: FutureWarning: The frame.append method is deprecated and will be removed from pandas in a future version. Use pandas.concat instead.\n",
      "  intron_coordinates = intron_coordinates.append(new_row, ignore_index=True)\n"
     ]
    },
    {
     "name": "stdout",
     "output_type": "stream",
     "text": [
      "adding 13369449 13393758\n",
      "adding 13393993 13396817\n",
      "adding 13397072 13410892\n"
     ]
    },
    {
     "name": "stderr",
     "output_type": "stream",
     "text": [
      "/tmp/ipykernel_2357504/3447769798.py:37: FutureWarning: The frame.append method is deprecated and will be removed from pandas in a future version. Use pandas.concat instead.\n",
      "  intron_coordinates = intron_coordinates.append(new_row, ignore_index=True)\n",
      "/tmp/ipykernel_2357504/3447769798.py:37: FutureWarning: The frame.append method is deprecated and will be removed from pandas in a future version. Use pandas.concat instead.\n",
      "  intron_coordinates = intron_coordinates.append(new_row, ignore_index=True)\n",
      "/tmp/ipykernel_2357504/3447769798.py:37: FutureWarning: The frame.append method is deprecated and will be removed from pandas in a future version. Use pandas.concat instead.\n",
      "  intron_coordinates = intron_coordinates.append(new_row, ignore_index=True)\n"
     ]
    },
    {
     "name": "stdout",
     "output_type": "stream",
     "text": [
      "adding 13411213 13414634\n",
      "adding 13414893 13448916\n",
      "adding 13449166 13470020\n"
     ]
    },
    {
     "name": "stderr",
     "output_type": "stream",
     "text": [
      "/tmp/ipykernel_2357504/3447769798.py:37: FutureWarning: The frame.append method is deprecated and will be removed from pandas in a future version. Use pandas.concat instead.\n",
      "  intron_coordinates = intron_coordinates.append(new_row, ignore_index=True)\n",
      "/tmp/ipykernel_2357504/3447769798.py:37: FutureWarning: The frame.append method is deprecated and will be removed from pandas in a future version. Use pandas.concat instead.\n",
      "  intron_coordinates = intron_coordinates.append(new_row, ignore_index=True)\n",
      "/tmp/ipykernel_2357504/3447769798.py:37: FutureWarning: The frame.append method is deprecated and will be removed from pandas in a future version. Use pandas.concat instead.\n",
      "  intron_coordinates = intron_coordinates.append(new_row, ignore_index=True)\n"
     ]
    },
    {
     "name": "stdout",
     "output_type": "stream",
     "text": [
      "adding 13470329 13479153\n",
      "adding 13249982 13250916\n",
      "adding 13251287 13260177\n"
     ]
    },
    {
     "name": "stderr",
     "output_type": "stream",
     "text": [
      "/tmp/ipykernel_2357504/3447769798.py:37: FutureWarning: The frame.append method is deprecated and will be removed from pandas in a future version. Use pandas.concat instead.\n",
      "  intron_coordinates = intron_coordinates.append(new_row, ignore_index=True)\n",
      "/tmp/ipykernel_2357504/3447769798.py:37: FutureWarning: The frame.append method is deprecated and will be removed from pandas in a future version. Use pandas.concat instead.\n",
      "  intron_coordinates = intron_coordinates.append(new_row, ignore_index=True)\n",
      "/tmp/ipykernel_2357504/3447769798.py:37: FutureWarning: The frame.append method is deprecated and will be removed from pandas in a future version. Use pandas.concat instead.\n",
      "  intron_coordinates = intron_coordinates.append(new_row, ignore_index=True)\n"
     ]
    },
    {
     "name": "stdout",
     "output_type": "stream",
     "text": [
      "adding 13260504 13297606\n",
      "adding 13297948 13298856\n",
      "adding 13299244 13302776\n"
     ]
    },
    {
     "name": "stderr",
     "output_type": "stream",
     "text": [
      "/tmp/ipykernel_2357504/3447769798.py:37: FutureWarning: The frame.append method is deprecated and will be removed from pandas in a future version. Use pandas.concat instead.\n",
      "  intron_coordinates = intron_coordinates.append(new_row, ignore_index=True)\n",
      "/tmp/ipykernel_2357504/3447769798.py:37: FutureWarning: The frame.append method is deprecated and will be removed from pandas in a future version. Use pandas.concat instead.\n",
      "  intron_coordinates = intron_coordinates.append(new_row, ignore_index=True)\n",
      "/tmp/ipykernel_2357504/3447769798.py:37: FutureWarning: The frame.append method is deprecated and will be removed from pandas in a future version. Use pandas.concat instead.\n",
      "  intron_coordinates = intron_coordinates.append(new_row, ignore_index=True)\n"
     ]
    },
    {
     "name": "stdout",
     "output_type": "stream",
     "text": [
      "adding 13303091 13305298\n",
      "adding 13305647 13305937\n",
      "HERE 13306350 13323454\n",
      "adding 13323860 13324500\n",
      "adding 13324806 13326120\n",
      "adding 13326450 13335462\n"
     ]
    },
    {
     "name": "stderr",
     "output_type": "stream",
     "text": [
      "/tmp/ipykernel_2357504/3447769798.py:37: FutureWarning: The frame.append method is deprecated and will be removed from pandas in a future version. Use pandas.concat instead.\n",
      "  intron_coordinates = intron_coordinates.append(new_row, ignore_index=True)\n",
      "/tmp/ipykernel_2357504/3447769798.py:37: FutureWarning: The frame.append method is deprecated and will be removed from pandas in a future version. Use pandas.concat instead.\n",
      "  intron_coordinates = intron_coordinates.append(new_row, ignore_index=True)\n",
      "/tmp/ipykernel_2357504/3447769798.py:37: FutureWarning: The frame.append method is deprecated and will be removed from pandas in a future version. Use pandas.concat instead.\n",
      "  intron_coordinates = intron_coordinates.append(new_row, ignore_index=True)\n"
     ]
    },
    {
     "name": "stdout",
     "output_type": "stream",
     "text": [
      "adding 13336435 13354685\n",
      "adding 13355498 13355822\n",
      "adding 13356118 13357776\n"
     ]
    },
    {
     "name": "stderr",
     "output_type": "stream",
     "text": [
      "/tmp/ipykernel_2357504/3447769798.py:37: FutureWarning: The frame.append method is deprecated and will be removed from pandas in a future version. Use pandas.concat instead.\n",
      "  intron_coordinates = intron_coordinates.append(new_row, ignore_index=True)\n",
      "/tmp/ipykernel_2357504/3447769798.py:37: FutureWarning: The frame.append method is deprecated and will be removed from pandas in a future version. Use pandas.concat instead.\n",
      "  intron_coordinates = intron_coordinates.append(new_row, ignore_index=True)\n",
      "/tmp/ipykernel_2357504/3447769798.py:37: FutureWarning: The frame.append method is deprecated and will be removed from pandas in a future version. Use pandas.concat instead.\n",
      "  intron_coordinates = intron_coordinates.append(new_row, ignore_index=True)\n"
     ]
    },
    {
     "name": "stdout",
     "output_type": "stream",
     "text": [
      "HERE 13358069 13359666\n",
      "adding 13360086 13360329\n",
      "adding 13360628 13366166\n"
     ]
    },
    {
     "name": "stderr",
     "output_type": "stream",
     "text": [
      "/tmp/ipykernel_2357504/3447769798.py:37: FutureWarning: The frame.append method is deprecated and will be removed from pandas in a future version. Use pandas.concat instead.\n",
      "  intron_coordinates = intron_coordinates.append(new_row, ignore_index=True)\n",
      "/tmp/ipykernel_2357504/3447769798.py:37: FutureWarning: The frame.append method is deprecated and will be removed from pandas in a future version. Use pandas.concat instead.\n",
      "  intron_coordinates = intron_coordinates.append(new_row, ignore_index=True)\n",
      "/tmp/ipykernel_2357504/3447769798.py:37: FutureWarning: The frame.append method is deprecated and will be removed from pandas in a future version. Use pandas.concat instead.\n",
      "  intron_coordinates = intron_coordinates.append(new_row, ignore_index=True)\n"
     ]
    },
    {
     "name": "stdout",
     "output_type": "stream",
     "text": [
      "adding 13366493 13369155\n",
      "adding 13369449 13393758\n",
      "adding 13393993 13396817\n"
     ]
    },
    {
     "name": "stderr",
     "output_type": "stream",
     "text": [
      "/tmp/ipykernel_2357504/3447769798.py:37: FutureWarning: The frame.append method is deprecated and will be removed from pandas in a future version. Use pandas.concat instead.\n",
      "  intron_coordinates = intron_coordinates.append(new_row, ignore_index=True)\n",
      "/tmp/ipykernel_2357504/3447769798.py:37: FutureWarning: The frame.append method is deprecated and will be removed from pandas in a future version. Use pandas.concat instead.\n",
      "  intron_coordinates = intron_coordinates.append(new_row, ignore_index=True)\n",
      "/tmp/ipykernel_2357504/3447769798.py:37: FutureWarning: The frame.append method is deprecated and will be removed from pandas in a future version. Use pandas.concat instead.\n",
      "  intron_coordinates = intron_coordinates.append(new_row, ignore_index=True)\n"
     ]
    },
    {
     "name": "stdout",
     "output_type": "stream",
     "text": [
      "adding 13397072 13410892\n",
      "adding 13411213 13414634\n",
      "adding 13414893 13448916\n"
     ]
    },
    {
     "name": "stderr",
     "output_type": "stream",
     "text": [
      "/tmp/ipykernel_2357504/3447769798.py:37: FutureWarning: The frame.append method is deprecated and will be removed from pandas in a future version. Use pandas.concat instead.\n",
      "  intron_coordinates = intron_coordinates.append(new_row, ignore_index=True)\n",
      "/tmp/ipykernel_2357504/3447769798.py:37: FutureWarning: The frame.append method is deprecated and will be removed from pandas in a future version. Use pandas.concat instead.\n",
      "  intron_coordinates = intron_coordinates.append(new_row, ignore_index=True)\n",
      "/tmp/ipykernel_2357504/3447769798.py:37: FutureWarning: The frame.append method is deprecated and will be removed from pandas in a future version. Use pandas.concat instead.\n",
      "  intron_coordinates = intron_coordinates.append(new_row, ignore_index=True)\n"
     ]
    },
    {
     "name": "stdout",
     "output_type": "stream",
     "text": [
      "adding 13449166 13470020\n",
      "adding 13470329 13479153\n",
      "adding 13249982 13250916\n"
     ]
    },
    {
     "name": "stderr",
     "output_type": "stream",
     "text": [
      "/tmp/ipykernel_2357504/3447769798.py:37: FutureWarning: The frame.append method is deprecated and will be removed from pandas in a future version. Use pandas.concat instead.\n",
      "  intron_coordinates = intron_coordinates.append(new_row, ignore_index=True)\n",
      "/tmp/ipykernel_2357504/3447769798.py:37: FutureWarning: The frame.append method is deprecated and will be removed from pandas in a future version. Use pandas.concat instead.\n",
      "  intron_coordinates = intron_coordinates.append(new_row, ignore_index=True)\n",
      "/tmp/ipykernel_2357504/3447769798.py:37: FutureWarning: The frame.append method is deprecated and will be removed from pandas in a future version. Use pandas.concat instead.\n",
      "  intron_coordinates = intron_coordinates.append(new_row, ignore_index=True)\n"
     ]
    },
    {
     "name": "stdout",
     "output_type": "stream",
     "text": [
      "adding 13251287 13260177\n",
      "adding 13260504 13297606\n",
      "adding 13297948 13298856\n"
     ]
    },
    {
     "name": "stderr",
     "output_type": "stream",
     "text": [
      "/tmp/ipykernel_2357504/3447769798.py:37: FutureWarning: The frame.append method is deprecated and will be removed from pandas in a future version. Use pandas.concat instead.\n",
      "  intron_coordinates = intron_coordinates.append(new_row, ignore_index=True)\n",
      "/tmp/ipykernel_2357504/3447769798.py:37: FutureWarning: The frame.append method is deprecated and will be removed from pandas in a future version. Use pandas.concat instead.\n",
      "  intron_coordinates = intron_coordinates.append(new_row, ignore_index=True)\n",
      "/tmp/ipykernel_2357504/3447769798.py:37: FutureWarning: The frame.append method is deprecated and will be removed from pandas in a future version. Use pandas.concat instead.\n",
      "  intron_coordinates = intron_coordinates.append(new_row, ignore_index=True)\n"
     ]
    },
    {
     "name": "stdout",
     "output_type": "stream",
     "text": [
      "adding 13299244 13302776\n",
      "adding 13303091 13305298\n",
      "adding 13305647 13305937\n"
     ]
    },
    {
     "name": "stderr",
     "output_type": "stream",
     "text": [
      "/tmp/ipykernel_2357504/3447769798.py:37: FutureWarning: The frame.append method is deprecated and will be removed from pandas in a future version. Use pandas.concat instead.\n",
      "  intron_coordinates = intron_coordinates.append(new_row, ignore_index=True)\n",
      "/tmp/ipykernel_2357504/3447769798.py:37: FutureWarning: The frame.append method is deprecated and will be removed from pandas in a future version. Use pandas.concat instead.\n",
      "  intron_coordinates = intron_coordinates.append(new_row, ignore_index=True)\n"
     ]
    },
    {
     "name": "stdout",
     "output_type": "stream",
     "text": [
      "HERE 13306350 13323454\n",
      "adding 13323860 13324500\n",
      "adding 13324806 13326120\n"
     ]
    },
    {
     "name": "stderr",
     "output_type": "stream",
     "text": [
      "/tmp/ipykernel_2357504/3447769798.py:37: FutureWarning: The frame.append method is deprecated and will be removed from pandas in a future version. Use pandas.concat instead.\n",
      "  intron_coordinates = intron_coordinates.append(new_row, ignore_index=True)\n",
      "/tmp/ipykernel_2357504/3447769798.py:37: FutureWarning: The frame.append method is deprecated and will be removed from pandas in a future version. Use pandas.concat instead.\n",
      "  intron_coordinates = intron_coordinates.append(new_row, ignore_index=True)\n",
      "/tmp/ipykernel_2357504/3447769798.py:37: FutureWarning: The frame.append method is deprecated and will be removed from pandas in a future version. Use pandas.concat instead.\n",
      "  intron_coordinates = intron_coordinates.append(new_row, ignore_index=True)\n"
     ]
    },
    {
     "name": "stdout",
     "output_type": "stream",
     "text": [
      "adding 13326450 13335462\n",
      "HERE 13336435 13354902\n",
      "adding 13355498 13355822\n"
     ]
    },
    {
     "name": "stderr",
     "output_type": "stream",
     "text": [
      "/tmp/ipykernel_2357504/3447769798.py:37: FutureWarning: The frame.append method is deprecated and will be removed from pandas in a future version. Use pandas.concat instead.\n",
      "  intron_coordinates = intron_coordinates.append(new_row, ignore_index=True)\n",
      "/tmp/ipykernel_2357504/3447769798.py:37: FutureWarning: The frame.append method is deprecated and will be removed from pandas in a future version. Use pandas.concat instead.\n",
      "  intron_coordinates = intron_coordinates.append(new_row, ignore_index=True)\n",
      "/tmp/ipykernel_2357504/3447769798.py:37: FutureWarning: The frame.append method is deprecated and will be removed from pandas in a future version. Use pandas.concat instead.\n",
      "  intron_coordinates = intron_coordinates.append(new_row, ignore_index=True)\n"
     ]
    },
    {
     "name": "stdout",
     "output_type": "stream",
     "text": [
      "adding 13356118 13357776\n",
      "adding 13358069 13358363\n",
      "adding 13358653 13358987\n"
     ]
    },
    {
     "name": "stderr",
     "output_type": "stream",
     "text": [
      "/tmp/ipykernel_2357504/3447769798.py:37: FutureWarning: The frame.append method is deprecated and will be removed from pandas in a future version. Use pandas.concat instead.\n",
      "  intron_coordinates = intron_coordinates.append(new_row, ignore_index=True)\n",
      "/tmp/ipykernel_2357504/3447769798.py:37: FutureWarning: The frame.append method is deprecated and will be removed from pandas in a future version. Use pandas.concat instead.\n",
      "  intron_coordinates = intron_coordinates.append(new_row, ignore_index=True)\n"
     ]
    },
    {
     "name": "stdout",
     "output_type": "stream",
     "text": [
      "adding 13359322 13359666\n",
      "HERE 13360086 13366166\n",
      "adding 13366493 13369155\n"
     ]
    },
    {
     "name": "stderr",
     "output_type": "stream",
     "text": [
      "/tmp/ipykernel_2357504/3447769798.py:37: FutureWarning: The frame.append method is deprecated and will be removed from pandas in a future version. Use pandas.concat instead.\n",
      "  intron_coordinates = intron_coordinates.append(new_row, ignore_index=True)\n",
      "/tmp/ipykernel_2357504/3447769798.py:37: FutureWarning: The frame.append method is deprecated and will be removed from pandas in a future version. Use pandas.concat instead.\n",
      "  intron_coordinates = intron_coordinates.append(new_row, ignore_index=True)\n",
      "/tmp/ipykernel_2357504/3447769798.py:37: FutureWarning: The frame.append method is deprecated and will be removed from pandas in a future version. Use pandas.concat instead.\n",
      "  intron_coordinates = intron_coordinates.append(new_row, ignore_index=True)\n"
     ]
    },
    {
     "name": "stdout",
     "output_type": "stream",
     "text": [
      "adding 13369449 13393758\n",
      "adding 13393993 13396817\n",
      "adding 13397072 13410892\n"
     ]
    },
    {
     "name": "stderr",
     "output_type": "stream",
     "text": [
      "/tmp/ipykernel_2357504/3447769798.py:37: FutureWarning: The frame.append method is deprecated and will be removed from pandas in a future version. Use pandas.concat instead.\n",
      "  intron_coordinates = intron_coordinates.append(new_row, ignore_index=True)\n",
      "/tmp/ipykernel_2357504/3447769798.py:37: FutureWarning: The frame.append method is deprecated and will be removed from pandas in a future version. Use pandas.concat instead.\n",
      "  intron_coordinates = intron_coordinates.append(new_row, ignore_index=True)\n",
      "/tmp/ipykernel_2357504/3447769798.py:37: FutureWarning: The frame.append method is deprecated and will be removed from pandas in a future version. Use pandas.concat instead.\n",
      "  intron_coordinates = intron_coordinates.append(new_row, ignore_index=True)\n"
     ]
    },
    {
     "name": "stdout",
     "output_type": "stream",
     "text": [
      "adding 13411213 13414634\n",
      "adding 13414893 13448916\n",
      "adding 13449166 13470020\n"
     ]
    },
    {
     "name": "stderr",
     "output_type": "stream",
     "text": [
      "/tmp/ipykernel_2357504/3447769798.py:37: FutureWarning: The frame.append method is deprecated and will be removed from pandas in a future version. Use pandas.concat instead.\n",
      "  intron_coordinates = intron_coordinates.append(new_row, ignore_index=True)\n",
      "/tmp/ipykernel_2357504/3447769798.py:37: FutureWarning: The frame.append method is deprecated and will be removed from pandas in a future version. Use pandas.concat instead.\n",
      "  intron_coordinates = intron_coordinates.append(new_row, ignore_index=True)\n",
      "/tmp/ipykernel_2357504/3447769798.py:37: FutureWarning: The frame.append method is deprecated and will be removed from pandas in a future version. Use pandas.concat instead.\n",
      "  intron_coordinates = intron_coordinates.append(new_row, ignore_index=True)\n"
     ]
    },
    {
     "name": "stdout",
     "output_type": "stream",
     "text": [
      "adding 13470329 13479153\n",
      "adding 13249982 13250916\n",
      "adding 13251287 13260177\n"
     ]
    },
    {
     "name": "stderr",
     "output_type": "stream",
     "text": [
      "/tmp/ipykernel_2357504/3447769798.py:37: FutureWarning: The frame.append method is deprecated and will be removed from pandas in a future version. Use pandas.concat instead.\n",
      "  intron_coordinates = intron_coordinates.append(new_row, ignore_index=True)\n",
      "/tmp/ipykernel_2357504/3447769798.py:37: FutureWarning: The frame.append method is deprecated and will be removed from pandas in a future version. Use pandas.concat instead.\n",
      "  intron_coordinates = intron_coordinates.append(new_row, ignore_index=True)\n",
      "/tmp/ipykernel_2357504/3447769798.py:37: FutureWarning: The frame.append method is deprecated and will be removed from pandas in a future version. Use pandas.concat instead.\n",
      "  intron_coordinates = intron_coordinates.append(new_row, ignore_index=True)\n"
     ]
    },
    {
     "name": "stdout",
     "output_type": "stream",
     "text": [
      "adding 13260504 13297606\n",
      "adding 13297948 13298856\n",
      "adding 13299244 13302776\n"
     ]
    },
    {
     "name": "stderr",
     "output_type": "stream",
     "text": [
      "/tmp/ipykernel_2357504/3447769798.py:37: FutureWarning: The frame.append method is deprecated and will be removed from pandas in a future version. Use pandas.concat instead.\n",
      "  intron_coordinates = intron_coordinates.append(new_row, ignore_index=True)\n",
      "/tmp/ipykernel_2357504/3447769798.py:37: FutureWarning: The frame.append method is deprecated and will be removed from pandas in a future version. Use pandas.concat instead.\n",
      "  intron_coordinates = intron_coordinates.append(new_row, ignore_index=True)\n",
      "/tmp/ipykernel_2357504/3447769798.py:37: FutureWarning: The frame.append method is deprecated and will be removed from pandas in a future version. Use pandas.concat instead.\n",
      "  intron_coordinates = intron_coordinates.append(new_row, ignore_index=True)\n"
     ]
    },
    {
     "name": "stdout",
     "output_type": "stream",
     "text": [
      "adding 13303091 13305298\n",
      "adding 13305647 13305937\n",
      "HERE 13306350 13323454\n",
      "adding 13323860 13324500\n",
      "adding 13324806 13326120\n",
      "adding 13326450 13335462\n"
     ]
    },
    {
     "name": "stderr",
     "output_type": "stream",
     "text": [
      "/tmp/ipykernel_2357504/3447769798.py:37: FutureWarning: The frame.append method is deprecated and will be removed from pandas in a future version. Use pandas.concat instead.\n",
      "  intron_coordinates = intron_coordinates.append(new_row, ignore_index=True)\n",
      "/tmp/ipykernel_2357504/3447769798.py:37: FutureWarning: The frame.append method is deprecated and will be removed from pandas in a future version. Use pandas.concat instead.\n",
      "  intron_coordinates = intron_coordinates.append(new_row, ignore_index=True)\n",
      "/tmp/ipykernel_2357504/3447769798.py:37: FutureWarning: The frame.append method is deprecated and will be removed from pandas in a future version. Use pandas.concat instead.\n",
      "  intron_coordinates = intron_coordinates.append(new_row, ignore_index=True)\n"
     ]
    },
    {
     "name": "stdout",
     "output_type": "stream",
     "text": [
      "HERE 13336435 13354902\n",
      "adding 13355498 13355822\n",
      "adding 13356118 13357776\n"
     ]
    },
    {
     "name": "stderr",
     "output_type": "stream",
     "text": [
      "/tmp/ipykernel_2357504/3447769798.py:37: FutureWarning: The frame.append method is deprecated and will be removed from pandas in a future version. Use pandas.concat instead.\n",
      "  intron_coordinates = intron_coordinates.append(new_row, ignore_index=True)\n",
      "/tmp/ipykernel_2357504/3447769798.py:37: FutureWarning: The frame.append method is deprecated and will be removed from pandas in a future version. Use pandas.concat instead.\n",
      "  intron_coordinates = intron_coordinates.append(new_row, ignore_index=True)\n",
      "/tmp/ipykernel_2357504/3447769798.py:37: FutureWarning: The frame.append method is deprecated and will be removed from pandas in a future version. Use pandas.concat instead.\n",
      "  intron_coordinates = intron_coordinates.append(new_row, ignore_index=True)\n"
     ]
    },
    {
     "name": "stdout",
     "output_type": "stream",
     "text": [
      "adding 13358069 13358363\n",
      "adding 13358719 13358987\n",
      "adding 13359322 13359666\n"
     ]
    },
    {
     "name": "stderr",
     "output_type": "stream",
     "text": [
      "/tmp/ipykernel_2357504/3447769798.py:37: FutureWarning: The frame.append method is deprecated and will be removed from pandas in a future version. Use pandas.concat instead.\n",
      "  intron_coordinates = intron_coordinates.append(new_row, ignore_index=True)\n",
      "/tmp/ipykernel_2357504/3447769798.py:37: FutureWarning: The frame.append method is deprecated and will be removed from pandas in a future version. Use pandas.concat instead.\n",
      "  intron_coordinates = intron_coordinates.append(new_row, ignore_index=True)\n",
      "/tmp/ipykernel_2357504/3447769798.py:37: FutureWarning: The frame.append method is deprecated and will be removed from pandas in a future version. Use pandas.concat instead.\n",
      "  intron_coordinates = intron_coordinates.append(new_row, ignore_index=True)\n"
     ]
    },
    {
     "name": "stdout",
     "output_type": "stream",
     "text": [
      "adding 13360086 13360329\n",
      "adding 13360628 13366166\n",
      "adding 13366493 13369155\n"
     ]
    },
    {
     "name": "stderr",
     "output_type": "stream",
     "text": [
      "/tmp/ipykernel_2357504/3447769798.py:37: FutureWarning: The frame.append method is deprecated and will be removed from pandas in a future version. Use pandas.concat instead.\n",
      "  intron_coordinates = intron_coordinates.append(new_row, ignore_index=True)\n",
      "/tmp/ipykernel_2357504/3447769798.py:37: FutureWarning: The frame.append method is deprecated and will be removed from pandas in a future version. Use pandas.concat instead.\n",
      "  intron_coordinates = intron_coordinates.append(new_row, ignore_index=True)\n",
      "/tmp/ipykernel_2357504/3447769798.py:37: FutureWarning: The frame.append method is deprecated and will be removed from pandas in a future version. Use pandas.concat instead.\n",
      "  intron_coordinates = intron_coordinates.append(new_row, ignore_index=True)\n"
     ]
    },
    {
     "name": "stdout",
     "output_type": "stream",
     "text": [
      "adding 13369449 13393758\n",
      "adding 13393993 13396817\n",
      "adding 13397072 13410892\n"
     ]
    },
    {
     "name": "stderr",
     "output_type": "stream",
     "text": [
      "/tmp/ipykernel_2357504/3447769798.py:37: FutureWarning: The frame.append method is deprecated and will be removed from pandas in a future version. Use pandas.concat instead.\n",
      "  intron_coordinates = intron_coordinates.append(new_row, ignore_index=True)\n",
      "/tmp/ipykernel_2357504/3447769798.py:37: FutureWarning: The frame.append method is deprecated and will be removed from pandas in a future version. Use pandas.concat instead.\n",
      "  intron_coordinates = intron_coordinates.append(new_row, ignore_index=True)\n",
      "/tmp/ipykernel_2357504/3447769798.py:37: FutureWarning: The frame.append method is deprecated and will be removed from pandas in a future version. Use pandas.concat instead.\n",
      "  intron_coordinates = intron_coordinates.append(new_row, ignore_index=True)\n"
     ]
    },
    {
     "name": "stdout",
     "output_type": "stream",
     "text": [
      "adding 13411213 13414634\n",
      "adding 13414893 13448916\n",
      "adding 13449166 13470020\n"
     ]
    },
    {
     "name": "stderr",
     "output_type": "stream",
     "text": [
      "/tmp/ipykernel_2357504/3447769798.py:37: FutureWarning: The frame.append method is deprecated and will be removed from pandas in a future version. Use pandas.concat instead.\n",
      "  intron_coordinates = intron_coordinates.append(new_row, ignore_index=True)\n",
      "/tmp/ipykernel_2357504/3447769798.py:37: FutureWarning: The frame.append method is deprecated and will be removed from pandas in a future version. Use pandas.concat instead.\n",
      "  intron_coordinates = intron_coordinates.append(new_row, ignore_index=True)\n",
      "/tmp/ipykernel_2357504/3447769798.py:37: FutureWarning: The frame.append method is deprecated and will be removed from pandas in a future version. Use pandas.concat instead.\n",
      "  intron_coordinates = intron_coordinates.append(new_row, ignore_index=True)\n"
     ]
    },
    {
     "name": "stdout",
     "output_type": "stream",
     "text": [
      "adding 13470329 13479153\n",
      "adding 13249982 13250916\n",
      "adding 13251287 13260177\n"
     ]
    },
    {
     "name": "stderr",
     "output_type": "stream",
     "text": [
      "/tmp/ipykernel_2357504/3447769798.py:37: FutureWarning: The frame.append method is deprecated and will be removed from pandas in a future version. Use pandas.concat instead.\n",
      "  intron_coordinates = intron_coordinates.append(new_row, ignore_index=True)\n",
      "/tmp/ipykernel_2357504/3447769798.py:37: FutureWarning: The frame.append method is deprecated and will be removed from pandas in a future version. Use pandas.concat instead.\n",
      "  intron_coordinates = intron_coordinates.append(new_row, ignore_index=True)\n",
      "/tmp/ipykernel_2357504/3447769798.py:37: FutureWarning: The frame.append method is deprecated and will be removed from pandas in a future version. Use pandas.concat instead.\n",
      "  intron_coordinates = intron_coordinates.append(new_row, ignore_index=True)\n"
     ]
    },
    {
     "name": "stdout",
     "output_type": "stream",
     "text": [
      "adding 13260504 13297606\n",
      "adding 13297948 13298856\n",
      "adding 13299244 13302776\n"
     ]
    },
    {
     "name": "stderr",
     "output_type": "stream",
     "text": [
      "/tmp/ipykernel_2357504/3447769798.py:37: FutureWarning: The frame.append method is deprecated and will be removed from pandas in a future version. Use pandas.concat instead.\n",
      "  intron_coordinates = intron_coordinates.append(new_row, ignore_index=True)\n",
      "/tmp/ipykernel_2357504/3447769798.py:37: FutureWarning: The frame.append method is deprecated and will be removed from pandas in a future version. Use pandas.concat instead.\n",
      "  intron_coordinates = intron_coordinates.append(new_row, ignore_index=True)\n",
      "/tmp/ipykernel_2357504/3447769798.py:37: FutureWarning: The frame.append method is deprecated and will be removed from pandas in a future version. Use pandas.concat instead.\n",
      "  intron_coordinates = intron_coordinates.append(new_row, ignore_index=True)\n"
     ]
    },
    {
     "name": "stdout",
     "output_type": "stream",
     "text": [
      "adding 13303091 13305298\n",
      "HERE 13305647 13306085\n",
      "HERE 13306350 13323454\n",
      "adding 13323860 13324500\n"
     ]
    },
    {
     "name": "stderr",
     "output_type": "stream",
     "text": [
      "/tmp/ipykernel_2357504/3447769798.py:37: FutureWarning: The frame.append method is deprecated and will be removed from pandas in a future version. Use pandas.concat instead.\n",
      "  intron_coordinates = intron_coordinates.append(new_row, ignore_index=True)\n",
      "/tmp/ipykernel_2357504/3447769798.py:37: FutureWarning: The frame.append method is deprecated and will be removed from pandas in a future version. Use pandas.concat instead.\n",
      "  intron_coordinates = intron_coordinates.append(new_row, ignore_index=True)\n",
      "/tmp/ipykernel_2357504/3447769798.py:37: FutureWarning: The frame.append method is deprecated and will be removed from pandas in a future version. Use pandas.concat instead.\n",
      "  intron_coordinates = intron_coordinates.append(new_row, ignore_index=True)\n"
     ]
    },
    {
     "name": "stdout",
     "output_type": "stream",
     "text": [
      "adding 13324806 13326120\n",
      "adding 13326450 13335462\n",
      "HERE 13336435 13354902\n",
      "adding 13355498 13355822\n",
      "adding 13356118 13357776\n",
      "HERE 13358069 13358987\n"
     ]
    },
    {
     "name": "stderr",
     "output_type": "stream",
     "text": [
      "/tmp/ipykernel_2357504/3447769798.py:37: FutureWarning: The frame.append method is deprecated and will be removed from pandas in a future version. Use pandas.concat instead.\n",
      "  intron_coordinates = intron_coordinates.append(new_row, ignore_index=True)\n",
      "/tmp/ipykernel_2357504/3447769798.py:37: FutureWarning: The frame.append method is deprecated and will be removed from pandas in a future version. Use pandas.concat instead.\n",
      "  intron_coordinates = intron_coordinates.append(new_row, ignore_index=True)\n"
     ]
    },
    {
     "name": "stdout",
     "output_type": "stream",
     "text": [
      "adding 13359322 13359666\n",
      "adding 13360086 13360329\n",
      "adding 13360628 13366166\n"
     ]
    },
    {
     "name": "stderr",
     "output_type": "stream",
     "text": [
      "/tmp/ipykernel_2357504/3447769798.py:37: FutureWarning: The frame.append method is deprecated and will be removed from pandas in a future version. Use pandas.concat instead.\n",
      "  intron_coordinates = intron_coordinates.append(new_row, ignore_index=True)\n",
      "/tmp/ipykernel_2357504/3447769798.py:37: FutureWarning: The frame.append method is deprecated and will be removed from pandas in a future version. Use pandas.concat instead.\n",
      "  intron_coordinates = intron_coordinates.append(new_row, ignore_index=True)\n",
      "/tmp/ipykernel_2357504/3447769798.py:37: FutureWarning: The frame.append method is deprecated and will be removed from pandas in a future version. Use pandas.concat instead.\n",
      "  intron_coordinates = intron_coordinates.append(new_row, ignore_index=True)\n"
     ]
    },
    {
     "name": "stdout",
     "output_type": "stream",
     "text": [
      "adding 13366493 13369155\n",
      "adding 13369449 13393758\n",
      "adding 13393993 13396817\n"
     ]
    },
    {
     "name": "stderr",
     "output_type": "stream",
     "text": [
      "/tmp/ipykernel_2357504/3447769798.py:37: FutureWarning: The frame.append method is deprecated and will be removed from pandas in a future version. Use pandas.concat instead.\n",
      "  intron_coordinates = intron_coordinates.append(new_row, ignore_index=True)\n",
      "/tmp/ipykernel_2357504/3447769798.py:37: FutureWarning: The frame.append method is deprecated and will be removed from pandas in a future version. Use pandas.concat instead.\n",
      "  intron_coordinates = intron_coordinates.append(new_row, ignore_index=True)\n",
      "/tmp/ipykernel_2357504/3447769798.py:37: FutureWarning: The frame.append method is deprecated and will be removed from pandas in a future version. Use pandas.concat instead.\n",
      "  intron_coordinates = intron_coordinates.append(new_row, ignore_index=True)\n"
     ]
    },
    {
     "name": "stdout",
     "output_type": "stream",
     "text": [
      "adding 13397072 13410892\n",
      "adding 13411213 13414634\n",
      "adding 13414893 13448916\n"
     ]
    },
    {
     "name": "stderr",
     "output_type": "stream",
     "text": [
      "/tmp/ipykernel_2357504/3447769798.py:37: FutureWarning: The frame.append method is deprecated and will be removed from pandas in a future version. Use pandas.concat instead.\n",
      "  intron_coordinates = intron_coordinates.append(new_row, ignore_index=True)\n",
      "/tmp/ipykernel_2357504/3447769798.py:37: FutureWarning: The frame.append method is deprecated and will be removed from pandas in a future version. Use pandas.concat instead.\n",
      "  intron_coordinates = intron_coordinates.append(new_row, ignore_index=True)\n",
      "/tmp/ipykernel_2357504/3447769798.py:37: FutureWarning: The frame.append method is deprecated and will be removed from pandas in a future version. Use pandas.concat instead.\n",
      "  intron_coordinates = intron_coordinates.append(new_row, ignore_index=True)\n"
     ]
    },
    {
     "name": "stdout",
     "output_type": "stream",
     "text": [
      "adding 13449166 13470020\n",
      "adding 13470329 13479153\n",
      "adding 13249982 13250916\n"
     ]
    },
    {
     "name": "stderr",
     "output_type": "stream",
     "text": [
      "/tmp/ipykernel_2357504/3447769798.py:37: FutureWarning: The frame.append method is deprecated and will be removed from pandas in a future version. Use pandas.concat instead.\n",
      "  intron_coordinates = intron_coordinates.append(new_row, ignore_index=True)\n",
      "/tmp/ipykernel_2357504/3447769798.py:37: FutureWarning: The frame.append method is deprecated and will be removed from pandas in a future version. Use pandas.concat instead.\n",
      "  intron_coordinates = intron_coordinates.append(new_row, ignore_index=True)\n",
      "/tmp/ipykernel_2357504/3447769798.py:37: FutureWarning: The frame.append method is deprecated and will be removed from pandas in a future version. Use pandas.concat instead.\n",
      "  intron_coordinates = intron_coordinates.append(new_row, ignore_index=True)\n"
     ]
    },
    {
     "name": "stdout",
     "output_type": "stream",
     "text": [
      "adding 13251287 13260177\n",
      "adding 13260504 13297606\n",
      "adding 13297948 13298856\n"
     ]
    },
    {
     "name": "stderr",
     "output_type": "stream",
     "text": [
      "/tmp/ipykernel_2357504/3447769798.py:37: FutureWarning: The frame.append method is deprecated and will be removed from pandas in a future version. Use pandas.concat instead.\n",
      "  intron_coordinates = intron_coordinates.append(new_row, ignore_index=True)\n",
      "/tmp/ipykernel_2357504/3447769798.py:37: FutureWarning: The frame.append method is deprecated and will be removed from pandas in a future version. Use pandas.concat instead.\n",
      "  intron_coordinates = intron_coordinates.append(new_row, ignore_index=True)\n",
      "/tmp/ipykernel_2357504/3447769798.py:37: FutureWarning: The frame.append method is deprecated and will be removed from pandas in a future version. Use pandas.concat instead.\n",
      "  intron_coordinates = intron_coordinates.append(new_row, ignore_index=True)\n"
     ]
    },
    {
     "name": "stdout",
     "output_type": "stream",
     "text": [
      "adding 13299244 13302776\n",
      "adding 13303091 13305298\n",
      "adding 13305647 13305937\n"
     ]
    },
    {
     "name": "stderr",
     "output_type": "stream",
     "text": [
      "/tmp/ipykernel_2357504/3447769798.py:37: FutureWarning: The frame.append method is deprecated and will be removed from pandas in a future version. Use pandas.concat instead.\n",
      "  intron_coordinates = intron_coordinates.append(new_row, ignore_index=True)\n",
      "/tmp/ipykernel_2357504/3447769798.py:37: FutureWarning: The frame.append method is deprecated and will be removed from pandas in a future version. Use pandas.concat instead.\n",
      "  intron_coordinates = intron_coordinates.append(new_row, ignore_index=True)\n",
      "/tmp/ipykernel_2357504/3447769798.py:37: FutureWarning: The frame.append method is deprecated and will be removed from pandas in a future version. Use pandas.concat instead.\n",
      "  intron_coordinates = intron_coordinates.append(new_row, ignore_index=True)\n"
     ]
    },
    {
     "name": "stdout",
     "output_type": "stream",
     "text": [
      "HERE 13306350 13323454\n",
      "adding 13323860 13324500\n",
      "adding 13324806 13326120\n"
     ]
    },
    {
     "name": "stderr",
     "output_type": "stream",
     "text": [
      "/tmp/ipykernel_2357504/3447769798.py:37: FutureWarning: The frame.append method is deprecated and will be removed from pandas in a future version. Use pandas.concat instead.\n",
      "  intron_coordinates = intron_coordinates.append(new_row, ignore_index=True)\n",
      "/tmp/ipykernel_2357504/3447769798.py:37: FutureWarning: The frame.append method is deprecated and will be removed from pandas in a future version. Use pandas.concat instead.\n",
      "  intron_coordinates = intron_coordinates.append(new_row, ignore_index=True)\n",
      "/tmp/ipykernel_2357504/3447769798.py:37: FutureWarning: The frame.append method is deprecated and will be removed from pandas in a future version. Use pandas.concat instead.\n",
      "  intron_coordinates = intron_coordinates.append(new_row, ignore_index=True)\n"
     ]
    },
    {
     "name": "stdout",
     "output_type": "stream",
     "text": [
      "adding 13326450 13335462\n",
      "HERE 13336435 13354902\n",
      "adding 13355498 13355822\n"
     ]
    },
    {
     "name": "stderr",
     "output_type": "stream",
     "text": [
      "/tmp/ipykernel_2357504/3447769798.py:37: FutureWarning: The frame.append method is deprecated and will be removed from pandas in a future version. Use pandas.concat instead.\n",
      "  intron_coordinates = intron_coordinates.append(new_row, ignore_index=True)\n",
      "/tmp/ipykernel_2357504/3447769798.py:37: FutureWarning: The frame.append method is deprecated and will be removed from pandas in a future version. Use pandas.concat instead.\n",
      "  intron_coordinates = intron_coordinates.append(new_row, ignore_index=True)\n",
      "/tmp/ipykernel_2357504/3447769798.py:37: FutureWarning: The frame.append method is deprecated and will be removed from pandas in a future version. Use pandas.concat instead.\n",
      "  intron_coordinates = intron_coordinates.append(new_row, ignore_index=True)\n"
     ]
    },
    {
     "name": "stdout",
     "output_type": "stream",
     "text": [
      "adding 13356118 13357776\n",
      "adding 13358069 13358363\n",
      "HERE 13358719 13359666\n",
      "adding 13360086 13360329\n",
      "adding 13360628 13366166\n",
      "adding 13366493 13369155\n"
     ]
    },
    {
     "name": "stderr",
     "output_type": "stream",
     "text": [
      "/tmp/ipykernel_2357504/3447769798.py:37: FutureWarning: The frame.append method is deprecated and will be removed from pandas in a future version. Use pandas.concat instead.\n",
      "  intron_coordinates = intron_coordinates.append(new_row, ignore_index=True)\n",
      "/tmp/ipykernel_2357504/3447769798.py:37: FutureWarning: The frame.append method is deprecated and will be removed from pandas in a future version. Use pandas.concat instead.\n",
      "  intron_coordinates = intron_coordinates.append(new_row, ignore_index=True)\n",
      "/tmp/ipykernel_2357504/3447769798.py:37: FutureWarning: The frame.append method is deprecated and will be removed from pandas in a future version. Use pandas.concat instead.\n",
      "  intron_coordinates = intron_coordinates.append(new_row, ignore_index=True)\n"
     ]
    },
    {
     "name": "stdout",
     "output_type": "stream",
     "text": [
      "adding 13369449 13393758\n",
      "adding 13393993 13396817\n",
      "adding 13397072 13410892\n"
     ]
    },
    {
     "name": "stderr",
     "output_type": "stream",
     "text": [
      "/tmp/ipykernel_2357504/3447769798.py:37: FutureWarning: The frame.append method is deprecated and will be removed from pandas in a future version. Use pandas.concat instead.\n",
      "  intron_coordinates = intron_coordinates.append(new_row, ignore_index=True)\n",
      "/tmp/ipykernel_2357504/3447769798.py:37: FutureWarning: The frame.append method is deprecated and will be removed from pandas in a future version. Use pandas.concat instead.\n",
      "  intron_coordinates = intron_coordinates.append(new_row, ignore_index=True)\n",
      "/tmp/ipykernel_2357504/3447769798.py:37: FutureWarning: The frame.append method is deprecated and will be removed from pandas in a future version. Use pandas.concat instead.\n",
      "  intron_coordinates = intron_coordinates.append(new_row, ignore_index=True)\n"
     ]
    },
    {
     "name": "stdout",
     "output_type": "stream",
     "text": [
      "adding 13411213 13414634\n",
      "adding 13414893 13448916\n",
      "adding 13449166 13470020\n"
     ]
    },
    {
     "name": "stderr",
     "output_type": "stream",
     "text": [
      "/tmp/ipykernel_2357504/3447769798.py:37: FutureWarning: The frame.append method is deprecated and will be removed from pandas in a future version. Use pandas.concat instead.\n",
      "  intron_coordinates = intron_coordinates.append(new_row, ignore_index=True)\n",
      "/tmp/ipykernel_2357504/3447769798.py:37: FutureWarning: The frame.append method is deprecated and will be removed from pandas in a future version. Use pandas.concat instead.\n",
      "  intron_coordinates = intron_coordinates.append(new_row, ignore_index=True)\n",
      "/tmp/ipykernel_2357504/3447769798.py:37: FutureWarning: The frame.append method is deprecated and will be removed from pandas in a future version. Use pandas.concat instead.\n",
      "  intron_coordinates = intron_coordinates.append(new_row, ignore_index=True)\n"
     ]
    },
    {
     "name": "stdout",
     "output_type": "stream",
     "text": [
      "adding 13470329 13479153\n",
      "adding 13249982 13250916\n",
      "adding 13251287 13260177\n"
     ]
    },
    {
     "name": "stderr",
     "output_type": "stream",
     "text": [
      "/tmp/ipykernel_2357504/3447769798.py:37: FutureWarning: The frame.append method is deprecated and will be removed from pandas in a future version. Use pandas.concat instead.\n",
      "  intron_coordinates = intron_coordinates.append(new_row, ignore_index=True)\n",
      "/tmp/ipykernel_2357504/3447769798.py:37: FutureWarning: The frame.append method is deprecated and will be removed from pandas in a future version. Use pandas.concat instead.\n",
      "  intron_coordinates = intron_coordinates.append(new_row, ignore_index=True)\n",
      "/tmp/ipykernel_2357504/3447769798.py:37: FutureWarning: The frame.append method is deprecated and will be removed from pandas in a future version. Use pandas.concat instead.\n",
      "  intron_coordinates = intron_coordinates.append(new_row, ignore_index=True)\n"
     ]
    },
    {
     "name": "stdout",
     "output_type": "stream",
     "text": [
      "adding 13260504 13297606\n",
      "adding 13297948 13298856\n",
      "adding 13299244 13302776\n"
     ]
    },
    {
     "name": "stderr",
     "output_type": "stream",
     "text": [
      "/tmp/ipykernel_2357504/3447769798.py:37: FutureWarning: The frame.append method is deprecated and will be removed from pandas in a future version. Use pandas.concat instead.\n",
      "  intron_coordinates = intron_coordinates.append(new_row, ignore_index=True)\n",
      "/tmp/ipykernel_2357504/3447769798.py:37: FutureWarning: The frame.append method is deprecated and will be removed from pandas in a future version. Use pandas.concat instead.\n",
      "  intron_coordinates = intron_coordinates.append(new_row, ignore_index=True)\n",
      "/tmp/ipykernel_2357504/3447769798.py:37: FutureWarning: The frame.append method is deprecated and will be removed from pandas in a future version. Use pandas.concat instead.\n",
      "  intron_coordinates = intron_coordinates.append(new_row, ignore_index=True)\n"
     ]
    },
    {
     "name": "stdout",
     "output_type": "stream",
     "text": [
      "adding 13303091 13305298\n",
      "adding 13305647 13305937\n",
      "HERE 13306350 13323454\n"
     ]
    },
    {
     "name": "stderr",
     "output_type": "stream",
     "text": [
      "/tmp/ipykernel_2357504/3447769798.py:37: FutureWarning: The frame.append method is deprecated and will be removed from pandas in a future version. Use pandas.concat instead.\n",
      "  intron_coordinates = intron_coordinates.append(new_row, ignore_index=True)\n",
      "/tmp/ipykernel_2357504/3447769798.py:37: FutureWarning: The frame.append method is deprecated and will be removed from pandas in a future version. Use pandas.concat instead.\n",
      "  intron_coordinates = intron_coordinates.append(new_row, ignore_index=True)\n"
     ]
    },
    {
     "name": "stdout",
     "output_type": "stream",
     "text": [
      "adding 13323860 13324500\n",
      "adding 13324806 13326120\n",
      "adding 13326450 13335462\n"
     ]
    },
    {
     "name": "stderr",
     "output_type": "stream",
     "text": [
      "/tmp/ipykernel_2357504/3447769798.py:37: FutureWarning: The frame.append method is deprecated and will be removed from pandas in a future version. Use pandas.concat instead.\n",
      "  intron_coordinates = intron_coordinates.append(new_row, ignore_index=True)\n",
      "/tmp/ipykernel_2357504/3447769798.py:37: FutureWarning: The frame.append method is deprecated and will be removed from pandas in a future version. Use pandas.concat instead.\n",
      "  intron_coordinates = intron_coordinates.append(new_row, ignore_index=True)\n",
      "/tmp/ipykernel_2357504/3447769798.py:37: FutureWarning: The frame.append method is deprecated and will be removed from pandas in a future version. Use pandas.concat instead.\n",
      "  intron_coordinates = intron_coordinates.append(new_row, ignore_index=True)\n"
     ]
    },
    {
     "name": "stdout",
     "output_type": "stream",
     "text": [
      "HERE 13336435 13354902\n",
      "adding 13355498 13355822\n",
      "adding 13356118 13357776\n",
      "HERE 13358069 13359666\n"
     ]
    },
    {
     "name": "stderr",
     "output_type": "stream",
     "text": [
      "/tmp/ipykernel_2357504/3447769798.py:37: FutureWarning: The frame.append method is deprecated and will be removed from pandas in a future version. Use pandas.concat instead.\n",
      "  intron_coordinates = intron_coordinates.append(new_row, ignore_index=True)\n",
      "/tmp/ipykernel_2357504/3447769798.py:37: FutureWarning: The frame.append method is deprecated and will be removed from pandas in a future version. Use pandas.concat instead.\n",
      "  intron_coordinates = intron_coordinates.append(new_row, ignore_index=True)\n"
     ]
    },
    {
     "name": "stdout",
     "output_type": "stream",
     "text": [
      "adding 13360086 13360329\n",
      "adding 13360628 13366166\n",
      "adding 13366493 13369155\n"
     ]
    },
    {
     "name": "stderr",
     "output_type": "stream",
     "text": [
      "/tmp/ipykernel_2357504/3447769798.py:37: FutureWarning: The frame.append method is deprecated and will be removed from pandas in a future version. Use pandas.concat instead.\n",
      "  intron_coordinates = intron_coordinates.append(new_row, ignore_index=True)\n",
      "/tmp/ipykernel_2357504/3447769798.py:37: FutureWarning: The frame.append method is deprecated and will be removed from pandas in a future version. Use pandas.concat instead.\n",
      "  intron_coordinates = intron_coordinates.append(new_row, ignore_index=True)\n",
      "/tmp/ipykernel_2357504/3447769798.py:37: FutureWarning: The frame.append method is deprecated and will be removed from pandas in a future version. Use pandas.concat instead.\n",
      "  intron_coordinates = intron_coordinates.append(new_row, ignore_index=True)\n"
     ]
    },
    {
     "name": "stdout",
     "output_type": "stream",
     "text": [
      "HERE 13369449 13410892\n",
      "adding 13411213 13414634\n",
      "HERE 13414893 13479153\n",
      "HERE 13249982 13260177\n"
     ]
    },
    {
     "name": "stderr",
     "output_type": "stream",
     "text": [
      "/tmp/ipykernel_2357504/3447769798.py:37: FutureWarning: The frame.append method is deprecated and will be removed from pandas in a future version. Use pandas.concat instead.\n",
      "  intron_coordinates = intron_coordinates.append(new_row, ignore_index=True)\n",
      "/tmp/ipykernel_2357504/3447769798.py:37: FutureWarning: The frame.append method is deprecated and will be removed from pandas in a future version. Use pandas.concat instead.\n",
      "  intron_coordinates = intron_coordinates.append(new_row, ignore_index=True)\n"
     ]
    },
    {
     "name": "stdout",
     "output_type": "stream",
     "text": [
      "adding 13260504 13297606\n",
      "adding 13297948 13298856\n",
      "adding 13299244 13302776\n"
     ]
    },
    {
     "name": "stderr",
     "output_type": "stream",
     "text": [
      "/tmp/ipykernel_2357504/3447769798.py:37: FutureWarning: The frame.append method is deprecated and will be removed from pandas in a future version. Use pandas.concat instead.\n",
      "  intron_coordinates = intron_coordinates.append(new_row, ignore_index=True)\n",
      "/tmp/ipykernel_2357504/3447769798.py:37: FutureWarning: The frame.append method is deprecated and will be removed from pandas in a future version. Use pandas.concat instead.\n",
      "  intron_coordinates = intron_coordinates.append(new_row, ignore_index=True)\n",
      "/tmp/ipykernel_2357504/3447769798.py:37: FutureWarning: The frame.append method is deprecated and will be removed from pandas in a future version. Use pandas.concat instead.\n",
      "  intron_coordinates = intron_coordinates.append(new_row, ignore_index=True)\n"
     ]
    },
    {
     "name": "stdout",
     "output_type": "stream",
     "text": [
      "adding 13303091 13305298\n",
      "adding 13305647 13305937\n",
      "HERE 13306350 13323454\n"
     ]
    },
    {
     "name": "stderr",
     "output_type": "stream",
     "text": [
      "/tmp/ipykernel_2357504/3447769798.py:37: FutureWarning: The frame.append method is deprecated and will be removed from pandas in a future version. Use pandas.concat instead.\n",
      "  intron_coordinates = intron_coordinates.append(new_row, ignore_index=True)\n",
      "/tmp/ipykernel_2357504/3447769798.py:37: FutureWarning: The frame.append method is deprecated and will be removed from pandas in a future version. Use pandas.concat instead.\n",
      "  intron_coordinates = intron_coordinates.append(new_row, ignore_index=True)\n"
     ]
    },
    {
     "name": "stdout",
     "output_type": "stream",
     "text": [
      "adding 13323860 13324500\n",
      "adding 13324806 13326120\n",
      "adding 13326450 13335462\n"
     ]
    },
    {
     "name": "stderr",
     "output_type": "stream",
     "text": [
      "/tmp/ipykernel_2357504/3447769798.py:37: FutureWarning: The frame.append method is deprecated and will be removed from pandas in a future version. Use pandas.concat instead.\n",
      "  intron_coordinates = intron_coordinates.append(new_row, ignore_index=True)\n",
      "/tmp/ipykernel_2357504/3447769798.py:37: FutureWarning: The frame.append method is deprecated and will be removed from pandas in a future version. Use pandas.concat instead.\n",
      "  intron_coordinates = intron_coordinates.append(new_row, ignore_index=True)\n"
     ]
    },
    {
     "name": "stdout",
     "output_type": "stream",
     "text": [
      "HERE 13336435 13355274\n",
      "adding 13355498 13355822\n",
      "adding 13356118 13357776\n"
     ]
    },
    {
     "name": "stderr",
     "output_type": "stream",
     "text": [
      "/tmp/ipykernel_2357504/3447769798.py:37: FutureWarning: The frame.append method is deprecated and will be removed from pandas in a future version. Use pandas.concat instead.\n",
      "  intron_coordinates = intron_coordinates.append(new_row, ignore_index=True)\n",
      "/tmp/ipykernel_2357504/3447769798.py:37: FutureWarning: The frame.append method is deprecated and will be removed from pandas in a future version. Use pandas.concat instead.\n",
      "  intron_coordinates = intron_coordinates.append(new_row, ignore_index=True)\n"
     ]
    },
    {
     "name": "stdout",
     "output_type": "stream",
     "text": [
      "HERE 13358069 13358987\n",
      "adding 13359322 13359666\n",
      "adding 13360086 13360329\n"
     ]
    },
    {
     "name": "stderr",
     "output_type": "stream",
     "text": [
      "/tmp/ipykernel_2357504/3447769798.py:37: FutureWarning: The frame.append method is deprecated and will be removed from pandas in a future version. Use pandas.concat instead.\n",
      "  intron_coordinates = intron_coordinates.append(new_row, ignore_index=True)\n",
      "/tmp/ipykernel_2357504/3447769798.py:37: FutureWarning: The frame.append method is deprecated and will be removed from pandas in a future version. Use pandas.concat instead.\n",
      "  intron_coordinates = intron_coordinates.append(new_row, ignore_index=True)\n",
      "/tmp/ipykernel_2357504/3447769798.py:37: FutureWarning: The frame.append method is deprecated and will be removed from pandas in a future version. Use pandas.concat instead.\n",
      "  intron_coordinates = intron_coordinates.append(new_row, ignore_index=True)\n"
     ]
    },
    {
     "name": "stdout",
     "output_type": "stream",
     "text": [
      "adding 13360628 13366166\n",
      "adding 13366493 13369155\n",
      "adding 13369449 13393758\n"
     ]
    },
    {
     "name": "stderr",
     "output_type": "stream",
     "text": [
      "/tmp/ipykernel_2357504/3447769798.py:37: FutureWarning: The frame.append method is deprecated and will be removed from pandas in a future version. Use pandas.concat instead.\n",
      "  intron_coordinates = intron_coordinates.append(new_row, ignore_index=True)\n",
      "/tmp/ipykernel_2357504/3447769798.py:37: FutureWarning: The frame.append method is deprecated and will be removed from pandas in a future version. Use pandas.concat instead.\n",
      "  intron_coordinates = intron_coordinates.append(new_row, ignore_index=True)\n",
      "/tmp/ipykernel_2357504/3447769798.py:37: FutureWarning: The frame.append method is deprecated and will be removed from pandas in a future version. Use pandas.concat instead.\n",
      "  intron_coordinates = intron_coordinates.append(new_row, ignore_index=True)\n"
     ]
    },
    {
     "name": "stdout",
     "output_type": "stream",
     "text": [
      "adding 13393993 13396817\n",
      "adding 13397072 13410892\n",
      "adding 13411213 13414634\n"
     ]
    },
    {
     "name": "stderr",
     "output_type": "stream",
     "text": [
      "/tmp/ipykernel_2357504/3447769798.py:37: FutureWarning: The frame.append method is deprecated and will be removed from pandas in a future version. Use pandas.concat instead.\n",
      "  intron_coordinates = intron_coordinates.append(new_row, ignore_index=True)\n",
      "/tmp/ipykernel_2357504/3447769798.py:37: FutureWarning: The frame.append method is deprecated and will be removed from pandas in a future version. Use pandas.concat instead.\n",
      "  intron_coordinates = intron_coordinates.append(new_row, ignore_index=True)\n",
      "/tmp/ipykernel_2357504/3447769798.py:37: FutureWarning: The frame.append method is deprecated and will be removed from pandas in a future version. Use pandas.concat instead.\n",
      "  intron_coordinates = intron_coordinates.append(new_row, ignore_index=True)\n"
     ]
    },
    {
     "name": "stdout",
     "output_type": "stream",
     "text": [
      "adding 13414893 13448916\n",
      "adding 13449166 13470020\n",
      "adding 13470329 13479153\n"
     ]
    },
    {
     "name": "stderr",
     "output_type": "stream",
     "text": [
      "/tmp/ipykernel_2357504/3447769798.py:37: FutureWarning: The frame.append method is deprecated and will be removed from pandas in a future version. Use pandas.concat instead.\n",
      "  intron_coordinates = intron_coordinates.append(new_row, ignore_index=True)\n",
      "/tmp/ipykernel_2357504/3447769798.py:37: FutureWarning: The frame.append method is deprecated and will be removed from pandas in a future version. Use pandas.concat instead.\n",
      "  intron_coordinates = intron_coordinates.append(new_row, ignore_index=True)\n",
      "/tmp/ipykernel_2357504/3447769798.py:37: FutureWarning: The frame.append method is deprecated and will be removed from pandas in a future version. Use pandas.concat instead.\n",
      "  intron_coordinates = intron_coordinates.append(new_row, ignore_index=True)\n"
     ]
    },
    {
     "name": "stdout",
     "output_type": "stream",
     "text": [
      "<pandas.core.groupby.generic.DataFrameGroupBy object at 0x7f19840a4820>\n",
      "adding 44873812 44873823\n",
      "adding 44874087 44961183\n",
      "adding 44961492 44974565\n"
     ]
    },
    {
     "name": "stderr",
     "output_type": "stream",
     "text": [
      "/tmp/ipykernel_2357504/3447769798.py:37: FutureWarning: The frame.append method is deprecated and will be removed from pandas in a future version. Use pandas.concat instead.\n",
      "  intron_coordinates = intron_coordinates.append(new_row, ignore_index=True)\n",
      "/tmp/ipykernel_2357504/3447769798.py:37: FutureWarning: The frame.append method is deprecated and will be removed from pandas in a future version. Use pandas.concat instead.\n",
      "  intron_coordinates = intron_coordinates.append(new_row, ignore_index=True)\n",
      "/tmp/ipykernel_2357504/3447769798.py:37: FutureWarning: The frame.append method is deprecated and will be removed from pandas in a future version. Use pandas.concat instead.\n",
      "  intron_coordinates = intron_coordinates.append(new_row, ignore_index=True)\n",
      "/tmp/ipykernel_2357504/3447769798.py:37: FutureWarning: The frame.append method is deprecated and will be removed from pandas in a future version. Use pandas.concat instead.\n",
      "  intron_coordinates = intron_coordinates.append(new_row, ignore_index=True)\n"
     ]
    },
    {
     "name": "stdout",
     "output_type": "stream",
     "text": [
      "adding 44974815 45010860\n",
      "adding 45011119 45020509\n",
      "adding 45020830 45034830\n",
      "adding 45035085 45037554\n"
     ]
    },
    {
     "name": "stderr",
     "output_type": "stream",
     "text": [
      "/tmp/ipykernel_2357504/3447769798.py:37: FutureWarning: The frame.append method is deprecated and will be removed from pandas in a future version. Use pandas.concat instead.\n",
      "  intron_coordinates = intron_coordinates.append(new_row, ignore_index=True)\n",
      "/tmp/ipykernel_2357504/3447769798.py:37: FutureWarning: The frame.append method is deprecated and will be removed from pandas in a future version. Use pandas.concat instead.\n",
      "  intron_coordinates = intron_coordinates.append(new_row, ignore_index=True)\n",
      "/tmp/ipykernel_2357504/3447769798.py:37: FutureWarning: The frame.append method is deprecated and will be removed from pandas in a future version. Use pandas.concat instead.\n",
      "  intron_coordinates = intron_coordinates.append(new_row, ignore_index=True)\n",
      "/tmp/ipykernel_2357504/3447769798.py:37: FutureWarning: The frame.append method is deprecated and will be removed from pandas in a future version. Use pandas.concat instead.\n",
      "  intron_coordinates = intron_coordinates.append(new_row, ignore_index=True)\n"
     ]
    },
    {
     "name": "stdout",
     "output_type": "stream",
     "text": [
      "adding 45037789 45051608\n",
      "adding 45051902 45053728\n",
      "adding 45054055 45058905\n",
      "adding 45059566 45059921\n",
      "HERE 45060256 45061223\n"
     ]
    },
    {
     "name": "stderr",
     "output_type": "stream",
     "text": [
      "/tmp/ipykernel_2357504/3447769798.py:37: FutureWarning: The frame.append method is deprecated and will be removed from pandas in a future version. Use pandas.concat instead.\n",
      "  intron_coordinates = intron_coordinates.append(new_row, ignore_index=True)\n",
      "/tmp/ipykernel_2357504/3447769798.py:37: FutureWarning: The frame.append method is deprecated and will be removed from pandas in a future version. Use pandas.concat instead.\n",
      "  intron_coordinates = intron_coordinates.append(new_row, ignore_index=True)\n",
      "/tmp/ipykernel_2357504/3447769798.py:37: FutureWarning: The frame.append method is deprecated and will be removed from pandas in a future version. Use pandas.concat instead.\n",
      "  intron_coordinates = intron_coordinates.append(new_row, ignore_index=True)\n",
      "/tmp/ipykernel_2357504/3447769798.py:37: FutureWarning: The frame.append method is deprecated and will be removed from pandas in a future version. Use pandas.concat instead.\n",
      "  intron_coordinates = intron_coordinates.append(new_row, ignore_index=True)\n"
     ]
    },
    {
     "name": "stdout",
     "output_type": "stream",
     "text": [
      "adding 45061519 45062546\n",
      "adding 45062848 45063321\n",
      "adding 45063917 45069478\n",
      "adding 45070457 45076596\n"
     ]
    },
    {
     "name": "stderr",
     "output_type": "stream",
     "text": [
      "/tmp/ipykernel_2357504/3447769798.py:37: FutureWarning: The frame.append method is deprecated and will be removed from pandas in a future version. Use pandas.concat instead.\n",
      "  intron_coordinates = intron_coordinates.append(new_row, ignore_index=True)\n",
      "/tmp/ipykernel_2357504/3447769798.py:37: FutureWarning: The frame.append method is deprecated and will be removed from pandas in a future version. Use pandas.concat instead.\n",
      "  intron_coordinates = intron_coordinates.append(new_row, ignore_index=True)\n",
      "/tmp/ipykernel_2357504/3447769798.py:37: FutureWarning: The frame.append method is deprecated and will be removed from pandas in a future version. Use pandas.concat instead.\n",
      "  intron_coordinates = intron_coordinates.append(new_row, ignore_index=True)\n",
      "/tmp/ipykernel_2357504/3447769798.py:37: FutureWarning: The frame.append method is deprecated and will be removed from pandas in a future version. Use pandas.concat instead.\n",
      "  intron_coordinates = intron_coordinates.append(new_row, ignore_index=True)\n"
     ]
    },
    {
     "name": "stdout",
     "output_type": "stream",
     "text": [
      "adding 45076926 45078299\n",
      "adding 45078605 45079045\n",
      "adding 45079451 45082475\n",
      "adding 45082889 45083359\n"
     ]
    },
    {
     "name": "stderr",
     "output_type": "stream",
     "text": [
      "/tmp/ipykernel_2357504/3447769798.py:37: FutureWarning: The frame.append method is deprecated and will be removed from pandas in a future version. Use pandas.concat instead.\n",
      "  intron_coordinates = intron_coordinates.append(new_row, ignore_index=True)\n",
      "/tmp/ipykernel_2357504/3447769798.py:37: FutureWarning: The frame.append method is deprecated and will be removed from pandas in a future version. Use pandas.concat instead.\n",
      "  intron_coordinates = intron_coordinates.append(new_row, ignore_index=True)\n",
      "/tmp/ipykernel_2357504/3447769798.py:37: FutureWarning: The frame.append method is deprecated and will be removed from pandas in a future version. Use pandas.concat instead.\n",
      "  intron_coordinates = intron_coordinates.append(new_row, ignore_index=True)\n",
      "/tmp/ipykernel_2357504/3447769798.py:37: FutureWarning: The frame.append method is deprecated and will be removed from pandas in a future version. Use pandas.concat instead.\n",
      "  intron_coordinates = intron_coordinates.append(new_row, ignore_index=True)\n"
     ]
    },
    {
     "name": "stdout",
     "output_type": "stream",
     "text": [
      "adding 45083708 45085764\n",
      "adding 45086079 45089642\n",
      "adding 45090030 45090622\n",
      "HERE 45090964 45107309\n"
     ]
    },
    {
     "name": "stderr",
     "output_type": "stream",
     "text": [
      "/tmp/ipykernel_2357504/3447769798.py:37: FutureWarning: The frame.append method is deprecated and will be removed from pandas in a future version. Use pandas.concat instead.\n",
      "  intron_coordinates = intron_coordinates.append(new_row, ignore_index=True)\n",
      "/tmp/ipykernel_2357504/3447769798.py:37: FutureWarning: The frame.append method is deprecated and will be removed from pandas in a future version. Use pandas.concat instead.\n",
      "  intron_coordinates = intron_coordinates.append(new_row, ignore_index=True)\n",
      "/tmp/ipykernel_2357504/3447769798.py:37: FutureWarning: The frame.append method is deprecated and will be removed from pandas in a future version. Use pandas.concat instead.\n",
      "  intron_coordinates = intron_coordinates.append(new_row, ignore_index=True)\n"
     ]
    },
    {
     "name": "stdout",
     "output_type": "stream",
     "text": [
      "adding 45107636 45109978\n",
      "adding 45110349 45111281\n",
      "adding 44873812 44873823\n",
      "adding 44874087 44961183\n"
     ]
    },
    {
     "name": "stderr",
     "output_type": "stream",
     "text": [
      "/tmp/ipykernel_2357504/3447769798.py:37: FutureWarning: The frame.append method is deprecated and will be removed from pandas in a future version. Use pandas.concat instead.\n",
      "  intron_coordinates = intron_coordinates.append(new_row, ignore_index=True)\n",
      "/tmp/ipykernel_2357504/3447769798.py:37: FutureWarning: The frame.append method is deprecated and will be removed from pandas in a future version. Use pandas.concat instead.\n",
      "  intron_coordinates = intron_coordinates.append(new_row, ignore_index=True)\n",
      "/tmp/ipykernel_2357504/3447769798.py:37: FutureWarning: The frame.append method is deprecated and will be removed from pandas in a future version. Use pandas.concat instead.\n",
      "  intron_coordinates = intron_coordinates.append(new_row, ignore_index=True)\n",
      "/tmp/ipykernel_2357504/3447769798.py:37: FutureWarning: The frame.append method is deprecated and will be removed from pandas in a future version. Use pandas.concat instead.\n",
      "  intron_coordinates = intron_coordinates.append(new_row, ignore_index=True)\n"
     ]
    },
    {
     "name": "stdout",
     "output_type": "stream",
     "text": [
      "adding 44961492 44974565\n",
      "adding 44974815 45010860\n",
      "adding 45011119 45020509\n",
      "adding 45020830 45034830\n"
     ]
    },
    {
     "name": "stderr",
     "output_type": "stream",
     "text": [
      "/tmp/ipykernel_2357504/3447769798.py:37: FutureWarning: The frame.append method is deprecated and will be removed from pandas in a future version. Use pandas.concat instead.\n",
      "  intron_coordinates = intron_coordinates.append(new_row, ignore_index=True)\n",
      "/tmp/ipykernel_2357504/3447769798.py:37: FutureWarning: The frame.append method is deprecated and will be removed from pandas in a future version. Use pandas.concat instead.\n",
      "  intron_coordinates = intron_coordinates.append(new_row, ignore_index=True)\n",
      "/tmp/ipykernel_2357504/3447769798.py:37: FutureWarning: The frame.append method is deprecated and will be removed from pandas in a future version. Use pandas.concat instead.\n",
      "  intron_coordinates = intron_coordinates.append(new_row, ignore_index=True)\n",
      "/tmp/ipykernel_2357504/3447769798.py:37: FutureWarning: The frame.append method is deprecated and will be removed from pandas in a future version. Use pandas.concat instead.\n",
      "  intron_coordinates = intron_coordinates.append(new_row, ignore_index=True)\n"
     ]
    },
    {
     "name": "stdout",
     "output_type": "stream",
     "text": [
      "adding 45035085 45037554\n",
      "adding 45037789 45051608\n",
      "adding 45051902 45053728\n",
      "adding 45054055 45058905\n",
      "HERE 45059566 45060508\n"
     ]
    },
    {
     "name": "stderr",
     "output_type": "stream",
     "text": [
      "/tmp/ipykernel_2357504/3447769798.py:37: FutureWarning: The frame.append method is deprecated and will be removed from pandas in a future version. Use pandas.concat instead.\n",
      "  intron_coordinates = intron_coordinates.append(new_row, ignore_index=True)\n",
      "/tmp/ipykernel_2357504/3447769798.py:37: FutureWarning: The frame.append method is deprecated and will be removed from pandas in a future version. Use pandas.concat instead.\n",
      "  intron_coordinates = intron_coordinates.append(new_row, ignore_index=True)\n",
      "/tmp/ipykernel_2357504/3447769798.py:37: FutureWarning: The frame.append method is deprecated and will be removed from pandas in a future version. Use pandas.concat instead.\n",
      "  intron_coordinates = intron_coordinates.append(new_row, ignore_index=True)\n",
      "/tmp/ipykernel_2357504/3447769798.py:37: FutureWarning: The frame.append method is deprecated and will be removed from pandas in a future version. Use pandas.concat instead.\n",
      "  intron_coordinates = intron_coordinates.append(new_row, ignore_index=True)\n"
     ]
    },
    {
     "name": "stdout",
     "output_type": "stream",
     "text": [
      "adding 45060864 45061223\n",
      "adding 45061519 45062546\n",
      "adding 45062848 45063321\n",
      "adding 45063917 45069478\n"
     ]
    },
    {
     "name": "stderr",
     "output_type": "stream",
     "text": [
      "/tmp/ipykernel_2357504/3447769798.py:37: FutureWarning: The frame.append method is deprecated and will be removed from pandas in a future version. Use pandas.concat instead.\n",
      "  intron_coordinates = intron_coordinates.append(new_row, ignore_index=True)\n",
      "/tmp/ipykernel_2357504/3447769798.py:37: FutureWarning: The frame.append method is deprecated and will be removed from pandas in a future version. Use pandas.concat instead.\n",
      "  intron_coordinates = intron_coordinates.append(new_row, ignore_index=True)\n",
      "/tmp/ipykernel_2357504/3447769798.py:37: FutureWarning: The frame.append method is deprecated and will be removed from pandas in a future version. Use pandas.concat instead.\n",
      "  intron_coordinates = intron_coordinates.append(new_row, ignore_index=True)\n",
      "/tmp/ipykernel_2357504/3447769798.py:37: FutureWarning: The frame.append method is deprecated and will be removed from pandas in a future version. Use pandas.concat instead.\n",
      "  intron_coordinates = intron_coordinates.append(new_row, ignore_index=True)\n"
     ]
    },
    {
     "name": "stdout",
     "output_type": "stream",
     "text": [
      "adding 45070457 45076596\n",
      "adding 45076926 45078299\n",
      "adding 45078605 45079045\n",
      "adding 45079451 45082475\n"
     ]
    },
    {
     "name": "stderr",
     "output_type": "stream",
     "text": [
      "/tmp/ipykernel_2357504/3447769798.py:37: FutureWarning: The frame.append method is deprecated and will be removed from pandas in a future version. Use pandas.concat instead.\n",
      "  intron_coordinates = intron_coordinates.append(new_row, ignore_index=True)\n",
      "/tmp/ipykernel_2357504/3447769798.py:37: FutureWarning: The frame.append method is deprecated and will be removed from pandas in a future version. Use pandas.concat instead.\n",
      "  intron_coordinates = intron_coordinates.append(new_row, ignore_index=True)\n",
      "/tmp/ipykernel_2357504/3447769798.py:37: FutureWarning: The frame.append method is deprecated and will be removed from pandas in a future version. Use pandas.concat instead.\n",
      "  intron_coordinates = intron_coordinates.append(new_row, ignore_index=True)\n",
      "/tmp/ipykernel_2357504/3447769798.py:37: FutureWarning: The frame.append method is deprecated and will be removed from pandas in a future version. Use pandas.concat instead.\n",
      "  intron_coordinates = intron_coordinates.append(new_row, ignore_index=True)\n"
     ]
    },
    {
     "name": "stdout",
     "output_type": "stream",
     "text": [
      "adding 45082889 45083359\n",
      "adding 45083708 45085764\n",
      "adding 45086079 45089642\n",
      "adding 45090030 45090622\n"
     ]
    },
    {
     "name": "stderr",
     "output_type": "stream",
     "text": [
      "/tmp/ipykernel_2357504/3447769798.py:37: FutureWarning: The frame.append method is deprecated and will be removed from pandas in a future version. Use pandas.concat instead.\n",
      "  intron_coordinates = intron_coordinates.append(new_row, ignore_index=True)\n",
      "/tmp/ipykernel_2357504/3447769798.py:37: FutureWarning: The frame.append method is deprecated and will be removed from pandas in a future version. Use pandas.concat instead.\n",
      "  intron_coordinates = intron_coordinates.append(new_row, ignore_index=True)\n",
      "/tmp/ipykernel_2357504/3447769798.py:37: FutureWarning: The frame.append method is deprecated and will be removed from pandas in a future version. Use pandas.concat instead.\n",
      "  intron_coordinates = intron_coordinates.append(new_row, ignore_index=True)\n"
     ]
    },
    {
     "name": "stdout",
     "output_type": "stream",
     "text": [
      "HERE 45090964 45107309\n",
      "adding 45107636 45109978\n",
      "adding 45110349 45111281\n",
      "HERE 45059566 45061223\n",
      "adding 45061519 45062546\n"
     ]
    },
    {
     "name": "stderr",
     "output_type": "stream",
     "text": [
      "/tmp/ipykernel_2357504/3447769798.py:37: FutureWarning: The frame.append method is deprecated and will be removed from pandas in a future version. Use pandas.concat instead.\n",
      "  intron_coordinates = intron_coordinates.append(new_row, ignore_index=True)\n",
      "/tmp/ipykernel_2357504/3447769798.py:37: FutureWarning: The frame.append method is deprecated and will be removed from pandas in a future version. Use pandas.concat instead.\n",
      "  intron_coordinates = intron_coordinates.append(new_row, ignore_index=True)\n",
      "/tmp/ipykernel_2357504/3447769798.py:37: FutureWarning: The frame.append method is deprecated and will be removed from pandas in a future version. Use pandas.concat instead.\n",
      "  intron_coordinates = intron_coordinates.append(new_row, ignore_index=True)\n",
      "/tmp/ipykernel_2357504/3447769798.py:37: FutureWarning: The frame.append method is deprecated and will be removed from pandas in a future version. Use pandas.concat instead.\n",
      "  intron_coordinates = intron_coordinates.append(new_row, ignore_index=True)\n"
     ]
    },
    {
     "name": "stdout",
     "output_type": "stream",
     "text": [
      "adding 45062848 45063321\n",
      "adding 45063917 45069478\n",
      "adding 45070457 45076596\n",
      "adding 45076926 45078299\n"
     ]
    },
    {
     "name": "stderr",
     "output_type": "stream",
     "text": [
      "/tmp/ipykernel_2357504/3447769798.py:37: FutureWarning: The frame.append method is deprecated and will be removed from pandas in a future version. Use pandas.concat instead.\n",
      "  intron_coordinates = intron_coordinates.append(new_row, ignore_index=True)\n",
      "/tmp/ipykernel_2357504/3447769798.py:37: FutureWarning: The frame.append method is deprecated and will be removed from pandas in a future version. Use pandas.concat instead.\n",
      "  intron_coordinates = intron_coordinates.append(new_row, ignore_index=True)\n",
      "/tmp/ipykernel_2357504/3447769798.py:37: FutureWarning: The frame.append method is deprecated and will be removed from pandas in a future version. Use pandas.concat instead.\n",
      "  intron_coordinates = intron_coordinates.append(new_row, ignore_index=True)\n",
      "/tmp/ipykernel_2357504/3447769798.py:37: FutureWarning: The frame.append method is deprecated and will be removed from pandas in a future version. Use pandas.concat instead.\n",
      "  intron_coordinates = intron_coordinates.append(new_row, ignore_index=True)\n"
     ]
    },
    {
     "name": "stdout",
     "output_type": "stream",
     "text": [
      "adding 45078605 45079045\n",
      "adding 45079451 45082475\n",
      "adding 45082889 45083359\n",
      "adding 45083708 45085764\n"
     ]
    },
    {
     "name": "stderr",
     "output_type": "stream",
     "text": [
      "/tmp/ipykernel_2357504/3447769798.py:37: FutureWarning: The frame.append method is deprecated and will be removed from pandas in a future version. Use pandas.concat instead.\n",
      "  intron_coordinates = intron_coordinates.append(new_row, ignore_index=True)\n",
      "/tmp/ipykernel_2357504/3447769798.py:37: FutureWarning: The frame.append method is deprecated and will be removed from pandas in a future version. Use pandas.concat instead.\n",
      "  intron_coordinates = intron_coordinates.append(new_row, ignore_index=True)\n",
      "/tmp/ipykernel_2357504/3447769798.py:37: FutureWarning: The frame.append method is deprecated and will be removed from pandas in a future version. Use pandas.concat instead.\n",
      "  intron_coordinates = intron_coordinates.append(new_row, ignore_index=True)\n",
      "/tmp/ipykernel_2357504/3447769798.py:37: FutureWarning: The frame.append method is deprecated and will be removed from pandas in a future version. Use pandas.concat instead.\n",
      "  intron_coordinates = intron_coordinates.append(new_row, ignore_index=True)\n"
     ]
    },
    {
     "name": "stdout",
     "output_type": "stream",
     "text": [
      "adding 45086079 45089642\n",
      "adding 45090030 45090622\n",
      "HERE 45090964 45107309\n",
      "adding 45107636 45109978\n"
     ]
    },
    {
     "name": "stderr",
     "output_type": "stream",
     "text": [
      "/tmp/ipykernel_2357504/3447769798.py:37: FutureWarning: The frame.append method is deprecated and will be removed from pandas in a future version. Use pandas.concat instead.\n",
      "  intron_coordinates = intron_coordinates.append(new_row, ignore_index=True)\n",
      "/tmp/ipykernel_2357504/3447769798.py:37: FutureWarning: The frame.append method is deprecated and will be removed from pandas in a future version. Use pandas.concat instead.\n",
      "  intron_coordinates = intron_coordinates.append(new_row, ignore_index=True)\n",
      "/tmp/ipykernel_2357504/3447769798.py:37: FutureWarning: The frame.append method is deprecated and will be removed from pandas in a future version. Use pandas.concat instead.\n",
      "  intron_coordinates = intron_coordinates.append(new_row, ignore_index=True)\n",
      "/tmp/ipykernel_2357504/3447769798.py:37: FutureWarning: The frame.append method is deprecated and will be removed from pandas in a future version. Use pandas.concat instead.\n",
      "  intron_coordinates = intron_coordinates.append(new_row, ignore_index=True)\n"
     ]
    },
    {
     "name": "stdout",
     "output_type": "stream",
     "text": [
      "adding 45110349 45111281\n",
      "adding 45090964 45106441\n",
      "adding 45106749 45107309\n",
      "adding 45107636 45109978\n"
     ]
    },
    {
     "name": "stderr",
     "output_type": "stream",
     "text": [
      "/tmp/ipykernel_2357504/3447769798.py:37: FutureWarning: The frame.append method is deprecated and will be removed from pandas in a future version. Use pandas.concat instead.\n",
      "  intron_coordinates = intron_coordinates.append(new_row, ignore_index=True)\n",
      "/tmp/ipykernel_2357504/3447769798.py:37: FutureWarning: The frame.append method is deprecated and will be removed from pandas in a future version. Use pandas.concat instead.\n",
      "  intron_coordinates = intron_coordinates.append(new_row, ignore_index=True)\n",
      "/tmp/ipykernel_2357504/3447769798.py:37: FutureWarning: The frame.append method is deprecated and will be removed from pandas in a future version. Use pandas.concat instead.\n",
      "  intron_coordinates = intron_coordinates.append(new_row, ignore_index=True)\n",
      "/tmp/ipykernel_2357504/3447769798.py:37: FutureWarning: The frame.append method is deprecated and will be removed from pandas in a future version. Use pandas.concat instead.\n",
      "  intron_coordinates = intron_coordinates.append(new_row, ignore_index=True)\n"
     ]
    },
    {
     "name": "stdout",
     "output_type": "stream",
     "text": [
      "adding 45110349 45111281\n",
      "adding 45060256 45060508\n",
      "adding 45060864 45061223\n",
      "adding 45061519 45062546\n"
     ]
    },
    {
     "name": "stderr",
     "output_type": "stream",
     "text": [
      "/tmp/ipykernel_2357504/3447769798.py:37: FutureWarning: The frame.append method is deprecated and will be removed from pandas in a future version. Use pandas.concat instead.\n",
      "  intron_coordinates = intron_coordinates.append(new_row, ignore_index=True)\n",
      "/tmp/ipykernel_2357504/3447769798.py:37: FutureWarning: The frame.append method is deprecated and will be removed from pandas in a future version. Use pandas.concat instead.\n",
      "  intron_coordinates = intron_coordinates.append(new_row, ignore_index=True)\n",
      "/tmp/ipykernel_2357504/3447769798.py:37: FutureWarning: The frame.append method is deprecated and will be removed from pandas in a future version. Use pandas.concat instead.\n",
      "  intron_coordinates = intron_coordinates.append(new_row, ignore_index=True)\n",
      "/tmp/ipykernel_2357504/3447769798.py:37: FutureWarning: The frame.append method is deprecated and will be removed from pandas in a future version. Use pandas.concat instead.\n",
      "  intron_coordinates = intron_coordinates.append(new_row, ignore_index=True)\n"
     ]
    },
    {
     "name": "stdout",
     "output_type": "stream",
     "text": [
      "adding 45062848 45063321\n",
      "adding 45063917 45069478\n",
      "adding 45070457 45076596\n",
      "adding 45076926 45078299\n"
     ]
    },
    {
     "name": "stderr",
     "output_type": "stream",
     "text": [
      "/tmp/ipykernel_2357504/3447769798.py:37: FutureWarning: The frame.append method is deprecated and will be removed from pandas in a future version. Use pandas.concat instead.\n",
      "  intron_coordinates = intron_coordinates.append(new_row, ignore_index=True)\n",
      "/tmp/ipykernel_2357504/3447769798.py:37: FutureWarning: The frame.append method is deprecated and will be removed from pandas in a future version. Use pandas.concat instead.\n",
      "  intron_coordinates = intron_coordinates.append(new_row, ignore_index=True)\n",
      "/tmp/ipykernel_2357504/3447769798.py:37: FutureWarning: The frame.append method is deprecated and will be removed from pandas in a future version. Use pandas.concat instead.\n",
      "  intron_coordinates = intron_coordinates.append(new_row, ignore_index=True)\n",
      "/tmp/ipykernel_2357504/3447769798.py:37: FutureWarning: The frame.append method is deprecated and will be removed from pandas in a future version. Use pandas.concat instead.\n",
      "  intron_coordinates = intron_coordinates.append(new_row, ignore_index=True)\n"
     ]
    },
    {
     "name": "stdout",
     "output_type": "stream",
     "text": [
      "adding 45078605 45079045\n",
      "adding 45079451 45082475\n",
      "adding 45082889 45083359\n",
      "adding 45083708 45085764\n"
     ]
    },
    {
     "name": "stderr",
     "output_type": "stream",
     "text": [
      "/tmp/ipykernel_2357504/3447769798.py:37: FutureWarning: The frame.append method is deprecated and will be removed from pandas in a future version. Use pandas.concat instead.\n",
      "  intron_coordinates = intron_coordinates.append(new_row, ignore_index=True)\n",
      "/tmp/ipykernel_2357504/3447769798.py:37: FutureWarning: The frame.append method is deprecated and will be removed from pandas in a future version. Use pandas.concat instead.\n",
      "  intron_coordinates = intron_coordinates.append(new_row, ignore_index=True)\n",
      "/tmp/ipykernel_2357504/3447769798.py:37: FutureWarning: The frame.append method is deprecated and will be removed from pandas in a future version. Use pandas.concat instead.\n",
      "  intron_coordinates = intron_coordinates.append(new_row, ignore_index=True)\n"
     ]
    },
    {
     "name": "stdout",
     "output_type": "stream",
     "text": [
      "adding 45086079 45089642\n",
      "adding 45090030 45090622\n",
      "HERE 45090964 45107309\n",
      "adding 45107636 45109978\n"
     ]
    },
    {
     "name": "stderr",
     "output_type": "stream",
     "text": [
      "/tmp/ipykernel_2357504/3447769798.py:37: FutureWarning: The frame.append method is deprecated and will be removed from pandas in a future version. Use pandas.concat instead.\n",
      "  intron_coordinates = intron_coordinates.append(new_row, ignore_index=True)\n",
      "/tmp/ipykernel_2357504/3447769798.py:37: FutureWarning: The frame.append method is deprecated and will be removed from pandas in a future version. Use pandas.concat instead.\n",
      "  intron_coordinates = intron_coordinates.append(new_row, ignore_index=True)\n",
      "/tmp/ipykernel_2357504/3447769798.py:37: FutureWarning: The frame.append method is deprecated and will be removed from pandas in a future version. Use pandas.concat instead.\n",
      "  intron_coordinates = intron_coordinates.append(new_row, ignore_index=True)\n"
     ]
    },
    {
     "name": "stdout",
     "output_type": "stream",
     "text": [
      "adding 45110349 45111281\n",
      "adding 45059566 45059921\n",
      "HERE 45060256 45061223\n",
      "HERE 45061519 45063321\n",
      "adding 44873812 44873823\n"
     ]
    },
    {
     "name": "stderr",
     "output_type": "stream",
     "text": [
      "/tmp/ipykernel_2357504/3447769798.py:37: FutureWarning: The frame.append method is deprecated and will be removed from pandas in a future version. Use pandas.concat instead.\n",
      "  intron_coordinates = intron_coordinates.append(new_row, ignore_index=True)\n",
      "/tmp/ipykernel_2357504/3447769798.py:37: FutureWarning: The frame.append method is deprecated and will be removed from pandas in a future version. Use pandas.concat instead.\n",
      "  intron_coordinates = intron_coordinates.append(new_row, ignore_index=True)\n",
      "/tmp/ipykernel_2357504/3447769798.py:37: FutureWarning: The frame.append method is deprecated and will be removed from pandas in a future version. Use pandas.concat instead.\n",
      "  intron_coordinates = intron_coordinates.append(new_row, ignore_index=True)\n",
      "/tmp/ipykernel_2357504/3447769798.py:37: FutureWarning: The frame.append method is deprecated and will be removed from pandas in a future version. Use pandas.concat instead.\n",
      "  intron_coordinates = intron_coordinates.append(new_row, ignore_index=True)\n"
     ]
    },
    {
     "name": "stdout",
     "output_type": "stream",
     "text": [
      "adding 44874087 44961183\n",
      "adding 44961492 44974565\n",
      "adding 44974815 45010860\n",
      "adding 45011119 45020509\n"
     ]
    },
    {
     "name": "stderr",
     "output_type": "stream",
     "text": [
      "/tmp/ipykernel_2357504/3447769798.py:37: FutureWarning: The frame.append method is deprecated and will be removed from pandas in a future version. Use pandas.concat instead.\n",
      "  intron_coordinates = intron_coordinates.append(new_row, ignore_index=True)\n",
      "/tmp/ipykernel_2357504/3447769798.py:37: FutureWarning: The frame.append method is deprecated and will be removed from pandas in a future version. Use pandas.concat instead.\n",
      "  intron_coordinates = intron_coordinates.append(new_row, ignore_index=True)\n",
      "/tmp/ipykernel_2357504/3447769798.py:37: FutureWarning: The frame.append method is deprecated and will be removed from pandas in a future version. Use pandas.concat instead.\n",
      "  intron_coordinates = intron_coordinates.append(new_row, ignore_index=True)\n",
      "/tmp/ipykernel_2357504/3447769798.py:37: FutureWarning: The frame.append method is deprecated and will be removed from pandas in a future version. Use pandas.concat instead.\n",
      "  intron_coordinates = intron_coordinates.append(new_row, ignore_index=True)\n"
     ]
    },
    {
     "name": "stdout",
     "output_type": "stream",
     "text": [
      "adding 45020830 45034830\n",
      "adding 45035085 45037554\n",
      "adding 45037789 45051608\n",
      "adding 45051902 45053728\n"
     ]
    },
    {
     "name": "stderr",
     "output_type": "stream",
     "text": [
      "/tmp/ipykernel_2357504/3447769798.py:37: FutureWarning: The frame.append method is deprecated and will be removed from pandas in a future version. Use pandas.concat instead.\n",
      "  intron_coordinates = intron_coordinates.append(new_row, ignore_index=True)\n",
      "/tmp/ipykernel_2357504/3447769798.py:37: FutureWarning: The frame.append method is deprecated and will be removed from pandas in a future version. Use pandas.concat instead.\n",
      "  intron_coordinates = intron_coordinates.append(new_row, ignore_index=True)\n",
      "/tmp/ipykernel_2357504/3447769798.py:37: FutureWarning: The frame.append method is deprecated and will be removed from pandas in a future version. Use pandas.concat instead.\n",
      "  intron_coordinates = intron_coordinates.append(new_row, ignore_index=True)\n",
      "/tmp/ipykernel_2357504/3447769798.py:37: FutureWarning: The frame.append method is deprecated and will be removed from pandas in a future version. Use pandas.concat instead.\n",
      "  intron_coordinates = intron_coordinates.append(new_row, ignore_index=True)\n"
     ]
    },
    {
     "name": "stdout",
     "output_type": "stream",
     "text": [
      "adding 45054055 45058905\n",
      "HERE 45059566 45061223\n",
      "adding 45061519 45062546\n",
      "adding 45062848 45063321\n",
      "adding 45063917 45069478\n"
     ]
    },
    {
     "name": "stderr",
     "output_type": "stream",
     "text": [
      "/tmp/ipykernel_2357504/3447769798.py:37: FutureWarning: The frame.append method is deprecated and will be removed from pandas in a future version. Use pandas.concat instead.\n",
      "  intron_coordinates = intron_coordinates.append(new_row, ignore_index=True)\n",
      "/tmp/ipykernel_2357504/3447769798.py:37: FutureWarning: The frame.append method is deprecated and will be removed from pandas in a future version. Use pandas.concat instead.\n",
      "  intron_coordinates = intron_coordinates.append(new_row, ignore_index=True)\n",
      "/tmp/ipykernel_2357504/3447769798.py:37: FutureWarning: The frame.append method is deprecated and will be removed from pandas in a future version. Use pandas.concat instead.\n",
      "  intron_coordinates = intron_coordinates.append(new_row, ignore_index=True)\n",
      "/tmp/ipykernel_2357504/3447769798.py:37: FutureWarning: The frame.append method is deprecated and will be removed from pandas in a future version. Use pandas.concat instead.\n",
      "  intron_coordinates = intron_coordinates.append(new_row, ignore_index=True)\n"
     ]
    },
    {
     "name": "stdout",
     "output_type": "stream",
     "text": [
      "adding 45070457 45076596\n",
      "adding 45076926 45078299\n",
      "adding 45078605 45079045\n",
      "adding 45079451 45082475\n"
     ]
    },
    {
     "name": "stderr",
     "output_type": "stream",
     "text": [
      "/tmp/ipykernel_2357504/3447769798.py:37: FutureWarning: The frame.append method is deprecated and will be removed from pandas in a future version. Use pandas.concat instead.\n",
      "  intron_coordinates = intron_coordinates.append(new_row, ignore_index=True)\n",
      "/tmp/ipykernel_2357504/3447769798.py:37: FutureWarning: The frame.append method is deprecated and will be removed from pandas in a future version. Use pandas.concat instead.\n",
      "  intron_coordinates = intron_coordinates.append(new_row, ignore_index=True)\n",
      "/tmp/ipykernel_2357504/3447769798.py:37: FutureWarning: The frame.append method is deprecated and will be removed from pandas in a future version. Use pandas.concat instead.\n",
      "  intron_coordinates = intron_coordinates.append(new_row, ignore_index=True)\n",
      "/tmp/ipykernel_2357504/3447769798.py:37: FutureWarning: The frame.append method is deprecated and will be removed from pandas in a future version. Use pandas.concat instead.\n",
      "  intron_coordinates = intron_coordinates.append(new_row, ignore_index=True)\n"
     ]
    },
    {
     "name": "stdout",
     "output_type": "stream",
     "text": [
      "adding 45082889 45083359\n",
      "adding 45083708 45085764\n",
      "adding 45086079 45089642\n",
      "adding 45090030 45090622\n"
     ]
    },
    {
     "name": "stderr",
     "output_type": "stream",
     "text": [
      "/tmp/ipykernel_2357504/3447769798.py:37: FutureWarning: The frame.append method is deprecated and will be removed from pandas in a future version. Use pandas.concat instead.\n",
      "  intron_coordinates = intron_coordinates.append(new_row, ignore_index=True)\n",
      "/tmp/ipykernel_2357504/3447769798.py:37: FutureWarning: The frame.append method is deprecated and will be removed from pandas in a future version. Use pandas.concat instead.\n",
      "  intron_coordinates = intron_coordinates.append(new_row, ignore_index=True)\n",
      "/tmp/ipykernel_2357504/3447769798.py:37: FutureWarning: The frame.append method is deprecated and will be removed from pandas in a future version. Use pandas.concat instead.\n",
      "  intron_coordinates = intron_coordinates.append(new_row, ignore_index=True)\n"
     ]
    },
    {
     "name": "stdout",
     "output_type": "stream",
     "text": [
      "HERE 45090964 45107309\n",
      "adding 45107636 45109978\n",
      "adding 45110349 45111281\n",
      "adding 44873812 44873823\n",
      "adding 44874087 44961183\n"
     ]
    },
    {
     "name": "stderr",
     "output_type": "stream",
     "text": [
      "/tmp/ipykernel_2357504/3447769798.py:37: FutureWarning: The frame.append method is deprecated and will be removed from pandas in a future version. Use pandas.concat instead.\n",
      "  intron_coordinates = intron_coordinates.append(new_row, ignore_index=True)\n",
      "/tmp/ipykernel_2357504/3447769798.py:37: FutureWarning: The frame.append method is deprecated and will be removed from pandas in a future version. Use pandas.concat instead.\n",
      "  intron_coordinates = intron_coordinates.append(new_row, ignore_index=True)\n",
      "/tmp/ipykernel_2357504/3447769798.py:37: FutureWarning: The frame.append method is deprecated and will be removed from pandas in a future version. Use pandas.concat instead.\n",
      "  intron_coordinates = intron_coordinates.append(new_row, ignore_index=True)\n",
      "/tmp/ipykernel_2357504/3447769798.py:37: FutureWarning: The frame.append method is deprecated and will be removed from pandas in a future version. Use pandas.concat instead.\n",
      "  intron_coordinates = intron_coordinates.append(new_row, ignore_index=True)\n"
     ]
    },
    {
     "name": "stdout",
     "output_type": "stream",
     "text": [
      "adding 44961492 44974565\n",
      "adding 44974815 45010860\n",
      "adding 45011119 45020509\n",
      "adding 45020830 45034830\n"
     ]
    },
    {
     "name": "stderr",
     "output_type": "stream",
     "text": [
      "/tmp/ipykernel_2357504/3447769798.py:37: FutureWarning: The frame.append method is deprecated and will be removed from pandas in a future version. Use pandas.concat instead.\n",
      "  intron_coordinates = intron_coordinates.append(new_row, ignore_index=True)\n",
      "/tmp/ipykernel_2357504/3447769798.py:37: FutureWarning: The frame.append method is deprecated and will be removed from pandas in a future version. Use pandas.concat instead.\n",
      "  intron_coordinates = intron_coordinates.append(new_row, ignore_index=True)\n",
      "/tmp/ipykernel_2357504/3447769798.py:37: FutureWarning: The frame.append method is deprecated and will be removed from pandas in a future version. Use pandas.concat instead.\n",
      "  intron_coordinates = intron_coordinates.append(new_row, ignore_index=True)\n",
      "/tmp/ipykernel_2357504/3447769798.py:37: FutureWarning: The frame.append method is deprecated and will be removed from pandas in a future version. Use pandas.concat instead.\n",
      "  intron_coordinates = intron_coordinates.append(new_row, ignore_index=True)\n"
     ]
    },
    {
     "name": "stdout",
     "output_type": "stream",
     "text": [
      "adding 45035085 45037554\n",
      "adding 45037789 45051608\n",
      "adding 45051902 45053728\n",
      "adding 45054055 45058905\n",
      "HERE 45059566 45060508\n"
     ]
    },
    {
     "name": "stderr",
     "output_type": "stream",
     "text": [
      "/tmp/ipykernel_2357504/3447769798.py:37: FutureWarning: The frame.append method is deprecated and will be removed from pandas in a future version. Use pandas.concat instead.\n",
      "  intron_coordinates = intron_coordinates.append(new_row, ignore_index=True)\n",
      "/tmp/ipykernel_2357504/3447769798.py:37: FutureWarning: The frame.append method is deprecated and will be removed from pandas in a future version. Use pandas.concat instead.\n",
      "  intron_coordinates = intron_coordinates.append(new_row, ignore_index=True)\n",
      "/tmp/ipykernel_2357504/3447769798.py:37: FutureWarning: The frame.append method is deprecated and will be removed from pandas in a future version. Use pandas.concat instead.\n",
      "  intron_coordinates = intron_coordinates.append(new_row, ignore_index=True)\n"
     ]
    },
    {
     "name": "stdout",
     "output_type": "stream",
     "text": [
      "adding 45060864 45061223\n",
      "HERE 45061519 45063321\n",
      "adding 45063917 45069478\n",
      "adding 45070457 45076596\n",
      "adding 45076926 45078299\n"
     ]
    },
    {
     "name": "stderr",
     "output_type": "stream",
     "text": [
      "/tmp/ipykernel_2357504/3447769798.py:37: FutureWarning: The frame.append method is deprecated and will be removed from pandas in a future version. Use pandas.concat instead.\n",
      "  intron_coordinates = intron_coordinates.append(new_row, ignore_index=True)\n",
      "/tmp/ipykernel_2357504/3447769798.py:37: FutureWarning: The frame.append method is deprecated and will be removed from pandas in a future version. Use pandas.concat instead.\n",
      "  intron_coordinates = intron_coordinates.append(new_row, ignore_index=True)\n",
      "/tmp/ipykernel_2357504/3447769798.py:37: FutureWarning: The frame.append method is deprecated and will be removed from pandas in a future version. Use pandas.concat instead.\n",
      "  intron_coordinates = intron_coordinates.append(new_row, ignore_index=True)\n",
      "/tmp/ipykernel_2357504/3447769798.py:37: FutureWarning: The frame.append method is deprecated and will be removed from pandas in a future version. Use pandas.concat instead.\n",
      "  intron_coordinates = intron_coordinates.append(new_row, ignore_index=True)\n"
     ]
    },
    {
     "name": "stdout",
     "output_type": "stream",
     "text": [
      "adding 45078605 45079045\n",
      "adding 45079451 45082475\n",
      "adding 45082889 45083359\n",
      "adding 45083708 45085764\n"
     ]
    },
    {
     "name": "stderr",
     "output_type": "stream",
     "text": [
      "/tmp/ipykernel_2357504/3447769798.py:37: FutureWarning: The frame.append method is deprecated and will be removed from pandas in a future version. Use pandas.concat instead.\n",
      "  intron_coordinates = intron_coordinates.append(new_row, ignore_index=True)\n",
      "/tmp/ipykernel_2357504/3447769798.py:37: FutureWarning: The frame.append method is deprecated and will be removed from pandas in a future version. Use pandas.concat instead.\n",
      "  intron_coordinates = intron_coordinates.append(new_row, ignore_index=True)\n",
      "/tmp/ipykernel_2357504/3447769798.py:37: FutureWarning: The frame.append method is deprecated and will be removed from pandas in a future version. Use pandas.concat instead.\n",
      "  intron_coordinates = intron_coordinates.append(new_row, ignore_index=True)\n",
      "/tmp/ipykernel_2357504/3447769798.py:37: FutureWarning: The frame.append method is deprecated and will be removed from pandas in a future version. Use pandas.concat instead.\n",
      "  intron_coordinates = intron_coordinates.append(new_row, ignore_index=True)\n"
     ]
    },
    {
     "name": "stdout",
     "output_type": "stream",
     "text": [
      "adding 45086079 45089642\n",
      "adding 45090030 45090622\n",
      "HERE 45090932 45107309\n",
      "adding 44873812 44873823\n"
     ]
    },
    {
     "name": "stderr",
     "output_type": "stream",
     "text": [
      "/tmp/ipykernel_2357504/3447769798.py:37: FutureWarning: The frame.append method is deprecated and will be removed from pandas in a future version. Use pandas.concat instead.\n",
      "  intron_coordinates = intron_coordinates.append(new_row, ignore_index=True)\n",
      "/tmp/ipykernel_2357504/3447769798.py:37: FutureWarning: The frame.append method is deprecated and will be removed from pandas in a future version. Use pandas.concat instead.\n",
      "  intron_coordinates = intron_coordinates.append(new_row, ignore_index=True)\n",
      "/tmp/ipykernel_2357504/3447769798.py:37: FutureWarning: The frame.append method is deprecated and will be removed from pandas in a future version. Use pandas.concat instead.\n",
      "  intron_coordinates = intron_coordinates.append(new_row, ignore_index=True)\n"
     ]
    },
    {
     "name": "stdout",
     "output_type": "stream",
     "text": [
      "adding 44874087 44961183\n",
      "adding 44961492 44974565\n",
      "adding 44974815 45010860\n",
      "adding 45011119 45020509\n"
     ]
    },
    {
     "name": "stderr",
     "output_type": "stream",
     "text": [
      "/tmp/ipykernel_2357504/3447769798.py:37: FutureWarning: The frame.append method is deprecated and will be removed from pandas in a future version. Use pandas.concat instead.\n",
      "  intron_coordinates = intron_coordinates.append(new_row, ignore_index=True)\n",
      "/tmp/ipykernel_2357504/3447769798.py:37: FutureWarning: The frame.append method is deprecated and will be removed from pandas in a future version. Use pandas.concat instead.\n",
      "  intron_coordinates = intron_coordinates.append(new_row, ignore_index=True)\n",
      "/tmp/ipykernel_2357504/3447769798.py:37: FutureWarning: The frame.append method is deprecated and will be removed from pandas in a future version. Use pandas.concat instead.\n",
      "  intron_coordinates = intron_coordinates.append(new_row, ignore_index=True)\n",
      "/tmp/ipykernel_2357504/3447769798.py:37: FutureWarning: The frame.append method is deprecated and will be removed from pandas in a future version. Use pandas.concat instead.\n",
      "  intron_coordinates = intron_coordinates.append(new_row, ignore_index=True)\n"
     ]
    },
    {
     "name": "stdout",
     "output_type": "stream",
     "text": [
      "adding 45020830 45034830\n",
      "adding 45035085 45037554\n",
      "adding 45037789 45051608\n",
      "adding 45051902 45053728\n"
     ]
    },
    {
     "name": "stderr",
     "output_type": "stream",
     "text": [
      "/tmp/ipykernel_2357504/3447769798.py:37: FutureWarning: The frame.append method is deprecated and will be removed from pandas in a future version. Use pandas.concat instead.\n",
      "  intron_coordinates = intron_coordinates.append(new_row, ignore_index=True)\n",
      "/tmp/ipykernel_2357504/3447769798.py:37: FutureWarning: The frame.append method is deprecated and will be removed from pandas in a future version. Use pandas.concat instead.\n",
      "  intron_coordinates = intron_coordinates.append(new_row, ignore_index=True)\n",
      "/tmp/ipykernel_2357504/3447769798.py:37: FutureWarning: The frame.append method is deprecated and will be removed from pandas in a future version. Use pandas.concat instead.\n",
      "  intron_coordinates = intron_coordinates.append(new_row, ignore_index=True)\n",
      "/tmp/ipykernel_2357504/3447769798.py:37: FutureWarning: The frame.append method is deprecated and will be removed from pandas in a future version. Use pandas.concat instead.\n",
      "  intron_coordinates = intron_coordinates.append(new_row, ignore_index=True)\n"
     ]
    },
    {
     "name": "stdout",
     "output_type": "stream",
     "text": [
      "adding 45054055 45058905\n",
      "adding 45059566 45059921\n",
      "adding 45060256 45060508\n",
      "adding 45060864 45061223\n"
     ]
    },
    {
     "name": "stderr",
     "output_type": "stream",
     "text": [
      "/tmp/ipykernel_2357504/3447769798.py:37: FutureWarning: The frame.append method is deprecated and will be removed from pandas in a future version. Use pandas.concat instead.\n",
      "  intron_coordinates = intron_coordinates.append(new_row, ignore_index=True)\n",
      "/tmp/ipykernel_2357504/3447769798.py:37: FutureWarning: The frame.append method is deprecated and will be removed from pandas in a future version. Use pandas.concat instead.\n",
      "  intron_coordinates = intron_coordinates.append(new_row, ignore_index=True)\n",
      "/tmp/ipykernel_2357504/3447769798.py:37: FutureWarning: The frame.append method is deprecated and will be removed from pandas in a future version. Use pandas.concat instead.\n",
      "  intron_coordinates = intron_coordinates.append(new_row, ignore_index=True)\n",
      "/tmp/ipykernel_2357504/3447769798.py:37: FutureWarning: The frame.append method is deprecated and will be removed from pandas in a future version. Use pandas.concat instead.\n",
      "  intron_coordinates = intron_coordinates.append(new_row, ignore_index=True)\n"
     ]
    },
    {
     "name": "stdout",
     "output_type": "stream",
     "text": [
      "adding 45061519 45062546\n",
      "adding 45062848 45063321\n",
      "adding 45063917 45069478\n",
      "adding 45070457 45076596\n"
     ]
    },
    {
     "name": "stderr",
     "output_type": "stream",
     "text": [
      "/tmp/ipykernel_2357504/3447769798.py:37: FutureWarning: The frame.append method is deprecated and will be removed from pandas in a future version. Use pandas.concat instead.\n",
      "  intron_coordinates = intron_coordinates.append(new_row, ignore_index=True)\n",
      "/tmp/ipykernel_2357504/3447769798.py:37: FutureWarning: The frame.append method is deprecated and will be removed from pandas in a future version. Use pandas.concat instead.\n",
      "  intron_coordinates = intron_coordinates.append(new_row, ignore_index=True)\n",
      "/tmp/ipykernel_2357504/3447769798.py:37: FutureWarning: The frame.append method is deprecated and will be removed from pandas in a future version. Use pandas.concat instead.\n",
      "  intron_coordinates = intron_coordinates.append(new_row, ignore_index=True)\n",
      "/tmp/ipykernel_2357504/3447769798.py:37: FutureWarning: The frame.append method is deprecated and will be removed from pandas in a future version. Use pandas.concat instead.\n",
      "  intron_coordinates = intron_coordinates.append(new_row, ignore_index=True)\n"
     ]
    },
    {
     "name": "stdout",
     "output_type": "stream",
     "text": [
      "adding 45076926 45078299\n",
      "adding 45078605 45079045\n",
      "adding 45079451 45082475\n",
      "adding 45082889 45083359\n"
     ]
    },
    {
     "name": "stderr",
     "output_type": "stream",
     "text": [
      "/tmp/ipykernel_2357504/3447769798.py:37: FutureWarning: The frame.append method is deprecated and will be removed from pandas in a future version. Use pandas.concat instead.\n",
      "  intron_coordinates = intron_coordinates.append(new_row, ignore_index=True)\n",
      "/tmp/ipykernel_2357504/3447769798.py:37: FutureWarning: The frame.append method is deprecated and will be removed from pandas in a future version. Use pandas.concat instead.\n",
      "  intron_coordinates = intron_coordinates.append(new_row, ignore_index=True)\n",
      "/tmp/ipykernel_2357504/3447769798.py:37: FutureWarning: The frame.append method is deprecated and will be removed from pandas in a future version. Use pandas.concat instead.\n",
      "  intron_coordinates = intron_coordinates.append(new_row, ignore_index=True)\n",
      "/tmp/ipykernel_2357504/3447769798.py:37: FutureWarning: The frame.append method is deprecated and will be removed from pandas in a future version. Use pandas.concat instead.\n",
      "  intron_coordinates = intron_coordinates.append(new_row, ignore_index=True)\n"
     ]
    },
    {
     "name": "stdout",
     "output_type": "stream",
     "text": [
      "adding 45083708 45085764\n",
      "adding 45086079 45089642\n",
      "adding 45090030 45090622\n",
      "HERE 45090964 45107309\n"
     ]
    },
    {
     "name": "stderr",
     "output_type": "stream",
     "text": [
      "/tmp/ipykernel_2357504/3447769798.py:37: FutureWarning: The frame.append method is deprecated and will be removed from pandas in a future version. Use pandas.concat instead.\n",
      "  intron_coordinates = intron_coordinates.append(new_row, ignore_index=True)\n",
      "/tmp/ipykernel_2357504/3447769798.py:37: FutureWarning: The frame.append method is deprecated and will be removed from pandas in a future version. Use pandas.concat instead.\n",
      "  intron_coordinates = intron_coordinates.append(new_row, ignore_index=True)\n",
      "/tmp/ipykernel_2357504/3447769798.py:37: FutureWarning: The frame.append method is deprecated and will be removed from pandas in a future version. Use pandas.concat instead.\n",
      "  intron_coordinates = intron_coordinates.append(new_row, ignore_index=True)\n"
     ]
    },
    {
     "name": "stdout",
     "output_type": "stream",
     "text": [
      "adding 45107636 45109978\n",
      "adding 45110349 45111281\n",
      "adding 44873812 44873823\n",
      "adding 44874087 44961183\n"
     ]
    },
    {
     "name": "stderr",
     "output_type": "stream",
     "text": [
      "/tmp/ipykernel_2357504/3447769798.py:37: FutureWarning: The frame.append method is deprecated and will be removed from pandas in a future version. Use pandas.concat instead.\n",
      "  intron_coordinates = intron_coordinates.append(new_row, ignore_index=True)\n",
      "/tmp/ipykernel_2357504/3447769798.py:37: FutureWarning: The frame.append method is deprecated and will be removed from pandas in a future version. Use pandas.concat instead.\n",
      "  intron_coordinates = intron_coordinates.append(new_row, ignore_index=True)\n",
      "/tmp/ipykernel_2357504/3447769798.py:37: FutureWarning: The frame.append method is deprecated and will be removed from pandas in a future version. Use pandas.concat instead.\n",
      "  intron_coordinates = intron_coordinates.append(new_row, ignore_index=True)\n",
      "/tmp/ipykernel_2357504/3447769798.py:37: FutureWarning: The frame.append method is deprecated and will be removed from pandas in a future version. Use pandas.concat instead.\n",
      "  intron_coordinates = intron_coordinates.append(new_row, ignore_index=True)\n"
     ]
    },
    {
     "name": "stdout",
     "output_type": "stream",
     "text": [
      "adding 44961492 44974565\n",
      "adding 44974815 45010860\n",
      "adding 45011119 45020509\n",
      "adding 45020830 45034830\n"
     ]
    },
    {
     "name": "stderr",
     "output_type": "stream",
     "text": [
      "/tmp/ipykernel_2357504/3447769798.py:37: FutureWarning: The frame.append method is deprecated and will be removed from pandas in a future version. Use pandas.concat instead.\n",
      "  intron_coordinates = intron_coordinates.append(new_row, ignore_index=True)\n",
      "/tmp/ipykernel_2357504/3447769798.py:37: FutureWarning: The frame.append method is deprecated and will be removed from pandas in a future version. Use pandas.concat instead.\n",
      "  intron_coordinates = intron_coordinates.append(new_row, ignore_index=True)\n",
      "/tmp/ipykernel_2357504/3447769798.py:37: FutureWarning: The frame.append method is deprecated and will be removed from pandas in a future version. Use pandas.concat instead.\n",
      "  intron_coordinates = intron_coordinates.append(new_row, ignore_index=True)\n",
      "/tmp/ipykernel_2357504/3447769798.py:37: FutureWarning: The frame.append method is deprecated and will be removed from pandas in a future version. Use pandas.concat instead.\n",
      "  intron_coordinates = intron_coordinates.append(new_row, ignore_index=True)\n",
      "/tmp/ipykernel_2357504/3447769798.py:37: FutureWarning: The frame.append method is deprecated and will be removed from pandas in a future version. Use pandas.concat instead.\n",
      "  intron_coordinates = intron_coordinates.append(new_row, ignore_index=True)\n"
     ]
    },
    {
     "name": "stdout",
     "output_type": "stream",
     "text": [
      "adding 45035085 45037554\n",
      "HERE 45037789 45053728\n",
      "<pandas.core.groupby.generic.DataFrameGroupBy object at 0x7f18c413d4c0>\n",
      "adding 2954097 2960973\n",
      "adding 2961746 2974994\n",
      "adding 2975344 2975410\n",
      "adding 2975754 2976569\n",
      "adding 2976922 2977839\n",
      "adding 2978180 2978709\n",
      "adding 2954097 2960973\n",
      "adding 2961746 2974994\n",
      "adding 2975344 2975410\n",
      "adding 2975754 2976569\n",
      "adding 2976922 2977839\n",
      "adding 2978180 2978709\n",
      "adding 2954097 2960973\n",
      "adding 2961746 2974994\n"
     ]
    },
    {
     "name": "stderr",
     "output_type": "stream",
     "text": [
      "/tmp/ipykernel_2357504/3447769798.py:37: FutureWarning: The frame.append method is deprecated and will be removed from pandas in a future version. Use pandas.concat instead.\n",
      "  intron_coordinates = intron_coordinates.append(new_row, ignore_index=True)\n",
      "/tmp/ipykernel_2357504/3447769798.py:37: FutureWarning: The frame.append method is deprecated and will be removed from pandas in a future version. Use pandas.concat instead.\n",
      "  intron_coordinates = intron_coordinates.append(new_row, ignore_index=True)\n",
      "/tmp/ipykernel_2357504/3447769798.py:37: FutureWarning: The frame.append method is deprecated and will be removed from pandas in a future version. Use pandas.concat instead.\n",
      "  intron_coordinates = intron_coordinates.append(new_row, ignore_index=True)\n",
      "/tmp/ipykernel_2357504/3447769798.py:37: FutureWarning: The frame.append method is deprecated and will be removed from pandas in a future version. Use pandas.concat instead.\n",
      "  intron_coordinates = intron_coordinates.append(new_row, ignore_index=True)\n",
      "/tmp/ipykernel_2357504/3447769798.py:37: FutureWarning: The frame.append method is deprecated and will be removed from pandas in a future version. Use pandas.concat instead.\n",
      "  intron_coordinates = intron_coordinates.append(new_row, ignore_index=True)\n",
      "/tmp/ipykernel_2357504/3447769798.py:37: FutureWarning: The frame.append method is deprecated and will be removed from pandas in a future version. Use pandas.concat instead.\n",
      "  intron_coordinates = intron_coordinates.append(new_row, ignore_index=True)\n",
      "/tmp/ipykernel_2357504/3447769798.py:37: FutureWarning: The frame.append method is deprecated and will be removed from pandas in a future version. Use pandas.concat instead.\n",
      "  intron_coordinates = intron_coordinates.append(new_row, ignore_index=True)\n",
      "/tmp/ipykernel_2357504/3447769798.py:37: FutureWarning: The frame.append method is deprecated and will be removed from pandas in a future version. Use pandas.concat instead.\n",
      "  intron_coordinates = intron_coordinates.append(new_row, ignore_index=True)\n",
      "/tmp/ipykernel_2357504/3447769798.py:37: FutureWarning: The frame.append method is deprecated and will be removed from pandas in a future version. Use pandas.concat instead.\n",
      "  intron_coordinates = intron_coordinates.append(new_row, ignore_index=True)\n",
      "/tmp/ipykernel_2357504/3447769798.py:37: FutureWarning: The frame.append method is deprecated and will be removed from pandas in a future version. Use pandas.concat instead.\n",
      "  intron_coordinates = intron_coordinates.append(new_row, ignore_index=True)\n",
      "/tmp/ipykernel_2357504/3447769798.py:37: FutureWarning: The frame.append method is deprecated and will be removed from pandas in a future version. Use pandas.concat instead.\n",
      "  intron_coordinates = intron_coordinates.append(new_row, ignore_index=True)\n",
      "/tmp/ipykernel_2357504/3447769798.py:37: FutureWarning: The frame.append method is deprecated and will be removed from pandas in a future version. Use pandas.concat instead.\n",
      "  intron_coordinates = intron_coordinates.append(new_row, ignore_index=True)\n",
      "/tmp/ipykernel_2357504/3447769798.py:37: FutureWarning: The frame.append method is deprecated and will be removed from pandas in a future version. Use pandas.concat instead.\n",
      "  intron_coordinates = intron_coordinates.append(new_row, ignore_index=True)\n",
      "/tmp/ipykernel_2357504/3447769798.py:37: FutureWarning: The frame.append method is deprecated and will be removed from pandas in a future version. Use pandas.concat instead.\n",
      "  intron_coordinates = intron_coordinates.append(new_row, ignore_index=True)\n",
      "/tmp/ipykernel_2357504/3447769798.py:37: FutureWarning: The frame.append method is deprecated and will be removed from pandas in a future version. Use pandas.concat instead.\n",
      "  intron_coordinates = intron_coordinates.append(new_row, ignore_index=True)\n",
      "/tmp/ipykernel_2357504/3447769798.py:37: FutureWarning: The frame.append method is deprecated and will be removed from pandas in a future version. Use pandas.concat instead.\n",
      "  intron_coordinates = intron_coordinates.append(new_row, ignore_index=True)\n"
     ]
    },
    {
     "name": "stdout",
     "output_type": "stream",
     "text": [
      "adding 2975344 2975410\n",
      "HERE 2975754 2977839\n",
      "adding 2978180 2978709\n",
      "HERE 2954097 2974994\n",
      "adding 2975344 2975410\n",
      "adding 2975754 2976569\n",
      "adding 2976922 2977839\n",
      "adding 2978180 2978709\n",
      "<pandas.core.groupby.generic.DataFrameGroupBy object at 0x7f1894069400>\n",
      "HERE 24172900 24179082\n",
      "adding 24179870 24207225\n",
      "adding 24207575 24207611\n",
      "adding 24207955 24208117\n",
      "adding 24208470 24208799\n",
      "adding 24209140 24210092\n",
      "HERE 24172900 24179082\n",
      "HERE 24179870 24207611\n",
      "adding 24207955 24208117\n",
      "adding 24208470 24208799\n"
     ]
    },
    {
     "name": "stderr",
     "output_type": "stream",
     "text": [
      "/tmp/ipykernel_2357504/3447769798.py:37: FutureWarning: The frame.append method is deprecated and will be removed from pandas in a future version. Use pandas.concat instead.\n",
      "  intron_coordinates = intron_coordinates.append(new_row, ignore_index=True)\n",
      "/tmp/ipykernel_2357504/3447769798.py:37: FutureWarning: The frame.append method is deprecated and will be removed from pandas in a future version. Use pandas.concat instead.\n",
      "  intron_coordinates = intron_coordinates.append(new_row, ignore_index=True)\n",
      "/tmp/ipykernel_2357504/3447769798.py:37: FutureWarning: The frame.append method is deprecated and will be removed from pandas in a future version. Use pandas.concat instead.\n",
      "  intron_coordinates = intron_coordinates.append(new_row, ignore_index=True)\n",
      "/tmp/ipykernel_2357504/3447769798.py:37: FutureWarning: The frame.append method is deprecated and will be removed from pandas in a future version. Use pandas.concat instead.\n",
      "  intron_coordinates = intron_coordinates.append(new_row, ignore_index=True)\n",
      "/tmp/ipykernel_2357504/3447769798.py:37: FutureWarning: The frame.append method is deprecated and will be removed from pandas in a future version. Use pandas.concat instead.\n",
      "  intron_coordinates = intron_coordinates.append(new_row, ignore_index=True)\n",
      "/tmp/ipykernel_2357504/3447769798.py:37: FutureWarning: The frame.append method is deprecated and will be removed from pandas in a future version. Use pandas.concat instead.\n",
      "  intron_coordinates = intron_coordinates.append(new_row, ignore_index=True)\n",
      "/tmp/ipykernel_2357504/3447769798.py:37: FutureWarning: The frame.append method is deprecated and will be removed from pandas in a future version. Use pandas.concat instead.\n",
      "  intron_coordinates = intron_coordinates.append(new_row, ignore_index=True)\n",
      "/tmp/ipykernel_2357504/3447769798.py:37: FutureWarning: The frame.append method is deprecated and will be removed from pandas in a future version. Use pandas.concat instead.\n",
      "  intron_coordinates = intron_coordinates.append(new_row, ignore_index=True)\n",
      "/tmp/ipykernel_2357504/3447769798.py:37: FutureWarning: The frame.append method is deprecated and will be removed from pandas in a future version. Use pandas.concat instead.\n",
      "  intron_coordinates = intron_coordinates.append(new_row, ignore_index=True)\n",
      "/tmp/ipykernel_2357504/3447769798.py:37: FutureWarning: The frame.append method is deprecated and will be removed from pandas in a future version. Use pandas.concat instead.\n",
      "  intron_coordinates = intron_coordinates.append(new_row, ignore_index=True)\n",
      "/tmp/ipykernel_2357504/3447769798.py:37: FutureWarning: The frame.append method is deprecated and will be removed from pandas in a future version. Use pandas.concat instead.\n",
      "  intron_coordinates = intron_coordinates.append(new_row, ignore_index=True)\n",
      "/tmp/ipykernel_2357504/3447769798.py:37: FutureWarning: The frame.append method is deprecated and will be removed from pandas in a future version. Use pandas.concat instead.\n",
      "  intron_coordinates = intron_coordinates.append(new_row, ignore_index=True)\n",
      "/tmp/ipykernel_2357504/3447769798.py:37: FutureWarning: The frame.append method is deprecated and will be removed from pandas in a future version. Use pandas.concat instead.\n",
      "  intron_coordinates = intron_coordinates.append(new_row, ignore_index=True)\n"
     ]
    },
    {
     "name": "stdout",
     "output_type": "stream",
     "text": [
      "adding 24209140 24210092\n",
      "HERE 24172900 24179082\n",
      "adding 24179870 24207225\n",
      "adding 24207575 24207611\n",
      "adding 24207955 24208117\n",
      "adding 24208470 24208799\n",
      "adding 24209140 24210092\n",
      "adding 24172900 24173506\n",
      "adding 24173823 24179082\n",
      "adding 24179870 24207225\n",
      "adding 24207575 24207611\n",
      "adding 24207955 24208117\n",
      "adding 24208470 24208799\n",
      "adding 24209140 24210092\n",
      "HERE 24172900 24179082\n",
      "HERE 24172900 24179082\n"
     ]
    },
    {
     "name": "stderr",
     "output_type": "stream",
     "text": [
      "/tmp/ipykernel_2357504/3447769798.py:37: FutureWarning: The frame.append method is deprecated and will be removed from pandas in a future version. Use pandas.concat instead.\n",
      "  intron_coordinates = intron_coordinates.append(new_row, ignore_index=True)\n",
      "/tmp/ipykernel_2357504/3447769798.py:37: FutureWarning: The frame.append method is deprecated and will be removed from pandas in a future version. Use pandas.concat instead.\n",
      "  intron_coordinates = intron_coordinates.append(new_row, ignore_index=True)\n",
      "/tmp/ipykernel_2357504/3447769798.py:37: FutureWarning: The frame.append method is deprecated and will be removed from pandas in a future version. Use pandas.concat instead.\n",
      "  intron_coordinates = intron_coordinates.append(new_row, ignore_index=True)\n",
      "/tmp/ipykernel_2357504/3447769798.py:37: FutureWarning: The frame.append method is deprecated and will be removed from pandas in a future version. Use pandas.concat instead.\n",
      "  intron_coordinates = intron_coordinates.append(new_row, ignore_index=True)\n",
      "/tmp/ipykernel_2357504/3447769798.py:37: FutureWarning: The frame.append method is deprecated and will be removed from pandas in a future version. Use pandas.concat instead.\n",
      "  intron_coordinates = intron_coordinates.append(new_row, ignore_index=True)\n",
      "/tmp/ipykernel_2357504/3447769798.py:37: FutureWarning: The frame.append method is deprecated and will be removed from pandas in a future version. Use pandas.concat instead.\n",
      "  intron_coordinates = intron_coordinates.append(new_row, ignore_index=True)\n",
      "/tmp/ipykernel_2357504/3447769798.py:37: FutureWarning: The frame.append method is deprecated and will be removed from pandas in a future version. Use pandas.concat instead.\n",
      "  intron_coordinates = intron_coordinates.append(new_row, ignore_index=True)\n",
      "/tmp/ipykernel_2357504/3447769798.py:37: FutureWarning: The frame.append method is deprecated and will be removed from pandas in a future version. Use pandas.concat instead.\n",
      "  intron_coordinates = intron_coordinates.append(new_row, ignore_index=True)\n",
      "/tmp/ipykernel_2357504/3447769798.py:37: FutureWarning: The frame.append method is deprecated and will be removed from pandas in a future version. Use pandas.concat instead.\n",
      "  intron_coordinates = intron_coordinates.append(new_row, ignore_index=True)\n",
      "/tmp/ipykernel_2357504/3447769798.py:37: FutureWarning: The frame.append method is deprecated and will be removed from pandas in a future version. Use pandas.concat instead.\n",
      "  intron_coordinates = intron_coordinates.append(new_row, ignore_index=True)\n",
      "/tmp/ipykernel_2357504/3447769798.py:37: FutureWarning: The frame.append method is deprecated and will be removed from pandas in a future version. Use pandas.concat instead.\n",
      "  intron_coordinates = intron_coordinates.append(new_row, ignore_index=True)\n",
      "/tmp/ipykernel_2357504/3447769798.py:37: FutureWarning: The frame.append method is deprecated and will be removed from pandas in a future version. Use pandas.concat instead.\n",
      "  intron_coordinates = intron_coordinates.append(new_row, ignore_index=True)\n",
      "/tmp/ipykernel_2357504/3447769798.py:37: FutureWarning: The frame.append method is deprecated and will be removed from pandas in a future version. Use pandas.concat instead.\n",
      "  intron_coordinates = intron_coordinates.append(new_row, ignore_index=True)\n"
     ]
    },
    {
     "name": "stdout",
     "output_type": "stream",
     "text": [
      "adding 24207575 24207611\n",
      "adding 24207955 24208117\n",
      "adding 24208470 24208799\n",
      "adding 24209140 24210092\n",
      "<pandas.core.groupby.generic.DataFrameGroupBy object at 0x7f18e36076d0>\n",
      "HERE 12905081 12907436\n",
      "adding 12907694 12909259\n",
      "adding 12909507 12911738\n",
      "adding 12912068 12912626\n",
      "adding 12913162 12913617\n",
      "adding 12913953 12914463\n",
      "adding 12914749 12914783\n",
      "adding 12915327 12915529\n",
      "adding 12916127 12916160\n"
     ]
    },
    {
     "name": "stderr",
     "output_type": "stream",
     "text": [
      "/tmp/ipykernel_2357504/3447769798.py:37: FutureWarning: The frame.append method is deprecated and will be removed from pandas in a future version. Use pandas.concat instead.\n",
      "  intron_coordinates = intron_coordinates.append(new_row, ignore_index=True)\n",
      "/tmp/ipykernel_2357504/3447769798.py:37: FutureWarning: The frame.append method is deprecated and will be removed from pandas in a future version. Use pandas.concat instead.\n",
      "  intron_coordinates = intron_coordinates.append(new_row, ignore_index=True)\n",
      "/tmp/ipykernel_2357504/3447769798.py:37: FutureWarning: The frame.append method is deprecated and will be removed from pandas in a future version. Use pandas.concat instead.\n",
      "  intron_coordinates = intron_coordinates.append(new_row, ignore_index=True)\n",
      "/tmp/ipykernel_2357504/3447769798.py:37: FutureWarning: The frame.append method is deprecated and will be removed from pandas in a future version. Use pandas.concat instead.\n",
      "  intron_coordinates = intron_coordinates.append(new_row, ignore_index=True)\n",
      "/tmp/ipykernel_2357504/3447769798.py:37: FutureWarning: The frame.append method is deprecated and will be removed from pandas in a future version. Use pandas.concat instead.\n",
      "  intron_coordinates = intron_coordinates.append(new_row, ignore_index=True)\n",
      "/tmp/ipykernel_2357504/3447769798.py:37: FutureWarning: The frame.append method is deprecated and will be removed from pandas in a future version. Use pandas.concat instead.\n",
      "  intron_coordinates = intron_coordinates.append(new_row, ignore_index=True)\n",
      "/tmp/ipykernel_2357504/3447769798.py:37: FutureWarning: The frame.append method is deprecated and will be removed from pandas in a future version. Use pandas.concat instead.\n",
      "  intron_coordinates = intron_coordinates.append(new_row, ignore_index=True)\n",
      "/tmp/ipykernel_2357504/3447769798.py:37: FutureWarning: The frame.append method is deprecated and will be removed from pandas in a future version. Use pandas.concat instead.\n",
      "  intron_coordinates = intron_coordinates.append(new_row, ignore_index=True)\n",
      "/tmp/ipykernel_2357504/3447769798.py:37: FutureWarning: The frame.append method is deprecated and will be removed from pandas in a future version. Use pandas.concat instead.\n",
      "  intron_coordinates = intron_coordinates.append(new_row, ignore_index=True)\n",
      "/tmp/ipykernel_2357504/3447769798.py:37: FutureWarning: The frame.append method is deprecated and will be removed from pandas in a future version. Use pandas.concat instead.\n",
      "  intron_coordinates = intron_coordinates.append(new_row, ignore_index=True)\n",
      "/tmp/ipykernel_2357504/3447769798.py:37: FutureWarning: The frame.append method is deprecated and will be removed from pandas in a future version. Use pandas.concat instead.\n",
      "  intron_coordinates = intron_coordinates.append(new_row, ignore_index=True)\n",
      "/tmp/ipykernel_2357504/3447769798.py:37: FutureWarning: The frame.append method is deprecated and will be removed from pandas in a future version. Use pandas.concat instead.\n",
      "  intron_coordinates = intron_coordinates.append(new_row, ignore_index=True)\n"
     ]
    },
    {
     "name": "stdout",
     "output_type": "stream",
     "text": [
      "adding 12916734 12916806\n",
      "adding 12917160 12917302\n",
      "adding 12917642 12917942\n",
      "HERE 12905081 12907436\n",
      "adding 12907694 12909259\n",
      "adding 12909507 12911738\n",
      "adding 12912068 12912626\n",
      "adding 12913162 12913617\n",
      "adding 12913953 12914463\n",
      "adding 12914749 12914783\n",
      "adding 12915327 12915529\n",
      "adding 12916127 12916160\n"
     ]
    },
    {
     "name": "stderr",
     "output_type": "stream",
     "text": [
      "/tmp/ipykernel_2357504/3447769798.py:37: FutureWarning: The frame.append method is deprecated and will be removed from pandas in a future version. Use pandas.concat instead.\n",
      "  intron_coordinates = intron_coordinates.append(new_row, ignore_index=True)\n",
      "/tmp/ipykernel_2357504/3447769798.py:37: FutureWarning: The frame.append method is deprecated and will be removed from pandas in a future version. Use pandas.concat instead.\n",
      "  intron_coordinates = intron_coordinates.append(new_row, ignore_index=True)\n",
      "/tmp/ipykernel_2357504/3447769798.py:37: FutureWarning: The frame.append method is deprecated and will be removed from pandas in a future version. Use pandas.concat instead.\n",
      "  intron_coordinates = intron_coordinates.append(new_row, ignore_index=True)\n",
      "/tmp/ipykernel_2357504/3447769798.py:37: FutureWarning: The frame.append method is deprecated and will be removed from pandas in a future version. Use pandas.concat instead.\n",
      "  intron_coordinates = intron_coordinates.append(new_row, ignore_index=True)\n",
      "/tmp/ipykernel_2357504/3447769798.py:37: FutureWarning: The frame.append method is deprecated and will be removed from pandas in a future version. Use pandas.concat instead.\n",
      "  intron_coordinates = intron_coordinates.append(new_row, ignore_index=True)\n",
      "/tmp/ipykernel_2357504/3447769798.py:37: FutureWarning: The frame.append method is deprecated and will be removed from pandas in a future version. Use pandas.concat instead.\n",
      "  intron_coordinates = intron_coordinates.append(new_row, ignore_index=True)\n",
      "/tmp/ipykernel_2357504/3447769798.py:37: FutureWarning: The frame.append method is deprecated and will be removed from pandas in a future version. Use pandas.concat instead.\n",
      "  intron_coordinates = intron_coordinates.append(new_row, ignore_index=True)\n",
      "/tmp/ipykernel_2357504/3447769798.py:37: FutureWarning: The frame.append method is deprecated and will be removed from pandas in a future version. Use pandas.concat instead.\n",
      "  intron_coordinates = intron_coordinates.append(new_row, ignore_index=True)\n",
      "/tmp/ipykernel_2357504/3447769798.py:37: FutureWarning: The frame.append method is deprecated and will be removed from pandas in a future version. Use pandas.concat instead.\n",
      "  intron_coordinates = intron_coordinates.append(new_row, ignore_index=True)\n",
      "/tmp/ipykernel_2357504/3447769798.py:37: FutureWarning: The frame.append method is deprecated and will be removed from pandas in a future version. Use pandas.concat instead.\n",
      "  intron_coordinates = intron_coordinates.append(new_row, ignore_index=True)\n",
      "/tmp/ipykernel_2357504/3447769798.py:37: FutureWarning: The frame.append method is deprecated and will be removed from pandas in a future version. Use pandas.concat instead.\n",
      "  intron_coordinates = intron_coordinates.append(new_row, ignore_index=True)\n"
     ]
    },
    {
     "name": "stdout",
     "output_type": "stream",
     "text": [
      "adding 12916734 12916806\n",
      "adding 12917160 12917302\n",
      "adding 12917642 12917942\n",
      "adding 12905915 12907436\n",
      "adding 12907694 12909259\n",
      "adding 12909507 12911738\n",
      "adding 12912068 12912626\n",
      "adding 12913162 12913617\n",
      "adding 12913953 12914463\n",
      "HERE 12905081 12907436\n",
      "adding 12907694 12909259\n",
      "adding 12909507 12911738\n"
     ]
    },
    {
     "name": "stderr",
     "output_type": "stream",
     "text": [
      "/tmp/ipykernel_2357504/3447769798.py:37: FutureWarning: The frame.append method is deprecated and will be removed from pandas in a future version. Use pandas.concat instead.\n",
      "  intron_coordinates = intron_coordinates.append(new_row, ignore_index=True)\n",
      "/tmp/ipykernel_2357504/3447769798.py:37: FutureWarning: The frame.append method is deprecated and will be removed from pandas in a future version. Use pandas.concat instead.\n",
      "  intron_coordinates = intron_coordinates.append(new_row, ignore_index=True)\n",
      "/tmp/ipykernel_2357504/3447769798.py:37: FutureWarning: The frame.append method is deprecated and will be removed from pandas in a future version. Use pandas.concat instead.\n",
      "  intron_coordinates = intron_coordinates.append(new_row, ignore_index=True)\n",
      "/tmp/ipykernel_2357504/3447769798.py:37: FutureWarning: The frame.append method is deprecated and will be removed from pandas in a future version. Use pandas.concat instead.\n",
      "  intron_coordinates = intron_coordinates.append(new_row, ignore_index=True)\n",
      "/tmp/ipykernel_2357504/3447769798.py:37: FutureWarning: The frame.append method is deprecated and will be removed from pandas in a future version. Use pandas.concat instead.\n",
      "  intron_coordinates = intron_coordinates.append(new_row, ignore_index=True)\n",
      "/tmp/ipykernel_2357504/3447769798.py:37: FutureWarning: The frame.append method is deprecated and will be removed from pandas in a future version. Use pandas.concat instead.\n",
      "  intron_coordinates = intron_coordinates.append(new_row, ignore_index=True)\n",
      "/tmp/ipykernel_2357504/3447769798.py:37: FutureWarning: The frame.append method is deprecated and will be removed from pandas in a future version. Use pandas.concat instead.\n",
      "  intron_coordinates = intron_coordinates.append(new_row, ignore_index=True)\n",
      "/tmp/ipykernel_2357504/3447769798.py:37: FutureWarning: The frame.append method is deprecated and will be removed from pandas in a future version. Use pandas.concat instead.\n",
      "  intron_coordinates = intron_coordinates.append(new_row, ignore_index=True)\n",
      "/tmp/ipykernel_2357504/3447769798.py:37: FutureWarning: The frame.append method is deprecated and will be removed from pandas in a future version. Use pandas.concat instead.\n",
      "  intron_coordinates = intron_coordinates.append(new_row, ignore_index=True)\n",
      "/tmp/ipykernel_2357504/3447769798.py:37: FutureWarning: The frame.append method is deprecated and will be removed from pandas in a future version. Use pandas.concat instead.\n",
      "  intron_coordinates = intron_coordinates.append(new_row, ignore_index=True)\n"
     ]
    },
    {
     "name": "stdout",
     "output_type": "stream",
     "text": [
      "adding 12912068 12912626\n",
      "adding 12913162 12913617\n",
      "<pandas.core.groupby.generic.DataFrameGroupBy object at 0x7f18e3607640>\n",
      "HERE 41334397 41337307\n",
      "HERE 41337565 41338938\n",
      "HERE 41339183 41341383\n",
      "HERE 41341716 41342394\n",
      "adding 41342936 41343115\n",
      "adding 41343451 41343636\n"
     ]
    },
    {
     "name": "stderr",
     "output_type": "stream",
     "text": [
      "/tmp/ipykernel_2357504/3447769798.py:37: FutureWarning: The frame.append method is deprecated and will be removed from pandas in a future version. Use pandas.concat instead.\n",
      "  intron_coordinates = intron_coordinates.append(new_row, ignore_index=True)\n",
      "/tmp/ipykernel_2357504/3447769798.py:37: FutureWarning: The frame.append method is deprecated and will be removed from pandas in a future version. Use pandas.concat instead.\n",
      "  intron_coordinates = intron_coordinates.append(new_row, ignore_index=True)\n"
     ]
    },
    {
     "name": "stdout",
     "output_type": "stream",
     "text": [
      "adding 41343922 41343929\n",
      "HERE 41344499 41345079\n",
      "adding 41345648 41346128\n"
     ]
    },
    {
     "name": "stderr",
     "output_type": "stream",
     "text": [
      "/tmp/ipykernel_2357504/3447769798.py:37: FutureWarning: The frame.append method is deprecated and will be removed from pandas in a future version. Use pandas.concat instead.\n",
      "  intron_coordinates = intron_coordinates.append(new_row, ignore_index=True)\n",
      "/tmp/ipykernel_2357504/3447769798.py:37: FutureWarning: The frame.append method is deprecated and will be removed from pandas in a future version. Use pandas.concat instead.\n",
      "  intron_coordinates = intron_coordinates.append(new_row, ignore_index=True)\n"
     ]
    },
    {
     "name": "stdout",
     "output_type": "stream",
     "text": [
      "adding 41346722 41346758\n",
      "adding 41347112 41347211\n",
      "HERE 41334397 41337307\n",
      "HERE 41337565 41338935\n",
      "HERE 41339183 41341383\n",
      "HERE 41341716 41342394\n"
     ]
    },
    {
     "name": "stderr",
     "output_type": "stream",
     "text": [
      "/tmp/ipykernel_2357504/3447769798.py:37: FutureWarning: The frame.append method is deprecated and will be removed from pandas in a future version. Use pandas.concat instead.\n",
      "  intron_coordinates = intron_coordinates.append(new_row, ignore_index=True)\n",
      "/tmp/ipykernel_2357504/3447769798.py:37: FutureWarning: The frame.append method is deprecated and will be removed from pandas in a future version. Use pandas.concat instead.\n",
      "  intron_coordinates = intron_coordinates.append(new_row, ignore_index=True)\n"
     ]
    },
    {
     "name": "stdout",
     "output_type": "stream",
     "text": [
      "adding 41342936 41343115\n",
      "adding 41343451 41343636\n",
      "HERE 41343922 41344138\n"
     ]
    },
    {
     "name": "stderr",
     "output_type": "stream",
     "text": [
      "/tmp/ipykernel_2357504/3447769798.py:37: FutureWarning: The frame.append method is deprecated and will be removed from pandas in a future version. Use pandas.concat instead.\n",
      "  intron_coordinates = intron_coordinates.append(new_row, ignore_index=True)\n",
      "/tmp/ipykernel_2357504/3447769798.py:37: FutureWarning: The frame.append method is deprecated and will be removed from pandas in a future version. Use pandas.concat instead.\n",
      "  intron_coordinates = intron_coordinates.append(new_row, ignore_index=True)\n"
     ]
    },
    {
     "name": "stdout",
     "output_type": "stream",
     "text": [
      "HERE 41344499 41345079\n",
      "adding 41345648 41346128\n",
      "adding 41346722 41346758\n"
     ]
    },
    {
     "name": "stderr",
     "output_type": "stream",
     "text": [
      "/tmp/ipykernel_2357504/3447769798.py:37: FutureWarning: The frame.append method is deprecated and will be removed from pandas in a future version. Use pandas.concat instead.\n",
      "  intron_coordinates = intron_coordinates.append(new_row, ignore_index=True)\n",
      "/tmp/ipykernel_2357504/3447769798.py:37: FutureWarning: The frame.append method is deprecated and will be removed from pandas in a future version. Use pandas.concat instead.\n",
      "  intron_coordinates = intron_coordinates.append(new_row, ignore_index=True)\n"
     ]
    },
    {
     "name": "stdout",
     "output_type": "stream",
     "text": [
      "adding 41347112 41347211\n",
      "HERE 41334397 41337307\n",
      "HERE 41337565 41341383\n",
      "HERE 41341716 41342394\n",
      "adding 41342936 41343115\n"
     ]
    },
    {
     "name": "stderr",
     "output_type": "stream",
     "text": [
      "/tmp/ipykernel_2357504/3447769798.py:37: FutureWarning: The frame.append method is deprecated and will be removed from pandas in a future version. Use pandas.concat instead.\n",
      "  intron_coordinates = intron_coordinates.append(new_row, ignore_index=True)\n",
      "/tmp/ipykernel_2357504/3447769798.py:37: FutureWarning: The frame.append method is deprecated and will be removed from pandas in a future version. Use pandas.concat instead.\n",
      "  intron_coordinates = intron_coordinates.append(new_row, ignore_index=True)\n"
     ]
    },
    {
     "name": "stdout",
     "output_type": "stream",
     "text": [
      "adding 41343451 41343636\n",
      "adding 41343922 41343929\n",
      "HERE 41344499 41345079\n"
     ]
    },
    {
     "name": "stderr",
     "output_type": "stream",
     "text": [
      "/tmp/ipykernel_2357504/3447769798.py:37: FutureWarning: The frame.append method is deprecated and will be removed from pandas in a future version. Use pandas.concat instead.\n",
      "  intron_coordinates = intron_coordinates.append(new_row, ignore_index=True)\n",
      "/tmp/ipykernel_2357504/3447769798.py:37: FutureWarning: The frame.append method is deprecated and will be removed from pandas in a future version. Use pandas.concat instead.\n",
      "  intron_coordinates = intron_coordinates.append(new_row, ignore_index=True)\n"
     ]
    },
    {
     "name": "stdout",
     "output_type": "stream",
     "text": [
      "adding 41345648 41346128\n",
      "adding 41346722 41346758\n"
     ]
    },
    {
     "name": "stderr",
     "output_type": "stream",
     "text": [
      "/tmp/ipykernel_2357504/3447769798.py:37: FutureWarning: The frame.append method is deprecated and will be removed from pandas in a future version. Use pandas.concat instead.\n",
      "  intron_coordinates = intron_coordinates.append(new_row, ignore_index=True)\n",
      "/tmp/ipykernel_2357504/3447769798.py:37: FutureWarning: The frame.append method is deprecated and will be removed from pandas in a future version. Use pandas.concat instead.\n",
      "  intron_coordinates = intron_coordinates.append(new_row, ignore_index=True)\n"
     ]
    },
    {
     "name": "stdout",
     "output_type": "stream",
     "text": [
      "adding 41347112 41347211\n",
      "HERE 41334397 41337307\n",
      "HERE 41337565 41338935\n",
      "HERE 41339183 41341383\n",
      "HERE 41341716 41342394\n",
      "adding 41342936 41343115\n"
     ]
    },
    {
     "name": "stderr",
     "output_type": "stream",
     "text": [
      "/tmp/ipykernel_2357504/3447769798.py:37: FutureWarning: The frame.append method is deprecated and will be removed from pandas in a future version. Use pandas.concat instead.\n",
      "  intron_coordinates = intron_coordinates.append(new_row, ignore_index=True)\n",
      "/tmp/ipykernel_2357504/3447769798.py:37: FutureWarning: The frame.append method is deprecated and will be removed from pandas in a future version. Use pandas.concat instead.\n",
      "  intron_coordinates = intron_coordinates.append(new_row, ignore_index=True)\n"
     ]
    },
    {
     "name": "stdout",
     "output_type": "stream",
     "text": [
      "adding 41343451 41343636\n",
      "adding 41343922 41343929\n",
      "HERE 41344499 41345079\n"
     ]
    },
    {
     "name": "stderr",
     "output_type": "stream",
     "text": [
      "/tmp/ipykernel_2357504/3447769798.py:37: FutureWarning: The frame.append method is deprecated and will be removed from pandas in a future version. Use pandas.concat instead.\n",
      "  intron_coordinates = intron_coordinates.append(new_row, ignore_index=True)\n",
      "/tmp/ipykernel_2357504/3447769798.py:37: FutureWarning: The frame.append method is deprecated and will be removed from pandas in a future version. Use pandas.concat instead.\n",
      "  intron_coordinates = intron_coordinates.append(new_row, ignore_index=True)\n"
     ]
    },
    {
     "name": "stdout",
     "output_type": "stream",
     "text": [
      "adding 41345648 41346128\n",
      "adding 41346722 41346758\n"
     ]
    },
    {
     "name": "stderr",
     "output_type": "stream",
     "text": [
      "/tmp/ipykernel_2357504/3447769798.py:37: FutureWarning: The frame.append method is deprecated and will be removed from pandas in a future version. Use pandas.concat instead.\n",
      "  intron_coordinates = intron_coordinates.append(new_row, ignore_index=True)\n",
      "/tmp/ipykernel_2357504/3447769798.py:37: FutureWarning: The frame.append method is deprecated and will be removed from pandas in a future version. Use pandas.concat instead.\n",
      "  intron_coordinates = intron_coordinates.append(new_row, ignore_index=True)\n"
     ]
    },
    {
     "name": "stdout",
     "output_type": "stream",
     "text": [
      "adding 41347112 41347211\n",
      "HERE 41343451 41343929\n",
      "adding 41346722 41346758\n"
     ]
    },
    {
     "name": "stderr",
     "output_type": "stream",
     "text": [
      "/tmp/ipykernel_2357504/3447769798.py:37: FutureWarning: The frame.append method is deprecated and will be removed from pandas in a future version. Use pandas.concat instead.\n",
      "  intron_coordinates = intron_coordinates.append(new_row, ignore_index=True)\n",
      "/tmp/ipykernel_2357504/3447769798.py:37: FutureWarning: The frame.append method is deprecated and will be removed from pandas in a future version. Use pandas.concat instead.\n",
      "  intron_coordinates = intron_coordinates.append(new_row, ignore_index=True)\n"
     ]
    },
    {
     "name": "stdout",
     "output_type": "stream",
     "text": [
      "adding 41347112 41347211\n",
      "HERE 41347551 41347759\n"
     ]
    },
    {
     "name": "stderr",
     "output_type": "stream",
     "text": [
      "/tmp/ipykernel_2357504/3447769798.py:37: FutureWarning: The frame.append method is deprecated and will be removed from pandas in a future version. Use pandas.concat instead.\n",
      "  intron_coordinates = intron_coordinates.append(new_row, ignore_index=True)\n"
     ]
    },
    {
     "name": "stdout",
     "output_type": "stream",
     "text": [
      "adding 41336259 41337307\n",
      "HERE 41337565 41338935\n",
      "HERE 41339183 41341383\n",
      "HERE 41341716 41342394\n",
      "HERE 41334397 41337307\n",
      "HERE 41337565 41338935\n",
      "HERE 41339183 41341383\n"
     ]
    },
    {
     "name": "stderr",
     "output_type": "stream",
     "text": [
      "/tmp/ipykernel_2357504/3447769798.py:37: FutureWarning: The frame.append method is deprecated and will be removed from pandas in a future version. Use pandas.concat instead.\n",
      "  intron_coordinates = intron_coordinates.append(new_row, ignore_index=True)\n"
     ]
    },
    {
     "name": "stdout",
     "output_type": "stream",
     "text": [
      "adding 41341716 41341848\n",
      "adding 41345648 41346128\n"
     ]
    },
    {
     "name": "stderr",
     "output_type": "stream",
     "text": [
      "/tmp/ipykernel_2357504/3447769798.py:37: FutureWarning: The frame.append method is deprecated and will be removed from pandas in a future version. Use pandas.concat instead.\n",
      "  intron_coordinates = intron_coordinates.append(new_row, ignore_index=True)\n",
      "/tmp/ipykernel_2357504/3447769798.py:37: FutureWarning: The frame.append method is deprecated and will be removed from pandas in a future version. Use pandas.concat instead.\n",
      "  intron_coordinates = intron_coordinates.append(new_row, ignore_index=True)\n"
     ]
    },
    {
     "name": "stdout",
     "output_type": "stream",
     "text": [
      "adding 41346722 41346758\n",
      "adding 41347112 41347214\n"
     ]
    },
    {
     "name": "stderr",
     "output_type": "stream",
     "text": [
      "/tmp/ipykernel_2357504/3447769798.py:37: FutureWarning: The frame.append method is deprecated and will be removed from pandas in a future version. Use pandas.concat instead.\n",
      "  intron_coordinates = intron_coordinates.append(new_row, ignore_index=True)\n",
      "/tmp/ipykernel_2357504/3447769798.py:37: FutureWarning: The frame.append method is deprecated and will be removed from pandas in a future version. Use pandas.concat instead.\n",
      "  intron_coordinates = intron_coordinates.append(new_row, ignore_index=True)\n"
     ]
    },
    {
     "name": "stdout",
     "output_type": "stream",
     "text": [
      "HERE 41347551 41364173\n",
      "HERE 41334397 41337307\n",
      "HERE 41337565 41338935\n",
      "HERE 41339183 41341383\n",
      "HERE 41341716 41342394\n",
      "adding 41342936 41343115\n"
     ]
    },
    {
     "name": "stderr",
     "output_type": "stream",
     "text": [
      "/tmp/ipykernel_2357504/3447769798.py:37: FutureWarning: The frame.append method is deprecated and will be removed from pandas in a future version. Use pandas.concat instead.\n",
      "  intron_coordinates = intron_coordinates.append(new_row, ignore_index=True)\n",
      "/tmp/ipykernel_2357504/3447769798.py:37: FutureWarning: The frame.append method is deprecated and will be removed from pandas in a future version. Use pandas.concat instead.\n",
      "  intron_coordinates = intron_coordinates.append(new_row, ignore_index=True)\n"
     ]
    },
    {
     "name": "stdout",
     "output_type": "stream",
     "text": [
      "adding 41343451 41343636\n",
      "adding 41343922 41343929\n",
      "HERE 41344499 41345079\n"
     ]
    },
    {
     "name": "stderr",
     "output_type": "stream",
     "text": [
      "/tmp/ipykernel_2357504/3447769798.py:37: FutureWarning: The frame.append method is deprecated and will be removed from pandas in a future version. Use pandas.concat instead.\n",
      "  intron_coordinates = intron_coordinates.append(new_row, ignore_index=True)\n",
      "/tmp/ipykernel_2357504/3447769798.py:37: FutureWarning: The frame.append method is deprecated and will be removed from pandas in a future version. Use pandas.concat instead.\n",
      "  intron_coordinates = intron_coordinates.append(new_row, ignore_index=True)\n"
     ]
    },
    {
     "name": "stdout",
     "output_type": "stream",
     "text": [
      "adding 41345648 41346128\n",
      "adding 41346722 41346758\n"
     ]
    },
    {
     "name": "stderr",
     "output_type": "stream",
     "text": [
      "/tmp/ipykernel_2357504/3447769798.py:37: FutureWarning: The frame.append method is deprecated and will be removed from pandas in a future version. Use pandas.concat instead.\n",
      "  intron_coordinates = intron_coordinates.append(new_row, ignore_index=True)\n",
      "/tmp/ipykernel_2357504/3447769798.py:37: FutureWarning: The frame.append method is deprecated and will be removed from pandas in a future version. Use pandas.concat instead.\n",
      "  intron_coordinates = intron_coordinates.append(new_row, ignore_index=True)\n"
     ]
    },
    {
     "name": "stdout",
     "output_type": "stream",
     "text": [
      "adding 41347112 41347211\n",
      "HERE 41347551 41347759\n",
      "adding 41348015 41357732\n",
      "adding 41358100 41364173\n",
      "HERE 41334397 41337307\n",
      "HERE 41337565 41338935\n",
      "HERE 41339183 41341383\n"
     ]
    },
    {
     "name": "stderr",
     "output_type": "stream",
     "text": [
      "/tmp/ipykernel_2357504/3447769798.py:37: FutureWarning: The frame.append method is deprecated and will be removed from pandas in a future version. Use pandas.concat instead.\n",
      "  intron_coordinates = intron_coordinates.append(new_row, ignore_index=True)\n",
      "/tmp/ipykernel_2357504/3447769798.py:37: FutureWarning: The frame.append method is deprecated and will be removed from pandas in a future version. Use pandas.concat instead.\n",
      "  intron_coordinates = intron_coordinates.append(new_row, ignore_index=True)\n"
     ]
    },
    {
     "name": "stdout",
     "output_type": "stream",
     "text": [
      "HERE 41341716 41342394\n",
      "adding 41342936 41343115\n",
      "adding 41343451 41343636\n"
     ]
    },
    {
     "name": "stderr",
     "output_type": "stream",
     "text": [
      "/tmp/ipykernel_2357504/3447769798.py:37: FutureWarning: The frame.append method is deprecated and will be removed from pandas in a future version. Use pandas.concat instead.\n",
      "  intron_coordinates = intron_coordinates.append(new_row, ignore_index=True)\n",
      "/tmp/ipykernel_2357504/3447769798.py:37: FutureWarning: The frame.append method is deprecated and will be removed from pandas in a future version. Use pandas.concat instead.\n",
      "  intron_coordinates = intron_coordinates.append(new_row, ignore_index=True)\n"
     ]
    },
    {
     "name": "stdout",
     "output_type": "stream",
     "text": [
      "adding 41343922 41343929\n",
      "HERE 41344499 41345079\n",
      "adding 41345648 41346128\n"
     ]
    },
    {
     "name": "stderr",
     "output_type": "stream",
     "text": [
      "/tmp/ipykernel_2357504/3447769798.py:37: FutureWarning: The frame.append method is deprecated and will be removed from pandas in a future version. Use pandas.concat instead.\n",
      "  intron_coordinates = intron_coordinates.append(new_row, ignore_index=True)\n",
      "/tmp/ipykernel_2357504/3447769798.py:37: FutureWarning: The frame.append method is deprecated and will be removed from pandas in a future version. Use pandas.concat instead.\n",
      "  intron_coordinates = intron_coordinates.append(new_row, ignore_index=True)\n"
     ]
    },
    {
     "name": "stdout",
     "output_type": "stream",
     "text": [
      "adding 41346722 41346758\n",
      "adding 41347112 41347211\n"
     ]
    },
    {
     "name": "stderr",
     "output_type": "stream",
     "text": [
      "/tmp/ipykernel_2357504/3447769798.py:37: FutureWarning: The frame.append method is deprecated and will be removed from pandas in a future version. Use pandas.concat instead.\n",
      "  intron_coordinates = intron_coordinates.append(new_row, ignore_index=True)\n",
      "/tmp/ipykernel_2357504/3447769798.py:37: FutureWarning: The frame.append method is deprecated and will be removed from pandas in a future version. Use pandas.concat instead.\n",
      "  intron_coordinates = intron_coordinates.append(new_row, ignore_index=True)\n"
     ]
    },
    {
     "name": "stdout",
     "output_type": "stream",
     "text": [
      "HERE 41347551 41364173\n",
      "HERE 41334397 41337307\n",
      "HERE 41337565 41338935\n",
      "HERE 41339183 41341383\n",
      "HERE 41341716 41342394\n",
      "adding 41342936 41343115\n"
     ]
    },
    {
     "name": "stderr",
     "output_type": "stream",
     "text": [
      "/tmp/ipykernel_2357504/3447769798.py:37: FutureWarning: The frame.append method is deprecated and will be removed from pandas in a future version. Use pandas.concat instead.\n",
      "  intron_coordinates = intron_coordinates.append(new_row, ignore_index=True)\n",
      "/tmp/ipykernel_2357504/3447769798.py:37: FutureWarning: The frame.append method is deprecated and will be removed from pandas in a future version. Use pandas.concat instead.\n",
      "  intron_coordinates = intron_coordinates.append(new_row, ignore_index=True)\n"
     ]
    },
    {
     "name": "stdout",
     "output_type": "stream",
     "text": [
      "adding 41343451 41343636\n",
      "adding 41343922 41343929\n",
      "HERE 41344499 41345079\n"
     ]
    },
    {
     "name": "stderr",
     "output_type": "stream",
     "text": [
      "/tmp/ipykernel_2357504/3447769798.py:37: FutureWarning: The frame.append method is deprecated and will be removed from pandas in a future version. Use pandas.concat instead.\n",
      "  intron_coordinates = intron_coordinates.append(new_row, ignore_index=True)\n",
      "/tmp/ipykernel_2357504/3447769798.py:37: FutureWarning: The frame.append method is deprecated and will be removed from pandas in a future version. Use pandas.concat instead.\n",
      "  intron_coordinates = intron_coordinates.append(new_row, ignore_index=True)\n"
     ]
    },
    {
     "name": "stdout",
     "output_type": "stream",
     "text": [
      "adding 41345648 41346128\n",
      "adding 41346722 41346758\n"
     ]
    },
    {
     "name": "stderr",
     "output_type": "stream",
     "text": [
      "/tmp/ipykernel_2357504/3447769798.py:37: FutureWarning: The frame.append method is deprecated and will be removed from pandas in a future version. Use pandas.concat instead.\n",
      "  intron_coordinates = intron_coordinates.append(new_row, ignore_index=True)\n",
      "/tmp/ipykernel_2357504/3447769798.py:37: FutureWarning: The frame.append method is deprecated and will be removed from pandas in a future version. Use pandas.concat instead.\n",
      "  intron_coordinates = intron_coordinates.append(new_row, ignore_index=True)\n"
     ]
    },
    {
     "name": "stdout",
     "output_type": "stream",
     "text": [
      "adding 41347112 41347211\n",
      "HERE 41334397 41337307\n",
      "HERE 41337565 41338935\n",
      "HERE 41339183 41341383\n",
      "HERE 41341716 41342394\n",
      "adding 41342936 41343115\n"
     ]
    },
    {
     "name": "stderr",
     "output_type": "stream",
     "text": [
      "/tmp/ipykernel_2357504/3447769798.py:37: FutureWarning: The frame.append method is deprecated and will be removed from pandas in a future version. Use pandas.concat instead.\n",
      "  intron_coordinates = intron_coordinates.append(new_row, ignore_index=True)\n",
      "/tmp/ipykernel_2357504/3447769798.py:37: FutureWarning: The frame.append method is deprecated and will be removed from pandas in a future version. Use pandas.concat instead.\n",
      "  intron_coordinates = intron_coordinates.append(new_row, ignore_index=True)\n"
     ]
    },
    {
     "name": "stdout",
     "output_type": "stream",
     "text": [
      "adding 41343451 41343636\n",
      "adding 41343922 41343929\n",
      "HERE 41344499 41345079\n"
     ]
    },
    {
     "name": "stderr",
     "output_type": "stream",
     "text": [
      "/tmp/ipykernel_2357504/3447769798.py:37: FutureWarning: The frame.append method is deprecated and will be removed from pandas in a future version. Use pandas.concat instead.\n",
      "  intron_coordinates = intron_coordinates.append(new_row, ignore_index=True)\n",
      "/tmp/ipykernel_2357504/3447769798.py:37: FutureWarning: The frame.append method is deprecated and will be removed from pandas in a future version. Use pandas.concat instead.\n",
      "  intron_coordinates = intron_coordinates.append(new_row, ignore_index=True)\n"
     ]
    },
    {
     "name": "stdout",
     "output_type": "stream",
     "text": [
      "adding 41345648 41346128\n",
      "adding 41346722 41346758\n"
     ]
    },
    {
     "name": "stderr",
     "output_type": "stream",
     "text": [
      "/tmp/ipykernel_2357504/3447769798.py:37: FutureWarning: The frame.append method is deprecated and will be removed from pandas in a future version. Use pandas.concat instead.\n",
      "  intron_coordinates = intron_coordinates.append(new_row, ignore_index=True)\n",
      "/tmp/ipykernel_2357504/3447769798.py:37: FutureWarning: The frame.append method is deprecated and will be removed from pandas in a future version. Use pandas.concat instead.\n",
      "  intron_coordinates = intron_coordinates.append(new_row, ignore_index=True)\n"
     ]
    },
    {
     "name": "stdout",
     "output_type": "stream",
     "text": [
      "adding 41347112 41347211\n",
      "HERE 41334397 41337307\n",
      "HERE 41337565 41338935\n",
      "HERE 41339183 41341383\n",
      "HERE 41341716 41342394\n",
      "adding 41342936 41343115\n"
     ]
    },
    {
     "name": "stderr",
     "output_type": "stream",
     "text": [
      "/tmp/ipykernel_2357504/3447769798.py:37: FutureWarning: The frame.append method is deprecated and will be removed from pandas in a future version. Use pandas.concat instead.\n",
      "  intron_coordinates = intron_coordinates.append(new_row, ignore_index=True)\n",
      "/tmp/ipykernel_2357504/3447769798.py:37: FutureWarning: The frame.append method is deprecated and will be removed from pandas in a future version. Use pandas.concat instead.\n",
      "  intron_coordinates = intron_coordinates.append(new_row, ignore_index=True)\n"
     ]
    },
    {
     "name": "stdout",
     "output_type": "stream",
     "text": [
      "adding 41343451 41343636\n",
      "adding 41343922 41343929\n",
      "HERE 41344499 41345079\n"
     ]
    },
    {
     "name": "stderr",
     "output_type": "stream",
     "text": [
      "/tmp/ipykernel_2357504/3447769798.py:37: FutureWarning: The frame.append method is deprecated and will be removed from pandas in a future version. Use pandas.concat instead.\n",
      "  intron_coordinates = intron_coordinates.append(new_row, ignore_index=True)\n",
      "/tmp/ipykernel_2357504/3447769798.py:37: FutureWarning: The frame.append method is deprecated and will be removed from pandas in a future version. Use pandas.concat instead.\n",
      "  intron_coordinates = intron_coordinates.append(new_row, ignore_index=True)\n"
     ]
    },
    {
     "name": "stdout",
     "output_type": "stream",
     "text": [
      "adding 41345648 41346128\n",
      "adding 41346722 41346758\n"
     ]
    },
    {
     "name": "stderr",
     "output_type": "stream",
     "text": [
      "/tmp/ipykernel_2357504/3447769798.py:37: FutureWarning: The frame.append method is deprecated and will be removed from pandas in a future version. Use pandas.concat instead.\n",
      "  intron_coordinates = intron_coordinates.append(new_row, ignore_index=True)\n",
      "/tmp/ipykernel_2357504/3447769798.py:37: FutureWarning: The frame.append method is deprecated and will be removed from pandas in a future version. Use pandas.concat instead.\n",
      "  intron_coordinates = intron_coordinates.append(new_row, ignore_index=True)\n"
     ]
    },
    {
     "name": "stdout",
     "output_type": "stream",
     "text": [
      "adding 41347112 41347211\n",
      "HERE 41334397 41337307\n",
      "HERE 41337565 41338935\n",
      "HERE 41339183 41341383\n",
      "HERE 41341716 41342394\n",
      "adding 41342936 41343115\n"
     ]
    },
    {
     "name": "stderr",
     "output_type": "stream",
     "text": [
      "/tmp/ipykernel_2357504/3447769798.py:37: FutureWarning: The frame.append method is deprecated and will be removed from pandas in a future version. Use pandas.concat instead.\n",
      "  intron_coordinates = intron_coordinates.append(new_row, ignore_index=True)\n",
      "/tmp/ipykernel_2357504/3447769798.py:37: FutureWarning: The frame.append method is deprecated and will be removed from pandas in a future version. Use pandas.concat instead.\n",
      "  intron_coordinates = intron_coordinates.append(new_row, ignore_index=True)\n"
     ]
    },
    {
     "name": "stdout",
     "output_type": "stream",
     "text": [
      "adding 41343451 41343636\n",
      "adding 41343922 41343929\n"
     ]
    },
    {
     "name": "stderr",
     "output_type": "stream",
     "text": [
      "/tmp/ipykernel_2357504/3447769798.py:37: FutureWarning: The frame.append method is deprecated and will be removed from pandas in a future version. Use pandas.concat instead.\n",
      "  intron_coordinates = intron_coordinates.append(new_row, ignore_index=True)\n",
      "/tmp/ipykernel_2357504/3447769798.py:37: FutureWarning: The frame.append method is deprecated and will be removed from pandas in a future version. Use pandas.concat instead.\n",
      "  intron_coordinates = intron_coordinates.append(new_row, ignore_index=True)\n"
     ]
    },
    {
     "name": "stdout",
     "output_type": "stream",
     "text": [
      "HERE 41344499 41345079\n",
      "adding 41345648 41346128\n",
      "adding 41346722 41346758\n"
     ]
    },
    {
     "name": "stderr",
     "output_type": "stream",
     "text": [
      "/tmp/ipykernel_2357504/3447769798.py:37: FutureWarning: The frame.append method is deprecated and will be removed from pandas in a future version. Use pandas.concat instead.\n",
      "  intron_coordinates = intron_coordinates.append(new_row, ignore_index=True)\n",
      "/tmp/ipykernel_2357504/3447769798.py:37: FutureWarning: The frame.append method is deprecated and will be removed from pandas in a future version. Use pandas.concat instead.\n",
      "  intron_coordinates = intron_coordinates.append(new_row, ignore_index=True)\n"
     ]
    },
    {
     "name": "stdout",
     "output_type": "stream",
     "text": [
      "adding 41347112 41347211\n",
      "HERE 41347551 41357732\n",
      "HERE 41334397 41337307\n",
      "HERE 41337565 41338935\n",
      "HERE 41339183 41341383\n",
      "HERE 41341716 41342394\n",
      "adding 41342936 41343115\n",
      "adding 41343451 41343636\n"
     ]
    },
    {
     "name": "stderr",
     "output_type": "stream",
     "text": [
      "/tmp/ipykernel_2357504/3447769798.py:37: FutureWarning: The frame.append method is deprecated and will be removed from pandas in a future version. Use pandas.concat instead.\n",
      "  intron_coordinates = intron_coordinates.append(new_row, ignore_index=True)\n",
      "/tmp/ipykernel_2357504/3447769798.py:37: FutureWarning: The frame.append method is deprecated and will be removed from pandas in a future version. Use pandas.concat instead.\n",
      "  intron_coordinates = intron_coordinates.append(new_row, ignore_index=True)\n"
     ]
    },
    {
     "name": "stdout",
     "output_type": "stream",
     "text": [
      "adding 41343922 41343929\n",
      "HERE 41344499 41345079\n",
      "adding 41345648 41346128\n"
     ]
    },
    {
     "name": "stderr",
     "output_type": "stream",
     "text": [
      "/tmp/ipykernel_2357504/3447769798.py:37: FutureWarning: The frame.append method is deprecated and will be removed from pandas in a future version. Use pandas.concat instead.\n",
      "  intron_coordinates = intron_coordinates.append(new_row, ignore_index=True)\n",
      "/tmp/ipykernel_2357504/3447769798.py:37: FutureWarning: The frame.append method is deprecated and will be removed from pandas in a future version. Use pandas.concat instead.\n",
      "  intron_coordinates = intron_coordinates.append(new_row, ignore_index=True)\n"
     ]
    },
    {
     "name": "stdout",
     "output_type": "stream",
     "text": [
      "adding 41346722 41346758\n",
      "adding 41347112 41347211\n"
     ]
    },
    {
     "name": "stderr",
     "output_type": "stream",
     "text": [
      "/tmp/ipykernel_2357504/3447769798.py:37: FutureWarning: The frame.append method is deprecated and will be removed from pandas in a future version. Use pandas.concat instead.\n",
      "  intron_coordinates = intron_coordinates.append(new_row, ignore_index=True)\n",
      "/tmp/ipykernel_2357504/3447769798.py:37: FutureWarning: The frame.append method is deprecated and will be removed from pandas in a future version. Use pandas.concat instead.\n",
      "  intron_coordinates = intron_coordinates.append(new_row, ignore_index=True)\n"
     ]
    },
    {
     "name": "stdout",
     "output_type": "stream",
     "text": [
      "HERE 41347551 41357732\n",
      "adding 41343451 41343636\n"
     ]
    },
    {
     "name": "stderr",
     "output_type": "stream",
     "text": [
      "/tmp/ipykernel_2357504/3447769798.py:37: FutureWarning: The frame.append method is deprecated and will be removed from pandas in a future version. Use pandas.concat instead.\n",
      "  intron_coordinates = intron_coordinates.append(new_row, ignore_index=True)\n",
      "/tmp/ipykernel_2357504/3447769798.py:37: FutureWarning: The frame.append method is deprecated and will be removed from pandas in a future version. Use pandas.concat instead.\n",
      "  intron_coordinates = intron_coordinates.append(new_row, ignore_index=True)\n"
     ]
    },
    {
     "name": "stdout",
     "output_type": "stream",
     "text": [
      "adding 41343922 41343929\n",
      "HERE 41344499 41345079\n",
      "adding 41345648 41346128\n"
     ]
    },
    {
     "name": "stderr",
     "output_type": "stream",
     "text": [
      "/tmp/ipykernel_2357504/3447769798.py:37: FutureWarning: The frame.append method is deprecated and will be removed from pandas in a future version. Use pandas.concat instead.\n",
      "  intron_coordinates = intron_coordinates.append(new_row, ignore_index=True)\n",
      "/tmp/ipykernel_2357504/3447769798.py:37: FutureWarning: The frame.append method is deprecated and will be removed from pandas in a future version. Use pandas.concat instead.\n",
      "  intron_coordinates = intron_coordinates.append(new_row, ignore_index=True)\n"
     ]
    },
    {
     "name": "stdout",
     "output_type": "stream",
     "text": [
      "adding 41346722 41346758\n",
      "adding 41347112 41347211\n"
     ]
    },
    {
     "name": "stderr",
     "output_type": "stream",
     "text": [
      "/tmp/ipykernel_2357504/3447769798.py:37: FutureWarning: The frame.append method is deprecated and will be removed from pandas in a future version. Use pandas.concat instead.\n",
      "  intron_coordinates = intron_coordinates.append(new_row, ignore_index=True)\n",
      "/tmp/ipykernel_2357504/3447769798.py:37: FutureWarning: The frame.append method is deprecated and will be removed from pandas in a future version. Use pandas.concat instead.\n",
      "  intron_coordinates = intron_coordinates.append(new_row, ignore_index=True)\n"
     ]
    },
    {
     "name": "stdout",
     "output_type": "stream",
     "text": [
      "adding 41343451 41343636\n",
      "adding 41343922 41343929\n",
      "HERE 41344499 41345079\n"
     ]
    },
    {
     "name": "stderr",
     "output_type": "stream",
     "text": [
      "/tmp/ipykernel_2357504/3447769798.py:37: FutureWarning: The frame.append method is deprecated and will be removed from pandas in a future version. Use pandas.concat instead.\n",
      "  intron_coordinates = intron_coordinates.append(new_row, ignore_index=True)\n",
      "/tmp/ipykernel_2357504/3447769798.py:37: FutureWarning: The frame.append method is deprecated and will be removed from pandas in a future version. Use pandas.concat instead.\n",
      "  intron_coordinates = intron_coordinates.append(new_row, ignore_index=True)\n"
     ]
    },
    {
     "name": "stdout",
     "output_type": "stream",
     "text": [
      "adding 41345648 41346128\n",
      "adding 41346722 41346758\n"
     ]
    },
    {
     "name": "stderr",
     "output_type": "stream",
     "text": [
      "/tmp/ipykernel_2357504/3447769798.py:37: FutureWarning: The frame.append method is deprecated and will be removed from pandas in a future version. Use pandas.concat instead.\n",
      "  intron_coordinates = intron_coordinates.append(new_row, ignore_index=True)\n",
      "/tmp/ipykernel_2357504/3447769798.py:37: FutureWarning: The frame.append method is deprecated and will be removed from pandas in a future version. Use pandas.concat instead.\n",
      "  intron_coordinates = intron_coordinates.append(new_row, ignore_index=True)\n"
     ]
    },
    {
     "name": "stdout",
     "output_type": "stream",
     "text": [
      "adding 41347112 41347211\n",
      "HERE 41334397 41337307\n",
      "HERE 41337565 41338935\n",
      "HERE 41339183 41341383\n",
      "HERE 41341716 41342394\n",
      "HERE 41334397 41337307\n",
      "adding 41337565 41337590\n",
      "HERE 41334397 41337307\n",
      "HERE 41337565 41338935\n",
      "HERE 41339183 41341383\n",
      "HERE 41341716 41342394\n",
      "HERE 41342936 41343636\n"
     ]
    },
    {
     "name": "stderr",
     "output_type": "stream",
     "text": [
      "/tmp/ipykernel_2357504/3447769798.py:37: FutureWarning: The frame.append method is deprecated and will be removed from pandas in a future version. Use pandas.concat instead.\n",
      "  intron_coordinates = intron_coordinates.append(new_row, ignore_index=True)\n"
     ]
    },
    {
     "name": "stdout",
     "output_type": "stream",
     "text": [
      "adding 41336259 41337307\n",
      "HERE 41337565 41338935\n",
      "HERE 41339183 41341383\n",
      "HERE 41341716 41342394\n",
      "adding 41342936 41343115\n"
     ]
    },
    {
     "name": "stderr",
     "output_type": "stream",
     "text": [
      "/tmp/ipykernel_2357504/3447769798.py:37: FutureWarning: The frame.append method is deprecated and will be removed from pandas in a future version. Use pandas.concat instead.\n",
      "  intron_coordinates = intron_coordinates.append(new_row, ignore_index=True)\n",
      "/tmp/ipykernel_2357504/3447769798.py:37: FutureWarning: The frame.append method is deprecated and will be removed from pandas in a future version. Use pandas.concat instead.\n",
      "  intron_coordinates = intron_coordinates.append(new_row, ignore_index=True)\n"
     ]
    },
    {
     "name": "stdout",
     "output_type": "stream",
     "text": [
      "adding 41343451 41343636\n",
      "adding 41343922 41343929\n",
      "HERE 41344499 41345079\n"
     ]
    },
    {
     "name": "stderr",
     "output_type": "stream",
     "text": [
      "/tmp/ipykernel_2357504/3447769798.py:37: FutureWarning: The frame.append method is deprecated and will be removed from pandas in a future version. Use pandas.concat instead.\n",
      "  intron_coordinates = intron_coordinates.append(new_row, ignore_index=True)\n",
      "/tmp/ipykernel_2357504/3447769798.py:37: FutureWarning: The frame.append method is deprecated and will be removed from pandas in a future version. Use pandas.concat instead.\n",
      "  intron_coordinates = intron_coordinates.append(new_row, ignore_index=True)\n"
     ]
    },
    {
     "name": "stdout",
     "output_type": "stream",
     "text": [
      "adding 41345648 41346128\n",
      "adding 41346722 41346758\n"
     ]
    },
    {
     "name": "stderr",
     "output_type": "stream",
     "text": [
      "/tmp/ipykernel_2357504/3447769798.py:37: FutureWarning: The frame.append method is deprecated and will be removed from pandas in a future version. Use pandas.concat instead.\n",
      "  intron_coordinates = intron_coordinates.append(new_row, ignore_index=True)\n",
      "/tmp/ipykernel_2357504/3447769798.py:37: FutureWarning: The frame.append method is deprecated and will be removed from pandas in a future version. Use pandas.concat instead.\n",
      "  intron_coordinates = intron_coordinates.append(new_row, ignore_index=True)\n"
     ]
    },
    {
     "name": "stdout",
     "output_type": "stream",
     "text": [
      "adding 41347112 41347214\n",
      "HERE 41334397 41337307\n",
      "HERE 41337565 41338938\n",
      "HERE 41339183 41341383\n",
      "HERE 41341716 41342394\n",
      "adding 41342936 41343115\n"
     ]
    },
    {
     "name": "stderr",
     "output_type": "stream",
     "text": [
      "/tmp/ipykernel_2357504/3447769798.py:37: FutureWarning: The frame.append method is deprecated and will be removed from pandas in a future version. Use pandas.concat instead.\n",
      "  intron_coordinates = intron_coordinates.append(new_row, ignore_index=True)\n",
      "/tmp/ipykernel_2357504/3447769798.py:37: FutureWarning: The frame.append method is deprecated and will be removed from pandas in a future version. Use pandas.concat instead.\n",
      "  intron_coordinates = intron_coordinates.append(new_row, ignore_index=True)\n"
     ]
    },
    {
     "name": "stdout",
     "output_type": "stream",
     "text": [
      "adding 41343451 41343636\n",
      "adding 41343922 41343929\n",
      "HERE 41344499 41345079\n"
     ]
    },
    {
     "name": "stderr",
     "output_type": "stream",
     "text": [
      "/tmp/ipykernel_2357504/3447769798.py:37: FutureWarning: The frame.append method is deprecated and will be removed from pandas in a future version. Use pandas.concat instead.\n",
      "  intron_coordinates = intron_coordinates.append(new_row, ignore_index=True)\n",
      "/tmp/ipykernel_2357504/3447769798.py:37: FutureWarning: The frame.append method is deprecated and will be removed from pandas in a future version. Use pandas.concat instead.\n",
      "  intron_coordinates = intron_coordinates.append(new_row, ignore_index=True)\n"
     ]
    },
    {
     "name": "stdout",
     "output_type": "stream",
     "text": [
      "adding 41345648 41346128\n",
      "adding 41346722 41346758\n"
     ]
    },
    {
     "name": "stderr",
     "output_type": "stream",
     "text": [
      "/tmp/ipykernel_2357504/3447769798.py:37: FutureWarning: The frame.append method is deprecated and will be removed from pandas in a future version. Use pandas.concat instead.\n",
      "  intron_coordinates = intron_coordinates.append(new_row, ignore_index=True)\n",
      "/tmp/ipykernel_2357504/3447769798.py:37: FutureWarning: The frame.append method is deprecated and will be removed from pandas in a future version. Use pandas.concat instead.\n",
      "  intron_coordinates = intron_coordinates.append(new_row, ignore_index=True)\n"
     ]
    },
    {
     "name": "stdout",
     "output_type": "stream",
     "text": [
      "adding 41347112 41347214\n",
      "HERE 41334397 41337307\n",
      "HERE 41337565 41338938\n",
      "HERE 41339183 41341383\n",
      "HERE 41341716 41342394\n",
      "adding 41342936 41343115\n"
     ]
    },
    {
     "name": "stderr",
     "output_type": "stream",
     "text": [
      "/tmp/ipykernel_2357504/3447769798.py:37: FutureWarning: The frame.append method is deprecated and will be removed from pandas in a future version. Use pandas.concat instead.\n",
      "  intron_coordinates = intron_coordinates.append(new_row, ignore_index=True)\n",
      "/tmp/ipykernel_2357504/3447769798.py:37: FutureWarning: The frame.append method is deprecated and will be removed from pandas in a future version. Use pandas.concat instead.\n",
      "  intron_coordinates = intron_coordinates.append(new_row, ignore_index=True)\n"
     ]
    },
    {
     "name": "stdout",
     "output_type": "stream",
     "text": [
      "adding 41343451 41343636\n",
      "adding 41343922 41343929\n"
     ]
    },
    {
     "name": "stderr",
     "output_type": "stream",
     "text": [
      "/tmp/ipykernel_2357504/3447769798.py:37: FutureWarning: The frame.append method is deprecated and will be removed from pandas in a future version. Use pandas.concat instead.\n",
      "  intron_coordinates = intron_coordinates.append(new_row, ignore_index=True)\n",
      "/tmp/ipykernel_2357504/3447769798.py:37: FutureWarning: The frame.append method is deprecated and will be removed from pandas in a future version. Use pandas.concat instead.\n",
      "  intron_coordinates = intron_coordinates.append(new_row, ignore_index=True)\n"
     ]
    },
    {
     "name": "stdout",
     "output_type": "stream",
     "text": [
      "adding 41344664 41345079\n",
      "adding 41345648 41346128\n"
     ]
    },
    {
     "name": "stderr",
     "output_type": "stream",
     "text": [
      "/tmp/ipykernel_2357504/3447769798.py:37: FutureWarning: The frame.append method is deprecated and will be removed from pandas in a future version. Use pandas.concat instead.\n",
      "  intron_coordinates = intron_coordinates.append(new_row, ignore_index=True)\n",
      "/tmp/ipykernel_2357504/3447769798.py:37: FutureWarning: The frame.append method is deprecated and will be removed from pandas in a future version. Use pandas.concat instead.\n",
      "  intron_coordinates = intron_coordinates.append(new_row, ignore_index=True)\n"
     ]
    },
    {
     "name": "stdout",
     "output_type": "stream",
     "text": [
      "adding 41346722 41346758\n",
      "adding 41347112 41347211\n",
      "HERE 41334397 41337307\n",
      "HERE 41337565 41338935\n",
      "HERE 41339183 41341383\n"
     ]
    },
    {
     "name": "stderr",
     "output_type": "stream",
     "text": [
      "/tmp/ipykernel_2357504/3447769798.py:37: FutureWarning: The frame.append method is deprecated and will be removed from pandas in a future version. Use pandas.concat instead.\n",
      "  intron_coordinates = intron_coordinates.append(new_row, ignore_index=True)\n",
      "/tmp/ipykernel_2357504/3447769798.py:37: FutureWarning: The frame.append method is deprecated and will be removed from pandas in a future version. Use pandas.concat instead.\n",
      "  intron_coordinates = intron_coordinates.append(new_row, ignore_index=True)\n"
     ]
    },
    {
     "name": "stdout",
     "output_type": "stream",
     "text": [
      "HERE 41341716 41342394\n",
      "adding 41342936 41343115\n",
      "adding"
     ]
    },
    {
     "name": "stderr",
     "output_type": "stream",
     "text": [
      "/tmp/ipykernel_2357504/3447769798.py:37: FutureWarning: The frame.append method is deprecated and will be removed from pandas in a future version. Use pandas.concat instead.\n",
      "  intron_coordinates = intron_coordinates.append(new_row, ignore_index=True)\n",
      "/tmp/ipykernel_2357504/3447769798.py:37: FutureWarning: The frame.append method is deprecated and will be removed from pandas in a future version. Use pandas.concat instead.\n",
      "  intron_coordinates = intron_coordinates.append(new_row, ignore_index=True)\n"
     ]
    },
    {
     "name": "stdout",
     "output_type": "stream",
     "text": [
      " 41343451 41343636\n",
      "adding 41343922 41343929\n",
      "HERE 41344499 41345079\n"
     ]
    },
    {
     "name": "stderr",
     "output_type": "stream",
     "text": [
      "/tmp/ipykernel_2357504/3447769798.py:37: FutureWarning: The frame.append method is deprecated and will be removed from pandas in a future version. Use pandas.concat instead.\n",
      "  intron_coordinates = intron_coordinates.append(new_row, ignore_index=True)\n",
      "/tmp/ipykernel_2357504/3447769798.py:37: FutureWarning: The frame.append method is deprecated and will be removed from pandas in a future version. Use pandas.concat instead.\n",
      "  intron_coordinates = intron_coordinates.append(new_row, ignore_index=True)\n"
     ]
    },
    {
     "name": "stdout",
     "output_type": "stream",
     "text": [
      "adding 41345648 41346128\n",
      "adding 41346722 41346758\n"
     ]
    },
    {
     "name": "stderr",
     "output_type": "stream",
     "text": [
      "/tmp/ipykernel_2357504/3447769798.py:37: FutureWarning: The frame.append method is deprecated and will be removed from pandas in a future version. Use pandas.concat instead.\n",
      "  intron_coordinates = intron_coordinates.append(new_row, ignore_index=True)\n",
      "/tmp/ipykernel_2357504/3447769798.py:37: FutureWarning: The frame.append method is deprecated and will be removed from pandas in a future version. Use pandas.concat instead.\n",
      "  intron_coordinates = intron_coordinates.append(new_row, ignore_index=True)\n"
     ]
    },
    {
     "name": "stdout",
     "output_type": "stream",
     "text": [
      "adding 41347112 41347214\n",
      "adding 41340914 41341383\n",
      "HERE 41341716 41342394\n"
     ]
    },
    {
     "name": "stderr",
     "output_type": "stream",
     "text": [
      "/tmp/ipykernel_2357504/3447769798.py:37: FutureWarning: The frame.append method is deprecated and will be removed from pandas in a future version. Use pandas.concat instead.\n",
      "  intron_coordinates = intron_coordinates.append(new_row, ignore_index=True)\n",
      "/tmp/ipykernel_2357504/3447769798.py:37: FutureWarning: The frame.append method is deprecated and will be removed from pandas in a future version. Use pandas.concat instead.\n",
      "  intron_coordinates = intron_coordinates.append(new_row, ignore_index=True)\n"
     ]
    },
    {
     "name": "stdout",
     "output_type": "stream",
     "text": [
      "adding 41342936 41343115\n",
      "adding 41343451 41343636\n"
     ]
    },
    {
     "name": "stderr",
     "output_type": "stream",
     "text": [
      "/tmp/ipykernel_2357504/3447769798.py:37: FutureWarning: The frame.append method is deprecated and will be removed from pandas in a future version. Use pandas.concat instead.\n",
      "  intron_coordinates = intron_coordinates.append(new_row, ignore_index=True)\n",
      "/tmp/ipykernel_2357504/3447769798.py:37: FutureWarning: The frame.append method is deprecated and will be removed from pandas in a future version. Use pandas.concat instead.\n",
      "  intron_coordinates = intron_coordinates.append(new_row, ignore_index=True)\n"
     ]
    },
    {
     "name": "stdout",
     "output_type": "stream",
     "text": [
      "adding 41343922 41343929\n",
      "HERE 41344499 41345079\n",
      "adding 41345648 41346128\n"
     ]
    },
    {
     "name": "stderr",
     "output_type": "stream",
     "text": [
      "/tmp/ipykernel_2357504/3447769798.py:37: FutureWarning: The frame.append method is deprecated and will be removed from pandas in a future version. Use pandas.concat instead.\n",
      "  intron_coordinates = intron_coordinates.append(new_row, ignore_index=True)\n",
      "/tmp/ipykernel_2357504/3447769798.py:37: FutureWarning: The frame.append method is deprecated and will be removed from pandas in a future version. Use pandas.concat instead.\n",
      "  intron_coordinates = intron_coordinates.append(new_row, ignore_index=True)\n"
     ]
    },
    {
     "name": "stdout",
     "output_type": "stream",
     "text": [
      "adding 41346722 41346758\n",
      "adding 41347112 41347214\n",
      "HERE 41334397 41337307\n",
      "HERE 41337565 41338935\n",
      "HERE 41339183 41341383\n"
     ]
    },
    {
     "name": "stderr",
     "output_type": "stream",
     "text": [
      "/tmp/ipykernel_2357504/3447769798.py:37: FutureWarning: The frame.append method is deprecated and will be removed from pandas in a future version. Use pandas.concat instead.\n",
      "  intron_coordinates = intron_coordinates.append(new_row, ignore_index=True)\n",
      "/tmp/ipykernel_2357504/3447769798.py:37: FutureWarning: The frame.append method is deprecated and will be removed from pandas in a future version. Use pandas.concat instead.\n",
      "  intron_coordinates = intron_coordinates.append(new_row, ignore_index=True)\n"
     ]
    },
    {
     "name": "stdout",
     "output_type": "stream",
     "text": [
      "HERE 41341716 41342394\n",
      "adding 41342936 41343115\n",
      "adding 41343451 41343636\n"
     ]
    },
    {
     "name": "stderr",
     "output_type": "stream",
     "text": [
      "/tmp/ipykernel_2357504/3447769798.py:37: FutureWarning: The frame.append method is deprecated and will be removed from pandas in a future version. Use pandas.concat instead.\n",
      "  intron_coordinates = intron_coordinates.append(new_row, ignore_index=True)\n",
      "/tmp/ipykernel_2357504/3447769798.py:37: FutureWarning: The frame.append method is deprecated and will be removed from pandas in a future version. Use pandas.concat instead.\n",
      "  intron_coordinates = intron_coordinates.append(new_row, ignore_index=True)\n"
     ]
    },
    {
     "name": "stdout",
     "output_type": "stream",
     "text": [
      "adding 41343922 41343929\n",
      "HERE 41344499 41345079\n",
      "adding 41345648 41346128\n"
     ]
    },
    {
     "name": "stderr",
     "output_type": "stream",
     "text": [
      "/tmp/ipykernel_2357504/3447769798.py:37: FutureWarning: The frame.append method is deprecated and will be removed from pandas in a future version. Use pandas.concat instead.\n",
      "  intron_coordinates = intron_coordinates.append(new_row, ignore_index=True)\n",
      "/tmp/ipykernel_2357504/3447769798.py:37: FutureWarning: The frame.append method is deprecated and will be removed from pandas in a future version. Use pandas.concat instead.\n",
      "  intron_coordinates = intron_coordinates.append(new_row, ignore_index=True)\n"
     ]
    },
    {
     "name": "stdout",
     "output_type": "stream",
     "text": [
      "adding 41346722 41346758\n",
      "adding 41347112 41347211\n",
      "HERE 41334397 41337307\n"
     ]
    },
    {
     "name": "stderr",
     "output_type": "stream",
     "text": [
      "/tmp/ipykernel_2357504/3447769798.py:37: FutureWarning: The frame.append method is deprecated and will be removed from pandas in a future version. Use pandas.concat instead.\n",
      "  intron_coordinates = intron_coordinates.append(new_row, ignore_index=True)\n",
      "/tmp/ipykernel_2357504/3447769798.py:37: FutureWarning: The frame.append method is deprecated and will be removed from pandas in a future version. Use pandas.concat instead.\n",
      "  intron_coordinates = intron_coordinates.append(new_row, ignore_index=True)\n"
     ]
    },
    {
     "name": "stdout",
     "output_type": "stream",
     "text": [
      "adding 41337565 41337590\n",
      "HERE 41334397 41337307\n",
      "HERE 41337565 41338935\n",
      "HERE 41339183 41341383\n",
      "HERE 41341716 41342394\n",
      "adding 41342936 41343115\n"
     ]
    },
    {
     "name": "stderr",
     "output_type": "stream",
     "text": [
      "/tmp/ipykernel_2357504/3447769798.py:37: FutureWarning: The frame.append method is deprecated and will be removed from pandas in a future version. Use pandas.concat instead.\n",
      "  intron_coordinates = intron_coordinates.append(new_row, ignore_index=True)\n",
      "/tmp/ipykernel_2357504/3447769798.py:37: FutureWarning: The frame.append method is deprecated and will be removed from pandas in a future version. Use pandas.concat instead.\n",
      "  intron_coordinates = intron_coordinates.append(new_row, ignore_index=True)\n"
     ]
    },
    {
     "name": "stdout",
     "output_type": "stream",
     "text": [
      "adding 41343451 41343636\n",
      "adding 41343922 41343929\n"
     ]
    },
    {
     "name": "stderr",
     "output_type": "stream",
     "text": [
      "/tmp/ipykernel_2357504/3447769798.py:37: FutureWarning: The frame.append method is deprecated and will be removed from pandas in a future version. Use pandas.concat instead.\n",
      "  intron_coordinates = intron_coordinates.append(new_row, ignore_index=True)\n",
      "/tmp/ipykernel_2357504/3447769798.py:37: FutureWarning: The frame.append method is deprecated and will be removed from pandas in a future version. Use pandas.concat instead.\n",
      "  intron_coordinates = intron_coordinates.append(new_row, ignore_index=True)\n"
     ]
    },
    {
     "name": "stdout",
     "output_type": "stream",
     "text": [
      "HERE 41344499 41345079\n",
      "adding 41345648 41346128\n",
      "HERE 41334397 41337307\n",
      "adding 41337565 41337590\n",
      "adding 41340914 41341383\n",
      "HERE 41341716 41342394\n"
     ]
    },
    {
     "name": "stderr",
     "output_type": "stream",
     "text": [
      "/tmp/ipykernel_2357504/3447769798.py:37: FutureWarning: The frame.append method is deprecated and will be removed from pandas in a future version. Use pandas.concat instead.\n",
      "  intron_coordinates = intron_coordinates.append(new_row, ignore_index=True)\n",
      "/tmp/ipykernel_2357504/3447769798.py:37: FutureWarning: The frame.append method is deprecated and will be removed from pandas in a future version. Use pandas.concat instead.\n",
      "  intron_coordinates = intron_coordinates.append(new_row, ignore_index=True)\n"
     ]
    },
    {
     "name": "stdout",
     "output_type": "stream",
     "text": [
      "adding 41342936 41343115\n",
      "adding 41343451 41343636\n"
     ]
    },
    {
     "name": "stderr",
     "output_type": "stream",
     "text": [
      "/tmp/ipykernel_2357504/3447769798.py:37: FutureWarning: The frame.append method is deprecated and will be removed from pandas in a future version. Use pandas.concat instead.\n",
      "  intron_coordinates = intron_coordinates.append(new_row, ignore_index=True)\n",
      "/tmp/ipykernel_2357504/3447769798.py:37: FutureWarning: The frame.append method is deprecated and will be removed from pandas in a future version. Use pandas.concat instead.\n",
      "  intron_coordinates = intron_coordinates.append(new_row, ignore_index=True)\n"
     ]
    },
    {
     "name": "stdout",
     "output_type": "stream",
     "text": [
      "adding 41343922 41343929\n",
      "HERE 41344499 41345079\n",
      "adding 41345648 41346128\n"
     ]
    },
    {
     "name": "stderr",
     "output_type": "stream",
     "text": [
      "/tmp/ipykernel_2357504/3447769798.py:37: FutureWarning: The frame.append method is deprecated and will be removed from pandas in a future version. Use pandas.concat instead.\n",
      "  intron_coordinates = intron_coordinates.append(new_row, ignore_index=True)\n",
      "/tmp/ipykernel_2357504/3447769798.py:37: FutureWarning: The frame.append method is deprecated and will be removed from pandas in a future version. Use pandas.concat instead.\n",
      "  intron_coordinates = intron_coordinates.append(new_row, ignore_index=True)\n"
     ]
    },
    {
     "name": "stdout",
     "output_type": "stream",
     "text": [
      "adding 41346722 41346758\n",
      "adding 41347112 41347214\n",
      "HERE 41334397 41337307\n",
      "HERE 41337565 41338935\n",
      "HERE 41339183 41341383\n"
     ]
    },
    {
     "name": "stderr",
     "output_type": "stream",
     "text": [
      "/tmp/ipykernel_2357504/3447769798.py:37: FutureWarning: The frame.append method is deprecated and will be removed from pandas in a future version. Use pandas.concat instead.\n",
      "  intron_coordinates = intron_coordinates.append(new_row, ignore_index=True)\n",
      "/tmp/ipykernel_2357504/3447769798.py:37: FutureWarning: The frame.append method is deprecated and will be removed from pandas in a future version. Use pandas.concat instead.\n",
      "  intron_coordinates = intron_coordinates.append(new_row, ignore_index=True)\n"
     ]
    },
    {
     "name": "stdout",
     "output_type": "stream",
     "text": [
      "HERE 41341716 41342394\n",
      "adding 41342936 41343115\n",
      "adding 41343451 41343636\n"
     ]
    },
    {
     "name": "stderr",
     "output_type": "stream",
     "text": [
      "/tmp/ipykernel_2357504/3447769798.py:37: FutureWarning: The frame.append method is deprecated and will be removed from pandas in a future version. Use pandas.concat instead.\n",
      "  intron_coordinates = intron_coordinates.append(new_row, ignore_index=True)\n",
      "/tmp/ipykernel_2357504/3447769798.py:37: FutureWarning: The frame.append method is deprecated and will be removed from pandas in a future version. Use pandas.concat instead.\n",
      "  intron_coordinates = intron_coordinates.append(new_row, ignore_index=True)\n"
     ]
    },
    {
     "name": "stdout",
     "output_type": "stream",
     "text": [
      "adding 41343922 41343929\n",
      "HERE 41344499 41345079\n",
      "adding 41345648 41346128\n"
     ]
    },
    {
     "name": "stderr",
     "output_type": "stream",
     "text": [
      "/tmp/ipykernel_2357504/3447769798.py:37: FutureWarning: The frame.append method is deprecated and will be removed from pandas in a future version. Use pandas.concat instead.\n",
      "  intron_coordinates = intron_coordinates.append(new_row, ignore_index=True)\n",
      "/tmp/ipykernel_2357504/3447769798.py:37: FutureWarning: The frame.append method is deprecated and will be removed from pandas in a future version. Use pandas.concat instead.\n",
      "  intron_coordinates = intron_coordinates.append(new_row, ignore_index=True)\n"
     ]
    },
    {
     "name": "stdout",
     "output_type": "stream",
     "text": [
      "adding 41346722 41346758\n",
      "adding 41347112 41347211\n",
      "HERE 41334397 41337307\n",
      "HERE 41337565 41338935\n"
     ]
    },
    {
     "name": "stderr",
     "output_type": "stream",
     "text": [
      "/tmp/ipykernel_2357504/3447769798.py:37: FutureWarning: The frame.append method is deprecated and will be removed from pandas in a future version. Use pandas.concat instead.\n",
      "  intron_coordinates = intron_coordinates.append(new_row, ignore_index=True)\n",
      "/tmp/ipykernel_2357504/3447769798.py:37: FutureWarning: The frame.append method is deprecated and will be removed from pandas in a future version. Use pandas.concat instead.\n",
      "  intron_coordinates = intron_coordinates.append(new_row, ignore_index=True)\n"
     ]
    },
    {
     "name": "stdout",
     "output_type": "stream",
     "text": [
      "adding 41339183 41340535\n",
      "HERE 41334397 41337307\n",
      "HERE 41337565 41338935\n",
      "HERE 41339183 41341383\n",
      "HERE 41341716 41342394\n",
      "adding 41342936 41343115\n"
     ]
    },
    {
     "name": "stderr",
     "output_type": "stream",
     "text": [
      "/tmp/ipykernel_2357504/3447769798.py:37: FutureWarning: The frame.append method is deprecated and will be removed from pandas in a future version. Use pandas.concat instead.\n",
      "  intron_coordinates = intron_coordinates.append(new_row, ignore_index=True)\n",
      "/tmp/ipykernel_2357504/3447769798.py:37: FutureWarning: The frame.append method is deprecated and will be removed from pandas in a future version. Use pandas.concat instead.\n",
      "  intron_coordinates = intron_coordinates.append(new_row, ignore_index=True)\n"
     ]
    },
    {
     "name": "stdout",
     "output_type": "stream",
     "text": [
      "adding 41343451 41343636\n",
      "adding 41343922 41343929\n",
      "HERE 41344499 41345079\n"
     ]
    },
    {
     "name": "stderr",
     "output_type": "stream",
     "text": [
      "/tmp/ipykernel_2357504/3447769798.py:37: FutureWarning: The frame.append method is deprecated and will be removed from pandas in a future version. Use pandas.concat instead.\n",
      "  intron_coordinates = intron_coordinates.append(new_row, ignore_index=True)\n",
      "/tmp/ipykernel_2357504/3447769798.py:37: FutureWarning: The frame.append method is deprecated and will be removed from pandas in a future version. Use pandas.concat instead.\n",
      "  intron_coordinates = intron_coordinates.append(new_row, ignore_index=True)\n"
     ]
    },
    {
     "name": "stdout",
     "output_type": "stream",
     "text": [
      "adding 41345648 41346128\n",
      "adding 41346722 41346758\n"
     ]
    },
    {
     "name": "stderr",
     "output_type": "stream",
     "text": [
      "/tmp/ipykernel_2357504/3447769798.py:37: FutureWarning: The frame.append method is deprecated and will be removed from pandas in a future version. Use pandas.concat instead.\n",
      "  intron_coordinates = intron_coordinates.append(new_row, ignore_index=True)\n",
      "/tmp/ipykernel_2357504/3447769798.py:37: FutureWarning: The frame.append method is deprecated and will be removed from pandas in a future version. Use pandas.concat instead.\n",
      "  intron_coordinates = intron_coordinates.append(new_row, ignore_index=True)\n"
     ]
    },
    {
     "name": "stdout",
     "output_type": "stream",
     "text": [
      "adding 41347112 41347214\n",
      "adding 41343451 41343636\n"
     ]
    },
    {
     "name": "stderr",
     "output_type": "stream",
     "text": [
      "/tmp/ipykernel_2357504/3447769798.py:37: FutureWarning: The frame.append method is deprecated and will be removed from pandas in a future version. Use pandas.concat instead.\n",
      "  intron_coordinates = intron_coordinates.append(new_row, ignore_index=True)\n",
      "/tmp/ipykernel_2357504/3447769798.py:37: FutureWarning: The frame.append method is deprecated and will be removed from pandas in a future version. Use pandas.concat instead.\n",
      "  intron_coordinates = intron_coordinates.append(new_row, ignore_index=True)\n"
     ]
    },
    {
     "name": "stdout",
     "output_type": "stream",
     "text": [
      "adding 41343922 41343929\n",
      "HERE 41344499 41345079\n",
      "adding 41345648 41346128\n"
     ]
    },
    {
     "name": "stderr",
     "output_type": "stream",
     "text": [
      "/tmp/ipykernel_2357504/3447769798.py:37: FutureWarning: The frame.append method is deprecated and will be removed from pandas in a future version. Use pandas.concat instead.\n",
      "  intron_coordinates = intron_coordinates.append(new_row, ignore_index=True)\n",
      "/tmp/ipykernel_2357504/3447769798.py:37: FutureWarning: The frame.append method is deprecated and will be removed from pandas in a future version. Use pandas.concat instead.\n",
      "  intron_coordinates = intron_coordinates.append(new_row, ignore_index=True)\n"
     ]
    },
    {
     "name": "stdout",
     "output_type": "stream",
     "text": [
      "adding 41346722 41346758\n",
      "adding 41347112 41347211\n"
     ]
    },
    {
     "name": "stderr",
     "output_type": "stream",
     "text": [
      "/tmp/ipykernel_2357504/3447769798.py:37: FutureWarning: The frame.append method is deprecated and will be removed from pandas in a future version. Use pandas.concat instead.\n",
      "  intron_coordinates = intron_coordinates.append(new_row, ignore_index=True)\n",
      "/tmp/ipykernel_2357504/3447769798.py:37: FutureWarning: The frame.append method is deprecated and will be removed from pandas in a future version. Use pandas.concat instead.\n",
      "  intron_coordinates = intron_coordinates.append(new_row, ignore_index=True)\n"
     ]
    },
    {
     "name": "stdout",
     "output_type": "stream",
     "text": [
      "adding 41343451 41343636\n",
      "adding 41343922 41343929\n",
      "HERE 41344499 41345079\n"
     ]
    },
    {
     "name": "stderr",
     "output_type": "stream",
     "text": [
      "/tmp/ipykernel_2357504/3447769798.py:37: FutureWarning: The frame.append method is deprecated and will be removed from pandas in a future version. Use pandas.concat instead.\n",
      "  intron_coordinates = intron_coordinates.append(new_row, ignore_index=True)\n",
      "/tmp/ipykernel_2357504/3447769798.py:37: FutureWarning: The frame.append method is deprecated and will be removed from pandas in a future version. Use pandas.concat instead.\n",
      "  intron_coordinates = intron_coordinates.append(new_row, ignore_index=True)\n"
     ]
    },
    {
     "name": "stdout",
     "output_type": "stream",
     "text": [
      "adding 41345648 41346128\n",
      "adding 41346722 41346758\n"
     ]
    },
    {
     "name": "stderr",
     "output_type": "stream",
     "text": [
      "/tmp/ipykernel_2357504/3447769798.py:37: FutureWarning: The frame.append method is deprecated and will be removed from pandas in a future version. Use pandas.concat instead.\n",
      "  intron_coordinates = intron_coordinates.append(new_row, ignore_index=True)\n",
      "/tmp/ipykernel_2357504/3447769798.py:37: FutureWarning: The frame.append method is deprecated and will be removed from pandas in a future version. Use pandas.concat instead.\n",
      "  intron_coordinates = intron_coordinates.append(new_row, ignore_index=True)\n"
     ]
    },
    {
     "name": "stdout",
     "output_type": "stream",
     "text": [
      "adding 41347112 41347214\n",
      "adding 41342936 41343188\n",
      "<pandas.core.groupby.generic.DataFrameGroupBy object at 0x7f18f5066d30>\n",
      "adding 12709643 12720488\n",
      "adding 12720837 12722007\n"
     ]
    },
    {
     "name": "stderr",
     "output_type": "stream",
     "text": [
      "/tmp/ipykernel_2357504/3447769798.py:37: FutureWarning: The frame.append method is deprecated and will be removed from pandas in a future version. Use pandas.concat instead.\n",
      "  intron_coordinates = intron_coordinates.append(new_row, ignore_index=True)\n",
      "/tmp/ipykernel_2357504/3447769798.py:37: FutureWarning: The frame.append method is deprecated and will be removed from pandas in a future version. Use pandas.concat instead.\n",
      "  intron_coordinates = intron_coordinates.append(new_row, ignore_index=True)\n",
      "/tmp/ipykernel_2357504/3447769798.py:37: FutureWarning: The frame.append method is deprecated and will be removed from pandas in a future version. Use pandas.concat instead.\n",
      "  intron_coordinates = intron_coordinates.append(new_row, ignore_index=True)\n",
      "/tmp/ipykernel_2357504/3447769798.py:37: FutureWarning: The frame.append method is deprecated and will be removed from pandas in a future version. Use pandas.concat instead.\n",
      "  intron_coordinates = intron_coordinates.append(new_row, ignore_index=True)\n"
     ]
    },
    {
     "name": "stdout",
     "output_type": "stream",
     "text": [
      "adding 12722287 12725012\n",
      "adding 12725325 12726474\n",
      "adding 12726893 12735511\n",
      "adding 12735827 12735897\n",
      "adding 12736649 12738056\n",
      "adding 12738409 12739424\n",
      "adding 12739729 12757091\n"
     ]
    },
    {
     "name": "stderr",
     "output_type": "stream",
     "text": [
      "/tmp/ipykernel_2357504/3447769798.py:37: FutureWarning: The frame.append method is deprecated and will be removed from pandas in a future version. Use pandas.concat instead.\n",
      "  intron_coordinates = intron_coordinates.append(new_row, ignore_index=True)\n",
      "/tmp/ipykernel_2357504/3447769798.py:37: FutureWarning: The frame.append method is deprecated and will be removed from pandas in a future version. Use pandas.concat instead.\n",
      "  intron_coordinates = intron_coordinates.append(new_row, ignore_index=True)\n",
      "/tmp/ipykernel_2357504/3447769798.py:37: FutureWarning: The frame.append method is deprecated and will be removed from pandas in a future version. Use pandas.concat instead.\n",
      "  intron_coordinates = intron_coordinates.append(new_row, ignore_index=True)\n",
      "/tmp/ipykernel_2357504/3447769798.py:37: FutureWarning: The frame.append method is deprecated and will be removed from pandas in a future version. Use pandas.concat instead.\n",
      "  intron_coordinates = intron_coordinates.append(new_row, ignore_index=True)\n",
      "/tmp/ipykernel_2357504/3447769798.py:37: FutureWarning: The frame.append method is deprecated and will be removed from pandas in a future version. Use pandas.concat instead.\n",
      "  intron_coordinates = intron_coordinates.append(new_row, ignore_index=True)\n",
      "/tmp/ipykernel_2357504/3447769798.py:37: FutureWarning: The frame.append method is deprecated and will be removed from pandas in a future version. Use pandas.concat instead.\n",
      "  intron_coordinates = intron_coordinates.append(new_row, ignore_index=True)\n",
      "/tmp/ipykernel_2357504/3447769798.py:37: FutureWarning: The frame.append method is deprecated and will be removed from pandas in a future version. Use pandas.concat instead.\n",
      "  intron_coordinates = intron_coordinates.append(new_row, ignore_index=True)\n"
     ]
    },
    {
     "name": "stdout",
     "output_type": "stream",
     "text": [
      "adding 12757498 12758405\n",
      "adding 12758742 12760383\n",
      "adding 12760717 12770967\n",
      "adding 12771255 12773482\n",
      "adding 12774025 12775370\n",
      "adding 12775666 12776548\n",
      "adding 12776960 12777918\n"
     ]
    },
    {
     "name": "stderr",
     "output_type": "stream",
     "text": [
      "/tmp/ipykernel_2357504/3447769798.py:37: FutureWarning: The frame.append method is deprecated and will be removed from pandas in a future version. Use pandas.concat instead.\n",
      "  intron_coordinates = intron_coordinates.append(new_row, ignore_index=True)\n",
      "/tmp/ipykernel_2357504/3447769798.py:37: FutureWarning: The frame.append method is deprecated and will be removed from pandas in a future version. Use pandas.concat instead.\n",
      "  intron_coordinates = intron_coordinates.append(new_row, ignore_index=True)\n",
      "/tmp/ipykernel_2357504/3447769798.py:37: FutureWarning: The frame.append method is deprecated and will be removed from pandas in a future version. Use pandas.concat instead.\n",
      "  intron_coordinates = intron_coordinates.append(new_row, ignore_index=True)\n",
      "/tmp/ipykernel_2357504/3447769798.py:37: FutureWarning: The frame.append method is deprecated and will be removed from pandas in a future version. Use pandas.concat instead.\n",
      "  intron_coordinates = intron_coordinates.append(new_row, ignore_index=True)\n",
      "/tmp/ipykernel_2357504/3447769798.py:37: FutureWarning: The frame.append method is deprecated and will be removed from pandas in a future version. Use pandas.concat instead.\n",
      "  intron_coordinates = intron_coordinates.append(new_row, ignore_index=True)\n",
      "/tmp/ipykernel_2357504/3447769798.py:37: FutureWarning: The frame.append method is deprecated and will be removed from pandas in a future version. Use pandas.concat instead.\n",
      "  intron_coordinates = intron_coordinates.append(new_row, ignore_index=True)\n",
      "/tmp/ipykernel_2357504/3447769798.py:37: FutureWarning: The frame.append method is deprecated and will be removed from pandas in a future version. Use pandas.concat instead.\n",
      "  intron_coordinates = intron_coordinates.append(new_row, ignore_index=True)\n"
     ]
    },
    {
     "name": "stdout",
     "output_type": "stream",
     "text": [
      "adding 12778359 12778505\n",
      "adding 12778855 12779425\n",
      "adding 12779746 12786102\n",
      "adding 12786900 12790306\n",
      "adding 12790632 12791398\n",
      "adding 12791724 12792931\n",
      "adding 12793301 12810078\n"
     ]
    },
    {
     "name": "stderr",
     "output_type": "stream",
     "text": [
      "/tmp/ipykernel_2357504/3447769798.py:37: FutureWarning: The frame.append method is deprecated and will be removed from pandas in a future version. Use pandas.concat instead.\n",
      "  intron_coordinates = intron_coordinates.append(new_row, ignore_index=True)\n",
      "/tmp/ipykernel_2357504/3447769798.py:37: FutureWarning: The frame.append method is deprecated and will be removed from pandas in a future version. Use pandas.concat instead.\n",
      "  intron_coordinates = intron_coordinates.append(new_row, ignore_index=True)\n",
      "/tmp/ipykernel_2357504/3447769798.py:37: FutureWarning: The frame.append method is deprecated and will be removed from pandas in a future version. Use pandas.concat instead.\n",
      "  intron_coordinates = intron_coordinates.append(new_row, ignore_index=True)\n",
      "/tmp/ipykernel_2357504/3447769798.py:37: FutureWarning: The frame.append method is deprecated and will be removed from pandas in a future version. Use pandas.concat instead.\n",
      "  intron_coordinates = intron_coordinates.append(new_row, ignore_index=True)\n",
      "/tmp/ipykernel_2357504/3447769798.py:37: FutureWarning: The frame.append method is deprecated and will be removed from pandas in a future version. Use pandas.concat instead.\n",
      "  intron_coordinates = intron_coordinates.append(new_row, ignore_index=True)\n",
      "/tmp/ipykernel_2357504/3447769798.py:37: FutureWarning: The frame.append method is deprecated and will be removed from pandas in a future version. Use pandas.concat instead.\n",
      "  intron_coordinates = intron_coordinates.append(new_row, ignore_index=True)\n",
      "/tmp/ipykernel_2357504/3447769798.py:37: FutureWarning: The frame.append method is deprecated and will be removed from pandas in a future version. Use pandas.concat instead.\n",
      "  intron_coordinates = intron_coordinates.append(new_row, ignore_index=True)\n"
     ]
    },
    {
     "name": "stdout",
     "output_type": "stream",
     "text": [
      "adding 12810387 12810571\n",
      "adding 12810918 12811534\n",
      "adding 12811881 12812729\n",
      "adding 12813152 12816023\n",
      "adding 12816444 12818319\n",
      "adding 12818710 12833587\n",
      "adding 12833961 12837810\n"
     ]
    },
    {
     "name": "stderr",
     "output_type": "stream",
     "text": [
      "/tmp/ipykernel_2357504/3447769798.py:37: FutureWarning: The frame.append method is deprecated and will be removed from pandas in a future version. Use pandas.concat instead.\n",
      "  intron_coordinates = intron_coordinates.append(new_row, ignore_index=True)\n",
      "/tmp/ipykernel_2357504/3447769798.py:37: FutureWarning: The frame.append method is deprecated and will be removed from pandas in a future version. Use pandas.concat instead.\n",
      "  intron_coordinates = intron_coordinates.append(new_row, ignore_index=True)\n",
      "/tmp/ipykernel_2357504/3447769798.py:37: FutureWarning: The frame.append method is deprecated and will be removed from pandas in a future version. Use pandas.concat instead.\n",
      "  intron_coordinates = intron_coordinates.append(new_row, ignore_index=True)\n",
      "/tmp/ipykernel_2357504/3447769798.py:37: FutureWarning: The frame.append method is deprecated and will be removed from pandas in a future version. Use pandas.concat instead.\n",
      "  intron_coordinates = intron_coordinates.append(new_row, ignore_index=True)\n",
      "/tmp/ipykernel_2357504/3447769798.py:37: FutureWarning: The frame.append method is deprecated and will be removed from pandas in a future version. Use pandas.concat instead.\n",
      "  intron_coordinates = intron_coordinates.append(new_row, ignore_index=True)\n",
      "/tmp/ipykernel_2357504/3447769798.py:37: FutureWarning: The frame.append method is deprecated and will be removed from pandas in a future version. Use pandas.concat instead.\n",
      "  intron_coordinates = intron_coordinates.append(new_row, ignore_index=True)\n",
      "/tmp/ipykernel_2357504/3447769798.py:37: FutureWarning: The frame.append method is deprecated and will be removed from pandas in a future version. Use pandas.concat instead.\n",
      "  intron_coordinates = intron_coordinates.append(new_row, ignore_index=True)\n"
     ]
    },
    {
     "name": "stdout",
     "output_type": "stream",
     "text": [
      "adding 12838152 12839763\n",
      "adding 12840714 12840909\n",
      "adding 12841233 12842139\n",
      "adding 12842565 12842963\n",
      "adding 12843293 12846232\n",
      "adding 12846618 12846832\n",
      "adding 12847427 12856239\n"
     ]
    },
    {
     "name": "stderr",
     "output_type": "stream",
     "text": [
      "/tmp/ipykernel_2357504/3447769798.py:37: FutureWarning: The frame.append method is deprecated and will be removed from pandas in a future version. Use pandas.concat instead.\n",
      "  intron_coordinates = intron_coordinates.append(new_row, ignore_index=True)\n",
      "/tmp/ipykernel_2357504/3447769798.py:37: FutureWarning: The frame.append method is deprecated and will be removed from pandas in a future version. Use pandas.concat instead.\n",
      "  intron_coordinates = intron_coordinates.append(new_row, ignore_index=True)\n",
      "/tmp/ipykernel_2357504/3447769798.py:37: FutureWarning: The frame.append method is deprecated and will be removed from pandas in a future version. Use pandas.concat instead.\n",
      "  intron_coordinates = intron_coordinates.append(new_row, ignore_index=True)\n",
      "/tmp/ipykernel_2357504/3447769798.py:37: FutureWarning: The frame.append method is deprecated and will be removed from pandas in a future version. Use pandas.concat instead.\n",
      "  intron_coordinates = intron_coordinates.append(new_row, ignore_index=True)\n",
      "/tmp/ipykernel_2357504/3447769798.py:37: FutureWarning: The frame.append method is deprecated and will be removed from pandas in a future version. Use pandas.concat instead.\n",
      "  intron_coordinates = intron_coordinates.append(new_row, ignore_index=True)\n",
      "/tmp/ipykernel_2357504/3447769798.py:37: FutureWarning: The frame.append method is deprecated and will be removed from pandas in a future version. Use pandas.concat instead.\n",
      "  intron_coordinates = intron_coordinates.append(new_row, ignore_index=True)\n",
      "/tmp/ipykernel_2357504/3447769798.py:37: FutureWarning: The frame.append method is deprecated and will be removed from pandas in a future version. Use pandas.concat instead.\n",
      "  intron_coordinates = intron_coordinates.append(new_row, ignore_index=True)\n"
     ]
    },
    {
     "name": "stdout",
     "output_type": "stream",
     "text": [
      "adding 12856945 12857465\n",
      "adding 12857761 12859178\n",
      "HERE 12847253 12856239\n",
      "adding 12856945 12857465\n",
      "adding 12857761 12859178\n",
      "adding 12709643 12720488\n",
      "adding 12720837 12722007\n",
      "adding 12722287 12725012\n"
     ]
    },
    {
     "name": "stderr",
     "output_type": "stream",
     "text": [
      "/tmp/ipykernel_2357504/3447769798.py:37: FutureWarning: The frame.append method is deprecated and will be removed from pandas in a future version. Use pandas.concat instead.\n",
      "  intron_coordinates = intron_coordinates.append(new_row, ignore_index=True)\n",
      "/tmp/ipykernel_2357504/3447769798.py:37: FutureWarning: The frame.append method is deprecated and will be removed from pandas in a future version. Use pandas.concat instead.\n",
      "  intron_coordinates = intron_coordinates.append(new_row, ignore_index=True)\n",
      "/tmp/ipykernel_2357504/3447769798.py:37: FutureWarning: The frame.append method is deprecated and will be removed from pandas in a future version. Use pandas.concat instead.\n",
      "  intron_coordinates = intron_coordinates.append(new_row, ignore_index=True)\n",
      "/tmp/ipykernel_2357504/3447769798.py:37: FutureWarning: The frame.append method is deprecated and will be removed from pandas in a future version. Use pandas.concat instead.\n",
      "  intron_coordinates = intron_coordinates.append(new_row, ignore_index=True)\n",
      "/tmp/ipykernel_2357504/3447769798.py:37: FutureWarning: The frame.append method is deprecated and will be removed from pandas in a future version. Use pandas.concat instead.\n",
      "  intron_coordinates = intron_coordinates.append(new_row, ignore_index=True)\n",
      "/tmp/ipykernel_2357504/3447769798.py:37: FutureWarning: The frame.append method is deprecated and will be removed from pandas in a future version. Use pandas.concat instead.\n",
      "  intron_coordinates = intron_coordinates.append(new_row, ignore_index=True)\n",
      "/tmp/ipykernel_2357504/3447769798.py:37: FutureWarning: The frame.append method is deprecated and will be removed from pandas in a future version. Use pandas.concat instead.\n",
      "  intron_coordinates = intron_coordinates.append(new_row, ignore_index=True)\n",
      "/tmp/ipykernel_2357504/3447769798.py:37: FutureWarning: The frame.append method is deprecated and will be removed from pandas in a future version. Use pandas.concat instead.\n",
      "  intron_coordinates = intron_coordinates.append(new_row, ignore_index=True)\n",
      "/tmp/ipykernel_2357504/3447769798.py:37: FutureWarning: The frame.append method is deprecated and will be removed from pandas in a future version. Use pandas.concat instead.\n",
      "  intron_coordinates = intron_coordinates.append(new_row, ignore_index=True)\n",
      "/tmp/ipykernel_2357504/3447769798.py:37: FutureWarning: The frame.append method is deprecated and will be removed from pandas in a future version. Use pandas.concat instead.\n",
      "  intron_coordinates = intron_coordinates.append(new_row, ignore_index=True)\n",
      "/tmp/ipykernel_2357504/3447769798.py:37: FutureWarning: The frame.append method is deprecated and will be removed from pandas in a future version. Use pandas.concat instead.\n",
      "  intron_coordinates = intron_coordinates.append(new_row, ignore_index=True)\n",
      "/tmp/ipykernel_2357504/3447769798.py:37: FutureWarning: The frame.append method is deprecated and will be removed from pandas in a future version. Use pandas.concat instead.\n",
      "  intron_coordinates = intron_coordinates.append(new_row, ignore_index=True)\n",
      "/tmp/ipykernel_2357504/3447769798.py:37: FutureWarning: The frame.append method is deprecated and will be removed from pandas in a future version. Use pandas.concat instead.\n",
      "  intron_coordinates = intron_coordinates.append(new_row, ignore_index=True)\n"
     ]
    },
    {
     "name": "stdout",
     "output_type": "stream",
     "text": [
      "adding 12725325 12726474\n",
      "adding 12726893 12735511\n",
      "adding 12735827 12735897\n",
      "adding 12736649 12738056\n",
      "adding 12738409 12739424\n",
      "adding 12739729 12757091\n",
      "adding 12757498 12758405\n"
     ]
    },
    {
     "name": "stderr",
     "output_type": "stream",
     "text": [
      "/tmp/ipykernel_2357504/3447769798.py:37: FutureWarning: The frame.append method is deprecated and will be removed from pandas in a future version. Use pandas.concat instead.\n",
      "  intron_coordinates = intron_coordinates.append(new_row, ignore_index=True)\n",
      "/tmp/ipykernel_2357504/3447769798.py:37: FutureWarning: The frame.append method is deprecated and will be removed from pandas in a future version. Use pandas.concat instead.\n",
      "  intron_coordinates = intron_coordinates.append(new_row, ignore_index=True)\n",
      "/tmp/ipykernel_2357504/3447769798.py:37: FutureWarning: The frame.append method is deprecated and will be removed from pandas in a future version. Use pandas.concat instead.\n",
      "  intron_coordinates = intron_coordinates.append(new_row, ignore_index=True)\n",
      "/tmp/ipykernel_2357504/3447769798.py:37: FutureWarning: The frame.append method is deprecated and will be removed from pandas in a future version. Use pandas.concat instead.\n",
      "  intron_coordinates = intron_coordinates.append(new_row, ignore_index=True)\n",
      "/tmp/ipykernel_2357504/3447769798.py:37: FutureWarning: The frame.append method is deprecated and will be removed from pandas in a future version. Use pandas.concat instead.\n",
      "  intron_coordinates = intron_coordinates.append(new_row, ignore_index=True)\n",
      "/tmp/ipykernel_2357504/3447769798.py:37: FutureWarning: The frame.append method is deprecated and will be removed from pandas in a future version. Use pandas.concat instead.\n",
      "  intron_coordinates = intron_coordinates.append(new_row, ignore_index=True)\n",
      "/tmp/ipykernel_2357504/3447769798.py:37: FutureWarning: The frame.append method is deprecated and will be removed from pandas in a future version. Use pandas.concat instead.\n",
      "  intron_coordinates = intron_coordinates.append(new_row, ignore_index=True)\n"
     ]
    },
    {
     "name": "stdout",
     "output_type": "stream",
     "text": [
      "adding 12758742 12760383\n",
      "adding 12760717 12770967\n",
      "adding 12771255 12773482\n",
      "adding 12774025 12775370\n",
      "adding 12775666 12776548\n",
      "adding 12776960 12777918\n",
      "adding 12778359 12778505\n"
     ]
    },
    {
     "name": "stderr",
     "output_type": "stream",
     "text": [
      "/tmp/ipykernel_2357504/3447769798.py:37: FutureWarning: The frame.append method is deprecated and will be removed from pandas in a future version. Use pandas.concat instead.\n",
      "  intron_coordinates = intron_coordinates.append(new_row, ignore_index=True)\n",
      "/tmp/ipykernel_2357504/3447769798.py:37: FutureWarning: The frame.append method is deprecated and will be removed from pandas in a future version. Use pandas.concat instead.\n",
      "  intron_coordinates = intron_coordinates.append(new_row, ignore_index=True)\n",
      "/tmp/ipykernel_2357504/3447769798.py:37: FutureWarning: The frame.append method is deprecated and will be removed from pandas in a future version. Use pandas.concat instead.\n",
      "  intron_coordinates = intron_coordinates.append(new_row, ignore_index=True)\n",
      "/tmp/ipykernel_2357504/3447769798.py:37: FutureWarning: The frame.append method is deprecated and will be removed from pandas in a future version. Use pandas.concat instead.\n",
      "  intron_coordinates = intron_coordinates.append(new_row, ignore_index=True)\n",
      "/tmp/ipykernel_2357504/3447769798.py:37: FutureWarning: The frame.append method is deprecated and will be removed from pandas in a future version. Use pandas.concat instead.\n",
      "  intron_coordinates = intron_coordinates.append(new_row, ignore_index=True)\n",
      "/tmp/ipykernel_2357504/3447769798.py:37: FutureWarning: The frame.append method is deprecated and will be removed from pandas in a future version. Use pandas.concat instead.\n",
      "  intron_coordinates = intron_coordinates.append(new_row, ignore_index=True)\n",
      "/tmp/ipykernel_2357504/3447769798.py:37: FutureWarning: The frame.append method is deprecated and will be removed from pandas in a future version. Use pandas.concat instead.\n",
      "  intron_coordinates = intron_coordinates.append(new_row, ignore_index=True)\n"
     ]
    },
    {
     "name": "stdout",
     "output_type": "stream",
     "text": [
      "adding 12778855 12779425\n",
      "adding 12779746 12786102\n",
      "adding 12786900 12790306\n",
      "adding 12790632 12791398\n",
      "adding 12791724 12792931\n",
      "adding 12793301 12810078\n",
      "adding 12810387 12810571\n"
     ]
    },
    {
     "name": "stderr",
     "output_type": "stream",
     "text": [
      "/tmp/ipykernel_2357504/3447769798.py:37: FutureWarning: The frame.append method is deprecated and will be removed from pandas in a future version. Use pandas.concat instead.\n",
      "  intron_coordinates = intron_coordinates.append(new_row, ignore_index=True)\n",
      "/tmp/ipykernel_2357504/3447769798.py:37: FutureWarning: The frame.append method is deprecated and will be removed from pandas in a future version. Use pandas.concat instead.\n",
      "  intron_coordinates = intron_coordinates.append(new_row, ignore_index=True)\n",
      "/tmp/ipykernel_2357504/3447769798.py:37: FutureWarning: The frame.append method is deprecated and will be removed from pandas in a future version. Use pandas.concat instead.\n",
      "  intron_coordinates = intron_coordinates.append(new_row, ignore_index=True)\n",
      "/tmp/ipykernel_2357504/3447769798.py:37: FutureWarning: The frame.append method is deprecated and will be removed from pandas in a future version. Use pandas.concat instead.\n",
      "  intron_coordinates = intron_coordinates.append(new_row, ignore_index=True)\n",
      "/tmp/ipykernel_2357504/3447769798.py:37: FutureWarning: The frame.append method is deprecated and will be removed from pandas in a future version. Use pandas.concat instead.\n",
      "  intron_coordinates = intron_coordinates.append(new_row, ignore_index=True)\n",
      "/tmp/ipykernel_2357504/3447769798.py:37: FutureWarning: The frame.append method is deprecated and will be removed from pandas in a future version. Use pandas.concat instead.\n",
      "  intron_coordinates = intron_coordinates.append(new_row, ignore_index=True)\n",
      "/tmp/ipykernel_2357504/3447769798.py:37: FutureWarning: The frame.append method is deprecated and will be removed from pandas in a future version. Use pandas.concat instead.\n",
      "  intron_coordinates = intron_coordinates.append(new_row, ignore_index=True)\n"
     ]
    },
    {
     "name": "stdout",
     "output_type": "stream",
     "text": [
      "adding 12810918 12811534\n",
      "adding 12811881 12812729\n",
      "adding 12813152 12816023\n",
      "adding 12816444 12818319\n",
      "adding 12818710 12833587\n",
      "adding 12833961 12837810\n",
      "adding 12838152 12839763\n"
     ]
    },
    {
     "name": "stderr",
     "output_type": "stream",
     "text": [
      "/tmp/ipykernel_2357504/3447769798.py:37: FutureWarning: The frame.append method is deprecated and will be removed from pandas in a future version. Use pandas.concat instead.\n",
      "  intron_coordinates = intron_coordinates.append(new_row, ignore_index=True)\n",
      "/tmp/ipykernel_2357504/3447769798.py:37: FutureWarning: The frame.append method is deprecated and will be removed from pandas in a future version. Use pandas.concat instead.\n",
      "  intron_coordinates = intron_coordinates.append(new_row, ignore_index=True)\n",
      "/tmp/ipykernel_2357504/3447769798.py:37: FutureWarning: The frame.append method is deprecated and will be removed from pandas in a future version. Use pandas.concat instead.\n",
      "  intron_coordinates = intron_coordinates.append(new_row, ignore_index=True)\n",
      "/tmp/ipykernel_2357504/3447769798.py:37: FutureWarning: The frame.append method is deprecated and will be removed from pandas in a future version. Use pandas.concat instead.\n",
      "  intron_coordinates = intron_coordinates.append(new_row, ignore_index=True)\n",
      "/tmp/ipykernel_2357504/3447769798.py:37: FutureWarning: The frame.append method is deprecated and will be removed from pandas in a future version. Use pandas.concat instead.\n",
      "  intron_coordinates = intron_coordinates.append(new_row, ignore_index=True)\n",
      "/tmp/ipykernel_2357504/3447769798.py:37: FutureWarning: The frame.append method is deprecated and will be removed from pandas in a future version. Use pandas.concat instead.\n",
      "  intron_coordinates = intron_coordinates.append(new_row, ignore_index=True)\n",
      "/tmp/ipykernel_2357504/3447769798.py:37: FutureWarning: The frame.append method is deprecated and will be removed from pandas in a future version. Use pandas.concat instead.\n",
      "  intron_coordinates = intron_coordinates.append(new_row, ignore_index=True)\n"
     ]
    },
    {
     "name": "stdout",
     "output_type": "stream",
     "text": [
      "adding 12840714 12840909\n",
      "adding 12841233 12842139\n",
      "adding 12842565 12842963\n",
      "adding 12843293 12846232\n",
      "adding 12846618 12846832\n",
      "adding 12847427 12856239\n",
      "adding 12856945 12857465\n"
     ]
    },
    {
     "name": "stderr",
     "output_type": "stream",
     "text": [
      "/tmp/ipykernel_2357504/3447769798.py:37: FutureWarning: The frame.append method is deprecated and will be removed from pandas in a future version. Use pandas.concat instead.\n",
      "  intron_coordinates = intron_coordinates.append(new_row, ignore_index=True)\n",
      "/tmp/ipykernel_2357504/3447769798.py:37: FutureWarning: The frame.append method is deprecated and will be removed from pandas in a future version. Use pandas.concat instead.\n",
      "  intron_coordinates = intron_coordinates.append(new_row, ignore_index=True)\n",
      "/tmp/ipykernel_2357504/3447769798.py:37: FutureWarning: The frame.append method is deprecated and will be removed from pandas in a future version. Use pandas.concat instead.\n",
      "  intron_coordinates = intron_coordinates.append(new_row, ignore_index=True)\n",
      "/tmp/ipykernel_2357504/3447769798.py:37: FutureWarning: The frame.append method is deprecated and will be removed from pandas in a future version. Use pandas.concat instead.\n",
      "  intron_coordinates = intron_coordinates.append(new_row, ignore_index=True)\n",
      "/tmp/ipykernel_2357504/3447769798.py:37: FutureWarning: The frame.append method is deprecated and will be removed from pandas in a future version. Use pandas.concat instead.\n",
      "  intron_coordinates = intron_coordinates.append(new_row, ignore_index=True)\n",
      "/tmp/ipykernel_2357504/3447769798.py:37: FutureWarning: The frame.append method is deprecated and will be removed from pandas in a future version. Use pandas.concat instead.\n",
      "  intron_coordinates = intron_coordinates.append(new_row, ignore_index=True)\n",
      "/tmp/ipykernel_2357504/3447769798.py:37: FutureWarning: The frame.append method is deprecated and will be removed from pandas in a future version. Use pandas.concat instead.\n",
      "  intron_coordinates = intron_coordinates.append(new_row, ignore_index=True)\n",
      "/tmp/ipykernel_2357504/3447769798.py:37: FutureWarning: The frame.append method is deprecated and will be removed from pandas in a future version. Use pandas.concat instead.\n",
      "  intron_coordinates = intron_coordinates.append(new_row, ignore_index=True)\n"
     ]
    },
    {
     "name": "stdout",
     "output_type": "stream",
     "text": [
      "adding 12857761 12859178\n",
      "<pandas.core.groupby.generic.DataFrameGroupBy object at 0x7f18e3607dc0>\n",
      "adding 41123824 41128899\n",
      "adding 41129245 41131356\n",
      "adding 41131636 41134624\n",
      "adding 41134937 41136703\n",
      "adding 41137122 41140555\n",
      "adding 41141531 41143190\n",
      "adding 41143543 41144421\n"
     ]
    },
    {
     "name": "stderr",
     "output_type": "stream",
     "text": [
      "/tmp/ipykernel_2357504/3447769798.py:37: FutureWarning: The frame.append method is deprecated and will be removed from pandas in a future version. Use pandas.concat instead.\n",
      "  intron_coordinates = intron_coordinates.append(new_row, ignore_index=True)\n",
      "/tmp/ipykernel_2357504/3447769798.py:37: FutureWarning: The frame.append method is deprecated and will be removed from pandas in a future version. Use pandas.concat instead.\n",
      "  intron_coordinates = intron_coordinates.append(new_row, ignore_index=True)\n",
      "/tmp/ipykernel_2357504/3447769798.py:37: FutureWarning: The frame.append method is deprecated and will be removed from pandas in a future version. Use pandas.concat instead.\n",
      "  intron_coordinates = intron_coordinates.append(new_row, ignore_index=True)\n",
      "/tmp/ipykernel_2357504/3447769798.py:37: FutureWarning: The frame.append method is deprecated and will be removed from pandas in a future version. Use pandas.concat instead.\n",
      "  intron_coordinates = intron_coordinates.append(new_row, ignore_index=True)\n",
      "/tmp/ipykernel_2357504/3447769798.py:37: FutureWarning: The frame.append method is deprecated and will be removed from pandas in a future version. Use pandas.concat instead.\n",
      "  intron_coordinates = intron_coordinates.append(new_row, ignore_index=True)\n",
      "/tmp/ipykernel_2357504/3447769798.py:37: FutureWarning: The frame.append method is deprecated and will be removed from pandas in a future version. Use pandas.concat instead.\n",
      "  intron_coordinates = intron_coordinates.append(new_row, ignore_index=True)\n",
      "/tmp/ipykernel_2357504/3447769798.py:37: FutureWarning: The frame.append method is deprecated and will be removed from pandas in a future version. Use pandas.concat instead.\n",
      "  intron_coordinates = intron_coordinates.append(new_row, ignore_index=True)\n",
      "/tmp/ipykernel_2357504/3447769798.py:37: FutureWarning: The frame.append method is deprecated and will be removed from pandas in a future version. Use pandas.concat instead.\n",
      "  intron_coordinates = intron_coordinates.append(new_row, ignore_index=True)\n"
     ]
    },
    {
     "name": "stdout",
     "output_type": "stream",
     "text": [
      "adding 41144726 41148268\n",
      "adding 41148675 41150820\n",
      "adding 41151157 41152847\n",
      "adding 41153181 41162689\n",
      "adding 41162977 41165771\n",
      "adding 41166314 41167381\n",
      "adding 41167677 41167906\n",
      "adding 41168318 41169894\n"
     ]
    },
    {
     "name": "stderr",
     "output_type": "stream",
     "text": [
      "/tmp/ipykernel_2357504/3447769798.py:37: FutureWarning: The frame.append method is deprecated and will be removed from pandas in a future version. Use pandas.concat instead.\n",
      "  intron_coordinates = intron_coordinates.append(new_row, ignore_index=True)\n",
      "/tmp/ipykernel_2357504/3447769798.py:37: FutureWarning: The frame.append method is deprecated and will be removed from pandas in a future version. Use pandas.concat instead.\n",
      "  intron_coordinates = intron_coordinates.append(new_row, ignore_index=True)\n",
      "/tmp/ipykernel_2357504/3447769798.py:37: FutureWarning: The frame.append method is deprecated and will be removed from pandas in a future version. Use pandas.concat instead.\n",
      "  intron_coordinates = intron_coordinates.append(new_row, ignore_index=True)\n",
      "/tmp/ipykernel_2357504/3447769798.py:37: FutureWarning: The frame.append method is deprecated and will be removed from pandas in a future version. Use pandas.concat instead.\n",
      "  intron_coordinates = intron_coordinates.append(new_row, ignore_index=True)\n",
      "/tmp/ipykernel_2357504/3447769798.py:37: FutureWarning: The frame.append method is deprecated and will be removed from pandas in a future version. Use pandas.concat instead.\n",
      "  intron_coordinates = intron_coordinates.append(new_row, ignore_index=True)\n",
      "/tmp/ipykernel_2357504/3447769798.py:37: FutureWarning: The frame.append method is deprecated and will be removed from pandas in a future version. Use pandas.concat instead.\n",
      "  intron_coordinates = intron_coordinates.append(new_row, ignore_index=True)\n",
      "/tmp/ipykernel_2357504/3447769798.py:37: FutureWarning: The frame.append method is deprecated and will be removed from pandas in a future version. Use pandas.concat instead.\n",
      "  intron_coordinates = intron_coordinates.append(new_row, ignore_index=True)\n",
      "/tmp/ipykernel_2357504/3447769798.py:37: FutureWarning: The frame.append method is deprecated and will be removed from pandas in a future version. Use pandas.concat instead.\n",
      "  intron_coordinates = intron_coordinates.append(new_row, ignore_index=True)\n"
     ]
    },
    {
     "name": "stdout",
     "output_type": "stream",
     "text": [
      "adding 41170335 41170369\n",
      "adding 41170719 41171737\n",
      "adding 41172058 41183897\n",
      "adding 41184228 41184296\n",
      "adding 41184775 41186416\n",
      "adding 41186742 41187891\n",
      "adding 41188217 41189208\n",
      "adding 41189575 41196150\n"
     ]
    },
    {
     "name": "stderr",
     "output_type": "stream",
     "text": [
      "/tmp/ipykernel_2357504/3447769798.py:37: FutureWarning: The frame.append method is deprecated and will be removed from pandas in a future version. Use pandas.concat instead.\n",
      "  intron_coordinates = intron_coordinates.append(new_row, ignore_index=True)\n",
      "/tmp/ipykernel_2357504/3447769798.py:37: FutureWarning: The frame.append method is deprecated and will be removed from pandas in a future version. Use pandas.concat instead.\n",
      "  intron_coordinates = intron_coordinates.append(new_row, ignore_index=True)\n",
      "/tmp/ipykernel_2357504/3447769798.py:37: FutureWarning: The frame.append method is deprecated and will be removed from pandas in a future version. Use pandas.concat instead.\n",
      "  intron_coordinates = intron_coordinates.append(new_row, ignore_index=True)\n",
      "/tmp/ipykernel_2357504/3447769798.py:37: FutureWarning: The frame.append method is deprecated and will be removed from pandas in a future version. Use pandas.concat instead.\n",
      "  intron_coordinates = intron_coordinates.append(new_row, ignore_index=True)\n",
      "/tmp/ipykernel_2357504/3447769798.py:37: FutureWarning: The frame.append method is deprecated and will be removed from pandas in a future version. Use pandas.concat instead.\n",
      "  intron_coordinates = intron_coordinates.append(new_row, ignore_index=True)\n",
      "/tmp/ipykernel_2357504/3447769798.py:37: FutureWarning: The frame.append method is deprecated and will be removed from pandas in a future version. Use pandas.concat instead.\n",
      "  intron_coordinates = intron_coordinates.append(new_row, ignore_index=True)\n",
      "/tmp/ipykernel_2357504/3447769798.py:37: FutureWarning: The frame.append method is deprecated and will be removed from pandas in a future version. Use pandas.concat instead.\n",
      "  intron_coordinates = intron_coordinates.append(new_row, ignore_index=True)\n",
      "/tmp/ipykernel_2357504/3447769798.py:37: FutureWarning: The frame.append method is deprecated and will be removed from pandas in a future version. Use pandas.concat instead.\n",
      "  intron_coordinates = intron_coordinates.append(new_row, ignore_index=True)\n"
     ]
    },
    {
     "name": "stdout",
     "output_type": "stream",
     "text": [
      "adding 41196459 41196491\n",
      "adding 41196838 41197263\n",
      "adding 41197610 41198427\n",
      "adding 41198850 41200959\n",
      "adding 41201380 41205202\n",
      "adding 41205593 41210408\n",
      "adding 41210782 41214467\n",
      "adding 41214809 41215798\n"
     ]
    },
    {
     "name": "stderr",
     "output_type": "stream",
     "text": [
      "/tmp/ipykernel_2357504/3447769798.py:37: FutureWarning: The frame.append method is deprecated and will be removed from pandas in a future version. Use pandas.concat instead.\n",
      "  intron_coordinates = intron_coordinates.append(new_row, ignore_index=True)\n",
      "/tmp/ipykernel_2357504/3447769798.py:37: FutureWarning: The frame.append method is deprecated and will be removed from pandas in a future version. Use pandas.concat instead.\n",
      "  intron_coordinates = intron_coordinates.append(new_row, ignore_index=True)\n",
      "/tmp/ipykernel_2357504/3447769798.py:37: FutureWarning: The frame.append method is deprecated and will be removed from pandas in a future version. Use pandas.concat instead.\n",
      "  intron_coordinates = intron_coordinates.append(new_row, ignore_index=True)\n",
      "/tmp/ipykernel_2357504/3447769798.py:37: FutureWarning: The frame.append method is deprecated and will be removed from pandas in a future version. Use pandas.concat instead.\n",
      "  intron_coordinates = intron_coordinates.append(new_row, ignore_index=True)\n",
      "/tmp/ipykernel_2357504/3447769798.py:37: FutureWarning: The frame.append method is deprecated and will be removed from pandas in a future version. Use pandas.concat instead.\n",
      "  intron_coordinates = intron_coordinates.append(new_row, ignore_index=True)\n",
      "/tmp/ipykernel_2357504/3447769798.py:37: FutureWarning: The frame.append method is deprecated and will be removed from pandas in a future version. Use pandas.concat instead.\n",
      "  intron_coordinates = intron_coordinates.append(new_row, ignore_index=True)\n",
      "/tmp/ipykernel_2357504/3447769798.py:37: FutureWarning: The frame.append method is deprecated and will be removed from pandas in a future version. Use pandas.concat instead.\n",
      "  intron_coordinates = intron_coordinates.append(new_row, ignore_index=True)\n",
      "/tmp/ipykernel_2357504/3447769798.py:37: FutureWarning: The frame.append method is deprecated and will be removed from pandas in a future version. Use pandas.concat instead.\n",
      "  intron_coordinates = intron_coordinates.append(new_row, ignore_index=True)\n"
     ]
    },
    {
     "name": "stdout",
     "output_type": "stream",
     "text": [
      "adding 41216752 41217119\n",
      "adding 41217443 41218271\n",
      "adding 41218697 41219001\n",
      "adding 41219331 41223116\n",
      "adding 41223502 41224641\n",
      "adding 41225237 41229152\n",
      "adding 41229927 41230400\n",
      "adding 41230696 41232286\n"
     ]
    },
    {
     "name": "stderr",
     "output_type": "stream",
     "text": [
      "/tmp/ipykernel_2357504/3447769798.py:37: FutureWarning: The frame.append method is deprecated and will be removed from pandas in a future version. Use pandas.concat instead.\n",
      "  intron_coordinates = intron_coordinates.append(new_row, ignore_index=True)\n",
      "/tmp/ipykernel_2357504/3447769798.py:37: FutureWarning: The frame.append method is deprecated and will be removed from pandas in a future version. Use pandas.concat instead.\n",
      "  intron_coordinates = intron_coordinates.append(new_row, ignore_index=True)\n",
      "/tmp/ipykernel_2357504/3447769798.py:37: FutureWarning: The frame.append method is deprecated and will be removed from pandas in a future version. Use pandas.concat instead.\n",
      "  intron_coordinates = intron_coordinates.append(new_row, ignore_index=True)\n",
      "/tmp/ipykernel_2357504/3447769798.py:37: FutureWarning: The frame.append method is deprecated and will be removed from pandas in a future version. Use pandas.concat instead.\n",
      "  intron_coordinates = intron_coordinates.append(new_row, ignore_index=True)\n",
      "/tmp/ipykernel_2357504/3447769798.py:37: FutureWarning: The frame.append method is deprecated and will be removed from pandas in a future version. Use pandas.concat instead.\n",
      "  intron_coordinates = intron_coordinates.append(new_row, ignore_index=True)\n",
      "/tmp/ipykernel_2357504/3447769798.py:37: FutureWarning: The frame.append method is deprecated and will be removed from pandas in a future version. Use pandas.concat instead.\n",
      "  intron_coordinates = intron_coordinates.append(new_row, ignore_index=True)\n",
      "/tmp/ipykernel_2357504/3447769798.py:37: FutureWarning: The frame.append method is deprecated and will be removed from pandas in a future version. Use pandas.concat instead.\n",
      "  intron_coordinates = intron_coordinates.append(new_row, ignore_index=True)\n"
     ]
    },
    {
     "name": "stdout",
     "output_type": "stream",
     "text": [
      "adding 41123824 41128899\n",
      "adding 41129245 41131356\n",
      "adding 41131636 41134624\n",
      "adding 41134937 41136703\n",
      "adding 41137122 41140555\n",
      "adding 41141531 41143190\n",
      "adding 41143543 41144421\n",
      "adding 41144726 41148268\n"
     ]
    },
    {
     "name": "stderr",
     "output_type": "stream",
     "text": [
      "/tmp/ipykernel_2357504/3447769798.py:37: FutureWarning: The frame.append method is deprecated and will be removed from pandas in a future version. Use pandas.concat instead.\n",
      "  intron_coordinates = intron_coordinates.append(new_row, ignore_index=True)\n",
      "/tmp/ipykernel_2357504/3447769798.py:37: FutureWarning: The frame.append method is deprecated and will be removed from pandas in a future version. Use pandas.concat instead.\n",
      "  intron_coordinates = intron_coordinates.append(new_row, ignore_index=True)\n",
      "/tmp/ipykernel_2357504/3447769798.py:37: FutureWarning: The frame.append method is deprecated and will be removed from pandas in a future version. Use pandas.concat instead.\n",
      "  intron_coordinates = intron_coordinates.append(new_row, ignore_index=True)\n",
      "/tmp/ipykernel_2357504/3447769798.py:37: FutureWarning: The frame.append method is deprecated and will be removed from pandas in a future version. Use pandas.concat instead.\n",
      "  intron_coordinates = intron_coordinates.append(new_row, ignore_index=True)\n",
      "/tmp/ipykernel_2357504/3447769798.py:37: FutureWarning: The frame.append method is deprecated and will be removed from pandas in a future version. Use pandas.concat instead.\n",
      "  intron_coordinates = intron_coordinates.append(new_row, ignore_index=True)\n",
      "/tmp/ipykernel_2357504/3447769798.py:37: FutureWarning: The frame.append method is deprecated and will be removed from pandas in a future version. Use pandas.concat instead.\n",
      "  intron_coordinates = intron_coordinates.append(new_row, ignore_index=True)\n",
      "/tmp/ipykernel_2357504/3447769798.py:37: FutureWarning: The frame.append method is deprecated and will be removed from pandas in a future version. Use pandas.concat instead.\n",
      "  intron_coordinates = intron_coordinates.append(new_row, ignore_index=True)\n",
      "/tmp/ipykernel_2357504/3447769798.py:37: FutureWarning: The frame.append method is deprecated and will be removed from pandas in a future version. Use pandas.concat instead.\n",
      "  intron_coordinates = intron_coordinates.append(new_row, ignore_index=True)\n"
     ]
    },
    {
     "name": "stdout",
     "output_type": "stream",
     "text": [
      "adding 41148675 41150820\n",
      "adding 41151157 41152847\n",
      "adding 41153181 41162689\n",
      "adding 41162977 41165771\n",
      "adding 41166314 41167381\n",
      "adding 41167677 41167906\n",
      "adding 41168318 41169894\n",
      "adding 41170335 41170369\n"
     ]
    },
    {
     "name": "stderr",
     "output_type": "stream",
     "text": [
      "/tmp/ipykernel_2357504/3447769798.py:37: FutureWarning: The frame.append method is deprecated and will be removed from pandas in a future version. Use pandas.concat instead.\n",
      "  intron_coordinates = intron_coordinates.append(new_row, ignore_index=True)\n",
      "/tmp/ipykernel_2357504/3447769798.py:37: FutureWarning: The frame.append method is deprecated and will be removed from pandas in a future version. Use pandas.concat instead.\n",
      "  intron_coordinates = intron_coordinates.append(new_row, ignore_index=True)\n",
      "/tmp/ipykernel_2357504/3447769798.py:37: FutureWarning: The frame.append method is deprecated and will be removed from pandas in a future version. Use pandas.concat instead.\n",
      "  intron_coordinates = intron_coordinates.append(new_row, ignore_index=True)\n",
      "/tmp/ipykernel_2357504/3447769798.py:37: FutureWarning: The frame.append method is deprecated and will be removed from pandas in a future version. Use pandas.concat instead.\n",
      "  intron_coordinates = intron_coordinates.append(new_row, ignore_index=True)\n",
      "/tmp/ipykernel_2357504/3447769798.py:37: FutureWarning: The frame.append method is deprecated and will be removed from pandas in a future version. Use pandas.concat instead.\n",
      "  intron_coordinates = intron_coordinates.append(new_row, ignore_index=True)\n",
      "/tmp/ipykernel_2357504/3447769798.py:37: FutureWarning: The frame.append method is deprecated and will be removed from pandas in a future version. Use pandas.concat instead.\n",
      "  intron_coordinates = intron_coordinates.append(new_row, ignore_index=True)\n",
      "/tmp/ipykernel_2357504/3447769798.py:37: FutureWarning: The frame.append method is deprecated and will be removed from pandas in a future version. Use pandas.concat instead.\n",
      "  intron_coordinates = intron_coordinates.append(new_row, ignore_index=True)\n",
      "/tmp/ipykernel_2357504/3447769798.py:37: FutureWarning: The frame.append method is deprecated and will be removed from pandas in a future version. Use pandas.concat instead.\n",
      "  intron_coordinates = intron_coordinates.append(new_row, ignore_index=True)\n"
     ]
    },
    {
     "name": "stdout",
     "output_type": "stream",
     "text": [
      "adding 41170719 41171737\n",
      "adding 41172058 41183897\n",
      "adding 41184228 41184296\n",
      "adding 41184775 41186416\n",
      "adding 41186742 41187891\n",
      "adding 41188217 41189208\n",
      "adding 41189575 41196150\n"
     ]
    },
    {
     "name": "stderr",
     "output_type": "stream",
     "text": [
      "/tmp/ipykernel_2357504/3447769798.py:37: FutureWarning: The frame.append method is deprecated and will be removed from pandas in a future version. Use pandas.concat instead.\n",
      "  intron_coordinates = intron_coordinates.append(new_row, ignore_index=True)\n",
      "/tmp/ipykernel_2357504/3447769798.py:37: FutureWarning: The frame.append method is deprecated and will be removed from pandas in a future version. Use pandas.concat instead.\n",
      "  intron_coordinates = intron_coordinates.append(new_row, ignore_index=True)\n",
      "/tmp/ipykernel_2357504/3447769798.py:37: FutureWarning: The frame.append method is deprecated and will be removed from pandas in a future version. Use pandas.concat instead.\n",
      "  intron_coordinates = intron_coordinates.append(new_row, ignore_index=True)\n",
      "/tmp/ipykernel_2357504/3447769798.py:37: FutureWarning: The frame.append method is deprecated and will be removed from pandas in a future version. Use pandas.concat instead.\n",
      "  intron_coordinates = intron_coordinates.append(new_row, ignore_index=True)\n",
      "/tmp/ipykernel_2357504/3447769798.py:37: FutureWarning: The frame.append method is deprecated and will be removed from pandas in a future version. Use pandas.concat instead.\n",
      "  intron_coordinates = intron_coordinates.append(new_row, ignore_index=True)\n",
      "/tmp/ipykernel_2357504/3447769798.py:37: FutureWarning: The frame.append method is deprecated and will be removed from pandas in a future version. Use pandas.concat instead.\n",
      "  intron_coordinates = intron_coordinates.append(new_row, ignore_index=True)\n",
      "/tmp/ipykernel_2357504/3447769798.py:37: FutureWarning: The frame.append method is deprecated and will be removed from pandas in a future version. Use pandas.concat instead.\n",
      "  intron_coordinates = intron_coordinates.append(new_row, ignore_index=True)\n",
      "/tmp/ipykernel_2357504/3447769798.py:37: FutureWarning: The frame.append method is deprecated and will be removed from pandas in a future version. Use pandas.concat instead.\n",
      "  intron_coordinates = intron_coordinates.append(new_row, ignore_index=True)\n"
     ]
    },
    {
     "name": "stdout",
     "output_type": "stream",
     "text": [
      "adding 41196459 41196491\n",
      "adding 41196838 41197263\n",
      "adding 41197610 41198427\n",
      "adding 41198850 41200959\n",
      "adding 41201380 41205202\n",
      "adding 41205593 41210408\n",
      "adding 41210782 41214467\n",
      "adding 41214809 41215798\n"
     ]
    },
    {
     "name": "stderr",
     "output_type": "stream",
     "text": [
      "/tmp/ipykernel_2357504/3447769798.py:37: FutureWarning: The frame.append method is deprecated and will be removed from pandas in a future version. Use pandas.concat instead.\n",
      "  intron_coordinates = intron_coordinates.append(new_row, ignore_index=True)\n",
      "/tmp/ipykernel_2357504/3447769798.py:37: FutureWarning: The frame.append method is deprecated and will be removed from pandas in a future version. Use pandas.concat instead.\n",
      "  intron_coordinates = intron_coordinates.append(new_row, ignore_index=True)\n",
      "/tmp/ipykernel_2357504/3447769798.py:37: FutureWarning: The frame.append method is deprecated and will be removed from pandas in a future version. Use pandas.concat instead.\n",
      "  intron_coordinates = intron_coordinates.append(new_row, ignore_index=True)\n",
      "/tmp/ipykernel_2357504/3447769798.py:37: FutureWarning: The frame.append method is deprecated and will be removed from pandas in a future version. Use pandas.concat instead.\n",
      "  intron_coordinates = intron_coordinates.append(new_row, ignore_index=True)\n",
      "/tmp/ipykernel_2357504/3447769798.py:37: FutureWarning: The frame.append method is deprecated and will be removed from pandas in a future version. Use pandas.concat instead.\n",
      "  intron_coordinates = intron_coordinates.append(new_row, ignore_index=True)\n",
      "/tmp/ipykernel_2357504/3447769798.py:37: FutureWarning: The frame.append method is deprecated and will be removed from pandas in a future version. Use pandas.concat instead.\n",
      "  intron_coordinates = intron_coordinates.append(new_row, ignore_index=True)\n",
      "/tmp/ipykernel_2357504/3447769798.py:37: FutureWarning: The frame.append method is deprecated and will be removed from pandas in a future version. Use pandas.concat instead.\n",
      "  intron_coordinates = intron_coordinates.append(new_row, ignore_index=True)\n",
      "/tmp/ipykernel_2357504/3447769798.py:37: FutureWarning: The frame.append method is deprecated and will be removed from pandas in a future version. Use pandas.concat instead.\n",
      "  intron_coordinates = intron_coordinates.append(new_row, ignore_index=True)\n"
     ]
    },
    {
     "name": "stdout",
     "output_type": "stream",
     "text": [
      "adding 41216752 41217119\n",
      "adding 41217443 41218271\n",
      "adding 41218697 41219001\n",
      "adding 41219331 41223116\n",
      "adding 41223502 41224641\n",
      "adding 41225237 41229152\n",
      "adding 41229879 41230400\n",
      "adding 41230696 41232286\n",
      "<pandas.core.groupby.generic.DataFrameGroupBy object at 0x7f18f50663a0>\n",
      "HERE 2841727 2842064\n",
      "adding 2842342 2843976\n",
      "adding 2844357 2845545\n",
      "adding 2845843 2854499\n",
      "adding 2854871 2864987\n",
      "adding 2865345 2866692\n",
      "adding 2842342 2843976\n",
      "adding 2844357 2845545\n",
      "adding 2845843 2854499\n",
      "adding 2854871 2864987\n",
      "adding 2865345 2866692\n",
      "<pandas.core.groupby.generic.DataFrameGroupBy object at 0x7f18940698e0>\n",
      "adding 72272872 72273131\n",
      "adding 72273489 72273700\n",
      "adding 72274072 72274952\n",
      "adding 72275250 72275443\n",
      "adding 72275824 72276056\n",
      "adding 72276334 72277092\n"
     ]
    },
    {
     "name": "stderr",
     "output_type": "stream",
     "text": [
      "/tmp/ipykernel_2357504/3447769798.py:37: FutureWarning: The frame.append method is deprecated and will be removed from pandas in a future version. Use pandas.concat instead.\n",
      "  intron_coordinates = intron_coordinates.append(new_row, ignore_index=True)\n",
      "/tmp/ipykernel_2357504/3447769798.py:37: FutureWarning: The frame.append method is deprecated and will be removed from pandas in a future version. Use pandas.concat instead.\n",
      "  intron_coordinates = intron_coordinates.append(new_row, ignore_index=True)\n",
      "/tmp/ipykernel_2357504/3447769798.py:37: FutureWarning: The frame.append method is deprecated and will be removed from pandas in a future version. Use pandas.concat instead.\n",
      "  intron_coordinates = intron_coordinates.append(new_row, ignore_index=True)\n",
      "/tmp/ipykernel_2357504/3447769798.py:37: FutureWarning: The frame.append method is deprecated and will be removed from pandas in a future version. Use pandas.concat instead.\n",
      "  intron_coordinates = intron_coordinates.append(new_row, ignore_index=True)\n",
      "/tmp/ipykernel_2357504/3447769798.py:37: FutureWarning: The frame.append method is deprecated and will be removed from pandas in a future version. Use pandas.concat instead.\n",
      "  intron_coordinates = intron_coordinates.append(new_row, ignore_index=True)\n",
      "/tmp/ipykernel_2357504/3447769798.py:37: FutureWarning: The frame.append method is deprecated and will be removed from pandas in a future version. Use pandas.concat instead.\n",
      "  intron_coordinates = intron_coordinates.append(new_row, ignore_index=True)\n",
      "/tmp/ipykernel_2357504/3447769798.py:37: FutureWarning: The frame.append method is deprecated and will be removed from pandas in a future version. Use pandas.concat instead.\n",
      "  intron_coordinates = intron_coordinates.append(new_row, ignore_index=True)\n",
      "/tmp/ipykernel_2357504/3447769798.py:37: FutureWarning: The frame.append method is deprecated and will be removed from pandas in a future version. Use pandas.concat instead.\n",
      "  intron_coordinates = intron_coordinates.append(new_row, ignore_index=True)\n",
      "/tmp/ipykernel_2357504/3447769798.py:37: FutureWarning: The frame.append method is deprecated and will be removed from pandas in a future version. Use pandas.concat instead.\n",
      "  intron_coordinates = intron_coordinates.append(new_row, ignore_index=True)\n",
      "/tmp/ipykernel_2357504/3447769798.py:37: FutureWarning: The frame.append method is deprecated and will be removed from pandas in a future version. Use pandas.concat instead.\n",
      "  intron_coordinates = intron_coordinates.append(new_row, ignore_index=True)\n",
      "/tmp/ipykernel_2357504/3447769798.py:37: FutureWarning: The frame.append method is deprecated and will be removed from pandas in a future version. Use pandas.concat instead.\n",
      "  intron_coordinates = intron_coordinates.append(new_row, ignore_index=True)\n",
      "/tmp/ipykernel_2357504/3447769798.py:37: FutureWarning: The frame.append method is deprecated and will be removed from pandas in a future version. Use pandas.concat instead.\n",
      "  intron_coordinates = intron_coordinates.append(new_row, ignore_index=True)\n",
      "/tmp/ipykernel_2357504/3447769798.py:37: FutureWarning: The frame.append method is deprecated and will be removed from pandas in a future version. Use pandas.concat instead.\n",
      "  intron_coordinates = intron_coordinates.append(new_row, ignore_index=True)\n",
      "/tmp/ipykernel_2357504/3447769798.py:37: FutureWarning: The frame.append method is deprecated and will be removed from pandas in a future version. Use pandas.concat instead.\n",
      "  intron_coordinates = intron_coordinates.append(new_row, ignore_index=True)\n",
      "/tmp/ipykernel_2357504/3447769798.py:37: FutureWarning: The frame.append method is deprecated and will be removed from pandas in a future version. Use pandas.concat instead.\n",
      "  intron_coordinates = intron_coordinates.append(new_row, ignore_index=True)\n",
      "/tmp/ipykernel_2357504/3447769798.py:37: FutureWarning: The frame.append method is deprecated and will be removed from pandas in a future version. Use pandas.concat instead.\n",
      "  intron_coordinates = intron_coordinates.append(new_row, ignore_index=True)\n",
      "/tmp/ipykernel_2357504/3447769798.py:37: FutureWarning: The frame.append method is deprecated and will be removed from pandas in a future version. Use pandas.concat instead.\n",
      "  intron_coordinates = intron_coordinates.append(new_row, ignore_index=True)\n"
     ]
    }
   ],
   "source": [
    "intron_coordinates = pd.DataFrame(columns=['seqname', 'feature', 'start', 'end', 'gene_name'])  \n",
    "genes = [ \"EIF1AX\", \"EIF1AY\", \"KDM5D\" , \"KDM5C\",\"UTY\", \"KDM6A\", \"ZFY\", \"ZFX\", \"DDX3Y\" ,\"DDX3X\", \"USP9Y\" , \"USP9X\", \"RPS4Y1\", \"RPS4X\"] \n",
    "\n",
    "#genes = [\"ZFY\"] \n",
    "\n",
    "for gene in genes: \n",
    "    testzfx = gtf_xy[gtf_xy['gene_name'] == gene] \n",
    "    exons = testzfx[testzfx['Feature'] == \"CDS\"]\n",
    "    \n",
    "    exons = exons.sort_values(['Chromosome', 'Start', 'End']) #sort values start to end \n",
    "    grouped_exons = exons.groupby('transcript_id')\n",
    "    print(grouped_exons)\n",
    "    for name, group in grouped_exons:\n",
    "      #  print(name)\n",
    "        for i in range(1, len(group)):\n",
    "            intron_start = group.iloc[i-1][4] \n",
    "            intron_end = group.iloc[i][3] \n",
    "            \n",
    "            if (intron_end - intron_start > 200) & (intron_end > intron_start): \n",
    "                intron_start = intron_start + 100\n",
    "                intron_end = intron_end - 100\n",
    "            else:\n",
    "                continue\n",
    "        # Check for overlap with exons of any transcripts \n",
    "            #get rid of any grouped exon \n",
    "            if (group.iloc[i-1][24] == '1') | (group.iloc[i][24] == '1'): \n",
    "                print('FIRST', intron_start, intron_end)\n",
    "                continue\n",
    "            \n",
    "            if intron_overlapping(exons, intron_start, intron_end):                 \n",
    "                print(\"HERE\", intron_start, intron_end) \n",
    "                continue\n",
    "            \n",
    "            else:\n",
    "                print(\"adding\", intron_start, intron_end) \n",
    "                new_row = pd.Series({'seqname': testzfx['Chromosome'].iloc[0], 'feature': 'intron', 'start': intron_start, 'end':intron_end, 'gene_name':gene}) \n",
    "                intron_coordinates = intron_coordinates.append(new_row, ignore_index=True) \n",
    "                "
   ]
  },
  {
   "cell_type": "code",
   "execution_count": 20,
   "id": "fb2db4d1-b3c9-4b0a-a021-1d201131fbe5",
   "metadata": {
    "tags": []
   },
   "outputs": [
    {
     "data": {
      "text/html": [
       "<div>\n",
       "<style scoped>\n",
       "    .dataframe tbody tr th:only-of-type {\n",
       "        vertical-align: middle;\n",
       "    }\n",
       "\n",
       "    .dataframe tbody tr th {\n",
       "        vertical-align: top;\n",
       "    }\n",
       "\n",
       "    .dataframe thead th {\n",
       "        text-align: right;\n",
       "    }\n",
       "</style>\n",
       "<table border=\"1\" class=\"dataframe\">\n",
       "  <thead>\n",
       "    <tr style=\"text-align: right;\">\n",
       "      <th></th>\n",
       "      <th>seqname</th>\n",
       "      <th>feature</th>\n",
       "      <th>start</th>\n",
       "      <th>end</th>\n",
       "      <th>gene_name</th>\n",
       "    </tr>\n",
       "  </thead>\n",
       "  <tbody>\n",
       "    <tr>\n",
       "      <th>2813677</th>\n",
       "      <td>chrX</td>\n",
       "      <td>CDS</td>\n",
       "      <td>41334252</td>\n",
       "      <td>41334297</td>\n",
       "      <td>DDX3X</td>\n",
       "    </tr>\n",
       "    <tr>\n",
       "      <th>2813680</th>\n",
       "      <td>chrX</td>\n",
       "      <td>CDS</td>\n",
       "      <td>41337407</td>\n",
       "      <td>41337465</td>\n",
       "      <td>DDX3X</td>\n",
       "    </tr>\n",
       "    <tr>\n",
       "      <th>2813682</th>\n",
       "      <td>chrX</td>\n",
       "      <td>CDS</td>\n",
       "      <td>41339035</td>\n",
       "      <td>41339083</td>\n",
       "      <td>DDX3X</td>\n",
       "    </tr>\n",
       "    <tr>\n",
       "      <th>2813684</th>\n",
       "      <td>chrX</td>\n",
       "      <td>CDS</td>\n",
       "      <td>41341483</td>\n",
       "      <td>41341616</td>\n",
       "      <td>DDX3X</td>\n",
       "    </tr>\n",
       "    <tr>\n",
       "      <th>2813686</th>\n",
       "      <td>chrX</td>\n",
       "      <td>CDS</td>\n",
       "      <td>41342494</td>\n",
       "      <td>41342653</td>\n",
       "      <td>DDX3X</td>\n",
       "    </tr>\n",
       "    <tr>\n",
       "      <th>...</th>\n",
       "      <td>...</td>\n",
       "      <td>...</td>\n",
       "      <td>...</td>\n",
       "      <td>...</td>\n",
       "      <td>...</td>\n",
       "    </tr>\n",
       "    <tr>\n",
       "      <th>2815274</th>\n",
       "      <td>chrX</td>\n",
       "      <td>CDS</td>\n",
       "      <td>41346319</td>\n",
       "      <td>41346410</td>\n",
       "      <td>DDX3X</td>\n",
       "    </tr>\n",
       "    <tr>\n",
       "      <th>2815276</th>\n",
       "      <td>chrX</td>\n",
       "      <td>CDS</td>\n",
       "      <td>41346504</td>\n",
       "      <td>41346622</td>\n",
       "      <td>DDX3X</td>\n",
       "    </tr>\n",
       "    <tr>\n",
       "      <th>2815278</th>\n",
       "      <td>chrX</td>\n",
       "      <td>CDS</td>\n",
       "      <td>41346858</td>\n",
       "      <td>41347012</td>\n",
       "      <td>DDX3X</td>\n",
       "    </tr>\n",
       "    <tr>\n",
       "      <th>2815280</th>\n",
       "      <td>chrX</td>\n",
       "      <td>CDS</td>\n",
       "      <td>41347311</td>\n",
       "      <td>41347451</td>\n",
       "      <td>DDX3X</td>\n",
       "    </tr>\n",
       "    <tr>\n",
       "      <th>2815282</th>\n",
       "      <td>chrX</td>\n",
       "      <td>CDS</td>\n",
       "      <td>41347859</td>\n",
       "      <td>41347921</td>\n",
       "      <td>DDX3X</td>\n",
       "    </tr>\n",
       "  </tbody>\n",
       "</table>\n",
       "<p>445 rows × 5 columns</p>\n",
       "</div>"
      ],
      "text/plain": [
       "        seqname feature     start       end gene_name\n",
       "2813677    chrX     CDS  41334252  41334297     DDX3X\n",
       "2813680    chrX     CDS  41337407  41337465     DDX3X\n",
       "2813682    chrX     CDS  41339035  41339083     DDX3X\n",
       "2813684    chrX     CDS  41341483  41341616     DDX3X\n",
       "2813686    chrX     CDS  41342494  41342653     DDX3X\n",
       "...         ...     ...       ...       ...       ...\n",
       "2815274    chrX     CDS  41346319  41346410     DDX3X\n",
       "2815276    chrX     CDS  41346504  41346622     DDX3X\n",
       "2815278    chrX     CDS  41346858  41347012     DDX3X\n",
       "2815280    chrX     CDS  41347311  41347451     DDX3X\n",
       "2815282    chrX     CDS  41347859  41347921     DDX3X\n",
       "\n",
       "[445 rows x 5 columns]"
      ]
     },
     "execution_count": 20,
     "metadata": {},
     "output_type": "execute_result"
    }
   ],
   "source": [
    "gtf_small = gtf_xy[['Chromosome', 'Feature', 'Start', 'End', 'gene_name']] \n",
    "gtf_small = gtf_small.rename(columns={\"Chromosome\": \"seqname\", \"Feature\": \"feature\", \"Start\":\"start\", \"End\": \"end\", \"gene_name\": \"gene_name\"}) #(\"seqname\", \"feature\", \"start\", \"end\", \"gene_name\")\n",
    "gtf_small[gtf_small['gene_name'] == 'DDX3X']"
   ]
  },
  {
   "cell_type": "code",
   "execution_count": 21,
   "id": "a6b4e604-94ee-4ab7-9bc0-0dde5e82cbc5",
   "metadata": {
    "tags": []
   },
   "outputs": [],
   "source": [
    "vertically_concatenated = pd.concat([gtf_small, intron_coordinates], axis=0) \n",
    "vertically_concatenated = vertically_concatenated[(vertically_concatenated['feature'] == \"CDS\") | (vertically_concatenated['feature'] == \"intron\") | ((vertically_concatenated['feature'] == 'exon') )]"
   ]
  },
  {
   "cell_type": "code",
   "execution_count": 4,
   "id": "23b375aa-8926-4075-8826-dd0d2df36205",
   "metadata": {
    "tags": []
   },
   "outputs": [
    {
     "ename": "NameError",
     "evalue": "name 'vertically_concatenated' is not defined",
     "output_type": "error",
     "traceback": [
      "\u001b[0;31m---------------------------------------------------------------------------\u001b[0m",
      "\u001b[0;31mNameError\u001b[0m                                 Traceback (most recent call last)",
      "Cell \u001b[0;32mIn[4], line 1\u001b[0m\n\u001b[0;32m----> 1\u001b[0m \u001b[43mvertically_concatenated\u001b[49m[\u001b[38;5;124m'\u001b[39m\u001b[38;5;124mfeature\u001b[39m\u001b[38;5;124m'\u001b[39m]\u001b[38;5;241m.\u001b[39munique()\n\u001b[1;32m      2\u001b[0m vertically_concatenated\u001b[38;5;241m.\u001b[39mto_csv(myPath \u001b[38;5;241m+\u001b[39m \u001b[38;5;124m\"\u001b[39m\u001b[38;5;124mXY_gtf_w_introns_012924.txt\u001b[39m\u001b[38;5;124m\"\u001b[39m,  index\u001b[38;5;241m=\u001b[39m\u001b[38;5;28;01mNone\u001b[39;00m, sep\u001b[38;5;241m=\u001b[39m\u001b[38;5;28mstr\u001b[39m(\u001b[38;5;124m'\u001b[39m\u001b[38;5;130;01m\\t\u001b[39;00m\u001b[38;5;124m'\u001b[39m))\n",
      "\u001b[0;31mNameError\u001b[0m: name 'vertically_concatenated' is not defined"
     ]
    }
   ],
   "source": [
    "vertically_concatenated['feature'].unique()\n",
    "vertically_concatenated.to_csv(myPath + \"/tables/\" + \"XY_gtf_w_introns_012924.txt\",  index=None, sep=str('\\t'))"
   ]
  }
 ],
 "metadata": {
  "kernelspec": {
   "display_name": "Python 3",
   "language": "python",
   "name": "python3"
  },
  "language_info": {
   "codemirror_mode": {
    "name": "ipython",
    "version": 3
   },
   "file_extension": ".py",
   "mimetype": "text/x-python",
   "name": "python",
   "nbconvert_exporter": "python",
   "pygments_lexer": "ipython3",
   "version": "3.8.10"
  }
 },
 "nbformat": 4,
 "nbformat_minor": 5
}
