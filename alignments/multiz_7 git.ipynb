{
 "cells": [
  {
   "cell_type": "code",
   "execution_count": 88,
   "id": "b28695f7-c04b-4159-bda9-b4778069cd05",
   "metadata": {
    "tags": []
   },
   "outputs": [],
   "source": [
    "import os\n",
    "import subprocess\n",
    "import Bio\n",
    "from Bio import SeqIO \n",
    "from Bio import AlignIO\n",
    "from Bio.Align import MultipleSeqAlignment\n",
    "import glob\n",
    "from Bio import SeqRecord\n",
    "import pandas as pd\n",
    "import genomicranges as gr\n",
    "from Bio.Seq import Seq\n",
    "import pyranges as pr\n",
    "from Bio import AlignIO, SeqIO"
   ]
  },
  {
   "cell_type": "code",
   "execution_count": 2,
   "id": "5c4eaca1-4365-4261-bc7d-08aa9992220a",
   "metadata": {
    "tags": []
   },
   "outputs": [],
   "source": [
    "def make_sbatch_file(filename):\n",
    "    \n",
    "    my_list = [\"#!/bin/bash\", \n",
    "               \"#SBATCH --job-name=all_bz\", \n",
    "               \"#SBATCH --nodes=1\",  \n",
    "               \"#SBATCH --ntasks=1\",                     \n",
    "               \"#SBATCH --cpus-per-task=10\",              \n",
    "               \"#SBATCH --mem=20gb\",                    \n",
    "               \"#SBATCH --partition=20\",                \n",
    "               \"##SBATCH --output all_bz-%j.out\",  \n",
    "               \"#SBATCH --mail-type=ALL\",               \n",
    "               \"#SBATCH --mail-user=hlharris@wi.mit.edu\"] \n",
    "    \n",
    "    with open(filename, \"w\") as file: \n",
    "        for item in my_list:\n",
    "            file.write(item + '\\n') \n",
    "    \n",
    "def calc_zeros(alignment): \n",
    "    count = 0 \n",
    "    return [0 if base == \"-\" else (count := count + 1) for base in alignment[0]]\n",
    "\n",
    "\n",
    "def crop_alignment(start, end, alignment):\n",
    "        \n",
    "    zeros_seq = calc_zeros(alignment)\n",
    "    #print(zeros_seq) #MIGHT NEED TO SUBTRACT 1 FROM EACH \n",
    "    try:\n",
    "        ix_start = zeros_seq.index(start)\n",
    "        #print(ix_start)\n",
    "        ix_end = zeros_seq.index(end) #pretty elegant\n",
    "        #print(ix_end)\n",
    "        cropped_alignment = alignment[:, ix_start:ix_end]\n",
    "        return cropped_alignment\n",
    "    except: \n",
    "        return None\n",
    "    \n",
    "    \n",
    "def concat_alignment(gtf_file, alignment):\n",
    "   # print(alignment)\n",
    "    complete_align_type = MultipleSeqAlignment([]) \n",
    "    #add the groups to complete align: \n",
    "    for recordix in range(len(alignment)): \n",
    "        #new_record = SeqRecord.SeqRecord(\"\") \n",
    "        new_record = SeqRecord(\"\")\n",
    "        new_record.id = alignment[recordix].id \n",
    "        new_record.seq = Seq(\"\") #added this \n",
    "\n",
    "        complete_align_type.append(new_record)\n",
    "    \n",
    "   # print(complete_align_type)\n",
    "    for index, row in gtf_file.iterrows():     \n",
    "        crop_align = crop_alignment(row[3], row[4], alignment)\n",
    "        #print(crop_align)\n",
    "        if crop_align is not None: \n",
    "            for recordix in range(len(crop_align)): \n",
    "                complete_align_type[recordix].seq += crop_align[recordix].seq #append additional sequence\n",
    "        \n",
    "    return complete_align_type"
   ]
  },
  {
   "cell_type": "code",
   "execution_count": 3,
   "id": "c1ead641-c827-4bc3-a4c9-1c17314b13ac",
   "metadata": {
    "tags": []
   },
   "outputs": [
    {
     "ename": "NameError",
     "evalue": "name 'os' is not defined",
     "output_type": "error",
     "traceback": [
      "\u001b[0;31m---------------------------------------------------------------------------\u001b[0m",
      "\u001b[0;31mNameError\u001b[0m                                 Traceback (most recent call last)",
      "Cell \u001b[0;32mIn[3], line 6\u001b[0m\n\u001b[1;32m      3\u001b[0m genes \u001b[38;5;241m=\u001b[39m [\u001b[38;5;124m\"\u001b[39m\u001b[38;5;124mEIF1AX\u001b[39m\u001b[38;5;124m\"\u001b[39m, \u001b[38;5;124m\"\u001b[39m\u001b[38;5;124mEIF1AY\u001b[39m\u001b[38;5;124m\"\u001b[39m, \u001b[38;5;124m\"\u001b[39m\u001b[38;5;124mKDM5D\u001b[39m\u001b[38;5;124m\"\u001b[39m , \u001b[38;5;124m\"\u001b[39m\u001b[38;5;124mKDM5C\u001b[39m\u001b[38;5;124m\"\u001b[39m,\u001b[38;5;124m\"\u001b[39m\u001b[38;5;124mUTY\u001b[39m\u001b[38;5;124m\"\u001b[39m, \u001b[38;5;124m\"\u001b[39m\u001b[38;5;124mKDM6A\u001b[39m\u001b[38;5;124m\"\u001b[39m, \u001b[38;5;124m\"\u001b[39m\u001b[38;5;124mZFY\u001b[39m\u001b[38;5;124m\"\u001b[39m, \u001b[38;5;124m\"\u001b[39m\u001b[38;5;124mZFX\u001b[39m\u001b[38;5;124m\"\u001b[39m, \u001b[38;5;124m\"\u001b[39m\u001b[38;5;124mDDX3Y\u001b[39m\u001b[38;5;124m\"\u001b[39m ,\u001b[38;5;124m\"\u001b[39m\u001b[38;5;124mDDX3X\u001b[39m\u001b[38;5;124m\"\u001b[39m, \u001b[38;5;124m\"\u001b[39m\u001b[38;5;124mUSP9Y\u001b[39m\u001b[38;5;124m\"\u001b[39m , \u001b[38;5;124m\"\u001b[39m\u001b[38;5;124mUSP9X\u001b[39m\u001b[38;5;124m\"\u001b[39m, \u001b[38;5;124m\"\u001b[39m\u001b[38;5;124mRPS4Y1\u001b[39m\u001b[38;5;124m\"\u001b[39m, \u001b[38;5;124m\"\u001b[39m\u001b[38;5;124mRPS4X\u001b[39m\u001b[38;5;124m\"\u001b[39m] \n\u001b[1;32m      5\u001b[0m \u001b[38;5;28;01mfor\u001b[39;00m gene \u001b[38;5;129;01min\u001b[39;00m genes: \n\u001b[0;32m----> 6\u001b[0m     \u001b[43mos\u001b[49m\u001b[38;5;241m.\u001b[39mchdir(myPath \u001b[38;5;241m+\u001b[39m \u001b[38;5;124m\"\u001b[39m\u001b[38;5;124m/sequences/primates/\u001b[39m\u001b[38;5;124m\"\u001b[39m ) \n\u001b[1;32m      7\u001b[0m     subprocess\u001b[38;5;241m.\u001b[39mrun([\u001b[38;5;124m'\u001b[39m\u001b[38;5;124mmkdir\u001b[39m\u001b[38;5;124m'\u001b[39m, gene],  stderr\u001b[38;5;241m=\u001b[39msubprocess\u001b[38;5;241m.\u001b[39mPIPE) \n",
      "\u001b[0;31mNameError\u001b[0m: name 'os' is not defined"
     ]
    }
   ],
   "source": [
    "#make directory for all the primate sequences \n",
    "\n",
    "genes = [\"EIF1AX\", \"EIF1AY\", \"KDM5D\" , \"KDM5C\",\"UTY\", \"KDM6A\", \"ZFY\", \"ZFX\", \"DDX3Y\" ,\"DDX3X\", \"USP9Y\" , \"USP9X\", \"RPS4Y1\", \"RPS4X\"] \n",
    "\n",
    "for gene in genes: \n",
    "    os.chdir(myPath + \"/sequences/primates/\" ) \n",
    "    subprocess.run(['mkdir', gene],  stderr=subprocess.PIPE) \n",
    "    \n"
   ]
  },
  {
   "cell_type": "code",
   "execution_count": null,
   "id": "935e8e2f-d239-4661-a7eb-41a7c44206dd",
   "metadata": {},
   "outputs": [],
   "source": []
  },
  {
   "cell_type": "code",
   "execution_count": 13,
   "id": "3b67ba55-2821-4cea-a487-12d533ae9f72",
   "metadata": {},
   "outputs": [
    {
     "data": {
      "text/plain": [
       "1"
      ]
     },
     "execution_count": 13,
     "metadata": {},
     "output_type": "execute_result"
    }
   ],
   "source": [
    "#saving dictionary for pileated gibbon \n",
    "dicty = SeqIO.to_dict(SeqIO.parse('/lab/page_scratch/hannah/pileatedgibbon/' + \"genomic\", format = \"fasta\")) \n",
    "\n",
    "fasta_file = dicty['LG04']     \n",
    "SeqIO.write(fasta_file, '/lab/page_scratch/hannah/pileatedgibbon/LGO4.fa', 'fasta') \n",
    "\n",
    "fasta_file = dicty['chrY_decollapsed']     \n",
    "SeqIO.write(fasta_file, '/lab/page_scratch/hannah/pileatedgibbon/chrY.fa', 'fasta') \n",
    "\n",
    "fasta_file = dicty['chrX']     \n",
    "SeqIO.write(fasta_file, '/lab/page_scratch/hannah/pileatedgibbon/chrX.fa', 'fasta')"
   ]
  },
  {
   "cell_type": "code",
   "execution_count": null,
   "id": "cdec7b14-3f4f-4d6f-a753-e8b6154e6084",
   "metadata": {
    "tags": []
   },
   "outputs": [],
   "source": [
    "#once the files are downloaded for each animal/chromosome \n",
    "\n",
    "x_genes = [\"EIF1AX\",  \"KDM5C\", \"KDM6A\", \"ZFX\",  \"DDX3X\",  \"USP9X\",  \"RPS4X\"] \n",
    "genes = [\"EIF1AX\", \"EIF1AY\", \"KDM5D\" , \"KDM5C\",\"UTY\", \"KDM6A\", \"ZFY\", \"ZFX\", \"DDX3Y\" ,\"DDX3X\", \"USP9Y\" , \"USP9X\", \"RPS4Y1\", \"RPS4X\"] \n",
    "species = [\"gorilla\",  \"orangutan\", \"pileatedgibbon\"]  \n",
    "\n",
    "\n",
    "seq_df = pd.read_csv(myPath + '/tables/sequence_gorilla_orang.csv', delimiter=\"\\t\" ) #to get coordinates, blasted human sequence to these genomes\n",
    "\n",
    "for animal in species: \n",
    "    \n",
    "    directory = \"/lab/page_scratch/hannah/\" + animal + \"/\" #replace location where genomes are \n",
    "    for gene in genes: \n",
    "\n",
    "        seq_df1 = seq_df[seq_df['gene_name'] == gene] \n",
    "        seq_df2 = seq_df1[seq_df1['animalz'] == animal]\n",
    "       \n",
    "        start = int(seq_df2['start']) \n",
    "        \n",
    "        end =   int(seq_df2['end']) \n",
    "        \n",
    "        if gene in x_genes:\n",
    "            fasta_file = SeqIO.read(directory + \"chrX.fa\", \"fasta\") \n",
    "        else: \n",
    "            fasta_file = SeqIO.read(directory + \"chrY.fa\", \"fasta\")\n",
    "        \n",
    "        fasta_seq = fasta_file.seq\n",
    "        \n",
    "        os.chdir(myPath + '/sequences/primates/' + gene)\n",
    "               \n",
    "        sliced_sequence = fasta_seq[start:end]\n",
    "        records = [SeqIO.SeqRecord(sliced_sequence, id=animal)] \n",
    "        SeqIO.write(records, animal, 'fasta') \n",
    "        "
   ]
  },
  {
   "cell_type": "code",
   "execution_count": 74,
   "id": "dacf0cab-8233-4d4e-9398-a9ac737f83a1",
   "metadata": {},
   "outputs": [],
   "source": [
    "#take the region alignments, and remove any region with gaps_rename *filtered*"
   ]
  },
  {
   "cell_type": "code",
   "execution_count": null,
   "id": "3ff75a03-4c81-4216-88e5-f4fb006f2bdb",
   "metadata": {
    "tags": []
   },
   "outputs": [],
   "source": [
    "#repeat mask all files for each species masking primate repeats (hard mask) \n",
    "#resubmit for alignment - rename everything with 'masked' \n",
    "\n",
    "genes = [\"EIF1AX\", \"EIF1AY\", \"KDM5D\" , \"KDM5C\",\"UTY\", \"KDM6A\", \"ZFY\", \"ZFX\", \"DDX3Y\" ,\"DDX3X\", \"USP9Y\" , \"USP9X\", \"RPS4Y1\", \"RPS4X\"] \n",
    "species = [\"human\"] #, \"chimp\", \"mac\", \"marm\",\"gorilla\",  \"orangutan\", \"pileatedgibbon\", \"lemur\", \"loris\"]  \n",
    "\n",
    "os.chdir(myPath + '/sequences/primates/')\n",
    "\n",
    "with open(\"repeat_mask_commands1.py\", \"a\") as file: \n",
    "    file.write('import os' + ' \\n')\n",
    "    file.write('import subprocess' + ' \\n') \n",
    "\n",
    "    for gene in genes:\n",
    "     \n",
    "        file.write('os.chdir(' + myPath + '\"/sequences/primates/' + gene + '\")'  + ' \\n')\n",
    "        \n",
    "        for specy in species:\n",
    "            \n",
    "            file.write('subprocess.run([\"RepeatMasker\", \"-noint\", \"-species\", \"primates\", \"' + specy + '\"''],  stderr=subprocess.PIPE)' + ' \\n')\n",
    "            \n",
    "            \n",
    "make_sbatch_file(\"run_masker1.sh\") \n",
    "\n",
    "with open(\"run_masker1.sh\", \"a\") as file: \n",
    "    print('here')\n",
    "    file.write('python repeat_mask_commands1.py') \n",
    "\n"
   ]
  },
  {
   "cell_type": "markdown",
   "id": "b2021448-726c-4189-b889-2dd793d5fe8c",
   "metadata": {
    "tags": []
   },
   "source": [
    "## Run alignment "
   ]
  },
  {
   "cell_type": "code",
   "execution_count": null,
   "id": "17844090-ac9c-4ef7-85ca-ca4769d20a48",
   "metadata": {},
   "outputs": [],
   "source": [
    "#after masking step is done -- repeat alignments with everything labelled 'masked'\n",
    "\n",
    "genes = [\"EIF1AX\", \"EIF1AY\", \"KDM5D\" , \"KDM5C\",\"UTY\", \"KDM6A\", \"ZFY\", \"ZFX\", \"DDX3Y\" ,\"DDX3X\", \"USP9Y\" , \"USP9X\", \"RPS4Y1\", \"RPS4X\"] \n",
    "\n",
    "species_dict = {0:\"humanmasked\", 1:\"chimp\", 2: \"mac\", 3: \"marm\"} \n",
    "\n",
    "files_generated = [] \n",
    "\n",
    "for gene in genes:\n",
    "\n",
    "    records = list(SeqIO.parse(myPath + '/sequences/' + gene + \".fa\", \"fasta\"))\n",
    "    \n",
    "    \n",
    "    #set the trees for input \n",
    "    if len(records) == 3: \n",
    "        tree = '((((((humanmasked chimp) gorilla) orangutan) pileatedgibbon) mac) lemur loris)'\n",
    "    else: \n",
    "        tree = '((((((humanmasked chimp) gorilla) orangutan) pileatedgibbon) mac marm) lemur loris)'\n",
    "    \n",
    "    #make a new directory for each gene: \n",
    "    os.chdir(myPath + '/sequences/primates/'+ gene)\n",
    "\n",
    "    \n",
    "    subprocess.run([\"cp\", \"human.masked\", \"humanmasked\"])\n",
    "\n",
    "    subprocess.run([\"touch\", \"all_bz_masked.log\"])  #making a new file \n",
    "    \n",
    "    with open(\"all_bz_masked.log\", \"w\") as log_file:\n",
    "        result = subprocess.run(['all_bz', '-', tree], stdout=log_file, stderr=subprocess.PIPE, check=True)\n",
    "        \n",
    "    make_sbatch_file(\"testj1_masked.sh\") #make sbatch file - it makes a new one each time through so you dont have to delete the old one \n",
    "    print(gene) \n",
    "    with open(\"testj1_masked.sh\", \"a\") as file: #append to the file \n",
    "        file.write(\"bash \") \n",
    "        file.write(\"all_bz_masked.log\" + \"\\n\")\n",
    "        file.write(\"tba '\" + tree + \"' *.*.maf tba.maf >&tba.log\" + \"\\n\") \n",
    "        file.write(\"maf_project tba.maf humanmasked '\" + tree + \"' > humanmasked_proj.maf\" + \"\\n\") \n",
    "        file.write(\"msa_view -o FASTA humanmasked_proj.maf > \" + gene + \"_msamasked.fa\")\n",
    "        \n",
    "    subprocess.run([\"sbatch\", 'testj1_masked.sh'], stderr=subprocess.PIPE)\n",
    "    \n",
    "    files_generated = [] \n",
    "    os.chdir(myPath + '/sequences/primates/')  "
   ]
  }
 ],
 "metadata": {
  "kernelspec": {
   "display_name": "Python 3",
   "language": "python",
   "name": "python3"
  },
  "language_info": {
   "codemirror_mode": {
    "name": "ipython",
    "version": 3
   },
   "file_extension": ".py",
   "mimetype": "text/x-python",
   "name": "python",
   "nbconvert_exporter": "python",
   "pygments_lexer": "ipython3",
   "version": "3.8.10"
  }
 },
 "nbformat": 4,
 "nbformat_minor": 5
}
