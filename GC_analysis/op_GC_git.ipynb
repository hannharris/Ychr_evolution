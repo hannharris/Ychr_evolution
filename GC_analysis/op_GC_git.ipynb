{
 "cells": [
  {
   "cell_type": "code",
   "execution_count": 17,
   "id": "f00296b7-8212-4dc3-8d8d-420c8ecdb3fb",
   "metadata": {
    "tags": []
   },
   "outputs": [],
   "source": [
    "import os\n",
    "import subprocess\n",
    "import Bio\n",
    "from Bio import SeqIO \n",
    "from Bio import AlignIO\n",
    "from Bio.Align import MultipleSeqAlignment\n",
    "import glob\n",
    "from Bio import SeqRecord\n",
    "import pandas as pd\n",
    "####pip install genomicranges #this worked \n",
    "import genomicranges as gr\n",
    "from Bio.Seq import Seq\n",
    "####from Bio.SeqRecord import SeqRecord \n",
    "import pyranges as pr\n",
    "from Bio import AlignIO, SeqIO"
   ]
  },
  {
   "cell_type": "code",
   "execution_count": 18,
   "id": "d5a33a41-0d42-46e0-bed9-65c0983d8d12",
   "metadata": {
    "tags": []
   },
   "outputs": [
    {
     "name": "stdout",
     "output_type": "stream",
     "text": [
      "DDX3X\n",
      "EIF1AX\n",
      "KDM6A\n",
      "RPS4X\n",
      "ZFX\n",
      "USP9X\n",
      "KDM5C\n"
     ]
    }
   ],
   "source": [
    "g = []\n",
    "gc = []\n",
    "speci = []\n",
    "\n",
    "genes = ['DDX3X', 'EIF1AX', 'KDM6A', 'RPS4X', 'ZFX', 'USP9X', 'KDM5C']\n",
    "\n",
    "for gene in genes: \n",
    "    print(gene)\n",
    "    records = SeqIO.read(myPath + \"/sequences/opossum/\" + 'op_' + gene,  \"fasta\")\n",
    "    human_seq = str(records.seq)\n",
    "            \n",
    "    h_gc = ((human_seq.count('G') + human_seq.count('C')) / (human_seq.count('G') + human_seq.count('C') + human_seq.count('A') + human_seq.count('T'))) *100\n",
    "            \n",
    "    gc.append(h_gc)\n",
    "    g.append(gene)\n",
    "    speci.append('opossum')\n",
    "    "
   ]
  },
  {
   "cell_type": "code",
   "execution_count": 19,
   "id": "12a6e59e-6ab5-465b-8f59-e6bb26ffe66f",
   "metadata": {
    "tags": []
   },
   "outputs": [],
   "source": [
    "df = pd.DataFrame((list(zip(g,gc,speci))), columns = ['gene', 'gc', 'species']) "
   ]
  },
  {
   "cell_type": "code",
   "execution_count": null,
   "id": "43b690c0-f97a-4bbb-a71a-62dd39e539d2",
   "metadata": {
    "tags": []
   },
   "outputs": [],
   "source": [
    "df"
   ]
  },
  {
   "cell_type": "code",
   "execution_count": 21,
   "id": "5ff2253a-041a-4a79-aedf-0dd18bf99fa3",
   "metadata": {},
   "outputs": [],
   "source": [
    "df.to_csv(myPath + '/tables/opossum_gc.txt', index=False)"
   ]
  }
 ],
 "metadata": {
  "kernelspec": {
   "display_name": "Python 3",
   "language": "python",
   "name": "python3"
  },
  "language_info": {
   "codemirror_mode": {
    "name": "ipython",
    "version": 3
   },
   "file_extension": ".py",
   "mimetype": "text/x-python",
   "name": "python",
   "nbconvert_exporter": "python",
   "pygments_lexer": "ipython3",
   "version": "3.8.10"
  }
 },
 "nbformat": 4,
 "nbformat_minor": 5
}
