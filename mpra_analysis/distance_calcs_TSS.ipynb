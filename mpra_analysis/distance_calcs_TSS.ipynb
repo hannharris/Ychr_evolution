{
 "cells": [
  {
   "cell_type": "code",
   "execution_count": 2,
   "id": "0fd33463-448a-4e87-a264-d40015991725",
   "metadata": {
    "tags": []
   },
   "outputs": [],
   "source": [
    "#!/usr/bin/env python3\n",
    "# -*- coding: utf-8 -*-\n",
    "\"\"\"\n",
    "Created on Fri Jul  8 14:53:57 2022\n",
    "\n",
    "@author: hannahharris\n",
    "\"\"\"\n",
    "\n",
    "import pandas as pd\n",
    "import matplotlib as plt\n",
    "import matplotlib.pyplot as plt\n",
    "import copy\n",
    "from gtfparse import read_gtf\n",
    "\n",
    "#dictionary with gene and then a SET of the start sites \n",
    "#negative or positive\n",
    "import os\n",
    "os.getcwd()\n",
    "#os.chdir('/Users/hannahharris/Documents/996355730663085184-web-restore_2/Documents/') \n",
    "\n",
    "def get_all_comps(transcript_coords): \n",
    "    '''\n",
    "    #https://stackoverflow.com/questions/65181109/recursively-find-all-combinations-of-list \n",
    "    takes in a list of anything (transcripts, starts)\n",
    "    returns a list of all the comparisons  \n",
    "    '''\n",
    "    if not transcript_coords:\n",
    "       return [[]]\n",
    "    else:\n",
    "        all_comps = get_all_comps(transcript_coords[:-1])\n",
    "        all_comps_1 = all_comps + [c + [transcript_coords[-1]] for c in all_comps]\n",
    "        return all_comps_1 \n",
    "    \n",
    "def get_right_length_comps(all_comps):\n",
    "    '''\n",
    "    '''    \n",
    "    return [x for x in all_comps if len(x) == 2]\n",
    "\n",
    "\n",
    "def get_all_starts(table):\n",
    "    '''\n",
    "    take a table (gtf like  format)\n",
    "    returns dictionnary of genes, starts, and transcripts\n",
    "    '''\n",
    "    gene_dict = {}\n",
    "    for row in range(len(table)):\n",
    "        #print(table['strand'].iloc[row])\n",
    "        try:\n",
    "            gene_dict[table['gene_name'].iloc[row]][1].add(table['transcript_id'].iloc[row])\n",
    "\n",
    "            if table['strand'].iloc[row] == '-':\n",
    "                gene_dict[table['gene_name'].iloc[row]][0].add(table['end'].iloc[row])\n",
    "\n",
    "            else:\n",
    "                gene_dict[table['gene_name'].iloc[row]][0].add(table['start'].iloc[row])\n",
    "        except KeyError:\n",
    "            if table['strand'].iloc[row] == '-':\n",
    "                gene_dict[table['gene_name'].iloc[row]] = ({table['end'].iloc[row]}, {table['transcript_id'].iloc[row]})\n",
    "            else:\n",
    "                gene_dict[table['gene_name'].iloc[row]] = ({table['start'].iloc[row]}, {table['transcript_id'].iloc[row]})\n",
    "             \n",
    "    return gene_dict\n",
    "\n",
    "\n",
    "def all_transcripts(gene_dict):\n",
    "    '''\n",
    "    '''\n",
    "    new_dict={}\n",
    "    for key, value in gene_dict.items():\n",
    "        #this filter subsets it to genes with only one TSS\n",
    "        if len(value[1])  > 1:\n",
    "            new_dict[key] = value\n",
    "    \n",
    "    return new_dict\n",
    "        \n",
    "\n",
    "def make_df_starts(new_dict):\n",
    "    '''\n",
    "    takes a dictionary and generates a df of starts with num_start \n",
    "    '''\n",
    "    #so compare to the set dict of ensembl transcripts \n",
    "    start_end_to_index_dict = {} # want to have the start/end coord and also the index number \n",
    "    \n",
    "    ens_ids = []\n",
    "    TSS_number_list  = []\n",
    "    gene = []\n",
    "    ix = 0\n",
    "    for key, values in new_dict.items():\n",
    "        TSS_number = 1\n",
    "        for value in values[0]:\n",
    "            new_df = ercc_new[ercc['gene_name']  == key]\n",
    "            for row in range(len(new_df)):\n",
    "                if new_df['start'].iloc[row]  == value:\n",
    "                    ix +=1\n",
    "                    ens_ids.append(new_df['transcript_id'].iloc[row])\n",
    "                    TSS_number_list.append(TSS_number)\n",
    "                    gene.append(key)\n",
    "                elif new_df['end'].iloc[row]  == value: \n",
    "                    ix +=1\n",
    "                    ens_ids.append(new_df['transcript_id'].iloc[row])\n",
    "                    TSS_number_list.append(TSS_number)\n",
    "                    gene.append(key)\n",
    "            TSS_number += 1\n",
    "                    \n",

    "    zipped  = list(zip(ens_ids, TSS_number_list, gene))\n",
    "    df_zip = pd.DataFrame(zipped, columns = ['transcript_id', 'TSS', \"gene_name\"], dtype = str) \n",
    "    return df_zip\n",
    "\n",
    "\n",
    "def subset_ercc(ercc_new, filtering_list, gene_name = True):\n",
    "    '''\n",
    "    take in ERCC filters based on whether its in a list \n",
    "    '''\n",
    "    if gene_name:\n",
    "        test1 = ercc_new[ercc_new.gene_name.isin(filtering_list)]\n",
    "    else: \n",
    "        test1 = ercc_new[ercc_new.transcript_id.isin(filtering_list)]\n",
    "    \n",
    "    return test1\n",
    "    \n",
    "def get_coords_bed(bed):\n",
    "        \n",
    "        bed = bed[bed[0] ==  \"chrX\"] \n",
    "        v2_start = list(bed[1])\n",
    "        v3_end = list(bed[2])\n",
    "        zipped_bed = list(zip(v2_start,v3_end))\n",
    "        \n",
    "        return zipped_bed\n",
    "    \n",
    "def how_far_are_starts(diction, length_dist):\n",
    "        '''\n",
    "        #should take in a dictionary where each gene has more than one diff. start\n",
    "        make a dict wiht the genes and the starts as a tuple if the TSS is within 100 of each other \n",
    "        '''\n",
    "        #diction = {'EIF1AY': ({20575794, 20575725}, {'ENST00000382772', 'ENST00000361365'})}\n",
    "        #length_dist = 200\n",
    "        \n",
    "        new_dict = {}\n",
    "        \n",
    "        for key, value in diction.items():\n",
    "            #print(key,value, \"here\")\n",
    "            if len(value[0]) == 1:\n",
    "                new_dict[key] = value[0]\n",
    "                continue\n",
    "            \n",
    "            comps = get_right_length_comps(get_all_comps(list(diction[key][0])))\n",
    "            \n",
    "           \n",
    "            if len(comps) == 1:\n",
    "               # print(\"HERE BITCH\")\n",
    "                if abs(comps[0][0] - comps[0][1]) < length_dist:\n",
    "                #    print(\"ur dumb\")\n",
    "                    new_dict[key] =  {comps[0][1]}\n",
    "                continue\n",
    "                   \n",
    "\n",
    "            to_pop = []\n",
    "            for test in comps:\n",
    "                dist = abs(test[0] - test[1])\n",
    "                if dist < length_dist:\n",
    "                    to_pop.append(test)\n",
    "                \n",
    "            if to_pop:\n",
    "                \n",
    "                comp_1 = copy.deepcopy(comps)\n",
    "                for entry in to_pop:\n",
    "                    #print(entry)\n",
    "                    for option in comps:\n",
    "                    #    print(option)\n",
    "                        if entry == option: \n",
    "                            try:\n",
    "                                comp_1.remove(entry)\n",
    "                            except:\n",
    "                                next\n",
    "                        else: \n",
    "                            entry0 = entry[0]\n",
    "                            for num in option: \n",
    "                               # print(entry0,num, option)\n",
    "                                if num == entry0:\n",
    "                                #    print('here')\n",
    "                                    try:\n",
    "                                        comp_1.remove(option)\n",
    "                                    except:\n",
    "                                        next\n",
    "                starts = set()\n",
    "                for val in comp_1: \n",
    "                    starts.add(val[0])\n",
    "                    starts.add(val[1])\n",
    "            \n",
    "                new_dict[key] = starts\n",
    "                \n",
    "            else:\n",
    "                 new_dict[key] = value[0]\n",
    "                                \n",
    "        return(new_dict)\n",
    "        "
   ]
  },
  {
   "cell_type": "code",
   "execution_count": 90,
   "id": "3c5c0be9-93ff-482a-91bb-632812a5c0b4",
   "metadata": {},
   "outputs": [
    {
     "name": "stdout",
     "output_type": "stream",
     "text": [
      "       seqname   source     feature     start       end score strand frame  \\\n",
      "33436     chr6   HAVANA  transcript  73515750  73521018     .      -     .   \n",
      "33437     chr6  ENSEMBL  transcript  73515752  73521032     .      -     .   \n",
      "33438     chr6  ENSEMBL  transcript  73515752  73521032     .      -     .   \n",
      "33439     chr6   HAVANA  transcript  73517515  73521588     .      -     .   \n",
      "33440     chr6   HAVANA  transcript  73517521  73521721     .      -     .   \n",
      "...        ...      ...         ...       ...       ...   ...    ...   ...   \n",
      "100970    chrY   HAVANA  transcript  19705415  19744923     .      -     .   \n",
      "100971    chrY  ENSEMBL  transcript  19705417  19744939     .      -     .   \n",
      "100972    chrY   HAVANA  transcript  19705420  19744761     .      -     .   \n",
      "100979    chrY   HAVANA  transcript  20575725  20593154     .      +     .   \n",
      "100980    chrY   HAVANA  transcript  20575794  20592630     .      +     .   \n",
      "\n",
      "                gene_id gene_name       gene_type    transcript_id  \\\n",
      "33436   ENSG00000156508    EEF1A1  protein_coding  ENST00000316292   \n",
      "33437   ENSG00000156508    EEF1A1  protein_coding  ENST00000615060   \n",
      "33438   ENSG00000156508    EEF1A1  protein_coding  ENST00000610520   \n",
      "33439   ENSG00000156508    EEF1A1  protein_coding  ENST00000309268   \n",
      "33440   ENSG00000156508    EEF1A1  protein_coding  ENST00000331523   \n",
      "...                 ...       ...             ...              ...   \n",
      "100970  ENSG00000012817     KDM5D  protein_coding  ENST00000317961   \n",
      "100971  ENSG00000012817     KDM5D  protein_coding  ENST00000541639   \n",
      "100972  ENSG00000012817     KDM5D  protein_coding  ENST00000382806   \n",
      "100979  ENSG00000198692    EIF1AY  protein_coding  ENST00000361365   \n",
      "100980  ENSG00000198692    EIF1AY  protein_coding  ENST00000382772   \n",
      "\n",
      "       transcript_name transcript_type  \n",
      "33436       EEF1A1-001  protein_coding  \n",
      "33437       EEF1A1-202  protein_coding  \n",
      "33438       EEF1A1-201  protein_coding  \n",
      "33439       EEF1A1-009  protein_coding  \n",
      "33440       EEF1A1-004  protein_coding  \n",
      "...                ...             ...  \n",
      "100970       KDM5D-001  protein_coding  \n",
      "100971       KDM5D-201  protein_coding  \n",
      "100972       KDM5D-002  protein_coding  \n",
      "100979      EIF1AY-001  protein_coding  \n",
      "100980      EIF1AY-003  protein_coding  \n",
      "\n",
      "[84 rows x 14 columns]\n",
      "({12904881}, {'fantom'})\n",
      "{'EEF1A1': ({73521032, 73521721, 73521018, 73521588}, {'ENST00000331523', 'ENST00000610520', 'ENST00000309268', 'ENST00000615060', 'ENST00000316292'}), 'ACTB': ({5530709}, {'ENST00000331789'}), 'PRKX': ({3713608}, {'ENST00000262848'}), 'NLGN4X': ({6151458, 6227203, 6227847, 6228615, 6228863}, {'ENST00000381092', 'ENST00000538097', 'ENST00000275857', 'ENST00000381093', 'ENST00000381095'}), 'TMSB4X': ({12975244, 12975658, 12975108, 12975110}, {'ENST00000380636', 'ENST00000451311', 'ENST00000380635', 'ENST00000380633'}), 'TXLNG': ({16786432, 16786427}, {'ENST00000380122', 'ENST00000398155'}), 'EIF1AX': ({20141834}, {'fantom'}), 'ZFX': ({24149728}, {'fantom'}), 'USP9X': ({41085444}, {'fantom'}), 'DDX3X': ({41334161}, {'fantom'}), 'KDM6A': ({44873187}, {'fantom'}), 'KDM5C': ({53225206}, {'fantom'}), 'RPS4X': ({72277247}, {'fantom'}), 'RPS4Y1': ({2841601}, {'fantom'}), 'ZFY': ({2935380}, {'fantom'}), 'PRKY': ({7274313, 7273972}, {'ENST00000533551', 'ENST00000528056'}), 'USP9Y': ({12662352}, {'fantom'}), 'DDX3Y': ({12904881}, {'fantom'}), 'UTY': ({13479986}, {'fantom'}), 'TMSB4Y': ({13703899}, {'mine'}), 'NLGN4Y': ({14522752, 14523746, 14622021, 14524574}, {'ENST00000382872', 'ENST00000355905', 'ENST00000339174', 'ENST00000297967'}), 'TXLNGY': ({19567313, 19592450, 19567382}, {'ENST00000253320', 'ENST00000407724', 'ENST00000445715'}), 'KDM5D': ({19744725}, {'fantom'}), 'EIF1AY': ({20575775}, {'fantom'}), 'CMV': ({1}, {'mine'})}\n"
     ]
    }
   ],
   "source": [
    "if __name__ == \"__main__\":\n",
    "    ercc = pd.read_csv(\"annotation_with_ERCC.txt\",sep=' ')\n",
    "    #changed some gene names in here#\n",
    "    genes = [\"CMV\", \"EEF1A1\", \"ACTB\", \"TXLNG\", \"TXLNGY\", \"EIF1AX\", \"EIF1AY\", \"KDM5D\" , \"KDM5C\",\"UTY\", \"KDM6A\", \"ZFY\", \"ZFX\", \"DDX3Y\" ,\"DDX3X\", \"USP9Y\" , \"USP9X\", \"RPS4Y1\", \"RPS4X\", \"TMSB4X\", \"TMSB4Y\", \"PRKX\", \"PRKY\", \"NLGN4X\", \"NLGN4Y\"]\n",
    "\n",
    "    subsetted_xyp = subset_ercc(ercc, genes, gene_name = True)\n",
    "    print(subsetted_xyp)\n",
    "    subsetted_xyp.to_csv(\"subsetted_ercc_annotation_1.txt\",  index=None, sep=str('\\t'))\n",
    "    subsetted_xyp.iloc[:,0:8].to_csv(\"subsetted_ercc_annotation_1.txt\",  index=None, sep=str('\\t'))\n",
    "        \n",
    "    subsetted_xyp.iloc[:,[0,3,4]].to_csv(\"subsetted_ercc_annotation.txt\",  index=None, sep=str('\\t'))\n",
    "\n",
    "    all_starts_dict = get_all_starts(subsetted_xyp)\n",
    "\n",
    "    out = how_far_are_starts(all_starts_dict, 200) #something is off with this function - I will just go with the all_starts dict and figure the calculations out from there \n",
    "    \n",
    "   \n",
    "    \n",
    "    all_starts_dict['USP9Y'] = ({12662368}, {'mine'}) #new USP9Y start 12,662,368\n",
    "\n",
    "    all_starts_dict['TMSB4Y'] = ({13703899}, {'mine'})  \n",
    "    \n",
    "    all_starts_dict['USP9X'] = ({41085445}, {'mine'}) \n",
    "    \n",
    "    all_starts_dict['CMV'] = ({1}, {'mine'}) \n",
    "    \n",
    "    #using the fantom promoters, going to add those in here as 'mine'\n",
    "    #from /lab/solexa_page/220516_mpra/helen_start_sites/fantom_promtoers\n",
    "    \n",
    "    all_starts_dict['DDX3X'] = ({41334161}, {'fantom'}) \n",
    "    all_starts_dict['DDX3Y'] = ({12904881}, {'fantom'}) \n",
    "    all_starts_dict['EIF1AX'] = ({20141834}, {'fantom'}) \n",
    "    all_starts_dict['EIF1AY'] = ({20575775}, {'fantom'}) \n",
    "    all_starts_dict['KDM5C'] = ({53225206}, {'fantom'}) \n",
    "    all_starts_dict['KDM5D'] = ({19744725}, {'fantom'}) \n",
    "    all_starts_dict['KDM6A'] = ({44873187}, {'fantom'}) \n",
    "    all_starts_dict['RPS4X'] = ({72277247}, {'fantom'}) \n",
    "    all_starts_dict['RPS4Y1'] = ({2841601}, {'fantom'}) \n",
    "    all_starts_dict['USP9X'] = ({41085444}, {'fantom'}) \n",
    "    all_starts_dict['USP9Y'] = ({12662352}, {'fantom'}) \n",
    "    all_starts_dict['UTY'] = ({13479986}, {'fantom'}) \n",
    "    all_starts_dict['ZFX'] = ({24149728}, {'fantom'}) \n",
    "    all_starts_dict['ZFY'] = ({2935380}, {'fantom'}) \n",
    "\n",
    "print(all_starts_dict['DDX3Y']) \n",
    "print(all_starts_dict)"
   ]
  },
  {
   "cell_type": "code",
   "execution_count": 91,
   "id": "5e95a909-bbd2-472c-9e71-f542596d4c74",
   "metadata": {
    "tags": []
   },
   "outputs": [
    {
     "name": "stdout",
     "output_type": "stream",
     "text": [
      "    gene.x starts_tx       transcript\n",
      "0   EEF1A1  73521032  EEF1A1_73521032\n",
      "1   EEF1A1  73521721  EEF1A1_73521721\n",
      "2   EEF1A1  73521018  EEF1A1_73521018\n",
      "3   EEF1A1  73521588  EEF1A1_73521588\n",
      "4     ACTB   5530709     ACTB_5530709\n",
      "5     PRKX   3713608     PRKX_3713608\n",
      "6   NLGN4X   6151458   NLGN4X_6151458\n",
      "7   NLGN4X   6227203   NLGN4X_6227203\n",
      "8   NLGN4X   6227847   NLGN4X_6227847\n",
      "9   NLGN4X   6228615   NLGN4X_6228615\n",
      "10  NLGN4X   6228863   NLGN4X_6228863\n",
      "11  TMSB4X  12975244  TMSB4X_12975244\n",
      "12  TMSB4X  12975658  TMSB4X_12975658\n",
      "13  TMSB4X  12975108  TMSB4X_12975108\n",
      "14  TMSB4X  12975110  TMSB4X_12975110\n",
      "15   TXLNG  16786432   TXLNG_16786432\n",
      "16   TXLNG  16786427   TXLNG_16786427\n",
      "17  EIF1AX  20141834  EIF1AX_20141834\n",
      "18     ZFX  24149728     ZFX_24149728\n",
      "19   USP9X  41085444   USP9X_41085444\n",
      "20   DDX3X  41334161   DDX3X_41334161\n",
      "21   KDM6A  44873187   KDM6A_44873187\n",
      "22   KDM5C  53225206   KDM5C_53225206\n",
      "23   RPS4X  72277247   RPS4X_72277247\n",
      "24  RPS4Y1   2841601   RPS4Y1_2841601\n",
      "25     ZFY   2935380      ZFY_2935380\n",
      "26    PRKY   7274313     PRKY_7274313\n",
      "27    PRKY   7273972     PRKY_7273972\n",
      "28   USP9Y  12662352   USP9Y_12662352\n",
      "29   DDX3Y  12904881   DDX3Y_12904881\n",
      "30     UTY  13479986     UTY_13479986\n",
      "31  TMSB4Y  13703899  TMSB4Y_13703899\n",
      "32  NLGN4Y  14522752  NLGN4Y_14522752\n",
      "33  NLGN4Y  14523746  NLGN4Y_14523746\n",
      "34  NLGN4Y  14622021  NLGN4Y_14622021\n",
      "35  NLGN4Y  14524574  NLGN4Y_14524574\n",
      "36  TXLNGY  19567313  TXLNGY_19567313\n",
      "37  TXLNGY  19592450  TXLNGY_19592450\n",
      "38  TXLNGY  19567382  TXLNGY_19567382\n",
      "39   KDM5D  19744725   KDM5D_19744725\n",
      "40  EIF1AY  20575775  EIF1AY_20575775\n",
      "41     CMV         1            CMV_1\n"
     ]
    }
   ],
   "source": [
    "    list_gene = [] \n",
    "    transcript = [] \n",
    "    list_starts = [] \n",
    "    \n",
    "    for key, val in all_starts_dict.items(): \n",
    "        for start in val[0]:\n",
    "            list_gene.append(key)\n",
    "            list_starts.append(start)\n",
    "            to_add = key + \"_\" + str(start)\n",
    "            transcript.append(to_add)\n",
    "            \n",
    "    zipped = list(zip(list_gene, list_starts, transcript))\n",
    "    df_zip = pd.DataFrame(zipped,  columns = [\"gene.x\",\"starts_tx\", \"transcript\"], dtype = str) \n",
    "    print(df_zip)\n",
    "    df_zip.to_csv(\"starts.csv\")\n",
    "    \n",
    "    #print(df)"
   ]
  },
  {
   "cell_type": "code",
   "execution_count": 93,
   "id": "c340befb-7bf1-4b06-b9c5-83cc4f29a6e6",
   "metadata": {
    "tags": []
   },
   "outputs": [
    {
     "name": "stderr",
     "output_type": "stream",
     "text": [
      "/tmp/ipykernel_3779053/1851959017.py:20: SettingWithCopyWarning: \n",
      "A value is trying to be set on a copy of a slice from a DataFrame.\n",
      "Try using .loc[row_indexer,col_indexer] = value instead\n",
      "\n",
      "See the caveats in the documentation: https://pandas.pydata.org/pandas-docs/stable/user_guide/indexing.html#returning-a-view-versus-a-copy\n",
      "  merged_minus['start'] = merged_minus[\"start\"].astype(\"float64\")\n",
      "/tmp/ipykernel_3779053/1851959017.py:21: SettingWithCopyWarning: \n",
      "A value is trying to be set on a copy of a slice from a DataFrame.\n",
      "Try using .loc[row_indexer,col_indexer] = value instead\n",
      "\n",
      "See the caveats in the documentation: https://pandas.pydata.org/pandas-docs/stable/user_guide/indexing.html#returning-a-view-versus-a-copy\n",
      "  merged_minus['starts_tx'] = merged_minus[\"starts_tx\"].astype(\"float64\")\n",
      "/tmp/ipykernel_3779053/1851959017.py:22: SettingWithCopyWarning: \n",
      "A value is trying to be set on a copy of a slice from a DataFrame.\n",
      "Try using .loc[row_indexer,col_indexer] = value instead\n",
      "\n",
      "See the caveats in the documentation: https://pandas.pydata.org/pandas-docs/stable/user_guide/indexing.html#returning-a-view-versus-a-copy\n",
      "  merged_minus['distance'] = (merged_minus['start'] - merged_minus['starts_tx'])*(-1) #bc on the - strand\n",
      "/tmp/ipykernel_3779053/1851959017.py:26: SettingWithCopyWarning: \n",
      "A value is trying to be set on a copy of a slice from a DataFrame.\n",
      "Try using .loc[row_indexer,col_indexer] = value instead\n",
      "\n",
      "See the caveats in the documentation: https://pandas.pydata.org/pandas-docs/stable/user_guide/indexing.html#returning-a-view-versus-a-copy\n",
      "  merged_plus['start'] = merged_plus[\"start\"].astype(\"float64\")\n",
      "/tmp/ipykernel_3779053/1851959017.py:27: SettingWithCopyWarning: \n",
      "A value is trying to be set on a copy of a slice from a DataFrame.\n",
      "Try using .loc[row_indexer,col_indexer] = value instead\n",
      "\n",
      "See the caveats in the documentation: https://pandas.pydata.org/pandas-docs/stable/user_guide/indexing.html#returning-a-view-versus-a-copy\n",
      "  merged_plus['starts_tx'] = merged_plus[\"starts_tx\"].astype(\"float64\")\n",
      "/tmp/ipykernel_3779053/1851959017.py:28: SettingWithCopyWarning: \n",
      "A value is trying to be set on a copy of a slice from a DataFrame.\n",
      "Try using .loc[row_indexer,col_indexer] = value instead\n",
      "\n",
      "See the caveats in the documentation: https://pandas.pydata.org/pandas-docs/stable/user_guide/indexing.html#returning-a-view-versus-a-copy\n",
      "  merged_plus['distance'] = merged_plus['start'] - merged_plus['starts_tx']\n"
     ]
    }
   ],
   "source": [
    "   \n",
    "filename_list = ['lcl_50_1.txt', 'fib_1_50_1.txt', 'fib_2_50_1.txt', 'full_fib_50_1.txt', 'fib_1_200_1.txt', \n",
    "                'fib_2_200_1.txt', 'full_fib_200_1.txt']\n",
    "filename_list = ['lcl_200_1.txt']\n",
    "\n",
    "    \n",
    "for filename in filename_list:    \n",
    "    \n",
    "    df = pd.read_csv(filename, sep = \"\\t\") #     df = pd.read_csv(\"fib_counts_1_200.txt\", sep = \"\\t\") # \n",
    "\n",
    "    df[['chr', 'nums']] = df['coords'].str.split(\":\", expand = True) \n",
    "    \n",
    "    df[['start', 'end']] = df['nums'].str.split(\"-\", expand = True) \n",
    "    \n",
    "    \n",
    "    \n",
    "    merged = pd.merge(df_zip, df, on='gene.x')\n",
    "    #print(df)\n",
    "    merged_minus = merged[merged['orientation.x'] == 'minus']\n",
    "    \n",
    "    merged_minus['start'] = merged_minus[\"start\"].astype(\"float64\")  \n",
    "    merged_minus['starts_tx'] = merged_minus[\"starts_tx\"].astype(\"float64\") \n",
    "    merged_minus['distance'] = (merged_minus['start'] - merged_minus['starts_tx'])*(-1) #bc on the - strand\n",
    "\n",
    "    merged_plus = merged[merged['orientation.x'] == 'plus']\n",
    "    \n",
    "    merged_plus['start'] = merged_plus[\"start\"].astype(\"float64\") \n",
    "    merged_plus['starts_tx'] = merged_plus[\"starts_tx\"].astype(\"float64\") \n",
    "    merged_plus['distance'] = merged_plus['start'] - merged_plus['starts_tx'] \n",
    "\n",
    "    #type(merged_minus)\n",
    "    concat_merged_dis = pd.concat([merged_minus, merged_plus])\n",
    "    #print(concat_merged_dis)\n",
    "    concat_merged_dis.to_csv(\"concat_merge_dist_\" + filename + \".csv\")\n",
    "    "
   ]
  },
  {
   "cell_type": "code",
   "execution_count": 83,
   "id": "ce7811be-fa86-4a97-8182-7b6adbbe0b4c",
   "metadata": {},
   "outputs": [
    {
     "name": "stdout",
     "output_type": "stream",
     "text": [
      "      gene.x   starts_tx       transcript                        coords  \\\n",
      "0     EEF1A1  73521032.0  EEF1A1_73521032        chr6:73520747-73520946   \n",
      "1     EEF1A1  73521032.0  EEF1A1_73521032  chr6:73520747-73520946_shuff   \n",
      "2     EEF1A1  73521032.0  EEF1A1_73521032        chr6:73520797-73520996   \n",
      "3     EEF1A1  73521032.0  EEF1A1_73521032  chr6:73520797-73520996_shuff   \n",
      "4     EEF1A1  73521032.0  EEF1A1_73521032        chr6:73520847-73521046   \n",
      "...      ...         ...              ...                           ...   \n",
      "3182     CMV         1.0            CMV_1             cmv:251-450_shuff   \n",
      "3183     CMV         1.0            CMV_1                   cmv:301-500   \n",
      "3184     CMV         1.0            CMV_1             cmv:301-500_shuff   \n",
      "3185     CMV         1.0            CMV_1                    cmv:51-250   \n",
      "3186     CMV         1.0            CMV_1              cmv:51-250_shuff   \n",
      "\n",
      "          log2 orientation.x          type   chr                     nums  \\\n",
      "0    -0.860806         minus  positive ctl  chr6        73520747-73520946   \n",
      "1    -1.321451         minus  negative ctl  chr6  73520747-73520946_shuff   \n",
      "2    -1.049744         minus  positive ctl  chr6        73520797-73520996   \n",
      "3    -0.831849         minus  negative ctl  chr6  73520797-73520996_shuff   \n",
      "4    -0.740778         minus  positive ctl  chr6        73520847-73521046   \n",
      "...        ...           ...           ...   ...                      ...   \n",
      "3182 -0.176110          plus  negative ctl   cmv            251-450_shuff   \n",
      "3183  5.125335          plus  positive ctl   cmv                  301-500   \n",
      "3184 -0.470039          plus  negative ctl   cmv            301-500_shuff   \n",
      "3185  7.000495          plus  positive ctl   cmv                   51-250   \n",
      "3186 -1.232518          plus  negative ctl   cmv             51-250_shuff   \n",
      "\n",
      "           start             end  distance  \n",
      "0     73520747.0        73520946     285.0  \n",
      "1     73520747.0  73520946_shuff     285.0  \n",
      "2     73520797.0        73520996     235.0  \n",
      "3     73520797.0  73520996_shuff     235.0  \n",
      "4     73520847.0        73521046     185.0  \n",
      "...          ...             ...       ...  \n",
      "3182       251.0       450_shuff     250.0  \n",
      "3183       301.0             500     300.0  \n",
      "3184       301.0       500_shuff     300.0  \n",
      "3185        51.0             250      50.0  \n",
      "3186        51.0       250_shuff      50.0  \n",
      "\n",
      "[3187 rows x 12 columns]\n"
     ]
    }
   ],
   "source": [
    "print(concat_merged_dis)"
   ]
  },
  {
   "cell_type": "code",
   "execution_count": 50,
   "id": "afd175a3-5d94-43c7-9213-13bf9e3d3e77",
   "metadata": {},
   "outputs": [],
   "source": [
    "#load the chosen start sites \n",
    "#does the ERCC have more information about the exons/introns etc. \n",
    "\n",
    "ercc_small = ercc[ercc.gene_name.isin(genes)]\n",
    "\n",
    "#transcript_starts_list = [\"DDX3X_41334162\",\"DDX3Y_12904831\", \"EIF1AX_20141844\",\"EIF1AY_20575725\", \"KDM5C_53225422\" ,\"KDM6A_44873177\" , \"NLGN4X_6228863\" ,\n",
    "#                          \"NLGN4Y_14524574\" , \"RPS4X_72277300\" ,\"RPS4Y1_2841486\",  \"TXLNG_16786432\" ,\"TXLNGY_19567382\" ,\"UTY_13479978\",\n",
    "#                           \"ZFX_24149790\",\"ZFY_2935389\", \"KDM5D_19744923\"] #,\"USP9Y_12662368\", \"USP9X_41085445\" \"TMSB4X_12975108\", \"TMSB4Y_13703899\" *leaving out because changed the starts so I need to adjust this later\n",
    "#new_frame = pd.DataFrame()\n",
    "#new_frame['gene_start'] = transcript_starts_list\n",
    "#new_frame['chosen_start'] = 'yes'\n",
    "#ercc['gene_start'] = ercc['gene_name'].astype(str) + \"_\" + ercc[\"start\"].astype(str)\n"
   ]
  },
  {
   "cell_type": "code",
   "execution_count": 45,
   "id": "7fa8ff5f-30f7-44a1-92b3-5c55260920b8",
   "metadata": {},
   "outputs": [],
   "source": [
    "tx_names = ercc[ercc.gene_start.isin(transcript_starts_list)]\n",
    "\n",
    "tx_names = tx_names['transcript_name']"
   ]
  },
  {
   "cell_type": "code",
   "execution_count": 22,
   "id": "aae4b73a-5ae5-4c9f-b628-2e00f59d2b0a",
   "metadata": {},
   "outputs": [
    {
     "data": {
      "text/plain": [
       "CompletedProcess(args=['gt', 'gff3', '-retainids', '-addintrons', '/nfs/genomes/human_hg38_dec13_no_random/gtf/Homo_sapiens.GRCh38.93.chr.canonical.gff3', '-o', 'Homo_sapiens.GRCh38.93.chr.canonical.plusintrons.gff3'], returncode=1, stderr=b'gt gff3: error: line 1 in file \"/nfs/genomes/human_hg38_dec13_no_random/gtf/Homo_sapiens.GRCh38.93.chr.canonical.gff3\" does not begin with \"##gff-version\" or \"##gff-version\"\\n')"
      ]
     },
     "execution_count": 22,
     "metadata": {},
     "output_type": "execute_result"
    }
   ],
   "source": [
    "import pyranges as pr\n",
    "import subprocess \n",
    "\n",
    "\n",
    "#gt gff3 -retainids -addintrons Homo_sapiens.GRCh38.110.chromosome.X.gff3 > Homo_sapiens.GRCh38.110.chromosome.X.wintrons.gff3\n"
   ]
  },
  {
   "cell_type": "code",
   "execution_count": null,
   "id": "dfd604a9-83b9-4721-9a03-5fd74fa0f7cc",
   "metadata": {},
   "outputs": [],
   "source": []
  },
  {
   "cell_type": "markdown",
   "id": "4dff0a0f-efe2-48e5-9e8b-852b27dea611",
   "metadata": {},
   "source": [
    "## getting gtf for genes for alignment uses"
   ]
  },
  {
   "cell_type": "code",
   "execution_count": 1,
   "id": "6d27bb0f-24c7-4572-a2a6-d4259b092a3d",
   "metadata": {
    "tags": []
   },
   "outputs": [
    {
     "ename": "NameError",
     "evalue": "name 'pr' is not defined",
     "output_type": "error",
     "traceback": [
      "\u001b[0;31m---------------------------------------------------------------------------\u001b[0m",
      "\u001b[0;31mNameError\u001b[0m                                 Traceback (most recent call last)",
      "Cell \u001b[0;32mIn[1], line 1\u001b[0m\n\u001b[0;32m----> 1\u001b[0m gtf_ \u001b[38;5;241m=\u001b[39m \u001b[43mpr\u001b[49m\u001b[38;5;241m.\u001b[39mread_gtf(\u001b[38;5;124m\"\u001b[39m\u001b[38;5;124m/nfs/genomes/human_hg38_dec13_no_random/gtf/Homo_sapiens.GRCh38.99.chr.canonical.gtf\u001b[39m\u001b[38;5;124m\"\u001b[39m)\n\u001b[1;32m      2\u001b[0m gtf_ \u001b[38;5;241m=\u001b[39m gtf_\u001b[38;5;241m.\u001b[39mdf\n",
      "\u001b[0;31mNameError\u001b[0m: name 'pr' is not defined"
     ]
    }
   ],
   "source": [
    "gtf_ = pr.read_gtf(\"/nfs/genomes/human_hg38_dec13_no_random/gtf/Homo_sapiens.GRCh38.99.chr.canonical.gtf\")\n",
    "gtf_ = gtf_.df"
   ]
  },
  {
   "cell_type": "code",
   "execution_count": 25,
   "id": "5c4f84fe-279c-4355-8c84-e38cfd550fef",
   "metadata": {},
   "outputs": [
    {
     "data": {
      "text/plain": [
       "array(['exon', 'CDS'], dtype=object)"
      ]
     },
     "execution_count": 25,
     "metadata": {},
     "output_type": "execute_result"
    }
   ],
   "source": [
    "#gtf_.columns = ['seqname','source', 'feature', 'start', 'end', 'score', 'strand', 'frame', 'attribute' ]\n",
    "genes = [\"TXLNG\", \"TXLNGY\", \"EIF1AX\", \"EIF1AY\", \"KDM5D\" , \"KDM5C\",\"UTY\", \"KDM6A\", \"ZFY\", \"ZFX\", \"DDX3Y\" ,\"DDX3X\", \"USP9Y\" , \"USP9X\", \"RPS4Y1\", \"RPS4X\", \"TMSB4X\", \"TMSB4Y\", \"NLGN4X\", \"NLGN4Y\"] \n",
    "\n",
    "gtf_xy = gtf_[gtf_.gene_name.isin(genes)]\n",
    "\n",
    "#extract the exons and genes\n",
    "#gtf_xy = gtf_xy[(gtf_xy['Feature'] == \"gene\") | (gtf_xy['Feature'] == \"exon\")]\n",
    "gtf_xy = gtf_xy[(gtf_xy['Feature'] == \"CDS\") | (gtf_xy['Feature'] == \"exon\")]\n",
    "\n",
    "gtf_xy['Feature'].unique() \n",
    "gtf_xy['gene_name'].unique()\n",
    "gtf_xy['Feature'].unique() "
   ]
  },
  {
   "cell_type": "code",
   "execution_count": 39,
   "id": "e856e13c-2e5d-4a4f-8d24-5fe186fd408a",
   "metadata": {},
   "outputs": [
    {
     "data": {
      "text/html": [
       "<div>\n",
       "<style scoped>\n",
       "    .dataframe tbody tr th:only-of-type {\n",
       "        vertical-align: middle;\n",
       "    }\n",
       "\n",
       "    .dataframe tbody tr th {\n",
       "        vertical-align: top;\n",
       "    }\n",
       "\n",
       "    .dataframe thead th {\n",
       "        text-align: right;\n",
       "    }\n",
       "</style>\n",
       "<table border=\"1\" class=\"dataframe\">\n",
       "  <thead>\n",
       "    <tr style=\"text-align: right;\">\n",
       "      <th></th>\n",
       "      <th>Chromosome</th>\n",
       "      <th>Source</th>\n",
       "      <th>Feature</th>\n",
       "      <th>Start</th>\n",
       "      <th>End</th>\n",
       "      <th>Score</th>\n",
       "      <th>Strand</th>\n",
       "      <th>Frame</th>\n",
       "      <th>gene_id</th>\n",
       "      <th>gene_version</th>\n",
       "      <th>...</th>\n",
       "      <th>tag</th>\n",
       "      <th>transcript_support_level</th>\n",
       "      <th>exon_number</th>\n",
       "      <th>exon_id</th>\n",
       "      <th>exon_version</th>\n",
       "      <th>(assigned</th>\n",
       "      <th>previous</th>\n",
       "      <th>protein_id</th>\n",
       "      <th>protein_version</th>\n",
       "      <th>ccds_id</th>\n",
       "    </tr>\n",
       "  </thead>\n",
       "  <tbody>\n",
       "    <tr>\n",
       "      <th>2898629</th>\n",
       "      <td>chrY</td>\n",
       "      <td>havana</td>\n",
       "      <td>exon</td>\n",
       "      <td>19587209</td>\n",
       "      <td>19587507</td>\n",
       "      <td>.</td>\n",
       "      <td>+</td>\n",
       "      <td>.</td>\n",
       "      <td>ENSG00000131002</td>\n",
       "      <td>12</td>\n",
       "      <td>...</td>\n",
       "      <td>basic</td>\n",
       "      <td>3</td>\n",
       "      <td>2</td>\n",
       "      <td>ENSE00002783311</td>\n",
       "      <td>1</td>\n",
       "      <td>NaN</td>\n",
       "      <td>NaN</td>\n",
       "      <td>NaN</td>\n",
       "      <td>NaN</td>\n",
       "      <td>NaN</td>\n",
       "    </tr>\n",
       "    <tr>\n",
       "      <th>2898630</th>\n",
       "      <td>chrY</td>\n",
       "      <td>havana</td>\n",
       "      <td>exon</td>\n",
       "      <td>19588369</td>\n",
       "      <td>19588650</td>\n",
       "      <td>.</td>\n",
       "      <td>+</td>\n",
       "      <td>.</td>\n",
       "      <td>ENSG00000131002</td>\n",
       "      <td>12</td>\n",
       "      <td>...</td>\n",
       "      <td>basic</td>\n",
       "      <td>3</td>\n",
       "      <td>3</td>\n",
       "      <td>ENSE00002873804</td>\n",
       "      <td>1</td>\n",
       "      <td>NaN</td>\n",
       "      <td>NaN</td>\n",
       "      <td>NaN</td>\n",
       "      <td>NaN</td>\n",
       "      <td>NaN</td>\n",
       "    </tr>\n",
       "    <tr>\n",
       "      <th>2898631</th>\n",
       "      <td>chrY</td>\n",
       "      <td>havana</td>\n",
       "      <td>exon</td>\n",
       "      <td>19589526</td>\n",
       "      <td>19589612</td>\n",
       "      <td>.</td>\n",
       "      <td>+</td>\n",
       "      <td>.</td>\n",
       "      <td>ENSG00000131002</td>\n",
       "      <td>12</td>\n",
       "      <td>...</td>\n",
       "      <td>basic</td>\n",
       "      <td>3</td>\n",
       "      <td>4</td>\n",
       "      <td>ENSE00002825272</td>\n",
       "      <td>1</td>\n",
       "      <td>NaN</td>\n",
       "      <td>NaN</td>\n",
       "      <td>NaN</td>\n",
       "      <td>NaN</td>\n",
       "      <td>NaN</td>\n",
       "    </tr>\n",
       "    <tr>\n",
       "      <th>2898632</th>\n",
       "      <td>chrY</td>\n",
       "      <td>havana</td>\n",
       "      <td>exon</td>\n",
       "      <td>19590082</td>\n",
       "      <td>19590247</td>\n",
       "      <td>.</td>\n",
       "      <td>+</td>\n",
       "      <td>.</td>\n",
       "      <td>ENSG00000131002</td>\n",
       "      <td>12</td>\n",
       "      <td>...</td>\n",
       "      <td>basic</td>\n",
       "      <td>3</td>\n",
       "      <td>5</td>\n",
       "      <td>ENSE00001893165</td>\n",
       "      <td>2</td>\n",
       "      <td>NaN</td>\n",
       "      <td>NaN</td>\n",
       "      <td>NaN</td>\n",
       "      <td>NaN</td>\n",
       "      <td>NaN</td>\n",
       "    </tr>\n",
       "    <tr>\n",
       "      <th>2898634</th>\n",
       "      <td>chrY</td>\n",
       "      <td>havana</td>\n",
       "      <td>exon</td>\n",
       "      <td>19567349</td>\n",
       "      <td>19567570</td>\n",
       "      <td>.</td>\n",
       "      <td>+</td>\n",
       "      <td>.</td>\n",
       "      <td>ENSG00000131002</td>\n",
       "      <td>12</td>\n",
       "      <td>...</td>\n",
       "      <td>NaN</td>\n",
       "      <td>2</td>\n",
       "      <td>1</td>\n",
       "      <td>ENSE00001826433</td>\n",
       "      <td>1</td>\n",
       "      <td>NaN</td>\n",
       "      <td>NaN</td>\n",
       "      <td>NaN</td>\n",
       "      <td>NaN</td>\n",
       "      <td>NaN</td>\n",
       "    </tr>\n",
       "    <tr>\n",
       "      <th>2898635</th>\n",
       "      <td>chrY</td>\n",
       "      <td>havana</td>\n",
       "      <td>exon</td>\n",
       "      <td>19587209</td>\n",
       "      <td>19587507</td>\n",
       "      <td>.</td>\n",
       "      <td>+</td>\n",
       "      <td>.</td>\n",
       "      <td>ENSG00000131002</td>\n",
       "      <td>12</td>\n",
       "      <td>...</td>\n",
       "      <td>NaN</td>\n",
       "      <td>2</td>\n",
       "      <td>2</td>\n",
       "      <td>ENSE00002783311</td>\n",
       "      <td>1</td>\n",
       "      <td>NaN</td>\n",
       "      <td>NaN</td>\n",
       "      <td>NaN</td>\n",
       "      <td>NaN</td>\n",
       "      <td>NaN</td>\n",
       "    </tr>\n",
       "    <tr>\n",
       "      <th>2898636</th>\n",
       "      <td>chrY</td>\n",
       "      <td>havana</td>\n",
       "      <td>exon</td>\n",
       "      <td>19588369</td>\n",
       "      <td>19589612</td>\n",
       "      <td>.</td>\n",
       "      <td>+</td>\n",
       "      <td>.</td>\n",
       "      <td>ENSG00000131002</td>\n",
       "      <td>12</td>\n",
       "      <td>...</td>\n",
       "      <td>NaN</td>\n",
       "      <td>2</td>\n",
       "      <td>3</td>\n",
       "      <td>ENSE00001875276</td>\n",
       "      <td>1</td>\n",
       "      <td>NaN</td>\n",
       "      <td>NaN</td>\n",
       "      <td>NaN</td>\n",
       "      <td>NaN</td>\n",
       "      <td>NaN</td>\n",
       "    </tr>\n",
       "    <tr>\n",
       "      <th>2898637</th>\n",
       "      <td>chrY</td>\n",
       "      <td>havana</td>\n",
       "      <td>exon</td>\n",
       "      <td>19590082</td>\n",
       "      <td>19590418</td>\n",
       "      <td>.</td>\n",
       "      <td>+</td>\n",
       "      <td>.</td>\n",
       "      <td>ENSG00000131002</td>\n",
       "      <td>12</td>\n",
       "      <td>...</td>\n",
       "      <td>NaN</td>\n",
       "      <td>2</td>\n",
       "      <td>4</td>\n",
       "      <td>ENSE00002811240</td>\n",
       "      <td>1</td>\n",
       "      <td>NaN</td>\n",
       "      <td>NaN</td>\n",
       "      <td>NaN</td>\n",
       "      <td>NaN</td>\n",
       "      <td>NaN</td>\n",
       "    </tr>\n",
       "    <tr>\n",
       "      <th>2898639</th>\n",
       "      <td>chrY</td>\n",
       "      <td>havana</td>\n",
       "      <td>exon</td>\n",
       "      <td>19567381</td>\n",
       "      <td>19567482</td>\n",
       "      <td>.</td>\n",
       "      <td>+</td>\n",
       "      <td>.</td>\n",
       "      <td>ENSG00000131002</td>\n",
       "      <td>12</td>\n",
       "      <td>...</td>\n",
       "      <td>NaN</td>\n",
       "      <td>2</td>\n",
       "      <td>1</td>\n",
       "      <td>ENSE00002957208</td>\n",
       "      <td>1</td>\n",
       "      <td>NaN</td>\n",
       "      <td>NaN</td>\n",
       "      <td>NaN</td>\n",
       "      <td>NaN</td>\n",
       "      <td>NaN</td>\n",
       "    </tr>\n",
       "    <tr>\n",
       "      <th>2898640</th>\n",
       "      <td>chrY</td>\n",
       "      <td>havana</td>\n",
       "      <td>exon</td>\n",
       "      <td>19587209</td>\n",
       "      <td>19587507</td>\n",
       "      <td>.</td>\n",
       "      <td>+</td>\n",
       "      <td>.</td>\n",
       "      <td>ENSG00000131002</td>\n",
       "      <td>12</td>\n",
       "      <td>...</td>\n",
       "      <td>NaN</td>\n",
       "      <td>2</td>\n",
       "      <td>2</td>\n",
       "      <td>ENSE00002783311</td>\n",
       "      <td>1</td>\n",
       "      <td>NaN</td>\n",
       "      <td>NaN</td>\n",
       "      <td>NaN</td>\n",
       "      <td>NaN</td>\n",
       "      <td>NaN</td>\n",
       "    </tr>\n",
       "    <tr>\n",
       "      <th>2898641</th>\n",
       "      <td>chrY</td>\n",
       "      <td>havana</td>\n",
       "      <td>exon</td>\n",
       "      <td>19589520</td>\n",
       "      <td>19589612</td>\n",
       "      <td>.</td>\n",
       "      <td>+</td>\n",
       "      <td>.</td>\n",
       "      <td>ENSG00000131002</td>\n",
       "      <td>12</td>\n",
       "      <td>...</td>\n",
       "      <td>NaN</td>\n",
       "      <td>2</td>\n",
       "      <td>3</td>\n",
       "      <td>ENSE00002829137</td>\n",
       "      <td>1</td>\n",
       "      <td>NaN</td>\n",
       "      <td>NaN</td>\n",
       "      <td>NaN</td>\n",
       "      <td>NaN</td>\n",
       "      <td>NaN</td>\n",
       "    </tr>\n",
       "    <tr>\n",
       "      <th>2898642</th>\n",
       "      <td>chrY</td>\n",
       "      <td>havana</td>\n",
       "      <td>exon</td>\n",
       "      <td>19590082</td>\n",
       "      <td>19590423</td>\n",
       "      <td>.</td>\n",
       "      <td>+</td>\n",
       "      <td>.</td>\n",
       "      <td>ENSG00000131002</td>\n",
       "      <td>12</td>\n",
       "      <td>...</td>\n",
       "      <td>NaN</td>\n",
       "      <td>2</td>\n",
       "      <td>4</td>\n",
       "      <td>ENSE00002862473</td>\n",
       "      <td>1</td>\n",
       "      <td>NaN</td>\n",
       "      <td>NaN</td>\n",
       "      <td>NaN</td>\n",
       "      <td>NaN</td>\n",
       "      <td>NaN</td>\n",
       "    </tr>\n",
       "    <tr>\n",
       "      <th>2898644</th>\n",
       "      <td>chrY</td>\n",
       "      <td>havana</td>\n",
       "      <td>exon</td>\n",
       "      <td>19567381</td>\n",
       "      <td>19567482</td>\n",
       "      <td>.</td>\n",
       "      <td>+</td>\n",
       "      <td>.</td>\n",
       "      <td>ENSG00000131002</td>\n",
       "      <td>12</td>\n",
       "      <td>...</td>\n",
       "      <td>basic</td>\n",
       "      <td>NA</td>\n",
       "      <td>1</td>\n",
       "      <td>ENSE00002957208</td>\n",
       "      <td>1</td>\n",
       "      <td>to</td>\n",
       "      <td>version</td>\n",
       "      <td>NaN</td>\n",
       "      <td>NaN</td>\n",
       "      <td>NaN</td>\n",
       "    </tr>\n",
       "    <tr>\n",
       "      <th>2898645</th>\n",
       "      <td>chrY</td>\n",
       "      <td>havana</td>\n",
       "      <td>exon</td>\n",
       "      <td>19587209</td>\n",
       "      <td>19587507</td>\n",
       "      <td>.</td>\n",
       "      <td>+</td>\n",
       "      <td>.</td>\n",
       "      <td>ENSG00000131002</td>\n",
       "      <td>12</td>\n",
       "      <td>...</td>\n",
       "      <td>basic</td>\n",
       "      <td>NA</td>\n",
       "      <td>2</td>\n",
       "      <td>ENSE00002783311</td>\n",
       "      <td>1</td>\n",
       "      <td>to</td>\n",
       "      <td>version</td>\n",
       "      <td>NaN</td>\n",
       "      <td>NaN</td>\n",
       "      <td>NaN</td>\n",
       "    </tr>\n",
       "    <tr>\n",
       "      <th>2898646</th>\n",
       "      <td>chrY</td>\n",
       "      <td>havana</td>\n",
       "      <td>exon</td>\n",
       "      <td>19589520</td>\n",
       "      <td>19589612</td>\n",
       "      <td>.</td>\n",
       "      <td>+</td>\n",
       "      <td>.</td>\n",
       "      <td>ENSG00000131002</td>\n",
       "      <td>12</td>\n",
       "      <td>...</td>\n",
       "      <td>basic</td>\n",
       "      <td>NA</td>\n",
       "      <td>3</td>\n",
       "      <td>ENSE00002829137</td>\n",
       "      <td>1</td>\n",
       "      <td>to</td>\n",
       "      <td>version</td>\n",
       "      <td>NaN</td>\n",
       "      <td>NaN</td>\n",
       "      <td>NaN</td>\n",
       "    </tr>\n",
       "    <tr>\n",
       "      <th>2898647</th>\n",
       "      <td>chrY</td>\n",
       "      <td>havana</td>\n",
       "      <td>exon</td>\n",
       "      <td>19591779</td>\n",
       "      <td>19591959</td>\n",
       "      <td>.</td>\n",
       "      <td>+</td>\n",
       "      <td>.</td>\n",
       "      <td>ENSG00000131002</td>\n",
       "      <td>12</td>\n",
       "      <td>...</td>\n",
       "      <td>basic</td>\n",
       "      <td>NA</td>\n",
       "      <td>4</td>\n",
       "      <td>ENSE00002920932</td>\n",
       "      <td>1</td>\n",
       "      <td>to</td>\n",
       "      <td>version</td>\n",
       "      <td>NaN</td>\n",
       "      <td>NaN</td>\n",
       "      <td>NaN</td>\n",
       "    </tr>\n",
       "    <tr>\n",
       "      <th>2898648</th>\n",
       "      <td>chrY</td>\n",
       "      <td>havana</td>\n",
       "      <td>exon</td>\n",
       "      <td>19593398</td>\n",
       "      <td>19593593</td>\n",
       "      <td>.</td>\n",
       "      <td>+</td>\n",
       "      <td>.</td>\n",
       "      <td>ENSG00000131002</td>\n",
       "      <td>12</td>\n",
       "      <td>...</td>\n",
       "      <td>basic</td>\n",
       "      <td>NA</td>\n",
       "      <td>5</td>\n",
       "      <td>ENSE00001657009</td>\n",
       "      <td>1</td>\n",
       "      <td>to</td>\n",
       "      <td>version</td>\n",
       "      <td>NaN</td>\n",
       "      <td>NaN</td>\n",
       "      <td>NaN</td>\n",
       "    </tr>\n",
       "    <tr>\n",
       "      <th>2898649</th>\n",
       "      <td>chrY</td>\n",
       "      <td>havana</td>\n",
       "      <td>exon</td>\n",
       "      <td>19596014</td>\n",
       "      <td>19596134</td>\n",
       "      <td>.</td>\n",
       "      <td>+</td>\n",
       "      <td>.</td>\n",
       "      <td>ENSG00000131002</td>\n",
       "      <td>12</td>\n",
       "      <td>...</td>\n",
       "      <td>basic</td>\n",
       "      <td>NA</td>\n",
       "      <td>6</td>\n",
       "      <td>ENSE00001617655</td>\n",
       "      <td>1</td>\n",
       "      <td>to</td>\n",
       "      <td>version</td>\n",
       "      <td>NaN</td>\n",
       "      <td>NaN</td>\n",
       "      <td>NaN</td>\n",
       "    </tr>\n",
       "    <tr>\n",
       "      <th>2898650</th>\n",
       "      <td>chrY</td>\n",
       "      <td>havana</td>\n",
       "      <td>exon</td>\n",
       "      <td>19597590</td>\n",
       "      <td>19597665</td>\n",
       "      <td>.</td>\n",
       "      <td>+</td>\n",
       "      <td>.</td>\n",
       "      <td>ENSG00000131002</td>\n",
       "      <td>12</td>\n",
       "      <td>...</td>\n",
       "      <td>basic</td>\n",
       "      <td>NA</td>\n",
       "      <td>7</td>\n",
       "      <td>ENSE00001663997</td>\n",
       "      <td>1</td>\n",
       "      <td>to</td>\n",
       "      <td>version</td>\n",
       "      <td>NaN</td>\n",
       "      <td>NaN</td>\n",
       "      <td>NaN</td>\n",
       "    </tr>\n",
       "  </tbody>\n",
       "</table>\n",
       "<p>19 rows × 28 columns</p>\n",
       "</div>"
      ],
      "text/plain": [
       "        Chromosome  Source Feature     Start       End Score Strand Frame  \\\n",
       "2898629       chrY  havana    exon  19587209  19587507     .      +     .   \n",
       "2898630       chrY  havana    exon  19588369  19588650     .      +     .   \n",
       "2898631       chrY  havana    exon  19589526  19589612     .      +     .   \n",
       "2898632       chrY  havana    exon  19590082  19590247     .      +     .   \n",
       "2898634       chrY  havana    exon  19567349  19567570     .      +     .   \n",
       "2898635       chrY  havana    exon  19587209  19587507     .      +     .   \n",
       "2898636       chrY  havana    exon  19588369  19589612     .      +     .   \n",
       "2898637       chrY  havana    exon  19590082  19590418     .      +     .   \n",
       "2898639       chrY  havana    exon  19567381  19567482     .      +     .   \n",
       "2898640       chrY  havana    exon  19587209  19587507     .      +     .   \n",
       "2898641       chrY  havana    exon  19589520  19589612     .      +     .   \n",
       "2898642       chrY  havana    exon  19590082  19590423     .      +     .   \n",
       "2898644       chrY  havana    exon  19567381  19567482     .      +     .   \n",
       "2898645       chrY  havana    exon  19587209  19587507     .      +     .   \n",
       "2898646       chrY  havana    exon  19589520  19589612     .      +     .   \n",
       "2898647       chrY  havana    exon  19591779  19591959     .      +     .   \n",
       "2898648       chrY  havana    exon  19593398  19593593     .      +     .   \n",
       "2898649       chrY  havana    exon  19596014  19596134     .      +     .   \n",
       "2898650       chrY  havana    exon  19597590  19597665     .      +     .   \n",
       "\n",
       "                 gene_id gene_version  ...    tag transcript_support_level  \\\n",
       "2898629  ENSG00000131002           12  ...  basic                        3   \n",
       "2898630  ENSG00000131002           12  ...  basic                        3   \n",
       "2898631  ENSG00000131002           12  ...  basic                        3   \n",
       "2898632  ENSG00000131002           12  ...  basic                        3   \n",
       "2898634  ENSG00000131002           12  ...    NaN                        2   \n",
       "2898635  ENSG00000131002           12  ...    NaN                        2   \n",
       "2898636  ENSG00000131002           12  ...    NaN                        2   \n",
       "2898637  ENSG00000131002           12  ...    NaN                        2   \n",
       "2898639  ENSG00000131002           12  ...    NaN                        2   \n",
       "2898640  ENSG00000131002           12  ...    NaN                        2   \n",
       "2898641  ENSG00000131002           12  ...    NaN                        2   \n",
       "2898642  ENSG00000131002           12  ...    NaN                        2   \n",
       "2898644  ENSG00000131002           12  ...  basic                       NA   \n",
       "2898645  ENSG00000131002           12  ...  basic                       NA   \n",
       "2898646  ENSG00000131002           12  ...  basic                       NA   \n",
       "2898647  ENSG00000131002           12  ...  basic                       NA   \n",
       "2898648  ENSG00000131002           12  ...  basic                       NA   \n",
       "2898649  ENSG00000131002           12  ...  basic                       NA   \n",
       "2898650  ENSG00000131002           12  ...  basic                       NA   \n",
       "\n",
       "        exon_number          exon_id exon_version (assigned previous  \\\n",
       "2898629           2  ENSE00002783311            1       NaN      NaN   \n",
       "2898630           3  ENSE00002873804            1       NaN      NaN   \n",
       "2898631           4  ENSE00002825272            1       NaN      NaN   \n",
       "2898632           5  ENSE00001893165            2       NaN      NaN   \n",
       "2898634           1  ENSE00001826433            1       NaN      NaN   \n",
       "2898635           2  ENSE00002783311            1       NaN      NaN   \n",
       "2898636           3  ENSE00001875276            1       NaN      NaN   \n",
       "2898637           4  ENSE00002811240            1       NaN      NaN   \n",
       "2898639           1  ENSE00002957208            1       NaN      NaN   \n",
       "2898640           2  ENSE00002783311            1       NaN      NaN   \n",
       "2898641           3  ENSE00002829137            1       NaN      NaN   \n",
       "2898642           4  ENSE00002862473            1       NaN      NaN   \n",
       "2898644           1  ENSE00002957208            1        to  version   \n",
       "2898645           2  ENSE00002783311            1        to  version   \n",
       "2898646           3  ENSE00002829137            1        to  version   \n",
       "2898647           4  ENSE00002920932            1        to  version   \n",
       "2898648           5  ENSE00001657009            1        to  version   \n",
       "2898649           6  ENSE00001617655            1        to  version   \n",
       "2898650           7  ENSE00001663997            1        to  version   \n",
       "\n",
       "        protein_id protein_version ccds_id  \n",
       "2898629        NaN             NaN     NaN  \n",
       "2898630        NaN             NaN     NaN  \n",
       "2898631        NaN             NaN     NaN  \n",
       "2898632        NaN             NaN     NaN  \n",
       "2898634        NaN             NaN     NaN  \n",
       "2898635        NaN             NaN     NaN  \n",
       "2898636        NaN             NaN     NaN  \n",
       "2898637        NaN             NaN     NaN  \n",
       "2898639        NaN             NaN     NaN  \n",
       "2898640        NaN             NaN     NaN  \n",
       "2898641        NaN             NaN     NaN  \n",
       "2898642        NaN             NaN     NaN  \n",
       "2898644        NaN             NaN     NaN  \n",
       "2898645        NaN             NaN     NaN  \n",
       "2898646        NaN             NaN     NaN  \n",
       "2898647        NaN             NaN     NaN  \n",
       "2898648        NaN             NaN     NaN  \n",
       "2898649        NaN             NaN     NaN  \n",
       "2898650        NaN             NaN     NaN  \n",
       "\n",
       "[19 rows x 28 columns]"
      ]
     },
     "execution_count": 39,
     "metadata": {},
     "output_type": "execute_result"
    }
   ],
   "source": [
    "#there could be an issue with the start site of one affecting the rest of the calculations, cannot have that be the case\n",
    "#need to have a cutoff for the transcript support level \n",
    "#gtf_xy = gtf_xy[(gtf_xy['transcript_support_level'].astype(int) > 2)] # three or greater \n",
    "#gtf_xy['transcript_support_level'] = gtf_xy['transcript_support_level'].replace('', 0).replace('NA', 0).astype(int)\n",
    "#gtf_xy = gtf_xy[(gtf_xy['transcript_support_level'].astype(int) >= 1)] #keeping all of the possible transcripts\n",
    "#gtf_.loc[gtf_['gene_id'] == \"ENSG00000154620\"][\"gene_name\"]\n",
    "\n",
    "\n",
    "#Homo_sapiens.GRCh38.93.chr.canonical.gff3\n",
    "\n",
    "gtf_xy[gtf_xy['gene_name'] == \"TXLNGY\"].iloc[1:20]"
   ]
  },
  {
   "cell_type": "code",
   "execution_count": null,
   "id": "4f3ffc41-6cf3-4bcf-af68-ac70c42160ee",
   "metadata": {},
   "outputs": [],
   "source": []
  },
  {
   "cell_type": "code",
   "execution_count": 72,
   "id": "4293e4b1-7d2b-4614-b0c8-bd79e03ff350",
   "metadata": {},
   "outputs": [],
   "source": [
    "def intron_overlapping(exons, intron_start, intron_end):\n",
    "    #print(intron_start, intron_end, \"intron_coords\")\n",
    "    \n",
    "    \n",
    "    for index in range(len(exons)): \n",
    "        #print(exons.iloc[index]['Start'], 'start')\n",
    "        #print(exons.iloc[index]['End'], 'end')\n",
    "#    print(exons.iloc[index])\n",
    "        exon_st = exons.iloc[index]['Start']\n",
    "        exon_end = exons.iloc[index]['End']\n",
    "       # print(((exon_st <= intron_end) & (exon_end >= intron_end)), ((exon_st <= intron_start) & (exon_end >= intron_start)), exon_st, exon_end, intron_start, intron_end)\n",
    "        \n",
    "        if ((exon_st >= intron_start) & (exon_st <= intron_end)):\n",
    "            return True\n",
    "        if ((exon_end >= intron_start) & (exon_end <= intron_end)):\n",
    "            return True\n",
    "        \n",
    "        \n",
    "        if ((exon_st <= intron_start) & (exon_end >= intron_start)):\n",
    "            return True \n",
    "        if ((exon_st <= intron_end) & (exon_end >= intron_end)):\n",
    "            return True\n",
    "        #if ((exon_st >= intron_start) & (exon_end <= intron_start)):\n",
    "        #    return True\n",
    "        #if ((exon_st >= intron_end) & (exon_end <= intron_end)):\n",
    "        #    return True\n",
    "    return False\n"
   ]
  },
  {
   "cell_type": "code",
   "execution_count": 73,
   "id": "fc91184e-65e3-45e4-9768-fcc078f6f58f",
   "metadata": {
    "collapsed": true,
    "jupyter": {
     "outputs_hidden": true
    },
    "tags": []
   },
   "outputs": [
    {
     "name": "stdout",
     "output_type": "stream",
     "text": [
      "        Chromosome          Source Feature     Start       End Score Strand  \\\n",
      "2808006       chrX         ensembl     CDS  16786487  16786589     .      +   \n",
      "2808009       chrX         ensembl     CDS  16828093  16828264     .      +   \n",
      "2808011       chrX         ensembl     CDS  16829575  16829770     .      +   \n",
      "2808013       chrX         ensembl     CDS  16832622  16832742     .      +   \n",
      "2808015       chrX         ensembl     CDS  16834282  16834357     .      +   \n",
      "2808017       chrX         ensembl     CDS  16837592  16837685     .      +   \n",
      "2808019       chrX         ensembl     CDS  16839820  16839916     .      +   \n",
      "2808021       chrX         ensembl     CDS  16841427  16841763     .      +   \n",
      "2808027       chrX  ensembl_havana     CDS  16786487  16786589     .      +   \n",
      "2808030       chrX  ensembl_havana     CDS  16818573  16818877     .      +   \n",
      "2808032       chrX  ensembl_havana     CDS  16820163  16820255     .      +   \n",
      "2808034       chrX  ensembl_havana     CDS  16828093  16828264     .      +   \n",
      "2808036       chrX  ensembl_havana     CDS  16829575  16829770     .      +   \n",
      "2808038       chrX  ensembl_havana     CDS  16832622  16832742     .      +   \n",
      "2808040       chrX  ensembl_havana     CDS  16834282  16834357     .      +   \n",
      "2808042       chrX  ensembl_havana     CDS  16837592  16837685     .      +   \n",
      "2808044       chrX  ensembl_havana     CDS  16839820  16839916     .      +   \n",
      "2808046       chrX  ensembl_havana     CDS  16841427  16841763     .      +   \n",
      "\n",
      "        Frame          gene_id gene_version  ...    tag  \\\n",
      "2808006     0  ENSG00000086712           13  ...  basic   \n",
      "2808009     0  ENSG00000086712           13  ...  basic   \n",
      "2808011     0  ENSG00000086712           13  ...  basic   \n",
      "2808013     0  ENSG00000086712           13  ...  basic   \n",
      "2808015     0  ENSG00000086712           13  ...  basic   \n",
      "2808017     0  ENSG00000086712           13  ...  basic   \n",
      "2808019     0  ENSG00000086712           13  ...  basic   \n",
      "2808021     0  ENSG00000086712           13  ...  basic   \n",
      "2808027     0  ENSG00000086712           13  ...  basic   \n",
      "2808030     0  ENSG00000086712           13  ...  basic   \n",
      "2808032     2  ENSG00000086712           13  ...  basic   \n",
      "2808034     0  ENSG00000086712           13  ...  basic   \n",
      "2808036     0  ENSG00000086712           13  ...  basic   \n",
      "2808038     0  ENSG00000086712           13  ...  basic   \n",
      "2808040     0  ENSG00000086712           13  ...  basic   \n",
      "2808042     0  ENSG00000086712           13  ...  basic   \n",
      "2808044     0  ENSG00000086712           13  ...  basic   \n",
      "2808046     0  ENSG00000086712           13  ...  basic   \n",
      "\n",
      "        transcript_support_level exon_number exon_id exon_version (assigned  \\\n",
      "2808006                        1           1     NaN          NaN       NaN   \n",
      "2808009                        1           2     NaN          NaN       NaN   \n",
      "2808011                        1           3     NaN          NaN       NaN   \n",
      "2808013                        1           4     NaN          NaN       NaN   \n",
      "2808015                        1           5     NaN          NaN       NaN   \n",
      "2808017                        1           6     NaN          NaN       NaN   \n",
      "2808019                        1           7     NaN          NaN       NaN   \n",
      "2808021                        1           8     NaN          NaN       NaN   \n",
      "2808027                        1           1     NaN          NaN        to   \n",
      "2808030                        1           2     NaN          NaN        to   \n",
      "2808032                        1           3     NaN          NaN        to   \n",
      "2808034                        1           4     NaN          NaN        to   \n",
      "2808036                        1           5     NaN          NaN        to   \n",
      "2808038                        1           6     NaN          NaN        to   \n",
      "2808040                        1           7     NaN          NaN        to   \n",
      "2808042                        1           8     NaN          NaN        to   \n",
      "2808044                        1           9     NaN          NaN        to   \n",
      "2808046                        1          10     NaN          NaN        to   \n",
      "\n",
      "        previous       protein_id protein_version    ccds_id  \n",
      "2808006      NaN  ENSP00000381222               4  CCDS55373  \n",
      "2808009      NaN  ENSP00000381222               4  CCDS55373  \n",
      "2808011      NaN  ENSP00000381222               4  CCDS55373  \n",
      "2808013      NaN  ENSP00000381222               4  CCDS55373  \n",
      "2808015      NaN  ENSP00000381222               4  CCDS55373  \n",
      "2808017      NaN  ENSP00000381222               4  CCDS55373  \n",
      "2808019      NaN  ENSP00000381222               4  CCDS55373  \n",
      "2808021      NaN  ENSP00000381222               4  CCDS55373  \n",
      "2808027  version  ENSP00000369465               5  CCDS14178  \n",
      "2808030  version  ENSP00000369465               5  CCDS14178  \n",
      "2808032  version  ENSP00000369465               5  CCDS14178  \n",
      "2808034  version  ENSP00000369465               5  CCDS14178  \n",
      "2808036  version  ENSP00000369465               5  CCDS14178  \n",
      "2808038  version  ENSP00000369465               5  CCDS14178  \n",
      "2808040  version  ENSP00000369465               5  CCDS14178  \n",
      "2808042  version  ENSP00000369465               5  CCDS14178  \n",
      "2808044  version  ENSP00000369465               5  CCDS14178  \n",
      "2808046  version  ENSP00000369465               5  CCDS14178  \n",
      "\n",
      "[18 rows x 28 columns]\n",
      "<pandas.core.groupby.generic.DataFrameGroupBy object at 0x7f00ef1fe2b0>\n",
      "adding 16786689 16818473\n",
      "adding 16818977 16820063\n",
      "adding 16820355 16827993\n",
      "adding 16828364 16829475\n",
      "adding 16829870 16832522\n",
      "adding 16832842 16834182\n",
      "adding 16834457 16837492\n",
      "adding 16837785 16839720\n",
      "adding 16840016 16841327\n",
      "HERE 16786689 16827993\n",
      "adding 16828364 16829475\n",
      "adding 16829870 16832522\n",
      "adding 16832842 16834182\n",
      "adding 16834457 16837492\n"
     ]
    },
    {
     "name": "stderr",
     "output_type": "stream",
     "text": [
      "/tmp/ipykernel_3779053/2834357883.py:40: FutureWarning: The frame.append method is deprecated and will be removed from pandas in a future version. Use pandas.concat instead.\n",
      "  intron_coordinates = intron_coordinates.append(new_row, ignore_index=True)\n",
      "/tmp/ipykernel_3779053/2834357883.py:40: FutureWarning: The frame.append method is deprecated and will be removed from pandas in a future version. Use pandas.concat instead.\n",
      "  intron_coordinates = intron_coordinates.append(new_row, ignore_index=True)\n",
      "/tmp/ipykernel_3779053/2834357883.py:40: FutureWarning: The frame.append method is deprecated and will be removed from pandas in a future version. Use pandas.concat instead.\n",
      "  intron_coordinates = intron_coordinates.append(new_row, ignore_index=True)\n",
      "/tmp/ipykernel_3779053/2834357883.py:40: FutureWarning: The frame.append method is deprecated and will be removed from pandas in a future version. Use pandas.concat instead.\n",
      "  intron_coordinates = intron_coordinates.append(new_row, ignore_index=True)\n",
      "/tmp/ipykernel_3779053/2834357883.py:40: FutureWarning: The frame.append method is deprecated and will be removed from pandas in a future version. Use pandas.concat instead.\n",
      "  intron_coordinates = intron_coordinates.append(new_row, ignore_index=True)\n",
      "/tmp/ipykernel_3779053/2834357883.py:40: FutureWarning: The frame.append method is deprecated and will be removed from pandas in a future version. Use pandas.concat instead.\n",
      "  intron_coordinates = intron_coordinates.append(new_row, ignore_index=True)\n",
      "/tmp/ipykernel_3779053/2834357883.py:40: FutureWarning: The frame.append method is deprecated and will be removed from pandas in a future version. Use pandas.concat instead.\n",
      "  intron_coordinates = intron_coordinates.append(new_row, ignore_index=True)\n",
      "/tmp/ipykernel_3779053/2834357883.py:40: FutureWarning: The frame.append method is deprecated and will be removed from pandas in a future version. Use pandas.concat instead.\n",
      "  intron_coordinates = intron_coordinates.append(new_row, ignore_index=True)\n",
      "/tmp/ipykernel_3779053/2834357883.py:40: FutureWarning: The frame.append method is deprecated and will be removed from pandas in a future version. Use pandas.concat instead.\n",
      "  intron_coordinates = intron_coordinates.append(new_row, ignore_index=True)\n",
      "/tmp/ipykernel_3779053/2834357883.py:40: FutureWarning: The frame.append method is deprecated and will be removed from pandas in a future version. Use pandas.concat instead.\n",
      "  intron_coordinates = intron_coordinates.append(new_row, ignore_index=True)\n",
      "/tmp/ipykernel_3779053/2834357883.py:40: FutureWarning: The frame.append method is deprecated and will be removed from pandas in a future version. Use pandas.concat instead.\n",
      "  intron_coordinates = intron_coordinates.append(new_row, ignore_index=True)\n",
      "/tmp/ipykernel_3779053/2834357883.py:40: FutureWarning: The frame.append method is deprecated and will be removed from pandas in a future version. Use pandas.concat instead.\n",
      "  intron_coordinates = intron_coordinates.append(new_row, ignore_index=True)\n",
      "/tmp/ipykernel_3779053/2834357883.py:40: FutureWarning: The frame.append method is deprecated and will be removed from pandas in a future version. Use pandas.concat instead.\n",
      "  intron_coordinates = intron_coordinates.append(new_row, ignore_index=True)\n",
      "/tmp/ipykernel_3779053/2834357883.py:40: FutureWarning: The frame.append method is deprecated and will be removed from pandas in a future version. Use pandas.concat instead.\n",
      "  intron_coordinates = intron_coordinates.append(new_row, ignore_index=True)\n"
     ]
    },
    {
     "name": "stdout",
     "output_type": "stream",
     "text": [
      "adding 16837785 16839720\n",
      "adding 16840016 16841327\n",
      "Empty DataFrame\n",
      "Columns: [Chromosome, Source, Feature, Start, End, Score, Strand, Frame, gene_id, gene_version, gene_name, gene_source, gene_biotype, transcript_id, transcript_version, transcript_name, transcript_source, transcript_biotype, tag, transcript_support_level, exon_number, exon_id, exon_version, (assigned, previous, protein_id, protein_version, ccds_id]\n",
      "Index: []\n",
      "\n",
      "[0 rows x 28 columns]\n",
      "<pandas.core.groupby.generic.DataFrameGroupBy object at 0x7f00cab0ec40>\n",
      "HERE 19592914 19593298\n",
      "HERE 19597765 19599638\n",
      "adding 19599931 19602115\n",
      "adding 19602411 19603696\n",
      "HERE 19567582 19587109\n",
      "HERE 19587607 19588269\n",
      "HERE 19588750 19589426\n",
      "HERE 19589712 19589982\n",
      "HERE 19567582 19587109\n",
      "HERE 19587607 19589420\n",
      "HERE 19589712 19591679\n",
      "HERE 19592059 19593298\n",
      "HERE 19593693 19595914\n",
      "HERE 19596234 19597490\n",
      "HERE 19597765 19599638\n",
      "adding 19599931 19602115\n"
     ]
    },
    {
     "name": "stderr",
     "output_type": "stream",
     "text": [
      "/tmp/ipykernel_3779053/2834357883.py:40: FutureWarning: The frame.append method is deprecated and will be removed from pandas in a future version. Use pandas.concat instead.\n",
      "  intron_coordinates = intron_coordinates.append(new_row, ignore_index=True)\n",
      "/tmp/ipykernel_3779053/2834357883.py:40: FutureWarning: The frame.append method is deprecated and will be removed from pandas in a future version. Use pandas.concat instead.\n",
      "  intron_coordinates = intron_coordinates.append(new_row, ignore_index=True)\n",
      "/tmp/ipykernel_3779053/2834357883.py:40: FutureWarning: The frame.append method is deprecated and will be removed from pandas in a future version. Use pandas.concat instead.\n",
      "  intron_coordinates = intron_coordinates.append(new_row, ignore_index=True)\n",
      "/tmp/ipykernel_3779053/2834357883.py:40: FutureWarning: The frame.append method is deprecated and will be removed from pandas in a future version. Use pandas.concat instead.\n",
      "  intron_coordinates = intron_coordinates.append(new_row, ignore_index=True)\n"
     ]
    },
    {
     "name": "stdout",
     "output_type": "stream",
     "text": [
      "adding 19602411 19603696\n",
      "HERE 19568051 19587109\n",
      "HERE 19567582 19587109\n",
      "HERE 19587607 19589420\n",
      "HERE 19589712 19589982\n",
      "HERE 19567670 19587109\n",
      "HERE 19587607 19588269\n",
      "HERE 19589712 19589982\n",
      "adding 19590872 19591679\n",
      "HERE 19592059 19593298\n",
      "adding 19568051 19569284\n",
      "adding 19569559 19587109\n",
      "HERE 19587607 19588269\n",
      "HERE 19588750 19589420\n",
      "HERE 19589712 19591819\n",
      "HERE 19592059 19593298\n",
      "HERE 19588750 19589420\n",
      "HERE 19589712 19593298\n",
      "HERE 19588750 19589420\n",
      "HERE 19589712 19591679\n",
      "HERE 19592059 19593298\n",
      "HERE 19588750 19589420\n",
      "HERE 19589712 19589982\n",
      "adding 19597765 19598451\n",
      "adding 19598739 19599638\n"
     ]
    },
    {
     "name": "stderr",
     "output_type": "stream",
     "text": [
      "/tmp/ipykernel_3779053/2834357883.py:40: FutureWarning: The frame.append method is deprecated and will be removed from pandas in a future version. Use pandas.concat instead.\n",
      "  intron_coordinates = intron_coordinates.append(new_row, ignore_index=True)\n",
      "/tmp/ipykernel_3779053/2834357883.py:40: FutureWarning: The frame.append method is deprecated and will be removed from pandas in a future version. Use pandas.concat instead.\n",
      "  intron_coordinates = intron_coordinates.append(new_row, ignore_index=True)\n",
      "/tmp/ipykernel_3779053/2834357883.py:40: FutureWarning: The frame.append method is deprecated and will be removed from pandas in a future version. Use pandas.concat instead.\n",
      "  intron_coordinates = intron_coordinates.append(new_row, ignore_index=True)\n",
      "/tmp/ipykernel_3779053/2834357883.py:40: FutureWarning: The frame.append method is deprecated and will be removed from pandas in a future version. Use pandas.concat instead.\n",
      "  intron_coordinates = intron_coordinates.append(new_row, ignore_index=True)\n",
      "/tmp/ipykernel_3779053/2834357883.py:40: FutureWarning: The frame.append method is deprecated and will be removed from pandas in a future version. Use pandas.concat instead.\n",
      "  intron_coordinates = intron_coordinates.append(new_row, ignore_index=True)\n",
      "/tmp/ipykernel_3779053/2834357883.py:40: FutureWarning: The frame.append method is deprecated and will be removed from pandas in a future version. Use pandas.concat instead.\n",
      "  intron_coordinates = intron_coordinates.append(new_row, ignore_index=True)\n",
      "/tmp/ipykernel_3779053/2834357883.py:40: FutureWarning: The frame.append method is deprecated and will be removed from pandas in a future version. Use pandas.concat instead.\n",
      "  intron_coordinates = intron_coordinates.append(new_row, ignore_index=True)\n"
     ]
    },
    {
     "name": "stdout",
     "output_type": "stream",
     "text": [
      "adding 19599931 19602115\n",
      "adding 19602411 19603696\n",
      "        Chromosome          Source Feature     Start       End Score Strand  \\\n",
      "2855518       chrX  ensembl_havana     CDS  20141624  20141640     .      -   \n",
      "2855521       chrX  ensembl_havana     CDS  20138538  20138622     .      -   \n",
      "2855523       chrX  ensembl_havana     CDS  20135737  20135841     .      -   \n",
      "2855525       chrX  ensembl_havana     CDS  20133956  20134007     .      -   \n",
      "2855527       chrX  ensembl_havana     CDS  20132181  20132263     .      -   \n",
      "2855529       chrX  ensembl_havana     CDS  20130515  20130607     .      -   \n",
      "2855531       chrX  ensembl_havana     CDS  20128308  20128311     .      -   \n",
      "2855537       chrX          havana     CDS  20141624  20141640     .      -   \n",
      "2855540       chrX          havana     CDS  20135737  20135841     .      -   \n",
      "2855542       chrX          havana     CDS  20133956  20134007     .      -   \n",
      "2855544       chrX          havana     CDS  20132181  20132263     .      -   \n",
      "2855546       chrX          havana     CDS  20130515  20130607     .      -   \n",
      "2855548       chrX          havana     CDS  20128308  20128311     .      -   \n",
      "\n",
      "        Frame          gene_id gene_version  ...    tag  \\\n",
      "2855518     0  ENSG00000173674           11  ...  basic   \n",
      "2855521     2  ENSG00000173674           11  ...  basic   \n",
      "2855523     2  ENSG00000173674           11  ...  basic   \n",
      "2855525     0  ENSG00000173674           11  ...  basic   \n",
      "2855527     0  ENSG00000173674           11  ...  basic   \n",
      "2855529     2  ENSG00000173674           11  ...  basic   \n",
      "2855531     0  ENSG00000173674           11  ...  basic   \n",
      "2855537     0  ENSG00000173674           11  ...  basic   \n",
      "2855540     2  ENSG00000173674           11  ...  basic   \n",
      "2855542     0  ENSG00000173674           11  ...  basic   \n",
      "2855544     0  ENSG00000173674           11  ...  basic   \n",
      "2855546     2  ENSG00000173674           11  ...  basic   \n",
      "2855548     0  ENSG00000173674           11  ...  basic   \n",
      "\n",
      "        transcript_support_level exon_number exon_id exon_version (assigned  \\\n",
      "2855518                        1           1     NaN          NaN        to   \n",
      "2855521                        1           2     NaN          NaN        to   \n",
      "2855523                        1           3     NaN          NaN        to   \n",
      "2855525                        1           4     NaN          NaN        to   \n",
      "2855527                        1           5     NaN          NaN        to   \n",
      "2855529                        1           6     NaN          NaN        to   \n",
      "2855531                        1           7     NaN          NaN        to   \n",
      "2855537                        3           1     NaN          NaN       NaN   \n",
      "2855540                        3           2     NaN          NaN       NaN   \n",
      "2855542                        3           3     NaN          NaN       NaN   \n",
      "2855544                        3           4     NaN          NaN       NaN   \n",
      "2855546                        3           5     NaN          NaN       NaN   \n",
      "2855548                        3           6     NaN          NaN       NaN   \n",
      "\n",
      "        previous       protein_id protein_version    ccds_id  \n",
      "2855518  version  ENSP00000368927               5  CCDS14196  \n",
      "2855521  version  ENSP00000368927               5  CCDS14196  \n",
      "2855523  version  ENSP00000368927               5  CCDS14196  \n",
      "2855525  version  ENSP00000368927               5  CCDS14196  \n",
      "2855527  version  ENSP00000368927               5  CCDS14196  \n",
      "2855529  version  ENSP00000368927               5  CCDS14196  \n",
      "2855531  version  ENSP00000368927               5  CCDS14196  \n",
      "2855537      NaN  ENSP00000368912               1        NaN  \n",
      "2855540      NaN  ENSP00000368912               1        NaN  \n",
      "2855542      NaN  ENSP00000368912               1        NaN  \n",
      "2855544      NaN  ENSP00000368912               1        NaN  \n",
      "2855546      NaN  ENSP00000368912               1        NaN  \n",
      "2855548      NaN  ENSP00000368912               1        NaN  \n",
      "\n",
      "[13 rows x 28 columns]\n",
      "<pandas.core.groupby.generic.DataFrameGroupBy object at 0x7f0104cef4f0>\n",
      "adding 20128411 20130415\n",
      "adding 20130707 20132081\n",
      "adding 20132363 20133856\n",
      "adding 20134107 20135637\n",
      "HERE 20135941 20141524\n",
      "adding 20128411 20130415\n",
      "adding 20130707 20132081\n",
      "adding 20132363 20133856\n",
      "adding 20134107 20135637\n",
      "adding 20135941 20138438\n",
      "adding 20138722 20141524\n",
      "        Chromosome          Source Feature     Start       End Score Strand  \\\n",
      "2898718       chrY  ensembl_havana     CDS  20575871  20575887     .      +   \n",
      "2898721       chrY  ensembl_havana     CDS  20579607  20579691     .      +   \n",
      "2898723       chrY  ensembl_havana     CDS  20582589  20582693     .      +   \n",
      "2898725       chrY  ensembl_havana     CDS  20584473  20584524     .      +   \n",
      "2898727       chrY  ensembl_havana     CDS  20588023  20588105     .      +   \n",
      "2898729       chrY  ensembl_havana     CDS  20589483  20589575     .      +   \n",
      "2898731       chrY  ensembl_havana     CDS  20592340  20592343     .      +   \n",
      "2898743       chrY          havana     CDS  20575871  20575887     .      +   \n",
      "2898746       chrY          havana     CDS  20579607  20579691     .      +   \n",
      "2898748       chrY          havana     CDS  20582589  20582693     .      +   \n",
      "2898750       chrY          havana     CDS  20588023  20588105     .      +   \n",
      "2898752       chrY          havana     CDS  20589483  20589575     .      +   \n",
      "2898754       chrY          havana     CDS  20592340  20592343     .      +   \n",
      "\n",
      "        Frame          gene_id gene_version  ...    tag  \\\n",
      "2898718     0  ENSG00000198692           10  ...  basic   \n",
      "2898721     2  ENSG00000198692           10  ...  basic   \n",
      "2898723     2  ENSG00000198692           10  ...  basic   \n",
      "2898725     0  ENSG00000198692           10  ...  basic   \n",
      "2898727     0  ENSG00000198692           10  ...  basic   \n",
      "2898729     2  ENSG00000198692           10  ...  basic   \n",
      "2898731     0  ENSG00000198692           10  ...  basic   \n",
      "2898743     0  ENSG00000198692           10  ...  basic   \n",
      "2898746     2  ENSG00000198692           10  ...  basic   \n",
      "2898748     2  ENSG00000198692           10  ...  basic   \n",
      "2898750     0  ENSG00000198692           10  ...  basic   \n",
      "2898752     2  ENSG00000198692           10  ...  basic   \n",
      "2898754     0  ENSG00000198692           10  ...  basic   \n",
      "\n",
      "        transcript_support_level exon_number exon_id exon_version (assigned  \\\n",
      "2898718                        1           1     NaN          NaN        to   \n",
      "2898721                        1           2     NaN          NaN        to   \n",
      "2898723                        1           3     NaN          NaN        to   \n",
      "2898725                        1           4     NaN          NaN        to   \n",
      "2898727                        1           5     NaN          NaN        to   \n",
      "2898729                        1           6     NaN          NaN        to   \n",
      "2898731                        1           7     NaN          NaN        to   \n",
      "2898743                        1           1     NaN          NaN       NaN   \n",
      "2898746                        1           2     NaN          NaN       NaN   \n",
      "2898748                        1           3     NaN          NaN       NaN   \n",
      "2898750                        1           4     NaN          NaN       NaN   \n",
      "2898752                        1           5     NaN          NaN       NaN   \n",
      "2898754                        1           6     NaN          NaN       NaN   \n",
      "\n",
      "        previous       protein_id protein_version    ccds_id  \n",
      "2898718  version  ENSP00000354722               2  CCDS14795  \n",
      "2898721  version  ENSP00000354722               2  CCDS14795  \n",
      "2898723  version  ENSP00000354722               2  CCDS14795  \n",
      "2898725  version  ENSP00000354722               2  CCDS14795  \n",
      "2898727  version  ENSP00000354722               2  CCDS14795  \n",
      "2898729  version  ENSP00000354722               2  CCDS14795  \n",
      "2898731  version  ENSP00000354722               2  CCDS14795  \n",
      "2898743      NaN  ENSP00000372222               3  CCDS65368  \n",
      "2898746      NaN  ENSP00000372222               3  CCDS65368  \n",
      "2898748      NaN  ENSP00000372222               3  CCDS65368  \n",
      "2898750      NaN  ENSP00000372222               3  CCDS65368  \n",
      "2898752      NaN  ENSP00000372222               3  CCDS65368  \n",
      "2898754      NaN  ENSP00000372222               3  CCDS65368  \n",
      "\n",
      "[13 rows x 28 columns]\n",
      "<pandas.core.groupby.generic.DataFrameGroupBy object at 0x7f00762b6c40>\n",
      "adding 20575987 20579507\n",
      "adding 20579791 20582489\n",
      "adding 20582793 20584373\n",
      "adding 20584624 20587923\n",
      "adding 20588205 20589383\n"
     ]
    },
    {
     "name": "stderr",
     "output_type": "stream",
     "text": [
      "/tmp/ipykernel_3779053/2834357883.py:40: FutureWarning: The frame.append method is deprecated and will be removed from pandas in a future version. Use pandas.concat instead.\n",
      "  intron_coordinates = intron_coordinates.append(new_row, ignore_index=True)\n",
      "/tmp/ipykernel_3779053/2834357883.py:40: FutureWarning: The frame.append method is deprecated and will be removed from pandas in a future version. Use pandas.concat instead.\n",
      "  intron_coordinates = intron_coordinates.append(new_row, ignore_index=True)\n",
      "/tmp/ipykernel_3779053/2834357883.py:40: FutureWarning: The frame.append method is deprecated and will be removed from pandas in a future version. Use pandas.concat instead.\n",
      "  intron_coordinates = intron_coordinates.append(new_row, ignore_index=True)\n",
      "/tmp/ipykernel_3779053/2834357883.py:40: FutureWarning: The frame.append method is deprecated and will be removed from pandas in a future version. Use pandas.concat instead.\n",
      "  intron_coordinates = intron_coordinates.append(new_row, ignore_index=True)\n",
      "/tmp/ipykernel_3779053/2834357883.py:40: FutureWarning: The frame.append method is deprecated and will be removed from pandas in a future version. Use pandas.concat instead.\n",
      "  intron_coordinates = intron_coordinates.append(new_row, ignore_index=True)\n",
      "/tmp/ipykernel_3779053/2834357883.py:40: FutureWarning: The frame.append method is deprecated and will be removed from pandas in a future version. Use pandas.concat instead.\n",
      "  intron_coordinates = intron_coordinates.append(new_row, ignore_index=True)\n",
      "/tmp/ipykernel_3779053/2834357883.py:40: FutureWarning: The frame.append method is deprecated and will be removed from pandas in a future version. Use pandas.concat instead.\n",
      "  intron_coordinates = intron_coordinates.append(new_row, ignore_index=True)\n",
      "/tmp/ipykernel_3779053/2834357883.py:40: FutureWarning: The frame.append method is deprecated and will be removed from pandas in a future version. Use pandas.concat instead.\n",
      "  intron_coordinates = intron_coordinates.append(new_row, ignore_index=True)\n",
      "/tmp/ipykernel_3779053/2834357883.py:40: FutureWarning: The frame.append method is deprecated and will be removed from pandas in a future version. Use pandas.concat instead.\n",
      "  intron_coordinates = intron_coordinates.append(new_row, ignore_index=True)\n",
      "/tmp/ipykernel_3779053/2834357883.py:40: FutureWarning: The frame.append method is deprecated and will be removed from pandas in a future version. Use pandas.concat instead.\n",
      "  intron_coordinates = intron_coordinates.append(new_row, ignore_index=True)\n",
      "/tmp/ipykernel_3779053/2834357883.py:40: FutureWarning: The frame.append method is deprecated and will be removed from pandas in a future version. Use pandas.concat instead.\n",
      "  intron_coordinates = intron_coordinates.append(new_row, ignore_index=True)\n",
      "/tmp/ipykernel_3779053/2834357883.py:40: FutureWarning: The frame.append method is deprecated and will be removed from pandas in a future version. Use pandas.concat instead.\n",
      "  intron_coordinates = intron_coordinates.append(new_row, ignore_index=True)\n",
      "/tmp/ipykernel_3779053/2834357883.py:40: FutureWarning: The frame.append method is deprecated and will be removed from pandas in a future version. Use pandas.concat instead.\n",
      "  intron_coordinates = intron_coordinates.append(new_row, ignore_index=True)\n",
      "/tmp/ipykernel_3779053/2834357883.py:40: FutureWarning: The frame.append method is deprecated and will be removed from pandas in a future version. Use pandas.concat instead.\n",
      "  intron_coordinates = intron_coordinates.append(new_row, ignore_index=True)\n",
      "/tmp/ipykernel_3779053/2834357883.py:40: FutureWarning: The frame.append method is deprecated and will be removed from pandas in a future version. Use pandas.concat instead.\n",
      "  intron_coordinates = intron_coordinates.append(new_row, ignore_index=True)\n",
      "/tmp/ipykernel_3779053/2834357883.py:40: FutureWarning: The frame.append method is deprecated and will be removed from pandas in a future version. Use pandas.concat instead.\n",
      "  intron_coordinates = intron_coordinates.append(new_row, ignore_index=True)\n",
      "/tmp/ipykernel_3779053/2834357883.py:40: FutureWarning: The frame.append method is deprecated and will be removed from pandas in a future version. Use pandas.concat instead.\n",
      "  intron_coordinates = intron_coordinates.append(new_row, ignore_index=True)\n",
      "/tmp/ipykernel_3779053/2834357883.py:40: FutureWarning: The frame.append method is deprecated and will be removed from pandas in a future version. Use pandas.concat instead.\n",
      "  intron_coordinates = intron_coordinates.append(new_row, ignore_index=True)\n"
     ]
    },
    {
     "name": "stdout",
     "output_type": "stream",
     "text": [
      "adding 20589675 20592240\n",
      "adding 20575987 20579507\n",
      "adding 20579791 20582489\n",
      "HERE 20582793 20587923\n",
      "adding 20588205 20589383\n",
      "adding 20589675 20592240\n",
      "        Chromosome          Source Feature     Start       End Score Strand  \\\n",
      "2902683       chrY  ensembl_havana     CDS  19744384  19744534     .      -   \n",
      "2902686       chrY  ensembl_havana     CDS  19743161  19743239     .      -   \n",
      "2902688       chrY  ensembl_havana     CDS  19741734  19741857     .      -   \n",
      "2902690       chrY  ensembl_havana     CDS  19741317  19741488     .      -   \n",
      "2902692       chrY  ensembl_havana     CDS  19739527  19739662     .      -   \n",
      "...            ...             ...     ...       ...       ...   ...    ...   \n",
      "2902958       chrY          havana     CDS  19735351  19735497     .      -   \n",
      "2902960       chrY          havana     CDS  19732583  19732742     .      -   \n",
      "2902962       chrY          havana     CDS  19732045  19732165     .      -   \n",
      "2902964       chrY          havana     CDS  19731771  19731930     .      -   \n",
      "2902966       chrY          havana     CDS  19721271  19721311     .      -   \n",
      "\n",
      "        Frame          gene_id gene_version  ...          tag  \\\n",
      "2902683     0  ENSG00000012817           15  ...        basic   \n",
      "2902686     0  ENSG00000012817           15  ...        basic   \n",
      "2902688     0  ENSG00000012817           15  ...        basic   \n",
      "2902690     0  ENSG00000012817           15  ...        basic   \n",
      "2902692     0  ENSG00000012817           15  ...        basic   \n",
      "...       ...              ...          ...  ...          ...   \n",
      "2902958     2  ENSG00000012817           15  ...  mRNA_end_NF   \n",
      "2902960     0  ENSG00000012817           15  ...  mRNA_end_NF   \n",
      "2902962     0  ENSG00000012817           15  ...  mRNA_end_NF   \n",
      "2902964     0  ENSG00000012817           15  ...  mRNA_end_NF   \n",
      "2902966     0  ENSG00000012817           15  ...  mRNA_end_NF   \n",
      "\n",
      "        transcript_support_level exon_number exon_id exon_version (assigned  \\\n",
      "2902683                        1           2     NaN          NaN       NaN   \n",
      "2902686                        1           3     NaN          NaN       NaN   \n",
      "2902688                        1           4     NaN          NaN       NaN   \n",
      "2902690                        1           5     NaN          NaN       NaN   \n",
      "2902692                        1           6     NaN          NaN       NaN   \n",
      "...                          ...         ...     ...          ...       ...   \n",
      "2902958                        2           7     NaN          NaN       NaN   \n",
      "2902960                        2           8     NaN          NaN       NaN   \n",
      "2902962                        2           9     NaN          NaN       NaN   \n",
      "2902964                        2          10     NaN          NaN       NaN   \n",
      "2902966                        2          11     NaN          NaN       NaN   \n",
      "\n",
      "        previous       protein_id protein_version    ccds_id  \n",
      "2902683      NaN  ENSP00000322408               4  CCDS14794  \n",
      "2902686      NaN  ENSP00000322408               4  CCDS14794  \n",
      "2902688      NaN  ENSP00000322408               4  CCDS14794  \n",
      "2902690      NaN  ENSP00000322408               4  CCDS14794  \n",
      "2902692      NaN  ENSP00000322408               4  CCDS14794  \n",
      "...          ...              ...             ...        ...  \n",
      "2902958      NaN  ENSP00000416377               1        NaN  \n",
      "2902960      NaN  ENSP00000416377               1        NaN  \n",
      "2902962      NaN  ENSP00000416377               1        NaN  \n",
      "2902964      NaN  ENSP00000416377               1        NaN  \n",
      "2902966      NaN  ENSP00000416377               1        NaN  \n",
      "\n",
      "[117 rows x 28 columns]\n",
      "<pandas.core.groupby.generic.DataFrameGroupBy object at 0x7f0101237eb0>\n",
      "adding 19706963 19707046\n",
      "adding 19708523 19708774\n",
      "adding 19709113 19709350\n"
     ]
    },
    {
     "name": "stderr",
     "output_type": "stream",
     "text": [
      "/tmp/ipykernel_3779053/2834357883.py:40: FutureWarning: The frame.append method is deprecated and will be removed from pandas in a future version. Use pandas.concat instead.\n",
      "  intron_coordinates = intron_coordinates.append(new_row, ignore_index=True)\n",
      "/tmp/ipykernel_3779053/2834357883.py:40: FutureWarning: The frame.append method is deprecated and will be removed from pandas in a future version. Use pandas.concat instead.\n",
      "  intron_coordinates = intron_coordinates.append(new_row, ignore_index=True)\n",
      "/tmp/ipykernel_3779053/2834357883.py:40: FutureWarning: The frame.append method is deprecated and will be removed from pandas in a future version. Use pandas.concat instead.\n",
      "  intron_coordinates = intron_coordinates.append(new_row, ignore_index=True)\n",
      "/tmp/ipykernel_3779053/2834357883.py:40: FutureWarning: The frame.append method is deprecated and will be removed from pandas in a future version. Use pandas.concat instead.\n",
      "  intron_coordinates = intron_coordinates.append(new_row, ignore_index=True)\n",
      "/tmp/ipykernel_3779053/2834357883.py:40: FutureWarning: The frame.append method is deprecated and will be removed from pandas in a future version. Use pandas.concat instead.\n",
      "  intron_coordinates = intron_coordinates.append(new_row, ignore_index=True)\n",
      "/tmp/ipykernel_3779053/2834357883.py:40: FutureWarning: The frame.append method is deprecated and will be removed from pandas in a future version. Use pandas.concat instead.\n",
      "  intron_coordinates = intron_coordinates.append(new_row, ignore_index=True)\n",
      "/tmp/ipykernel_3779053/2834357883.py:40: FutureWarning: The frame.append method is deprecated and will be removed from pandas in a future version. Use pandas.concat instead.\n",
      "  intron_coordinates = intron_coordinates.append(new_row, ignore_index=True)\n"
     ]
    },
    {
     "name": "stdout",
     "output_type": "stream",
     "text": [
      "adding 19709909 19710275\n",
      "adding 19710572 19715251\n",
      "adding 19716104 19716178\n",
      "adding 19716815 19720771\n",
      "HERE 19721411 19731671\n",
      "adding 19732265 19732483\n"
     ]
    },
    {
     "name": "stderr",
     "output_type": "stream",
     "text": [
      "/tmp/ipykernel_3779053/2834357883.py:40: FutureWarning: The frame.append method is deprecated and will be removed from pandas in a future version. Use pandas.concat instead.\n",
      "  intron_coordinates = intron_coordinates.append(new_row, ignore_index=True)\n",
      "/tmp/ipykernel_3779053/2834357883.py:40: FutureWarning: The frame.append method is deprecated and will be removed from pandas in a future version. Use pandas.concat instead.\n",
      "  intron_coordinates = intron_coordinates.append(new_row, ignore_index=True)\n",
      "/tmp/ipykernel_3779053/2834357883.py:40: FutureWarning: The frame.append method is deprecated and will be removed from pandas in a future version. Use pandas.concat instead.\n",
      "  intron_coordinates = intron_coordinates.append(new_row, ignore_index=True)\n",
      "/tmp/ipykernel_3779053/2834357883.py:40: FutureWarning: The frame.append method is deprecated and will be removed from pandas in a future version. Use pandas.concat instead.\n",
      "  intron_coordinates = intron_coordinates.append(new_row, ignore_index=True)\n",
      "/tmp/ipykernel_3779053/2834357883.py:40: FutureWarning: The frame.append method is deprecated and will be removed from pandas in a future version. Use pandas.concat instead.\n",
      "  intron_coordinates = intron_coordinates.append(new_row, ignore_index=True)\n",
      "/tmp/ipykernel_3779053/2834357883.py:40: FutureWarning: The frame.append method is deprecated and will be removed from pandas in a future version. Use pandas.concat instead.\n",
      "  intron_coordinates = intron_coordinates.append(new_row, ignore_index=True)\n"
     ]
    },
    {
     "name": "stdout",
     "output_type": "stream",
     "text": [
      "adding 19732842 19735251\n",
      "adding 19735850 19739427\n",
      "adding 19739762 19741217\n",
      "adding 19741588 19741634\n",
      "adding 19741957 19743061\n",
      "adding 19743339 19744284\n"
     ]
    },
    {
     "name": "stderr",
     "output_type": "stream",
     "text": [
      "/tmp/ipykernel_3779053/2834357883.py:40: FutureWarning: The frame.append method is deprecated and will be removed from pandas in a future version. Use pandas.concat instead.\n",
      "  intron_coordinates = intron_coordinates.append(new_row, ignore_index=True)\n",
      "/tmp/ipykernel_3779053/2834357883.py:40: FutureWarning: The frame.append method is deprecated and will be removed from pandas in a future version. Use pandas.concat instead.\n",
      "  intron_coordinates = intron_coordinates.append(new_row, ignore_index=True)\n",
      "/tmp/ipykernel_3779053/2834357883.py:40: FutureWarning: The frame.append method is deprecated and will be removed from pandas in a future version. Use pandas.concat instead.\n",
      "  intron_coordinates = intron_coordinates.append(new_row, ignore_index=True)\n",
      "/tmp/ipykernel_3779053/2834357883.py:40: FutureWarning: The frame.append method is deprecated and will be removed from pandas in a future version. Use pandas.concat instead.\n",
      "  intron_coordinates = intron_coordinates.append(new_row, ignore_index=True)\n",
      "/tmp/ipykernel_3779053/2834357883.py:40: FutureWarning: The frame.append method is deprecated and will be removed from pandas in a future version. Use pandas.concat instead.\n",
      "  intron_coordinates = intron_coordinates.append(new_row, ignore_index=True)\n",
      "/tmp/ipykernel_3779053/2834357883.py:40: FutureWarning: The frame.append method is deprecated and will be removed from pandas in a future version. Use pandas.concat instead.\n",
      "  intron_coordinates = intron_coordinates.append(new_row, ignore_index=True)\n"
     ]
    },
    {
     "name": "stdout",
     "output_type": "stream",
     "text": [
      "adding 19706963 19707046\n",
      "adding 19708523 19708774\n",
      "adding 19709113 19709350\n",
      "adding 19709909 19710275\n",
      "adding 19710572 19715251\n",
      "adding 19716104 19716178\n"
     ]
    },
    {
     "name": "stderr",
     "output_type": "stream",
     "text": [
      "/tmp/ipykernel_3779053/2834357883.py:40: FutureWarning: The frame.append method is deprecated and will be removed from pandas in a future version. Use pandas.concat instead.\n",
      "  intron_coordinates = intron_coordinates.append(new_row, ignore_index=True)\n",
      "/tmp/ipykernel_3779053/2834357883.py:40: FutureWarning: The frame.append method is deprecated and will be removed from pandas in a future version. Use pandas.concat instead.\n",
      "  intron_coordinates = intron_coordinates.append(new_row, ignore_index=True)\n",
      "/tmp/ipykernel_3779053/2834357883.py:40: FutureWarning: The frame.append method is deprecated and will be removed from pandas in a future version. Use pandas.concat instead.\n",
      "  intron_coordinates = intron_coordinates.append(new_row, ignore_index=True)\n",
      "/tmp/ipykernel_3779053/2834357883.py:40: FutureWarning: The frame.append method is deprecated and will be removed from pandas in a future version. Use pandas.concat instead.\n",
      "  intron_coordinates = intron_coordinates.append(new_row, ignore_index=True)\n",
      "/tmp/ipykernel_3779053/2834357883.py:40: FutureWarning: The frame.append method is deprecated and will be removed from pandas in a future version. Use pandas.concat instead.\n",
      "  intron_coordinates = intron_coordinates.append(new_row, ignore_index=True)\n"
     ]
    },
    {
     "name": "stdout",
     "output_type": "stream",
     "text": [
      "adding 19716815 19720771\n",
      "HERE 19721411 19731671\n",
      "adding 19732265 19732483\n",
      "adding 19732842 19735251\n",
      "adding 19735850 19739427\n",
      "HERE 19739762 19741634\n",
      "adding 19741957 19743061\n"
     ]
    },
    {
     "name": "stderr",
     "output_type": "stream",
     "text": [
      "/tmp/ipykernel_3779053/2834357883.py:40: FutureWarning: The frame.append method is deprecated and will be removed from pandas in a future version. Use pandas.concat instead.\n",
      "  intron_coordinates = intron_coordinates.append(new_row, ignore_index=True)\n",
      "/tmp/ipykernel_3779053/2834357883.py:40: FutureWarning: The frame.append method is deprecated and will be removed from pandas in a future version. Use pandas.concat instead.\n",
      "  intron_coordinates = intron_coordinates.append(new_row, ignore_index=True)\n",
      "/tmp/ipykernel_3779053/2834357883.py:40: FutureWarning: The frame.append method is deprecated and will be removed from pandas in a future version. Use pandas.concat instead.\n",
      "  intron_coordinates = intron_coordinates.append(new_row, ignore_index=True)\n",
      "/tmp/ipykernel_3779053/2834357883.py:40: FutureWarning: The frame.append method is deprecated and will be removed from pandas in a future version. Use pandas.concat instead.\n",
      "  intron_coordinates = intron_coordinates.append(new_row, ignore_index=True)\n",
      "/tmp/ipykernel_3779053/2834357883.py:40: FutureWarning: The frame.append method is deprecated and will be removed from pandas in a future version. Use pandas.concat instead.\n",
      "  intron_coordinates = intron_coordinates.append(new_row, ignore_index=True)\n",
      "/tmp/ipykernel_3779053/2834357883.py:40: FutureWarning: The frame.append method is deprecated and will be removed from pandas in a future version. Use pandas.concat instead.\n",
      "  intron_coordinates = intron_coordinates.append(new_row, ignore_index=True)\n"
     ]
    },
    {
     "name": "stdout",
     "output_type": "stream",
     "text": [
      "adding 19743339 19744284\n",
      "adding 19708171 19708221\n",
      "adding 19708523 19708774\n",
      "adding 19706963 19707046\n",
      "adding 19708523 19708774\n",
      "adding 19709113 19709350\n"
     ]
    },
    {
     "name": "stderr",
     "output_type": "stream",
     "text": [
      "/tmp/ipykernel_3779053/2834357883.py:40: FutureWarning: The frame.append method is deprecated and will be removed from pandas in a future version. Use pandas.concat instead.\n",
      "  intron_coordinates = intron_coordinates.append(new_row, ignore_index=True)\n",
      "/tmp/ipykernel_3779053/2834357883.py:40: FutureWarning: The frame.append method is deprecated and will be removed from pandas in a future version. Use pandas.concat instead.\n",
      "  intron_coordinates = intron_coordinates.append(new_row, ignore_index=True)\n",
      "/tmp/ipykernel_3779053/2834357883.py:40: FutureWarning: The frame.append method is deprecated and will be removed from pandas in a future version. Use pandas.concat instead.\n",
      "  intron_coordinates = intron_coordinates.append(new_row, ignore_index=True)\n",
      "/tmp/ipykernel_3779053/2834357883.py:40: FutureWarning: The frame.append method is deprecated and will be removed from pandas in a future version. Use pandas.concat instead.\n",
      "  intron_coordinates = intron_coordinates.append(new_row, ignore_index=True)\n",
      "/tmp/ipykernel_3779053/2834357883.py:40: FutureWarning: The frame.append method is deprecated and will be removed from pandas in a future version. Use pandas.concat instead.\n",
      "  intron_coordinates = intron_coordinates.append(new_row, ignore_index=True)\n",
      "/tmp/ipykernel_3779053/2834357883.py:40: FutureWarning: The frame.append method is deprecated and will be removed from pandas in a future version. Use pandas.concat instead.\n",
      "  intron_coordinates = intron_coordinates.append(new_row, ignore_index=True)\n"
     ]
    },
    {
     "name": "stdout",
     "output_type": "stream",
     "text": [
      "adding 19709909 19710275\n",
      "adding 19710572 19715251\n",
      "adding 19716104 19716178\n",
      "adding 19716815 19720771\n",
      "HERE 19721411 19731671\n",
      "adding 19732265 19732483\n"
     ]
    },
    {
     "name": "stderr",
     "output_type": "stream",
     "text": [
      "/tmp/ipykernel_3779053/2834357883.py:40: FutureWarning: The frame.append method is deprecated and will be removed from pandas in a future version. Use pandas.concat instead.\n",
      "  intron_coordinates = intron_coordinates.append(new_row, ignore_index=True)\n",
      "/tmp/ipykernel_3779053/2834357883.py:40: FutureWarning: The frame.append method is deprecated and will be removed from pandas in a future version. Use pandas.concat instead.\n",
      "  intron_coordinates = intron_coordinates.append(new_row, ignore_index=True)\n",
      "/tmp/ipykernel_3779053/2834357883.py:40: FutureWarning: The frame.append method is deprecated and will be removed from pandas in a future version. Use pandas.concat instead.\n",
      "  intron_coordinates = intron_coordinates.append(new_row, ignore_index=True)\n",
      "/tmp/ipykernel_3779053/2834357883.py:40: FutureWarning: The frame.append method is deprecated and will be removed from pandas in a future version. Use pandas.concat instead.\n",
      "  intron_coordinates = intron_coordinates.append(new_row, ignore_index=True)\n",
      "/tmp/ipykernel_3779053/2834357883.py:40: FutureWarning: The frame.append method is deprecated and will be removed from pandas in a future version. Use pandas.concat instead.\n",
      "  intron_coordinates = intron_coordinates.append(new_row, ignore_index=True)\n",
      "/tmp/ipykernel_3779053/2834357883.py:40: FutureWarning: The frame.append method is deprecated and will be removed from pandas in a future version. Use pandas.concat instead.\n",
      "  intron_coordinates = intron_coordinates.append(new_row, ignore_index=True)\n"
     ]
    },
    {
     "name": "stdout",
     "output_type": "stream",
     "text": [
      "adding 19732842 19735251\n",
      "adding 19735850 19739427\n",
      "adding 19739762 19741217\n",
      "HERE 19741588 19743061\n",
      "adding 19743339 19744284\n",
      "HERE 19721411 19731671\n",
      "adding 19732265 19732483\n"
     ]
    },
    {
     "name": "stderr",
     "output_type": "stream",
     "text": [
      "/tmp/ipykernel_3779053/2834357883.py:40: FutureWarning: The frame.append method is deprecated and will be removed from pandas in a future version. Use pandas.concat instead.\n",
      "  intron_coordinates = intron_coordinates.append(new_row, ignore_index=True)\n",
      "/tmp/ipykernel_3779053/2834357883.py:40: FutureWarning: The frame.append method is deprecated and will be removed from pandas in a future version. Use pandas.concat instead.\n",
      "  intron_coordinates = intron_coordinates.append(new_row, ignore_index=True)\n",
      "/tmp/ipykernel_3779053/2834357883.py:40: FutureWarning: The frame.append method is deprecated and will be removed from pandas in a future version. Use pandas.concat instead.\n",
      "  intron_coordinates = intron_coordinates.append(new_row, ignore_index=True)\n",
      "/tmp/ipykernel_3779053/2834357883.py:40: FutureWarning: The frame.append method is deprecated and will be removed from pandas in a future version. Use pandas.concat instead.\n",
      "  intron_coordinates = intron_coordinates.append(new_row, ignore_index=True)\n",
      "/tmp/ipykernel_3779053/2834357883.py:40: FutureWarning: The frame.append method is deprecated and will be removed from pandas in a future version. Use pandas.concat instead.\n",
      "  intron_coordinates = intron_coordinates.append(new_row, ignore_index=True)\n"
     ]
    },
    {
     "name": "stdout",
     "output_type": "stream",
     "text": [
      "adding 19732842 19735251\n",
      "HERE 19735850 19741217\n",
      "adding 19741588 19741634\n",
      "adding 19741957 19743061\n",
      "adding 19743339 19744284\n",
      "adding 19706963 19707046\n"
     ]
    },
    {
     "name": "stderr",
     "output_type": "stream",
     "text": [
      "/tmp/ipykernel_3779053/2834357883.py:40: FutureWarning: The frame.append method is deprecated and will be removed from pandas in a future version. Use pandas.concat instead.\n",
      "  intron_coordinates = intron_coordinates.append(new_row, ignore_index=True)\n",
      "/tmp/ipykernel_3779053/2834357883.py:40: FutureWarning: The frame.append method is deprecated and will be removed from pandas in a future version. Use pandas.concat instead.\n",
      "  intron_coordinates = intron_coordinates.append(new_row, ignore_index=True)\n",
      "/tmp/ipykernel_3779053/2834357883.py:40: FutureWarning: The frame.append method is deprecated and will be removed from pandas in a future version. Use pandas.concat instead.\n",
      "  intron_coordinates = intron_coordinates.append(new_row, ignore_index=True)\n",
      "/tmp/ipykernel_3779053/2834357883.py:40: FutureWarning: The frame.append method is deprecated and will be removed from pandas in a future version. Use pandas.concat instead.\n",
      "  intron_coordinates = intron_coordinates.append(new_row, ignore_index=True)\n",
      "/tmp/ipykernel_3779053/2834357883.py:40: FutureWarning: The frame.append method is deprecated and will be removed from pandas in a future version. Use pandas.concat instead.\n",
      "  intron_coordinates = intron_coordinates.append(new_row, ignore_index=True)\n",
      "/tmp/ipykernel_3779053/2834357883.py:40: FutureWarning: The frame.append method is deprecated and will be removed from pandas in a future version. Use pandas.concat instead.\n",
      "  intron_coordinates = intron_coordinates.append(new_row, ignore_index=True)\n"
     ]
    },
    {
     "name": "stdout",
     "output_type": "stream",
     "text": [
      "adding 19708523 19708774\n",
      "adding 19709113 19709350\n",
      "adding 19709909 19710275\n",
      "adding 19710572 19715251\n",
      "adding 19716104 19716178\n",
      "adding 19716815 19720771\n"
     ]
    },
    {
     "name": "stderr",
     "output_type": "stream",
     "text": [
      "/tmp/ipykernel_3779053/2834357883.py:40: FutureWarning: The frame.append method is deprecated and will be removed from pandas in a future version. Use pandas.concat instead.\n",
      "  intron_coordinates = intron_coordinates.append(new_row, ignore_index=True)\n",
      "/tmp/ipykernel_3779053/2834357883.py:40: FutureWarning: The frame.append method is deprecated and will be removed from pandas in a future version. Use pandas.concat instead.\n",
      "  intron_coordinates = intron_coordinates.append(new_row, ignore_index=True)\n",
      "/tmp/ipykernel_3779053/2834357883.py:40: FutureWarning: The frame.append method is deprecated and will be removed from pandas in a future version. Use pandas.concat instead.\n",
      "  intron_coordinates = intron_coordinates.append(new_row, ignore_index=True)\n",
      "/tmp/ipykernel_3779053/2834357883.py:40: FutureWarning: The frame.append method is deprecated and will be removed from pandas in a future version. Use pandas.concat instead.\n",
      "  intron_coordinates = intron_coordinates.append(new_row, ignore_index=True)\n",
      "/tmp/ipykernel_3779053/2834357883.py:40: FutureWarning: The frame.append method is deprecated and will be removed from pandas in a future version. Use pandas.concat instead.\n",
      "  intron_coordinates = intron_coordinates.append(new_row, ignore_index=True)\n",
      "/tmp/ipykernel_3779053/2834357883.py:40: FutureWarning: The frame.append method is deprecated and will be removed from pandas in a future version. Use pandas.concat instead.\n",
      "  intron_coordinates = intron_coordinates.append(new_row, ignore_index=True)\n"
     ]
    },
    {
     "name": "stdout",
     "output_type": "stream",
     "text": [
      "adding 19721411 19723240\n",
      "adding 19723533 19731671\n",
      "adding 19732265 19732483\n",
      "adding 19732842 19735251\n",
      "adding 19735850 19739427\n",
      "adding 19739762 19741217\n"
     ]
    },
    {
     "name": "stderr",
     "output_type": "stream",
     "text": [
      "/tmp/ipykernel_3779053/2834357883.py:40: FutureWarning: The frame.append method is deprecated and will be removed from pandas in a future version. Use pandas.concat instead.\n",
      "  intron_coordinates = intron_coordinates.append(new_row, ignore_index=True)\n",
      "/tmp/ipykernel_3779053/2834357883.py:40: FutureWarning: The frame.append method is deprecated and will be removed from pandas in a future version. Use pandas.concat instead.\n",
      "  intron_coordinates = intron_coordinates.append(new_row, ignore_index=True)\n",
      "/tmp/ipykernel_3779053/2834357883.py:40: FutureWarning: The frame.append method is deprecated and will be removed from pandas in a future version. Use pandas.concat instead.\n",
      "  intron_coordinates = intron_coordinates.append(new_row, ignore_index=True)\n",
      "/tmp/ipykernel_3779053/2834357883.py:40: FutureWarning: The frame.append method is deprecated and will be removed from pandas in a future version. Use pandas.concat instead.\n",
      "  intron_coordinates = intron_coordinates.append(new_row, ignore_index=True)\n",
      "/tmp/ipykernel_3779053/2834357883.py:40: FutureWarning: The frame.append method is deprecated and will be removed from pandas in a future version. Use pandas.concat instead.\n",
      "  intron_coordinates = intron_coordinates.append(new_row, ignore_index=True)\n",
      "/tmp/ipykernel_3779053/2834357883.py:40: FutureWarning: The frame.append method is deprecated and will be removed from pandas in a future version. Use pandas.concat instead.\n",
      "  intron_coordinates = intron_coordinates.append(new_row, ignore_index=True)\n"
     ]
    },
    {
     "name": "stdout",
     "output_type": "stream",
     "text": [
      "adding 19741588 19741634\n",
      "adding 19741957 19743061\n",
      "adding 19743339 19744284\n",
      "        Chromosome   Source Feature     Start       End Score Strand Frame  \\\n",
      "2866005       chrX  ensembl     CDS  53224739  53224889     .      -     0   \n",
      "2866008       chrX  ensembl     CDS  53217795  53217966     .      -     0   \n",
      "2866010       chrX  ensembl     CDS  53217142  53217277     .      -     0   \n",
      "2866012       chrX  ensembl     CDS  53216073  53216197     .      -     0   \n",
      "2866014       chrX  ensembl     CDS  53215794  53215976     .      -     2   \n",
      "...            ...      ...     ...       ...       ...   ...    ...   ...   \n",
      "2866329       chrX   havana     CDS  53224739  53224889     .      -     0   \n",
      "2866332       chrX   havana     CDS  53220838  53220916     .      -     0   \n",
      "2866334       chrX   havana     CDS  53218643  53218712     .      -     0   \n",
      "2866342       chrX   havana     CDS  53224739  53224889     .      -     0   \n",
      "2866345       chrX   havana     CDS  53221721  53221793     .      -     0   \n",
      "\n",
      "                 gene_id gene_version  ...    tag transcript_support_level  \\\n",
      "2866005  ENSG00000126012           11  ...  basic                        5   \n",
      "2866008  ENSG00000126012           11  ...  basic                        5   \n",
      "2866010  ENSG00000126012           11  ...  basic                        5   \n",
      "2866012  ENSG00000126012           11  ...  basic                        5   \n",
      "2866014  ENSG00000126012           11  ...  basic                        5   \n",
      "...                  ...          ...  ...    ...                      ...   \n",
      "2866329  ENSG00000126012           11  ...    NaN                        3   \n",
      "2866332  ENSG00000126012           11  ...    NaN                        3   \n",
      "2866334  ENSG00000126012           11  ...    NaN                        3   \n",
      "2866342  ENSG00000126012           11  ...    NaN                        4   \n",
      "2866345  ENSG00000126012           11  ...    NaN                        4   \n",
      "\n",
      "        exon_number exon_id exon_version (assigned previous       protein_id  \\\n",
      "2866005           1     NaN          NaN       NaN      NaN  ENSP00000445176   \n",
      "2866008           2     NaN          NaN       NaN      NaN  ENSP00000445176   \n",
      "2866010           3     NaN          NaN       NaN      NaN  ENSP00000445176   \n",
      "2866012           4     NaN          NaN       NaN      NaN  ENSP00000445176   \n",
      "2866014           5     NaN          NaN       NaN      NaN  ENSP00000445176   \n",
      "...             ...     ...          ...       ...      ...              ...   \n",
      "2866329           1     NaN          NaN       NaN      NaN  ENSP00000407277   \n",
      "2866332           2     NaN          NaN       NaN      NaN  ENSP00000407277   \n",
      "2866334           3     NaN          NaN       NaN      NaN  ENSP00000407277   \n",
      "2866342           1     NaN          NaN       NaN      NaN  ENSP00000344004   \n",
      "2866345           2     NaN          NaN       NaN      NaN  ENSP00000344004   \n",
      "\n",
      "        protein_version    ccds_id  \n",
      "2866005               1  CCDS55417  \n",
      "2866008               1  CCDS55417  \n",
      "2866010               1  CCDS55417  \n",
      "2866012               1  CCDS55417  \n",
      "2866014               1  CCDS55417  \n",
      "...                 ...        ...  \n",
      "2866329               1        NaN  \n",
      "2866332               1        NaN  \n",
      "2866334               1        NaN  \n",
      "2866342               6        NaN  \n",
      "2866345               6        NaN  \n",
      "\n",
      "[134 rows x 28 columns]\n",
      "<pandas.core.groupby.generic.DataFrameGroupBy object at 0x7f00762b6c40>\n",
      "adding 53221893 53224639\n",
      "adding 53193951 53194038\n"
     ]
    },
    {
     "name": "stderr",
     "output_type": "stream",
     "text": [
      "/tmp/ipykernel_3779053/2834357883.py:40: FutureWarning: The frame.append method is deprecated and will be removed from pandas in a future version. Use pandas.concat instead.\n",
      "  intron_coordinates = intron_coordinates.append(new_row, ignore_index=True)\n",
      "/tmp/ipykernel_3779053/2834357883.py:40: FutureWarning: The frame.append method is deprecated and will be removed from pandas in a future version. Use pandas.concat instead.\n",
      "  intron_coordinates = intron_coordinates.append(new_row, ignore_index=True)\n",
      "/tmp/ipykernel_3779053/2834357883.py:40: FutureWarning: The frame.append method is deprecated and will be removed from pandas in a future version. Use pandas.concat instead.\n",
      "  intron_coordinates = intron_coordinates.append(new_row, ignore_index=True)\n",
      "/tmp/ipykernel_3779053/2834357883.py:40: FutureWarning: The frame.append method is deprecated and will be removed from pandas in a future version. Use pandas.concat instead.\n",
      "  intron_coordinates = intron_coordinates.append(new_row, ignore_index=True)\n",
      "/tmp/ipykernel_3779053/2834357883.py:40: FutureWarning: The frame.append method is deprecated and will be removed from pandas in a future version. Use pandas.concat instead.\n",
      "  intron_coordinates = intron_coordinates.append(new_row, ignore_index=True)\n",
      "/tmp/ipykernel_3779053/2834357883.py:40: FutureWarning: The frame.append method is deprecated and will be removed from pandas in a future version. Use pandas.concat instead.\n",
      "  intron_coordinates = intron_coordinates.append(new_row, ignore_index=True)\n"
     ]
    },
    {
     "name": "stdout",
     "output_type": "stream",
     "text": [
      "adding 53195510 53195815\n",
      "adding 53196154 53196585\n",
      "adding 53197144 53197670\n",
      "adding 53197976 53198389\n",
      "adding 53199258 53201449\n",
      "adding 53202073 53210313\n"
     ]
    },
    {
     "name": "stderr",
     "output_type": "stream",
     "text": [
      "/tmp/ipykernel_3779053/2834357883.py:40: FutureWarning: The frame.append method is deprecated and will be removed from pandas in a future version. Use pandas.concat instead.\n",
      "  intron_coordinates = intron_coordinates.append(new_row, ignore_index=True)\n",
      "/tmp/ipykernel_3779053/2834357883.py:40: FutureWarning: The frame.append method is deprecated and will be removed from pandas in a future version. Use pandas.concat instead.\n",
      "  intron_coordinates = intron_coordinates.append(new_row, ignore_index=True)\n",
      "/tmp/ipykernel_3779053/2834357883.py:40: FutureWarning: The frame.append method is deprecated and will be removed from pandas in a future version. Use pandas.concat instead.\n",
      "  intron_coordinates = intron_coordinates.append(new_row, ignore_index=True)\n",
      "/tmp/ipykernel_3779053/2834357883.py:40: FutureWarning: The frame.append method is deprecated and will be removed from pandas in a future version. Use pandas.concat instead.\n",
      "  intron_coordinates = intron_coordinates.append(new_row, ignore_index=True)\n",
      "/tmp/ipykernel_3779053/2834357883.py:40: FutureWarning: The frame.append method is deprecated and will be removed from pandas in a future version. Use pandas.concat instead.\n",
      "  intron_coordinates = intron_coordinates.append(new_row, ignore_index=True)\n",
      "/tmp/ipykernel_3779053/2834357883.py:40: FutureWarning: The frame.append method is deprecated and will be removed from pandas in a future version. Use pandas.concat instead.\n",
      "  intron_coordinates = intron_coordinates.append(new_row, ignore_index=True)\n"
     ]
    },
    {
     "name": "stdout",
     "output_type": "stream",
     "text": [
      "adding 53210957 53211396\n",
      "adding 53212006 53214588\n",
      "adding 53214947 53215694\n",
      "adding 53216297 53217042\n",
      "adding 53217377 53217695\n",
      "adding 53218066 53218175\n"
     ]
    },
    {
     "name": "stderr",
     "output_type": "stream",
     "text": [
      "/tmp/ipykernel_3779053/2834357883.py:40: FutureWarning: The frame.append method is deprecated and will be removed from pandas in a future version. Use pandas.concat instead.\n",
      "  intron_coordinates = intron_coordinates.append(new_row, ignore_index=True)\n",
      "/tmp/ipykernel_3779053/2834357883.py:40: FutureWarning: The frame.append method is deprecated and will be removed from pandas in a future version. Use pandas.concat instead.\n",
      "  intron_coordinates = intron_coordinates.append(new_row, ignore_index=True)\n",
      "/tmp/ipykernel_3779053/2834357883.py:40: FutureWarning: The frame.append method is deprecated and will be removed from pandas in a future version. Use pandas.concat instead.\n",
      "  intron_coordinates = intron_coordinates.append(new_row, ignore_index=True)\n",
      "/tmp/ipykernel_3779053/2834357883.py:40: FutureWarning: The frame.append method is deprecated and will be removed from pandas in a future version. Use pandas.concat instead.\n",
      "  intron_coordinates = intron_coordinates.append(new_row, ignore_index=True)\n"
     ]
    },
    {
     "name": "stdout",
     "output_type": "stream",
     "text": [
      "HERE 53218498 53220738\n",
      "HERE 53221016 53224639\n",
      "adding 53193951 53194038\n",
      "adding 53195510 53195815\n",
      "adding 53196154 53196585\n",
      "adding 53197144 53197670\n"
     ]
    },
    {
     "name": "stderr",
     "output_type": "stream",
     "text": [
      "/tmp/ipykernel_3779053/2834357883.py:40: FutureWarning: The frame.append method is deprecated and will be removed from pandas in a future version. Use pandas.concat instead.\n",
      "  intron_coordinates = intron_coordinates.append(new_row, ignore_index=True)\n",
      "/tmp/ipykernel_3779053/2834357883.py:40: FutureWarning: The frame.append method is deprecated and will be removed from pandas in a future version. Use pandas.concat instead.\n",
      "  intron_coordinates = intron_coordinates.append(new_row, ignore_index=True)\n",
      "/tmp/ipykernel_3779053/2834357883.py:40: FutureWarning: The frame.append method is deprecated and will be removed from pandas in a future version. Use pandas.concat instead.\n",
      "  intron_coordinates = intron_coordinates.append(new_row, ignore_index=True)\n",
      "/tmp/ipykernel_3779053/2834357883.py:40: FutureWarning: The frame.append method is deprecated and will be removed from pandas in a future version. Use pandas.concat instead.\n",
      "  intron_coordinates = intron_coordinates.append(new_row, ignore_index=True)\n",
      "/tmp/ipykernel_3779053/2834357883.py:40: FutureWarning: The frame.append method is deprecated and will be removed from pandas in a future version. Use pandas.concat instead.\n",
      "  intron_coordinates = intron_coordinates.append(new_row, ignore_index=True)\n"
     ]
    },
    {
     "name": "stdout",
     "output_type": "stream",
     "text": [
      "adding 53197976 53198389\n",
      "adding 53199258 53201449\n",
      "adding 53202073 53210313\n",
      "adding 53210957 53211396\n",
      "adding 53212006 53214588\n"
     ]
    },
    {
     "name": "stderr",
     "output_type": "stream",
     "text": [
      "/tmp/ipykernel_3779053/2834357883.py:40: FutureWarning: The frame.append method is deprecated and will be removed from pandas in a future version. Use pandas.concat instead.\n",
      "  intron_coordinates = intron_coordinates.append(new_row, ignore_index=True)\n",
      "/tmp/ipykernel_3779053/2834357883.py:40: FutureWarning: The frame.append method is deprecated and will be removed from pandas in a future version. Use pandas.concat instead.\n",
      "  intron_coordinates = intron_coordinates.append(new_row, ignore_index=True)\n",
      "/tmp/ipykernel_3779053/2834357883.py:40: FutureWarning: The frame.append method is deprecated and will be removed from pandas in a future version. Use pandas.concat instead.\n",
      "  intron_coordinates = intron_coordinates.append(new_row, ignore_index=True)\n",
      "/tmp/ipykernel_3779053/2834357883.py:40: FutureWarning: The frame.append method is deprecated and will be removed from pandas in a future version. Use pandas.concat instead.\n",
      "  intron_coordinates = intron_coordinates.append(new_row, ignore_index=True)\n"
     ]
    },
    {
     "name": "stdout",
     "output_type": "stream",
     "text": [
      "adding 53214947 53215694\n",
      "adding 53216297 53217042\n",
      "adding 53217377 53217695\n",
      "HERE 53218066 53220738\n",
      "HERE 53221016 53224639\n",
      "adding 53193951 53194038\n"
     ]
    },
    {
     "name": "stderr",
     "output_type": "stream",
     "text": [
      "/tmp/ipykernel_3779053/2834357883.py:40: FutureWarning: The frame.append method is deprecated and will be removed from pandas in a future version. Use pandas.concat instead.\n",
      "  intron_coordinates = intron_coordinates.append(new_row, ignore_index=True)\n",
      "/tmp/ipykernel_3779053/2834357883.py:40: FutureWarning: The frame.append method is deprecated and will be removed from pandas in a future version. Use pandas.concat instead.\n",
      "  intron_coordinates = intron_coordinates.append(new_row, ignore_index=True)\n",
      "/tmp/ipykernel_3779053/2834357883.py:40: FutureWarning: The frame.append method is deprecated and will be removed from pandas in a future version. Use pandas.concat instead.\n",
      "  intron_coordinates = intron_coordinates.append(new_row, ignore_index=True)\n",
      "/tmp/ipykernel_3779053/2834357883.py:40: FutureWarning: The frame.append method is deprecated and will be removed from pandas in a future version. Use pandas.concat instead.\n",
      "  intron_coordinates = intron_coordinates.append(new_row, ignore_index=True)\n",
      "/tmp/ipykernel_3779053/2834357883.py:40: FutureWarning: The frame.append method is deprecated and will be removed from pandas in a future version. Use pandas.concat instead.\n",
      "  intron_coordinates = intron_coordinates.append(new_row, ignore_index=True)\n",
      "/tmp/ipykernel_3779053/2834357883.py:40: FutureWarning: The frame.append method is deprecated and will be removed from pandas in a future version. Use pandas.concat instead.\n",
      "  intron_coordinates = intron_coordinates.append(new_row, ignore_index=True)\n"
     ]
    },
    {
     "name": "stdout",
     "output_type": "stream",
     "text": [
      "adding 53195510 53195815\n",
      "adding 53196154 53196585\n",
      "adding 53197144 53197670\n",
      "adding 53197976 53198389\n",
      "adding 53199258 53201449\n",
      "adding 53202073 53210313\n"
     ]
    },
    {
     "name": "stderr",
     "output_type": "stream",
     "text": [
      "/tmp/ipykernel_3779053/2834357883.py:40: FutureWarning: The frame.append method is deprecated and will be removed from pandas in a future version. Use pandas.concat instead.\n",
      "  intron_coordinates = intron_coordinates.append(new_row, ignore_index=True)\n",
      "/tmp/ipykernel_3779053/2834357883.py:40: FutureWarning: The frame.append method is deprecated and will be removed from pandas in a future version. Use pandas.concat instead.\n",
      "  intron_coordinates = intron_coordinates.append(new_row, ignore_index=True)\n",
      "/tmp/ipykernel_3779053/2834357883.py:40: FutureWarning: The frame.append method is deprecated and will be removed from pandas in a future version. Use pandas.concat instead.\n",
      "  intron_coordinates = intron_coordinates.append(new_row, ignore_index=True)\n",
      "/tmp/ipykernel_3779053/2834357883.py:40: FutureWarning: The frame.append method is deprecated and will be removed from pandas in a future version. Use pandas.concat instead.\n",
      "  intron_coordinates = intron_coordinates.append(new_row, ignore_index=True)\n",
      "/tmp/ipykernel_3779053/2834357883.py:40: FutureWarning: The frame.append method is deprecated and will be removed from pandas in a future version. Use pandas.concat instead.\n",
      "  intron_coordinates = intron_coordinates.append(new_row, ignore_index=True)\n",
      "/tmp/ipykernel_3779053/2834357883.py:40: FutureWarning: The frame.append method is deprecated and will be removed from pandas in a future version. Use pandas.concat instead.\n",
      "  intron_coordinates = intron_coordinates.append(new_row, ignore_index=True)\n"
     ]
    },
    {
     "name": "stdout",
     "output_type": "stream",
     "text": [
      "adding 53210957 53211396\n",
      "adding 53212006 53214588\n",
      "adding 53214947 53215694\n",
      "adding 53216297 53217042\n",
      "adding 53217377 53217695\n",
      "adding 53218066 53218175\n"
     ]
    },
    {
     "name": "stderr",
     "output_type": "stream",
     "text": [
      "/tmp/ipykernel_3779053/2834357883.py:40: FutureWarning: The frame.append method is deprecated and will be removed from pandas in a future version. Use pandas.concat instead.\n",
      "  intron_coordinates = intron_coordinates.append(new_row, ignore_index=True)\n",
      "/tmp/ipykernel_3779053/2834357883.py:40: FutureWarning: The frame.append method is deprecated and will be removed from pandas in a future version. Use pandas.concat instead.\n",
      "  intron_coordinates = intron_coordinates.append(new_row, ignore_index=True)\n",
      "/tmp/ipykernel_3779053/2834357883.py:40: FutureWarning: The frame.append method is deprecated and will be removed from pandas in a future version. Use pandas.concat instead.\n",
      "  intron_coordinates = intron_coordinates.append(new_row, ignore_index=True)\n",
      "/tmp/ipykernel_3779053/2834357883.py:40: FutureWarning: The frame.append method is deprecated and will be removed from pandas in a future version. Use pandas.concat instead.\n",
      "  intron_coordinates = intron_coordinates.append(new_row, ignore_index=True)\n"
     ]
    },
    {
     "name": "stdout",
     "output_type": "stream",
     "text": [
      "HERE 53218498 53220738\n",
      "HERE 53221016 53224639\n",
      "adding 53193951 53194038\n",
      "adding 53195510 53195815\n",
      "adding 53196154 53196585\n",
      "adding 53197144 53197670\n"
     ]
    },
    {
     "name": "stderr",
     "output_type": "stream",
     "text": [
      "/tmp/ipykernel_3779053/2834357883.py:40: FutureWarning: The frame.append method is deprecated and will be removed from pandas in a future version. Use pandas.concat instead.\n",
      "  intron_coordinates = intron_coordinates.append(new_row, ignore_index=True)\n",
      "/tmp/ipykernel_3779053/2834357883.py:40: FutureWarning: The frame.append method is deprecated and will be removed from pandas in a future version. Use pandas.concat instead.\n",
      "  intron_coordinates = intron_coordinates.append(new_row, ignore_index=True)\n",
      "/tmp/ipykernel_3779053/2834357883.py:40: FutureWarning: The frame.append method is deprecated and will be removed from pandas in a future version. Use pandas.concat instead.\n",
      "  intron_coordinates = intron_coordinates.append(new_row, ignore_index=True)\n",
      "/tmp/ipykernel_3779053/2834357883.py:40: FutureWarning: The frame.append method is deprecated and will be removed from pandas in a future version. Use pandas.concat instead.\n",
      "  intron_coordinates = intron_coordinates.append(new_row, ignore_index=True)\n",
      "/tmp/ipykernel_3779053/2834357883.py:40: FutureWarning: The frame.append method is deprecated and will be removed from pandas in a future version. Use pandas.concat instead.\n",
      "  intron_coordinates = intron_coordinates.append(new_row, ignore_index=True)\n"
     ]
    },
    {
     "name": "stdout",
     "output_type": "stream",
     "text": [
      "adding 53197976 53198389\n",
      "adding 53199258 53201449\n",
      "adding 53202073 53210313\n",
      "adding 53210957 53211396\n",
      "adding 53212006 53214588\n"
     ]
    },
    {
     "name": "stderr",
     "output_type": "stream",
     "text": [
      "/tmp/ipykernel_3779053/2834357883.py:40: FutureWarning: The frame.append method is deprecated and will be removed from pandas in a future version. Use pandas.concat instead.\n",
      "  intron_coordinates = intron_coordinates.append(new_row, ignore_index=True)\n",
      "/tmp/ipykernel_3779053/2834357883.py:40: FutureWarning: The frame.append method is deprecated and will be removed from pandas in a future version. Use pandas.concat instead.\n",
      "  intron_coordinates = intron_coordinates.append(new_row, ignore_index=True)\n",
      "/tmp/ipykernel_3779053/2834357883.py:40: FutureWarning: The frame.append method is deprecated and will be removed from pandas in a future version. Use pandas.concat instead.\n",
      "  intron_coordinates = intron_coordinates.append(new_row, ignore_index=True)\n",
      "/tmp/ipykernel_3779053/2834357883.py:40: FutureWarning: The frame.append method is deprecated and will be removed from pandas in a future version. Use pandas.concat instead.\n",
      "  intron_coordinates = intron_coordinates.append(new_row, ignore_index=True)\n",
      "/tmp/ipykernel_3779053/2834357883.py:40: FutureWarning: The frame.append method is deprecated and will be removed from pandas in a future version. Use pandas.concat instead.\n",
      "  intron_coordinates = intron_coordinates.append(new_row, ignore_index=True)\n"
     ]
    },
    {
     "name": "stdout",
     "output_type": "stream",
     "text": [
      "adding 53214947 53215694\n",
      "adding 53216297 53217042\n",
      "adding 53217374 53217695\n",
      "adding 53218066 53218175\n",
      "HERE 53218498 53220738\n",
      "HERE 53221016 53224639\n",
      "adding 53218812 53220738\n"
     ]
    },
    {
     "name": "stderr",
     "output_type": "stream",
     "text": [
      "/tmp/ipykernel_3779053/2834357883.py:40: FutureWarning: The frame.append method is deprecated and will be removed from pandas in a future version. Use pandas.concat instead.\n",
      "  intron_coordinates = intron_coordinates.append(new_row, ignore_index=True)\n",
      "/tmp/ipykernel_3779053/2834357883.py:40: FutureWarning: The frame.append method is deprecated and will be removed from pandas in a future version. Use pandas.concat instead.\n",
      "  intron_coordinates = intron_coordinates.append(new_row, ignore_index=True)\n",
      "/tmp/ipykernel_3779053/2834357883.py:40: FutureWarning: The frame.append method is deprecated and will be removed from pandas in a future version. Use pandas.concat instead.\n",
      "  intron_coordinates = intron_coordinates.append(new_row, ignore_index=True)\n",
      "/tmp/ipykernel_3779053/2834357883.py:40: FutureWarning: The frame.append method is deprecated and will be removed from pandas in a future version. Use pandas.concat instead.\n",
      "  intron_coordinates = intron_coordinates.append(new_row, ignore_index=True)\n",
      "/tmp/ipykernel_3779053/2834357883.py:40: FutureWarning: The frame.append method is deprecated and will be removed from pandas in a future version. Use pandas.concat instead.\n",
      "  intron_coordinates = intron_coordinates.append(new_row, ignore_index=True)\n"
     ]
    },
    {
     "name": "stdout",
     "output_type": "stream",
     "text": [
      "HERE 53221016 53224639\n",
      "adding 53221830 53224639\n",
      "HERE 53192937 53193397\n",
      "adding 53193951 53194038\n",
      "adding 53195510 53195815\n",
      "adding 53196154 53196585\n",
      "adding 53197144 53197670\n"
     ]
    },
    {
     "name": "stderr",
     "output_type": "stream",
     "text": [
      "/tmp/ipykernel_3779053/2834357883.py:40: FutureWarning: The frame.append method is deprecated and will be removed from pandas in a future version. Use pandas.concat instead.\n",
      "  intron_coordinates = intron_coordinates.append(new_row, ignore_index=True)\n",
      "/tmp/ipykernel_3779053/2834357883.py:40: FutureWarning: The frame.append method is deprecated and will be removed from pandas in a future version. Use pandas.concat instead.\n",
      "  intron_coordinates = intron_coordinates.append(new_row, ignore_index=True)\n",
      "/tmp/ipykernel_3779053/2834357883.py:40: FutureWarning: The frame.append method is deprecated and will be removed from pandas in a future version. Use pandas.concat instead.\n",
      "  intron_coordinates = intron_coordinates.append(new_row, ignore_index=True)\n",
      "/tmp/ipykernel_3779053/2834357883.py:40: FutureWarning: The frame.append method is deprecated and will be removed from pandas in a future version. Use pandas.concat instead.\n",
      "  intron_coordinates = intron_coordinates.append(new_row, ignore_index=True)\n",
      "/tmp/ipykernel_3779053/2834357883.py:40: FutureWarning: The frame.append method is deprecated and will be removed from pandas in a future version. Use pandas.concat instead.\n",
      "  intron_coordinates = intron_coordinates.append(new_row, ignore_index=True)\n",
      "/tmp/ipykernel_3779053/2834357883.py:40: FutureWarning: The frame.append method is deprecated and will be removed from pandas in a future version. Use pandas.concat instead.\n",
      "  intron_coordinates = intron_coordinates.append(new_row, ignore_index=True)\n"
     ]
    },
    {
     "name": "stdout",
     "output_type": "stream",
     "text": [
      "adding 53197976 53198389\n",
      "adding 53199258 53201449\n",
      "adding 53202073 53210313\n",
      "adding 53210957 53211396\n",
      "adding 53212006 53214588\n",
      "adding 53214947 53215694\n"
     ]
    },
    {
     "name": "stderr",
     "output_type": "stream",
     "text": [
      "/tmp/ipykernel_3779053/2834357883.py:40: FutureWarning: The frame.append method is deprecated and will be removed from pandas in a future version. Use pandas.concat instead.\n",
      "  intron_coordinates = intron_coordinates.append(new_row, ignore_index=True)\n",
      "/tmp/ipykernel_3779053/2834357883.py:40: FutureWarning: The frame.append method is deprecated and will be removed from pandas in a future version. Use pandas.concat instead.\n",
      "  intron_coordinates = intron_coordinates.append(new_row, ignore_index=True)\n",
      "/tmp/ipykernel_3779053/2834357883.py:40: FutureWarning: The frame.append method is deprecated and will be removed from pandas in a future version. Use pandas.concat instead.\n",
      "  intron_coordinates = intron_coordinates.append(new_row, ignore_index=True)\n"
     ]
    },
    {
     "name": "stdout",
     "output_type": "stream",
     "text": [
      "adding 53216297 53217042\n",
      "adding 53217377 53217695\n",
      "HERE 53218066 53224639\n",
      "        Chromosome  Source Feature     Start       End Score Strand Frame  \\\n",
      "2901292       chrY  havana     CDS  13479513  13479665     .      -     0   \n",
      "2901295       chrY  havana     CDS  13479253  13479317     .      -     1   \n",
      "2901297       chrY  havana     CDS  13470120  13470229     .      -     0   \n",
      "2901299       chrY  havana     CDS  13449016  13449066     .      -     2   \n",
      "2901301       chrY  havana     CDS  13414734  13414793     .      -     0   \n",
      "...            ...     ...     ...       ...       ...   ...    ...   ...   \n",
      "2902028       chrY  havana     CDS  13470120  13470229     .      -     0   \n",
      "2902030       chrY  havana     CDS  13449016  13449066     .      -     2   \n",
      "2902032       chrY  havana     CDS  13414734  13414793     .      -     0   \n",
      "2902034       chrY  havana     CDS  13410992  13411113     .      -     1   \n",
      "2902036       chrY  havana     CDS  13396906  13396972     .      -     0   \n",
      "\n",
      "                 gene_id gene_version  ...    tag transcript_support_level  \\\n",
      "2901292  ENSG00000183878           15  ...  basic                        1   \n",
      "2901295  ENSG00000183878           15  ...  basic                        1   \n",
      "2901297  ENSG00000183878           15  ...  basic                        1   \n",
      "2901299  ENSG00000183878           15  ...  basic                        1   \n",
      "2901301  ENSG00000183878           15  ...  basic                        1   \n",
      "...                  ...          ...  ...    ...                      ...   \n",
      "2902028  ENSG00000183878           15  ...  basic                        2   \n",
      "2902030  ENSG00000183878           15  ...  basic                        2   \n",
      "2902032  ENSG00000183878           15  ...  basic                        2   \n",
      "2902034  ENSG00000183878           15  ...  basic                        2   \n",
      "2902036  ENSG00000183878           15  ...  basic                        2   \n",
      "\n",
      "        exon_number exon_id exon_version (assigned previous       protein_id  \\\n",
      "2901292           1     NaN          NaN       NaN      NaN  ENSP00000328939   \n",
      "2901295           2     NaN          NaN       NaN      NaN  ENSP00000328939   \n",
      "2901297           3     NaN          NaN       NaN      NaN  ENSP00000328939   \n",
      "2901299           4     NaN          NaN       NaN      NaN  ENSP00000328939   \n",
      "2901301           5     NaN          NaN       NaN      NaN  ENSP00000328939   \n",
      "...             ...     ...          ...       ...      ...              ...   \n",
      "2902028           3     NaN          NaN       NaN      NaN  ENSP00000372349   \n",
      "2902030           4     NaN          NaN       NaN      NaN  ENSP00000372349   \n",
      "2902032           5     NaN          NaN       NaN      NaN  ENSP00000372349   \n",
      "2902034           6     NaN          NaN       NaN      NaN  ENSP00000372349   \n",
      "2902036           7     NaN          NaN       NaN      NaN  ENSP00000372349   \n",
      "\n",
      "        protein_version    ccds_id  \n",
      "2901292               4  CCDS14783  \n",
      "2901295               4  CCDS14783  \n",
      "2901297               4  CCDS14783  \n",
      "2901299               4  CCDS14783  \n",
      "2901301               4  CCDS14783  \n",
      "...                 ...        ...  \n",
      "2902028               1        NaN  \n",
      "2902030               1        NaN  \n",
      "2902032               1        NaN  \n",
      "2902034               1        NaN  \n",
      "2902036               1        NaN  \n",
      "\n",
      "[334 rows x 28 columns]\n",
      "<pandas.core.groupby.generic.DataFrameGroupBy object at 0x7f00eef5dc70>\n",
      "adding 13323860 13324500\n"
     ]
    },
    {
     "name": "stderr",
     "output_type": "stream",
     "text": [
      "/tmp/ipykernel_3779053/2834357883.py:40: FutureWarning: The frame.append method is deprecated and will be removed from pandas in a future version. Use pandas.concat instead.\n",
      "  intron_coordinates = intron_coordinates.append(new_row, ignore_index=True)\n",
      "/tmp/ipykernel_3779053/2834357883.py:40: FutureWarning: The frame.append method is deprecated and will be removed from pandas in a future version. Use pandas.concat instead.\n",
      "  intron_coordinates = intron_coordinates.append(new_row, ignore_index=True)\n",
      "/tmp/ipykernel_3779053/2834357883.py:40: FutureWarning: The frame.append method is deprecated and will be removed from pandas in a future version. Use pandas.concat instead.\n",
      "  intron_coordinates = intron_coordinates.append(new_row, ignore_index=True)\n"
     ]
    },
    {
     "name": "stdout",
     "output_type": "stream",
     "text": [
      "adding 13324806 13326120\n",
      "adding 13326450 13335462\n",
      "HERE 13336435 13354902\n",
      "adding 13355498 13355822\n",
      "adding 13356118 13357776\n",
      "HERE 13358069 13359666\n"
     ]
    },
    {
     "name": "stderr",
     "output_type": "stream",
     "text": [
      "/tmp/ipykernel_3779053/2834357883.py:40: FutureWarning: The frame.append method is deprecated and will be removed from pandas in a future version. Use pandas.concat instead.\n",
      "  intron_coordinates = intron_coordinates.append(new_row, ignore_index=True)\n",
      "/tmp/ipykernel_3779053/2834357883.py:40: FutureWarning: The frame.append method is deprecated and will be removed from pandas in a future version. Use pandas.concat instead.\n",
      "  intron_coordinates = intron_coordinates.append(new_row, ignore_index=True)\n"
     ]
    },
    {
     "name": "stdout",
     "output_type": "stream",
     "text": [
      "adding 13360086 13360329\n",
      "adding 13360628 13366166\n",
      "adding 13366493 13369155\n"
     ]
    },
    {
     "name": "stderr",
     "output_type": "stream",
     "text": [
      "/tmp/ipykernel_3779053/2834357883.py:40: FutureWarning: The frame.append method is deprecated and will be removed from pandas in a future version. Use pandas.concat instead.\n",
      "  intron_coordinates = intron_coordinates.append(new_row, ignore_index=True)\n",
      "/tmp/ipykernel_3779053/2834357883.py:40: FutureWarning: The frame.append method is deprecated and will be removed from pandas in a future version. Use pandas.concat instead.\n",
      "  intron_coordinates = intron_coordinates.append(new_row, ignore_index=True)\n",
      "/tmp/ipykernel_3779053/2834357883.py:40: FutureWarning: The frame.append method is deprecated and will be removed from pandas in a future version. Use pandas.concat instead.\n",
      "  intron_coordinates = intron_coordinates.append(new_row, ignore_index=True)\n"
     ]
    },
    {
     "name": "stdout",
     "output_type": "stream",
     "text": [
      "adding 13369449 13393758\n",
      "adding 13393993 13396817\n",
      "adding 13397072 13410892\n"
     ]
    },
    {
     "name": "stderr",
     "output_type": "stream",
     "text": [
      "/tmp/ipykernel_3779053/2834357883.py:40: FutureWarning: The frame.append method is deprecated and will be removed from pandas in a future version. Use pandas.concat instead.\n",
      "  intron_coordinates = intron_coordinates.append(new_row, ignore_index=True)\n",
      "/tmp/ipykernel_3779053/2834357883.py:40: FutureWarning: The frame.append method is deprecated and will be removed from pandas in a future version. Use pandas.concat instead.\n",
      "  intron_coordinates = intron_coordinates.append(new_row, ignore_index=True)\n",
      "/tmp/ipykernel_3779053/2834357883.py:40: FutureWarning: The frame.append method is deprecated and will be removed from pandas in a future version. Use pandas.concat instead.\n",
      "  intron_coordinates = intron_coordinates.append(new_row, ignore_index=True)\n"
     ]
    },
    {
     "name": "stdout",
     "output_type": "stream",
     "text": [
      "adding 13411213 13414634\n",
      "adding 13414893 13448916\n",
      "adding 13449166 13470020\n"
     ]
    },
    {
     "name": "stderr",
     "output_type": "stream",
     "text": [
      "/tmp/ipykernel_3779053/2834357883.py:40: FutureWarning: The frame.append method is deprecated and will be removed from pandas in a future version. Use pandas.concat instead.\n",
      "  intron_coordinates = intron_coordinates.append(new_row, ignore_index=True)\n",
      "/tmp/ipykernel_3779053/2834357883.py:40: FutureWarning: The frame.append method is deprecated and will be removed from pandas in a future version. Use pandas.concat instead.\n",
      "  intron_coordinates = intron_coordinates.append(new_row, ignore_index=True)\n",
      "/tmp/ipykernel_3779053/2834357883.py:40: FutureWarning: The frame.append method is deprecated and will be removed from pandas in a future version. Use pandas.concat instead.\n",
      "  intron_coordinates = intron_coordinates.append(new_row, ignore_index=True)\n"
     ]
    },
    {
     "name": "stdout",
     "output_type": "stream",
     "text": [
      "adding 13470329 13479153\n",
      "adding 13249982 13250916\n",
      "adding 13251287 13260177\n"
     ]
    },
    {
     "name": "stderr",
     "output_type": "stream",
     "text": [
      "/tmp/ipykernel_3779053/2834357883.py:40: FutureWarning: The frame.append method is deprecated and will be removed from pandas in a future version. Use pandas.concat instead.\n",
      "  intron_coordinates = intron_coordinates.append(new_row, ignore_index=True)\n",
      "/tmp/ipykernel_3779053/2834357883.py:40: FutureWarning: The frame.append method is deprecated and will be removed from pandas in a future version. Use pandas.concat instead.\n",
      "  intron_coordinates = intron_coordinates.append(new_row, ignore_index=True)\n",
      "/tmp/ipykernel_3779053/2834357883.py:40: FutureWarning: The frame.append method is deprecated and will be removed from pandas in a future version. Use pandas.concat instead.\n",
      "  intron_coordinates = intron_coordinates.append(new_row, ignore_index=True)\n"
     ]
    },
    {
     "name": "stdout",
     "output_type": "stream",
     "text": [
      "adding 13260504 13297606\n",
      "adding 13297948 13298856\n",
      "adding 13299244 13302776\n"
     ]
    },
    {
     "name": "stderr",
     "output_type": "stream",
     "text": [
      "/tmp/ipykernel_3779053/2834357883.py:40: FutureWarning: The frame.append method is deprecated and will be removed from pandas in a future version. Use pandas.concat instead.\n",
      "  intron_coordinates = intron_coordinates.append(new_row, ignore_index=True)\n",
      "/tmp/ipykernel_3779053/2834357883.py:40: FutureWarning: The frame.append method is deprecated and will be removed from pandas in a future version. Use pandas.concat instead.\n",
      "  intron_coordinates = intron_coordinates.append(new_row, ignore_index=True)\n",
      "/tmp/ipykernel_3779053/2834357883.py:40: FutureWarning: The frame.append method is deprecated and will be removed from pandas in a future version. Use pandas.concat instead.\n",
      "  intron_coordinates = intron_coordinates.append(new_row, ignore_index=True)\n"
     ]
    },
    {
     "name": "stdout",
     "output_type": "stream",
     "text": [
      "adding 13303091 13305298\n",
      "adding 13305647 13305937\n",
      "HERE 13306350 13323454\n"
     ]
    },
    {
     "name": "stderr",
     "output_type": "stream",
     "text": [
      "/tmp/ipykernel_3779053/2834357883.py:40: FutureWarning: The frame.append method is deprecated and will be removed from pandas in a future version. Use pandas.concat instead.\n",
      "  intron_coordinates = intron_coordinates.append(new_row, ignore_index=True)\n",
      "/tmp/ipykernel_3779053/2834357883.py:40: FutureWarning: The frame.append method is deprecated and will be removed from pandas in a future version. Use pandas.concat instead.\n",
      "  intron_coordinates = intron_coordinates.append(new_row, ignore_index=True)\n"
     ]
    },
    {
     "name": "stdout",
     "output_type": "stream",
     "text": [
      "adding 13323860 13324500\n",
      "adding 13324806 13326120\n",
      "adding 13326450 13335462\n"
     ]
    },
    {
     "name": "stderr",
     "output_type": "stream",
     "text": [
      "/tmp/ipykernel_3779053/2834357883.py:40: FutureWarning: The frame.append method is deprecated and will be removed from pandas in a future version. Use pandas.concat instead.\n",
      "  intron_coordinates = intron_coordinates.append(new_row, ignore_index=True)\n",
      "/tmp/ipykernel_3779053/2834357883.py:40: FutureWarning: The frame.append method is deprecated and will be removed from pandas in a future version. Use pandas.concat instead.\n",
      "  intron_coordinates = intron_coordinates.append(new_row, ignore_index=True)\n",
      "/tmp/ipykernel_3779053/2834357883.py:40: FutureWarning: The frame.append method is deprecated and will be removed from pandas in a future version. Use pandas.concat instead.\n",
      "  intron_coordinates = intron_coordinates.append(new_row, ignore_index=True)\n"
     ]
    },
    {
     "name": "stdout",
     "output_type": "stream",
     "text": [
      "HERE 13336435 13354902\n",
      "adding 13355498 13355822\n",
      "adding 13356118 13357776\n",
      "HERE 13358069 13359666\n"
     ]
    },
    {
     "name": "stderr",
     "output_type": "stream",
     "text": [
      "/tmp/ipykernel_3779053/2834357883.py:40: FutureWarning: The frame.append method is deprecated and will be removed from pandas in a future version. Use pandas.concat instead.\n",
      "  intron_coordinates = intron_coordinates.append(new_row, ignore_index=True)\n",
      "/tmp/ipykernel_3779053/2834357883.py:40: FutureWarning: The frame.append method is deprecated and will be removed from pandas in a future version. Use pandas.concat instead.\n",
      "  intron_coordinates = intron_coordinates.append(new_row, ignore_index=True)\n"
     ]
    },
    {
     "name": "stdout",
     "output_type": "stream",
     "text": [
      "adding 13360086 13360329\n",
      "adding 13360628 13366166\n",
      "adding 13366493 13369155\n"
     ]
    },
    {
     "name": "stderr",
     "output_type": "stream",
     "text": [
      "/tmp/ipykernel_3779053/2834357883.py:40: FutureWarning: The frame.append method is deprecated and will be removed from pandas in a future version. Use pandas.concat instead.\n",
      "  intron_coordinates = intron_coordinates.append(new_row, ignore_index=True)\n",
      "/tmp/ipykernel_3779053/2834357883.py:40: FutureWarning: The frame.append method is deprecated and will be removed from pandas in a future version. Use pandas.concat instead.\n",
      "  intron_coordinates = intron_coordinates.append(new_row, ignore_index=True)\n",
      "/tmp/ipykernel_3779053/2834357883.py:40: FutureWarning: The frame.append method is deprecated and will be removed from pandas in a future version. Use pandas.concat instead.\n",
      "  intron_coordinates = intron_coordinates.append(new_row, ignore_index=True)\n"
     ]
    },
    {
     "name": "stdout",
     "output_type": "stream",
     "text": [
      "adding 13369449 13393758\n",
      "adding 13393993 13396817\n",
      "adding 13397072 13410892\n"
     ]
    },
    {
     "name": "stderr",
     "output_type": "stream",
     "text": [
      "/tmp/ipykernel_3779053/2834357883.py:40: FutureWarning: The frame.append method is deprecated and will be removed from pandas in a future version. Use pandas.concat instead.\n",
      "  intron_coordinates = intron_coordinates.append(new_row, ignore_index=True)\n",
      "/tmp/ipykernel_3779053/2834357883.py:40: FutureWarning: The frame.append method is deprecated and will be removed from pandas in a future version. Use pandas.concat instead.\n",
      "  intron_coordinates = intron_coordinates.append(new_row, ignore_index=True)\n",
      "/tmp/ipykernel_3779053/2834357883.py:40: FutureWarning: The frame.append method is deprecated and will be removed from pandas in a future version. Use pandas.concat instead.\n",
      "  intron_coordinates = intron_coordinates.append(new_row, ignore_index=True)\n"
     ]
    },
    {
     "name": "stdout",
     "output_type": "stream",
     "text": [
      "adding 13411213 13414634\n",
      "adding 13414893 13448916\n",
      "adding 13449166 13470020\n"
     ]
    },
    {
     "name": "stderr",
     "output_type": "stream",
     "text": [
      "/tmp/ipykernel_3779053/2834357883.py:40: FutureWarning: The frame.append method is deprecated and will be removed from pandas in a future version. Use pandas.concat instead.\n",
      "  intron_coordinates = intron_coordinates.append(new_row, ignore_index=True)\n",
      "/tmp/ipykernel_3779053/2834357883.py:40: FutureWarning: The frame.append method is deprecated and will be removed from pandas in a future version. Use pandas.concat instead.\n",
      "  intron_coordinates = intron_coordinates.append(new_row, ignore_index=True)\n",
      "/tmp/ipykernel_3779053/2834357883.py:40: FutureWarning: The frame.append method is deprecated and will be removed from pandas in a future version. Use pandas.concat instead.\n",
      "  intron_coordinates = intron_coordinates.append(new_row, ignore_index=True)\n"
     ]
    },
    {
     "name": "stdout",
     "output_type": "stream",
     "text": [
      "adding 13470329 13479153\n",
      "adding 13297948 13298856\n",
      "adding 13299244 13302776\n"
     ]
    },
    {
     "name": "stderr",
     "output_type": "stream",
     "text": [
      "/tmp/ipykernel_3779053/2834357883.py:40: FutureWarning: The frame.append method is deprecated and will be removed from pandas in a future version. Use pandas.concat instead.\n",
      "  intron_coordinates = intron_coordinates.append(new_row, ignore_index=True)\n",
      "/tmp/ipykernel_3779053/2834357883.py:40: FutureWarning: The frame.append method is deprecated and will be removed from pandas in a future version. Use pandas.concat instead.\n",
      "  intron_coordinates = intron_coordinates.append(new_row, ignore_index=True)\n",
      "/tmp/ipykernel_3779053/2834357883.py:40: FutureWarning: The frame.append method is deprecated and will be removed from pandas in a future version. Use pandas.concat instead.\n",
      "  intron_coordinates = intron_coordinates.append(new_row, ignore_index=True)\n"
     ]
    },
    {
     "name": "stdout",
     "output_type": "stream",
     "text": [
      "adding 13303091 13305298\n",
      "adding 13305647 13305937\n",
      "HERE 13306350 13323454\n"
     ]
    },
    {
     "name": "stderr",
     "output_type": "stream",
     "text": [
      "/tmp/ipykernel_3779053/2834357883.py:40: FutureWarning: The frame.append method is deprecated and will be removed from pandas in a future version. Use pandas.concat instead.\n",
      "  intron_coordinates = intron_coordinates.append(new_row, ignore_index=True)\n",
      "/tmp/ipykernel_3779053/2834357883.py:40: FutureWarning: The frame.append method is deprecated and will be removed from pandas in a future version. Use pandas.concat instead.\n",
      "  intron_coordinates = intron_coordinates.append(new_row, ignore_index=True)\n"
     ]
    },
    {
     "name": "stdout",
     "output_type": "stream",
     "text": [
      "adding 13323860 13324500\n",
      "adding 13324806 13326120\n",
      "adding 13326450 13335462\n"
     ]
    },
    {
     "name": "stderr",
     "output_type": "stream",
     "text": [
      "/tmp/ipykernel_3779053/2834357883.py:40: FutureWarning: The frame.append method is deprecated and will be removed from pandas in a future version. Use pandas.concat instead.\n",
      "  intron_coordinates = intron_coordinates.append(new_row, ignore_index=True)\n",
      "/tmp/ipykernel_3779053/2834357883.py:40: FutureWarning: The frame.append method is deprecated and will be removed from pandas in a future version. Use pandas.concat instead.\n",
      "  intron_coordinates = intron_coordinates.append(new_row, ignore_index=True)\n",
      "/tmp/ipykernel_3779053/2834357883.py:40: FutureWarning: The frame.append method is deprecated and will be removed from pandas in a future version. Use pandas.concat instead.\n",
      "  intron_coordinates = intron_coordinates.append(new_row, ignore_index=True)\n"
     ]
    },
    {
     "name": "stdout",
     "output_type": "stream",
     "text": [
      "HERE 13336435 13354902\n",
      "adding 13355498 13355822\n",
      "adding 13356118 13357776\n",
      "HERE 13358069 13359666\n"
     ]
    },
    {
     "name": "stderr",
     "output_type": "stream",
     "text": [
      "/tmp/ipykernel_3779053/2834357883.py:40: FutureWarning: The frame.append method is deprecated and will be removed from pandas in a future version. Use pandas.concat instead.\n",
      "  intron_coordinates = intron_coordinates.append(new_row, ignore_index=True)\n",
      "/tmp/ipykernel_3779053/2834357883.py:40: FutureWarning: The frame.append method is deprecated and will be removed from pandas in a future version. Use pandas.concat instead.\n",
      "  intron_coordinates = intron_coordinates.append(new_row, ignore_index=True)\n"
     ]
    },
    {
     "name": "stdout",
     "output_type": "stream",
     "text": [
      "adding 13360086 13360329\n",
      "adding 13360628 13366166\n",
      "adding 13366493 13369155\n"
     ]
    },
    {
     "name": "stderr",
     "output_type": "stream",
     "text": [
      "/tmp/ipykernel_3779053/2834357883.py:40: FutureWarning: The frame.append method is deprecated and will be removed from pandas in a future version. Use pandas.concat instead.\n",
      "  intron_coordinates = intron_coordinates.append(new_row, ignore_index=True)\n",
      "/tmp/ipykernel_3779053/2834357883.py:40: FutureWarning: The frame.append method is deprecated and will be removed from pandas in a future version. Use pandas.concat instead.\n",
      "  intron_coordinates = intron_coordinates.append(new_row, ignore_index=True)\n",
      "/tmp/ipykernel_3779053/2834357883.py:40: FutureWarning: The frame.append method is deprecated and will be removed from pandas in a future version. Use pandas.concat instead.\n",
      "  intron_coordinates = intron_coordinates.append(new_row, ignore_index=True)\n"
     ]
    },
    {
     "name": "stdout",
     "output_type": "stream",
     "text": [
      "adding 13369449 13393758\n",
      "adding 13393993 13396817\n",
      "adding 13397072 13410892\n"
     ]
    },
    {
     "name": "stderr",
     "output_type": "stream",
     "text": [
      "/tmp/ipykernel_3779053/2834357883.py:40: FutureWarning: The frame.append method is deprecated and will be removed from pandas in a future version. Use pandas.concat instead.\n",
      "  intron_coordinates = intron_coordinates.append(new_row, ignore_index=True)\n",
      "/tmp/ipykernel_3779053/2834357883.py:40: FutureWarning: The frame.append method is deprecated and will be removed from pandas in a future version. Use pandas.concat instead.\n",
      "  intron_coordinates = intron_coordinates.append(new_row, ignore_index=True)\n",
      "/tmp/ipykernel_3779053/2834357883.py:40: FutureWarning: The frame.append method is deprecated and will be removed from pandas in a future version. Use pandas.concat instead.\n",
      "  intron_coordinates = intron_coordinates.append(new_row, ignore_index=True)\n"
     ]
    },
    {
     "name": "stdout",
     "output_type": "stream",
     "text": [
      "adding 13411213 13414634\n",
      "adding 13414893 13448916\n",
      "adding 13449166 13470020\n"
     ]
    },
    {
     "name": "stderr",
     "output_type": "stream",
     "text": [
      "/tmp/ipykernel_3779053/2834357883.py:40: FutureWarning: The frame.append method is deprecated and will be removed from pandas in a future version. Use pandas.concat instead.\n",
      "  intron_coordinates = intron_coordinates.append(new_row, ignore_index=True)\n",
      "/tmp/ipykernel_3779053/2834357883.py:40: FutureWarning: The frame.append method is deprecated and will be removed from pandas in a future version. Use pandas.concat instead.\n",
      "  intron_coordinates = intron_coordinates.append(new_row, ignore_index=True)\n",
      "/tmp/ipykernel_3779053/2834357883.py:40: FutureWarning: The frame.append method is deprecated and will be removed from pandas in a future version. Use pandas.concat instead.\n",
      "  intron_coordinates = intron_coordinates.append(new_row, ignore_index=True)\n"
     ]
    },
    {
     "name": "stdout",
     "output_type": "stream",
     "text": [
      "adding 13470329 13479153\n",
      "adding 13397072 13410892\n",
      "adding 13411213 13414634\n"
     ]
    },
    {
     "name": "stderr",
     "output_type": "stream",
     "text": [
      "/tmp/ipykernel_3779053/2834357883.py:40: FutureWarning: The frame.append method is deprecated and will be removed from pandas in a future version. Use pandas.concat instead.\n",
      "  intron_coordinates = intron_coordinates.append(new_row, ignore_index=True)\n",
      "/tmp/ipykernel_3779053/2834357883.py:40: FutureWarning: The frame.append method is deprecated and will be removed from pandas in a future version. Use pandas.concat instead.\n",
      "  intron_coordinates = intron_coordinates.append(new_row, ignore_index=True)\n",
      "/tmp/ipykernel_3779053/2834357883.py:40: FutureWarning: The frame.append method is deprecated and will be removed from pandas in a future version. Use pandas.concat instead.\n",
      "  intron_coordinates = intron_coordinates.append(new_row, ignore_index=True)\n"
     ]
    },
    {
     "name": "stdout",
     "output_type": "stream",
     "text": [
      "adding 13414893 13448916\n",
      "adding 13449166 13470020\n",
      "adding 13470329 13479153\n"
     ]
    },
    {
     "name": "stderr",
     "output_type": "stream",
     "text": [
      "/tmp/ipykernel_3779053/2834357883.py:40: FutureWarning: The frame.append method is deprecated and will be removed from pandas in a future version. Use pandas.concat instead.\n",
      "  intron_coordinates = intron_coordinates.append(new_row, ignore_index=True)\n",
      "/tmp/ipykernel_3779053/2834357883.py:40: FutureWarning: The frame.append method is deprecated and will be removed from pandas in a future version. Use pandas.concat instead.\n",
      "  intron_coordinates = intron_coordinates.append(new_row, ignore_index=True)\n",
      "/tmp/ipykernel_3779053/2834357883.py:40: FutureWarning: The frame.append method is deprecated and will be removed from pandas in a future version. Use pandas.concat instead.\n",
      "  intron_coordinates = intron_coordinates.append(new_row, ignore_index=True)\n"
     ]
    },
    {
     "name": "stdout",
     "output_type": "stream",
     "text": [
      "adding 13249982 13250916\n",
      "adding 13251287 13260177\n",
      "adding 13260504 13297606\n"
     ]
    },
    {
     "name": "stderr",
     "output_type": "stream",
     "text": [
      "/tmp/ipykernel_3779053/2834357883.py:40: FutureWarning: The frame.append method is deprecated and will be removed from pandas in a future version. Use pandas.concat instead.\n",
      "  intron_coordinates = intron_coordinates.append(new_row, ignore_index=True)\n",
      "/tmp/ipykernel_3779053/2834357883.py:40: FutureWarning: The frame.append method is deprecated and will be removed from pandas in a future version. Use pandas.concat instead.\n",
      "  intron_coordinates = intron_coordinates.append(new_row, ignore_index=True)\n",
      "/tmp/ipykernel_3779053/2834357883.py:40: FutureWarning: The frame.append method is deprecated and will be removed from pandas in a future version. Use pandas.concat instead.\n",
      "  intron_coordinates = intron_coordinates.append(new_row, ignore_index=True)\n"
     ]
    },
    {
     "name": "stdout",
     "output_type": "stream",
     "text": [
      "adding 13297948 13298856\n",
      "adding 13299244 13302776\n",
      "adding 13303091 13305298\n"
     ]
    },
    {
     "name": "stderr",
     "output_type": "stream",
     "text": [
      "/tmp/ipykernel_3779053/2834357883.py:40: FutureWarning: The frame.append method is deprecated and will be removed from pandas in a future version. Use pandas.concat instead.\n",
      "  intron_coordinates = intron_coordinates.append(new_row, ignore_index=True)\n",
      "/tmp/ipykernel_3779053/2834357883.py:40: FutureWarning: The frame.append method is deprecated and will be removed from pandas in a future version. Use pandas.concat instead.\n",
      "  intron_coordinates = intron_coordinates.append(new_row, ignore_index=True)\n",
      "/tmp/ipykernel_3779053/2834357883.py:40: FutureWarning: The frame.append method is deprecated and will be removed from pandas in a future version. Use pandas.concat instead.\n",
      "  intron_coordinates = intron_coordinates.append(new_row, ignore_index=True)\n"
     ]
    },
    {
     "name": "stdout",
     "output_type": "stream",
     "text": [
      "adding 13305647 13305937\n",
      "HERE 13306350 13323454\n",
      "adding 13323860 13324500\n"
     ]
    },
    {
     "name": "stderr",
     "output_type": "stream",
     "text": [
      "/tmp/ipykernel_3779053/2834357883.py:40: FutureWarning: The frame.append method is deprecated and will be removed from pandas in a future version. Use pandas.concat instead.\n",
      "  intron_coordinates = intron_coordinates.append(new_row, ignore_index=True)\n",
      "/tmp/ipykernel_3779053/2834357883.py:40: FutureWarning: The frame.append method is deprecated and will be removed from pandas in a future version. Use pandas.concat instead.\n",
      "  intron_coordinates = intron_coordinates.append(new_row, ignore_index=True)\n"
     ]
    },
    {
     "name": "stdout",
     "output_type": "stream",
     "text": [
      "adding 13324806 13326120\n",
      "adding 13326450 13335462\n",
      "HERE 13336435 13354902\n"
     ]
    },
    {
     "name": "stderr",
     "output_type": "stream",
     "text": [
      "/tmp/ipykernel_3779053/2834357883.py:40: FutureWarning: The frame.append method is deprecated and will be removed from pandas in a future version. Use pandas.concat instead.\n",
      "  intron_coordinates = intron_coordinates.append(new_row, ignore_index=True)\n",
      "/tmp/ipykernel_3779053/2834357883.py:40: FutureWarning: The frame.append method is deprecated and will be removed from pandas in a future version. Use pandas.concat instead.\n",
      "  intron_coordinates = intron_coordinates.append(new_row, ignore_index=True)\n"
     ]
    },
    {
     "name": "stdout",
     "output_type": "stream",
     "text": [
      "adding 13355498 13355822\n",
      "adding 13356118 13357776\n",
      "HERE 13358069 13358987\n"
     ]
    },
    {
     "name": "stderr",
     "output_type": "stream",
     "text": [
      "/tmp/ipykernel_3779053/2834357883.py:40: FutureWarning: The frame.append method is deprecated and will be removed from pandas in a future version. Use pandas.concat instead.\n",
      "  intron_coordinates = intron_coordinates.append(new_row, ignore_index=True)\n",
      "/tmp/ipykernel_3779053/2834357883.py:40: FutureWarning: The frame.append method is deprecated and will be removed from pandas in a future version. Use pandas.concat instead.\n",
      "  intron_coordinates = intron_coordinates.append(new_row, ignore_index=True)\n"
     ]
    },
    {
     "name": "stdout",
     "output_type": "stream",
     "text": [
      "adding 13359322 13359666\n",
      "adding 13360086 13360329\n",
      "adding 13360628 13366166\n"
     ]
    },
    {
     "name": "stderr",
     "output_type": "stream",
     "text": [
      "/tmp/ipykernel_3779053/2834357883.py:40: FutureWarning: The frame.append method is deprecated and will be removed from pandas in a future version. Use pandas.concat instead.\n",
      "  intron_coordinates = intron_coordinates.append(new_row, ignore_index=True)\n",
      "/tmp/ipykernel_3779053/2834357883.py:40: FutureWarning: The frame.append method is deprecated and will be removed from pandas in a future version. Use pandas.concat instead.\n",
      "  intron_coordinates = intron_coordinates.append(new_row, ignore_index=True)\n",
      "/tmp/ipykernel_3779053/2834357883.py:40: FutureWarning: The frame.append method is deprecated and will be removed from pandas in a future version. Use pandas.concat instead.\n",
      "  intron_coordinates = intron_coordinates.append(new_row, ignore_index=True)\n"
     ]
    },
    {
     "name": "stdout",
     "output_type": "stream",
     "text": [
      "adding 13366493 13369155\n",
      "adding 13369449 13393758\n",
      "adding 13393993 13396817\n"
     ]
    },
    {
     "name": "stderr",
     "output_type": "stream",
     "text": [
      "/tmp/ipykernel_3779053/2834357883.py:40: FutureWarning: The frame.append method is deprecated and will be removed from pandas in a future version. Use pandas.concat instead.\n",
      "  intron_coordinates = intron_coordinates.append(new_row, ignore_index=True)\n",
      "/tmp/ipykernel_3779053/2834357883.py:40: FutureWarning: The frame.append method is deprecated and will be removed from pandas in a future version. Use pandas.concat instead.\n",
      "  intron_coordinates = intron_coordinates.append(new_row, ignore_index=True)\n",
      "/tmp/ipykernel_3779053/2834357883.py:40: FutureWarning: The frame.append method is deprecated and will be removed from pandas in a future version. Use pandas.concat instead.\n",
      "  intron_coordinates = intron_coordinates.append(new_row, ignore_index=True)\n"
     ]
    },
    {
     "name": "stdout",
     "output_type": "stream",
     "text": [
      "adding 13397072 13410892\n",
      "adding 13411213 13414634\n",
      "adding 13414893 13448916\n"
     ]
    },
    {
     "name": "stderr",
     "output_type": "stream",
     "text": [
      "/tmp/ipykernel_3779053/2834357883.py:40: FutureWarning: The frame.append method is deprecated and will be removed from pandas in a future version. Use pandas.concat instead.\n",
      "  intron_coordinates = intron_coordinates.append(new_row, ignore_index=True)\n",
      "/tmp/ipykernel_3779053/2834357883.py:40: FutureWarning: The frame.append method is deprecated and will be removed from pandas in a future version. Use pandas.concat instead.\n",
      "  intron_coordinates = intron_coordinates.append(new_row, ignore_index=True)\n",
      "/tmp/ipykernel_3779053/2834357883.py:40: FutureWarning: The frame.append method is deprecated and will be removed from pandas in a future version. Use pandas.concat instead.\n",
      "  intron_coordinates = intron_coordinates.append(new_row, ignore_index=True)\n"
     ]
    },
    {
     "name": "stdout",
     "output_type": "stream",
     "text": [
      "adding 13449166 13470020\n",
      "adding 13470329 13479153\n",
      "HERE 13249982 13260177\n",
      "adding 13260504 13297606\n"
     ]
    },
    {
     "name": "stderr",
     "output_type": "stream",
     "text": [
      "/tmp/ipykernel_3779053/2834357883.py:40: FutureWarning: The frame.append method is deprecated and will be removed from pandas in a future version. Use pandas.concat instead.\n",
      "  intron_coordinates = intron_coordinates.append(new_row, ignore_index=True)\n",
      "/tmp/ipykernel_3779053/2834357883.py:40: FutureWarning: The frame.append method is deprecated and will be removed from pandas in a future version. Use pandas.concat instead.\n",
      "  intron_coordinates = intron_coordinates.append(new_row, ignore_index=True)\n",
      "/tmp/ipykernel_3779053/2834357883.py:40: FutureWarning: The frame.append method is deprecated and will be removed from pandas in a future version. Use pandas.concat instead.\n",
      "  intron_coordinates = intron_coordinates.append(new_row, ignore_index=True)\n"
     ]
    },
    {
     "name": "stdout",
     "output_type": "stream",
     "text": [
      "adding 13297948 13298856\n",
      "adding 13299244 13302776\n",
      "adding 13303091 13305298\n"
     ]
    },
    {
     "name": "stderr",
     "output_type": "stream",
     "text": [
      "/tmp/ipykernel_3779053/2834357883.py:40: FutureWarning: The frame.append method is deprecated and will be removed from pandas in a future version. Use pandas.concat instead.\n",
      "  intron_coordinates = intron_coordinates.append(new_row, ignore_index=True)\n",
      "/tmp/ipykernel_3779053/2834357883.py:40: FutureWarning: The frame.append method is deprecated and will be removed from pandas in a future version. Use pandas.concat instead.\n",
      "  intron_coordinates = intron_coordinates.append(new_row, ignore_index=True)\n",
      "/tmp/ipykernel_3779053/2834357883.py:40: FutureWarning: The frame.append method is deprecated and will be removed from pandas in a future version. Use pandas.concat instead.\n",
      "  intron_coordinates = intron_coordinates.append(new_row, ignore_index=True)\n"
     ]
    },
    {
     "name": "stdout",
     "output_type": "stream",
     "text": [
      "adding 13305647 13305937\n",
      "HERE 13306350 13323454\n",
      "adding 13323860 13324500\n"
     ]
    },
    {
     "name": "stderr",
     "output_type": "stream",
     "text": [
      "/tmp/ipykernel_3779053/2834357883.py:40: FutureWarning: The frame.append method is deprecated and will be removed from pandas in a future version. Use pandas.concat instead.\n",
      "  intron_coordinates = intron_coordinates.append(new_row, ignore_index=True)\n",
      "/tmp/ipykernel_3779053/2834357883.py:40: FutureWarning: The frame.append method is deprecated and will be removed from pandas in a future version. Use pandas.concat instead.\n",
      "  intron_coordinates = intron_coordinates.append(new_row, ignore_index=True)\n"
     ]
    },
    {
     "name": "stdout",
     "output_type": "stream",
     "text": [
      "adding 13324806 13326120\n",
      "adding 13326450 13335462\n",
      "HERE 13336435 13354902\n"
     ]
    },
    {
     "name": "stderr",
     "output_type": "stream",
     "text": [
      "/tmp/ipykernel_3779053/2834357883.py:40: FutureWarning: The frame.append method is deprecated and will be removed from pandas in a future version. Use pandas.concat instead.\n",
      "  intron_coordinates = intron_coordinates.append(new_row, ignore_index=True)\n",
      "/tmp/ipykernel_3779053/2834357883.py:40: FutureWarning: The frame.append method is deprecated and will be removed from pandas in a future version. Use pandas.concat instead.\n",
      "  intron_coordinates = intron_coordinates.append(new_row, ignore_index=True)\n"
     ]
    },
    {
     "name": "stdout",
     "output_type": "stream",
     "text": [
      "adding 13355498 13355822\n",
      "adding 13356118 13357776\n",
      "HERE 13358069 13358987\n"
     ]
    },
    {
     "name": "stderr",
     "output_type": "stream",
     "text": [
      "/tmp/ipykernel_3779053/2834357883.py:40: FutureWarning: The frame.append method is deprecated and will be removed from pandas in a future version. Use pandas.concat instead.\n",
      "  intron_coordinates = intron_coordinates.append(new_row, ignore_index=True)\n",
      "/tmp/ipykernel_3779053/2834357883.py:40: FutureWarning: The frame.append method is deprecated and will be removed from pandas in a future version. Use pandas.concat instead.\n",
      "  intron_coordinates = intron_coordinates.append(new_row, ignore_index=True)\n"
     ]
    },
    {
     "name": "stdout",
     "output_type": "stream",
     "text": [
      "adding 13359322 13359666\n",
      "adding 13360086 13360329\n",
      "adding 13360628 13366166\n"
     ]
    },
    {
     "name": "stderr",
     "output_type": "stream",
     "text": [
      "/tmp/ipykernel_3779053/2834357883.py:40: FutureWarning: The frame.append method is deprecated and will be removed from pandas in a future version. Use pandas.concat instead.\n",
      "  intron_coordinates = intron_coordinates.append(new_row, ignore_index=True)\n",
      "/tmp/ipykernel_3779053/2834357883.py:40: FutureWarning: The frame.append method is deprecated and will be removed from pandas in a future version. Use pandas.concat instead.\n",
      "  intron_coordinates = intron_coordinates.append(new_row, ignore_index=True)\n",
      "/tmp/ipykernel_3779053/2834357883.py:40: FutureWarning: The frame.append method is deprecated and will be removed from pandas in a future version. Use pandas.concat instead.\n",
      "  intron_coordinates = intron_coordinates.append(new_row, ignore_index=True)\n"
     ]
    },
    {
     "name": "stdout",
     "output_type": "stream",
     "text": [
      "adding 13366493 13369155\n",
      "adding 13369449 13393758\n",
      "adding 13393993 13396817\n"
     ]
    },
    {
     "name": "stderr",
     "output_type": "stream",
     "text": [
      "/tmp/ipykernel_3779053/2834357883.py:40: FutureWarning: The frame.append method is deprecated and will be removed from pandas in a future version. Use pandas.concat instead.\n",
      "  intron_coordinates = intron_coordinates.append(new_row, ignore_index=True)\n",
      "/tmp/ipykernel_3779053/2834357883.py:40: FutureWarning: The frame.append method is deprecated and will be removed from pandas in a future version. Use pandas.concat instead.\n",
      "  intron_coordinates = intron_coordinates.append(new_row, ignore_index=True)\n",
      "/tmp/ipykernel_3779053/2834357883.py:40: FutureWarning: The frame.append method is deprecated and will be removed from pandas in a future version. Use pandas.concat instead.\n",
      "  intron_coordinates = intron_coordinates.append(new_row, ignore_index=True)\n"
     ]
    },
    {
     "name": "stdout",
     "output_type": "stream",
     "text": [
      "adding 13397072 13410892\n",
      "adding 13411213 13414634\n",
      "adding 13414893 13448916\n"
     ]
    },
    {
     "name": "stderr",
     "output_type": "stream",
     "text": [
      "/tmp/ipykernel_3779053/2834357883.py:40: FutureWarning: The frame.append method is deprecated and will be removed from pandas in a future version. Use pandas.concat instead.\n",
      "  intron_coordinates = intron_coordinates.append(new_row, ignore_index=True)\n",
      "/tmp/ipykernel_3779053/2834357883.py:40: FutureWarning: The frame.append method is deprecated and will be removed from pandas in a future version. Use pandas.concat instead.\n",
      "  intron_coordinates = intron_coordinates.append(new_row, ignore_index=True)\n",
      "/tmp/ipykernel_3779053/2834357883.py:40: FutureWarning: The frame.append method is deprecated and will be removed from pandas in a future version. Use pandas.concat instead.\n",
      "  intron_coordinates = intron_coordinates.append(new_row, ignore_index=True)\n"
     ]
    },
    {
     "name": "stdout",
     "output_type": "stream",
     "text": [
      "adding 13449166 13470020\n",
      "adding 13470329 13479153\n",
      "adding 13249982 13250916\n"
     ]
    },
    {
     "name": "stderr",
     "output_type": "stream",
     "text": [
      "/tmp/ipykernel_3779053/2834357883.py:40: FutureWarning: The frame.append method is deprecated and will be removed from pandas in a future version. Use pandas.concat instead.\n",
      "  intron_coordinates = intron_coordinates.append(new_row, ignore_index=True)\n",
      "/tmp/ipykernel_3779053/2834357883.py:40: FutureWarning: The frame.append method is deprecated and will be removed from pandas in a future version. Use pandas.concat instead.\n",
      "  intron_coordinates = intron_coordinates.append(new_row, ignore_index=True)\n",
      "/tmp/ipykernel_3779053/2834357883.py:40: FutureWarning: The frame.append method is deprecated and will be removed from pandas in a future version. Use pandas.concat instead.\n",
      "  intron_coordinates = intron_coordinates.append(new_row, ignore_index=True)\n"
     ]
    },
    {
     "name": "stdout",
     "output_type": "stream",
     "text": [
      "adding 13251287 13260177\n",
      "adding 13260504 13297606\n",
      "adding 13297948 13298856\n"
     ]
    },
    {
     "name": "stderr",
     "output_type": "stream",
     "text": [
      "/tmp/ipykernel_3779053/2834357883.py:40: FutureWarning: The frame.append method is deprecated and will be removed from pandas in a future version. Use pandas.concat instead.\n",
      "  intron_coordinates = intron_coordinates.append(new_row, ignore_index=True)\n",
      "/tmp/ipykernel_3779053/2834357883.py:40: FutureWarning: The frame.append method is deprecated and will be removed from pandas in a future version. Use pandas.concat instead.\n",
      "  intron_coordinates = intron_coordinates.append(new_row, ignore_index=True)\n",
      "/tmp/ipykernel_3779053/2834357883.py:40: FutureWarning: The frame.append method is deprecated and will be removed from pandas in a future version. Use pandas.concat instead.\n",
      "  intron_coordinates = intron_coordinates.append(new_row, ignore_index=True)\n"
     ]
    },
    {
     "name": "stdout",
     "output_type": "stream",
     "text": [
      "adding 13299244 13302776\n",
      "adding 13303091 13305298\n",
      "adding 13305647 13305937\n"
     ]
    },
    {
     "name": "stderr",
     "output_type": "stream",
     "text": [
      "/tmp/ipykernel_3779053/2834357883.py:40: FutureWarning: The frame.append method is deprecated and will be removed from pandas in a future version. Use pandas.concat instead.\n",
      "  intron_coordinates = intron_coordinates.append(new_row, ignore_index=True)\n",
      "/tmp/ipykernel_3779053/2834357883.py:40: FutureWarning: The frame.append method is deprecated and will be removed from pandas in a future version. Use pandas.concat instead.\n",
      "  intron_coordinates = intron_coordinates.append(new_row, ignore_index=True)\n",
      "/tmp/ipykernel_3779053/2834357883.py:40: FutureWarning: The frame.append method is deprecated and will be removed from pandas in a future version. Use pandas.concat instead.\n",
      "  intron_coordinates = intron_coordinates.append(new_row, ignore_index=True)\n"
     ]
    },
    {
     "name": "stdout",
     "output_type": "stream",
     "text": [
      "HERE 13306350 13323454\n",
      "adding 13323860 13324500\n",
      "adding 13324806 13326120\n"
     ]
    },
    {
     "name": "stderr",
     "output_type": "stream",
     "text": [
      "/tmp/ipykernel_3779053/2834357883.py:40: FutureWarning: The frame.append method is deprecated and will be removed from pandas in a future version. Use pandas.concat instead.\n",
      "  intron_coordinates = intron_coordinates.append(new_row, ignore_index=True)\n",
      "/tmp/ipykernel_3779053/2834357883.py:40: FutureWarning: The frame.append method is deprecated and will be removed from pandas in a future version. Use pandas.concat instead.\n",
      "  intron_coordinates = intron_coordinates.append(new_row, ignore_index=True)\n",
      "/tmp/ipykernel_3779053/2834357883.py:40: FutureWarning: The frame.append method is deprecated and will be removed from pandas in a future version. Use pandas.concat instead.\n",
      "  intron_coordinates = intron_coordinates.append(new_row, ignore_index=True)\n"
     ]
    },
    {
     "name": "stdout",
     "output_type": "stream",
     "text": [
      "adding 13326450 13335462\n",
      "adding 13336435 13354685\n",
      "adding 13355498 13355822\n"
     ]
    },
    {
     "name": "stderr",
     "output_type": "stream",
     "text": [
      "/tmp/ipykernel_3779053/2834357883.py:40: FutureWarning: The frame.append method is deprecated and will be removed from pandas in a future version. Use pandas.concat instead.\n",
      "  intron_coordinates = intron_coordinates.append(new_row, ignore_index=True)\n",
      "/tmp/ipykernel_3779053/2834357883.py:40: FutureWarning: The frame.append method is deprecated and will be removed from pandas in a future version. Use pandas.concat instead.\n",
      "  intron_coordinates = intron_coordinates.append(new_row, ignore_index=True)\n",
      "/tmp/ipykernel_3779053/2834357883.py:40: FutureWarning: The frame.append method is deprecated and will be removed from pandas in a future version. Use pandas.concat instead.\n",
      "  intron_coordinates = intron_coordinates.append(new_row, ignore_index=True)\n"
     ]
    },
    {
     "name": "stdout",
     "output_type": "stream",
     "text": [
      "adding 13356118 13357776\n",
      "HERE 13358069 13359666\n",
      "adding 13360086 13360329\n"
     ]
    },
    {
     "name": "stderr",
     "output_type": "stream",
     "text": [
      "/tmp/ipykernel_3779053/2834357883.py:40: FutureWarning: The frame.append method is deprecated and will be removed from pandas in a future version. Use pandas.concat instead.\n",
      "  intron_coordinates = intron_coordinates.append(new_row, ignore_index=True)\n",
      "/tmp/ipykernel_3779053/2834357883.py:40: FutureWarning: The frame.append method is deprecated and will be removed from pandas in a future version. Use pandas.concat instead.\n",
      "  intron_coordinates = intron_coordinates.append(new_row, ignore_index=True)\n",
      "/tmp/ipykernel_3779053/2834357883.py:40: FutureWarning: The frame.append method is deprecated and will be removed from pandas in a future version. Use pandas.concat instead.\n",
      "  intron_coordinates = intron_coordinates.append(new_row, ignore_index=True)\n"
     ]
    },
    {
     "name": "stdout",
     "output_type": "stream",
     "text": [
      "adding 13360628 13366166\n",
      "adding 13366493 13369155\n",
      "adding 13369449 13393758\n"
     ]
    },
    {
     "name": "stderr",
     "output_type": "stream",
     "text": [
      "/tmp/ipykernel_3779053/2834357883.py:40: FutureWarning: The frame.append method is deprecated and will be removed from pandas in a future version. Use pandas.concat instead.\n",
      "  intron_coordinates = intron_coordinates.append(new_row, ignore_index=True)\n",
      "/tmp/ipykernel_3779053/2834357883.py:40: FutureWarning: The frame.append method is deprecated and will be removed from pandas in a future version. Use pandas.concat instead.\n",
      "  intron_coordinates = intron_coordinates.append(new_row, ignore_index=True)\n",
      "/tmp/ipykernel_3779053/2834357883.py:40: FutureWarning: The frame.append method is deprecated and will be removed from pandas in a future version. Use pandas.concat instead.\n",
      "  intron_coordinates = intron_coordinates.append(new_row, ignore_index=True)\n"
     ]
    },
    {
     "name": "stdout",
     "output_type": "stream",
     "text": [
      "adding 13393993 13396817\n",
      "adding 13397072 13410892\n",
      "adding 13411213 13414634\n"
     ]
    },
    {
     "name": "stderr",
     "output_type": "stream",
     "text": [
      "/tmp/ipykernel_3779053/2834357883.py:40: FutureWarning: The frame.append method is deprecated and will be removed from pandas in a future version. Use pandas.concat instead.\n",
      "  intron_coordinates = intron_coordinates.append(new_row, ignore_index=True)\n",
      "/tmp/ipykernel_3779053/2834357883.py:40: FutureWarning: The frame.append method is deprecated and will be removed from pandas in a future version. Use pandas.concat instead.\n",
      "  intron_coordinates = intron_coordinates.append(new_row, ignore_index=True)\n",
      "/tmp/ipykernel_3779053/2834357883.py:40: FutureWarning: The frame.append method is deprecated and will be removed from pandas in a future version. Use pandas.concat instead.\n",
      "  intron_coordinates = intron_coordinates.append(new_row, ignore_index=True)\n"
     ]
    },
    {
     "name": "stdout",
     "output_type": "stream",
     "text": [
      "adding 13414893 13448916\n",
      "adding 13449166 13470020\n",
      "adding 13470329 13479153\n"
     ]
    },
    {
     "name": "stderr",
     "output_type": "stream",
     "text": [
      "/tmp/ipykernel_3779053/2834357883.py:40: FutureWarning: The frame.append method is deprecated and will be removed from pandas in a future version. Use pandas.concat instead.\n",
      "  intron_coordinates = intron_coordinates.append(new_row, ignore_index=True)\n",
      "/tmp/ipykernel_3779053/2834357883.py:40: FutureWarning: The frame.append method is deprecated and will be removed from pandas in a future version. Use pandas.concat instead.\n",
      "  intron_coordinates = intron_coordinates.append(new_row, ignore_index=True)\n",
      "/tmp/ipykernel_3779053/2834357883.py:40: FutureWarning: The frame.append method is deprecated and will be removed from pandas in a future version. Use pandas.concat instead.\n",
      "  intron_coordinates = intron_coordinates.append(new_row, ignore_index=True)\n"
     ]
    },
    {
     "name": "stdout",
     "output_type": "stream",
     "text": [
      "adding 13249982 13250916\n",
      "adding 13251287 13260177\n",
      "adding 13260504 13297606\n"
     ]
    },
    {
     "name": "stderr",
     "output_type": "stream",
     "text": [
      "/tmp/ipykernel_3779053/2834357883.py:40: FutureWarning: The frame.append method is deprecated and will be removed from pandas in a future version. Use pandas.concat instead.\n",
      "  intron_coordinates = intron_coordinates.append(new_row, ignore_index=True)\n",
      "/tmp/ipykernel_3779053/2834357883.py:40: FutureWarning: The frame.append method is deprecated and will be removed from pandas in a future version. Use pandas.concat instead.\n",
      "  intron_coordinates = intron_coordinates.append(new_row, ignore_index=True)\n",
      "/tmp/ipykernel_3779053/2834357883.py:40: FutureWarning: The frame.append method is deprecated and will be removed from pandas in a future version. Use pandas.concat instead.\n",
      "  intron_coordinates = intron_coordinates.append(new_row, ignore_index=True)\n"
     ]
    },
    {
     "name": "stdout",
     "output_type": "stream",
     "text": [
      "adding 13297948 13298856\n",
      "adding 13299244 13302776\n",
      "adding 13303091 13305298\n"
     ]
    },
    {
     "name": "stderr",
     "output_type": "stream",
     "text": [
      "/tmp/ipykernel_3779053/2834357883.py:40: FutureWarning: The frame.append method is deprecated and will be removed from pandas in a future version. Use pandas.concat instead.\n",
      "  intron_coordinates = intron_coordinates.append(new_row, ignore_index=True)\n",
      "/tmp/ipykernel_3779053/2834357883.py:40: FutureWarning: The frame.append method is deprecated and will be removed from pandas in a future version. Use pandas.concat instead.\n",
      "  intron_coordinates = intron_coordinates.append(new_row, ignore_index=True)\n"
     ]
    },
    {
     "name": "stdout",
     "output_type": "stream",
     "text": [
      "adding 13305647 13305937\n",
      "HERE 13306350 13323454\n",
      "adding 13323860 13324500\n"
     ]
    },
    {
     "name": "stderr",
     "output_type": "stream",
     "text": [
      "/tmp/ipykernel_3779053/2834357883.py:40: FutureWarning: The frame.append method is deprecated and will be removed from pandas in a future version. Use pandas.concat instead.\n",
      "  intron_coordinates = intron_coordinates.append(new_row, ignore_index=True)\n",
      "/tmp/ipykernel_3779053/2834357883.py:40: FutureWarning: The frame.append method is deprecated and will be removed from pandas in a future version. Use pandas.concat instead.\n",
      "  intron_coordinates = intron_coordinates.append(new_row, ignore_index=True)\n",
      "/tmp/ipykernel_3779053/2834357883.py:40: FutureWarning: The frame.append method is deprecated and will be removed from pandas in a future version. Use pandas.concat instead.\n",
      "  intron_coordinates = intron_coordinates.append(new_row, ignore_index=True)\n"
     ]
    },
    {
     "name": "stdout",
     "output_type": "stream",
     "text": [
      "adding 13324806 13326120\n",
      "adding 13326450 13335462\n",
      "HERE 13336435 13354902\n",
      "adding 13355498 13355822\n",
      "adding 13356118 13357776\n",
      "adding 13358069 13358363\n"
     ]
    },
    {
     "name": "stderr",
     "output_type": "stream",
     "text": [
      "/tmp/ipykernel_3779053/2834357883.py:40: FutureWarning: The frame.append method is deprecated and will be removed from pandas in a future version. Use pandas.concat instead.\n",
      "  intron_coordinates = intron_coordinates.append(new_row, ignore_index=True)\n",
      "/tmp/ipykernel_3779053/2834357883.py:40: FutureWarning: The frame.append method is deprecated and will be removed from pandas in a future version. Use pandas.concat instead.\n",
      "  intron_coordinates = intron_coordinates.append(new_row, ignore_index=True)\n",
      "/tmp/ipykernel_3779053/2834357883.py:40: FutureWarning: The frame.append method is deprecated and will be removed from pandas in a future version. Use pandas.concat instead.\n",
      "  intron_coordinates = intron_coordinates.append(new_row, ignore_index=True)\n"
     ]
    },
    {
     "name": "stdout",
     "output_type": "stream",
     "text": [
      "adding 13358653 13358987\n",
      "adding 13359322 13359666\n",
      "HERE 13360086 13366166\n"
     ]
    },
    {
     "name": "stderr",
     "output_type": "stream",
     "text": [
      "/tmp/ipykernel_3779053/2834357883.py:40: FutureWarning: The frame.append method is deprecated and will be removed from pandas in a future version. Use pandas.concat instead.\n",
      "  intron_coordinates = intron_coordinates.append(new_row, ignore_index=True)\n",
      "/tmp/ipykernel_3779053/2834357883.py:40: FutureWarning: The frame.append method is deprecated and will be removed from pandas in a future version. Use pandas.concat instead.\n",
      "  intron_coordinates = intron_coordinates.append(new_row, ignore_index=True)\n"
     ]
    },
    {
     "name": "stdout",
     "output_type": "stream",
     "text": [
      "adding 13366493 13369155\n",
      "adding 13369449 13393758\n"
     ]
    },
    {
     "name": "stderr",
     "output_type": "stream",
     "text": [
      "/tmp/ipykernel_3779053/2834357883.py:40: FutureWarning: The frame.append method is deprecated and will be removed from pandas in a future version. Use pandas.concat instead.\n",
      "  intron_coordinates = intron_coordinates.append(new_row, ignore_index=True)\n",
      "/tmp/ipykernel_3779053/2834357883.py:40: FutureWarning: The frame.append method is deprecated and will be removed from pandas in a future version. Use pandas.concat instead.\n",
      "  intron_coordinates = intron_coordinates.append(new_row, ignore_index=True)\n"
     ]
    },
    {
     "name": "stdout",
     "output_type": "stream",
     "text": [
      "adding 13393993 13396817\n",
      "adding 13397072 13410892\n",
      "adding 13411213 13414634\n"
     ]
    },
    {
     "name": "stderr",
     "output_type": "stream",
     "text": [
      "/tmp/ipykernel_3779053/2834357883.py:40: FutureWarning: The frame.append method is deprecated and will be removed from pandas in a future version. Use pandas.concat instead.\n",
      "  intron_coordinates = intron_coordinates.append(new_row, ignore_index=True)\n",
      "/tmp/ipykernel_3779053/2834357883.py:40: FutureWarning: The frame.append method is deprecated and will be removed from pandas in a future version. Use pandas.concat instead.\n",
      "  intron_coordinates = intron_coordinates.append(new_row, ignore_index=True)\n",
      "/tmp/ipykernel_3779053/2834357883.py:40: FutureWarning: The frame.append method is deprecated and will be removed from pandas in a future version. Use pandas.concat instead.\n",
      "  intron_coordinates = intron_coordinates.append(new_row, ignore_index=True)\n"
     ]
    },
    {
     "name": "stdout",
     "output_type": "stream",
     "text": [
      "adding 13414893 13448916\n",
      "adding 13449166 13470020\n",
      "adding 13470329 13479153\n"
     ]
    },
    {
     "name": "stderr",
     "output_type": "stream",
     "text": [
      "/tmp/ipykernel_3779053/2834357883.py:40: FutureWarning: The frame.append method is deprecated and will be removed from pandas in a future version. Use pandas.concat instead.\n",
      "  intron_coordinates = intron_coordinates.append(new_row, ignore_index=True)\n",
      "/tmp/ipykernel_3779053/2834357883.py:40: FutureWarning: The frame.append method is deprecated and will be removed from pandas in a future version. Use pandas.concat instead.\n",
      "  intron_coordinates = intron_coordinates.append(new_row, ignore_index=True)\n",
      "/tmp/ipykernel_3779053/2834357883.py:40: FutureWarning: The frame.append method is deprecated and will be removed from pandas in a future version. Use pandas.concat instead.\n",
      "  intron_coordinates = intron_coordinates.append(new_row, ignore_index=True)\n"
     ]
    },
    {
     "name": "stdout",
     "output_type": "stream",
     "text": [
      "adding 13249982 13250916\n",
      "adding 13251287 13260177\n",
      "adding 13260504 13297606\n"
     ]
    },
    {
     "name": "stderr",
     "output_type": "stream",
     "text": [
      "/tmp/ipykernel_3779053/2834357883.py:40: FutureWarning: The frame.append method is deprecated and will be removed from pandas in a future version. Use pandas.concat instead.\n",
      "  intron_coordinates = intron_coordinates.append(new_row, ignore_index=True)\n",
      "/tmp/ipykernel_3779053/2834357883.py:40: FutureWarning: The frame.append method is deprecated and will be removed from pandas in a future version. Use pandas.concat instead.\n",
      "  intron_coordinates = intron_coordinates.append(new_row, ignore_index=True)\n",
      "/tmp/ipykernel_3779053/2834357883.py:40: FutureWarning: The frame.append method is deprecated and will be removed from pandas in a future version. Use pandas.concat instead.\n",
      "  intron_coordinates = intron_coordinates.append(new_row, ignore_index=True)\n"
     ]
    },
    {
     "name": "stdout",
     "output_type": "stream",
     "text": [
      "adding 13297948 13298856\n",
      "adding 13299244 13302776\n",
      "adding 13303091 13305298\n"
     ]
    },
    {
     "name": "stderr",
     "output_type": "stream",
     "text": [
      "/tmp/ipykernel_3779053/2834357883.py:40: FutureWarning: The frame.append method is deprecated and will be removed from pandas in a future version. Use pandas.concat instead.\n",
      "  intron_coordinates = intron_coordinates.append(new_row, ignore_index=True)\n",
      "/tmp/ipykernel_3779053/2834357883.py:40: FutureWarning: The frame.append method is deprecated and will be removed from pandas in a future version. Use pandas.concat instead.\n",
      "  intron_coordinates = intron_coordinates.append(new_row, ignore_index=True)\n",
      "/tmp/ipykernel_3779053/2834357883.py:40: FutureWarning: The frame.append method is deprecated and will be removed from pandas in a future version. Use pandas.concat instead.\n",
      "  intron_coordinates = intron_coordinates.append(new_row, ignore_index=True)\n"
     ]
    },
    {
     "name": "stdout",
     "output_type": "stream",
     "text": [
      "adding 13305647 13305937\n",
      "HERE 13306350 13323454\n",
      "adding 13323860 13324500\n"
     ]
    },
    {
     "name": "stderr",
     "output_type": "stream",
     "text": [
      "/tmp/ipykernel_3779053/2834357883.py:40: FutureWarning: The frame.append method is deprecated and will be removed from pandas in a future version. Use pandas.concat instead.\n",
      "  intron_coordinates = intron_coordinates.append(new_row, ignore_index=True)\n",
      "/tmp/ipykernel_3779053/2834357883.py:40: FutureWarning: The frame.append method is deprecated and will be removed from pandas in a future version. Use pandas.concat instead.\n",
      "  intron_coordinates = intron_coordinates.append(new_row, ignore_index=True)\n"
     ]
    },
    {
     "name": "stdout",
     "output_type": "stream",
     "text": [
      "adding 13324806 13326120\n",
      "adding 13326450 13335462\n",
      "HERE 13336435 13354902\n"
     ]
    },
    {
     "name": "stderr",
     "output_type": "stream",
     "text": [
      "/tmp/ipykernel_3779053/2834357883.py:40: FutureWarning: The frame.append method is deprecated and will be removed from pandas in a future version. Use pandas.concat instead.\n",
      "  intron_coordinates = intron_coordinates.append(new_row, ignore_index=True)\n",
      "/tmp/ipykernel_3779053/2834357883.py:40: FutureWarning: The frame.append method is deprecated and will be removed from pandas in a future version. Use pandas.concat instead.\n",
      "  intron_coordinates = intron_coordinates.append(new_row, ignore_index=True)\n"
     ]
    },
    {
     "name": "stdout",
     "output_type": "stream",
     "text": [
      "adding 13355498 13355822\n",
      "adding 13356118 13357776\n",
      "adding 13358069 13358363\n"
     ]
    },
    {
     "name": "stderr",
     "output_type": "stream",
     "text": [
      "/tmp/ipykernel_3779053/2834357883.py:40: FutureWarning: The frame.append method is deprecated and will be removed from pandas in a future version. Use pandas.concat instead.\n",
      "  intron_coordinates = intron_coordinates.append(new_row, ignore_index=True)\n",
      "/tmp/ipykernel_3779053/2834357883.py:40: FutureWarning: The frame.append method is deprecated and will be removed from pandas in a future version. Use pandas.concat instead.\n",
      "  intron_coordinates = intron_coordinates.append(new_row, ignore_index=True)\n",
      "/tmp/ipykernel_3779053/2834357883.py:40: FutureWarning: The frame.append method is deprecated and will be removed from pandas in a future version. Use pandas.concat instead.\n",
      "  intron_coordinates = intron_coordinates.append(new_row, ignore_index=True)\n"
     ]
    },
    {
     "name": "stdout",
     "output_type": "stream",
     "text": [
      "adding 13358719 13358987\n",
      "adding 13359322 13359666\n",
      "adding 13360086 13360329\n"
     ]
    },
    {
     "name": "stderr",
     "output_type": "stream",
     "text": [
      "/tmp/ipykernel_3779053/2834357883.py:40: FutureWarning: The frame.append method is deprecated and will be removed from pandas in a future version. Use pandas.concat instead.\n",
      "  intron_coordinates = intron_coordinates.append(new_row, ignore_index=True)\n",
      "/tmp/ipykernel_3779053/2834357883.py:40: FutureWarning: The frame.append method is deprecated and will be removed from pandas in a future version. Use pandas.concat instead.\n",
      "  intron_coordinates = intron_coordinates.append(new_row, ignore_index=True)\n",
      "/tmp/ipykernel_3779053/2834357883.py:40: FutureWarning: The frame.append method is deprecated and will be removed from pandas in a future version. Use pandas.concat instead.\n",
      "  intron_coordinates = intron_coordinates.append(new_row, ignore_index=True)\n"
     ]
    },
    {
     "name": "stdout",
     "output_type": "stream",
     "text": [
      "adding 13360628 13366166\n",
      "adding 13366493 13369155\n",
      "adding 13369449 13393758\n"
     ]
    },
    {
     "name": "stderr",
     "output_type": "stream",
     "text": [
      "/tmp/ipykernel_3779053/2834357883.py:40: FutureWarning: The frame.append method is deprecated and will be removed from pandas in a future version. Use pandas.concat instead.\n",
      "  intron_coordinates = intron_coordinates.append(new_row, ignore_index=True)\n",
      "/tmp/ipykernel_3779053/2834357883.py:40: FutureWarning: The frame.append method is deprecated and will be removed from pandas in a future version. Use pandas.concat instead.\n",
      "  intron_coordinates = intron_coordinates.append(new_row, ignore_index=True)\n",
      "/tmp/ipykernel_3779053/2834357883.py:40: FutureWarning: The frame.append method is deprecated and will be removed from pandas in a future version. Use pandas.concat instead.\n",
      "  intron_coordinates = intron_coordinates.append(new_row, ignore_index=True)\n"
     ]
    },
    {
     "name": "stdout",
     "output_type": "stream",
     "text": [
      "adding 13393993 13396817\n",
      "adding 13397072 13410892\n",
      "adding 13411213 13414634\n"
     ]
    },
    {
     "name": "stderr",
     "output_type": "stream",
     "text": [
      "/tmp/ipykernel_3779053/2834357883.py:40: FutureWarning: The frame.append method is deprecated and will be removed from pandas in a future version. Use pandas.concat instead.\n",
      "  intron_coordinates = intron_coordinates.append(new_row, ignore_index=True)\n",
      "/tmp/ipykernel_3779053/2834357883.py:40: FutureWarning: The frame.append method is deprecated and will be removed from pandas in a future version. Use pandas.concat instead.\n",
      "  intron_coordinates = intron_coordinates.append(new_row, ignore_index=True)\n",
      "/tmp/ipykernel_3779053/2834357883.py:40: FutureWarning: The frame.append method is deprecated and will be removed from pandas in a future version. Use pandas.concat instead.\n",
      "  intron_coordinates = intron_coordinates.append(new_row, ignore_index=True)\n"
     ]
    },
    {
     "name": "stdout",
     "output_type": "stream",
     "text": [
      "adding 13414893 13448916\n",
      "adding 13449166 13470020\n",
      "adding 13470329 13479153\n"
     ]
    },
    {
     "name": "stderr",
     "output_type": "stream",
     "text": [
      "/tmp/ipykernel_3779053/2834357883.py:40: FutureWarning: The frame.append method is deprecated and will be removed from pandas in a future version. Use pandas.concat instead.\n",
      "  intron_coordinates = intron_coordinates.append(new_row, ignore_index=True)\n",
      "/tmp/ipykernel_3779053/2834357883.py:40: FutureWarning: The frame.append method is deprecated and will be removed from pandas in a future version. Use pandas.concat instead.\n",
      "  intron_coordinates = intron_coordinates.append(new_row, ignore_index=True)\n",
      "/tmp/ipykernel_3779053/2834357883.py:40: FutureWarning: The frame.append method is deprecated and will be removed from pandas in a future version. Use pandas.concat instead.\n",
      "  intron_coordinates = intron_coordinates.append(new_row, ignore_index=True)\n"
     ]
    },
    {
     "name": "stdout",
     "output_type": "stream",
     "text": [
      "adding 13249982 13250916\n",
      "adding 13251287 13260177\n",
      "adding 13260504 13297606\n"
     ]
    },
    {
     "name": "stderr",
     "output_type": "stream",
     "text": [
      "/tmp/ipykernel_3779053/2834357883.py:40: FutureWarning: The frame.append method is deprecated and will be removed from pandas in a future version. Use pandas.concat instead.\n",
      "  intron_coordinates = intron_coordinates.append(new_row, ignore_index=True)\n",
      "/tmp/ipykernel_3779053/2834357883.py:40: FutureWarning: The frame.append method is deprecated and will be removed from pandas in a future version. Use pandas.concat instead.\n",
      "  intron_coordinates = intron_coordinates.append(new_row, ignore_index=True)\n",
      "/tmp/ipykernel_3779053/2834357883.py:40: FutureWarning: The frame.append method is deprecated and will be removed from pandas in a future version. Use pandas.concat instead.\n",
      "  intron_coordinates = intron_coordinates.append(new_row, ignore_index=True)\n"
     ]
    },
    {
     "name": "stdout",
     "output_type": "stream",
     "text": [
      "adding 13297948 13298856\n",
      "adding 13299244 13302776\n",
      "adding 13303091 13305298\n"
     ]
    },
    {
     "name": "stderr",
     "output_type": "stream",
     "text": [
      "/tmp/ipykernel_3779053/2834357883.py:40: FutureWarning: The frame.append method is deprecated and will be removed from pandas in a future version. Use pandas.concat instead.\n",
      "  intron_coordinates = intron_coordinates.append(new_row, ignore_index=True)\n",
      "/tmp/ipykernel_3779053/2834357883.py:40: FutureWarning: The frame.append method is deprecated and will be removed from pandas in a future version. Use pandas.concat instead.\n",
      "  intron_coordinates = intron_coordinates.append(new_row, ignore_index=True)\n",
      "/tmp/ipykernel_3779053/2834357883.py:40: FutureWarning: The frame.append method is deprecated and will be removed from pandas in a future version. Use pandas.concat instead.\n",
      "  intron_coordinates = intron_coordinates.append(new_row, ignore_index=True)\n"
     ]
    },
    {
     "name": "stdout",
     "output_type": "stream",
     "text": [
      "HERE 13305647 13306085\n",
      "HERE 13306350 13323454\n",
      "adding 13323860 13324500\n",
      "adding 13324806 13326120\n"
     ]
    },
    {
     "name": "stderr",
     "output_type": "stream",
     "text": [
      "/tmp/ipykernel_3779053/2834357883.py:40: FutureWarning: The frame.append method is deprecated and will be removed from pandas in a future version. Use pandas.concat instead.\n",
      "  intron_coordinates = intron_coordinates.append(new_row, ignore_index=True)\n",
      "/tmp/ipykernel_3779053/2834357883.py:40: FutureWarning: The frame.append method is deprecated and will be removed from pandas in a future version. Use pandas.concat instead.\n",
      "  intron_coordinates = intron_coordinates.append(new_row, ignore_index=True)\n",
      "/tmp/ipykernel_3779053/2834357883.py:40: FutureWarning: The frame.append method is deprecated and will be removed from pandas in a future version. Use pandas.concat instead.\n",
      "  intron_coordinates = intron_coordinates.append(new_row, ignore_index=True)\n"
     ]
    },
    {
     "name": "stdout",
     "output_type": "stream",
     "text": [
      "adding 13326450 13335462\n",
      "HERE 13336435 13354902\n",
      "adding 13355498 13355822\n"
     ]
    },
    {
     "name": "stderr",
     "output_type": "stream",
     "text": [
      "/tmp/ipykernel_3779053/2834357883.py:40: FutureWarning: The frame.append method is deprecated and will be removed from pandas in a future version. Use pandas.concat instead.\n",
      "  intron_coordinates = intron_coordinates.append(new_row, ignore_index=True)\n",
      "/tmp/ipykernel_3779053/2834357883.py:40: FutureWarning: The frame.append method is deprecated and will be removed from pandas in a future version. Use pandas.concat instead.\n",
      "  intron_coordinates = intron_coordinates.append(new_row, ignore_index=True)\n"
     ]
    },
    {
     "name": "stdout",
     "output_type": "stream",
     "text": [
      "adding 13356118 13357776\n",
      "HERE 13358069 13358987\n",
      "adding 13359322 13359666\n"
     ]
    },
    {
     "name": "stderr",
     "output_type": "stream",
     "text": [
      "/tmp/ipykernel_3779053/2834357883.py:40: FutureWarning: The frame.append method is deprecated and will be removed from pandas in a future version. Use pandas.concat instead.\n",
      "  intron_coordinates = intron_coordinates.append(new_row, ignore_index=True)\n",
      "/tmp/ipykernel_3779053/2834357883.py:40: FutureWarning: The frame.append method is deprecated and will be removed from pandas in a future version. Use pandas.concat instead.\n",
      "  intron_coordinates = intron_coordinates.append(new_row, ignore_index=True)\n",
      "/tmp/ipykernel_3779053/2834357883.py:40: FutureWarning: The frame.append method is deprecated and will be removed from pandas in a future version. Use pandas.concat instead.\n",
      "  intron_coordinates = intron_coordinates.append(new_row, ignore_index=True)\n"
     ]
    },
    {
     "name": "stdout",
     "output_type": "stream",
     "text": [
      "adding 13360086 13360329\n",
      "adding 13360628 13366166\n",
      "adding 13366493 13369155\n"
     ]
    },
    {
     "name": "stderr",
     "output_type": "stream",
     "text": [
      "/tmp/ipykernel_3779053/2834357883.py:40: FutureWarning: The frame.append method is deprecated and will be removed from pandas in a future version. Use pandas.concat instead.\n",
      "  intron_coordinates = intron_coordinates.append(new_row, ignore_index=True)\n",
      "/tmp/ipykernel_3779053/2834357883.py:40: FutureWarning: The frame.append method is deprecated and will be removed from pandas in a future version. Use pandas.concat instead.\n",
      "  intron_coordinates = intron_coordinates.append(new_row, ignore_index=True)\n",
      "/tmp/ipykernel_3779053/2834357883.py:40: FutureWarning: The frame.append method is deprecated and will be removed from pandas in a future version. Use pandas.concat instead.\n",
      "  intron_coordinates = intron_coordinates.append(new_row, ignore_index=True)\n"
     ]
    },
    {
     "name": "stdout",
     "output_type": "stream",
     "text": [
      "adding 13369449 13393758\n",
      "adding 13393993 13396817\n",
      "adding 13397072 13410892\n"
     ]
    },
    {
     "name": "stderr",
     "output_type": "stream",
     "text": [
      "/tmp/ipykernel_3779053/2834357883.py:40: FutureWarning: The frame.append method is deprecated and will be removed from pandas in a future version. Use pandas.concat instead.\n",
      "  intron_coordinates = intron_coordinates.append(new_row, ignore_index=True)\n",
      "/tmp/ipykernel_3779053/2834357883.py:40: FutureWarning: The frame.append method is deprecated and will be removed from pandas in a future version. Use pandas.concat instead.\n",
      "  intron_coordinates = intron_coordinates.append(new_row, ignore_index=True)\n",
      "/tmp/ipykernel_3779053/2834357883.py:40: FutureWarning: The frame.append method is deprecated and will be removed from pandas in a future version. Use pandas.concat instead.\n",
      "  intron_coordinates = intron_coordinates.append(new_row, ignore_index=True)\n"
     ]
    },
    {
     "name": "stdout",
     "output_type": "stream",
     "text": [
      "adding 13411213 13414634\n",
      "adding 13414893 13448916\n",
      "adding 13449166 13470020\n"
     ]
    },
    {
     "name": "stderr",
     "output_type": "stream",
     "text": [
      "/tmp/ipykernel_3779053/2834357883.py:40: FutureWarning: The frame.append method is deprecated and will be removed from pandas in a future version. Use pandas.concat instead.\n",
      "  intron_coordinates = intron_coordinates.append(new_row, ignore_index=True)\n",
      "/tmp/ipykernel_3779053/2834357883.py:40: FutureWarning: The frame.append method is deprecated and will be removed from pandas in a future version. Use pandas.concat instead.\n",
      "  intron_coordinates = intron_coordinates.append(new_row, ignore_index=True)\n",
      "/tmp/ipykernel_3779053/2834357883.py:40: FutureWarning: The frame.append method is deprecated and will be removed from pandas in a future version. Use pandas.concat instead.\n",
      "  intron_coordinates = intron_coordinates.append(new_row, ignore_index=True)\n"
     ]
    },
    {
     "name": "stdout",
     "output_type": "stream",
     "text": [
      "adding 13470329 13479153\n",
      "adding 13249982 13250916\n",
      "adding 13251287 13260177\n"
     ]
    },
    {
     "name": "stderr",
     "output_type": "stream",
     "text": [
      "/tmp/ipykernel_3779053/2834357883.py:40: FutureWarning: The frame.append method is deprecated and will be removed from pandas in a future version. Use pandas.concat instead.\n",
      "  intron_coordinates = intron_coordinates.append(new_row, ignore_index=True)\n",
      "/tmp/ipykernel_3779053/2834357883.py:40: FutureWarning: The frame.append method is deprecated and will be removed from pandas in a future version. Use pandas.concat instead.\n",
      "  intron_coordinates = intron_coordinates.append(new_row, ignore_index=True)\n",
      "/tmp/ipykernel_3779053/2834357883.py:40: FutureWarning: The frame.append method is deprecated and will be removed from pandas in a future version. Use pandas.concat instead.\n",
      "  intron_coordinates = intron_coordinates.append(new_row, ignore_index=True)\n"
     ]
    },
    {
     "name": "stdout",
     "output_type": "stream",
     "text": [
      "adding 13260504 13297606\n",
      "adding 13297948 13298856\n",
      "adding 13299244 13302776\n"
     ]
    },
    {
     "name": "stderr",
     "output_type": "stream",
     "text": [
      "/tmp/ipykernel_3779053/2834357883.py:40: FutureWarning: The frame.append method is deprecated and will be removed from pandas in a future version. Use pandas.concat instead.\n",
      "  intron_coordinates = intron_coordinates.append(new_row, ignore_index=True)\n",
      "/tmp/ipykernel_3779053/2834357883.py:40: FutureWarning: The frame.append method is deprecated and will be removed from pandas in a future version. Use pandas.concat instead.\n",
      "  intron_coordinates = intron_coordinates.append(new_row, ignore_index=True)\n",
      "/tmp/ipykernel_3779053/2834357883.py:40: FutureWarning: The frame.append method is deprecated and will be removed from pandas in a future version. Use pandas.concat instead.\n",
      "  intron_coordinates = intron_coordinates.append(new_row, ignore_index=True)\n"
     ]
    },
    {
     "name": "stdout",
     "output_type": "stream",
     "text": [
      "adding 13303091 13305298\n",
      "adding 13305647 13305937\n",
      "HERE 13306350 13323454\n",
      "adding 13323860 13324500\n",
      "adding 13324806 13326120\n",
      "adding 13326450 13335462\n"
     ]
    },
    {
     "name": "stderr",
     "output_type": "stream",
     "text": [
      "/tmp/ipykernel_3779053/2834357883.py:40: FutureWarning: The frame.append method is deprecated and will be removed from pandas in a future version. Use pandas.concat instead.\n",
      "  intron_coordinates = intron_coordinates.append(new_row, ignore_index=True)\n",
      "/tmp/ipykernel_3779053/2834357883.py:40: FutureWarning: The frame.append method is deprecated and will be removed from pandas in a future version. Use pandas.concat instead.\n",
      "  intron_coordinates = intron_coordinates.append(new_row, ignore_index=True)\n",
      "/tmp/ipykernel_3779053/2834357883.py:40: FutureWarning: The frame.append method is deprecated and will be removed from pandas in a future version. Use pandas.concat instead.\n",
      "  intron_coordinates = intron_coordinates.append(new_row, ignore_index=True)\n"
     ]
    },
    {
     "name": "stdout",
     "output_type": "stream",
     "text": [
      "HERE 13336435 13354902\n",
      "adding 13355498 13355822\n",
      "adding 13356118 13357776\n"
     ]
    },
    {
     "name": "stderr",
     "output_type": "stream",
     "text": [
      "/tmp/ipykernel_3779053/2834357883.py:40: FutureWarning: The frame.append method is deprecated and will be removed from pandas in a future version. Use pandas.concat instead.\n",
      "  intron_coordinates = intron_coordinates.append(new_row, ignore_index=True)\n",
      "/tmp/ipykernel_3779053/2834357883.py:40: FutureWarning: The frame.append method is deprecated and will be removed from pandas in a future version. Use pandas.concat instead.\n",
      "  intron_coordinates = intron_coordinates.append(new_row, ignore_index=True)\n",
      "/tmp/ipykernel_3779053/2834357883.py:40: FutureWarning: The frame.append method is deprecated and will be removed from pandas in a future version. Use pandas.concat instead.\n",
      "  intron_coordinates = intron_coordinates.append(new_row, ignore_index=True)\n"
     ]
    },
    {
     "name": "stdout",
     "output_type": "stream",
     "text": [
      "adding 13358069 13358363\n",
      "HERE 13358719 13359666\n",
      "adding 13360086 13360329\n"
     ]
    },
    {
     "name": "stderr",
     "output_type": "stream",
     "text": [
      "/tmp/ipykernel_3779053/2834357883.py:40: FutureWarning: The frame.append method is deprecated and will be removed from pandas in a future version. Use pandas.concat instead.\n",
      "  intron_coordinates = intron_coordinates.append(new_row, ignore_index=True)\n",
      "/tmp/ipykernel_3779053/2834357883.py:40: FutureWarning: The frame.append method is deprecated and will be removed from pandas in a future version. Use pandas.concat instead.\n",
      "  intron_coordinates = intron_coordinates.append(new_row, ignore_index=True)\n",
      "/tmp/ipykernel_3779053/2834357883.py:40: FutureWarning: The frame.append method is deprecated and will be removed from pandas in a future version. Use pandas.concat instead.\n",
      "  intron_coordinates = intron_coordinates.append(new_row, ignore_index=True)\n"
     ]
    },
    {
     "name": "stdout",
     "output_type": "stream",
     "text": [
      "adding 13360628 13366166\n",
      "adding 13366493 13369155\n",
      "adding 13369449 13393758\n"
     ]
    },
    {
     "name": "stderr",
     "output_type": "stream",
     "text": [
      "/tmp/ipykernel_3779053/2834357883.py:40: FutureWarning: The frame.append method is deprecated and will be removed from pandas in a future version. Use pandas.concat instead.\n",
      "  intron_coordinates = intron_coordinates.append(new_row, ignore_index=True)\n",
      "/tmp/ipykernel_3779053/2834357883.py:40: FutureWarning: The frame.append method is deprecated and will be removed from pandas in a future version. Use pandas.concat instead.\n",
      "  intron_coordinates = intron_coordinates.append(new_row, ignore_index=True)\n",
      "/tmp/ipykernel_3779053/2834357883.py:40: FutureWarning: The frame.append method is deprecated and will be removed from pandas in a future version. Use pandas.concat instead.\n",
      "  intron_coordinates = intron_coordinates.append(new_row, ignore_index=True)\n"
     ]
    },
    {
     "name": "stdout",
     "output_type": "stream",
     "text": [
      "adding 13393993 13396817\n",
      "adding 13397072 13410892\n",
      "adding 13411213 13414634\n"
     ]
    },
    {
     "name": "stderr",
     "output_type": "stream",
     "text": [
      "/tmp/ipykernel_3779053/2834357883.py:40: FutureWarning: The frame.append method is deprecated and will be removed from pandas in a future version. Use pandas.concat instead.\n",
      "  intron_coordinates = intron_coordinates.append(new_row, ignore_index=True)\n",
      "/tmp/ipykernel_3779053/2834357883.py:40: FutureWarning: The frame.append method is deprecated and will be removed from pandas in a future version. Use pandas.concat instead.\n",
      "  intron_coordinates = intron_coordinates.append(new_row, ignore_index=True)\n",
      "/tmp/ipykernel_3779053/2834357883.py:40: FutureWarning: The frame.append method is deprecated and will be removed from pandas in a future version. Use pandas.concat instead.\n",
      "  intron_coordinates = intron_coordinates.append(new_row, ignore_index=True)\n"
     ]
    },
    {
     "name": "stdout",
     "output_type": "stream",
     "text": [
      "adding 13414893 13448916\n",
      "adding 13449166 13470020\n",
      "adding 13470329 13479153\n"
     ]
    },
    {
     "name": "stderr",
     "output_type": "stream",
     "text": [
      "/tmp/ipykernel_3779053/2834357883.py:40: FutureWarning: The frame.append method is deprecated and will be removed from pandas in a future version. Use pandas.concat instead.\n",
      "  intron_coordinates = intron_coordinates.append(new_row, ignore_index=True)\n",
      "/tmp/ipykernel_3779053/2834357883.py:40: FutureWarning: The frame.append method is deprecated and will be removed from pandas in a future version. Use pandas.concat instead.\n",
      "  intron_coordinates = intron_coordinates.append(new_row, ignore_index=True)\n",
      "/tmp/ipykernel_3779053/2834357883.py:40: FutureWarning: The frame.append method is deprecated and will be removed from pandas in a future version. Use pandas.concat instead.\n",
      "  intron_coordinates = intron_coordinates.append(new_row, ignore_index=True)\n"
     ]
    },
    {
     "name": "stdout",
     "output_type": "stream",
     "text": [
      "adding 13249982 13250916\n",
      "adding 13251287 13260177\n",
      "adding 13260504 13297606\n"
     ]
    },
    {
     "name": "stderr",
     "output_type": "stream",
     "text": [
      "/tmp/ipykernel_3779053/2834357883.py:40: FutureWarning: The frame.append method is deprecated and will be removed from pandas in a future version. Use pandas.concat instead.\n",
      "  intron_coordinates = intron_coordinates.append(new_row, ignore_index=True)\n",
      "/tmp/ipykernel_3779053/2834357883.py:40: FutureWarning: The frame.append method is deprecated and will be removed from pandas in a future version. Use pandas.concat instead.\n",
      "  intron_coordinates = intron_coordinates.append(new_row, ignore_index=True)\n",
      "/tmp/ipykernel_3779053/2834357883.py:40: FutureWarning: The frame.append method is deprecated and will be removed from pandas in a future version. Use pandas.concat instead.\n",
      "  intron_coordinates = intron_coordinates.append(new_row, ignore_index=True)\n"
     ]
    },
    {
     "name": "stdout",
     "output_type": "stream",
     "text": [
      "adding 13297948 13298856\n",
      "adding 13299244 13302776\n",
      "adding 13303091 13305298\n"
     ]
    },
    {
     "name": "stderr",
     "output_type": "stream",
     "text": [
      "/tmp/ipykernel_3779053/2834357883.py:40: FutureWarning: The frame.append method is deprecated and will be removed from pandas in a future version. Use pandas.concat instead.\n",
      "  intron_coordinates = intron_coordinates.append(new_row, ignore_index=True)\n",
      "/tmp/ipykernel_3779053/2834357883.py:40: FutureWarning: The frame.append method is deprecated and will be removed from pandas in a future version. Use pandas.concat instead.\n",
      "  intron_coordinates = intron_coordinates.append(new_row, ignore_index=True)\n"
     ]
    },
    {
     "name": "stdout",
     "output_type": "stream",
     "text": [
      "adding 13305647 13305937\n",
      "HERE 13306350 13323454\n",
      "adding 13323860 13324500\n"
     ]
    },
    {
     "name": "stderr",
     "output_type": "stream",
     "text": [
      "/tmp/ipykernel_3779053/2834357883.py:40: FutureWarning: The frame.append method is deprecated and will be removed from pandas in a future version. Use pandas.concat instead.\n",
      "  intron_coordinates = intron_coordinates.append(new_row, ignore_index=True)\n",
      "/tmp/ipykernel_3779053/2834357883.py:40: FutureWarning: The frame.append method is deprecated and will be removed from pandas in a future version. Use pandas.concat instead.\n",
      "  intron_coordinates = intron_coordinates.append(new_row, ignore_index=True)\n",
      "/tmp/ipykernel_3779053/2834357883.py:40: FutureWarning: The frame.append method is deprecated and will be removed from pandas in a future version. Use pandas.concat instead.\n",
      "  intron_coordinates = intron_coordinates.append(new_row, ignore_index=True)\n"
     ]
    },
    {
     "name": "stdout",
     "output_type": "stream",
     "text": [
      "adding 13324806 13326120\n",
      "adding 13326450 13335462\n",
      "HERE 13336435 13354902\n",
      "adding 13355498 13355822\n",
      "adding 13356118 13357776\n",
      "HERE 13358069 13359666\n"
     ]
    },
    {
     "name": "stderr",
     "output_type": "stream",
     "text": [
      "/tmp/ipykernel_3779053/2834357883.py:40: FutureWarning: The frame.append method is deprecated and will be removed from pandas in a future version. Use pandas.concat instead.\n",
      "  intron_coordinates = intron_coordinates.append(new_row, ignore_index=True)\n",
      "/tmp/ipykernel_3779053/2834357883.py:40: FutureWarning: The frame.append method is deprecated and will be removed from pandas in a future version. Use pandas.concat instead.\n",
      "  intron_coordinates = intron_coordinates.append(new_row, ignore_index=True)\n"
     ]
    },
    {
     "name": "stdout",
     "output_type": "stream",
     "text": [
      "adding 13360086 13360329\n",
      "adding 13360628 13366166\n",
      "adding 13366493 13369155\n"
     ]
    },
    {
     "name": "stderr",
     "output_type": "stream",
     "text": [
      "/tmp/ipykernel_3779053/2834357883.py:40: FutureWarning: The frame.append method is deprecated and will be removed from pandas in a future version. Use pandas.concat instead.\n",
      "  intron_coordinates = intron_coordinates.append(new_row, ignore_index=True)\n",
      "/tmp/ipykernel_3779053/2834357883.py:40: FutureWarning: The frame.append method is deprecated and will be removed from pandas in a future version. Use pandas.concat instead.\n",
      "  intron_coordinates = intron_coordinates.append(new_row, ignore_index=True)\n",
      "/tmp/ipykernel_3779053/2834357883.py:40: FutureWarning: The frame.append method is deprecated and will be removed from pandas in a future version. Use pandas.concat instead.\n",
      "  intron_coordinates = intron_coordinates.append(new_row, ignore_index=True)\n"
     ]
    },
    {
     "name": "stdout",
     "output_type": "stream",
     "text": [
      "HERE 13369449 13410892\n",
      "adding 13411213 13414634\n",
      "HERE 13414893 13479153\n",
      "HERE 13249982 13260177\n"
     ]
    },
    {
     "name": "stderr",
     "output_type": "stream",
     "text": [
      "/tmp/ipykernel_3779053/2834357883.py:40: FutureWarning: The frame.append method is deprecated and will be removed from pandas in a future version. Use pandas.concat instead.\n",
      "  intron_coordinates = intron_coordinates.append(new_row, ignore_index=True)\n",
      "/tmp/ipykernel_3779053/2834357883.py:40: FutureWarning: The frame.append method is deprecated and will be removed from pandas in a future version. Use pandas.concat instead.\n",
      "  intron_coordinates = intron_coordinates.append(new_row, ignore_index=True)\n"
     ]
    },
    {
     "name": "stdout",
     "output_type": "stream",
     "text": [
      "adding 13260504 13297606\n",
      "adding 13297948 13298856\n",
      "adding 13299244 13302776\n"
     ]
    },
    {
     "name": "stderr",
     "output_type": "stream",
     "text": [
      "/tmp/ipykernel_3779053/2834357883.py:40: FutureWarning: The frame.append method is deprecated and will be removed from pandas in a future version. Use pandas.concat instead.\n",
      "  intron_coordinates = intron_coordinates.append(new_row, ignore_index=True)\n",
      "/tmp/ipykernel_3779053/2834357883.py:40: FutureWarning: The frame.append method is deprecated and will be removed from pandas in a future version. Use pandas.concat instead.\n",
      "  intron_coordinates = intron_coordinates.append(new_row, ignore_index=True)\n",
      "/tmp/ipykernel_3779053/2834357883.py:40: FutureWarning: The frame.append method is deprecated and will be removed from pandas in a future version. Use pandas.concat instead.\n",
      "  intron_coordinates = intron_coordinates.append(new_row, ignore_index=True)\n"
     ]
    },
    {
     "name": "stdout",
     "output_type": "stream",
     "text": [
      "adding 13303091 13305298\n",
      "adding 13305647 13305937\n",
      "HERE 13306350 13323454\n"
     ]
    },
    {
     "name": "stderr",
     "output_type": "stream",
     "text": [
      "/tmp/ipykernel_3779053/2834357883.py:40: FutureWarning: The frame.append method is deprecated and will be removed from pandas in a future version. Use pandas.concat instead.\n",
      "  intron_coordinates = intron_coordinates.append(new_row, ignore_index=True)\n",
      "/tmp/ipykernel_3779053/2834357883.py:40: FutureWarning: The frame.append method is deprecated and will be removed from pandas in a future version. Use pandas.concat instead.\n",
      "  intron_coordinates = intron_coordinates.append(new_row, ignore_index=True)\n"
     ]
    },
    {
     "name": "stdout",
     "output_type": "stream",
     "text": [
      "adding 13323860 13324500\n",
      "adding 13324806 13326120\n"
     ]
    },
    {
     "name": "stderr",
     "output_type": "stream",
     "text": [
      "/tmp/ipykernel_3779053/2834357883.py:40: FutureWarning: The frame.append method is deprecated and will be removed from pandas in a future version. Use pandas.concat instead.\n",
      "  intron_coordinates = intron_coordinates.append(new_row, ignore_index=True)\n",
      "/tmp/ipykernel_3779053/2834357883.py:40: FutureWarning: The frame.append method is deprecated and will be removed from pandas in a future version. Use pandas.concat instead.\n",
      "  intron_coordinates = intron_coordinates.append(new_row, ignore_index=True)\n"
     ]
    },
    {
     "name": "stdout",
     "output_type": "stream",
     "text": [
      "adding 13326450 13335462\n",
      "HERE 13336435 13355274\n",
      "adding 13355498 13355822\n"
     ]
    },
    {
     "name": "stderr",
     "output_type": "stream",
     "text": [
      "/tmp/ipykernel_3779053/2834357883.py:40: FutureWarning: The frame.append method is deprecated and will be removed from pandas in a future version. Use pandas.concat instead.\n",
      "  intron_coordinates = intron_coordinates.append(new_row, ignore_index=True)\n",
      "/tmp/ipykernel_3779053/2834357883.py:40: FutureWarning: The frame.append method is deprecated and will be removed from pandas in a future version. Use pandas.concat instead.\n",
      "  intron_coordinates = intron_coordinates.append(new_row, ignore_index=True)\n"
     ]
    },
    {
     "name": "stdout",
     "output_type": "stream",
     "text": [
      "adding 13356118 13357776\n",
      "HERE 13358069 13358987\n",
      "adding 13359322 13359666\n"
     ]
    },
    {
     "name": "stderr",
     "output_type": "stream",
     "text": [
      "/tmp/ipykernel_3779053/2834357883.py:40: FutureWarning: The frame.append method is deprecated and will be removed from pandas in a future version. Use pandas.concat instead.\n",
      "  intron_coordinates = intron_coordinates.append(new_row, ignore_index=True)\n",
      "/tmp/ipykernel_3779053/2834357883.py:40: FutureWarning: The frame.append method is deprecated and will be removed from pandas in a future version. Use pandas.concat instead.\n",
      "  intron_coordinates = intron_coordinates.append(new_row, ignore_index=True)\n",
      "/tmp/ipykernel_3779053/2834357883.py:40: FutureWarning: The frame.append method is deprecated and will be removed from pandas in a future version. Use pandas.concat instead.\n",
      "  intron_coordinates = intron_coordinates.append(new_row, ignore_index=True)\n"
     ]
    },
    {
     "name": "stdout",
     "output_type": "stream",
     "text": [
      "adding 13360086 13360329\n",
      "adding 13360628 13366166\n",
      "adding 13366493 13369155\n"
     ]
    },
    {
     "name": "stderr",
     "output_type": "stream",
     "text": [
      "/tmp/ipykernel_3779053/2834357883.py:40: FutureWarning: The frame.append method is deprecated and will be removed from pandas in a future version. Use pandas.concat instead.\n",
      "  intron_coordinates = intron_coordinates.append(new_row, ignore_index=True)\n",
      "/tmp/ipykernel_3779053/2834357883.py:40: FutureWarning: The frame.append method is deprecated and will be removed from pandas in a future version. Use pandas.concat instead.\n",
      "  intron_coordinates = intron_coordinates.append(new_row, ignore_index=True)\n"
     ]
    },
    {
     "name": "stdout",
     "output_type": "stream",
     "text": [
      "adding 13369449 13393758\n",
      "adding 13393993 13396817\n",
      "adding 13397072 13410892\n"
     ]
    },
    {
     "name": "stderr",
     "output_type": "stream",
     "text": [
      "/tmp/ipykernel_3779053/2834357883.py:40: FutureWarning: The frame.append method is deprecated and will be removed from pandas in a future version. Use pandas.concat instead.\n",
      "  intron_coordinates = intron_coordinates.append(new_row, ignore_index=True)\n",
      "/tmp/ipykernel_3779053/2834357883.py:40: FutureWarning: The frame.append method is deprecated and will be removed from pandas in a future version. Use pandas.concat instead.\n",
      "  intron_coordinates = intron_coordinates.append(new_row, ignore_index=True)\n",
      "/tmp/ipykernel_3779053/2834357883.py:40: FutureWarning: The frame.append method is deprecated and will be removed from pandas in a future version. Use pandas.concat instead.\n",
      "  intron_coordinates = intron_coordinates.append(new_row, ignore_index=True)\n"
     ]
    },
    {
     "name": "stdout",
     "output_type": "stream",
     "text": [
      "adding 13411213 13414634\n",
      "adding 13414893 13448916\n",
      "adding 13449166 13470020\n"
     ]
    },
    {
     "name": "stderr",
     "output_type": "stream",
     "text": [
      "/tmp/ipykernel_3779053/2834357883.py:40: FutureWarning: The frame.append method is deprecated and will be removed from pandas in a future version. Use pandas.concat instead.\n",
      "  intron_coordinates = intron_coordinates.append(new_row, ignore_index=True)\n",
      "/tmp/ipykernel_3779053/2834357883.py:40: FutureWarning: The frame.append method is deprecated and will be removed from pandas in a future version. Use pandas.concat instead.\n",
      "  intron_coordinates = intron_coordinates.append(new_row, ignore_index=True)\n",
      "/tmp/ipykernel_3779053/2834357883.py:40: FutureWarning: The frame.append method is deprecated and will be removed from pandas in a future version. Use pandas.concat instead.\n",
      "  intron_coordinates = intron_coordinates.append(new_row, ignore_index=True)\n"
     ]
    },
    {
     "name": "stdout",
     "output_type": "stream",
     "text": [
      "adding 13470329 13479153\n",
      "        Chromosome   Source Feature     Start       End Score Strand Frame  \\\n",
      "2815551       chrX  ensembl     CDS  44873623  44873712     .      +     0   \n",
      "2815554       chrX  ensembl     CDS  44873923  44873987     .      +     1   \n",
      "2815556       chrX  ensembl     CDS  44961283  44961392     .      +     0   \n",
      "2815558       chrX  ensembl     CDS  44974665  44974715     .      +     2   \n",
      "2815560       chrX  ensembl     CDS  45010960  45011019     .      +     0   \n",
      "...            ...      ...     ...       ...       ...   ...    ...   ...   \n",
      "2816006       chrX   havana     CDS  45090816  45090864     .      +     1   \n",
      "2816008       chrX   havana     CDS  45106541  45106649     .      +     1   \n",
      "2816010       chrX   havana     CDS  45107409  45107536     .      +     1   \n",
      "2816012       chrX   havana     CDS  45110078  45110249     .      +     0   \n",
      "2816014       chrX   havana     CDS  45111381  45111408     .      +     0   \n",
      "\n",
      "                 gene_id gene_version  ...            tag  \\\n",
      "2815551  ENSG00000147050           14  ...          basic   \n",
      "2815554  ENSG00000147050           14  ...          basic   \n",
      "2815556  ENSG00000147050           14  ...          basic   \n",
      "2815558  ENSG00000147050           14  ...          basic   \n",
      "2815560  ENSG00000147050           14  ...          basic   \n",
      "...                  ...          ...  ...            ...   \n",
      "2816006  ENSG00000147050           14  ...  mRNA_start_NF   \n",
      "2816008  ENSG00000147050           14  ...  mRNA_start_NF   \n",
      "2816010  ENSG00000147050           14  ...  mRNA_start_NF   \n",
      "2816012  ENSG00000147050           14  ...  mRNA_start_NF   \n",
      "2816014  ENSG00000147050           14  ...  mRNA_start_NF   \n",
      "\n",
      "        transcript_support_level exon_number exon_id exon_version (assigned  \\\n",
      "2815551                        1           1     NaN          NaN       NaN   \n",
      "2815554                        1           2     NaN          NaN       NaN   \n",
      "2815556                        1           3     NaN          NaN       NaN   \n",
      "2815558                        1           4     NaN          NaN       NaN   \n",
      "2815560                        1           5     NaN          NaN       NaN   \n",
      "...                          ...         ...     ...          ...       ...   \n",
      "2816006                        3           1     NaN          NaN       NaN   \n",
      "2816008                        3           2     NaN          NaN       NaN   \n",
      "2816010                        3           3     NaN          NaN       NaN   \n",
      "2816012                        3           4     NaN          NaN       NaN   \n",
      "2816014                        3           5     NaN          NaN       NaN   \n",
      "\n",
      "        previous       protein_id protein_version ccds_id  \n",
      "2815551      NaN  ENSP00000483595               1     NaN  \n",
      "2815554      NaN  ENSP00000483595               1     NaN  \n",
      "2815556      NaN  ENSP00000483595               1     NaN  \n",
      "2815558      NaN  ENSP00000483595               1     NaN  \n",
      "2815560      NaN  ENSP00000483595               1     NaN  \n",
      "...          ...              ...             ...     ...  \n",
      "2816006      NaN  ENSP00000408230               1     NaN  \n",
      "2816008      NaN  ENSP00000408230               1     NaN  \n",
      "2816010      NaN  ENSP00000408230               1     NaN  \n",
      "2816012      NaN  ENSP00000408230               1     NaN  \n",
      "2816014      NaN  ENSP00000408230               1     NaN  \n",
      "\n",
      "[195 rows x 28 columns]\n",
      "<pandas.core.groupby.generic.DataFrameGroupBy object at 0x7f00ef6da6d0>\n",
      "adding 44873812 44873823\n",
      "adding 44874087 44961183\n",
      "adding 44961492 44974565\n"
     ]
    },
    {
     "name": "stderr",
     "output_type": "stream",
     "text": [
      "/tmp/ipykernel_3779053/2834357883.py:40: FutureWarning: The frame.append method is deprecated and will be removed from pandas in a future version. Use pandas.concat instead.\n",
      "  intron_coordinates = intron_coordinates.append(new_row, ignore_index=True)\n",
      "/tmp/ipykernel_3779053/2834357883.py:40: FutureWarning: The frame.append method is deprecated and will be removed from pandas in a future version. Use pandas.concat instead.\n",
      "  intron_coordinates = intron_coordinates.append(new_row, ignore_index=True)\n",
      "/tmp/ipykernel_3779053/2834357883.py:40: FutureWarning: The frame.append method is deprecated and will be removed from pandas in a future version. Use pandas.concat instead.\n",
      "  intron_coordinates = intron_coordinates.append(new_row, ignore_index=True)\n",
      "/tmp/ipykernel_3779053/2834357883.py:40: FutureWarning: The frame.append method is deprecated and will be removed from pandas in a future version. Use pandas.concat instead.\n",
      "  intron_coordinates = intron_coordinates.append(new_row, ignore_index=True)\n"
     ]
    },
    {
     "name": "stdout",
     "output_type": "stream",
     "text": [
      "adding 44974815 45010860\n",
      "adding 45011119 45020509\n",
      "adding 45020830 45034830\n",
      "adding 45035085 45037554\n"
     ]
    },
    {
     "name": "stderr",
     "output_type": "stream",
     "text": [
      "/tmp/ipykernel_3779053/2834357883.py:40: FutureWarning: The frame.append method is deprecated and will be removed from pandas in a future version. Use pandas.concat instead.\n",
      "  intron_coordinates = intron_coordinates.append(new_row, ignore_index=True)\n",
      "/tmp/ipykernel_3779053/2834357883.py:40: FutureWarning: The frame.append method is deprecated and will be removed from pandas in a future version. Use pandas.concat instead.\n",
      "  intron_coordinates = intron_coordinates.append(new_row, ignore_index=True)\n",
      "/tmp/ipykernel_3779053/2834357883.py:40: FutureWarning: The frame.append method is deprecated and will be removed from pandas in a future version. Use pandas.concat instead.\n",
      "  intron_coordinates = intron_coordinates.append(new_row, ignore_index=True)\n",
      "/tmp/ipykernel_3779053/2834357883.py:40: FutureWarning: The frame.append method is deprecated and will be removed from pandas in a future version. Use pandas.concat instead.\n",
      "  intron_coordinates = intron_coordinates.append(new_row, ignore_index=True)\n"
     ]
    },
    {
     "name": "stdout",
     "output_type": "stream",
     "text": [
      "adding 45037789 45051608\n",
      "adding 45051902 45053728\n",
      "adding 45054055 45058905\n",
      "adding 45059566 45059921\n",
      "HERE 45060256 45061223\n"
     ]
    },
    {
     "name": "stderr",
     "output_type": "stream",
     "text": [
      "/tmp/ipykernel_3779053/2834357883.py:40: FutureWarning: The frame.append method is deprecated and will be removed from pandas in a future version. Use pandas.concat instead.\n",
      "  intron_coordinates = intron_coordinates.append(new_row, ignore_index=True)\n",
      "/tmp/ipykernel_3779053/2834357883.py:40: FutureWarning: The frame.append method is deprecated and will be removed from pandas in a future version. Use pandas.concat instead.\n",
      "  intron_coordinates = intron_coordinates.append(new_row, ignore_index=True)\n",
      "/tmp/ipykernel_3779053/2834357883.py:40: FutureWarning: The frame.append method is deprecated and will be removed from pandas in a future version. Use pandas.concat instead.\n",
      "  intron_coordinates = intron_coordinates.append(new_row, ignore_index=True)\n",
      "/tmp/ipykernel_3779053/2834357883.py:40: FutureWarning: The frame.append method is deprecated and will be removed from pandas in a future version. Use pandas.concat instead.\n",
      "  intron_coordinates = intron_coordinates.append(new_row, ignore_index=True)\n"
     ]
    },
    {
     "name": "stdout",
     "output_type": "stream",
     "text": [
      "adding 45061519 45062546\n",
      "adding 45062848 45063321\n",
      "adding 45063917 45069478\n",
      "adding 45070457 45076596\n"
     ]
    },
    {
     "name": "stderr",
     "output_type": "stream",
     "text": [
      "/tmp/ipykernel_3779053/2834357883.py:40: FutureWarning: The frame.append method is deprecated and will be removed from pandas in a future version. Use pandas.concat instead.\n",
      "  intron_coordinates = intron_coordinates.append(new_row, ignore_index=True)\n",
      "/tmp/ipykernel_3779053/2834357883.py:40: FutureWarning: The frame.append method is deprecated and will be removed from pandas in a future version. Use pandas.concat instead.\n",
      "  intron_coordinates = intron_coordinates.append(new_row, ignore_index=True)\n",
      "/tmp/ipykernel_3779053/2834357883.py:40: FutureWarning: The frame.append method is deprecated and will be removed from pandas in a future version. Use pandas.concat instead.\n",
      "  intron_coordinates = intron_coordinates.append(new_row, ignore_index=True)\n",
      "/tmp/ipykernel_3779053/2834357883.py:40: FutureWarning: The frame.append method is deprecated and will be removed from pandas in a future version. Use pandas.concat instead.\n",
      "  intron_coordinates = intron_coordinates.append(new_row, ignore_index=True)\n"
     ]
    },
    {
     "name": "stdout",
     "output_type": "stream",
     "text": [
      "adding 45076926 45078299\n",
      "adding 45078605 45079045\n",
      "adding 45079451 45082475\n",
      "adding 45082889 45083359\n"
     ]
    },
    {
     "name": "stderr",
     "output_type": "stream",
     "text": [
      "/tmp/ipykernel_3779053/2834357883.py:40: FutureWarning: The frame.append method is deprecated and will be removed from pandas in a future version. Use pandas.concat instead.\n",
      "  intron_coordinates = intron_coordinates.append(new_row, ignore_index=True)\n",
      "/tmp/ipykernel_3779053/2834357883.py:40: FutureWarning: The frame.append method is deprecated and will be removed from pandas in a future version. Use pandas.concat instead.\n",
      "  intron_coordinates = intron_coordinates.append(new_row, ignore_index=True)\n",
      "/tmp/ipykernel_3779053/2834357883.py:40: FutureWarning: The frame.append method is deprecated and will be removed from pandas in a future version. Use pandas.concat instead.\n",
      "  intron_coordinates = intron_coordinates.append(new_row, ignore_index=True)\n",
      "/tmp/ipykernel_3779053/2834357883.py:40: FutureWarning: The frame.append method is deprecated and will be removed from pandas in a future version. Use pandas.concat instead.\n",
      "  intron_coordinates = intron_coordinates.append(new_row, ignore_index=True)\n"
     ]
    },
    {
     "name": "stdout",
     "output_type": "stream",
     "text": [
      "adding 45083708 45085764\n",
      "adding 45086079 45089642\n",
      "adding 45090030 45090622\n",
      "HERE 45090964 45107309\n"
     ]
    },
    {
     "name": "stderr",
     "output_type": "stream",
     "text": [
      "/tmp/ipykernel_3779053/2834357883.py:40: FutureWarning: The frame.append method is deprecated and will be removed from pandas in a future version. Use pandas.concat instead.\n",
      "  intron_coordinates = intron_coordinates.append(new_row, ignore_index=True)\n",
      "/tmp/ipykernel_3779053/2834357883.py:40: FutureWarning: The frame.append method is deprecated and will be removed from pandas in a future version. Use pandas.concat instead.\n",
      "  intron_coordinates = intron_coordinates.append(new_row, ignore_index=True)\n",
      "/tmp/ipykernel_3779053/2834357883.py:40: FutureWarning: The frame.append method is deprecated and will be removed from pandas in a future version. Use pandas.concat instead.\n",
      "  intron_coordinates = intron_coordinates.append(new_row, ignore_index=True)\n"
     ]
    },
    {
     "name": "stdout",
     "output_type": "stream",
     "text": [
      "adding 45107636 45109978\n",
      "adding 45110349 45111281\n",
      "adding 44873812 44873823\n",
      "adding 44874087 44961183\n"
     ]
    },
    {
     "name": "stderr",
     "output_type": "stream",
     "text": [
      "/tmp/ipykernel_3779053/2834357883.py:40: FutureWarning: The frame.append method is deprecated and will be removed from pandas in a future version. Use pandas.concat instead.\n",
      "  intron_coordinates = intron_coordinates.append(new_row, ignore_index=True)\n",
      "/tmp/ipykernel_3779053/2834357883.py:40: FutureWarning: The frame.append method is deprecated and will be removed from pandas in a future version. Use pandas.concat instead.\n",
      "  intron_coordinates = intron_coordinates.append(new_row, ignore_index=True)\n",
      "/tmp/ipykernel_3779053/2834357883.py:40: FutureWarning: The frame.append method is deprecated and will be removed from pandas in a future version. Use pandas.concat instead.\n",
      "  intron_coordinates = intron_coordinates.append(new_row, ignore_index=True)\n",
      "/tmp/ipykernel_3779053/2834357883.py:40: FutureWarning: The frame.append method is deprecated and will be removed from pandas in a future version. Use pandas.concat instead.\n",
      "  intron_coordinates = intron_coordinates.append(new_row, ignore_index=True)\n"
     ]
    },
    {
     "name": "stdout",
     "output_type": "stream",
     "text": [
      "adding 44961492 44974565\n",
      "adding 44974815 45010860\n",
      "adding 45011119 45020509\n",
      "adding 45020830 45034830\n"
     ]
    },
    {
     "name": "stderr",
     "output_type": "stream",
     "text": [
      "/tmp/ipykernel_3779053/2834357883.py:40: FutureWarning: The frame.append method is deprecated and will be removed from pandas in a future version. Use pandas.concat instead.\n",
      "  intron_coordinates = intron_coordinates.append(new_row, ignore_index=True)\n",
      "/tmp/ipykernel_3779053/2834357883.py:40: FutureWarning: The frame.append method is deprecated and will be removed from pandas in a future version. Use pandas.concat instead.\n",
      "  intron_coordinates = intron_coordinates.append(new_row, ignore_index=True)\n",
      "/tmp/ipykernel_3779053/2834357883.py:40: FutureWarning: The frame.append method is deprecated and will be removed from pandas in a future version. Use pandas.concat instead.\n",
      "  intron_coordinates = intron_coordinates.append(new_row, ignore_index=True)\n",
      "/tmp/ipykernel_3779053/2834357883.py:40: FutureWarning: The frame.append method is deprecated and will be removed from pandas in a future version. Use pandas.concat instead.\n",
      "  intron_coordinates = intron_coordinates.append(new_row, ignore_index=True)\n"
     ]
    },
    {
     "name": "stdout",
     "output_type": "stream",
     "text": [
      "adding 45035085 45037554\n",
      "adding 45037789 45051608\n",
      "adding 45051902 45053728\n",
      "adding 45054055 45058905\n",
      "HERE 45059566 45060508\n"
     ]
    },
    {
     "name": "stderr",
     "output_type": "stream",
     "text": [
      "/tmp/ipykernel_3779053/2834357883.py:40: FutureWarning: The frame.append method is deprecated and will be removed from pandas in a future version. Use pandas.concat instead.\n",
      "  intron_coordinates = intron_coordinates.append(new_row, ignore_index=True)\n",
      "/tmp/ipykernel_3779053/2834357883.py:40: FutureWarning: The frame.append method is deprecated and will be removed from pandas in a future version. Use pandas.concat instead.\n",
      "  intron_coordinates = intron_coordinates.append(new_row, ignore_index=True)\n",
      "/tmp/ipykernel_3779053/2834357883.py:40: FutureWarning: The frame.append method is deprecated and will be removed from pandas in a future version. Use pandas.concat instead.\n",
      "  intron_coordinates = intron_coordinates.append(new_row, ignore_index=True)\n",
      "/tmp/ipykernel_3779053/2834357883.py:40: FutureWarning: The frame.append method is deprecated and will be removed from pandas in a future version. Use pandas.concat instead.\n",
      "  intron_coordinates = intron_coordinates.append(new_row, ignore_index=True)\n"
     ]
    },
    {
     "name": "stdout",
     "output_type": "stream",
     "text": [
      "adding 45060864 45061223\n",
      "adding 45061519 45062546\n",
      "adding 45062848 45063321\n",
      "adding 45063917 45069478\n"
     ]
    },
    {
     "name": "stderr",
     "output_type": "stream",
     "text": [
      "/tmp/ipykernel_3779053/2834357883.py:40: FutureWarning: The frame.append method is deprecated and will be removed from pandas in a future version. Use pandas.concat instead.\n",
      "  intron_coordinates = intron_coordinates.append(new_row, ignore_index=True)\n",
      "/tmp/ipykernel_3779053/2834357883.py:40: FutureWarning: The frame.append method is deprecated and will be removed from pandas in a future version. Use pandas.concat instead.\n",
      "  intron_coordinates = intron_coordinates.append(new_row, ignore_index=True)\n",
      "/tmp/ipykernel_3779053/2834357883.py:40: FutureWarning: The frame.append method is deprecated and will be removed from pandas in a future version. Use pandas.concat instead.\n",
      "  intron_coordinates = intron_coordinates.append(new_row, ignore_index=True)\n",
      "/tmp/ipykernel_3779053/2834357883.py:40: FutureWarning: The frame.append method is deprecated and will be removed from pandas in a future version. Use pandas.concat instead.\n",
      "  intron_coordinates = intron_coordinates.append(new_row, ignore_index=True)\n"
     ]
    },
    {
     "name": "stdout",
     "output_type": "stream",
     "text": [
      "adding 45070457 45076596\n",
      "adding 45076926 45078299\n",
      "adding 45078605 45079045\n",
      "adding 45079451 45082475\n"
     ]
    },
    {
     "name": "stderr",
     "output_type": "stream",
     "text": [
      "/tmp/ipykernel_3779053/2834357883.py:40: FutureWarning: The frame.append method is deprecated and will be removed from pandas in a future version. Use pandas.concat instead.\n",
      "  intron_coordinates = intron_coordinates.append(new_row, ignore_index=True)\n",
      "/tmp/ipykernel_3779053/2834357883.py:40: FutureWarning: The frame.append method is deprecated and will be removed from pandas in a future version. Use pandas.concat instead.\n",
      "  intron_coordinates = intron_coordinates.append(new_row, ignore_index=True)\n",
      "/tmp/ipykernel_3779053/2834357883.py:40: FutureWarning: The frame.append method is deprecated and will be removed from pandas in a future version. Use pandas.concat instead.\n",
      "  intron_coordinates = intron_coordinates.append(new_row, ignore_index=True)\n",
      "/tmp/ipykernel_3779053/2834357883.py:40: FutureWarning: The frame.append method is deprecated and will be removed from pandas in a future version. Use pandas.concat instead.\n",
      "  intron_coordinates = intron_coordinates.append(new_row, ignore_index=True)\n"
     ]
    },
    {
     "name": "stdout",
     "output_type": "stream",
     "text": [
      "adding 45082889 45083359\n",
      "adding 45083708 45085764\n",
      "adding 45086079 45089642\n",
      "adding 45090030 45090622\n"
     ]
    },
    {
     "name": "stderr",
     "output_type": "stream",
     "text": [
      "/tmp/ipykernel_3779053/2834357883.py:40: FutureWarning: The frame.append method is deprecated and will be removed from pandas in a future version. Use pandas.concat instead.\n",
      "  intron_coordinates = intron_coordinates.append(new_row, ignore_index=True)\n",
      "/tmp/ipykernel_3779053/2834357883.py:40: FutureWarning: The frame.append method is deprecated and will be removed from pandas in a future version. Use pandas.concat instead.\n",
      "  intron_coordinates = intron_coordinates.append(new_row, ignore_index=True)\n",
      "/tmp/ipykernel_3779053/2834357883.py:40: FutureWarning: The frame.append method is deprecated and will be removed from pandas in a future version. Use pandas.concat instead.\n",
      "  intron_coordinates = intron_coordinates.append(new_row, ignore_index=True)\n"
     ]
    },
    {
     "name": "stdout",
     "output_type": "stream",
     "text": [
      "HERE 45090964 45107309\n",
      "adding 45107636 45109978\n",
      "adding 45110349 45111281\n",
      "HERE 45059566 45061223\n",
      "adding 45061519 45062546\n"
     ]
    },
    {
     "name": "stderr",
     "output_type": "stream",
     "text": [
      "/tmp/ipykernel_3779053/2834357883.py:40: FutureWarning: The frame.append method is deprecated and will be removed from pandas in a future version. Use pandas.concat instead.\n",
      "  intron_coordinates = intron_coordinates.append(new_row, ignore_index=True)\n",
      "/tmp/ipykernel_3779053/2834357883.py:40: FutureWarning: The frame.append method is deprecated and will be removed from pandas in a future version. Use pandas.concat instead.\n",
      "  intron_coordinates = intron_coordinates.append(new_row, ignore_index=True)\n",
      "/tmp/ipykernel_3779053/2834357883.py:40: FutureWarning: The frame.append method is deprecated and will be removed from pandas in a future version. Use pandas.concat instead.\n",
      "  intron_coordinates = intron_coordinates.append(new_row, ignore_index=True)\n",
      "/tmp/ipykernel_3779053/2834357883.py:40: FutureWarning: The frame.append method is deprecated and will be removed from pandas in a future version. Use pandas.concat instead.\n",
      "  intron_coordinates = intron_coordinates.append(new_row, ignore_index=True)\n"
     ]
    },
    {
     "name": "stdout",
     "output_type": "stream",
     "text": [
      "adding 45062848 45063321\n",
      "adding 45063917 45069478\n",
      "adding 45070457 45076596\n",
      "adding 45076926 45078299\n"
     ]
    },
    {
     "name": "stderr",
     "output_type": "stream",
     "text": [
      "/tmp/ipykernel_3779053/2834357883.py:40: FutureWarning: The frame.append method is deprecated and will be removed from pandas in a future version. Use pandas.concat instead.\n",
      "  intron_coordinates = intron_coordinates.append(new_row, ignore_index=True)\n",
      "/tmp/ipykernel_3779053/2834357883.py:40: FutureWarning: The frame.append method is deprecated and will be removed from pandas in a future version. Use pandas.concat instead.\n",
      "  intron_coordinates = intron_coordinates.append(new_row, ignore_index=True)\n",
      "/tmp/ipykernel_3779053/2834357883.py:40: FutureWarning: The frame.append method is deprecated and will be removed from pandas in a future version. Use pandas.concat instead.\n",
      "  intron_coordinates = intron_coordinates.append(new_row, ignore_index=True)\n",
      "/tmp/ipykernel_3779053/2834357883.py:40: FutureWarning: The frame.append method is deprecated and will be removed from pandas in a future version. Use pandas.concat instead.\n",
      "  intron_coordinates = intron_coordinates.append(new_row, ignore_index=True)\n"
     ]
    },
    {
     "name": "stdout",
     "output_type": "stream",
     "text": [
      "adding 45078605 45079045\n",
      "adding 45079451 45082475\n",
      "adding 45082889 45083359\n",
      "adding 45083708 45085764\n"
     ]
    },
    {
     "name": "stderr",
     "output_type": "stream",
     "text": [
      "/tmp/ipykernel_3779053/2834357883.py:40: FutureWarning: The frame.append method is deprecated and will be removed from pandas in a future version. Use pandas.concat instead.\n",
      "  intron_coordinates = intron_coordinates.append(new_row, ignore_index=True)\n",
      "/tmp/ipykernel_3779053/2834357883.py:40: FutureWarning: The frame.append method is deprecated and will be removed from pandas in a future version. Use pandas.concat instead.\n",
      "  intron_coordinates = intron_coordinates.append(new_row, ignore_index=True)\n",
      "/tmp/ipykernel_3779053/2834357883.py:40: FutureWarning: The frame.append method is deprecated and will be removed from pandas in a future version. Use pandas.concat instead.\n",
      "  intron_coordinates = intron_coordinates.append(new_row, ignore_index=True)\n",
      "/tmp/ipykernel_3779053/2834357883.py:40: FutureWarning: The frame.append method is deprecated and will be removed from pandas in a future version. Use pandas.concat instead.\n",
      "  intron_coordinates = intron_coordinates.append(new_row, ignore_index=True)\n"
     ]
    },
    {
     "name": "stdout",
     "output_type": "stream",
     "text": [
      "adding 45086079 45089642\n",
      "adding 45090030 45090622\n",
      "HERE 45090964 45107309\n",
      "adding 45107636 45109978\n"
     ]
    },
    {
     "name": "stderr",
     "output_type": "stream",
     "text": [
      "/tmp/ipykernel_3779053/2834357883.py:40: FutureWarning: The frame.append method is deprecated and will be removed from pandas in a future version. Use pandas.concat instead.\n",
      "  intron_coordinates = intron_coordinates.append(new_row, ignore_index=True)\n",
      "/tmp/ipykernel_3779053/2834357883.py:40: FutureWarning: The frame.append method is deprecated and will be removed from pandas in a future version. Use pandas.concat instead.\n",
      "  intron_coordinates = intron_coordinates.append(new_row, ignore_index=True)\n",
      "/tmp/ipykernel_3779053/2834357883.py:40: FutureWarning: The frame.append method is deprecated and will be removed from pandas in a future version. Use pandas.concat instead.\n",
      "  intron_coordinates = intron_coordinates.append(new_row, ignore_index=True)\n"
     ]
    },
    {
     "name": "stdout",
     "output_type": "stream",
     "text": [
      "adding 45110349 45111281\n",
      "adding 45090964 45106441\n",
      "adding 45106749 45107309\n",
      "adding 45107636 45109978\n"
     ]
    },
    {
     "name": "stderr",
     "output_type": "stream",
     "text": [
      "/tmp/ipykernel_3779053/2834357883.py:40: FutureWarning: The frame.append method is deprecated and will be removed from pandas in a future version. Use pandas.concat instead.\n",
      "  intron_coordinates = intron_coordinates.append(new_row, ignore_index=True)\n",
      "/tmp/ipykernel_3779053/2834357883.py:40: FutureWarning: The frame.append method is deprecated and will be removed from pandas in a future version. Use pandas.concat instead.\n",
      "  intron_coordinates = intron_coordinates.append(new_row, ignore_index=True)\n",
      "/tmp/ipykernel_3779053/2834357883.py:40: FutureWarning: The frame.append method is deprecated and will be removed from pandas in a future version. Use pandas.concat instead.\n",
      "  intron_coordinates = intron_coordinates.append(new_row, ignore_index=True)\n",
      "/tmp/ipykernel_3779053/2834357883.py:40: FutureWarning: The frame.append method is deprecated and will be removed from pandas in a future version. Use pandas.concat instead.\n",
      "  intron_coordinates = intron_coordinates.append(new_row, ignore_index=True)\n"
     ]
    },
    {
     "name": "stdout",
     "output_type": "stream",
     "text": [
      "adding 45110349 45111281\n",
      "adding 45060256 45060508\n",
      "adding 45060864 45061223\n",
      "adding 45061519 45062546\n"
     ]
    },
    {
     "name": "stderr",
     "output_type": "stream",
     "text": [
      "/tmp/ipykernel_3779053/2834357883.py:40: FutureWarning: The frame.append method is deprecated and will be removed from pandas in a future version. Use pandas.concat instead.\n",
      "  intron_coordinates = intron_coordinates.append(new_row, ignore_index=True)\n",
      "/tmp/ipykernel_3779053/2834357883.py:40: FutureWarning: The frame.append method is deprecated and will be removed from pandas in a future version. Use pandas.concat instead.\n",
      "  intron_coordinates = intron_coordinates.append(new_row, ignore_index=True)\n",
      "/tmp/ipykernel_3779053/2834357883.py:40: FutureWarning: The frame.append method is deprecated and will be removed from pandas in a future version. Use pandas.concat instead.\n",
      "  intron_coordinates = intron_coordinates.append(new_row, ignore_index=True)\n",
      "/tmp/ipykernel_3779053/2834357883.py:40: FutureWarning: The frame.append method is deprecated and will be removed from pandas in a future version. Use pandas.concat instead.\n",
      "  intron_coordinates = intron_coordinates.append(new_row, ignore_index=True)\n"
     ]
    },
    {
     "name": "stdout",
     "output_type": "stream",
     "text": [
      "adding 45062848 45063321\n",
      "adding 45063917 45069478\n",
      "adding 45070457 45076596\n",
      "adding 45076926 45078299\n"
     ]
    },
    {
     "name": "stderr",
     "output_type": "stream",
     "text": [
      "/tmp/ipykernel_3779053/2834357883.py:40: FutureWarning: The frame.append method is deprecated and will be removed from pandas in a future version. Use pandas.concat instead.\n",
      "  intron_coordinates = intron_coordinates.append(new_row, ignore_index=True)\n",
      "/tmp/ipykernel_3779053/2834357883.py:40: FutureWarning: The frame.append method is deprecated and will be removed from pandas in a future version. Use pandas.concat instead.\n",
      "  intron_coordinates = intron_coordinates.append(new_row, ignore_index=True)\n",
      "/tmp/ipykernel_3779053/2834357883.py:40: FutureWarning: The frame.append method is deprecated and will be removed from pandas in a future version. Use pandas.concat instead.\n",
      "  intron_coordinates = intron_coordinates.append(new_row, ignore_index=True)\n",
      "/tmp/ipykernel_3779053/2834357883.py:40: FutureWarning: The frame.append method is deprecated and will be removed from pandas in a future version. Use pandas.concat instead.\n",
      "  intron_coordinates = intron_coordinates.append(new_row, ignore_index=True)\n"
     ]
    },
    {
     "name": "stdout",
     "output_type": "stream",
     "text": [
      "adding 45078605 45079045\n",
      "adding 45079451 45082475\n",
      "adding 45082889 45083359\n",
      "adding 45083708 45085764\n"
     ]
    },
    {
     "name": "stderr",
     "output_type": "stream",
     "text": [
      "/tmp/ipykernel_3779053/2834357883.py:40: FutureWarning: The frame.append method is deprecated and will be removed from pandas in a future version. Use pandas.concat instead.\n",
      "  intron_coordinates = intron_coordinates.append(new_row, ignore_index=True)\n",
      "/tmp/ipykernel_3779053/2834357883.py:40: FutureWarning: The frame.append method is deprecated and will be removed from pandas in a future version. Use pandas.concat instead.\n",
      "  intron_coordinates = intron_coordinates.append(new_row, ignore_index=True)\n",
      "/tmp/ipykernel_3779053/2834357883.py:40: FutureWarning: The frame.append method is deprecated and will be removed from pandas in a future version. Use pandas.concat instead.\n",
      "  intron_coordinates = intron_coordinates.append(new_row, ignore_index=True)\n",
      "/tmp/ipykernel_3779053/2834357883.py:40: FutureWarning: The frame.append method is deprecated and will be removed from pandas in a future version. Use pandas.concat instead.\n",
      "  intron_coordinates = intron_coordinates.append(new_row, ignore_index=True)\n"
     ]
    },
    {
     "name": "stdout",
     "output_type": "stream",
     "text": [
      "adding 45086079 45089642\n",
      "adding 45090030 45090622\n",
      "HERE 45090964 45107309\n",
      "adding 45107636 45109978\n"
     ]
    },
    {
     "name": "stderr",
     "output_type": "stream",
     "text": [
      "/tmp/ipykernel_3779053/2834357883.py:40: FutureWarning: The frame.append method is deprecated and will be removed from pandas in a future version. Use pandas.concat instead.\n",
      "  intron_coordinates = intron_coordinates.append(new_row, ignore_index=True)\n",
      "/tmp/ipykernel_3779053/2834357883.py:40: FutureWarning: The frame.append method is deprecated and will be removed from pandas in a future version. Use pandas.concat instead.\n",
      "  intron_coordinates = intron_coordinates.append(new_row, ignore_index=True)\n",
      "/tmp/ipykernel_3779053/2834357883.py:40: FutureWarning: The frame.append method is deprecated and will be removed from pandas in a future version. Use pandas.concat instead.\n",
      "  intron_coordinates = intron_coordinates.append(new_row, ignore_index=True)\n"
     ]
    },
    {
     "name": "stdout",
     "output_type": "stream",
     "text": [
      "adding 45110349 45111281\n",
      "adding 45059566 45059921\n",
      "HERE 45060256 45061223\n",
      "HERE 45061519 45063321\n",
      "adding 44873812 44873823\n"
     ]
    },
    {
     "name": "stderr",
     "output_type": "stream",
     "text": [
      "/tmp/ipykernel_3779053/2834357883.py:40: FutureWarning: The frame.append method is deprecated and will be removed from pandas in a future version. Use pandas.concat instead.\n",
      "  intron_coordinates = intron_coordinates.append(new_row, ignore_index=True)\n",
      "/tmp/ipykernel_3779053/2834357883.py:40: FutureWarning: The frame.append method is deprecated and will be removed from pandas in a future version. Use pandas.concat instead.\n",
      "  intron_coordinates = intron_coordinates.append(new_row, ignore_index=True)\n",
      "/tmp/ipykernel_3779053/2834357883.py:40: FutureWarning: The frame.append method is deprecated and will be removed from pandas in a future version. Use pandas.concat instead.\n",
      "  intron_coordinates = intron_coordinates.append(new_row, ignore_index=True)\n"
     ]
    },
    {
     "name": "stdout",
     "output_type": "stream",
     "text": [
      "adding 44874087 44961183\n",
      "adding 44961492 44974565\n",
      "adding 44974815 45010860\n",
      "adding 45011119 45020509\n"
     ]
    },
    {
     "name": "stderr",
     "output_type": "stream",
     "text": [
      "/tmp/ipykernel_3779053/2834357883.py:40: FutureWarning: The frame.append method is deprecated and will be removed from pandas in a future version. Use pandas.concat instead.\n",
      "  intron_coordinates = intron_coordinates.append(new_row, ignore_index=True)\n",
      "/tmp/ipykernel_3779053/2834357883.py:40: FutureWarning: The frame.append method is deprecated and will be removed from pandas in a future version. Use pandas.concat instead.\n",
      "  intron_coordinates = intron_coordinates.append(new_row, ignore_index=True)\n",
      "/tmp/ipykernel_3779053/2834357883.py:40: FutureWarning: The frame.append method is deprecated and will be removed from pandas in a future version. Use pandas.concat instead.\n",
      "  intron_coordinates = intron_coordinates.append(new_row, ignore_index=True)\n",
      "/tmp/ipykernel_3779053/2834357883.py:40: FutureWarning: The frame.append method is deprecated and will be removed from pandas in a future version. Use pandas.concat instead.\n",
      "  intron_coordinates = intron_coordinates.append(new_row, ignore_index=True)\n"
     ]
    },
    {
     "name": "stdout",
     "output_type": "stream",
     "text": [
      "adding 45020830 45034830\n",
      "adding 45035085 45037554\n",
      "adding 45037789 45051608\n",
      "adding 45051902 45053728\n"
     ]
    },
    {
     "name": "stderr",
     "output_type": "stream",
     "text": [
      "/tmp/ipykernel_3779053/2834357883.py:40: FutureWarning: The frame.append method is deprecated and will be removed from pandas in a future version. Use pandas.concat instead.\n",
      "  intron_coordinates = intron_coordinates.append(new_row, ignore_index=True)\n",
      "/tmp/ipykernel_3779053/2834357883.py:40: FutureWarning: The frame.append method is deprecated and will be removed from pandas in a future version. Use pandas.concat instead.\n",
      "  intron_coordinates = intron_coordinates.append(new_row, ignore_index=True)\n",
      "/tmp/ipykernel_3779053/2834357883.py:40: FutureWarning: The frame.append method is deprecated and will be removed from pandas in a future version. Use pandas.concat instead.\n",
      "  intron_coordinates = intron_coordinates.append(new_row, ignore_index=True)\n",
      "/tmp/ipykernel_3779053/2834357883.py:40: FutureWarning: The frame.append method is deprecated and will be removed from pandas in a future version. Use pandas.concat instead.\n",
      "  intron_coordinates = intron_coordinates.append(new_row, ignore_index=True)\n"
     ]
    },
    {
     "name": "stdout",
     "output_type": "stream",
     "text": [
      "adding 45054055 45058905\n",
      "HERE 45059566 45061223\n",
      "adding 45061519 45062546\n",
      "adding 45062848 45063321\n",
      "adding 45063917 45069478\n"
     ]
    },
    {
     "name": "stderr",
     "output_type": "stream",
     "text": [
      "/tmp/ipykernel_3779053/2834357883.py:40: FutureWarning: The frame.append method is deprecated and will be removed from pandas in a future version. Use pandas.concat instead.\n",
      "  intron_coordinates = intron_coordinates.append(new_row, ignore_index=True)\n",
      "/tmp/ipykernel_3779053/2834357883.py:40: FutureWarning: The frame.append method is deprecated and will be removed from pandas in a future version. Use pandas.concat instead.\n",
      "  intron_coordinates = intron_coordinates.append(new_row, ignore_index=True)\n",
      "/tmp/ipykernel_3779053/2834357883.py:40: FutureWarning: The frame.append method is deprecated and will be removed from pandas in a future version. Use pandas.concat instead.\n",
      "  intron_coordinates = intron_coordinates.append(new_row, ignore_index=True)\n",
      "/tmp/ipykernel_3779053/2834357883.py:40: FutureWarning: The frame.append method is deprecated and will be removed from pandas in a future version. Use pandas.concat instead.\n",
      "  intron_coordinates = intron_coordinates.append(new_row, ignore_index=True)\n"
     ]
    },
    {
     "name": "stdout",
     "output_type": "stream",
     "text": [
      "adding 45070457 45076596\n",
      "adding 45076926 45078299\n",
      "adding 45078605 45079045\n",
      "adding 45079451 45082475\n"
     ]
    },
    {
     "name": "stderr",
     "output_type": "stream",
     "text": [
      "/tmp/ipykernel_3779053/2834357883.py:40: FutureWarning: The frame.append method is deprecated and will be removed from pandas in a future version. Use pandas.concat instead.\n",
      "  intron_coordinates = intron_coordinates.append(new_row, ignore_index=True)\n",
      "/tmp/ipykernel_3779053/2834357883.py:40: FutureWarning: The frame.append method is deprecated and will be removed from pandas in a future version. Use pandas.concat instead.\n",
      "  intron_coordinates = intron_coordinates.append(new_row, ignore_index=True)\n",
      "/tmp/ipykernel_3779053/2834357883.py:40: FutureWarning: The frame.append method is deprecated and will be removed from pandas in a future version. Use pandas.concat instead.\n",
      "  intron_coordinates = intron_coordinates.append(new_row, ignore_index=True)\n",
      "/tmp/ipykernel_3779053/2834357883.py:40: FutureWarning: The frame.append method is deprecated and will be removed from pandas in a future version. Use pandas.concat instead.\n",
      "  intron_coordinates = intron_coordinates.append(new_row, ignore_index=True)\n"
     ]
    },
    {
     "name": "stdout",
     "output_type": "stream",
     "text": [
      "adding 45082889 45083359\n",
      "adding 45083708 45085764\n",
      "adding 45086079 45089642\n",
      "adding 45090030 45090622\n"
     ]
    },
    {
     "name": "stderr",
     "output_type": "stream",
     "text": [
      "/tmp/ipykernel_3779053/2834357883.py:40: FutureWarning: The frame.append method is deprecated and will be removed from pandas in a future version. Use pandas.concat instead.\n",
      "  intron_coordinates = intron_coordinates.append(new_row, ignore_index=True)\n",
      "/tmp/ipykernel_3779053/2834357883.py:40: FutureWarning: The frame.append method is deprecated and will be removed from pandas in a future version. Use pandas.concat instead.\n",
      "  intron_coordinates = intron_coordinates.append(new_row, ignore_index=True)\n",
      "/tmp/ipykernel_3779053/2834357883.py:40: FutureWarning: The frame.append method is deprecated and will be removed from pandas in a future version. Use pandas.concat instead.\n",
      "  intron_coordinates = intron_coordinates.append(new_row, ignore_index=True)\n"
     ]
    },
    {
     "name": "stdout",
     "output_type": "stream",
     "text": [
      "HERE 45090964 45107309\n",
      "adding 45107636 45109978\n",
      "adding 45110349 45111281\n",
      "adding 44873812 44873823\n",
      "adding 44874087 44961183\n"
     ]
    },
    {
     "name": "stderr",
     "output_type": "stream",
     "text": [
      "/tmp/ipykernel_3779053/2834357883.py:40: FutureWarning: The frame.append method is deprecated and will be removed from pandas in a future version. Use pandas.concat instead.\n",
      "  intron_coordinates = intron_coordinates.append(new_row, ignore_index=True)\n",
      "/tmp/ipykernel_3779053/2834357883.py:40: FutureWarning: The frame.append method is deprecated and will be removed from pandas in a future version. Use pandas.concat instead.\n",
      "  intron_coordinates = intron_coordinates.append(new_row, ignore_index=True)\n",
      "/tmp/ipykernel_3779053/2834357883.py:40: FutureWarning: The frame.append method is deprecated and will be removed from pandas in a future version. Use pandas.concat instead.\n",
      "  intron_coordinates = intron_coordinates.append(new_row, ignore_index=True)\n",
      "/tmp/ipykernel_3779053/2834357883.py:40: FutureWarning: The frame.append method is deprecated and will be removed from pandas in a future version. Use pandas.concat instead.\n",
      "  intron_coordinates = intron_coordinates.append(new_row, ignore_index=True)\n"
     ]
    },
    {
     "name": "stdout",
     "output_type": "stream",
     "text": [
      "adding 44961492 44974565\n",
      "adding 44974815 45010860\n",
      "adding 45011119 45020509\n",
      "adding 45020830 45034830\n"
     ]
    },
    {
     "name": "stderr",
     "output_type": "stream",
     "text": [
      "/tmp/ipykernel_3779053/2834357883.py:40: FutureWarning: The frame.append method is deprecated and will be removed from pandas in a future version. Use pandas.concat instead.\n",
      "  intron_coordinates = intron_coordinates.append(new_row, ignore_index=True)\n",
      "/tmp/ipykernel_3779053/2834357883.py:40: FutureWarning: The frame.append method is deprecated and will be removed from pandas in a future version. Use pandas.concat instead.\n",
      "  intron_coordinates = intron_coordinates.append(new_row, ignore_index=True)\n",
      "/tmp/ipykernel_3779053/2834357883.py:40: FutureWarning: The frame.append method is deprecated and will be removed from pandas in a future version. Use pandas.concat instead.\n",
      "  intron_coordinates = intron_coordinates.append(new_row, ignore_index=True)\n",
      "/tmp/ipykernel_3779053/2834357883.py:40: FutureWarning: The frame.append method is deprecated and will be removed from pandas in a future version. Use pandas.concat instead.\n",
      "  intron_coordinates = intron_coordinates.append(new_row, ignore_index=True)\n"
     ]
    },
    {
     "name": "stdout",
     "output_type": "stream",
     "text": [
      "adding 45035085 45037554\n",
      "adding 45037789 45051608\n",
      "adding 45051902 45053728\n",
      "adding 45054055 45058905\n",
      "HERE 45059566 45060508\n"
     ]
    },
    {
     "name": "stderr",
     "output_type": "stream",
     "text": [
      "/tmp/ipykernel_3779053/2834357883.py:40: FutureWarning: The frame.append method is deprecated and will be removed from pandas in a future version. Use pandas.concat instead.\n",
      "  intron_coordinates = intron_coordinates.append(new_row, ignore_index=True)\n",
      "/tmp/ipykernel_3779053/2834357883.py:40: FutureWarning: The frame.append method is deprecated and will be removed from pandas in a future version. Use pandas.concat instead.\n",
      "  intron_coordinates = intron_coordinates.append(new_row, ignore_index=True)\n",
      "/tmp/ipykernel_3779053/2834357883.py:40: FutureWarning: The frame.append method is deprecated and will be removed from pandas in a future version. Use pandas.concat instead.\n",
      "  intron_coordinates = intron_coordinates.append(new_row, ignore_index=True)\n",
      "/tmp/ipykernel_3779053/2834357883.py:40: FutureWarning: The frame.append method is deprecated and will be removed from pandas in a future version. Use pandas.concat instead.\n",
      "  intron_coordinates = intron_coordinates.append(new_row, ignore_index=True)\n"
     ]
    },
    {
     "name": "stdout",
     "output_type": "stream",
     "text": [
      "adding 45060864 45061223\n",
      "HERE 45061519 45063321\n",
      "adding 45063917 45069478\n",
      "adding 45070457 45076596\n",
      "adding 45076926 45078299\n"
     ]
    },
    {
     "name": "stderr",
     "output_type": "stream",
     "text": [
      "/tmp/ipykernel_3779053/2834357883.py:40: FutureWarning: The frame.append method is deprecated and will be removed from pandas in a future version. Use pandas.concat instead.\n",
      "  intron_coordinates = intron_coordinates.append(new_row, ignore_index=True)\n",
      "/tmp/ipykernel_3779053/2834357883.py:40: FutureWarning: The frame.append method is deprecated and will be removed from pandas in a future version. Use pandas.concat instead.\n",
      "  intron_coordinates = intron_coordinates.append(new_row, ignore_index=True)\n",
      "/tmp/ipykernel_3779053/2834357883.py:40: FutureWarning: The frame.append method is deprecated and will be removed from pandas in a future version. Use pandas.concat instead.\n",
      "  intron_coordinates = intron_coordinates.append(new_row, ignore_index=True)\n",
      "/tmp/ipykernel_3779053/2834357883.py:40: FutureWarning: The frame.append method is deprecated and will be removed from pandas in a future version. Use pandas.concat instead.\n",
      "  intron_coordinates = intron_coordinates.append(new_row, ignore_index=True)\n"
     ]
    },
    {
     "name": "stdout",
     "output_type": "stream",
     "text": [
      "adding 45078605 45079045\n",
      "adding 45079451 45082475\n",
      "adding 45082889 45083359\n",
      "adding 45083708 45085764\n"
     ]
    },
    {
     "name": "stderr",
     "output_type": "stream",
     "text": [
      "/tmp/ipykernel_3779053/2834357883.py:40: FutureWarning: The frame.append method is deprecated and will be removed from pandas in a future version. Use pandas.concat instead.\n",
      "  intron_coordinates = intron_coordinates.append(new_row, ignore_index=True)\n",
      "/tmp/ipykernel_3779053/2834357883.py:40: FutureWarning: The frame.append method is deprecated and will be removed from pandas in a future version. Use pandas.concat instead.\n",
      "  intron_coordinates = intron_coordinates.append(new_row, ignore_index=True)\n",
      "/tmp/ipykernel_3779053/2834357883.py:40: FutureWarning: The frame.append method is deprecated and will be removed from pandas in a future version. Use pandas.concat instead.\n",
      "  intron_coordinates = intron_coordinates.append(new_row, ignore_index=True)\n",
      "/tmp/ipykernel_3779053/2834357883.py:40: FutureWarning: The frame.append method is deprecated and will be removed from pandas in a future version. Use pandas.concat instead.\n",
      "  intron_coordinates = intron_coordinates.append(new_row, ignore_index=True)\n"
     ]
    },
    {
     "name": "stdout",
     "output_type": "stream",
     "text": [
      "adding 45086079 45089642\n",
      "adding 45090030 45090622\n",
      "HERE 45090932 45107309\n",
      "adding 44873812 44873823\n"
     ]
    },
    {
     "name": "stderr",
     "output_type": "stream",
     "text": [
      "/tmp/ipykernel_3779053/2834357883.py:40: FutureWarning: The frame.append method is deprecated and will be removed from pandas in a future version. Use pandas.concat instead.\n",
      "  intron_coordinates = intron_coordinates.append(new_row, ignore_index=True)\n",
      "/tmp/ipykernel_3779053/2834357883.py:40: FutureWarning: The frame.append method is deprecated and will be removed from pandas in a future version. Use pandas.concat instead.\n",
      "  intron_coordinates = intron_coordinates.append(new_row, ignore_index=True)\n",
      "/tmp/ipykernel_3779053/2834357883.py:40: FutureWarning: The frame.append method is deprecated and will be removed from pandas in a future version. Use pandas.concat instead.\n",
      "  intron_coordinates = intron_coordinates.append(new_row, ignore_index=True)\n"
     ]
    },
    {
     "name": "stdout",
     "output_type": "stream",
     "text": [
      "adding 44874087 44961183\n",
      "adding 44961492 44974565\n",
      "adding 44974815 45010860\n",
      "adding 45011119 45020509\n"
     ]
    },
    {
     "name": "stderr",
     "output_type": "stream",
     "text": [
      "/tmp/ipykernel_3779053/2834357883.py:40: FutureWarning: The frame.append method is deprecated and will be removed from pandas in a future version. Use pandas.concat instead.\n",
      "  intron_coordinates = intron_coordinates.append(new_row, ignore_index=True)\n",
      "/tmp/ipykernel_3779053/2834357883.py:40: FutureWarning: The frame.append method is deprecated and will be removed from pandas in a future version. Use pandas.concat instead.\n",
      "  intron_coordinates = intron_coordinates.append(new_row, ignore_index=True)\n",
      "/tmp/ipykernel_3779053/2834357883.py:40: FutureWarning: The frame.append method is deprecated and will be removed from pandas in a future version. Use pandas.concat instead.\n",
      "  intron_coordinates = intron_coordinates.append(new_row, ignore_index=True)\n",
      "/tmp/ipykernel_3779053/2834357883.py:40: FutureWarning: The frame.append method is deprecated and will be removed from pandas in a future version. Use pandas.concat instead.\n",
      "  intron_coordinates = intron_coordinates.append(new_row, ignore_index=True)\n"
     ]
    },
    {
     "name": "stdout",
     "output_type": "stream",
     "text": [
      "adding 45020830 45034830\n",
      "adding 45035085 45037554\n",
      "adding 45037789 45051608\n",
      "adding 45051902 45053728\n"
     ]
    },
    {
     "name": "stderr",
     "output_type": "stream",
     "text": [
      "/tmp/ipykernel_3779053/2834357883.py:40: FutureWarning: The frame.append method is deprecated and will be removed from pandas in a future version. Use pandas.concat instead.\n",
      "  intron_coordinates = intron_coordinates.append(new_row, ignore_index=True)\n",
      "/tmp/ipykernel_3779053/2834357883.py:40: FutureWarning: The frame.append method is deprecated and will be removed from pandas in a future version. Use pandas.concat instead.\n",
      "  intron_coordinates = intron_coordinates.append(new_row, ignore_index=True)\n",
      "/tmp/ipykernel_3779053/2834357883.py:40: FutureWarning: The frame.append method is deprecated and will be removed from pandas in a future version. Use pandas.concat instead.\n",
      "  intron_coordinates = intron_coordinates.append(new_row, ignore_index=True)\n",
      "/tmp/ipykernel_3779053/2834357883.py:40: FutureWarning: The frame.append method is deprecated and will be removed from pandas in a future version. Use pandas.concat instead.\n",
      "  intron_coordinates = intron_coordinates.append(new_row, ignore_index=True)\n"
     ]
    },
    {
     "name": "stdout",
     "output_type": "stream",
     "text": [
      "adding 45054055 45058905\n",
      "adding 45059566 45059921\n",
      "adding 45060256 45060508\n",
      "adding 45060864 45061223\n"
     ]
    },
    {
     "name": "stderr",
     "output_type": "stream",
     "text": [
      "/tmp/ipykernel_3779053/2834357883.py:40: FutureWarning: The frame.append method is deprecated and will be removed from pandas in a future version. Use pandas.concat instead.\n",
      "  intron_coordinates = intron_coordinates.append(new_row, ignore_index=True)\n",
      "/tmp/ipykernel_3779053/2834357883.py:40: FutureWarning: The frame.append method is deprecated and will be removed from pandas in a future version. Use pandas.concat instead.\n",
      "  intron_coordinates = intron_coordinates.append(new_row, ignore_index=True)\n",
      "/tmp/ipykernel_3779053/2834357883.py:40: FutureWarning: The frame.append method is deprecated and will be removed from pandas in a future version. Use pandas.concat instead.\n",
      "  intron_coordinates = intron_coordinates.append(new_row, ignore_index=True)\n",
      "/tmp/ipykernel_3779053/2834357883.py:40: FutureWarning: The frame.append method is deprecated and will be removed from pandas in a future version. Use pandas.concat instead.\n",
      "  intron_coordinates = intron_coordinates.append(new_row, ignore_index=True)\n"
     ]
    },
    {
     "name": "stdout",
     "output_type": "stream",
     "text": [
      "adding 45061519 45062546\n",
      "adding 45062848 45063321\n",
      "adding 45063917 45069478\n",
      "adding 45070457 45076596\n"
     ]
    },
    {
     "name": "stderr",
     "output_type": "stream",
     "text": [
      "/tmp/ipykernel_3779053/2834357883.py:40: FutureWarning: The frame.append method is deprecated and will be removed from pandas in a future version. Use pandas.concat instead.\n",
      "  intron_coordinates = intron_coordinates.append(new_row, ignore_index=True)\n",
      "/tmp/ipykernel_3779053/2834357883.py:40: FutureWarning: The frame.append method is deprecated and will be removed from pandas in a future version. Use pandas.concat instead.\n",
      "  intron_coordinates = intron_coordinates.append(new_row, ignore_index=True)\n",
      "/tmp/ipykernel_3779053/2834357883.py:40: FutureWarning: The frame.append method is deprecated and will be removed from pandas in a future version. Use pandas.concat instead.\n",
      "  intron_coordinates = intron_coordinates.append(new_row, ignore_index=True)\n",
      "/tmp/ipykernel_3779053/2834357883.py:40: FutureWarning: The frame.append method is deprecated and will be removed from pandas in a future version. Use pandas.concat instead.\n",
      "  intron_coordinates = intron_coordinates.append(new_row, ignore_index=True)\n"
     ]
    },
    {
     "name": "stdout",
     "output_type": "stream",
     "text": [
      "adding 45076926 45078299\n",
      "adding 45078605 45079045\n",
      "adding 45079451 45082475\n",
      "adding 45082889 45083359\n"
     ]
    },
    {
     "name": "stderr",
     "output_type": "stream",
     "text": [
      "/tmp/ipykernel_3779053/2834357883.py:40: FutureWarning: The frame.append method is deprecated and will be removed from pandas in a future version. Use pandas.concat instead.\n",
      "  intron_coordinates = intron_coordinates.append(new_row, ignore_index=True)\n",
      "/tmp/ipykernel_3779053/2834357883.py:40: FutureWarning: The frame.append method is deprecated and will be removed from pandas in a future version. Use pandas.concat instead.\n",
      "  intron_coordinates = intron_coordinates.append(new_row, ignore_index=True)\n",
      "/tmp/ipykernel_3779053/2834357883.py:40: FutureWarning: The frame.append method is deprecated and will be removed from pandas in a future version. Use pandas.concat instead.\n",
      "  intron_coordinates = intron_coordinates.append(new_row, ignore_index=True)\n",
      "/tmp/ipykernel_3779053/2834357883.py:40: FutureWarning: The frame.append method is deprecated and will be removed from pandas in a future version. Use pandas.concat instead.\n",
      "  intron_coordinates = intron_coordinates.append(new_row, ignore_index=True)\n"
     ]
    },
    {
     "name": "stdout",
     "output_type": "stream",
     "text": [
      "adding 45083708 45085764\n",
      "adding 45086079 45089642\n",
      "adding 45090030 45090622\n",
      "HERE 45090964 45107309\n"
     ]
    },
    {
     "name": "stderr",
     "output_type": "stream",
     "text": [
      "/tmp/ipykernel_3779053/2834357883.py:40: FutureWarning: The frame.append method is deprecated and will be removed from pandas in a future version. Use pandas.concat instead.\n",
      "  intron_coordinates = intron_coordinates.append(new_row, ignore_index=True)\n",
      "/tmp/ipykernel_3779053/2834357883.py:40: FutureWarning: The frame.append method is deprecated and will be removed from pandas in a future version. Use pandas.concat instead.\n",
      "  intron_coordinates = intron_coordinates.append(new_row, ignore_index=True)\n",
      "/tmp/ipykernel_3779053/2834357883.py:40: FutureWarning: The frame.append method is deprecated and will be removed from pandas in a future version. Use pandas.concat instead.\n",
      "  intron_coordinates = intron_coordinates.append(new_row, ignore_index=True)\n"
     ]
    },
    {
     "name": "stdout",
     "output_type": "stream",
     "text": [
      "adding 45107636 45109978\n",
      "adding 45110349 45111281\n",
      "adding 44873812 44873823\n",
      "adding 44874087 44961183\n"
     ]
    },
    {
     "name": "stderr",
     "output_type": "stream",
     "text": [
      "/tmp/ipykernel_3779053/2834357883.py:40: FutureWarning: The frame.append method is deprecated and will be removed from pandas in a future version. Use pandas.concat instead.\n",
      "  intron_coordinates = intron_coordinates.append(new_row, ignore_index=True)\n",
      "/tmp/ipykernel_3779053/2834357883.py:40: FutureWarning: The frame.append method is deprecated and will be removed from pandas in a future version. Use pandas.concat instead.\n",
      "  intron_coordinates = intron_coordinates.append(new_row, ignore_index=True)\n",
      "/tmp/ipykernel_3779053/2834357883.py:40: FutureWarning: The frame.append method is deprecated and will be removed from pandas in a future version. Use pandas.concat instead.\n",
      "  intron_coordinates = intron_coordinates.append(new_row, ignore_index=True)\n",
      "/tmp/ipykernel_3779053/2834357883.py:40: FutureWarning: The frame.append method is deprecated and will be removed from pandas in a future version. Use pandas.concat instead.\n",
      "  intron_coordinates = intron_coordinates.append(new_row, ignore_index=True)\n"
     ]
    },
    {
     "name": "stdout",
     "output_type": "stream",
     "text": [
      "adding 44961492 44974565\n",
      "adding 44974815 45010860\n",
      "adding 45011119 45020509\n",
      "adding 45020830 45034830\n"
     ]
    },
    {
     "name": "stderr",
     "output_type": "stream",
     "text": [
      "/tmp/ipykernel_3779053/2834357883.py:40: FutureWarning: The frame.append method is deprecated and will be removed from pandas in a future version. Use pandas.concat instead.\n",
      "  intron_coordinates = intron_coordinates.append(new_row, ignore_index=True)\n",
      "/tmp/ipykernel_3779053/2834357883.py:40: FutureWarning: The frame.append method is deprecated and will be removed from pandas in a future version. Use pandas.concat instead.\n",
      "  intron_coordinates = intron_coordinates.append(new_row, ignore_index=True)\n",
      "/tmp/ipykernel_3779053/2834357883.py:40: FutureWarning: The frame.append method is deprecated and will be removed from pandas in a future version. Use pandas.concat instead.\n",
      "  intron_coordinates = intron_coordinates.append(new_row, ignore_index=True)\n",
      "/tmp/ipykernel_3779053/2834357883.py:40: FutureWarning: The frame.append method is deprecated and will be removed from pandas in a future version. Use pandas.concat instead.\n",
      "  intron_coordinates = intron_coordinates.append(new_row, ignore_index=True)\n"
     ]
    },
    {
     "name": "stdout",
     "output_type": "stream",
     "text": [
      "adding 45035085 45037554\n",
      "HERE 45037789 45053728\n",
      "        Chromosome          Source Feature    Start      End Score Strand  \\\n",
      "2896502       chrY          havana     CDS  2953936  2953997     .      +   \n",
      "2896505       chrY          havana     CDS  2961073  2961646     .      +   \n",
      "2896507       chrY          havana     CDS  2975094  2975244     .      +   \n",
      "2896509       chrY          havana     CDS  2975510  2975654     .      +   \n",
      "2896511       chrY          havana     CDS  2976669  2976822     .      +   \n",
      "2896513       chrY          havana     CDS  2977939  2978080     .      +   \n",
      "2896515       chrY          havana     CDS  2978809  2979990     .      +   \n",
      "2896523       chrY  ensembl_havana     CDS  2953936  2953997     .      +   \n",
      "2896526       chrY  ensembl_havana     CDS  2961073  2961646     .      +   \n",
      "2896528       chrY  ensembl_havana     CDS  2975094  2975244     .      +   \n",
      "2896530       chrY  ensembl_havana     CDS  2975510  2975654     .      +   \n",
      "2896532       chrY  ensembl_havana     CDS  2976669  2976822     .      +   \n",
      "2896534       chrY  ensembl_havana     CDS  2977939  2978080     .      +   \n",
      "2896536       chrY  ensembl_havana     CDS  2978809  2979990     .      +   \n",
      "2896544       chrY  ensembl_havana     CDS  2953936  2953997     .      +   \n",
      "2896547       chrY  ensembl_havana     CDS  2975094  2975244     .      +   \n",
      "2896549       chrY  ensembl_havana     CDS  2975510  2975654     .      +   \n",
      "2896551       chrY  ensembl_havana     CDS  2976669  2976822     .      +   \n",
      "2896553       chrY  ensembl_havana     CDS  2977939  2978080     .      +   \n",
      "2896555       chrY  ensembl_havana     CDS  2978809  2979990     .      +   \n",
      "2896568       chrY          havana     CDS  2953936  2953997     .      +   \n",
      "2896571       chrY          havana     CDS  2961073  2961286     .      +   \n",
      "2896577       chrY  ensembl_havana     CDS  2961090  2961646     .      +   \n",
      "2896580       chrY  ensembl_havana     CDS  2975094  2975244     .      +   \n",
      "2896582       chrY  ensembl_havana     CDS  2975510  2975654     .      +   \n",
      "2896584       chrY  ensembl_havana     CDS  2977939  2978080     .      +   \n",
      "2896586       chrY  ensembl_havana     CDS  2978809  2979990     .      +   \n",
      "\n",
      "        Frame          gene_id gene_version  ...          tag  \\\n",
      "2896502     0  ENSG00000067646           12  ...        basic   \n",
      "2896505     2  ENSG00000067646           12  ...        basic   \n",
      "2896507     2  ENSG00000067646           12  ...        basic   \n",
      "2896509     2  ENSG00000067646           12  ...        basic   \n",
      "2896511     2  ENSG00000067646           12  ...        basic   \n",
      "2896513     2  ENSG00000067646           12  ...        basic   \n",
      "2896515     2  ENSG00000067646           12  ...        basic   \n",
      "2896523     0  ENSG00000067646           12  ...        basic   \n",
      "2896526     2  ENSG00000067646           12  ...        basic   \n",
      "2896528     2  ENSG00000067646           12  ...        basic   \n",
      "2896530     2  ENSG00000067646           12  ...        basic   \n",
      "2896532     2  ENSG00000067646           12  ...        basic   \n",
      "2896534     2  ENSG00000067646           12  ...        basic   \n",
      "2896536     2  ENSG00000067646           12  ...        basic   \n",
      "2896544     0  ENSG00000067646           12  ...        basic   \n",
      "2896547     2  ENSG00000067646           12  ...        basic   \n",
      "2896549     2  ENSG00000067646           12  ...        basic   \n",
      "2896551     2  ENSG00000067646           12  ...        basic   \n",
      "2896553     2  ENSG00000067646           12  ...        basic   \n",
      "2896555     2  ENSG00000067646           12  ...        basic   \n",
      "2896568     0  ENSG00000067646           12  ...  mRNA_end_NF   \n",
      "2896571     2  ENSG00000067646           12  ...  mRNA_end_NF   \n",
      "2896577     0  ENSG00000067646           12  ...        basic   \n",
      "2896580     2  ENSG00000067646           12  ...        basic   \n",
      "2896582     2  ENSG00000067646           12  ...        basic   \n",
      "2896584     2  ENSG00000067646           12  ...        basic   \n",
      "2896586     2  ENSG00000067646           12  ...        basic   \n",
      "\n",
      "        transcript_support_level exon_number exon_id exon_version (assigned  \\\n",
      "2896502                        5           2     NaN          NaN       NaN   \n",
      "2896505                        5           3     NaN          NaN       NaN   \n",
      "2896507                        5           4     NaN          NaN       NaN   \n",
      "2896509                        5           5     NaN          NaN       NaN   \n",
      "2896511                        5           6     NaN          NaN       NaN   \n",
      "2896513                        5           7     NaN          NaN       NaN   \n",
      "2896515                        5           8     NaN          NaN       NaN   \n",
      "2896523                        1           2     NaN          NaN        to   \n",
      "2896526                        1           3     NaN          NaN        to   \n",
      "2896528                        1           4     NaN          NaN        to   \n",
      "2896530                        1           5     NaN          NaN        to   \n",
      "2896532                        1           6     NaN          NaN        to   \n",
      "2896534                        1           7     NaN          NaN        to   \n",
      "2896536                        1           8     NaN          NaN        to   \n",
      "2896544                        2           2     NaN          NaN       NaN   \n",
      "2896547                        2           3     NaN          NaN       NaN   \n",
      "2896549                        2           4     NaN          NaN       NaN   \n",
      "2896551                        2           5     NaN          NaN       NaN   \n",
      "2896553                        2           6     NaN          NaN       NaN   \n",
      "2896555                        2           7     NaN          NaN       NaN   \n",
      "2896568                        3           2     NaN          NaN       NaN   \n",
      "2896571                        3           3     NaN          NaN       NaN   \n",
      "2896577                        1           2     NaN          NaN       NaN   \n",
      "2896580                        1           3     NaN          NaN       NaN   \n",
      "2896582                        1           4     NaN          NaN       NaN   \n",
      "2896584                        1           5     NaN          NaN       NaN   \n",
      "2896586                        1           6     NaN          NaN       NaN   \n",
      "\n",
      "        previous       protein_id protein_version    ccds_id  \n",
      "2896502      NaN  ENSP00000372525               1  CCDS14774  \n",
      "2896505      NaN  ENSP00000372525               1  CCDS14774  \n",
      "2896507      NaN  ENSP00000372525               1  CCDS14774  \n",
      "2896509      NaN  ENSP00000372525               1  CCDS14774  \n",
      "2896511      NaN  ENSP00000372525               1  CCDS14774  \n",
      "2896513      NaN  ENSP00000372525               1  CCDS14774  \n",
      "2896515      NaN  ENSP00000372525               1  CCDS14774  \n",
      "2896523  version  ENSP00000155093               3  CCDS14774  \n",
      "2896526  version  ENSP00000155093               3  CCDS14774  \n",
      "2896528  version  ENSP00000155093               3  CCDS14774  \n",
      "2896530  version  ENSP00000155093               3  CCDS14774  \n",
      "2896532  version  ENSP00000155093               3  CCDS14774  \n",
      "2896534  version  ENSP00000155093               3  CCDS14774  \n",
      "2896536  version  ENSP00000155093               3  CCDS14774  \n",
      "2896544      NaN  ENSP00000485605               1  CCDS48200  \n",
      "2896547      NaN  ENSP00000485605               1  CCDS48200  \n",
      "2896549      NaN  ENSP00000485605               1  CCDS48200  \n",
      "2896551      NaN  ENSP00000485605               1  CCDS48200  \n",
      "2896553      NaN  ENSP00000485605               1  CCDS48200  \n",
      "2896555      NaN  ENSP00000485605               1  CCDS48200  \n",
      "2896568      NaN  ENSP00000388814               1        NaN  \n",
      "2896571      NaN  ENSP00000388814               1        NaN  \n",
      "2896577      NaN  ENSP00000393908               1  CCDS48201  \n",
      "2896580      NaN  ENSP00000393908               1  CCDS48201  \n",
      "2896582      NaN  ENSP00000393908               1  CCDS48201  \n",
      "2896584      NaN  ENSP00000393908               1  CCDS48201  \n",
      "2896586      NaN  ENSP00000393908               1  CCDS48201  \n",
      "\n",
      "[27 rows x 28 columns]\n",
      "<pandas.core.groupby.generic.DataFrameGroupBy object at 0x7f0105245520>\n",
      "adding 2954097 2960973\n",
      "adding 2961746 2974994\n",
      "adding 2975344 2975410\n",
      "adding 2975754 2976569\n",
      "adding 2976922 2977839\n",
      "adding 2978180 2978709\n",
      "adding 2954097 2960973\n",
      "adding 2961746 2974994\n",
      "adding 2975344 2975410\n",
      "adding 2975754 2976569\n",
      "adding 2976922 2977839\n",
      "adding 2978180 2978709\n"
     ]
    },
    {
     "name": "stderr",
     "output_type": "stream",
     "text": [
      "/tmp/ipykernel_3779053/2834357883.py:40: FutureWarning: The frame.append method is deprecated and will be removed from pandas in a future version. Use pandas.concat instead.\n",
      "  intron_coordinates = intron_coordinates.append(new_row, ignore_index=True)\n",
      "/tmp/ipykernel_3779053/2834357883.py:40: FutureWarning: The frame.append method is deprecated and will be removed from pandas in a future version. Use pandas.concat instead.\n",
      "  intron_coordinates = intron_coordinates.append(new_row, ignore_index=True)\n",
      "/tmp/ipykernel_3779053/2834357883.py:40: FutureWarning: The frame.append method is deprecated and will be removed from pandas in a future version. Use pandas.concat instead.\n",
      "  intron_coordinates = intron_coordinates.append(new_row, ignore_index=True)\n",
      "/tmp/ipykernel_3779053/2834357883.py:40: FutureWarning: The frame.append method is deprecated and will be removed from pandas in a future version. Use pandas.concat instead.\n",
      "  intron_coordinates = intron_coordinates.append(new_row, ignore_index=True)\n",
      "/tmp/ipykernel_3779053/2834357883.py:40: FutureWarning: The frame.append method is deprecated and will be removed from pandas in a future version. Use pandas.concat instead.\n",
      "  intron_coordinates = intron_coordinates.append(new_row, ignore_index=True)\n",
      "/tmp/ipykernel_3779053/2834357883.py:40: FutureWarning: The frame.append method is deprecated and will be removed from pandas in a future version. Use pandas.concat instead.\n",
      "  intron_coordinates = intron_coordinates.append(new_row, ignore_index=True)\n",
      "/tmp/ipykernel_3779053/2834357883.py:40: FutureWarning: The frame.append method is deprecated and will be removed from pandas in a future version. Use pandas.concat instead.\n",
      "  intron_coordinates = intron_coordinates.append(new_row, ignore_index=True)\n",
      "/tmp/ipykernel_3779053/2834357883.py:40: FutureWarning: The frame.append method is deprecated and will be removed from pandas in a future version. Use pandas.concat instead.\n",
      "  intron_coordinates = intron_coordinates.append(new_row, ignore_index=True)\n",
      "/tmp/ipykernel_3779053/2834357883.py:40: FutureWarning: The frame.append method is deprecated and will be removed from pandas in a future version. Use pandas.concat instead.\n",
      "  intron_coordinates = intron_coordinates.append(new_row, ignore_index=True)\n",
      "/tmp/ipykernel_3779053/2834357883.py:40: FutureWarning: The frame.append method is deprecated and will be removed from pandas in a future version. Use pandas.concat instead.\n",
      "  intron_coordinates = intron_coordinates.append(new_row, ignore_index=True)\n",
      "/tmp/ipykernel_3779053/2834357883.py:40: FutureWarning: The frame.append method is deprecated and will be removed from pandas in a future version. Use pandas.concat instead.\n",
      "  intron_coordinates = intron_coordinates.append(new_row, ignore_index=True)\n",
      "/tmp/ipykernel_3779053/2834357883.py:40: FutureWarning: The frame.append method is deprecated and will be removed from pandas in a future version. Use pandas.concat instead.\n",
      "  intron_coordinates = intron_coordinates.append(new_row, ignore_index=True)\n",
      "/tmp/ipykernel_3779053/2834357883.py:40: FutureWarning: The frame.append method is deprecated and will be removed from pandas in a future version. Use pandas.concat instead.\n",
      "  intron_coordinates = intron_coordinates.append(new_row, ignore_index=True)\n"
     ]
    },
    {
     "name": "stdout",
     "output_type": "stream",
     "text": [
      "adding 2954097 2960973\n",
      "adding 2961746 2974994\n",
      "adding 2975344 2975410\n",
      "HERE 2975754 2977839\n",
      "adding 2978180 2978709\n",
      "HERE 2954097 2974994\n",
      "adding 2975344 2975410\n",
      "adding 2975754 2976569\n",
      "adding 2976922 2977839\n",
      "adding 2978180 2978709\n",
      "        Chromosome          Source Feature     Start       End Score Strand  \\\n",
      "2810617       chrX          havana     CDS  24172742  24172800     .      +   \n",
      "2810620       chrX          havana     CDS  24179182  24179530     .      +   \n",
      "2810626       chrX         ensembl     CDS  24207366  24207475     .      +   \n",
      "2810629       chrX         ensembl     CDS  24207711  24207855     .      +   \n",
      "2810631       chrX         ensembl     CDS  24208217  24208370     .      +   \n",
      "2810633       chrX         ensembl     CDS  24208899  24209040     .      +   \n",
      "2810635       chrX         ensembl     CDS  24210192  24211373     .      +   \n",
      "2810643       chrX         ensembl     CDS  24172742  24172800     .      +   \n",
      "2810646       chrX         ensembl     CDS  24173606  24173723     .      +   \n",
      "2810648       chrX         ensembl     CDS  24179182  24179770     .      +   \n",
      "2810650       chrX         ensembl     CDS  24207325  24207475     .      +   \n",
      "2810652       chrX         ensembl     CDS  24207711  24207855     .      +   \n",
      "2810654       chrX         ensembl     CDS  24208217  24208370     .      +   \n",
      "2810656       chrX         ensembl     CDS  24208899  24209040     .      +   \n",
      "2810658       chrX         ensembl     CDS  24210192  24211373     .      +   \n",
      "2810667       chrX          havana     CDS  24172742  24172800     .      +   \n",
      "2810670       chrX          havana     CDS  24179182  24179219     .      +   \n",
      "2810680       chrX          havana     CDS  24172742  24172800     .      +   \n",
      "2810683       chrX          havana     CDS  24179182  24179770     .      +   \n",
      "2810685       chrX          havana     CDS  24207325  24207475     .      +   \n",
      "2810687       chrX          havana     CDS  24207711  24207855     .      +   \n",
      "2810689       chrX          havana     CDS  24208217  24208370     .      +   \n",
      "2810691       chrX          havana     CDS  24208899  24209040     .      +   \n",
      "2810693       chrX          havana     CDS  24210192  24211373     .      +   \n",
      "2810706       chrX  ensembl_havana     CDS  24172742  24172800     .      +   \n",
      "2810709       chrX  ensembl_havana     CDS  24179182  24179770     .      +   \n",
      "2810711       chrX  ensembl_havana     CDS  24207325  24207475     .      +   \n",
      "2810713       chrX  ensembl_havana     CDS  24207711  24207855     .      +   \n",
      "2810715       chrX  ensembl_havana     CDS  24208217  24208370     .      +   \n",
      "2810717       chrX  ensembl_havana     CDS  24208899  24209040     .      +   \n",
      "2810719       chrX  ensembl_havana     CDS  24210192  24211373     .      +   \n",
      "2810737       chrX          havana     CDS  24172742  24172800     .      +   \n",
      "2810740       chrX          havana     CDS  24179182  24179770     .      +   \n",
      "2810742       chrX          havana     CDS  24207711  24207855     .      +   \n",
      "2810744       chrX          havana     CDS  24208217  24208370     .      +   \n",
      "2810746       chrX          havana     CDS  24208899  24209040     .      +   \n",
      "2810748       chrX          havana     CDS  24210192  24211373     .      +   \n",
      "\n",
      "        Frame          gene_id gene_version  ...          tag  \\\n",
      "2810617     0  ENSG00000005889           15  ...  mRNA_end_NF   \n",
      "2810620     2  ENSG00000005889           15  ...  mRNA_end_NF   \n",
      "2810626     0  ENSG00000005889           15  ...        basic   \n",
      "2810629     2  ENSG00000005889           15  ...        basic   \n",
      "2810631     2  ENSG00000005889           15  ...        basic   \n",
      "2810633     2  ENSG00000005889           15  ...        basic   \n",
      "2810635     2  ENSG00000005889           15  ...        basic   \n",
      "2810643     0  ENSG00000005889           15  ...        basic   \n",
      "2810646     2  ENSG00000005889           15  ...        basic   \n",
      "2810648     2  ENSG00000005889           15  ...        basic   \n",
      "2810650     2  ENSG00000005889           15  ...        basic   \n",
      "2810652     2  ENSG00000005889           15  ...        basic   \n",
      "2810654     2  ENSG00000005889           15  ...        basic   \n",
      "2810656     2  ENSG00000005889           15  ...        basic   \n",
      "2810658     2  ENSG00000005889           15  ...        basic   \n",
      "2810667     0  ENSG00000005889           15  ...  mRNA_end_NF   \n",
      "2810670     2  ENSG00000005889           15  ...  mRNA_end_NF   \n",
      "2810680     0  ENSG00000005889           15  ...        basic   \n",
      "2810683     2  ENSG00000005889           15  ...        basic   \n",
      "2810685     2  ENSG00000005889           15  ...        basic   \n",
      "2810687     2  ENSG00000005889           15  ...        basic   \n",
      "2810689     2  ENSG00000005889           15  ...        basic   \n",
      "2810691     2  ENSG00000005889           15  ...        basic   \n",
      "2810693     2  ENSG00000005889           15  ...        basic   \n",
      "2810706     0  ENSG00000005889           15  ...        basic   \n",
      "2810709     2  ENSG00000005889           15  ...        basic   \n",
      "2810711     2  ENSG00000005889           15  ...        basic   \n",
      "2810713     2  ENSG00000005889           15  ...        basic   \n",
      "2810715     2  ENSG00000005889           15  ...        basic   \n",
      "2810717     2  ENSG00000005889           15  ...        basic   \n",
      "2810719     2  ENSG00000005889           15  ...        basic   \n",
      "2810737     0  ENSG00000005889           15  ...        basic   \n",
      "2810740     2  ENSG00000005889           15  ...        basic   \n",
      "2810742     2  ENSG00000005889           15  ...        basic   \n",
      "2810744     2  ENSG00000005889           15  ...        basic   \n",
      "2810746     2  ENSG00000005889           15  ...        basic   \n",
      "2810748     2  ENSG00000005889           15  ...        basic   \n",
      "\n",
      "        transcript_support_level exon_number exon_id exon_version (assigned  \\\n",
      "2810617                        2           2     NaN          NaN       NaN   \n",
      "2810620                        2           3     NaN          NaN       NaN   \n",
      "2810626                        1           2     NaN          NaN       NaN   \n",
      "2810629                        1           3     NaN          NaN       NaN   \n",
      "2810631                        1           4     NaN          NaN       NaN   \n",
      "2810633                        1           5     NaN          NaN       NaN   \n",
      "2810635                        1           6     NaN          NaN       NaN   \n",
      "2810643                        5           2     NaN          NaN       NaN   \n",
      "2810646                        5           3     NaN          NaN       NaN   \n",
      "2810648                        5           4     NaN          NaN       NaN   \n",
      "2810650                        5           5     NaN          NaN       NaN   \n",
      "2810652                        5           6     NaN          NaN       NaN   \n",
      "2810654                        5           7     NaN          NaN       NaN   \n",
      "2810656                        5           8     NaN          NaN       NaN   \n",
      "2810658                        5           9     NaN          NaN       NaN   \n",
      "2810667                        2           3     NaN          NaN       NaN   \n",
      "2810670                        2           4     NaN          NaN       NaN   \n",
      "2810680                        1           5     NaN          NaN       NaN   \n",
      "2810683                        1           6     NaN          NaN       NaN   \n",
      "2810685                        1           7     NaN          NaN       NaN   \n",
      "2810687                        1           8     NaN          NaN       NaN   \n",
      "2810689                        1           9     NaN          NaN       NaN   \n",
      "2810691                        1          10     NaN          NaN       NaN   \n",
      "2810693                        1          11     NaN          NaN       NaN   \n",
      "2810706                        5           4     NaN          NaN       NaN   \n",
      "2810709                        5           5     NaN          NaN       NaN   \n",
      "2810711                        5           6     NaN          NaN       NaN   \n",
      "2810713                        5           7     NaN          NaN       NaN   \n",
      "2810715                        5           8     NaN          NaN       NaN   \n",
      "2810717                        5           9     NaN          NaN       NaN   \n",
      "2810719                        5          10     NaN          NaN       NaN   \n",
      "2810737                        5           1     NaN          NaN       NaN   \n",
      "2810740                        5           2     NaN          NaN       NaN   \n",
      "2810742                        5           3     NaN          NaN       NaN   \n",
      "2810744                        5           4     NaN          NaN       NaN   \n",
      "2810746                        5           5     NaN          NaN       NaN   \n",
      "2810748                        5           6     NaN          NaN       NaN   \n",
      "\n",
      "        previous       protein_id protein_version    ccds_id  \n",
      "2810617      NaN  ENSP00000411637               1        NaN  \n",
      "2810620      NaN  ENSP00000411637               1        NaN  \n",
      "2810626      NaN  ENSP00000438233               1  CCDS55390  \n",
      "2810629      NaN  ENSP00000438233               1  CCDS55390  \n",
      "2810631      NaN  ENSP00000438233               1  CCDS55390  \n",
      "2810633      NaN  ENSP00000438233               1  CCDS55390  \n",
      "2810635      NaN  ENSP00000438233               1  CCDS55390  \n",
      "2810643      NaN  ENSP00000368486               4  CCDS83461  \n",
      "2810646      NaN  ENSP00000368486               4  CCDS83461  \n",
      "2810648      NaN  ENSP00000368486               4  CCDS83461  \n",
      "2810650      NaN  ENSP00000368486               4  CCDS83461  \n",
      "2810652      NaN  ENSP00000368486               4  CCDS83461  \n",
      "2810654      NaN  ENSP00000368486               4  CCDS83461  \n",
      "2810656      NaN  ENSP00000368486               4  CCDS83461  \n",
      "2810658      NaN  ENSP00000368486               4  CCDS83461  \n",
      "2810667      NaN  ENSP00000416298               1        NaN  \n",
      "2810670      NaN  ENSP00000416298               1        NaN  \n",
      "2810680      NaN  ENSP00000368475               1  CCDS14211  \n",
      "2810683      NaN  ENSP00000368475               1  CCDS14211  \n",
      "2810685      NaN  ENSP00000368475               1  CCDS14211  \n",
      "2810687      NaN  ENSP00000368475               1  CCDS14211  \n",
      "2810689      NaN  ENSP00000368475               1  CCDS14211  \n",
      "2810691      NaN  ENSP00000368475               1  CCDS14211  \n",
      "2810693      NaN  ENSP00000368475               1  CCDS14211  \n",
      "2810706      NaN  ENSP00000304985               5  CCDS14211  \n",
      "2810709      NaN  ENSP00000304985               5  CCDS14211  \n",
      "2810711      NaN  ENSP00000304985               5  CCDS14211  \n",
      "2810713      NaN  ENSP00000304985               5  CCDS14211  \n",
      "2810715      NaN  ENSP00000304985               5  CCDS14211  \n",
      "2810717      NaN  ENSP00000304985               5  CCDS14211  \n",
      "2810719      NaN  ENSP00000304985               5  CCDS14211  \n",
      "2810737      NaN  ENSP00000343384               3        NaN  \n",
      "2810740      NaN  ENSP00000343384               3        NaN  \n",
      "2810742      NaN  ENSP00000343384               3        NaN  \n",
      "2810744      NaN  ENSP00000343384               3        NaN  \n",
      "2810746      NaN  ENSP00000343384               3        NaN  \n",
      "2810748      NaN  ENSP00000343384               3        NaN  \n",
      "\n",
      "[37 rows x 28 columns]\n",
      "<pandas.core.groupby.generic.DataFrameGroupBy object at 0x7f00ba1fd7c0>\n",
      "HERE 24172900 24179082\n",
      "adding 24179870 24207225\n",
      "adding 24207575 24207611\n",
      "adding 24207955 24208117\n"
     ]
    },
    {
     "name": "stderr",
     "output_type": "stream",
     "text": [
      "/tmp/ipykernel_3779053/2834357883.py:40: FutureWarning: The frame.append method is deprecated and will be removed from pandas in a future version. Use pandas.concat instead.\n",
      "  intron_coordinates = intron_coordinates.append(new_row, ignore_index=True)\n",
      "/tmp/ipykernel_3779053/2834357883.py:40: FutureWarning: The frame.append method is deprecated and will be removed from pandas in a future version. Use pandas.concat instead.\n",
      "  intron_coordinates = intron_coordinates.append(new_row, ignore_index=True)\n",
      "/tmp/ipykernel_3779053/2834357883.py:40: FutureWarning: The frame.append method is deprecated and will be removed from pandas in a future version. Use pandas.concat instead.\n",
      "  intron_coordinates = intron_coordinates.append(new_row, ignore_index=True)\n",
      "/tmp/ipykernel_3779053/2834357883.py:40: FutureWarning: The frame.append method is deprecated and will be removed from pandas in a future version. Use pandas.concat instead.\n",
      "  intron_coordinates = intron_coordinates.append(new_row, ignore_index=True)\n",
      "/tmp/ipykernel_3779053/2834357883.py:40: FutureWarning: The frame.append method is deprecated and will be removed from pandas in a future version. Use pandas.concat instead.\n",
      "  intron_coordinates = intron_coordinates.append(new_row, ignore_index=True)\n",
      "/tmp/ipykernel_3779053/2834357883.py:40: FutureWarning: The frame.append method is deprecated and will be removed from pandas in a future version. Use pandas.concat instead.\n",
      "  intron_coordinates = intron_coordinates.append(new_row, ignore_index=True)\n",
      "/tmp/ipykernel_3779053/2834357883.py:40: FutureWarning: The frame.append method is deprecated and will be removed from pandas in a future version. Use pandas.concat instead.\n",
      "  intron_coordinates = intron_coordinates.append(new_row, ignore_index=True)\n",
      "/tmp/ipykernel_3779053/2834357883.py:40: FutureWarning: The frame.append method is deprecated and will be removed from pandas in a future version. Use pandas.concat instead.\n",
      "  intron_coordinates = intron_coordinates.append(new_row, ignore_index=True)\n",
      "/tmp/ipykernel_3779053/2834357883.py:40: FutureWarning: The frame.append method is deprecated and will be removed from pandas in a future version. Use pandas.concat instead.\n",
      "  intron_coordinates = intron_coordinates.append(new_row, ignore_index=True)\n",
      "/tmp/ipykernel_3779053/2834357883.py:40: FutureWarning: The frame.append method is deprecated and will be removed from pandas in a future version. Use pandas.concat instead.\n",
      "  intron_coordinates = intron_coordinates.append(new_row, ignore_index=True)\n",
      "/tmp/ipykernel_3779053/2834357883.py:40: FutureWarning: The frame.append method is deprecated and will be removed from pandas in a future version. Use pandas.concat instead.\n",
      "  intron_coordinates = intron_coordinates.append(new_row, ignore_index=True)\n",
      "/tmp/ipykernel_3779053/2834357883.py:40: FutureWarning: The frame.append method is deprecated and will be removed from pandas in a future version. Use pandas.concat instead.\n",
      "  intron_coordinates = intron_coordinates.append(new_row, ignore_index=True)\n"
     ]
    },
    {
     "name": "stdout",
     "output_type": "stream",
     "text": [
      "adding 24208470 24208799\n",
      "adding 24209140 24210092\n",
      "HERE 24172900 24179082\n",
      "HERE 24179870 24207611\n",
      "adding 24207955 24208117\n",
      "adding 24208470 24208799\n",
      "adding 24209140 24210092\n",
      "HERE 24172900 24179082\n",
      "adding 24179870 24207225\n",
      "adding 24207575 24207611\n",
      "adding 24207955 24208117\n",
      "adding 24208470 24208799\n",
      "adding 24209140 24210092\n",
      "adding 24172900 24173506\n",
      "adding 24173823 24179082\n"
     ]
    },
    {
     "name": "stderr",
     "output_type": "stream",
     "text": [
      "/tmp/ipykernel_3779053/2834357883.py:40: FutureWarning: The frame.append method is deprecated and will be removed from pandas in a future version. Use pandas.concat instead.\n",
      "  intron_coordinates = intron_coordinates.append(new_row, ignore_index=True)\n",
      "/tmp/ipykernel_3779053/2834357883.py:40: FutureWarning: The frame.append method is deprecated and will be removed from pandas in a future version. Use pandas.concat instead.\n",
      "  intron_coordinates = intron_coordinates.append(new_row, ignore_index=True)\n",
      "/tmp/ipykernel_3779053/2834357883.py:40: FutureWarning: The frame.append method is deprecated and will be removed from pandas in a future version. Use pandas.concat instead.\n",
      "  intron_coordinates = intron_coordinates.append(new_row, ignore_index=True)\n",
      "/tmp/ipykernel_3779053/2834357883.py:40: FutureWarning: The frame.append method is deprecated and will be removed from pandas in a future version. Use pandas.concat instead.\n",
      "  intron_coordinates = intron_coordinates.append(new_row, ignore_index=True)\n",
      "/tmp/ipykernel_3779053/2834357883.py:40: FutureWarning: The frame.append method is deprecated and will be removed from pandas in a future version. Use pandas.concat instead.\n",
      "  intron_coordinates = intron_coordinates.append(new_row, ignore_index=True)\n",
      "/tmp/ipykernel_3779053/2834357883.py:40: FutureWarning: The frame.append method is deprecated and will be removed from pandas in a future version. Use pandas.concat instead.\n",
      "  intron_coordinates = intron_coordinates.append(new_row, ignore_index=True)\n",
      "/tmp/ipykernel_3779053/2834357883.py:40: FutureWarning: The frame.append method is deprecated and will be removed from pandas in a future version. Use pandas.concat instead.\n",
      "  intron_coordinates = intron_coordinates.append(new_row, ignore_index=True)\n",
      "/tmp/ipykernel_3779053/2834357883.py:40: FutureWarning: The frame.append method is deprecated and will be removed from pandas in a future version. Use pandas.concat instead.\n",
      "  intron_coordinates = intron_coordinates.append(new_row, ignore_index=True)\n",
      "/tmp/ipykernel_3779053/2834357883.py:40: FutureWarning: The frame.append method is deprecated and will be removed from pandas in a future version. Use pandas.concat instead.\n",
      "  intron_coordinates = intron_coordinates.append(new_row, ignore_index=True)\n",
      "/tmp/ipykernel_3779053/2834357883.py:40: FutureWarning: The frame.append method is deprecated and will be removed from pandas in a future version. Use pandas.concat instead.\n",
      "  intron_coordinates = intron_coordinates.append(new_row, ignore_index=True)\n",
      "/tmp/ipykernel_3779053/2834357883.py:40: FutureWarning: The frame.append method is deprecated and will be removed from pandas in a future version. Use pandas.concat instead.\n",
      "  intron_coordinates = intron_coordinates.append(new_row, ignore_index=True)\n",
      "/tmp/ipykernel_3779053/2834357883.py:40: FutureWarning: The frame.append method is deprecated and will be removed from pandas in a future version. Use pandas.concat instead.\n",
      "  intron_coordinates = intron_coordinates.append(new_row, ignore_index=True)\n"
     ]
    },
    {
     "name": "stdout",
     "output_type": "stream",
     "text": [
      "adding 24179870 24207225\n",
      "adding 24207575 24207611\n",
      "adding 24207955 24208117\n",
      "adding 24208470 24208799\n",
      "adding 24209140 24210092\n",
      "HERE 24172900 24179082\n",
      "HERE 24172900 24179082\n",
      "adding 24207575 24207611\n",
      "adding 24207955 24208117\n",
      "adding 24208470 24208799\n",
      "adding 24209140 24210092\n",
      "        Chromosome          Source Feature     Start       End Score Strand  \\\n",
      "2897980       chrY  ensembl_havana     CDS  12904936  12904981     .      +   \n",
      "2897983       chrY  ensembl_havana     CDS  12907536  12907594     .      +   \n",
      "2897985       chrY  ensembl_havana     CDS  12909359  12909407     .      +   \n",
      "2897987       chrY  ensembl_havana     CDS  12911838  12911968     .      +   \n",
      "2897989       chrY  ensembl_havana     CDS  12912726  12912882     .      +   \n",
      "2897991       chrY  ensembl_havana     CDS  12912962  12913062     .      +   \n",
      "2897993       chrY  ensembl_havana     CDS  12913717  12913853     .      +   \n",
      "2897995       chrY  ensembl_havana     CDS  12914563  12914649     .      +   \n",
      "2897997       chrY  ensembl_havana     CDS  12914883  12914982     .      +   \n",
      "2897999       chrY  ensembl_havana     CDS  12915066  12915227     .      +   \n",
      "2898001       chrY  ensembl_havana     CDS  12915629  12915774     .      +   \n",
      "2898003       chrY  ensembl_havana     CDS  12915882  12916027     .      +   \n",
      "2898005       chrY  ensembl_havana     CDS  12916260  12916442     .      +   \n",
      "2898007       chrY  ensembl_havana     CDS  12916516  12916634     .      +   \n",
      "2898009       chrY  ensembl_havana     CDS  12916906  12917060     .      +   \n",
      "2898011       chrY  ensembl_havana     CDS  12917402  12917542     .      +   \n",
      "2898013       chrY  ensembl_havana     CDS  12918042  12918119     .      +   \n",
      "2898021       chrY          havana     CDS  12904936  12904981     .      +   \n",
      "2898024       chrY          havana     CDS  12907536  12907594     .      +   \n",
      "2898026       chrY          havana     CDS  12909359  12909407     .      +   \n",
      "2898028       chrY          havana     CDS  12911838  12911968     .      +   \n",
      "2898030       chrY          havana     CDS  12912726  12912882     .      +   \n",
      "2898032       chrY          havana     CDS  12912962  12913062     .      +   \n",
      "2898034       chrY          havana     CDS  12913717  12913853     .      +   \n",
      "2898043       chrY          havana     CDS  12904936  12904981     .      +   \n",
      "2898046       chrY          havana     CDS  12907536  12907594     .      +   \n",
      "2898048       chrY          havana     CDS  12909359  12909407     .      +   \n",
      "2898050       chrY          havana     CDS  12911838  12911968     .      +   \n",
      "2898052       chrY          havana     CDS  12912726  12912882     .      +   \n",
      "2898054       chrY          havana     CDS  12912962  12913062     .      +   \n",
      "2898056       chrY          havana     CDS  12913717  12913853     .      +   \n",
      "2898058       chrY          havana     CDS  12914563  12914649     .      +   \n",
      "2898060       chrY          havana     CDS  12914883  12914982     .      +   \n",
      "2898062       chrY          havana     CDS  12915066  12915227     .      +   \n",
      "2898064       chrY          havana     CDS  12915629  12915774     .      +   \n",
      "2898066       chrY          havana     CDS  12915882  12916027     .      +   \n",
      "2898068       chrY          havana     CDS  12916260  12916442     .      +   \n",
      "2898070       chrY          havana     CDS  12916516  12916634     .      +   \n",
      "2898072       chrY          havana     CDS  12916906  12917060     .      +   \n",
      "2898074       chrY          havana     CDS  12917402  12917542     .      +   \n",
      "2898076       chrY          havana     CDS  12918042  12918119     .      +   \n",
      "2898082       chrY          havana     CDS  12905779  12905815     .      +   \n",
      "2898085       chrY          havana     CDS  12907536  12907594     .      +   \n",
      "2898087       chrY          havana     CDS  12909359  12909407     .      +   \n",
      "2898089       chrY          havana     CDS  12911838  12911968     .      +   \n",
      "2898091       chrY          havana     CDS  12912726  12912882     .      +   \n",
      "2898093       chrY          havana     CDS  12912962  12913062     .      +   \n",
      "2898095       chrY          havana     CDS  12913717  12913853     .      +   \n",
      "2898097       chrY          havana     CDS  12914563  12914649     .      +   \n",
      "\n",
      "        Frame          gene_id gene_version  ...          tag  \\\n",
      "2897980     0  ENSG00000067048           17  ...        basic   \n",
      "2897983     0  ENSG00000067048           17  ...        basic   \n",
      "2897985     2  ENSG00000067048           17  ...        basic   \n",
      "2897987     2  ENSG00000067048           17  ...        basic   \n",
      "2897989     1  ENSG00000067048           17  ...        basic   \n",
      "2897991     1  ENSG00000067048           17  ...        basic   \n",
      "2897993     0  ENSG00000067048           17  ...        basic   \n",
      "2897995     2  ENSG00000067048           17  ...        basic   \n",
      "2897997     0  ENSG00000067048           17  ...        basic   \n",
      "2897999     0  ENSG00000067048           17  ...        basic   \n",
      "2898001     1  ENSG00000067048           17  ...        basic   \n",
      "2898003     0  ENSG00000067048           17  ...        basic   \n",
      "2898005     2  ENSG00000067048           17  ...        basic   \n",
      "2898007     0  ENSG00000067048           17  ...        basic   \n",
      "2898009     2  ENSG00000067048           17  ...        basic   \n",
      "2898011     1  ENSG00000067048           17  ...        basic   \n",
      "2898013     2  ENSG00000067048           17  ...        basic   \n",
      "2898021     0  ENSG00000067048           17  ...  mRNA_end_NF   \n",
      "2898024     0  ENSG00000067048           17  ...  mRNA_end_NF   \n",
      "2898026     2  ENSG00000067048           17  ...  mRNA_end_NF   \n",
      "2898028     2  ENSG00000067048           17  ...  mRNA_end_NF   \n",
      "2898030     1  ENSG00000067048           17  ...  mRNA_end_NF   \n",
      "2898032     1  ENSG00000067048           17  ...  mRNA_end_NF   \n",
      "2898034     0  ENSG00000067048           17  ...  mRNA_end_NF   \n",
      "2898043     0  ENSG00000067048           17  ...        basic   \n",
      "2898046     0  ENSG00000067048           17  ...        basic   \n",
      "2898048     2  ENSG00000067048           17  ...        basic   \n",
      "2898050     2  ENSG00000067048           17  ...        basic   \n",
      "2898052     1  ENSG00000067048           17  ...        basic   \n",
      "2898054     1  ENSG00000067048           17  ...        basic   \n",
      "2898056     0  ENSG00000067048           17  ...        basic   \n",
      "2898058     2  ENSG00000067048           17  ...        basic   \n",
      "2898060     0  ENSG00000067048           17  ...        basic   \n",
      "2898062     0  ENSG00000067048           17  ...        basic   \n",
      "2898064     1  ENSG00000067048           17  ...        basic   \n",
      "2898066     0  ENSG00000067048           17  ...        basic   \n",
      "2898068     2  ENSG00000067048           17  ...        basic   \n",
      "2898070     0  ENSG00000067048           17  ...        basic   \n",
      "2898072     2  ENSG00000067048           17  ...        basic   \n",
      "2898074     1  ENSG00000067048           17  ...        basic   \n",
      "2898076     2  ENSG00000067048           17  ...        basic   \n",
      "2898082     0  ENSG00000067048           17  ...  mRNA_end_NF   \n",
      "2898085     0  ENSG00000067048           17  ...  mRNA_end_NF   \n",
      "2898087     2  ENSG00000067048           17  ...  mRNA_end_NF   \n",
      "2898089     2  ENSG00000067048           17  ...  mRNA_end_NF   \n",
      "2898091     1  ENSG00000067048           17  ...  mRNA_end_NF   \n",
      "2898093     1  ENSG00000067048           17  ...  mRNA_end_NF   \n",
      "2898095     0  ENSG00000067048           17  ...  mRNA_end_NF   \n",
      "2898097     2  ENSG00000067048           17  ...  mRNA_end_NF   \n",
      "\n",
      "        transcript_support_level exon_number exon_id exon_version (assigned  \\\n",
      "2897980                        1           2     NaN          NaN       NaN   \n",
      "2897983                        1           3     NaN          NaN       NaN   \n",
      "2897985                        1           4     NaN          NaN       NaN   \n",
      "2897987                        1           5     NaN          NaN       NaN   \n",
      "2897989                        1           6     NaN          NaN       NaN   \n",
      "2897991                        1           7     NaN          NaN       NaN   \n",
      "2897993                        1           8     NaN          NaN       NaN   \n",
      "2897995                        1           9     NaN          NaN       NaN   \n",
      "2897997                        1          10     NaN          NaN       NaN   \n",
      "2897999                        1          11     NaN          NaN       NaN   \n",
      "2898001                        1          12     NaN          NaN       NaN   \n",
      "2898003                        1          13     NaN          NaN       NaN   \n",
      "2898005                        1          14     NaN          NaN       NaN   \n",
      "2898007                        1          15     NaN          NaN       NaN   \n",
      "2898009                        1          16     NaN          NaN       NaN   \n",
      "2898011                        1          17     NaN          NaN       NaN   \n",
      "2898013                        1          18     NaN          NaN       NaN   \n",
      "2898021                        3           2     NaN          NaN       NaN   \n",
      "2898024                        3           3     NaN          NaN       NaN   \n",
      "2898026                        3           4     NaN          NaN       NaN   \n",
      "2898028                        3           5     NaN          NaN       NaN   \n",
      "2898030                        3           6     NaN          NaN       NaN   \n",
      "2898032                        3           7     NaN          NaN       NaN   \n",
      "2898034                        3           8     NaN          NaN       NaN   \n",
      "2898043                        1           1     NaN          NaN        to   \n",
      "2898046                        1           2     NaN          NaN        to   \n",
      "2898048                        1           3     NaN          NaN        to   \n",
      "2898050                        1           4     NaN          NaN        to   \n",
      "2898052                        1           5     NaN          NaN        to   \n",
      "2898054                        1           6     NaN          NaN        to   \n",
      "2898056                        1           7     NaN          NaN        to   \n",
      "2898058                        1           8     NaN          NaN        to   \n",
      "2898060                        1           9     NaN          NaN        to   \n",
      "2898062                        1          10     NaN          NaN        to   \n",
      "2898064                        1          11     NaN          NaN        to   \n",
      "2898066                        1          12     NaN          NaN        to   \n",
      "2898068                        1          13     NaN          NaN        to   \n",
      "2898070                        1          14     NaN          NaN        to   \n",
      "2898072                        1          15     NaN          NaN        to   \n",
      "2898074                        1          16     NaN          NaN        to   \n",
      "2898076                        1          17     NaN          NaN        to   \n",
      "2898082                        3           1     NaN          NaN       NaN   \n",
      "2898085                        3           2     NaN          NaN       NaN   \n",
      "2898087                        3           3     NaN          NaN       NaN   \n",
      "2898089                        3           4     NaN          NaN       NaN   \n",
      "2898091                        3           5     NaN          NaN       NaN   \n",
      "2898093                        3           6     NaN          NaN       NaN   \n",
      "2898095                        3           7     NaN          NaN       NaN   \n",
      "2898097                        3           8     NaN          NaN       NaN   \n",
      "\n",
      "        previous       protein_id protein_version    ccds_id  \n",
      "2897980      NaN  ENSP00000353284               4  CCDS14782  \n",
      "2897983      NaN  ENSP00000353284               4  CCDS14782  \n",
      "2897985      NaN  ENSP00000353284               4  CCDS14782  \n",
      "2897987      NaN  ENSP00000353284               4  CCDS14782  \n",
      "2897989      NaN  ENSP00000353284               4  CCDS14782  \n",
      "2897991      NaN  ENSP00000353284               4  CCDS14782  \n",
      "2897993      NaN  ENSP00000353284               4  CCDS14782  \n",
      "2897995      NaN  ENSP00000353284               4  CCDS14782  \n",
      "2897997      NaN  ENSP00000353284               4  CCDS14782  \n",
      "2897999      NaN  ENSP00000353284               4  CCDS14782  \n",
      "2898001      NaN  ENSP00000353284               4  CCDS14782  \n",
      "2898003      NaN  ENSP00000353284               4  CCDS14782  \n",
      "2898005      NaN  ENSP00000353284               4  CCDS14782  \n",
      "2898007      NaN  ENSP00000353284               4  CCDS14782  \n",
      "2898009      NaN  ENSP00000353284               4  CCDS14782  \n",
      "2898011      NaN  ENSP00000353284               4  CCDS14782  \n",
      "2898013      NaN  ENSP00000353284               4  CCDS14782  \n",
      "2898021      NaN  ENSP00000398953               1        NaN  \n",
      "2898024      NaN  ENSP00000398953               1        NaN  \n",
      "2898026      NaN  ENSP00000398953               1        NaN  \n",
      "2898028      NaN  ENSP00000398953               1        NaN  \n",
      "2898030      NaN  ENSP00000398953               1        NaN  \n",
      "2898032      NaN  ENSP00000398953               1        NaN  \n",
      "2898034      NaN  ENSP00000398953               1        NaN  \n",
      "2898043  version  ENSP00000336725               3  CCDS14782  \n",
      "2898046  version  ENSP00000336725               3  CCDS14782  \n",
      "2898048  version  ENSP00000336725               3  CCDS14782  \n",
      "2898050  version  ENSP00000336725               3  CCDS14782  \n",
      "2898052  version  ENSP00000336725               3  CCDS14782  \n",
      "2898054  version  ENSP00000336725               3  CCDS14782  \n",
      "2898056  version  ENSP00000336725               3  CCDS14782  \n",
      "2898058  version  ENSP00000336725               3  CCDS14782  \n",
      "2898060  version  ENSP00000336725               3  CCDS14782  \n",
      "2898062  version  ENSP00000336725               3  CCDS14782  \n",
      "2898064  version  ENSP00000336725               3  CCDS14782  \n",
      "2898066  version  ENSP00000336725               3  CCDS14782  \n",
      "2898068  version  ENSP00000336725               3  CCDS14782  \n",
      "2898070  version  ENSP00000336725               3  CCDS14782  \n",
      "2898072  version  ENSP00000336725               3  CCDS14782  \n",
      "2898074  version  ENSP00000336725               3  CCDS14782  \n",
      "2898076  version  ENSP00000336725               3  CCDS14782  \n",
      "2898082      NaN  ENSP00000400377               1        NaN  \n",
      "2898085      NaN  ENSP00000400377               1        NaN  \n",
      "2898087      NaN  ENSP00000400377               1        NaN  \n",
      "2898089      NaN  ENSP00000400377               1        NaN  \n",
      "2898091      NaN  ENSP00000400377               1        NaN  \n",
      "2898093      NaN  ENSP00000400377               1        NaN  \n",
      "2898095      NaN  ENSP00000400377               1        NaN  \n",
      "2898097      NaN  ENSP00000400377               1        NaN  \n",
      "\n",
      "[49 rows x 28 columns]\n",
      "<pandas.core.groupby.generic.DataFrameGroupBy object at 0x7f00889156a0>\n",
      "HERE 12905081 12907436\n",
      "adding 12907694 12909259\n",
      "adding 12909507 12911738\n"
     ]
    },
    {
     "name": "stderr",
     "output_type": "stream",
     "text": [
      "/tmp/ipykernel_3779053/2834357883.py:40: FutureWarning: The frame.append method is deprecated and will be removed from pandas in a future version. Use pandas.concat instead.\n",
      "  intron_coordinates = intron_coordinates.append(new_row, ignore_index=True)\n",
      "/tmp/ipykernel_3779053/2834357883.py:40: FutureWarning: The frame.append method is deprecated and will be removed from pandas in a future version. Use pandas.concat instead.\n",
      "  intron_coordinates = intron_coordinates.append(new_row, ignore_index=True)\n",
      "/tmp/ipykernel_3779053/2834357883.py:40: FutureWarning: The frame.append method is deprecated and will be removed from pandas in a future version. Use pandas.concat instead.\n",
      "  intron_coordinates = intron_coordinates.append(new_row, ignore_index=True)\n",
      "/tmp/ipykernel_3779053/2834357883.py:40: FutureWarning: The frame.append method is deprecated and will be removed from pandas in a future version. Use pandas.concat instead.\n",
      "  intron_coordinates = intron_coordinates.append(new_row, ignore_index=True)\n",
      "/tmp/ipykernel_3779053/2834357883.py:40: FutureWarning: The frame.append method is deprecated and will be removed from pandas in a future version. Use pandas.concat instead.\n",
      "  intron_coordinates = intron_coordinates.append(new_row, ignore_index=True)\n",
      "/tmp/ipykernel_3779053/2834357883.py:40: FutureWarning: The frame.append method is deprecated and will be removed from pandas in a future version. Use pandas.concat instead.\n",
      "  intron_coordinates = intron_coordinates.append(new_row, ignore_index=True)\n",
      "/tmp/ipykernel_3779053/2834357883.py:40: FutureWarning: The frame.append method is deprecated and will be removed from pandas in a future version. Use pandas.concat instead.\n",
      "  intron_coordinates = intron_coordinates.append(new_row, ignore_index=True)\n",
      "/tmp/ipykernel_3779053/2834357883.py:40: FutureWarning: The frame.append method is deprecated and will be removed from pandas in a future version. Use pandas.concat instead.\n",
      "  intron_coordinates = intron_coordinates.append(new_row, ignore_index=True)\n",
      "/tmp/ipykernel_3779053/2834357883.py:40: FutureWarning: The frame.append method is deprecated and will be removed from pandas in a future version. Use pandas.concat instead.\n",
      "  intron_coordinates = intron_coordinates.append(new_row, ignore_index=True)\n",
      "/tmp/ipykernel_3779053/2834357883.py:40: FutureWarning: The frame.append method is deprecated and will be removed from pandas in a future version. Use pandas.concat instead.\n",
      "  intron_coordinates = intron_coordinates.append(new_row, ignore_index=True)\n",
      "/tmp/ipykernel_3779053/2834357883.py:40: FutureWarning: The frame.append method is deprecated and will be removed from pandas in a future version. Use pandas.concat instead.\n",
      "  intron_coordinates = intron_coordinates.append(new_row, ignore_index=True)\n"
     ]
    },
    {
     "name": "stdout",
     "output_type": "stream",
     "text": [
      "adding 12912068 12912626\n",
      "adding 12913162 12913617\n",
      "adding 12913953 12914463\n",
      "adding 12914749 12914783\n",
      "adding 12915327 12915529\n",
      "adding 12916127 12916160\n",
      "adding 12916734 12916806\n",
      "adding 12917160 12917302\n",
      "adding 12917642 12917942\n",
      "HERE 12905081 12907436\n",
      "adding 12907694 12909259\n"
     ]
    },
    {
     "name": "stderr",
     "output_type": "stream",
     "text": [
      "/tmp/ipykernel_3779053/2834357883.py:40: FutureWarning: The frame.append method is deprecated and will be removed from pandas in a future version. Use pandas.concat instead.\n",
      "  intron_coordinates = intron_coordinates.append(new_row, ignore_index=True)\n",
      "/tmp/ipykernel_3779053/2834357883.py:40: FutureWarning: The frame.append method is deprecated and will be removed from pandas in a future version. Use pandas.concat instead.\n",
      "  intron_coordinates = intron_coordinates.append(new_row, ignore_index=True)\n",
      "/tmp/ipykernel_3779053/2834357883.py:40: FutureWarning: The frame.append method is deprecated and will be removed from pandas in a future version. Use pandas.concat instead.\n",
      "  intron_coordinates = intron_coordinates.append(new_row, ignore_index=True)\n",
      "/tmp/ipykernel_3779053/2834357883.py:40: FutureWarning: The frame.append method is deprecated and will be removed from pandas in a future version. Use pandas.concat instead.\n",
      "  intron_coordinates = intron_coordinates.append(new_row, ignore_index=True)\n",
      "/tmp/ipykernel_3779053/2834357883.py:40: FutureWarning: The frame.append method is deprecated and will be removed from pandas in a future version. Use pandas.concat instead.\n",
      "  intron_coordinates = intron_coordinates.append(new_row, ignore_index=True)\n",
      "/tmp/ipykernel_3779053/2834357883.py:40: FutureWarning: The frame.append method is deprecated and will be removed from pandas in a future version. Use pandas.concat instead.\n",
      "  intron_coordinates = intron_coordinates.append(new_row, ignore_index=True)\n",
      "/tmp/ipykernel_3779053/2834357883.py:40: FutureWarning: The frame.append method is deprecated and will be removed from pandas in a future version. Use pandas.concat instead.\n",
      "  intron_coordinates = intron_coordinates.append(new_row, ignore_index=True)\n",
      "/tmp/ipykernel_3779053/2834357883.py:40: FutureWarning: The frame.append method is deprecated and will be removed from pandas in a future version. Use pandas.concat instead.\n",
      "  intron_coordinates = intron_coordinates.append(new_row, ignore_index=True)\n",
      "/tmp/ipykernel_3779053/2834357883.py:40: FutureWarning: The frame.append method is deprecated and will be removed from pandas in a future version. Use pandas.concat instead.\n",
      "  intron_coordinates = intron_coordinates.append(new_row, ignore_index=True)\n",
      "/tmp/ipykernel_3779053/2834357883.py:40: FutureWarning: The frame.append method is deprecated and will be removed from pandas in a future version. Use pandas.concat instead.\n",
      "  intron_coordinates = intron_coordinates.append(new_row, ignore_index=True)\n"
     ]
    },
    {
     "name": "stdout",
     "output_type": "stream",
     "text": [
      "adding 12909507 12911738\n",
      "adding 12912068 12912626\n",
      "adding 12913162 12913617\n",
      "adding 12913953 12914463\n",
      "adding 12914749 12914783\n",
      "adding 12915327 12915529\n",
      "adding 12916127 12916160\n",
      "adding 12916734 12916806\n",
      "adding 12917160 12917302\n",
      "adding 12917642 12917942\n"
     ]
    },
    {
     "name": "stderr",
     "output_type": "stream",
     "text": [
      "/tmp/ipykernel_3779053/2834357883.py:40: FutureWarning: The frame.append method is deprecated and will be removed from pandas in a future version. Use pandas.concat instead.\n",
      "  intron_coordinates = intron_coordinates.append(new_row, ignore_index=True)\n",
      "/tmp/ipykernel_3779053/2834357883.py:40: FutureWarning: The frame.append method is deprecated and will be removed from pandas in a future version. Use pandas.concat instead.\n",
      "  intron_coordinates = intron_coordinates.append(new_row, ignore_index=True)\n",
      "/tmp/ipykernel_3779053/2834357883.py:40: FutureWarning: The frame.append method is deprecated and will be removed from pandas in a future version. Use pandas.concat instead.\n",
      "  intron_coordinates = intron_coordinates.append(new_row, ignore_index=True)\n",
      "/tmp/ipykernel_3779053/2834357883.py:40: FutureWarning: The frame.append method is deprecated and will be removed from pandas in a future version. Use pandas.concat instead.\n",
      "  intron_coordinates = intron_coordinates.append(new_row, ignore_index=True)\n",
      "/tmp/ipykernel_3779053/2834357883.py:40: FutureWarning: The frame.append method is deprecated and will be removed from pandas in a future version. Use pandas.concat instead.\n",
      "  intron_coordinates = intron_coordinates.append(new_row, ignore_index=True)\n",
      "/tmp/ipykernel_3779053/2834357883.py:40: FutureWarning: The frame.append method is deprecated and will be removed from pandas in a future version. Use pandas.concat instead.\n",
      "  intron_coordinates = intron_coordinates.append(new_row, ignore_index=True)\n",
      "/tmp/ipykernel_3779053/2834357883.py:40: FutureWarning: The frame.append method is deprecated and will be removed from pandas in a future version. Use pandas.concat instead.\n",
      "  intron_coordinates = intron_coordinates.append(new_row, ignore_index=True)\n",
      "/tmp/ipykernel_3779053/2834357883.py:40: FutureWarning: The frame.append method is deprecated and will be removed from pandas in a future version. Use pandas.concat instead.\n",
      "  intron_coordinates = intron_coordinates.append(new_row, ignore_index=True)\n",
      "/tmp/ipykernel_3779053/2834357883.py:40: FutureWarning: The frame.append method is deprecated and will be removed from pandas in a future version. Use pandas.concat instead.\n",
      "  intron_coordinates = intron_coordinates.append(new_row, ignore_index=True)\n",
      "/tmp/ipykernel_3779053/2834357883.py:40: FutureWarning: The frame.append method is deprecated and will be removed from pandas in a future version. Use pandas.concat instead.\n",
      "  intron_coordinates = intron_coordinates.append(new_row, ignore_index=True)\n"
     ]
    },
    {
     "name": "stdout",
     "output_type": "stream",
     "text": [
      "adding 12905915 12907436\n",
      "adding 12907694 12909259\n",
      "adding 12909507 12911738\n",
      "adding 12912068 12912626\n",
      "adding 12913162 12913617\n",
      "adding 12913953 12914463\n",
      "HERE 12905081 12907436\n",
      "adding 12907694 12909259\n",
      "adding 12909507 12911738\n",
      "adding 12912068 12912626\n",
      "adding 12913162 12913617\n",
      "        Chromosome          Source Feature     Start       End Score Strand  \\\n",
      "2813677       chrX  ensembl_havana     CDS  41334252  41334297     .      +   \n",
      "2813680       chrX  ensembl_havana     CDS  41337407  41337465     .      +   \n",
      "2813682       chrX  ensembl_havana     CDS  41339035  41339083     .      +   \n",
      "2813684       chrX  ensembl_havana     CDS  41341483  41341616     .      +   \n",
      "2813686       chrX  ensembl_havana     CDS  41342494  41342653     .      +   \n",
      "...            ...             ...     ...       ...       ...   ...    ...   \n",
      "2815274       chrX          havana     CDS  41346319  41346410     .      +   \n",
      "2815276       chrX          havana     CDS  41346504  41346622     .      +   \n",
      "2815278       chrX          havana     CDS  41346858  41347012     .      +   \n",
      "2815280       chrX          havana     CDS  41347311  41347451     .      +   \n",
      "2815282       chrX          havana     CDS  41347859  41347921     .      +   \n",
      "\n",
      "        Frame          gene_id gene_version  ...            tag  \\\n",
      "2813677     0  ENSG00000215301           10  ...          basic   \n",
      "2813680     0  ENSG00000215301           10  ...          basic   \n",
      "2813682     2  ENSG00000215301           10  ...          basic   \n",
      "2813684     2  ENSG00000215301           10  ...          basic   \n",
      "2813686     1  ENSG00000215301           10  ...          basic   \n",
      "...       ...              ...          ...  ...            ...   \n",
      "2815274     1  ENSG00000215301           10  ...  mRNA_start_NF   \n",
      "2815276     0  ENSG00000215301           10  ...  mRNA_start_NF   \n",
      "2815278     2  ENSG00000215301           10  ...  mRNA_start_NF   \n",
      "2815280     1  ENSG00000215301           10  ...  mRNA_start_NF   \n",
      "2815282     2  ENSG00000215301           10  ...  mRNA_start_NF   \n",
      "\n",
      "        transcript_support_level exon_number exon_id exon_version (assigned  \\\n",
      "2813677                      NaN           1     NaN          NaN       NaN   \n",
      "2813680                      NaN           2     NaN          NaN       NaN   \n",
      "2813682                      NaN           3     NaN          NaN       NaN   \n",
      "2813684                      NaN           4     NaN          NaN       NaN   \n",
      "2813686                      NaN           5     NaN          NaN       NaN   \n",
      "...                          ...         ...     ...          ...       ...   \n",
      "2815274                        3           1     NaN          NaN        to   \n",
      "2815276                        3           2     NaN          NaN        to   \n",
      "2815278                        3           3     NaN          NaN        to   \n",
      "2815280                        3           4     NaN          NaN        to   \n",
      "2815282                        3           5     NaN          NaN        to   \n",
      "\n",
      "        previous       protein_id protein_version    ccds_id  \n",
      "2813677      NaN  ENSP00000494040               1  CCDS43931  \n",
      "2813680      NaN  ENSP00000494040               1  CCDS43931  \n",
      "2813682      NaN  ENSP00000494040               1  CCDS43931  \n",
      "2813684      NaN  ENSP00000494040               1  CCDS43931  \n",
      "2813686      NaN  ENSP00000494040               1  CCDS43931  \n",
      "...          ...              ...             ...        ...  \n",
      "2815274  version  ENSP00000479790               2        NaN  \n",
      "2815276  version  ENSP00000479790               2        NaN  \n",
      "2815278  version  ENSP00000479790               2        NaN  \n",
      "2815280  version  ENSP00000479790               2        NaN  \n",
      "2815282  version  ENSP00000479790               2        NaN  \n",
      "\n",
      "[445 rows x 28 columns]\n",
      "<pandas.core.groupby.generic.DataFrameGroupBy object at 0x7f01f82a9340>\n",
      "HERE 41334397 41337307\n"
     ]
    },
    {
     "name": "stderr",
     "output_type": "stream",
     "text": [
      "/tmp/ipykernel_3779053/2834357883.py:40: FutureWarning: The frame.append method is deprecated and will be removed from pandas in a future version. Use pandas.concat instead.\n",
      "  intron_coordinates = intron_coordinates.append(new_row, ignore_index=True)\n",
      "/tmp/ipykernel_3779053/2834357883.py:40: FutureWarning: The frame.append method is deprecated and will be removed from pandas in a future version. Use pandas.concat instead.\n",
      "  intron_coordinates = intron_coordinates.append(new_row, ignore_index=True)\n",
      "/tmp/ipykernel_3779053/2834357883.py:40: FutureWarning: The frame.append method is deprecated and will be removed from pandas in a future version. Use pandas.concat instead.\n",
      "  intron_coordinates = intron_coordinates.append(new_row, ignore_index=True)\n",
      "/tmp/ipykernel_3779053/2834357883.py:40: FutureWarning: The frame.append method is deprecated and will be removed from pandas in a future version. Use pandas.concat instead.\n",
      "  intron_coordinates = intron_coordinates.append(new_row, ignore_index=True)\n",
      "/tmp/ipykernel_3779053/2834357883.py:40: FutureWarning: The frame.append method is deprecated and will be removed from pandas in a future version. Use pandas.concat instead.\n",
      "  intron_coordinates = intron_coordinates.append(new_row, ignore_index=True)\n",
      "/tmp/ipykernel_3779053/2834357883.py:40: FutureWarning: The frame.append method is deprecated and will be removed from pandas in a future version. Use pandas.concat instead.\n",
      "  intron_coordinates = intron_coordinates.append(new_row, ignore_index=True)\n",
      "/tmp/ipykernel_3779053/2834357883.py:40: FutureWarning: The frame.append method is deprecated and will be removed from pandas in a future version. Use pandas.concat instead.\n",
      "  intron_coordinates = intron_coordinates.append(new_row, ignore_index=True)\n",
      "/tmp/ipykernel_3779053/2834357883.py:40: FutureWarning: The frame.append method is deprecated and will be removed from pandas in a future version. Use pandas.concat instead.\n",
      "  intron_coordinates = intron_coordinates.append(new_row, ignore_index=True)\n",
      "/tmp/ipykernel_3779053/2834357883.py:40: FutureWarning: The frame.append method is deprecated and will be removed from pandas in a future version. Use pandas.concat instead.\n",
      "  intron_coordinates = intron_coordinates.append(new_row, ignore_index=True)\n"
     ]
    },
    {
     "name": "stdout",
     "output_type": "stream",
     "text": [
      "HERE 41337565 41338938\n",
      "HERE 41339183 41341383\n",
      "HERE 41341716 41342394\n",
      "adding 41342936 41343115\n"
     ]
    },
    {
     "name": "stderr",
     "output_type": "stream",
     "text": [
      "/tmp/ipykernel_3779053/2834357883.py:40: FutureWarning: The frame.append method is deprecated and will be removed from pandas in a future version. Use pandas.concat instead.\n",
      "  intron_coordinates = intron_coordinates.append(new_row, ignore_index=True)\n",
      "/tmp/ipykernel_3779053/2834357883.py:40: FutureWarning: The frame.append method is deprecated and will be removed from pandas in a future version. Use pandas.concat instead.\n",
      "  intron_coordinates = intron_coordinates.append(new_row, ignore_index=True)\n"
     ]
    },
    {
     "name": "stdout",
     "output_type": "stream",
     "text": [
      "adding 41343451 41343636\n",
      "adding 41343922 41343929\n"
     ]
    },
    {
     "name": "stderr",
     "output_type": "stream",
     "text": [
      "/tmp/ipykernel_3779053/2834357883.py:40: FutureWarning: The frame.append method is deprecated and will be removed from pandas in a future version. Use pandas.concat instead.\n",
      "  intron_coordinates = intron_coordinates.append(new_row, ignore_index=True)\n",
      "/tmp/ipykernel_3779053/2834357883.py:40: FutureWarning: The frame.append method is deprecated and will be removed from pandas in a future version. Use pandas.concat instead.\n",
      "  intron_coordinates = intron_coordinates.append(new_row, ignore_index=True)\n"
     ]
    },
    {
     "name": "stdout",
     "output_type": "stream",
     "text": [
      "HERE 41344499 41345079\n",
      "adding 41345648 41346128\n",
      "adding 41346722 41346758\n"
     ]
    },
    {
     "name": "stderr",
     "output_type": "stream",
     "text": [
      "/tmp/ipykernel_3779053/2834357883.py:40: FutureWarning: The frame.append method is deprecated and will be removed from pandas in a future version. Use pandas.concat instead.\n",
      "  intron_coordinates = intron_coordinates.append(new_row, ignore_index=True)\n",
      "/tmp/ipykernel_3779053/2834357883.py:40: FutureWarning: The frame.append method is deprecated and will be removed from pandas in a future version. Use pandas.concat instead.\n",
      "  intron_coordinates = intron_coordinates.append(new_row, ignore_index=True)\n"
     ]
    },
    {
     "name": "stdout",
     "output_type": "stream",
     "text": [
      "adding 41347112 41347211\n",
      "HERE 41334397 41337307\n",
      "HERE 41337565 41338935\n",
      "HERE 41339183 41341383\n",
      "HERE 41341716 41342394\n",
      "adding 41342936 41343115\n",
      "adding 41343451 41343636\n",
      "HERE 41343922 41344138\n"
     ]
    },
    {
     "name": "stderr",
     "output_type": "stream",
     "text": [
      "/tmp/ipykernel_3779053/2834357883.py:40: FutureWarning: The frame.append method is deprecated and will be removed from pandas in a future version. Use pandas.concat instead.\n",
      "  intron_coordinates = intron_coordinates.append(new_row, ignore_index=True)\n",
      "/tmp/ipykernel_3779053/2834357883.py:40: FutureWarning: The frame.append method is deprecated and will be removed from pandas in a future version. Use pandas.concat instead.\n",
      "  intron_coordinates = intron_coordinates.append(new_row, ignore_index=True)\n"
     ]
    },
    {
     "name": "stdout",
     "output_type": "stream",
     "text": [
      "HERE 41344499 41345079\n",
      "adding 41345648 41346128\n"
     ]
    },
    {
     "name": "stderr",
     "output_type": "stream",
     "text": [
      "/tmp/ipykernel_3779053/2834357883.py:40: FutureWarning: The frame.append method is deprecated and will be removed from pandas in a future version. Use pandas.concat instead.\n",
      "  intron_coordinates = intron_coordinates.append(new_row, ignore_index=True)\n",
      "/tmp/ipykernel_3779053/2834357883.py:40: FutureWarning: The frame.append method is deprecated and will be removed from pandas in a future version. Use pandas.concat instead.\n",
      "  intron_coordinates = intron_coordinates.append(new_row, ignore_index=True)\n"
     ]
    },
    {
     "name": "stdout",
     "output_type": "stream",
     "text": [
      "adding 41346722 41346758\n",
      "adding 41347112 41347211\n",
      "HERE 41334397 41337307\n",
      "HERE 41337565 41341383\n",
      "HERE 41341716 41342394\n"
     ]
    },
    {
     "name": "stderr",
     "output_type": "stream",
     "text": [
      "/tmp/ipykernel_3779053/2834357883.py:40: FutureWarning: The frame.append method is deprecated and will be removed from pandas in a future version. Use pandas.concat instead.\n",
      "  intron_coordinates = intron_coordinates.append(new_row, ignore_index=True)\n",
      "/tmp/ipykernel_3779053/2834357883.py:40: FutureWarning: The frame.append method is deprecated and will be removed from pandas in a future version. Use pandas.concat instead.\n",
      "  intron_coordinates = intron_coordinates.append(new_row, ignore_index=True)\n"
     ]
    },
    {
     "name": "stdout",
     "output_type": "stream",
     "text": [
      "adding 41342936 41343115\n",
      "adding 41343451 41343636\n"
     ]
    },
    {
     "name": "stderr",
     "output_type": "stream",
     "text": [
      "/tmp/ipykernel_3779053/2834357883.py:40: FutureWarning: The frame.append method is deprecated and will be removed from pandas in a future version. Use pandas.concat instead.\n",
      "  intron_coordinates = intron_coordinates.append(new_row, ignore_index=True)\n",
      "/tmp/ipykernel_3779053/2834357883.py:40: FutureWarning: The frame.append method is deprecated and will be removed from pandas in a future version. Use pandas.concat instead.\n",
      "  intron_coordinates = intron_coordinates.append(new_row, ignore_index=True)\n"
     ]
    },
    {
     "name": "stdout",
     "output_type": "stream",
     "text": [
      "adding 41343922 41343929\n",
      "HERE 41344499 41345079\n",
      "adding 41345648 41346128\n"
     ]
    },
    {
     "name": "stderr",
     "output_type": "stream",
     "text": [
      "/tmp/ipykernel_3779053/2834357883.py:40: FutureWarning: The frame.append method is deprecated and will be removed from pandas in a future version. Use pandas.concat instead.\n",
      "  intron_coordinates = intron_coordinates.append(new_row, ignore_index=True)\n",
      "/tmp/ipykernel_3779053/2834357883.py:40: FutureWarning: The frame.append method is deprecated and will be removed from pandas in a future version. Use pandas.concat instead.\n",
      "  intron_coordinates = intron_coordinates.append(new_row, ignore_index=True)\n"
     ]
    },
    {
     "name": "stdout",
     "output_type": "stream",
     "text": [
      "adding 41346722 41346758\n",
      "adding 41347112 41347211\n",
      "HERE 41334397 41337307\n",
      "HERE 41337565 41338935\n",
      "HERE 41339183 41341383\n",
      "HERE 41341716 41342394\n"
     ]
    },
    {
     "name": "stderr",
     "output_type": "stream",
     "text": [
      "/tmp/ipykernel_3779053/2834357883.py:40: FutureWarning: The frame.append method is deprecated and will be removed from pandas in a future version. Use pandas.concat instead.\n",
      "  intron_coordinates = intron_coordinates.append(new_row, ignore_index=True)\n"
     ]
    },
    {
     "name": "stdout",
     "output_type": "stream",
     "text": [
      "adding 41342936 41343115\n",
      "adding 41343451 41343636\n"
     ]
    },
    {
     "name": "stderr",
     "output_type": "stream",
     "text": [
      "/tmp/ipykernel_3779053/2834357883.py:40: FutureWarning: The frame.append method is deprecated and will be removed from pandas in a future version. Use pandas.concat instead.\n",
      "  intron_coordinates = intron_coordinates.append(new_row, ignore_index=True)\n",
      "/tmp/ipykernel_3779053/2834357883.py:40: FutureWarning: The frame.append method is deprecated and will be removed from pandas in a future version. Use pandas.concat instead.\n",
      "  intron_coordinates = intron_coordinates.append(new_row, ignore_index=True)\n"
     ]
    },
    {
     "name": "stdout",
     "output_type": "stream",
     "text": [
      "adding 41343922 41343929\n",
      "HERE 41344499 41345079\n",
      "adding 41345648 41346128\n"
     ]
    },
    {
     "name": "stderr",
     "output_type": "stream",
     "text": [
      "/tmp/ipykernel_3779053/2834357883.py:40: FutureWarning: The frame.append method is deprecated and will be removed from pandas in a future version. Use pandas.concat instead.\n",
      "  intron_coordinates = intron_coordinates.append(new_row, ignore_index=True)\n",
      "/tmp/ipykernel_3779053/2834357883.py:40: FutureWarning: The frame.append method is deprecated and will be removed from pandas in a future version. Use pandas.concat instead.\n",
      "  intron_coordinates = intron_coordinates.append(new_row, ignore_index=True)\n"
     ]
    },
    {
     "name": "stdout",
     "output_type": "stream",
     "text": [
      "adding 41346722 41346758\n",
      "adding 41347112 41347211\n",
      "HERE 41343451 41343929\n"
     ]
    },
    {
     "name": "stderr",
     "output_type": "stream",
     "text": [
      "/tmp/ipykernel_3779053/2834357883.py:40: FutureWarning: The frame.append method is deprecated and will be removed from pandas in a future version. Use pandas.concat instead.\n",
      "  intron_coordinates = intron_coordinates.append(new_row, ignore_index=True)\n",
      "/tmp/ipykernel_3779053/2834357883.py:40: FutureWarning: The frame.append method is deprecated and will be removed from pandas in a future version. Use pandas.concat instead.\n",
      "  intron_coordinates = intron_coordinates.append(new_row, ignore_index=True)\n"
     ]
    },
    {
     "name": "stdout",
     "output_type": "stream",
     "text": [
      "adding 41346722 41346758\n",
      "adding 41347112 41347211\n"
     ]
    },
    {
     "name": "stderr",
     "output_type": "stream",
     "text": [
      "/tmp/ipykernel_3779053/2834357883.py:40: FutureWarning: The frame.append method is deprecated and will be removed from pandas in a future version. Use pandas.concat instead.\n",
      "  intron_coordinates = intron_coordinates.append(new_row, ignore_index=True)\n",
      "/tmp/ipykernel_3779053/2834357883.py:40: FutureWarning: The frame.append method is deprecated and will be removed from pandas in a future version. Use pandas.concat instead.\n",
      "  intron_coordinates = intron_coordinates.append(new_row, ignore_index=True)\n"
     ]
    },
    {
     "name": "stdout",
     "output_type": "stream",
     "text": [
      "HERE 41347551 41347759\n",
      "adding 41336259 41337307\n",
      "HERE 41337565 41338935\n",
      "HERE 41339183 41341383\n",
      "HERE 41341716 41342394\n",
      "HERE 41334397 41337307\n",
      "HERE 41337565 41338935\n",
      "HERE 41339183 41341383\n"
     ]
    },
    {
     "name": "stderr",
     "output_type": "stream",
     "text": [
      "/tmp/ipykernel_3779053/2834357883.py:40: FutureWarning: The frame.append method is deprecated and will be removed from pandas in a future version. Use pandas.concat instead.\n",
      "  intron_coordinates = intron_coordinates.append(new_row, ignore_index=True)\n"
     ]
    },
    {
     "name": "stdout",
     "output_type": "stream",
     "text": [
      "adding 41341716 41341848\n",
      "adding 41345648 41346128\n"
     ]
    },
    {
     "name": "stderr",
     "output_type": "stream",
     "text": [
      "/tmp/ipykernel_3779053/2834357883.py:40: FutureWarning: The frame.append method is deprecated and will be removed from pandas in a future version. Use pandas.concat instead.\n",
      "  intron_coordinates = intron_coordinates.append(new_row, ignore_index=True)\n",
      "/tmp/ipykernel_3779053/2834357883.py:40: FutureWarning: The frame.append method is deprecated and will be removed from pandas in a future version. Use pandas.concat instead.\n",
      "  intron_coordinates = intron_coordinates.append(new_row, ignore_index=True)\n"
     ]
    },
    {
     "name": "stdout",
     "output_type": "stream",
     "text": [
      "adding 41346722 41346758\n",
      "adding 41347112 41347214\n"
     ]
    },
    {
     "name": "stderr",
     "output_type": "stream",
     "text": [
      "/tmp/ipykernel_3779053/2834357883.py:40: FutureWarning: The frame.append method is deprecated and will be removed from pandas in a future version. Use pandas.concat instead.\n",
      "  intron_coordinates = intron_coordinates.append(new_row, ignore_index=True)\n",
      "/tmp/ipykernel_3779053/2834357883.py:40: FutureWarning: The frame.append method is deprecated and will be removed from pandas in a future version. Use pandas.concat instead.\n",
      "  intron_coordinates = intron_coordinates.append(new_row, ignore_index=True)\n"
     ]
    },
    {
     "name": "stdout",
     "output_type": "stream",
     "text": [
      "HERE 41347551 41364173\n",
      "HERE 41334397 41337307\n",
      "HERE 41337565 41338935\n",
      "HERE 41339183 41341383\n",
      "HERE 41341716 41342394\n",
      "adding 41342936 41343115\n"
     ]
    },
    {
     "name": "stderr",
     "output_type": "stream",
     "text": [
      "/tmp/ipykernel_3779053/2834357883.py:40: FutureWarning: The frame.append method is deprecated and will be removed from pandas in a future version. Use pandas.concat instead.\n",
      "  intron_coordinates = intron_coordinates.append(new_row, ignore_index=True)\n",
      "/tmp/ipykernel_3779053/2834357883.py:40: FutureWarning: The frame.append method is deprecated and will be removed from pandas in a future version. Use pandas.concat instead.\n",
      "  intron_coordinates = intron_coordinates.append(new_row, ignore_index=True)\n"
     ]
    },
    {
     "name": "stdout",
     "output_type": "stream",
     "text": [
      "adding 41343451 41343636\n",
      "adding 41343922 41343929\n",
      "HERE 41344499 41345079\n"
     ]
    },
    {
     "name": "stderr",
     "output_type": "stream",
     "text": [
      "/tmp/ipykernel_3779053/2834357883.py:40: FutureWarning: The frame.append method is deprecated and will be removed from pandas in a future version. Use pandas.concat instead.\n",
      "  intron_coordinates = intron_coordinates.append(new_row, ignore_index=True)\n",
      "/tmp/ipykernel_3779053/2834357883.py:40: FutureWarning: The frame.append method is deprecated and will be removed from pandas in a future version. Use pandas.concat instead.\n",
      "  intron_coordinates = intron_coordinates.append(new_row, ignore_index=True)\n"
     ]
    },
    {
     "name": "stdout",
     "output_type": "stream",
     "text": [
      "adding 41345648 41346128\n",
      "adding 41346722 41346758\n"
     ]
    },
    {
     "name": "stderr",
     "output_type": "stream",
     "text": [
      "/tmp/ipykernel_3779053/2834357883.py:40: FutureWarning: The frame.append method is deprecated and will be removed from pandas in a future version. Use pandas.concat instead.\n",
      "  intron_coordinates = intron_coordinates.append(new_row, ignore_index=True)\n",
      "/tmp/ipykernel_3779053/2834357883.py:40: FutureWarning: The frame.append method is deprecated and will be removed from pandas in a future version. Use pandas.concat instead.\n",
      "  intron_coordinates = intron_coordinates.append(new_row, ignore_index=True)\n"
     ]
    },
    {
     "name": "stdout",
     "output_type": "stream",
     "text": [
      "adding 41347112 41347211\n",
      "HERE 41347551 41347759\n",
      "adding 41348015 41357732\n",
      "adding 41358100 41364173\n",
      "HERE 41334397 41337307\n",
      "HERE 41337565 41338935\n",
      "HERE 41339183 41341383\n",
      "HERE 41341716 41342394\n"
     ]
    },
    {
     "name": "stderr",
     "output_type": "stream",
     "text": [
      "/tmp/ipykernel_3779053/2834357883.py:40: FutureWarning: The frame.append method is deprecated and will be removed from pandas in a future version. Use pandas.concat instead.\n",
      "  intron_coordinates = intron_coordinates.append(new_row, ignore_index=True)\n",
      "/tmp/ipykernel_3779053/2834357883.py:40: FutureWarning: The frame.append method is deprecated and will be removed from pandas in a future version. Use pandas.concat instead.\n",
      "  intron_coordinates = intron_coordinates.append(new_row, ignore_index=True)\n"
     ]
    },
    {
     "name": "stdout",
     "output_type": "stream",
     "text": [
      "adding 41342936 41343115\n",
      "adding 41343451 41343636\n"
     ]
    },
    {
     "name": "stderr",
     "output_type": "stream",
     "text": [
      "/tmp/ipykernel_3779053/2834357883.py:40: FutureWarning: The frame.append method is deprecated and will be removed from pandas in a future version. Use pandas.concat instead.\n",
      "  intron_coordinates = intron_coordinates.append(new_row, ignore_index=True)\n",
      "/tmp/ipykernel_3779053/2834357883.py:40: FutureWarning: The frame.append method is deprecated and will be removed from pandas in a future version. Use pandas.concat instead.\n",
      "  intron_coordinates = intron_coordinates.append(new_row, ignore_index=True)\n"
     ]
    },
    {
     "name": "stdout",
     "output_type": "stream",
     "text": [
      "adding 41343922 41343929\n",
      "HERE 41344499 41345079\n",
      "adding 41345648 41346128\n"
     ]
    },
    {
     "name": "stderr",
     "output_type": "stream",
     "text": [
      "/tmp/ipykernel_3779053/2834357883.py:40: FutureWarning: The frame.append method is deprecated and will be removed from pandas in a future version. Use pandas.concat instead.\n",
      "  intron_coordinates = intron_coordinates.append(new_row, ignore_index=True)\n",
      "/tmp/ipykernel_3779053/2834357883.py:40: FutureWarning: The frame.append method is deprecated and will be removed from pandas in a future version. Use pandas.concat instead.\n",
      "  intron_coordinates = intron_coordinates.append(new_row, ignore_index=True)\n"
     ]
    },
    {
     "name": "stdout",
     "output_type": "stream",
     "text": [
      "adding 41346722 41346758\n",
      "adding 41347112 41347211\n"
     ]
    },
    {
     "name": "stderr",
     "output_type": "stream",
     "text": [
      "/tmp/ipykernel_3779053/2834357883.py:40: FutureWarning: The frame.append method is deprecated and will be removed from pandas in a future version. Use pandas.concat instead.\n",
      "  intron_coordinates = intron_coordinates.append(new_row, ignore_index=True)\n",
      "/tmp/ipykernel_3779053/2834357883.py:40: FutureWarning: The frame.append method is deprecated and will be removed from pandas in a future version. Use pandas.concat instead.\n",
      "  intron_coordinates = intron_coordinates.append(new_row, ignore_index=True)\n"
     ]
    },
    {
     "name": "stdout",
     "output_type": "stream",
     "text": [
      "HERE 41347551 41364173\n",
      "HERE 41334397 41337307\n",
      "HERE 41337565 41338935\n",
      "HERE 41339183 41341383\n",
      "HERE 41341716 41342394\n",
      "adding 41342936 41343115\n"
     ]
    },
    {
     "name": "stderr",
     "output_type": "stream",
     "text": [
      "/tmp/ipykernel_3779053/2834357883.py:40: FutureWarning: The frame.append method is deprecated and will be removed from pandas in a future version. Use pandas.concat instead.\n",
      "  intron_coordinates = intron_coordinates.append(new_row, ignore_index=True)\n",
      "/tmp/ipykernel_3779053/2834357883.py:40: FutureWarning: The frame.append method is deprecated and will be removed from pandas in a future version. Use pandas.concat instead.\n",
      "  intron_coordinates = intron_coordinates.append(new_row, ignore_index=True)\n"
     ]
    },
    {
     "name": "stdout",
     "output_type": "stream",
     "text": [
      "adding 41343451 41343636\n",
      "adding 41343922 41343929\n",
      "HERE 41344499 41345079\n"
     ]
    },
    {
     "name": "stderr",
     "output_type": "stream",
     "text": [
      "/tmp/ipykernel_3779053/2834357883.py:40: FutureWarning: The frame.append method is deprecated and will be removed from pandas in a future version. Use pandas.concat instead.\n",
      "  intron_coordinates = intron_coordinates.append(new_row, ignore_index=True)\n",
      "/tmp/ipykernel_3779053/2834357883.py:40: FutureWarning: The frame.append method is deprecated and will be removed from pandas in a future version. Use pandas.concat instead.\n",
      "  intron_coordinates = intron_coordinates.append(new_row, ignore_index=True)\n"
     ]
    },
    {
     "name": "stdout",
     "output_type": "stream",
     "text": [
      "adding 41345648 41346128\n",
      "adding 41346722 41346758\n"
     ]
    },
    {
     "name": "stderr",
     "output_type": "stream",
     "text": [
      "/tmp/ipykernel_3779053/2834357883.py:40: FutureWarning: The frame.append method is deprecated and will be removed from pandas in a future version. Use pandas.concat instead.\n",
      "  intron_coordinates = intron_coordinates.append(new_row, ignore_index=True)\n",
      "/tmp/ipykernel_3779053/2834357883.py:40: FutureWarning: The frame.append method is deprecated and will be removed from pandas in a future version. Use pandas.concat instead.\n",
      "  intron_coordinates = intron_coordinates.append(new_row, ignore_index=True)\n"
     ]
    },
    {
     "name": "stdout",
     "output_type": "stream",
     "text": [
      "adding 41347112 41347211\n",
      "HERE 41334397 41337307\n",
      "HERE 41337565 41338935\n",
      "HERE 41339183 41341383\n",
      "HERE 41341716 41342394\n",
      "adding 41342936 41343115\n",
      "adding 41343451 41343636\n"
     ]
    },
    {
     "name": "stderr",
     "output_type": "stream",
     "text": [
      "/tmp/ipykernel_3779053/2834357883.py:40: FutureWarning: The frame.append method is deprecated and will be removed from pandas in a future version. Use pandas.concat instead.\n",
      "  intron_coordinates = intron_coordinates.append(new_row, ignore_index=True)\n",
      "/tmp/ipykernel_3779053/2834357883.py:40: FutureWarning: The frame.append method is deprecated and will be removed from pandas in a future version. Use pandas.concat instead.\n",
      "  intron_coordinates = intron_coordinates.append(new_row, ignore_index=True)\n"
     ]
    },
    {
     "name": "stdout",
     "output_type": "stream",
     "text": [
      "adding 41343922 41343929\n",
      "HERE 41344499 41345079\n",
      "adding 41345648 41346128\n"
     ]
    },
    {
     "name": "stderr",
     "output_type": "stream",
     "text": [
      "/tmp/ipykernel_3779053/2834357883.py:40: FutureWarning: The frame.append method is deprecated and will be removed from pandas in a future version. Use pandas.concat instead.\n",
      "  intron_coordinates = intron_coordinates.append(new_row, ignore_index=True)\n",
      "/tmp/ipykernel_3779053/2834357883.py:40: FutureWarning: The frame.append method is deprecated and will be removed from pandas in a future version. Use pandas.concat instead.\n",
      "  intron_coordinates = intron_coordinates.append(new_row, ignore_index=True)\n"
     ]
    },
    {
     "name": "stdout",
     "output_type": "stream",
     "text": [
      "adding 41346722 41346758\n",
      "adding 41347112 41347211\n",
      "HERE 41334397 41337307\n",
      "HERE 41337565 41338935\n",
      "HERE 41339183 41341383\n"
     ]
    },
    {
     "name": "stderr",
     "output_type": "stream",
     "text": [
      "/tmp/ipykernel_3779053/2834357883.py:40: FutureWarning: The frame.append method is deprecated and will be removed from pandas in a future version. Use pandas.concat instead.\n",
      "  intron_coordinates = intron_coordinates.append(new_row, ignore_index=True)\n",
      "/tmp/ipykernel_3779053/2834357883.py:40: FutureWarning: The frame.append method is deprecated and will be removed from pandas in a future version. Use pandas.concat instead.\n",
      "  intron_coordinates = intron_coordinates.append(new_row, ignore_index=True)\n"
     ]
    },
    {
     "name": "stdout",
     "output_type": "stream",
     "text": [
      "HERE 41341716 41342394\n",
      "adding 41342936 41343115\n",
      "adding 41343451 41343636\n"
     ]
    },
    {
     "name": "stderr",
     "output_type": "stream",
     "text": [
      "/tmp/ipykernel_3779053/2834357883.py:40: FutureWarning: The frame.append method is deprecated and will be removed from pandas in a future version. Use pandas.concat instead.\n",
      "  intron_coordinates = intron_coordinates.append(new_row, ignore_index=True)\n",
      "/tmp/ipykernel_3779053/2834357883.py:40: FutureWarning: The frame.append method is deprecated and will be removed from pandas in a future version. Use pandas.concat instead.\n",
      "  intron_coordinates = intron_coordinates.append(new_row, ignore_index=True)\n"
     ]
    },
    {
     "name": "stdout",
     "output_type": "stream",
     "text": [
      "adding 41343922 41343929\n",
      "HERE 41344499 41345079\n",
      "adding 41345648 41346128\n"
     ]
    },
    {
     "name": "stderr",
     "output_type": "stream",
     "text": [
      "/tmp/ipykernel_3779053/2834357883.py:40: FutureWarning: The frame.append method is deprecated and will be removed from pandas in a future version. Use pandas.concat instead.\n",
      "  intron_coordinates = intron_coordinates.append(new_row, ignore_index=True)\n",
      "/tmp/ipykernel_3779053/2834357883.py:40: FutureWarning: The frame.append method is deprecated and will be removed from pandas in a future version. Use pandas.concat instead.\n",
      "  intron_coordinates = intron_coordinates.append(new_row, ignore_index=True)\n"
     ]
    },
    {
     "name": "stdout",
     "output_type": "stream",
     "text": [
      "adding 41346722 41346758\n",
      "adding 41347112 41347211\n",
      "HERE 41334397 41337307\n",
      "HERE 41337565 41338935\n",
      "HERE 41339183 41341383\n"
     ]
    },
    {
     "name": "stderr",
     "output_type": "stream",
     "text": [
      "/tmp/ipykernel_3779053/2834357883.py:40: FutureWarning: The frame.append method is deprecated and will be removed from pandas in a future version. Use pandas.concat instead.\n",
      "  intron_coordinates = intron_coordinates.append(new_row, ignore_index=True)\n",
      "/tmp/ipykernel_3779053/2834357883.py:40: FutureWarning: The frame.append method is deprecated and will be removed from pandas in a future version. Use pandas.concat instead.\n",
      "  intron_coordinates = intron_coordinates.append(new_row, ignore_index=True)\n"
     ]
    },
    {
     "name": "stdout",
     "output_type": "stream",
     "text": [
      "HERE 41341716 41342394\n",
      "adding 41342936 41343115\n",
      "adding 41343451 41343636\n"
     ]
    },
    {
     "name": "stderr",
     "output_type": "stream",
     "text": [
      "/tmp/ipykernel_3779053/2834357883.py:40: FutureWarning: The frame.append method is deprecated and will be removed from pandas in a future version. Use pandas.concat instead.\n",
      "  intron_coordinates = intron_coordinates.append(new_row, ignore_index=True)\n",
      "/tmp/ipykernel_3779053/2834357883.py:40: FutureWarning: The frame.append method is deprecated and will be removed from pandas in a future version. Use pandas.concat instead.\n",
      "  intron_coordinates = intron_coordinates.append(new_row, ignore_index=True)\n"
     ]
    },
    {
     "name": "stdout",
     "output_type": "stream",
     "text": [
      "adding 41343922 41343929\n",
      "HERE 41344499 41345079\n",
      "adding 41345648 41346128\n"
     ]
    },
    {
     "name": "stderr",
     "output_type": "stream",
     "text": [
      "/tmp/ipykernel_3779053/2834357883.py:40: FutureWarning: The frame.append method is deprecated and will be removed from pandas in a future version. Use pandas.concat instead.\n",
      "  intron_coordinates = intron_coordinates.append(new_row, ignore_index=True)\n",
      "/tmp/ipykernel_3779053/2834357883.py:40: FutureWarning: The frame.append method is deprecated and will be removed from pandas in a future version. Use pandas.concat instead.\n",
      "  intron_coordinates = intron_coordinates.append(new_row, ignore_index=True)\n"
     ]
    },
    {
     "name": "stdout",
     "output_type": "stream",
     "text": [
      "adding 41346722 41346758\n",
      "adding 41347112 41347211\n"
     ]
    },
    {
     "name": "stderr",
     "output_type": "stream",
     "text": [
      "/tmp/ipykernel_3779053/2834357883.py:40: FutureWarning: The frame.append method is deprecated and will be removed from pandas in a future version. Use pandas.concat instead.\n",
      "  intron_coordinates = intron_coordinates.append(new_row, ignore_index=True)\n",
      "/tmp/ipykernel_3779053/2834357883.py:40: FutureWarning: The frame.append method is deprecated and will be removed from pandas in a future version. Use pandas.concat instead.\n",
      "  intron_coordinates = intron_coordinates.append(new_row, ignore_index=True)\n"
     ]
    },
    {
     "name": "stdout",
     "output_type": "stream",
     "text": [
      "HERE 41347551 41357732\n",
      "HERE 41334397 41337307\n",
      "HERE 41337565 41338935\n",
      "HERE 41339183 41341383\n",
      "HERE 41341716 41342394\n",
      "adding 41342936 41343115\n"
     ]
    },
    {
     "name": "stderr",
     "output_type": "stream",
     "text": [
      "/tmp/ipykernel_3779053/2834357883.py:40: FutureWarning: The frame.append method is deprecated and will be removed from pandas in a future version. Use pandas.concat instead.\n",
      "  intron_coordinates = intron_coordinates.append(new_row, ignore_index=True)\n",
      "/tmp/ipykernel_3779053/2834357883.py:40: FutureWarning: The frame.append method is deprecated and will be removed from pandas in a future version. Use pandas.concat instead.\n",
      "  intron_coordinates = intron_coordinates.append(new_row, ignore_index=True)\n"
     ]
    },
    {
     "name": "stdout",
     "output_type": "stream",
     "text": [
      "adding 41343451 41343636\n",
      "adding 41343922 41343929\n",
      "HERE 41344499 41345079\n"
     ]
    },
    {
     "name": "stderr",
     "output_type": "stream",
     "text": [
      "/tmp/ipykernel_3779053/2834357883.py:40: FutureWarning: The frame.append method is deprecated and will be removed from pandas in a future version. Use pandas.concat instead.\n",
      "  intron_coordinates = intron_coordinates.append(new_row, ignore_index=True)\n",
      "/tmp/ipykernel_3779053/2834357883.py:40: FutureWarning: The frame.append method is deprecated and will be removed from pandas in a future version. Use pandas.concat instead.\n",
      "  intron_coordinates = intron_coordinates.append(new_row, ignore_index=True)\n"
     ]
    },
    {
     "name": "stdout",
     "output_type": "stream",
     "text": [
      "adding 41345648 41346128\n",
      "adding 41346722 41346758\n"
     ]
    },
    {
     "name": "stderr",
     "output_type": "stream",
     "text": [
      "/tmp/ipykernel_3779053/2834357883.py:40: FutureWarning: The frame.append method is deprecated and will be removed from pandas in a future version. Use pandas.concat instead.\n",
      "  intron_coordinates = intron_coordinates.append(new_row, ignore_index=True)\n",
      "/tmp/ipykernel_3779053/2834357883.py:40: FutureWarning: The frame.append method is deprecated and will be removed from pandas in a future version. Use pandas.concat instead.\n",
      "  intron_coordinates = intron_coordinates.append(new_row, ignore_index=True)\n"
     ]
    },
    {
     "name": "stdout",
     "output_type": "stream",
     "text": [
      "adding 41347112 41347211\n",
      "HERE 41347551 41357732\n",
      "adding 41343451 41343636\n",
      "adding 41343922 41343929\n",
      "HERE 41344499 41345079\n"
     ]
    },
    {
     "name": "stderr",
     "output_type": "stream",
     "text": [
      "/tmp/ipykernel_3779053/2834357883.py:40: FutureWarning: The frame.append method is deprecated and will be removed from pandas in a future version. Use pandas.concat instead.\n",
      "  intron_coordinates = intron_coordinates.append(new_row, ignore_index=True)\n",
      "/tmp/ipykernel_3779053/2834357883.py:40: FutureWarning: The frame.append method is deprecated and will be removed from pandas in a future version. Use pandas.concat instead.\n",
      "  intron_coordinates = intron_coordinates.append(new_row, ignore_index=True)\n"
     ]
    },
    {
     "name": "stdout",
     "output_type": "stream",
     "text": [
      "adding 41345648 41346128\n",
      "adding 41346722 41346758\n"
     ]
    },
    {
     "name": "stderr",
     "output_type": "stream",
     "text": [
      "/tmp/ipykernel_3779053/2834357883.py:40: FutureWarning: The frame.append method is deprecated and will be removed from pandas in a future version. Use pandas.concat instead.\n",
      "  intron_coordinates = intron_coordinates.append(new_row, ignore_index=True)\n",
      "/tmp/ipykernel_3779053/2834357883.py:40: FutureWarning: The frame.append method is deprecated and will be removed from pandas in a future version. Use pandas.concat instead.\n",
      "  intron_coordinates = intron_coordinates.append(new_row, ignore_index=True)\n"
     ]
    },
    {
     "name": "stdout",
     "output_type": "stream",
     "text": [
      "adding 41347112 41347211\n",
      "adding 41343451 41343636\n"
     ]
    },
    {
     "name": "stderr",
     "output_type": "stream",
     "text": [
      "/tmp/ipykernel_3779053/2834357883.py:40: FutureWarning: The frame.append method is deprecated and will be removed from pandas in a future version. Use pandas.concat instead.\n",
      "  intron_coordinates = intron_coordinates.append(new_row, ignore_index=True)\n",
      "/tmp/ipykernel_3779053/2834357883.py:40: FutureWarning: The frame.append method is deprecated and will be removed from pandas in a future version. Use pandas.concat instead.\n",
      "  intron_coordinates = intron_coordinates.append(new_row, ignore_index=True)\n"
     ]
    },
    {
     "name": "stdout",
     "output_type": "stream",
     "text": [
      "adding 41343922 41343929\n",
      "HERE 41344499 41345079\n",
      "adding 41345648 41346128\n"
     ]
    },
    {
     "name": "stderr",
     "output_type": "stream",
     "text": [
      "/tmp/ipykernel_3779053/2834357883.py:40: FutureWarning: The frame.append method is deprecated and will be removed from pandas in a future version. Use pandas.concat instead.\n",
      "  intron_coordinates = intron_coordinates.append(new_row, ignore_index=True)\n",
      "/tmp/ipykernel_3779053/2834357883.py:40: FutureWarning: The frame.append method is deprecated and will be removed from pandas in a future version. Use pandas.concat instead.\n",
      "  intron_coordinates = intron_coordinates.append(new_row, ignore_index=True)\n"
     ]
    },
    {
     "name": "stdout",
     "output_type": "stream",
     "text": [
      "adding 41346722 41346758\n",
      "adding 41347112 41347211\n",
      "HERE 41334397 41337307\n",
      "HERE 41337565 41338935\n",
      "HERE 41339183 41341383\n",
      "HERE 41341716 41342394\n"
     ]
    },
    {
     "name": "stderr",
     "output_type": "stream",
     "text": [
      "/tmp/ipykernel_3779053/2834357883.py:40: FutureWarning: The frame.append method is deprecated and will be removed from pandas in a future version. Use pandas.concat instead.\n",
      "  intron_coordinates = intron_coordinates.append(new_row, ignore_index=True)\n",
      "/tmp/ipykernel_3779053/2834357883.py:40: FutureWarning: The frame.append method is deprecated and will be removed from pandas in a future version. Use pandas.concat instead.\n",
      "  intron_coordinates = intron_coordinates.append(new_row, ignore_index=True)\n"
     ]
    },
    {
     "name": "stdout",
     "output_type": "stream",
     "text": [
      "HERE 41334397 41337307\n",
      "adding 41337565 41337590\n",
      "HERE 41334397 41337307\n",
      "HERE 41337565 41338935\n",
      "HERE 41339183 41341383\n",
      "HERE 41341716 41342394\n",
      "HERE 41342936 41343636\n"
     ]
    },
    {
     "name": "stderr",
     "output_type": "stream",
     "text": [
      "/tmp/ipykernel_3779053/2834357883.py:40: FutureWarning: The frame.append method is deprecated and will be removed from pandas in a future version. Use pandas.concat instead.\n",
      "  intron_coordinates = intron_coordinates.append(new_row, ignore_index=True)\n"
     ]
    },
    {
     "name": "stdout",
     "output_type": "stream",
     "text": [
      "adding 41336259 41337307\n",
      "HERE 41337565 41338935\n",
      "HERE 41339183 41341383\n",
      "HERE 41341716 41342394\n",
      "adding 41342936 41343115\n"
     ]
    },
    {
     "name": "stderr",
     "output_type": "stream",
     "text": [
      "/tmp/ipykernel_3779053/2834357883.py:40: FutureWarning: The frame.append method is deprecated and will be removed from pandas in a future version. Use pandas.concat instead.\n",
      "  intron_coordinates = intron_coordinates.append(new_row, ignore_index=True)\n",
      "/tmp/ipykernel_3779053/2834357883.py:40: FutureWarning: The frame.append method is deprecated and will be removed from pandas in a future version. Use pandas.concat instead.\n",
      "  intron_coordinates = intron_coordinates.append(new_row, ignore_index=True)\n"
     ]
    },
    {
     "name": "stdout",
     "output_type": "stream",
     "text": [
      "adding 41343451 41343636\n",
      "adding 41343922 41343929\n"
     ]
    },
    {
     "name": "stderr",
     "output_type": "stream",
     "text": [
      "/tmp/ipykernel_3779053/2834357883.py:40: FutureWarning: The frame.append method is deprecated and will be removed from pandas in a future version. Use pandas.concat instead.\n",
      "  intron_coordinates = intron_coordinates.append(new_row, ignore_index=True)\n",
      "/tmp/ipykernel_3779053/2834357883.py:40: FutureWarning: The frame.append method is deprecated and will be removed from pandas in a future version. Use pandas.concat instead.\n",
      "  intron_coordinates = intron_coordinates.append(new_row, ignore_index=True)\n"
     ]
    },
    {
     "name": "stdout",
     "output_type": "stream",
     "text": [
      "HERE 41344499 41345079\n",
      "adding 41345648 41346128\n",
      "adding 41346722 41346758\n"
     ]
    },
    {
     "name": "stderr",
     "output_type": "stream",
     "text": [
      "/tmp/ipykernel_3779053/2834357883.py:40: FutureWarning: The frame.append method is deprecated and will be removed from pandas in a future version. Use pandas.concat instead.\n",
      "  intron_coordinates = intron_coordinates.append(new_row, ignore_index=True)\n",
      "/tmp/ipykernel_3779053/2834357883.py:40: FutureWarning: The frame.append method is deprecated and will be removed from pandas in a future version. Use pandas.concat instead.\n",
      "  intron_coordinates = intron_coordinates.append(new_row, ignore_index=True)\n"
     ]
    },
    {
     "name": "stdout",
     "output_type": "stream",
     "text": [
      "adding 41347112 41347214\n",
      "HERE 41334397 41337307\n",
      "HERE 41337565 41338938\n",
      "HERE 41339183 41341383\n",
      "HERE 41341716 41342394\n",
      "adding 41342936 41343115\n"
     ]
    },
    {
     "name": "stderr",
     "output_type": "stream",
     "text": [
      "/tmp/ipykernel_3779053/2834357883.py:40: FutureWarning: The frame.append method is deprecated and will be removed from pandas in a future version. Use pandas.concat instead.\n",
      "  intron_coordinates = intron_coordinates.append(new_row, ignore_index=True)\n",
      "/tmp/ipykernel_3779053/2834357883.py:40: FutureWarning: The frame.append method is deprecated and will be removed from pandas in a future version. Use pandas.concat instead.\n",
      "  intron_coordinates = intron_coordinates.append(new_row, ignore_index=True)\n"
     ]
    },
    {
     "name": "stdout",
     "output_type": "stream",
     "text": [
      "adding 41343451 41343636\n",
      "adding 41343922 41343929\n",
      "HERE 41344499 41345079\n"
     ]
    },
    {
     "name": "stderr",
     "output_type": "stream",
     "text": [
      "/tmp/ipykernel_3779053/2834357883.py:40: FutureWarning: The frame.append method is deprecated and will be removed from pandas in a future version. Use pandas.concat instead.\n",
      "  intron_coordinates = intron_coordinates.append(new_row, ignore_index=True)\n",
      "/tmp/ipykernel_3779053/2834357883.py:40: FutureWarning: The frame.append method is deprecated and will be removed from pandas in a future version. Use pandas.concat instead.\n",
      "  intron_coordinates = intron_coordinates.append(new_row, ignore_index=True)\n"
     ]
    },
    {
     "name": "stdout",
     "output_type": "stream",
     "text": [
      "adding 41345648 41346128\n",
      "adding 41346722 41346758\n"
     ]
    },
    {
     "name": "stderr",
     "output_type": "stream",
     "text": [
      "/tmp/ipykernel_3779053/2834357883.py:40: FutureWarning: The frame.append method is deprecated and will be removed from pandas in a future version. Use pandas.concat instead.\n",
      "  intron_coordinates = intron_coordinates.append(new_row, ignore_index=True)\n",
      "/tmp/ipykernel_3779053/2834357883.py:40: FutureWarning: The frame.append method is deprecated and will be removed from pandas in a future version. Use pandas.concat instead.\n",
      "  intron_coordinates = intron_coordinates.append(new_row, ignore_index=True)\n"
     ]
    },
    {
     "name": "stdout",
     "output_type": "stream",
     "text": [
      "adding 41347112 41347214\n",
      "HERE 41334397 41337307\n",
      "HERE 41337565 41338938\n",
      "HERE 41339183 41341383\n",
      "HERE 41341716 41342394\n",
      "adding 41342936 41343115\n"
     ]
    },
    {
     "name": "stderr",
     "output_type": "stream",
     "text": [
      "/tmp/ipykernel_3779053/2834357883.py:40: FutureWarning: The frame.append method is deprecated and will be removed from pandas in a future version. Use pandas.concat instead.\n",
      "  intron_coordinates = intron_coordinates.append(new_row, ignore_index=True)\n",
      "/tmp/ipykernel_3779053/2834357883.py:40: FutureWarning: The frame.append method is deprecated and will be removed from pandas in a future version. Use pandas.concat instead.\n",
      "  intron_coordinates = intron_coordinates.append(new_row, ignore_index=True)\n"
     ]
    },
    {
     "name": "stdout",
     "output_type": "stream",
     "text": [
      "adding 41343451 41343636\n",
      "adding 41343922 41343929\n"
     ]
    },
    {
     "name": "stderr",
     "output_type": "stream",
     "text": [
      "/tmp/ipykernel_3779053/2834357883.py:40: FutureWarning: The frame.append method is deprecated and will be removed from pandas in a future version. Use pandas.concat instead.\n",
      "  intron_coordinates = intron_coordinates.append(new_row, ignore_index=True)\n",
      "/tmp/ipykernel_3779053/2834357883.py:40: FutureWarning: The frame.append method is deprecated and will be removed from pandas in a future version. Use pandas.concat instead.\n",
      "  intron_coordinates = intron_coordinates.append(new_row, ignore_index=True)\n"
     ]
    },
    {
     "name": "stdout",
     "output_type": "stream",
     "text": [
      "adding 41344664 41345079\n",
      "adding 41345648 41346128\n"
     ]
    },
    {
     "name": "stderr",
     "output_type": "stream",
     "text": [
      "/tmp/ipykernel_3779053/2834357883.py:40: FutureWarning: The frame.append method is deprecated and will be removed from pandas in a future version. Use pandas.concat instead.\n",
      "  intron_coordinates = intron_coordinates.append(new_row, ignore_index=True)\n",
      "/tmp/ipykernel_3779053/2834357883.py:40: FutureWarning: The frame.append method is deprecated and will be removed from pandas in a future version. Use pandas.concat instead.\n",
      "  intron_coordinates = intron_coordinates.append(new_row, ignore_index=True)\n"
     ]
    },
    {
     "name": "stdout",
     "output_type": "stream",
     "text": [
      "adding 41346722 41346758\n",
      "adding 41347112 41347211\n",
      "HERE 41334397 41337307\n",
      "HERE 41337565 41338935\n",
      "HERE 41339183 41341383\n",
      "HERE 41341716 41342394\n"
     ]
    },
    {
     "name": "stderr",
     "output_type": "stream",
     "text": [
      "/tmp/ipykernel_3779053/2834357883.py:40: FutureWarning: The frame.append method is deprecated and will be removed from pandas in a future version. Use pandas.concat instead.\n",
      "  intron_coordinates = intron_coordinates.append(new_row, ignore_index=True)\n",
      "/tmp/ipykernel_3779053/2834357883.py:40: FutureWarning: The frame.append method is deprecated and will be removed from pandas in a future version. Use pandas.concat instead.\n",
      "  intron_coordinates = intron_coordinates.append(new_row, ignore_index=True)\n"
     ]
    },
    {
     "name": "stdout",
     "output_type": "stream",
     "text": [
      "adding 41342936 41343115\n",
      "adding 41343451 41343636\n"
     ]
    },
    {
     "name": "stderr",
     "output_type": "stream",
     "text": [
      "/tmp/ipykernel_3779053/2834357883.py:40: FutureWarning: The frame.append method is deprecated and will be removed from pandas in a future version. Use pandas.concat instead.\n",
      "  intron_coordinates = intron_coordinates.append(new_row, ignore_index=True)\n",
      "/tmp/ipykernel_3779053/2834357883.py:40: FutureWarning: The frame.append method is deprecated and will be removed from pandas in a future version. Use pandas.concat instead.\n",
      "  intron_coordinates = intron_coordinates.append(new_row, ignore_index=True)\n"
     ]
    },
    {
     "name": "stdout",
     "output_type": "stream",
     "text": [
      "adding 41343922 41343929\n",
      "HERE 41344499 41345079\n",
      "adding 41345648 41346128\n"
     ]
    },
    {
     "name": "stderr",
     "output_type": "stream",
     "text": [
      "/tmp/ipykernel_3779053/2834357883.py:40: FutureWarning: The frame.append method is deprecated and will be removed from pandas in a future version. Use pandas.concat instead.\n",
      "  intron_coordinates = intron_coordinates.append(new_row, ignore_index=True)\n",
      "/tmp/ipykernel_3779053/2834357883.py:40: FutureWarning: The frame.append method is deprecated and will be removed from pandas in a future version. Use pandas.concat instead.\n",
      "  intron_coordinates = intron_coordinates.append(new_row, ignore_index=True)\n"
     ]
    },
    {
     "name": "stdout",
     "output_type": "stream",
     "text": [
      "adding 41346722 41346758\n",
      "adding 41347112 41347214\n"
     ]
    },
    {
     "name": "stderr",
     "output_type": "stream",
     "text": [
      "/tmp/ipykernel_3779053/2834357883.py:40: FutureWarning: The frame.append method is deprecated and will be removed from pandas in a future version. Use pandas.concat instead.\n",
      "  intron_coordinates = intron_coordinates.append(new_row, ignore_index=True)\n",
      "/tmp/ipykernel_3779053/2834357883.py:40: FutureWarning: The frame.append method is deprecated and will be removed from pandas in a future version. Use pandas.concat instead.\n",
      "  intron_coordinates = intron_coordinates.append(new_row, ignore_index=True)\n"
     ]
    },
    {
     "name": "stdout",
     "output_type": "stream",
     "text": [
      "adding 41340914 41341383\n",
      "HERE 41341716 41342394\n",
      "adding 41342936 41343115\n"
     ]
    },
    {
     "name": "stderr",
     "output_type": "stream",
     "text": [
      "/tmp/ipykernel_3779053/2834357883.py:40: FutureWarning: The frame.append method is deprecated and will be removed from pandas in a future version. Use pandas.concat instead.\n",
      "  intron_coordinates = intron_coordinates.append(new_row, ignore_index=True)\n",
      "/tmp/ipykernel_3779053/2834357883.py:40: FutureWarning: The frame.append method is deprecated and will be removed from pandas in a future version. Use pandas.concat instead.\n",
      "  intron_coordinates = intron_coordinates.append(new_row, ignore_index=True)\n"
     ]
    },
    {
     "name": "stdout",
     "output_type": "stream",
     "text": [
      "adding 41343451 41343636\n",
      "adding 41343922 41343929\n",
      "HERE 41344499 41345079\n"
     ]
    },
    {
     "name": "stderr",
     "output_type": "stream",
     "text": [
      "/tmp/ipykernel_3779053/2834357883.py:40: FutureWarning: The frame.append method is deprecated and will be removed from pandas in a future version. Use pandas.concat instead.\n",
      "  intron_coordinates = intron_coordinates.append(new_row, ignore_index=True)\n",
      "/tmp/ipykernel_3779053/2834357883.py:40: FutureWarning: The frame.append method is deprecated and will be removed from pandas in a future version. Use pandas.concat instead.\n",
      "  intron_coordinates = intron_coordinates.append(new_row, ignore_index=True)\n"
     ]
    },
    {
     "name": "stdout",
     "output_type": "stream",
     "text": [
      "adding 41345648 41346128\n",
      "adding 41346722 41346758\n"
     ]
    },
    {
     "name": "stderr",
     "output_type": "stream",
     "text": [
      "/tmp/ipykernel_3779053/2834357883.py:40: FutureWarning: The frame.append method is deprecated and will be removed from pandas in a future version. Use pandas.concat instead.\n",
      "  intron_coordinates = intron_coordinates.append(new_row, ignore_index=True)\n",
      "/tmp/ipykernel_3779053/2834357883.py:40: FutureWarning: The frame.append method is deprecated and will be removed from pandas in a future version. Use pandas.concat instead.\n",
      "  intron_coordinates = intron_coordinates.append(new_row, ignore_index=True)\n"
     ]
    },
    {
     "name": "stdout",
     "output_type": "stream",
     "text": [
      "adding 41347112 41347214\n",
      "HERE 41334397 41337307\n",
      "HERE 41337565 41338935\n",
      "HERE 41339183 41341383\n",
      "HERE 41341716 41342394\n",
      "adding 41342936 41343115\n"
     ]
    },
    {
     "name": "stderr",
     "output_type": "stream",
     "text": [
      "/tmp/ipykernel_3779053/2834357883.py:40: FutureWarning: The frame.append method is deprecated and will be removed from pandas in a future version. Use pandas.concat instead.\n",
      "  intron_coordinates = intron_coordinates.append(new_row, ignore_index=True)\n",
      "/tmp/ipykernel_3779053/2834357883.py:40: FutureWarning: The frame.append method is deprecated and will be removed from pandas in a future version. Use pandas.concat instead.\n",
      "  intron_coordinates = intron_coordinates.append(new_row, ignore_index=True)\n"
     ]
    },
    {
     "name": "stdout",
     "output_type": "stream",
     "text": [
      "adding 41343451 41343636\n",
      "adding 41343922 41343929\n"
     ]
    },
    {
     "name": "stderr",
     "output_type": "stream",
     "text": [
      "/tmp/ipykernel_3779053/2834357883.py:40: FutureWarning: The frame.append method is deprecated and will be removed from pandas in a future version. Use pandas.concat instead.\n",
      "  intron_coordinates = intron_coordinates.append(new_row, ignore_index=True)\n",
      "/tmp/ipykernel_3779053/2834357883.py:40: FutureWarning: The frame.append method is deprecated and will be removed from pandas in a future version. Use pandas.concat instead.\n",
      "  intron_coordinates = intron_coordinates.append(new_row, ignore_index=True)\n"
     ]
    },
    {
     "name": "stdout",
     "output_type": "stream",
     "text": [
      "HERE 41344499 41345079\n",
      "adding 41345648 41346128\n",
      "adding 41346722 41346758\n"
     ]
    },
    {
     "name": "stderr",
     "output_type": "stream",
     "text": [
      "/tmp/ipykernel_3779053/2834357883.py:40: FutureWarning: The frame.append method is deprecated and will be removed from pandas in a future version. Use pandas.concat instead.\n",
      "  intron_coordinates = intron_coordinates.append(new_row, ignore_index=True)\n",
      "/tmp/ipykernel_3779053/2834357883.py:40: FutureWarning: The frame.append method is deprecated and will be removed from pandas in a future version. Use pandas.concat instead.\n",
      "  intron_coordinates = intron_coordinates.append(new_row, ignore_index=True)\n"
     ]
    },
    {
     "name": "stdout",
     "output_type": "stream",
     "text": [
      "adding 41347112 41347211\n",
      "HERE 41334397 41337307\n",
      "adding 41337565 41337590\n",
      "HERE 41334397 41337307\n",
      "HERE 41337565 41338935\n",
      "HERE 41339183 41341383\n",
      "HERE 41341716 41342394\n"
     ]
    },
    {
     "name": "stderr",
     "output_type": "stream",
     "text": [
      "/tmp/ipykernel_3779053/2834357883.py:40: FutureWarning: The frame.append method is deprecated and will be removed from pandas in a future version. Use pandas.concat instead.\n",
      "  intron_coordinates = intron_coordinates.append(new_row, ignore_index=True)\n",
      "/tmp/ipykernel_3779053/2834357883.py:40: FutureWarning: The frame.append method is deprecated and will be removed from pandas in a future version. Use pandas.concat instead.\n",
      "  intron_coordinates = intron_coordinates.append(new_row, ignore_index=True)\n"
     ]
    },
    {
     "name": "stdout",
     "output_type": "stream",
     "text": [
      "adding 41342936 41343115\n",
      "adding 41343451 41343636\n"
     ]
    },
    {
     "name": "stderr",
     "output_type": "stream",
     "text": [
      "/tmp/ipykernel_3779053/2834357883.py:40: FutureWarning: The frame.append method is deprecated and will be removed from pandas in a future version. Use pandas.concat instead.\n",
      "  intron_coordinates = intron_coordinates.append(new_row, ignore_index=True)\n",
      "/tmp/ipykernel_3779053/2834357883.py:40: FutureWarning: The frame.append method is deprecated and will be removed from pandas in a future version. Use pandas.concat instead.\n",
      "  intron_coordinates = intron_coordinates.append(new_row, ignore_index=True)\n"
     ]
    },
    {
     "name": "stdout",
     "output_type": "stream",
     "text": [
      "adding 41343922 41343929\n",
      "HERE 41344499 41345079\n",
      "adding 41345648 41346128\n",
      "HERE 41334397 41337307"
     ]
    },
    {
     "name": "stderr",
     "output_type": "stream",
     "text": [
      "/tmp/ipykernel_3779053/2834357883.py:40: FutureWarning: The frame.append method is deprecated and will be removed from pandas in a future version. Use pandas.concat instead.\n",
      "  intron_coordinates = intron_coordinates.append(new_row, ignore_index=True)\n",
      "/tmp/ipykernel_3779053/2834357883.py:40: FutureWarning: The frame.append method is deprecated and will be removed from pandas in a future version. Use pandas.concat instead.\n",
      "  intron_coordinates = intron_coordinates.append(new_row, ignore_index=True)\n"
     ]
    },
    {
     "name": "stdout",
     "output_type": "stream",
     "text": [
      "\n",
      "adding 41337565 41337590\n",
      "adding 41340914 41341383\n"
     ]
    },
    {
     "name": "stderr",
     "output_type": "stream",
     "text": [
      "/tmp/ipykernel_3779053/2834357883.py:40: FutureWarning: The frame.append method is deprecated and will be removed from pandas in a future version. Use pandas.concat instead.\n",
      "  intron_coordinates = intron_coordinates.append(new_row, ignore_index=True)\n",
      "/tmp/ipykernel_3779053/2834357883.py:40: FutureWarning: The frame.append method is deprecated and will be removed from pandas in a future version. Use pandas.concat instead.\n",
      "  intron_coordinates = intron_coordinates.append(new_row, ignore_index=True)\n"
     ]
    },
    {
     "name": "stdout",
     "output_type": "stream",
     "text": [
      "HERE 41341716 41342394\n",
      "adding 41342936 41343115\n",
      "adding 41343451 41343636\n"
     ]
    },
    {
     "name": "stderr",
     "output_type": "stream",
     "text": [
      "/tmp/ipykernel_3779053/2834357883.py:40: FutureWarning: The frame.append method is deprecated and will be removed from pandas in a future version. Use pandas.concat instead.\n",
      "  intron_coordinates = intron_coordinates.append(new_row, ignore_index=True)\n",
      "/tmp/ipykernel_3779053/2834357883.py:40: FutureWarning: The frame.append method is deprecated and will be removed from pandas in a future version. Use pandas.concat instead.\n",
      "  intron_coordinates = intron_coordinates.append(new_row, ignore_index=True)\n"
     ]
    },
    {
     "name": "stdout",
     "output_type": "stream",
     "text": [
      "adding 41343922 41343929\n",
      "HERE 41344499 41345079\n",
      "adding 41345648 41346128\n"
     ]
    },
    {
     "name": "stderr",
     "output_type": "stream",
     "text": [
      "/tmp/ipykernel_3779053/2834357883.py:40: FutureWarning: The frame.append method is deprecated and will be removed from pandas in a future version. Use pandas.concat instead.\n",
      "  intron_coordinates = intron_coordinates.append(new_row, ignore_index=True)\n",
      "/tmp/ipykernel_3779053/2834357883.py:40: FutureWarning: The frame.append method is deprecated and will be removed from pandas in a future version. Use pandas.concat instead.\n",
      "  intron_coordinates = intron_coordinates.append(new_row, ignore_index=True)\n"
     ]
    },
    {
     "name": "stdout",
     "output_type": "stream",
     "text": [
      "adding 41346722 41346758\n",
      "adding 41347112 41347214\n",
      "HERE 41334397 41337307\n",
      "HERE 41337565 41338935\n",
      "HERE 41339183 41341383\n"
     ]
    },
    {
     "name": "stderr",
     "output_type": "stream",
     "text": [
      "/tmp/ipykernel_3779053/2834357883.py:40: FutureWarning: The frame.append method is deprecated and will be removed from pandas in a future version. Use pandas.concat instead.\n",
      "  intron_coordinates = intron_coordinates.append(new_row, ignore_index=True)\n",
      "/tmp/ipykernel_3779053/2834357883.py:40: FutureWarning: The frame.append method is deprecated and will be removed from pandas in a future version. Use pandas.concat instead.\n",
      "  intron_coordinates = intron_coordinates.append(new_row, ignore_index=True)\n"
     ]
    },
    {
     "name": "stdout",
     "output_type": "stream",
     "text": [
      "HERE 41341716 41342394\n",
      "adding 41342936 41343115\n",
      "adding 41343451 41343636\n"
     ]
    },
    {
     "name": "stderr",
     "output_type": "stream",
     "text": [
      "/tmp/ipykernel_3779053/2834357883.py:40: FutureWarning: The frame.append method is deprecated and will be removed from pandas in a future version. Use pandas.concat instead.\n",
      "  intron_coordinates = intron_coordinates.append(new_row, ignore_index=True)\n",
      "/tmp/ipykernel_3779053/2834357883.py:40: FutureWarning: The frame.append method is deprecated and will be removed from pandas in a future version. Use pandas.concat instead.\n",
      "  intron_coordinates = intron_coordinates.append(new_row, ignore_index=True)\n"
     ]
    },
    {
     "name": "stdout",
     "output_type": "stream",
     "text": [
      "adding 41343922 41343929\n",
      "HERE 41344499 41345079\n",
      "adding 41345648 41346128\n"
     ]
    },
    {
     "name": "stderr",
     "output_type": "stream",
     "text": [
      "/tmp/ipykernel_3779053/2834357883.py:40: FutureWarning: The frame.append method is deprecated and will be removed from pandas in a future version. Use pandas.concat instead.\n",
      "  intron_coordinates = intron_coordinates.append(new_row, ignore_index=True)\n",
      "/tmp/ipykernel_3779053/2834357883.py:40: FutureWarning: The frame.append method is deprecated and will be removed from pandas in a future version. Use pandas.concat instead.\n",
      "  intron_coordinates = intron_coordinates.append(new_row, ignore_index=True)\n"
     ]
    },
    {
     "name": "stdout",
     "output_type": "stream",
     "text": [
      "adding 41346722 41346758\n",
      "adding 41347112 41347211\n",
      "HERE 41334397 41337307\n",
      "HERE 41337565 41338935\n"
     ]
    },
    {
     "name": "stderr",
     "output_type": "stream",
     "text": [
      "/tmp/ipykernel_3779053/2834357883.py:40: FutureWarning: The frame.append method is deprecated and will be removed from pandas in a future version. Use pandas.concat instead.\n",
      "  intron_coordinates = intron_coordinates.append(new_row, ignore_index=True)\n",
      "/tmp/ipykernel_3779053/2834357883.py:40: FutureWarning: The frame.append method is deprecated and will be removed from pandas in a future version. Use pandas.concat instead.\n",
      "  intron_coordinates = intron_coordinates.append(new_row, ignore_index=True)\n"
     ]
    },
    {
     "name": "stdout",
     "output_type": "stream",
     "text": [
      "adding 41339183 41340535\n",
      "HERE 41334397 41337307\n",
      "HERE 41337565 41338935\n",
      "HERE 41339183 41341383\n",
      "HERE 41341716 41342394\n",
      "adding 41342936 41343115\n"
     ]
    },
    {
     "name": "stderr",
     "output_type": "stream",
     "text": [
      "/tmp/ipykernel_3779053/2834357883.py:40: FutureWarning: The frame.append method is deprecated and will be removed from pandas in a future version. Use pandas.concat instead.\n",
      "  intron_coordinates = intron_coordinates.append(new_row, ignore_index=True)\n",
      "/tmp/ipykernel_3779053/2834357883.py:40: FutureWarning: The frame.append method is deprecated and will be removed from pandas in a future version. Use pandas.concat instead.\n",
      "  intron_coordinates = intron_coordinates.append(new_row, ignore_index=True)\n"
     ]
    },
    {
     "name": "stdout",
     "output_type": "stream",
     "text": [
      "adding 41343451 41343636\n",
      "adding 41343922 41343929\n",
      "HERE 41344499 41345079\n"
     ]
    },
    {
     "name": "stderr",
     "output_type": "stream",
     "text": [
      "/tmp/ipykernel_3779053/2834357883.py:40: FutureWarning: The frame.append method is deprecated and will be removed from pandas in a future version. Use pandas.concat instead.\n",
      "  intron_coordinates = intron_coordinates.append(new_row, ignore_index=True)\n",
      "/tmp/ipykernel_3779053/2834357883.py:40: FutureWarning: The frame.append method is deprecated and will be removed from pandas in a future version. Use pandas.concat instead.\n",
      "  intron_coordinates = intron_coordinates.append(new_row, ignore_index=True)\n"
     ]
    },
    {
     "name": "stdout",
     "output_type": "stream",
     "text": [
      "adding 41345648 41346128\n",
      "adding 41346722 41346758\n"
     ]
    },
    {
     "name": "stderr",
     "output_type": "stream",
     "text": [
      "/tmp/ipykernel_3779053/2834357883.py:40: FutureWarning: The frame.append method is deprecated and will be removed from pandas in a future version. Use pandas.concat instead.\n",
      "  intron_coordinates = intron_coordinates.append(new_row, ignore_index=True)\n",
      "/tmp/ipykernel_3779053/2834357883.py:40: FutureWarning: The frame.append method is deprecated and will be removed from pandas in a future version. Use pandas.concat instead.\n",
      "  intron_coordinates = intron_coordinates.append(new_row, ignore_index=True)\n"
     ]
    },
    {
     "name": "stdout",
     "output_type": "stream",
     "text": [
      "adding 41347112 41347214\n",
      "adding 41343451 41343636\n"
     ]
    },
    {
     "name": "stderr",
     "output_type": "stream",
     "text": [
      "/tmp/ipykernel_3779053/2834357883.py:40: FutureWarning: The frame.append method is deprecated and will be removed from pandas in a future version. Use pandas.concat instead.\n",
      "  intron_coordinates = intron_coordinates.append(new_row, ignore_index=True)\n",
      "/tmp/ipykernel_3779053/2834357883.py:40: FutureWarning: The frame.append method is deprecated and will be removed from pandas in a future version. Use pandas.concat instead.\n",
      "  intron_coordinates = intron_coordinates.append(new_row, ignore_index=True)\n"
     ]
    },
    {
     "name": "stdout",
     "output_type": "stream",
     "text": [
      "adding 41343922 41343929\n",
      "HERE 41344499 41345079\n",
      "adding 41345648 41346128\n"
     ]
    },
    {
     "name": "stderr",
     "output_type": "stream",
     "text": [
      "/tmp/ipykernel_3779053/2834357883.py:40: FutureWarning: The frame.append method is deprecated and will be removed from pandas in a future version. Use pandas.concat instead.\n",
      "  intron_coordinates = intron_coordinates.append(new_row, ignore_index=True)\n",
      "/tmp/ipykernel_3779053/2834357883.py:40: FutureWarning: The frame.append method is deprecated and will be removed from pandas in a future version. Use pandas.concat instead.\n",
      "  intron_coordinates = intron_coordinates.append(new_row, ignore_index=True)\n"
     ]
    },
    {
     "name": "stdout",
     "output_type": "stream",
     "text": [
      "adding 41346722 41346758\n",
      "adding 41347112 41347211\n"
     ]
    },
    {
     "name": "stderr",
     "output_type": "stream",
     "text": [
      "/tmp/ipykernel_3779053/2834357883.py:40: FutureWarning: The frame.append method is deprecated and will be removed from pandas in a future version. Use pandas.concat instead.\n",
      "  intron_coordinates = intron_coordinates.append(new_row, ignore_index=True)\n",
      "/tmp/ipykernel_3779053/2834357883.py:40: FutureWarning: The frame.append method is deprecated and will be removed from pandas in a future version. Use pandas.concat instead.\n",
      "  intron_coordinates = intron_coordinates.append(new_row, ignore_index=True)\n"
     ]
    },
    {
     "name": "stdout",
     "output_type": "stream",
     "text": [
      "adding 41343451 41343636\n",
      "adding 41343922 41343929\n",
      "HERE 41344499 41345079\n"
     ]
    },
    {
     "name": "stderr",
     "output_type": "stream",
     "text": [
      "/tmp/ipykernel_3779053/2834357883.py:40: FutureWarning: The frame.append method is deprecated and will be removed from pandas in a future version. Use pandas.concat instead.\n",
      "  intron_coordinates = intron_coordinates.append(new_row, ignore_index=True)\n",
      "/tmp/ipykernel_3779053/2834357883.py:40: FutureWarning: The frame.append method is deprecated and will be removed from pandas in a future version. Use pandas.concat instead.\n",
      "  intron_coordinates = intron_coordinates.append(new_row, ignore_index=True)\n"
     ]
    },
    {
     "name": "stdout",
     "output_type": "stream",
     "text": [
      "adding 41345648 41346128\n",
      "adding 41346722 41346758\n"
     ]
    },
    {
     "name": "stderr",
     "output_type": "stream",
     "text": [
      "/tmp/ipykernel_3779053/2834357883.py:40: FutureWarning: The frame.append method is deprecated and will be removed from pandas in a future version. Use pandas.concat instead.\n",
      "  intron_coordinates = intron_coordinates.append(new_row, ignore_index=True)\n",
      "/tmp/ipykernel_3779053/2834357883.py:40: FutureWarning: The frame.append method is deprecated and will be removed from pandas in a future version. Use pandas.concat instead.\n",
      "  intron_coordinates = intron_coordinates.append(new_row, ignore_index=True)\n"
     ]
    },
    {
     "name": "stdout",
     "output_type": "stream",
     "text": [
      "adding 41347112 41347214\n",
      "adding 41342936 41343188\n",
      "        Chromosome  Source Feature     Start       End Score Strand Frame  \\\n",
      "2897709       chrY  havana     CDS  12709447  12709543     .      +     0   \n",
      "2897712       chrY  havana     CDS  12720588  12720737     .      +     0   \n",
      "2897714       chrY  havana     CDS  12722107  12722187     .      +     1   \n",
      "2897716       chrY  havana     CDS  12725112  12725225     .      +     2   \n",
      "2897718       chrY  havana     CDS  12726574  12726793     .      +     0   \n",
      "...            ...     ...     ...       ...       ...   ...    ...   ...   \n",
      "2897957       chrY  havana     CDS  12847044  12847153     .      +     2   \n",
      "2897959       chrY  havana     CDS  12856339  12856496     .      +     1   \n",
      "2897961       chrY  havana     CDS  12856632  12856845     .      +     0   \n",
      "2897963       chrY  havana     CDS  12857565  12857661     .      +     0   \n",
      "2897965       chrY  havana     CDS  12859278  12859413     .      +     0   \n",
      "\n",
      "                 gene_id gene_version  ...            tag  \\\n",
      "2897709  ENSG00000114374           13  ...          basic   \n",
      "2897712  ENSG00000114374           13  ...          basic   \n",
      "2897714  ENSG00000114374           13  ...          basic   \n",
      "2897716  ENSG00000114374           13  ...          basic   \n",
      "2897718  ENSG00000114374           13  ...          basic   \n",
      "...                  ...          ...  ...            ...   \n",
      "2897957  ENSG00000114374           13  ...  mRNA_start_NF   \n",
      "2897959  ENSG00000114374           13  ...  mRNA_start_NF   \n",
      "2897961  ENSG00000114374           13  ...  mRNA_start_NF   \n",
      "2897963  ENSG00000114374           13  ...  mRNA_start_NF   \n",
      "2897965  ENSG00000114374           13  ...  mRNA_start_NF   \n",
      "\n",
      "        transcript_support_level exon_number exon_id exon_version (assigned  \\\n",
      "2897709                      NaN           5     NaN          NaN       NaN   \n",
      "2897712                      NaN           6     NaN          NaN       NaN   \n",
      "2897714                      NaN           7     NaN          NaN       NaN   \n",
      "2897716                      NaN           8     NaN          NaN       NaN   \n",
      "2897718                      NaN           9     NaN          NaN       NaN   \n",
      "...                          ...         ...     ...          ...       ...   \n",
      "2897957                        3           1     NaN          NaN       NaN   \n",
      "2897959                        3           2     NaN          NaN       NaN   \n",
      "2897961                        3           3     NaN          NaN       NaN   \n",
      "2897963                        3           4     NaN          NaN       NaN   \n",
      "2897965                        3           5     NaN          NaN       NaN   \n",
      "\n",
      "        previous       protein_id protein_version    ccds_id  \n",
      "2897709      NaN  ENSP00000498372               1  CCDS14781  \n",
      "2897712      NaN  ENSP00000498372               1  CCDS14781  \n",
      "2897714      NaN  ENSP00000498372               1  CCDS14781  \n",
      "2897716      NaN  ENSP00000498372               1  CCDS14781  \n",
      "2897718      NaN  ENSP00000498372               1  CCDS14781  \n",
      "...          ...              ...             ...        ...  \n",
      "2897957      NaN  ENSP00000406876               1        NaN  \n",
      "2897959      NaN  ENSP00000406876               1        NaN  \n",
      "2897961      NaN  ENSP00000406876               1        NaN  \n",
      "2897963      NaN  ENSP00000406876               1        NaN  \n",
      "2897965      NaN  ENSP00000406876               1        NaN  \n",
      "\n",
      "[93 rows x 28 columns]\n",
      "<pandas.core.groupby.generic.DataFrameGroupBy object at 0x7f00ef1f7790>\n",
      "adding 12709643 12720488\n"
     ]
    },
    {
     "name": "stderr",
     "output_type": "stream",
     "text": [
      "/tmp/ipykernel_3779053/2834357883.py:40: FutureWarning: The frame.append method is deprecated and will be removed from pandas in a future version. Use pandas.concat instead.\n",
      "  intron_coordinates = intron_coordinates.append(new_row, ignore_index=True)\n",
      "/tmp/ipykernel_3779053/2834357883.py:40: FutureWarning: The frame.append method is deprecated and will be removed from pandas in a future version. Use pandas.concat instead.\n",
      "  intron_coordinates = intron_coordinates.append(new_row, ignore_index=True)\n",
      "/tmp/ipykernel_3779053/2834357883.py:40: FutureWarning: The frame.append method is deprecated and will be removed from pandas in a future version. Use pandas.concat instead.\n",
      "  intron_coordinates = intron_coordinates.append(new_row, ignore_index=True)\n",
      "/tmp/ipykernel_3779053/2834357883.py:40: FutureWarning: The frame.append method is deprecated and will be removed from pandas in a future version. Use pandas.concat instead.\n",
      "  intron_coordinates = intron_coordinates.append(new_row, ignore_index=True)\n"
     ]
    },
    {
     "name": "stdout",
     "output_type": "stream",
     "text": [
      "adding 12720837 12722007\n",
      "adding 12722287 12725012\n",
      "adding 12725325 12726474\n",
      "adding 12726893 12735511\n",
      "adding 12735827 12735897\n",
      "adding 12736649 12738056\n",
      "adding 12738409 12739424\n"
     ]
    },
    {
     "name": "stderr",
     "output_type": "stream",
     "text": [
      "/tmp/ipykernel_3779053/2834357883.py:40: FutureWarning: The frame.append method is deprecated and will be removed from pandas in a future version. Use pandas.concat instead.\n",
      "  intron_coordinates = intron_coordinates.append(new_row, ignore_index=True)\n",
      "/tmp/ipykernel_3779053/2834357883.py:40: FutureWarning: The frame.append method is deprecated and will be removed from pandas in a future version. Use pandas.concat instead.\n",
      "  intron_coordinates = intron_coordinates.append(new_row, ignore_index=True)\n",
      "/tmp/ipykernel_3779053/2834357883.py:40: FutureWarning: The frame.append method is deprecated and will be removed from pandas in a future version. Use pandas.concat instead.\n",
      "  intron_coordinates = intron_coordinates.append(new_row, ignore_index=True)\n",
      "/tmp/ipykernel_3779053/2834357883.py:40: FutureWarning: The frame.append method is deprecated and will be removed from pandas in a future version. Use pandas.concat instead.\n",
      "  intron_coordinates = intron_coordinates.append(new_row, ignore_index=True)\n",
      "/tmp/ipykernel_3779053/2834357883.py:40: FutureWarning: The frame.append method is deprecated and will be removed from pandas in a future version. Use pandas.concat instead.\n",
      "  intron_coordinates = intron_coordinates.append(new_row, ignore_index=True)\n",
      "/tmp/ipykernel_3779053/2834357883.py:40: FutureWarning: The frame.append method is deprecated and will be removed from pandas in a future version. Use pandas.concat instead.\n",
      "  intron_coordinates = intron_coordinates.append(new_row, ignore_index=True)\n",
      "/tmp/ipykernel_3779053/2834357883.py:40: FutureWarning: The frame.append method is deprecated and will be removed from pandas in a future version. Use pandas.concat instead.\n",
      "  intron_coordinates = intron_coordinates.append(new_row, ignore_index=True)\n"
     ]
    },
    {
     "name": "stdout",
     "output_type": "stream",
     "text": [
      "adding 12739729 12757091\n",
      "adding 12757498 12758405\n",
      "adding 12758742 12760383\n",
      "adding 12760717 12770967\n",
      "adding 12771255 12773482\n",
      "adding 12774025 12775370\n",
      "adding 12775666 12776548\n"
     ]
    },
    {
     "name": "stderr",
     "output_type": "stream",
     "text": [
      "/tmp/ipykernel_3779053/2834357883.py:40: FutureWarning: The frame.append method is deprecated and will be removed from pandas in a future version. Use pandas.concat instead.\n",
      "  intron_coordinates = intron_coordinates.append(new_row, ignore_index=True)\n",
      "/tmp/ipykernel_3779053/2834357883.py:40: FutureWarning: The frame.append method is deprecated and will be removed from pandas in a future version. Use pandas.concat instead.\n",
      "  intron_coordinates = intron_coordinates.append(new_row, ignore_index=True)\n",
      "/tmp/ipykernel_3779053/2834357883.py:40: FutureWarning: The frame.append method is deprecated and will be removed from pandas in a future version. Use pandas.concat instead.\n",
      "  intron_coordinates = intron_coordinates.append(new_row, ignore_index=True)\n",
      "/tmp/ipykernel_3779053/2834357883.py:40: FutureWarning: The frame.append method is deprecated and will be removed from pandas in a future version. Use pandas.concat instead.\n",
      "  intron_coordinates = intron_coordinates.append(new_row, ignore_index=True)\n",
      "/tmp/ipykernel_3779053/2834357883.py:40: FutureWarning: The frame.append method is deprecated and will be removed from pandas in a future version. Use pandas.concat instead.\n",
      "  intron_coordinates = intron_coordinates.append(new_row, ignore_index=True)\n",
      "/tmp/ipykernel_3779053/2834357883.py:40: FutureWarning: The frame.append method is deprecated and will be removed from pandas in a future version. Use pandas.concat instead.\n",
      "  intron_coordinates = intron_coordinates.append(new_row, ignore_index=True)\n",
      "/tmp/ipykernel_3779053/2834357883.py:40: FutureWarning: The frame.append method is deprecated and will be removed from pandas in a future version. Use pandas.concat instead.\n",
      "  intron_coordinates = intron_coordinates.append(new_row, ignore_index=True)\n"
     ]
    },
    {
     "name": "stdout",
     "output_type": "stream",
     "text": [
      "adding 12776960 12777918\n",
      "adding 12778359 12778505\n",
      "adding 12778855 12779425\n",
      "adding 12779746 12786102\n",
      "adding 12786900 12790306\n",
      "adding 12790632 12791398\n",
      "adding 12791724 12792931\n"
     ]
    },
    {
     "name": "stderr",
     "output_type": "stream",
     "text": [
      "/tmp/ipykernel_3779053/2834357883.py:40: FutureWarning: The frame.append method is deprecated and will be removed from pandas in a future version. Use pandas.concat instead.\n",
      "  intron_coordinates = intron_coordinates.append(new_row, ignore_index=True)\n",
      "/tmp/ipykernel_3779053/2834357883.py:40: FutureWarning: The frame.append method is deprecated and will be removed from pandas in a future version. Use pandas.concat instead.\n",
      "  intron_coordinates = intron_coordinates.append(new_row, ignore_index=True)\n",
      "/tmp/ipykernel_3779053/2834357883.py:40: FutureWarning: The frame.append method is deprecated and will be removed from pandas in a future version. Use pandas.concat instead.\n",
      "  intron_coordinates = intron_coordinates.append(new_row, ignore_index=True)\n",
      "/tmp/ipykernel_3779053/2834357883.py:40: FutureWarning: The frame.append method is deprecated and will be removed from pandas in a future version. Use pandas.concat instead.\n",
      "  intron_coordinates = intron_coordinates.append(new_row, ignore_index=True)\n",
      "/tmp/ipykernel_3779053/2834357883.py:40: FutureWarning: The frame.append method is deprecated and will be removed from pandas in a future version. Use pandas.concat instead.\n",
      "  intron_coordinates = intron_coordinates.append(new_row, ignore_index=True)\n",
      "/tmp/ipykernel_3779053/2834357883.py:40: FutureWarning: The frame.append method is deprecated and will be removed from pandas in a future version. Use pandas.concat instead.\n",
      "  intron_coordinates = intron_coordinates.append(new_row, ignore_index=True)\n",
      "/tmp/ipykernel_3779053/2834357883.py:40: FutureWarning: The frame.append method is deprecated and will be removed from pandas in a future version. Use pandas.concat instead.\n",
      "  intron_coordinates = intron_coordinates.append(new_row, ignore_index=True)\n"
     ]
    },
    {
     "name": "stdout",
     "output_type": "stream",
     "text": [
      "adding 12793301 12810078\n",
      "adding 12810387 12810571\n",
      "adding 12810918 12811534\n",
      "adding 12811881 12812729\n",
      "adding 12813152 12816023\n",
      "adding 12816444 12818319\n",
      "adding 12818710 12833587\n"
     ]
    },
    {
     "name": "stderr",
     "output_type": "stream",
     "text": [
      "/tmp/ipykernel_3779053/2834357883.py:40: FutureWarning: The frame.append method is deprecated and will be removed from pandas in a future version. Use pandas.concat instead.\n",
      "  intron_coordinates = intron_coordinates.append(new_row, ignore_index=True)\n",
      "/tmp/ipykernel_3779053/2834357883.py:40: FutureWarning: The frame.append method is deprecated and will be removed from pandas in a future version. Use pandas.concat instead.\n",
      "  intron_coordinates = intron_coordinates.append(new_row, ignore_index=True)\n",
      "/tmp/ipykernel_3779053/2834357883.py:40: FutureWarning: The frame.append method is deprecated and will be removed from pandas in a future version. Use pandas.concat instead.\n",
      "  intron_coordinates = intron_coordinates.append(new_row, ignore_index=True)\n",
      "/tmp/ipykernel_3779053/2834357883.py:40: FutureWarning: The frame.append method is deprecated and will be removed from pandas in a future version. Use pandas.concat instead.\n",
      "  intron_coordinates = intron_coordinates.append(new_row, ignore_index=True)\n",
      "/tmp/ipykernel_3779053/2834357883.py:40: FutureWarning: The frame.append method is deprecated and will be removed from pandas in a future version. Use pandas.concat instead.\n",
      "  intron_coordinates = intron_coordinates.append(new_row, ignore_index=True)\n",
      "/tmp/ipykernel_3779053/2834357883.py:40: FutureWarning: The frame.append method is deprecated and will be removed from pandas in a future version. Use pandas.concat instead.\n",
      "  intron_coordinates = intron_coordinates.append(new_row, ignore_index=True)\n",
      "/tmp/ipykernel_3779053/2834357883.py:40: FutureWarning: The frame.append method is deprecated and will be removed from pandas in a future version. Use pandas.concat instead.\n",
      "  intron_coordinates = intron_coordinates.append(new_row, ignore_index=True)\n"
     ]
    },
    {
     "name": "stdout",
     "output_type": "stream",
     "text": [
      "adding 12833961 12837810\n",
      "adding 12838152 12839763\n",
      "adding 12840714 12840909\n",
      "adding 12841233 12842139\n",
      "adding 12842565 12842963\n",
      "adding 12843293 12846232\n",
      "adding 12846618 12846832\n"
     ]
    },
    {
     "name": "stderr",
     "output_type": "stream",
     "text": [
      "/tmp/ipykernel_3779053/2834357883.py:40: FutureWarning: The frame.append method is deprecated and will be removed from pandas in a future version. Use pandas.concat instead.\n",
      "  intron_coordinates = intron_coordinates.append(new_row, ignore_index=True)\n",
      "/tmp/ipykernel_3779053/2834357883.py:40: FutureWarning: The frame.append method is deprecated and will be removed from pandas in a future version. Use pandas.concat instead.\n",
      "  intron_coordinates = intron_coordinates.append(new_row, ignore_index=True)\n",
      "/tmp/ipykernel_3779053/2834357883.py:40: FutureWarning: The frame.append method is deprecated and will be removed from pandas in a future version. Use pandas.concat instead.\n",
      "  intron_coordinates = intron_coordinates.append(new_row, ignore_index=True)\n",
      "/tmp/ipykernel_3779053/2834357883.py:40: FutureWarning: The frame.append method is deprecated and will be removed from pandas in a future version. Use pandas.concat instead.\n",
      "  intron_coordinates = intron_coordinates.append(new_row, ignore_index=True)\n",
      "/tmp/ipykernel_3779053/2834357883.py:40: FutureWarning: The frame.append method is deprecated and will be removed from pandas in a future version. Use pandas.concat instead.\n",
      "  intron_coordinates = intron_coordinates.append(new_row, ignore_index=True)\n",
      "/tmp/ipykernel_3779053/2834357883.py:40: FutureWarning: The frame.append method is deprecated and will be removed from pandas in a future version. Use pandas.concat instead.\n",
      "  intron_coordinates = intron_coordinates.append(new_row, ignore_index=True)\n",
      "/tmp/ipykernel_3779053/2834357883.py:40: FutureWarning: The frame.append method is deprecated and will be removed from pandas in a future version. Use pandas.concat instead.\n",
      "  intron_coordinates = intron_coordinates.append(new_row, ignore_index=True)\n"
     ]
    },
    {
     "name": "stdout",
     "output_type": "stream",
     "text": [
      "adding 12847427 12856239\n",
      "adding 12856945 12857465\n",
      "adding 12857761 12859178\n",
      "HERE 12847253 12856239\n",
      "adding 12856945 12857465\n",
      "adding 12857761 12859178\n",
      "adding 12709643 12720488\n"
     ]
    },
    {
     "name": "stderr",
     "output_type": "stream",
     "text": [
      "/tmp/ipykernel_3779053/2834357883.py:40: FutureWarning: The frame.append method is deprecated and will be removed from pandas in a future version. Use pandas.concat instead.\n",
      "  intron_coordinates = intron_coordinates.append(new_row, ignore_index=True)\n",
      "/tmp/ipykernel_3779053/2834357883.py:40: FutureWarning: The frame.append method is deprecated and will be removed from pandas in a future version. Use pandas.concat instead.\n",
      "  intron_coordinates = intron_coordinates.append(new_row, ignore_index=True)\n",
      "/tmp/ipykernel_3779053/2834357883.py:40: FutureWarning: The frame.append method is deprecated and will be removed from pandas in a future version. Use pandas.concat instead.\n",
      "  intron_coordinates = intron_coordinates.append(new_row, ignore_index=True)\n",
      "/tmp/ipykernel_3779053/2834357883.py:40: FutureWarning: The frame.append method is deprecated and will be removed from pandas in a future version. Use pandas.concat instead.\n",
      "  intron_coordinates = intron_coordinates.append(new_row, ignore_index=True)\n",
      "/tmp/ipykernel_3779053/2834357883.py:40: FutureWarning: The frame.append method is deprecated and will be removed from pandas in a future version. Use pandas.concat instead.\n",
      "  intron_coordinates = intron_coordinates.append(new_row, ignore_index=True)\n",
      "/tmp/ipykernel_3779053/2834357883.py:40: FutureWarning: The frame.append method is deprecated and will be removed from pandas in a future version. Use pandas.concat instead.\n",
      "  intron_coordinates = intron_coordinates.append(new_row, ignore_index=True)\n"
     ]
    },
    {
     "name": "stdout",
     "output_type": "stream",
     "text": [
      "adding 12720837 12722007\n",
      "adding 12722287 12725012\n",
      "adding 12725325 12726474\n",
      "adding 12726893 12735511\n",
      "adding 12735827 12735897\n",
      "adding 12736649 12738056\n",
      "adding 12738409 12739424\n"
     ]
    },
    {
     "name": "stderr",
     "output_type": "stream",
     "text": [
      "/tmp/ipykernel_3779053/2834357883.py:40: FutureWarning: The frame.append method is deprecated and will be removed from pandas in a future version. Use pandas.concat instead.\n",
      "  intron_coordinates = intron_coordinates.append(new_row, ignore_index=True)\n",
      "/tmp/ipykernel_3779053/2834357883.py:40: FutureWarning: The frame.append method is deprecated and will be removed from pandas in a future version. Use pandas.concat instead.\n",
      "  intron_coordinates = intron_coordinates.append(new_row, ignore_index=True)\n",
      "/tmp/ipykernel_3779053/2834357883.py:40: FutureWarning: The frame.append method is deprecated and will be removed from pandas in a future version. Use pandas.concat instead.\n",
      "  intron_coordinates = intron_coordinates.append(new_row, ignore_index=True)\n",
      "/tmp/ipykernel_3779053/2834357883.py:40: FutureWarning: The frame.append method is deprecated and will be removed from pandas in a future version. Use pandas.concat instead.\n",
      "  intron_coordinates = intron_coordinates.append(new_row, ignore_index=True)\n",
      "/tmp/ipykernel_3779053/2834357883.py:40: FutureWarning: The frame.append method is deprecated and will be removed from pandas in a future version. Use pandas.concat instead.\n",
      "  intron_coordinates = intron_coordinates.append(new_row, ignore_index=True)\n",
      "/tmp/ipykernel_3779053/2834357883.py:40: FutureWarning: The frame.append method is deprecated and will be removed from pandas in a future version. Use pandas.concat instead.\n",
      "  intron_coordinates = intron_coordinates.append(new_row, ignore_index=True)\n",
      "/tmp/ipykernel_3779053/2834357883.py:40: FutureWarning: The frame.append method is deprecated and will be removed from pandas in a future version. Use pandas.concat instead.\n",
      "  intron_coordinates = intron_coordinates.append(new_row, ignore_index=True)\n"
     ]
    },
    {
     "name": "stdout",
     "output_type": "stream",
     "text": [
      "adding 12739729 12757091\n",
      "adding 12757498 12758405\n",
      "adding 12758742 12760383\n",
      "adding 12760717 12770967\n",
      "adding 12771255 12773482\n",
      "adding 12774025 12775370\n",
      "adding 12775666 12776548\n"
     ]
    },
    {
     "name": "stderr",
     "output_type": "stream",
     "text": [
      "/tmp/ipykernel_3779053/2834357883.py:40: FutureWarning: The frame.append method is deprecated and will be removed from pandas in a future version. Use pandas.concat instead.\n",
      "  intron_coordinates = intron_coordinates.append(new_row, ignore_index=True)\n",
      "/tmp/ipykernel_3779053/2834357883.py:40: FutureWarning: The frame.append method is deprecated and will be removed from pandas in a future version. Use pandas.concat instead.\n",
      "  intron_coordinates = intron_coordinates.append(new_row, ignore_index=True)\n",
      "/tmp/ipykernel_3779053/2834357883.py:40: FutureWarning: The frame.append method is deprecated and will be removed from pandas in a future version. Use pandas.concat instead.\n",
      "  intron_coordinates = intron_coordinates.append(new_row, ignore_index=True)\n",
      "/tmp/ipykernel_3779053/2834357883.py:40: FutureWarning: The frame.append method is deprecated and will be removed from pandas in a future version. Use pandas.concat instead.\n",
      "  intron_coordinates = intron_coordinates.append(new_row, ignore_index=True)\n",
      "/tmp/ipykernel_3779053/2834357883.py:40: FutureWarning: The frame.append method is deprecated and will be removed from pandas in a future version. Use pandas.concat instead.\n",
      "  intron_coordinates = intron_coordinates.append(new_row, ignore_index=True)\n",
      "/tmp/ipykernel_3779053/2834357883.py:40: FutureWarning: The frame.append method is deprecated and will be removed from pandas in a future version. Use pandas.concat instead.\n",
      "  intron_coordinates = intron_coordinates.append(new_row, ignore_index=True)\n",
      "/tmp/ipykernel_3779053/2834357883.py:40: FutureWarning: The frame.append method is deprecated and will be removed from pandas in a future version. Use pandas.concat instead.\n",
      "  intron_coordinates = intron_coordinates.append(new_row, ignore_index=True)\n"
     ]
    },
    {
     "name": "stdout",
     "output_type": "stream",
     "text": [
      "adding 12776960 12777918\n",
      "adding 12778359 12778505\n",
      "adding 12778855 12779425\n",
      "adding 12779746 12786102\n",
      "adding 12786900 12790306\n",
      "adding 12790632 12791398\n",
      "adding 12791724 12792931\n"
     ]
    },
    {
     "name": "stderr",
     "output_type": "stream",
     "text": [
      "/tmp/ipykernel_3779053/2834357883.py:40: FutureWarning: The frame.append method is deprecated and will be removed from pandas in a future version. Use pandas.concat instead.\n",
      "  intron_coordinates = intron_coordinates.append(new_row, ignore_index=True)\n",
      "/tmp/ipykernel_3779053/2834357883.py:40: FutureWarning: The frame.append method is deprecated and will be removed from pandas in a future version. Use pandas.concat instead.\n",
      "  intron_coordinates = intron_coordinates.append(new_row, ignore_index=True)\n",
      "/tmp/ipykernel_3779053/2834357883.py:40: FutureWarning: The frame.append method is deprecated and will be removed from pandas in a future version. Use pandas.concat instead.\n",
      "  intron_coordinates = intron_coordinates.append(new_row, ignore_index=True)\n",
      "/tmp/ipykernel_3779053/2834357883.py:40: FutureWarning: The frame.append method is deprecated and will be removed from pandas in a future version. Use pandas.concat instead.\n",
      "  intron_coordinates = intron_coordinates.append(new_row, ignore_index=True)\n",
      "/tmp/ipykernel_3779053/2834357883.py:40: FutureWarning: The frame.append method is deprecated and will be removed from pandas in a future version. Use pandas.concat instead.\n",
      "  intron_coordinates = intron_coordinates.append(new_row, ignore_index=True)\n",
      "/tmp/ipykernel_3779053/2834357883.py:40: FutureWarning: The frame.append method is deprecated and will be removed from pandas in a future version. Use pandas.concat instead.\n",
      "  intron_coordinates = intron_coordinates.append(new_row, ignore_index=True)\n",
      "/tmp/ipykernel_3779053/2834357883.py:40: FutureWarning: The frame.append method is deprecated and will be removed from pandas in a future version. Use pandas.concat instead.\n",
      "  intron_coordinates = intron_coordinates.append(new_row, ignore_index=True)\n"
     ]
    },
    {
     "name": "stdout",
     "output_type": "stream",
     "text": [
      "adding 12793301 12810078\n",
      "adding 12810387 12810571\n",
      "adding 12810918 12811534\n",
      "adding 12811881 12812729\n",
      "adding 12813152 12816023\n",
      "adding 12816444 12818319\n",
      "adding 12818710 12833587\n"
     ]
    },
    {
     "name": "stderr",
     "output_type": "stream",
     "text": [
      "/tmp/ipykernel_3779053/2834357883.py:40: FutureWarning: The frame.append method is deprecated and will be removed from pandas in a future version. Use pandas.concat instead.\n",
      "  intron_coordinates = intron_coordinates.append(new_row, ignore_index=True)\n",
      "/tmp/ipykernel_3779053/2834357883.py:40: FutureWarning: The frame.append method is deprecated and will be removed from pandas in a future version. Use pandas.concat instead.\n",
      "  intron_coordinates = intron_coordinates.append(new_row, ignore_index=True)\n",
      "/tmp/ipykernel_3779053/2834357883.py:40: FutureWarning: The frame.append method is deprecated and will be removed from pandas in a future version. Use pandas.concat instead.\n",
      "  intron_coordinates = intron_coordinates.append(new_row, ignore_index=True)\n",
      "/tmp/ipykernel_3779053/2834357883.py:40: FutureWarning: The frame.append method is deprecated and will be removed from pandas in a future version. Use pandas.concat instead.\n",
      "  intron_coordinates = intron_coordinates.append(new_row, ignore_index=True)\n",
      "/tmp/ipykernel_3779053/2834357883.py:40: FutureWarning: The frame.append method is deprecated and will be removed from pandas in a future version. Use pandas.concat instead.\n",
      "  intron_coordinates = intron_coordinates.append(new_row, ignore_index=True)\n",
      "/tmp/ipykernel_3779053/2834357883.py:40: FutureWarning: The frame.append method is deprecated and will be removed from pandas in a future version. Use pandas.concat instead.\n",
      "  intron_coordinates = intron_coordinates.append(new_row, ignore_index=True)\n",
      "/tmp/ipykernel_3779053/2834357883.py:40: FutureWarning: The frame.append method is deprecated and will be removed from pandas in a future version. Use pandas.concat instead.\n",
      "  intron_coordinates = intron_coordinates.append(new_row, ignore_index=True)\n"
     ]
    },
    {
     "name": "stdout",
     "output_type": "stream",
     "text": [
      "adding 12833961 12837810\n",
      "adding 12838152 12839763\n",
      "adding 12840714 12840909\n",
      "adding 12841233 12842139\n",
      "adding 12842565 12842963\n",
      "adding 12843293 12846232\n",
      "adding 12846618 12846832\n"
     ]
    },
    {
     "name": "stderr",
     "output_type": "stream",
     "text": [
      "/tmp/ipykernel_3779053/2834357883.py:40: FutureWarning: The frame.append method is deprecated and will be removed from pandas in a future version. Use pandas.concat instead.\n",
      "  intron_coordinates = intron_coordinates.append(new_row, ignore_index=True)\n",
      "/tmp/ipykernel_3779053/2834357883.py:40: FutureWarning: The frame.append method is deprecated and will be removed from pandas in a future version. Use pandas.concat instead.\n",
      "  intron_coordinates = intron_coordinates.append(new_row, ignore_index=True)\n",
      "/tmp/ipykernel_3779053/2834357883.py:40: FutureWarning: The frame.append method is deprecated and will be removed from pandas in a future version. Use pandas.concat instead.\n",
      "  intron_coordinates = intron_coordinates.append(new_row, ignore_index=True)\n",
      "/tmp/ipykernel_3779053/2834357883.py:40: FutureWarning: The frame.append method is deprecated and will be removed from pandas in a future version. Use pandas.concat instead.\n",
      "  intron_coordinates = intron_coordinates.append(new_row, ignore_index=True)\n",
      "/tmp/ipykernel_3779053/2834357883.py:40: FutureWarning: The frame.append method is deprecated and will be removed from pandas in a future version. Use pandas.concat instead.\n",
      "  intron_coordinates = intron_coordinates.append(new_row, ignore_index=True)\n",
      "/tmp/ipykernel_3779053/2834357883.py:40: FutureWarning: The frame.append method is deprecated and will be removed from pandas in a future version. Use pandas.concat instead.\n",
      "  intron_coordinates = intron_coordinates.append(new_row, ignore_index=True)\n",
      "/tmp/ipykernel_3779053/2834357883.py:40: FutureWarning: The frame.append method is deprecated and will be removed from pandas in a future version. Use pandas.concat instead.\n",
      "  intron_coordinates = intron_coordinates.append(new_row, ignore_index=True)\n"
     ]
    },
    {
     "name": "stdout",
     "output_type": "stream",
     "text": [
      "adding 12847427 12856239\n",
      "adding 12856945 12857465\n",
      "adding 12857761 12859178\n",
      "        Chromosome          Source Feature     Start       End Score Strand  \\\n",
      "2813456       chrX          havana     CDS  41123628  41123724     .      +   \n",
      "2813459       chrX          havana     CDS  41128999  41129145     .      +   \n",
      "2813461       chrX          havana     CDS  41131456  41131536     .      +   \n",
      "2813463       chrX          havana     CDS  41134724  41134837     .      +   \n",
      "2813465       chrX          havana     CDS  41136803  41137022     .      +   \n",
      "...            ...             ...     ...       ...       ...   ...    ...   \n",
      "2813630       chrX  ensembl_havana     CDS  41225048  41225137     .      +   \n",
      "2813632       chrX  ensembl_havana     CDS  41229252  41229409     .      +   \n",
      "2813634       chrX  ensembl_havana     CDS  41229566  41229827     .      +   \n",
      "2813636       chrX  ensembl_havana     CDS  41230500  41230596     .      +   \n",
      "2813638       chrX  ensembl_havana     CDS  41232386  41232521     .      +   \n",
      "\n",
      "        Frame          gene_id gene_version  ...    tag  \\\n",
      "2813456     0  ENSG00000124486           13  ...  basic   \n",
      "2813459     0  ENSG00000124486           13  ...  basic   \n",
      "2813461     1  ENSG00000124486           13  ...  basic   \n",
      "2813463     2  ENSG00000124486           13  ...  basic   \n",
      "2813465     0  ENSG00000124486           13  ...  basic   \n",
      "...       ...              ...          ...  ...    ...   \n",
      "2813630     0  ENSG00000124486           13  ...  basic   \n",
      "2813632     1  ENSG00000124486           13  ...  basic   \n",
      "2813634     0  ENSG00000124486           13  ...  basic   \n",
      "2813636     0  ENSG00000124486           13  ...  basic   \n",
      "2813638     0  ENSG00000124486           13  ...  basic   \n",
      "\n",
      "        transcript_support_level exon_number exon_id exon_version (assigned  \\\n",
      "2813456                        5           2     NaN          NaN        to   \n",
      "2813459                        5           3     NaN          NaN        to   \n",
      "2813461                        5           4     NaN          NaN        to   \n",
      "2813463                        5           5     NaN          NaN        to   \n",
      "2813465                        5           6     NaN          NaN        to   \n",
      "...                          ...         ...     ...          ...       ...   \n",
      "2813630                        5          41     NaN          NaN       NaN   \n",
      "2813632                        5          42     NaN          NaN       NaN   \n",
      "2813634                        5          43     NaN          NaN       NaN   \n",
      "2813636                        5          44     NaN          NaN       NaN   \n",
      "2813638                        5          45     NaN          NaN       NaN   \n",
      "\n",
      "        previous       protein_id protein_version    ccds_id  \n",
      "2813456  version  ENSP00000367558               2  CCDS55403  \n",
      "2813459  version  ENSP00000367558               2  CCDS55403  \n",
      "2813461  version  ENSP00000367558               2  CCDS55403  \n",
      "2813463  version  ENSP00000367558               2  CCDS55403  \n",
      "2813465  version  ENSP00000367558               2  CCDS55403  \n",
      "...          ...              ...             ...        ...  \n",
      "2813630      NaN  ENSP00000316357               6  CCDS43930  \n",
      "2813632      NaN  ENSP00000316357               6  CCDS43930  \n",
      "2813634      NaN  ENSP00000316357               6  CCDS43930  \n",
      "2813636      NaN  ENSP00000316357               6  CCDS43930  \n",
      "2813638      NaN  ENSP00000316357               6  CCDS43930  \n",
      "\n",
      "[88 rows x 28 columns]\n",
      "<pandas.core.groupby.generic.DataFrameGroupBy object at 0x7f008ad0ad60>\n",
      "adding 41123824 41128899\n",
      "adding 41129245 41131356\n",
      "adding 41131636 41134624\n",
      "adding 41134937 41136703\n"
     ]
    },
    {
     "name": "stderr",
     "output_type": "stream",
     "text": [
      "/tmp/ipykernel_3779053/2834357883.py:40: FutureWarning: The frame.append method is deprecated and will be removed from pandas in a future version. Use pandas.concat instead.\n",
      "  intron_coordinates = intron_coordinates.append(new_row, ignore_index=True)\n",
      "/tmp/ipykernel_3779053/2834357883.py:40: FutureWarning: The frame.append method is deprecated and will be removed from pandas in a future version. Use pandas.concat instead.\n",
      "  intron_coordinates = intron_coordinates.append(new_row, ignore_index=True)\n",
      "/tmp/ipykernel_3779053/2834357883.py:40: FutureWarning: The frame.append method is deprecated and will be removed from pandas in a future version. Use pandas.concat instead.\n",
      "  intron_coordinates = intron_coordinates.append(new_row, ignore_index=True)\n",
      "/tmp/ipykernel_3779053/2834357883.py:40: FutureWarning: The frame.append method is deprecated and will be removed from pandas in a future version. Use pandas.concat instead.\n",
      "  intron_coordinates = intron_coordinates.append(new_row, ignore_index=True)\n",
      "/tmp/ipykernel_3779053/2834357883.py:40: FutureWarning: The frame.append method is deprecated and will be removed from pandas in a future version. Use pandas.concat instead.\n",
      "  intron_coordinates = intron_coordinates.append(new_row, ignore_index=True)\n",
      "/tmp/ipykernel_3779053/2834357883.py:40: FutureWarning: The frame.append method is deprecated and will be removed from pandas in a future version. Use pandas.concat instead.\n",
      "  intron_coordinates = intron_coordinates.append(new_row, ignore_index=True)\n",
      "/tmp/ipykernel_3779053/2834357883.py:40: FutureWarning: The frame.append method is deprecated and will be removed from pandas in a future version. Use pandas.concat instead.\n",
      "  intron_coordinates = intron_coordinates.append(new_row, ignore_index=True)\n"
     ]
    },
    {
     "name": "stdout",
     "output_type": "stream",
     "text": [
      "adding 41137122 41140555\n",
      "adding 41141531 41143190\n",
      "adding 41143543 41144421\n",
      "adding 41144726 41148268\n",
      "adding 41148675 41150820\n",
      "adding 41151157 41152847\n",
      "adding 41153181 41162689\n"
     ]
    },
    {
     "name": "stderr",
     "output_type": "stream",
     "text": [
      "/tmp/ipykernel_3779053/2834357883.py:40: FutureWarning: The frame.append method is deprecated and will be removed from pandas in a future version. Use pandas.concat instead.\n",
      "  intron_coordinates = intron_coordinates.append(new_row, ignore_index=True)\n",
      "/tmp/ipykernel_3779053/2834357883.py:40: FutureWarning: The frame.append method is deprecated and will be removed from pandas in a future version. Use pandas.concat instead.\n",
      "  intron_coordinates = intron_coordinates.append(new_row, ignore_index=True)\n",
      "/tmp/ipykernel_3779053/2834357883.py:40: FutureWarning: The frame.append method is deprecated and will be removed from pandas in a future version. Use pandas.concat instead.\n",
      "  intron_coordinates = intron_coordinates.append(new_row, ignore_index=True)\n",
      "/tmp/ipykernel_3779053/2834357883.py:40: FutureWarning: The frame.append method is deprecated and will be removed from pandas in a future version. Use pandas.concat instead.\n",
      "  intron_coordinates = intron_coordinates.append(new_row, ignore_index=True)\n",
      "/tmp/ipykernel_3779053/2834357883.py:40: FutureWarning: The frame.append method is deprecated and will be removed from pandas in a future version. Use pandas.concat instead.\n",
      "  intron_coordinates = intron_coordinates.append(new_row, ignore_index=True)\n",
      "/tmp/ipykernel_3779053/2834357883.py:40: FutureWarning: The frame.append method is deprecated and will be removed from pandas in a future version. Use pandas.concat instead.\n",
      "  intron_coordinates = intron_coordinates.append(new_row, ignore_index=True)\n",
      "/tmp/ipykernel_3779053/2834357883.py:40: FutureWarning: The frame.append method is deprecated and will be removed from pandas in a future version. Use pandas.concat instead.\n",
      "  intron_coordinates = intron_coordinates.append(new_row, ignore_index=True)\n"
     ]
    },
    {
     "name": "stdout",
     "output_type": "stream",
     "text": [
      "adding 41162977 41165771\n",
      "adding 41166314 41167381\n",
      "adding 41167677 41167906\n",
      "adding 41168318 41169894\n",
      "adding 41170335 41170369\n",
      "adding 41170719 41171737\n",
      "adding 41172058 41183897\n"
     ]
    },
    {
     "name": "stderr",
     "output_type": "stream",
     "text": [
      "/tmp/ipykernel_3779053/2834357883.py:40: FutureWarning: The frame.append method is deprecated and will be removed from pandas in a future version. Use pandas.concat instead.\n",
      "  intron_coordinates = intron_coordinates.append(new_row, ignore_index=True)\n",
      "/tmp/ipykernel_3779053/2834357883.py:40: FutureWarning: The frame.append method is deprecated and will be removed from pandas in a future version. Use pandas.concat instead.\n",
      "  intron_coordinates = intron_coordinates.append(new_row, ignore_index=True)\n",
      "/tmp/ipykernel_3779053/2834357883.py:40: FutureWarning: The frame.append method is deprecated and will be removed from pandas in a future version. Use pandas.concat instead.\n",
      "  intron_coordinates = intron_coordinates.append(new_row, ignore_index=True)\n",
      "/tmp/ipykernel_3779053/2834357883.py:40: FutureWarning: The frame.append method is deprecated and will be removed from pandas in a future version. Use pandas.concat instead.\n",
      "  intron_coordinates = intron_coordinates.append(new_row, ignore_index=True)\n",
      "/tmp/ipykernel_3779053/2834357883.py:40: FutureWarning: The frame.append method is deprecated and will be removed from pandas in a future version. Use pandas.concat instead.\n",
      "  intron_coordinates = intron_coordinates.append(new_row, ignore_index=True)\n",
      "/tmp/ipykernel_3779053/2834357883.py:40: FutureWarning: The frame.append method is deprecated and will be removed from pandas in a future version. Use pandas.concat instead.\n",
      "  intron_coordinates = intron_coordinates.append(new_row, ignore_index=True)\n",
      "/tmp/ipykernel_3779053/2834357883.py:40: FutureWarning: The frame.append method is deprecated and will be removed from pandas in a future version. Use pandas.concat instead.\n",
      "  intron_coordinates = intron_coordinates.append(new_row, ignore_index=True)\n"
     ]
    },
    {
     "name": "stdout",
     "output_type": "stream",
     "text": [
      "adding 41184228 41184296\n",
      "adding 41184775 41186416\n",
      "adding 41186742 41187891\n",
      "adding 41188217 41189208\n",
      "adding 41189575 41196150\n",
      "adding 41196459 41196491\n",
      "adding 41196838 41197263\n"
     ]
    },
    {
     "name": "stderr",
     "output_type": "stream",
     "text": [
      "/tmp/ipykernel_3779053/2834357883.py:40: FutureWarning: The frame.append method is deprecated and will be removed from pandas in a future version. Use pandas.concat instead.\n",
      "  intron_coordinates = intron_coordinates.append(new_row, ignore_index=True)\n",
      "/tmp/ipykernel_3779053/2834357883.py:40: FutureWarning: The frame.append method is deprecated and will be removed from pandas in a future version. Use pandas.concat instead.\n",
      "  intron_coordinates = intron_coordinates.append(new_row, ignore_index=True)\n",
      "/tmp/ipykernel_3779053/2834357883.py:40: FutureWarning: The frame.append method is deprecated and will be removed from pandas in a future version. Use pandas.concat instead.\n",
      "  intron_coordinates = intron_coordinates.append(new_row, ignore_index=True)\n",
      "/tmp/ipykernel_3779053/2834357883.py:40: FutureWarning: The frame.append method is deprecated and will be removed from pandas in a future version. Use pandas.concat instead.\n",
      "  intron_coordinates = intron_coordinates.append(new_row, ignore_index=True)\n",
      "/tmp/ipykernel_3779053/2834357883.py:40: FutureWarning: The frame.append method is deprecated and will be removed from pandas in a future version. Use pandas.concat instead.\n",
      "  intron_coordinates = intron_coordinates.append(new_row, ignore_index=True)\n",
      "/tmp/ipykernel_3779053/2834357883.py:40: FutureWarning: The frame.append method is deprecated and will be removed from pandas in a future version. Use pandas.concat instead.\n",
      "  intron_coordinates = intron_coordinates.append(new_row, ignore_index=True)\n",
      "/tmp/ipykernel_3779053/2834357883.py:40: FutureWarning: The frame.append method is deprecated and will be removed from pandas in a future version. Use pandas.concat instead.\n",
      "  intron_coordinates = intron_coordinates.append(new_row, ignore_index=True)\n"
     ]
    },
    {
     "name": "stdout",
     "output_type": "stream",
     "text": [
      "adding 41197610 41198427\n",
      "adding 41198850 41200959\n",
      "adding 41201380 41205202\n",
      "adding 41205593 41210408\n",
      "adding 41210782 41214467\n",
      "adding 41214809 41215798\n",
      "adding 41216752 41217119\n"
     ]
    },
    {
     "name": "stderr",
     "output_type": "stream",
     "text": [
      "/tmp/ipykernel_3779053/2834357883.py:40: FutureWarning: The frame.append method is deprecated and will be removed from pandas in a future version. Use pandas.concat instead.\n",
      "  intron_coordinates = intron_coordinates.append(new_row, ignore_index=True)\n",
      "/tmp/ipykernel_3779053/2834357883.py:40: FutureWarning: The frame.append method is deprecated and will be removed from pandas in a future version. Use pandas.concat instead.\n",
      "  intron_coordinates = intron_coordinates.append(new_row, ignore_index=True)\n",
      "/tmp/ipykernel_3779053/2834357883.py:40: FutureWarning: The frame.append method is deprecated and will be removed from pandas in a future version. Use pandas.concat instead.\n",
      "  intron_coordinates = intron_coordinates.append(new_row, ignore_index=True)\n",
      "/tmp/ipykernel_3779053/2834357883.py:40: FutureWarning: The frame.append method is deprecated and will be removed from pandas in a future version. Use pandas.concat instead.\n",
      "  intron_coordinates = intron_coordinates.append(new_row, ignore_index=True)\n",
      "/tmp/ipykernel_3779053/2834357883.py:40: FutureWarning: The frame.append method is deprecated and will be removed from pandas in a future version. Use pandas.concat instead.\n",
      "  intron_coordinates = intron_coordinates.append(new_row, ignore_index=True)\n",
      "/tmp/ipykernel_3779053/2834357883.py:40: FutureWarning: The frame.append method is deprecated and will be removed from pandas in a future version. Use pandas.concat instead.\n",
      "  intron_coordinates = intron_coordinates.append(new_row, ignore_index=True)\n",
      "/tmp/ipykernel_3779053/2834357883.py:40: FutureWarning: The frame.append method is deprecated and will be removed from pandas in a future version. Use pandas.concat instead.\n",
      "  intron_coordinates = intron_coordinates.append(new_row, ignore_index=True)\n"
     ]
    },
    {
     "name": "stdout",
     "output_type": "stream",
     "text": [
      "adding 41217443 41218271\n",
      "adding 41218697 41219001\n",
      "adding 41219331 41223116\n",
      "adding 41223502 41224641\n",
      "adding 41225237 41229152\n",
      "adding 41229927 41230400\n",
      "adding 41230696 41232286\n"
     ]
    },
    {
     "name": "stderr",
     "output_type": "stream",
     "text": [
      "/tmp/ipykernel_3779053/2834357883.py:40: FutureWarning: The frame.append method is deprecated and will be removed from pandas in a future version. Use pandas.concat instead.\n",
      "  intron_coordinates = intron_coordinates.append(new_row, ignore_index=True)\n",
      "/tmp/ipykernel_3779053/2834357883.py:40: FutureWarning: The frame.append method is deprecated and will be removed from pandas in a future version. Use pandas.concat instead.\n",
      "  intron_coordinates = intron_coordinates.append(new_row, ignore_index=True)\n",
      "/tmp/ipykernel_3779053/2834357883.py:40: FutureWarning: The frame.append method is deprecated and will be removed from pandas in a future version. Use pandas.concat instead.\n",
      "  intron_coordinates = intron_coordinates.append(new_row, ignore_index=True)\n",
      "/tmp/ipykernel_3779053/2834357883.py:40: FutureWarning: The frame.append method is deprecated and will be removed from pandas in a future version. Use pandas.concat instead.\n",
      "  intron_coordinates = intron_coordinates.append(new_row, ignore_index=True)\n",
      "/tmp/ipykernel_3779053/2834357883.py:40: FutureWarning: The frame.append method is deprecated and will be removed from pandas in a future version. Use pandas.concat instead.\n",
      "  intron_coordinates = intron_coordinates.append(new_row, ignore_index=True)\n",
      "/tmp/ipykernel_3779053/2834357883.py:40: FutureWarning: The frame.append method is deprecated and will be removed from pandas in a future version. Use pandas.concat instead.\n",
      "  intron_coordinates = intron_coordinates.append(new_row, ignore_index=True)\n",
      "/tmp/ipykernel_3779053/2834357883.py:40: FutureWarning: The frame.append method is deprecated and will be removed from pandas in a future version. Use pandas.concat instead.\n",
      "  intron_coordinates = intron_coordinates.append(new_row, ignore_index=True)\n"
     ]
    },
    {
     "name": "stdout",
     "output_type": "stream",
     "text": [
      "adding 41123824 41128899\n",
      "adding 41129245 41131356\n",
      "adding 41131636 41134624\n",
      "adding 41134937 41136703\n",
      "adding 41137122 41140555\n",
      "adding 41141531 41143190\n",
      "adding 41143543 41144421\n"
     ]
    },
    {
     "name": "stderr",
     "output_type": "stream",
     "text": [
      "/tmp/ipykernel_3779053/2834357883.py:40: FutureWarning: The frame.append method is deprecated and will be removed from pandas in a future version. Use pandas.concat instead.\n",
      "  intron_coordinates = intron_coordinates.append(new_row, ignore_index=True)\n",
      "/tmp/ipykernel_3779053/2834357883.py:40: FutureWarning: The frame.append method is deprecated and will be removed from pandas in a future version. Use pandas.concat instead.\n",
      "  intron_coordinates = intron_coordinates.append(new_row, ignore_index=True)\n",
      "/tmp/ipykernel_3779053/2834357883.py:40: FutureWarning: The frame.append method is deprecated and will be removed from pandas in a future version. Use pandas.concat instead.\n",
      "  intron_coordinates = intron_coordinates.append(new_row, ignore_index=True)\n",
      "/tmp/ipykernel_3779053/2834357883.py:40: FutureWarning: The frame.append method is deprecated and will be removed from pandas in a future version. Use pandas.concat instead.\n",
      "  intron_coordinates = intron_coordinates.append(new_row, ignore_index=True)\n",
      "/tmp/ipykernel_3779053/2834357883.py:40: FutureWarning: The frame.append method is deprecated and will be removed from pandas in a future version. Use pandas.concat instead.\n",
      "  intron_coordinates = intron_coordinates.append(new_row, ignore_index=True)\n",
      "/tmp/ipykernel_3779053/2834357883.py:40: FutureWarning: The frame.append method is deprecated and will be removed from pandas in a future version. Use pandas.concat instead.\n",
      "  intron_coordinates = intron_coordinates.append(new_row, ignore_index=True)\n",
      "/tmp/ipykernel_3779053/2834357883.py:40: FutureWarning: The frame.append method is deprecated and will be removed from pandas in a future version. Use pandas.concat instead.\n",
      "  intron_coordinates = intron_coordinates.append(new_row, ignore_index=True)\n"
     ]
    },
    {
     "name": "stdout",
     "output_type": "stream",
     "text": [
      "adding 41144726 41148268\n",
      "adding 41148675 41150820\n",
      "adding 41151157 41152847\n",
      "adding 41153181 41162689\n",
      "adding 41162977 41165771\n",
      "adding 41166314 41167381\n",
      "adding 41167677 41167906\n"
     ]
    },
    {
     "name": "stderr",
     "output_type": "stream",
     "text": [
      "/tmp/ipykernel_3779053/2834357883.py:40: FutureWarning: The frame.append method is deprecated and will be removed from pandas in a future version. Use pandas.concat instead.\n",
      "  intron_coordinates = intron_coordinates.append(new_row, ignore_index=True)\n",
      "/tmp/ipykernel_3779053/2834357883.py:40: FutureWarning: The frame.append method is deprecated and will be removed from pandas in a future version. Use pandas.concat instead.\n",
      "  intron_coordinates = intron_coordinates.append(new_row, ignore_index=True)\n",
      "/tmp/ipykernel_3779053/2834357883.py:40: FutureWarning: The frame.append method is deprecated and will be removed from pandas in a future version. Use pandas.concat instead.\n",
      "  intron_coordinates = intron_coordinates.append(new_row, ignore_index=True)\n",
      "/tmp/ipykernel_3779053/2834357883.py:40: FutureWarning: The frame.append method is deprecated and will be removed from pandas in a future version. Use pandas.concat instead.\n",
      "  intron_coordinates = intron_coordinates.append(new_row, ignore_index=True)\n",
      "/tmp/ipykernel_3779053/2834357883.py:40: FutureWarning: The frame.append method is deprecated and will be removed from pandas in a future version. Use pandas.concat instead.\n",
      "  intron_coordinates = intron_coordinates.append(new_row, ignore_index=True)\n",
      "/tmp/ipykernel_3779053/2834357883.py:40: FutureWarning: The frame.append method is deprecated and will be removed from pandas in a future version. Use pandas.concat instead.\n",
      "  intron_coordinates = intron_coordinates.append(new_row, ignore_index=True)\n",
      "/tmp/ipykernel_3779053/2834357883.py:40: FutureWarning: The frame.append method is deprecated and will be removed from pandas in a future version. Use pandas.concat instead.\n",
      "  intron_coordinates = intron_coordinates.append(new_row, ignore_index=True)\n"
     ]
    },
    {
     "name": "stdout",
     "output_type": "stream",
     "text": [
      "adding 41168318 41169894\n",
      "adding 41170335 41170369\n",
      "adding 41170719 41171737\n",
      "adding 41172058 41183897\n",
      "adding 41184228 41184296\n",
      "adding 41184775 41186416\n",
      "adding 41186742 41187891\n"
     ]
    },
    {
     "name": "stderr",
     "output_type": "stream",
     "text": [
      "/tmp/ipykernel_3779053/2834357883.py:40: FutureWarning: The frame.append method is deprecated and will be removed from pandas in a future version. Use pandas.concat instead.\n",
      "  intron_coordinates = intron_coordinates.append(new_row, ignore_index=True)\n",
      "/tmp/ipykernel_3779053/2834357883.py:40: FutureWarning: The frame.append method is deprecated and will be removed from pandas in a future version. Use pandas.concat instead.\n",
      "  intron_coordinates = intron_coordinates.append(new_row, ignore_index=True)\n",
      "/tmp/ipykernel_3779053/2834357883.py:40: FutureWarning: The frame.append method is deprecated and will be removed from pandas in a future version. Use pandas.concat instead.\n",
      "  intron_coordinates = intron_coordinates.append(new_row, ignore_index=True)\n",
      "/tmp/ipykernel_3779053/2834357883.py:40: FutureWarning: The frame.append method is deprecated and will be removed from pandas in a future version. Use pandas.concat instead.\n",
      "  intron_coordinates = intron_coordinates.append(new_row, ignore_index=True)\n",
      "/tmp/ipykernel_3779053/2834357883.py:40: FutureWarning: The frame.append method is deprecated and will be removed from pandas in a future version. Use pandas.concat instead.\n",
      "  intron_coordinates = intron_coordinates.append(new_row, ignore_index=True)\n",
      "/tmp/ipykernel_3779053/2834357883.py:40: FutureWarning: The frame.append method is deprecated and will be removed from pandas in a future version. Use pandas.concat instead.\n",
      "  intron_coordinates = intron_coordinates.append(new_row, ignore_index=True)\n",
      "/tmp/ipykernel_3779053/2834357883.py:40: FutureWarning: The frame.append method is deprecated and will be removed from pandas in a future version. Use pandas.concat instead.\n",
      "  intron_coordinates = intron_coordinates.append(new_row, ignore_index=True)\n"
     ]
    },
    {
     "name": "stdout",
     "output_type": "stream",
     "text": [
      "adding 41188217 41189208\n",
      "adding 41189575 41196150\n",
      "adding 41196459 41196491\n",
      "adding 41196838 41197263\n",
      "adding 41197610 41198427\n",
      "adding 41198850 41200959\n",
      "adding 41201380 41205202\n"
     ]
    },
    {
     "name": "stderr",
     "output_type": "stream",
     "text": [
      "/tmp/ipykernel_3779053/2834357883.py:40: FutureWarning: The frame.append method is deprecated and will be removed from pandas in a future version. Use pandas.concat instead.\n",
      "  intron_coordinates = intron_coordinates.append(new_row, ignore_index=True)\n",
      "/tmp/ipykernel_3779053/2834357883.py:40: FutureWarning: The frame.append method is deprecated and will be removed from pandas in a future version. Use pandas.concat instead.\n",
      "  intron_coordinates = intron_coordinates.append(new_row, ignore_index=True)\n",
      "/tmp/ipykernel_3779053/2834357883.py:40: FutureWarning: The frame.append method is deprecated and will be removed from pandas in a future version. Use pandas.concat instead.\n",
      "  intron_coordinates = intron_coordinates.append(new_row, ignore_index=True)\n",
      "/tmp/ipykernel_3779053/2834357883.py:40: FutureWarning: The frame.append method is deprecated and will be removed from pandas in a future version. Use pandas.concat instead.\n",
      "  intron_coordinates = intron_coordinates.append(new_row, ignore_index=True)\n",
      "/tmp/ipykernel_3779053/2834357883.py:40: FutureWarning: The frame.append method is deprecated and will be removed from pandas in a future version. Use pandas.concat instead.\n",
      "  intron_coordinates = intron_coordinates.append(new_row, ignore_index=True)\n",
      "/tmp/ipykernel_3779053/2834357883.py:40: FutureWarning: The frame.append method is deprecated and will be removed from pandas in a future version. Use pandas.concat instead.\n",
      "  intron_coordinates = intron_coordinates.append(new_row, ignore_index=True)\n",
      "/tmp/ipykernel_3779053/2834357883.py:40: FutureWarning: The frame.append method is deprecated and will be removed from pandas in a future version. Use pandas.concat instead.\n",
      "  intron_coordinates = intron_coordinates.append(new_row, ignore_index=True)\n"
     ]
    },
    {
     "name": "stdout",
     "output_type": "stream",
     "text": [
      "adding 41205593 41210408\n",
      "adding 41210782 41214467\n",
      "adding 41214809 41215798\n",
      "adding 41216752 41217119\n",
      "adding 41217443 41218271\n",
      "adding 41218697 41219001\n",
      "adding 41219331 41223116\n"
     ]
    },
    {
     "name": "stderr",
     "output_type": "stream",
     "text": [
      "/tmp/ipykernel_3779053/2834357883.py:40: FutureWarning: The frame.append method is deprecated and will be removed from pandas in a future version. Use pandas.concat instead.\n",
      "  intron_coordinates = intron_coordinates.append(new_row, ignore_index=True)\n",
      "/tmp/ipykernel_3779053/2834357883.py:40: FutureWarning: The frame.append method is deprecated and will be removed from pandas in a future version. Use pandas.concat instead.\n",
      "  intron_coordinates = intron_coordinates.append(new_row, ignore_index=True)\n",
      "/tmp/ipykernel_3779053/2834357883.py:40: FutureWarning: The frame.append method is deprecated and will be removed from pandas in a future version. Use pandas.concat instead.\n",
      "  intron_coordinates = intron_coordinates.append(new_row, ignore_index=True)\n",
      "/tmp/ipykernel_3779053/2834357883.py:40: FutureWarning: The frame.append method is deprecated and will be removed from pandas in a future version. Use pandas.concat instead.\n",
      "  intron_coordinates = intron_coordinates.append(new_row, ignore_index=True)\n",
      "/tmp/ipykernel_3779053/2834357883.py:40: FutureWarning: The frame.append method is deprecated and will be removed from pandas in a future version. Use pandas.concat instead.\n",
      "  intron_coordinates = intron_coordinates.append(new_row, ignore_index=True)\n",
      "/tmp/ipykernel_3779053/2834357883.py:40: FutureWarning: The frame.append method is deprecated and will be removed from pandas in a future version. Use pandas.concat instead.\n",
      "  intron_coordinates = intron_coordinates.append(new_row, ignore_index=True)\n",
      "/tmp/ipykernel_3779053/2834357883.py:40: FutureWarning: The frame.append method is deprecated and will be removed from pandas in a future version. Use pandas.concat instead.\n",
      "  intron_coordinates = intron_coordinates.append(new_row, ignore_index=True)\n"
     ]
    },
    {
     "name": "stdout",
     "output_type": "stream",
     "text": [
      "adding 41223502 41224641\n",
      "adding 41225237 41229152\n",
      "adding 41229879 41230400\n",
      "adding 41230696 41232286\n",
      "        Chromosome          Source Feature    Start      End Score Strand  \\\n",
      "2896456       chrY  ensembl_havana     CDS  2841624  2841627     .      +   \n",
      "2896459       chrY  ensembl_havana     CDS  2842164  2842242     .      +   \n",
      "2896461       chrY  ensembl_havana     CDS  2844076  2844257     .      +   \n",
      "2896463       chrY  ensembl_havana     CDS  2845645  2845743     .      +   \n",
      "2896465       chrY  ensembl_havana     CDS  2854599  2854771     .      +   \n",
      "2896467       chrY  ensembl_havana     CDS  2865087  2865245     .      +   \n",
      "2896469       chrY  ensembl_havana     CDS  2866792  2866891     .      +   \n",
      "2896475       chrY          havana     CDS  2841943  2841973     .      +   \n",
      "2896478       chrY          havana     CDS  2842164  2842242     .      +   \n",
      "2896480       chrY          havana     CDS  2844076  2844257     .      +   \n",
      "2896482       chrY          havana     CDS  2845645  2845743     .      +   \n",
      "2896484       chrY          havana     CDS  2854599  2854771     .      +   \n",
      "2896486       chrY          havana     CDS  2865087  2865245     .      +   \n",
      "2896488       chrY          havana     CDS  2866792  2866862     .      +   \n",
      "\n",
      "        Frame          gene_id gene_version  ...          tag  \\\n",
      "2896456     0  ENSG00000129824           16  ...        basic   \n",
      "2896459     0  ENSG00000129824           16  ...        basic   \n",
      "2896461     0  ENSG00000129824           16  ...        basic   \n",
      "2896463     2  ENSG00000129824           16  ...        basic   \n",
      "2896465     0  ENSG00000129824           16  ...        basic   \n",
      "2896467     2  ENSG00000129824           16  ...        basic   \n",
      "2896469     0  ENSG00000129824           16  ...        basic   \n",
      "2896475     0  ENSG00000129824           16  ...  mRNA_end_NF   \n",
      "2896478     0  ENSG00000129824           16  ...  mRNA_end_NF   \n",
      "2896480     0  ENSG00000129824           16  ...  mRNA_end_NF   \n",
      "2896482     2  ENSG00000129824           16  ...  mRNA_end_NF   \n",
      "2896484     0  ENSG00000129824           16  ...  mRNA_end_NF   \n",
      "2896486     2  ENSG00000129824           16  ...  mRNA_end_NF   \n",
      "2896488     0  ENSG00000129824           16  ...  mRNA_end_NF   \n",
      "\n",
      "        transcript_support_level exon_number exon_id exon_version (assigned  \\\n",
      "2896456                        1           1     NaN          NaN        to   \n",
      "2896459                        1           2     NaN          NaN        to   \n",
      "2896461                        1           3     NaN          NaN        to   \n",
      "2896463                        1           4     NaN          NaN        to   \n",
      "2896465                        1           5     NaN          NaN        to   \n",
      "2896467                        1           6     NaN          NaN        to   \n",
      "2896469                        1           7     NaN          NaN        to   \n",
      "2896475                        3           1     NaN          NaN       NaN   \n",
      "2896478                        3           2     NaN          NaN       NaN   \n",
      "2896480                        3           3     NaN          NaN       NaN   \n",
      "2896482                        3           4     NaN          NaN       NaN   \n",
      "2896484                        3           5     NaN          NaN       NaN   \n",
      "2896486                        3           6     NaN          NaN       NaN   \n",
      "2896488                        3           7     NaN          NaN       NaN   \n",
      "\n",
      "        previous       protein_id protein_version    ccds_id  \n",
      "2896456  version  ENSP00000250784               7  CCDS14773  \n",
      "2896459  version  ENSP00000250784               7  CCDS14773  \n",
      "2896461  version  ENSP00000250784               7  CCDS14773  \n",
      "2896463  version  ENSP00000250784               7  CCDS14773  \n",
      "2896465  version  ENSP00000250784               7  CCDS14773  \n",
      "2896467  version  ENSP00000250784               7  CCDS14773  \n",
      "2896469  version  ENSP00000250784               7  CCDS14773  \n",
      "2896475      NaN  ENSP00000415317               1        NaN  \n",
      "2896478      NaN  ENSP00000415317               1        NaN  \n",
      "2896480      NaN  ENSP00000415317               1        NaN  \n",
      "2896482      NaN  ENSP00000415317               1        NaN  \n",
      "2896484      NaN  ENSP00000415317               1        NaN  \n",
      "2896486      NaN  ENSP00000415317               1        NaN  \n",
      "2896488      NaN  ENSP00000415317               1        NaN  \n",
      "\n",
      "[14 rows x 28 columns]\n",
      "<pandas.core.groupby.generic.DataFrameGroupBy object at 0x7f00ef1fe2b0>\n",
      "HERE 2841727 2842064\n",
      "adding 2842342 2843976\n",
      "adding 2844357 2845545\n",
      "adding 2845843 2854499\n",
      "adding 2854871 2864987\n",
      "adding 2865345 2866692\n",
      "adding 2842342 2843976\n",
      "adding 2844357 2845545\n",
      "adding 2845843 2854499\n"
     ]
    },
    {
     "name": "stderr",
     "output_type": "stream",
     "text": [
      "/tmp/ipykernel_3779053/2834357883.py:40: FutureWarning: The frame.append method is deprecated and will be removed from pandas in a future version. Use pandas.concat instead.\n",
      "  intron_coordinates = intron_coordinates.append(new_row, ignore_index=True)\n",
      "/tmp/ipykernel_3779053/2834357883.py:40: FutureWarning: The frame.append method is deprecated and will be removed from pandas in a future version. Use pandas.concat instead.\n",
      "  intron_coordinates = intron_coordinates.append(new_row, ignore_index=True)\n",
      "/tmp/ipykernel_3779053/2834357883.py:40: FutureWarning: The frame.append method is deprecated and will be removed from pandas in a future version. Use pandas.concat instead.\n",
      "  intron_coordinates = intron_coordinates.append(new_row, ignore_index=True)\n",
      "/tmp/ipykernel_3779053/2834357883.py:40: FutureWarning: The frame.append method is deprecated and will be removed from pandas in a future version. Use pandas.concat instead.\n",
      "  intron_coordinates = intron_coordinates.append(new_row, ignore_index=True)\n",
      "/tmp/ipykernel_3779053/2834357883.py:40: FutureWarning: The frame.append method is deprecated and will be removed from pandas in a future version. Use pandas.concat instead.\n",
      "  intron_coordinates = intron_coordinates.append(new_row, ignore_index=True)\n",
      "/tmp/ipykernel_3779053/2834357883.py:40: FutureWarning: The frame.append method is deprecated and will be removed from pandas in a future version. Use pandas.concat instead.\n",
      "  intron_coordinates = intron_coordinates.append(new_row, ignore_index=True)\n",
      "/tmp/ipykernel_3779053/2834357883.py:40: FutureWarning: The frame.append method is deprecated and will be removed from pandas in a future version. Use pandas.concat instead.\n",
      "  intron_coordinates = intron_coordinates.append(new_row, ignore_index=True)\n",
      "/tmp/ipykernel_3779053/2834357883.py:40: FutureWarning: The frame.append method is deprecated and will be removed from pandas in a future version. Use pandas.concat instead.\n",
      "  intron_coordinates = intron_coordinates.append(new_row, ignore_index=True)\n",
      "/tmp/ipykernel_3779053/2834357883.py:40: FutureWarning: The frame.append method is deprecated and will be removed from pandas in a future version. Use pandas.concat instead.\n",
      "  intron_coordinates = intron_coordinates.append(new_row, ignore_index=True)\n",
      "/tmp/ipykernel_3779053/2834357883.py:40: FutureWarning: The frame.append method is deprecated and will be removed from pandas in a future version. Use pandas.concat instead.\n",
      "  intron_coordinates = intron_coordinates.append(new_row, ignore_index=True)\n",
      "/tmp/ipykernel_3779053/2834357883.py:40: FutureWarning: The frame.append method is deprecated and will be removed from pandas in a future version. Use pandas.concat instead.\n",
      "  intron_coordinates = intron_coordinates.append(new_row, ignore_index=True)\n",
      "/tmp/ipykernel_3779053/2834357883.py:40: FutureWarning: The frame.append method is deprecated and will be removed from pandas in a future version. Use pandas.concat instead.\n",
      "  intron_coordinates = intron_coordinates.append(new_row, ignore_index=True)\n",
      "/tmp/ipykernel_3779053/2834357883.py:40: FutureWarning: The frame.append method is deprecated and will be removed from pandas in a future version. Use pandas.concat instead.\n",
      "  intron_coordinates = intron_coordinates.append(new_row, ignore_index=True)\n",
      "/tmp/ipykernel_3779053/2834357883.py:40: FutureWarning: The frame.append method is deprecated and will be removed from pandas in a future version. Use pandas.concat instead.\n",
      "  intron_coordinates = intron_coordinates.append(new_row, ignore_index=True)\n"
     ]
    },
    {
     "name": "stdout",
     "output_type": "stream",
     "text": [
      "adding 2854871 2864987\n",
      "adding 2865345 2866692\n",
      "        Chromosome          Source Feature     Start       End Score Strand  \\\n",
      "2872622       chrX  ensembl_havana     CDS  72277192  72277195     .      -   \n",
      "2872625       chrX  ensembl_havana     CDS  72276156  72276234     .      -   \n",
      "2872627       chrX  ensembl_havana     CDS  72275543  72275724     .      -   \n",
      "2872629       chrX  ensembl_havana     CDS  72275052  72275150     .      -   \n",
      "2872631       chrX  ensembl_havana     CDS  72273800  72273972     .      -   \n",
      "2872633       chrX  ensembl_havana     CDS  72273231  72273389     .      -   \n",
      "2872635       chrX  ensembl_havana     CDS  72272673  72272772     .      -   \n",
      "\n",
      "        Frame          gene_id gene_version  ...    tag  \\\n",
      "2872622     0  ENSG00000198034           11  ...  basic   \n",
      "2872625     0  ENSG00000198034           11  ...  basic   \n",
      "2872627     0  ENSG00000198034           11  ...  basic   \n",
      "2872629     2  ENSG00000198034           11  ...  basic   \n",
      "2872631     0  ENSG00000198034           11  ...  basic   \n",
      "2872633     2  ENSG00000198034           11  ...  basic   \n",
      "2872635     0  ENSG00000198034           11  ...  basic   \n",
      "\n",
      "        transcript_support_level exon_number exon_id exon_version (assigned  \\\n",
      "2872622                        1           1     NaN          NaN        to   \n",
      "2872625                        1           2     NaN          NaN        to   \n",
      "2872627                        1           3     NaN          NaN        to   \n",
      "2872629                        1           4     NaN          NaN        to   \n",
      "2872631                        1           5     NaN          NaN        to   \n",
      "2872633                        1           6     NaN          NaN        to   \n",
      "2872635                        1           7     NaN          NaN        to   \n",
      "\n",
      "        previous       protein_id protein_version    ccds_id  \n",
      "2872622  version  ENSP00000362744               4  CCDS14418  \n",
      "2872625  version  ENSP00000362744               4  CCDS14418  \n",
      "2872627  version  ENSP00000362744               4  CCDS14418  \n",
      "2872629  version  ENSP00000362744               4  CCDS14418  \n",
      "2872631  version  ENSP00000362744               4  CCDS14418  \n",
      "2872633  version  ENSP00000362744               4  CCDS14418  \n",
      "2872635  version  ENSP00000362744               4  CCDS14418  \n",
      "\n",
      "[7 rows x 28 columns]\n",
      "<pandas.core.groupby.generic.DataFrameGroupBy object at 0x7f01f82a9340>\n",
      "adding 72272872 72273131\n",
      "adding 72273489 72273700\n",
      "adding 72274072 72274952\n",
      "adding 72275250 72275443\n",
      "adding 72275824 72276056\n",
      "adding 72276334 72277092\n",
      "        Chromosome          Source Feature     Start       End Score Strand  \\\n",
      "2806733       chrX  ensembl_havana     CDS  12976261  12976361     .      +   \n",
      "2806736       chrX  ensembl_havana     CDS  12976776  12976808     .      +   \n",
      "2806743       chrX          havana     CDS  12976261  12976361     .      +   \n",
      "2806746       chrX          havana     CDS  12976776  12976808     .      +   \n",
      "2806753       chrX          havana     CDS  12976261  12976361     .      +   \n",
      "2806756       chrX          havana     CDS  12976776  12976808     .      +   \n",
      "2806764       chrX          havana     CDS  12976261  12976361     .      +   \n",
      "2806767       chrX          havana     CDS  12976776  12976808     .      +   \n",
      "\n",
      "        Frame          gene_id gene_version  ...    tag  \\\n",
      "2806733     0  ENSG00000205542           11  ...  basic   \n",
      "2806736     2  ENSG00000205542           11  ...  basic   \n",
      "2806743     0  ENSG00000205542           11  ...  basic   \n",
      "2806746     2  ENSG00000205542           11  ...  basic   \n",
      "2806753     0  ENSG00000205542           11  ...  basic   \n",
      "2806756     2  ENSG00000205542           11  ...  basic   \n",
      "2806764     0  ENSG00000205542           11  ...  basic   \n",
      "2806767     2  ENSG00000205542           11  ...  basic   \n",
      "\n",
      "        transcript_support_level exon_number exon_id exon_version (assigned  \\\n",
      "2806733                        1           2     NaN          NaN        to   \n",
      "2806736                        1           3     NaN          NaN        to   \n",
      "2806743                        1           1     NaN          NaN       NaN   \n",
      "2806746                        1           2     NaN          NaN       NaN   \n",
      "2806753                        2           2     NaN          NaN       NaN   \n",
      "2806756                        2           3     NaN          NaN       NaN   \n",
      "2806764                        3           2     NaN          NaN       NaN   \n",
      "2806767                        3           3     NaN          NaN       NaN   \n",
      "\n",
      "        previous       protein_id protein_version    ccds_id  \n",
      "2806733  version  ENSP00000414376               2  CCDS35202  \n",
      "2806736  version  ENSP00000414376               2  CCDS35202  \n",
      "2806743      NaN  ENSP00000370010               1  CCDS35202  \n",
      "2806746      NaN  ENSP00000370010               1  CCDS35202  \n",
      "2806753      NaN  ENSP00000370009               1  CCDS35202  \n",
      "2806756      NaN  ENSP00000370009               1  CCDS35202  \n",
      "2806764      NaN  ENSP00000370007               1  CCDS35202  \n",
      "2806767      NaN  ENSP00000370007               1  CCDS35202  \n",
      "\n",
      "[8 rows x 28 columns]\n",
      "<pandas.core.groupby.generic.DataFrameGroupBy object at 0x7f00ba1fd7c0>\n",
      "adding 12976461 12976676\n",
      "adding 12976461 12976676\n",
      "adding 12976461 12976676\n",
      "adding 12976461 12976676\n",
      "        Chromosome          Source Feature     Start       End Score Strand  \\\n",
      "2898128       chrY  ensembl_havana     CDS  13704335  13704435     .      +   \n",
      "2898131       chrY  ensembl_havana     CDS  13705224  13705256     .      +   \n",
      "\n",
      "        Frame          gene_id gene_version  ...    tag  \\\n",
      "2898128     0  ENSG00000154620            6  ...  basic   \n",
      "2898131     2  ENSG00000154620            6  ...  basic   \n",
      "\n",
      "        transcript_support_level exon_number exon_id exon_version (assigned  \\\n",
      "2898128                        1           1     NaN          NaN        to   \n",
      "2898131                        1           2     NaN          NaN        to   \n",
      "\n",
      "        previous       protein_id protein_version    ccds_id  \n",
      "2898128  version  ENSP00000284856               3  CCDS14786  \n",
      "2898131  version  ENSP00000284856               3  CCDS14786  \n",
      "\n",
      "[2 rows x 28 columns]\n",
      "<pandas.core.groupby.generic.DataFrameGroupBy object at 0x7f00761668b0>\n",
      "adding 13704535 13705124\n",
      "        Chromosome          Source Feature    Start      End Score Strand  \\\n",
      "2850893       chrX         ensembl     CDS  6150994  6151466     .      -   \n",
      "2850896       chrX         ensembl     CDS  6029279  6029432     .      -   \n",
      "2850898       chrX         ensembl     CDS  5909053  5909239     .      -   \n",
      "2850900       chrX         ensembl     CDS  5903076  5903866     .      -   \n",
      "2850902       chrX         ensembl     CDS  5892819  5893666     .      -   \n",
      "2850910       chrX  ensembl_havana     CDS  6150994  6151466     .      -   \n",
      "2850913       chrX  ensembl_havana     CDS  6029279  6029432     .      -   \n",
      "2850915       chrX  ensembl_havana     CDS  5909053  5909239     .      -   \n",
      "2850917       chrX  ensembl_havana     CDS  5903076  5903866     .      -   \n",
      "2850919       chrX  ensembl_havana     CDS  5892819  5893666     .      -   \n",
      "2850927       chrX  ensembl_havana     CDS  6150994  6151466     .      -   \n",
      "2850930       chrX  ensembl_havana     CDS  6029279  6029432     .      -   \n",
      "2850932       chrX  ensembl_havana     CDS  5909053  5909239     .      -   \n",
      "2850934       chrX  ensembl_havana     CDS  5903076  5903866     .      -   \n",
      "2850936       chrX  ensembl_havana     CDS  5892819  5893666     .      -   \n",
      "2850943       chrX  ensembl_havana     CDS  6150994  6151466     .      -   \n",
      "2850946       chrX  ensembl_havana     CDS  6032690  6032750     .      -   \n",
      "2850948       chrX  ensembl_havana     CDS  6029279  6029432     .      -   \n",
      "2850950       chrX  ensembl_havana     CDS  5909053  5909239     .      -   \n",
      "2850952       chrX  ensembl_havana     CDS  5903076  5903866     .      -   \n",
      "2850954       chrX  ensembl_havana     CDS  5892819  5893666     .      -   \n",
      "2850961       chrX  ensembl_havana     CDS  6150994  6151466     .      -   \n",
      "2850964       chrX  ensembl_havana     CDS  6029279  6029432     .      -   \n",
      "2850966       chrX  ensembl_havana     CDS  5909053  5909239     .      -   \n",
      "2850968       chrX  ensembl_havana     CDS  5903076  5903866     .      -   \n",
      "2850970       chrX  ensembl_havana     CDS  5892819  5893666     .      -   \n",
      "2850979       chrX          havana     CDS  6151008  6151466     .      -   \n",
      "2850986       chrX          havana     CDS  6151289  6151466     .      -   \n",
      "\n",
      "        Frame          gene_id gene_version  ...          tag  \\\n",
      "2850893     0  ENSG00000146938           16  ...        basic   \n",
      "2850896     2  ENSG00000146938           16  ...        basic   \n",
      "2850898     2  ENSG00000146938           16  ...        basic   \n",
      "2850900     2  ENSG00000146938           16  ...        basic   \n",
      "2850902     1  ENSG00000146938           16  ...        basic   \n",
      "2850910     0  ENSG00000146938           16  ...        basic   \n",
      "2850913     2  ENSG00000146938           16  ...        basic   \n",
      "2850915     2  ENSG00000146938           16  ...        basic   \n",
      "2850917     2  ENSG00000146938           16  ...        basic   \n",
      "2850919     1  ENSG00000146938           16  ...        basic   \n",
      "2850927     0  ENSG00000146938           16  ...        basic   \n",
      "2850930     2  ENSG00000146938           16  ...        basic   \n",
      "2850932     2  ENSG00000146938           16  ...        basic   \n",
      "2850934     2  ENSG00000146938           16  ...        basic   \n",
      "2850936     1  ENSG00000146938           16  ...        basic   \n",
      "2850943     0  ENSG00000146938           16  ...        basic   \n",
      "2850946     2  ENSG00000146938           16  ...        basic   \n",
      "2850948     2  ENSG00000146938           16  ...        basic   \n",
      "2850950     2  ENSG00000146938           16  ...        basic   \n",
      "2850952     2  ENSG00000146938           16  ...        basic   \n",
      "2850954     1  ENSG00000146938           16  ...        basic   \n",
      "2850961     0  ENSG00000146938           16  ...        basic   \n",
      "2850964     2  ENSG00000146938           16  ...        basic   \n",
      "2850966     2  ENSG00000146938           16  ...        basic   \n",
      "2850968     2  ENSG00000146938           16  ...        basic   \n",
      "2850970     1  ENSG00000146938           16  ...        basic   \n",
      "2850979     0  ENSG00000146938           16  ...  mRNA_end_NF   \n",
      "2850986     0  ENSG00000146938           16  ...  mRNA_end_NF   \n",
      "\n",
      "        transcript_support_level exon_number exon_id exon_version (assigned  \\\n",
      "2850893                        2           2     NaN          NaN       NaN   \n",
      "2850896                        2           3     NaN          NaN       NaN   \n",
      "2850898                        2           4     NaN          NaN       NaN   \n",
      "2850900                        2           5     NaN          NaN       NaN   \n",
      "2850902                        2           6     NaN          NaN       NaN   \n",
      "2850910                        1           2     NaN          NaN        to   \n",
      "2850913                        1           3     NaN          NaN        to   \n",
      "2850915                        1           4     NaN          NaN        to   \n",
      "2850917                        1           5     NaN          NaN        to   \n",
      "2850919                        1           6     NaN          NaN        to   \n",
      "2850927                        1           2     NaN          NaN       NaN   \n",
      "2850930                        1           3     NaN          NaN       NaN   \n",
      "2850932                        1           4     NaN          NaN       NaN   \n",
      "2850934                        1           5     NaN          NaN       NaN   \n",
      "2850936                        1           6     NaN          NaN       NaN   \n",
      "2850943                        1           1     NaN          NaN        to   \n",
      "2850946                        1           2     NaN          NaN        to   \n",
      "2850948                        1           3     NaN          NaN        to   \n",
      "2850950                        1           4     NaN          NaN        to   \n",
      "2850952                        1           5     NaN          NaN        to   \n",
      "2850954                        1           6     NaN          NaN        to   \n",
      "2850961                        2           3     NaN          NaN       NaN   \n",
      "2850964                        2           4     NaN          NaN       NaN   \n",
      "2850966                        2           5     NaN          NaN       NaN   \n",
      "2850968                        2           6     NaN          NaN       NaN   \n",
      "2850970                        2           7     NaN          NaN       NaN   \n",
      "2850979                        3           2     NaN          NaN       NaN   \n",
      "2850986                        3           2     NaN          NaN       NaN   \n",
      "\n",
      "        previous       protein_id protein_version    ccds_id  \n",
      "2850893      NaN  ENSP00000370483               3  CCDS14126  \n",
      "2850896      NaN  ENSP00000370483               3  CCDS14126  \n",
      "2850898      NaN  ENSP00000370483               3  CCDS14126  \n",
      "2850900      NaN  ENSP00000370483               3  CCDS14126  \n",
      "2850902      NaN  ENSP00000370483               3  CCDS14126  \n",
      "2850910  version  ENSP00000370485               3  CCDS14126  \n",
      "2850913  version  ENSP00000370485               3  CCDS14126  \n",
      "2850915  version  ENSP00000370485               3  CCDS14126  \n",
      "2850917  version  ENSP00000370485               3  CCDS14126  \n",
      "2850919  version  ENSP00000370485               3  CCDS14126  \n",
      "2850927      NaN  ENSP00000275857               6  CCDS14126  \n",
      "2850930      NaN  ENSP00000275857               6  CCDS14126  \n",
      "2850932      NaN  ENSP00000275857               6  CCDS14126  \n",
      "2850934      NaN  ENSP00000275857               6  CCDS14126  \n",
      "2850936      NaN  ENSP00000275857               6  CCDS14126  \n",
      "2850943  version  ENSP00000439203               3        NaN  \n",
      "2850946  version  ENSP00000439203               3        NaN  \n",
      "2850948  version  ENSP00000439203               3        NaN  \n",
      "2850950  version  ENSP00000439203               3        NaN  \n",
      "2850952  version  ENSP00000439203               3        NaN  \n",
      "2850954  version  ENSP00000439203               3        NaN  \n",
      "2850961      NaN  ENSP00000370482               1  CCDS14126  \n",
      "2850964      NaN  ENSP00000370482               1  CCDS14126  \n",
      "2850966      NaN  ENSP00000370482               1  CCDS14126  \n",
      "2850968      NaN  ENSP00000370482               1  CCDS14126  \n",
      "2850970      NaN  ENSP00000370482               1  CCDS14126  \n",
      "2850979      NaN  ENSP00000493620               1        NaN  \n",
      "2850986      NaN  ENSP00000495194               1        NaN  \n",
      "\n",
      "[28 rows x 28 columns]\n",
      "<pandas.core.groupby.generic.DataFrameGroupBy object at 0x7f010980c8b0>\n",
      "adding 5893766 5902976\n",
      "adding 5903966 5908953\n",
      "adding 5909339 6029179\n"
     ]
    },
    {
     "name": "stderr",
     "output_type": "stream",
     "text": [
      "/tmp/ipykernel_3779053/2834357883.py:40: FutureWarning: The frame.append method is deprecated and will be removed from pandas in a future version. Use pandas.concat instead.\n",
      "  intron_coordinates = intron_coordinates.append(new_row, ignore_index=True)\n",
      "/tmp/ipykernel_3779053/2834357883.py:40: FutureWarning: The frame.append method is deprecated and will be removed from pandas in a future version. Use pandas.concat instead.\n",
      "  intron_coordinates = intron_coordinates.append(new_row, ignore_index=True)\n",
      "/tmp/ipykernel_3779053/2834357883.py:40: FutureWarning: The frame.append method is deprecated and will be removed from pandas in a future version. Use pandas.concat instead.\n",
      "  intron_coordinates = intron_coordinates.append(new_row, ignore_index=True)\n",
      "/tmp/ipykernel_3779053/2834357883.py:40: FutureWarning: The frame.append method is deprecated and will be removed from pandas in a future version. Use pandas.concat instead.\n",
      "  intron_coordinates = intron_coordinates.append(new_row, ignore_index=True)\n",
      "/tmp/ipykernel_3779053/2834357883.py:40: FutureWarning: The frame.append method is deprecated and will be removed from pandas in a future version. Use pandas.concat instead.\n",
      "  intron_coordinates = intron_coordinates.append(new_row, ignore_index=True)\n",
      "/tmp/ipykernel_3779053/2834357883.py:40: FutureWarning: The frame.append method is deprecated and will be removed from pandas in a future version. Use pandas.concat instead.\n",
      "  intron_coordinates = intron_coordinates.append(new_row, ignore_index=True)\n",
      "/tmp/ipykernel_3779053/2834357883.py:40: FutureWarning: The frame.append method is deprecated and will be removed from pandas in a future version. Use pandas.concat instead.\n",
      "  intron_coordinates = intron_coordinates.append(new_row, ignore_index=True)\n",
      "/tmp/ipykernel_3779053/2834357883.py:40: FutureWarning: The frame.append method is deprecated and will be removed from pandas in a future version. Use pandas.concat instead.\n",
      "  intron_coordinates = intron_coordinates.append(new_row, ignore_index=True)\n",
      "/tmp/ipykernel_3779053/2834357883.py:40: FutureWarning: The frame.append method is deprecated and will be removed from pandas in a future version. Use pandas.concat instead.\n",
      "  intron_coordinates = intron_coordinates.append(new_row, ignore_index=True)\n",
      "/tmp/ipykernel_3779053/2834357883.py:40: FutureWarning: The frame.append method is deprecated and will be removed from pandas in a future version. Use pandas.concat instead.\n",
      "  intron_coordinates = intron_coordinates.append(new_row, ignore_index=True)\n",
      "/tmp/ipykernel_3779053/2834357883.py:40: FutureWarning: The frame.append method is deprecated and will be removed from pandas in a future version. Use pandas.concat instead.\n",
      "  intron_coordinates = intron_coordinates.append(new_row, ignore_index=True)\n",
      "/tmp/ipykernel_3779053/2834357883.py:40: FutureWarning: The frame.append method is deprecated and will be removed from pandas in a future version. Use pandas.concat instead.\n",
      "  intron_coordinates = intron_coordinates.append(new_row, ignore_index=True)\n",
      "/tmp/ipykernel_3779053/2834357883.py:40: FutureWarning: The frame.append method is deprecated and will be removed from pandas in a future version. Use pandas.concat instead.\n",
      "  intron_coordinates = intron_coordinates.append(new_row, ignore_index=True)\n",
      "/tmp/ipykernel_3779053/2834357883.py:40: FutureWarning: The frame.append method is deprecated and will be removed from pandas in a future version. Use pandas.concat instead.\n",
      "  intron_coordinates = intron_coordinates.append(new_row, ignore_index=True)\n",
      "/tmp/ipykernel_3779053/2834357883.py:40: FutureWarning: The frame.append method is deprecated and will be removed from pandas in a future version. Use pandas.concat instead.\n",
      "  intron_coordinates = intron_coordinates.append(new_row, ignore_index=True)\n"
     ]
    },
    {
     "name": "stdout",
     "output_type": "stream",
     "text": [
      "HERE 6029532 6150894\n",
      "adding 5893766 5902976\n",
      "adding 5903966 5908953\n",
      "adding 5909339 6029179\n",
      "HERE 6029532 6150894\n",
      "adding 5893766 5902976\n",
      "adding 5903966 5908953\n",
      "adding 5909339 6029179\n",
      "HERE 6029532 6150894\n",
      "adding 5893766 5902976\n",
      "adding 5903966 5908953\n",
      "adding 5909339 6029179\n",
      "HERE 6029532 6150894\n",
      "adding 5893766 5902976\n",
      "adding 5903966 5908953\n",
      "adding 5909339 6029179\n"
     ]
    },
    {
     "name": "stderr",
     "output_type": "stream",
     "text": [
      "/tmp/ipykernel_3779053/2834357883.py:40: FutureWarning: The frame.append method is deprecated and will be removed from pandas in a future version. Use pandas.concat instead.\n",
      "  intron_coordinates = intron_coordinates.append(new_row, ignore_index=True)\n",
      "/tmp/ipykernel_3779053/2834357883.py:40: FutureWarning: The frame.append method is deprecated and will be removed from pandas in a future version. Use pandas.concat instead.\n",
      "  intron_coordinates = intron_coordinates.append(new_row, ignore_index=True)\n",
      "/tmp/ipykernel_3779053/2834357883.py:40: FutureWarning: The frame.append method is deprecated and will be removed from pandas in a future version. Use pandas.concat instead.\n",
      "  intron_coordinates = intron_coordinates.append(new_row, ignore_index=True)\n",
      "/tmp/ipykernel_3779053/2834357883.py:40: FutureWarning: The frame.append method is deprecated and will be removed from pandas in a future version. Use pandas.concat instead.\n",
      "  intron_coordinates = intron_coordinates.append(new_row, ignore_index=True)\n",
      "/tmp/ipykernel_3779053/2834357883.py:40: FutureWarning: The frame.append method is deprecated and will be removed from pandas in a future version. Use pandas.concat instead.\n",
      "  intron_coordinates = intron_coordinates.append(new_row, ignore_index=True)\n",
      "/tmp/ipykernel_3779053/2834357883.py:40: FutureWarning: The frame.append method is deprecated and will be removed from pandas in a future version. Use pandas.concat instead.\n",
      "  intron_coordinates = intron_coordinates.append(new_row, ignore_index=True)\n",
      "/tmp/ipykernel_3779053/2834357883.py:40: FutureWarning: The frame.append method is deprecated and will be removed from pandas in a future version. Use pandas.concat instead.\n",
      "  intron_coordinates = intron_coordinates.append(new_row, ignore_index=True)\n",
      "/tmp/ipykernel_3779053/2834357883.py:40: FutureWarning: The frame.append method is deprecated and will be removed from pandas in a future version. Use pandas.concat instead.\n",
      "  intron_coordinates = intron_coordinates.append(new_row, ignore_index=True)\n",
      "/tmp/ipykernel_3779053/2834357883.py:40: FutureWarning: The frame.append method is deprecated and will be removed from pandas in a future version. Use pandas.concat instead.\n",
      "  intron_coordinates = intron_coordinates.append(new_row, ignore_index=True)\n",
      "/tmp/ipykernel_3779053/2834357883.py:40: FutureWarning: The frame.append method is deprecated and will be removed from pandas in a future version. Use pandas.concat instead.\n",
      "  intron_coordinates = intron_coordinates.append(new_row, ignore_index=True)\n",
      "/tmp/ipykernel_3779053/2834357883.py:40: FutureWarning: The frame.append method is deprecated and will be removed from pandas in a future version. Use pandas.concat instead.\n",
      "  intron_coordinates = intron_coordinates.append(new_row, ignore_index=True)\n"
     ]
    },
    {
     "name": "stdout",
     "output_type": "stream",
     "text": [
      "adding 6029532 6032590\n",
      "adding 6032850 6150894\n",
      "        Chromosome          Source Feature     Start       End Score Strand  \\\n",
      "2898190       chrY          havana     CDS  14622119  14622591     .      +   \n",
      "2898193       chrY          havana     CDS  14719458  14719518     .      +   \n",
      "2898195       chrY          havana     CDS  14723116  14723269     .      +   \n",
      "2898197       chrY          havana     CDS  14824187  14824373     .      +   \n",
      "2898199       chrY          havana     CDS  14829729  14830519     .      +   \n",
      "2898201       chrY          havana     CDS  14840412  14841259     .      +   \n",
      "2898213       chrY  ensembl_havana     CDS  14723148  14723269     .      +   \n",
      "2898216       chrY  ensembl_havana     CDS  14824187  14824373     .      +   \n",
      "2898218       chrY  ensembl_havana     CDS  14829729  14830519     .      +   \n",
      "2898220       chrY  ensembl_havana     CDS  14840412  14841259     .      +   \n",
      "2898229       chrY  ensembl_havana     CDS  14622119  14622591     .      +   \n",
      "2898232       chrY  ensembl_havana     CDS  14723116  14723269     .      +   \n",
      "2898234       chrY  ensembl_havana     CDS  14824187  14824373     .      +   \n",
      "2898236       chrY  ensembl_havana     CDS  14829729  14830519     .      +   \n",
      "2898238       chrY  ensembl_havana     CDS  14840412  14841259     .      +   \n",
      "2898246       chrY          havana     CDS  14622119  14622591     .      +   \n",
      "2898249       chrY          havana     CDS  14719458  14719518     .      +   \n",
      "2898251       chrY          havana     CDS  14723116  14723269     .      +   \n",
      "2898253       chrY          havana     CDS  14748618  14748729     .      +   \n",
      "2898255       chrY          havana     CDS  14824187  14824373     .      +   \n",
      "2898257       chrY          havana     CDS  14829729  14830519     .      +   \n",
      "2898259       chrY          havana     CDS  14840412  14841259     .      +   \n",
      "2898277       chrY          havana     CDS  14622119  14622220     .      +   \n",
      "2898287       chrY          havana     CDS  14622119  14622591     .      +   \n",
      "2898290       chrY          havana     CDS  14723116  14723269     .      +   \n",
      "2898292       chrY          havana     CDS  14824187  14824373     .      +   \n",
      "2898294       chrY          havana     CDS  14829729  14830519     .      +   \n",
      "2898296       chrY          havana     CDS  14840412  14841259     .      +   \n",
      "2898303       chrY  ensembl_havana     CDS  14622180  14622591     .      +   \n",
      "2898305       chrY  ensembl_havana     CDS  14719458  14719518     .      +   \n",
      "2898307       chrY  ensembl_havana     CDS  14723116  14723269     .      +   \n",
      "2898309       chrY  ensembl_havana     CDS  14733451  14733534     .      +   \n",
      "\n",
      "        Frame          gene_id gene_version  ...            tag  \\\n",
      "2898190     0  ENSG00000165246           14  ...    mRNA_end_NF   \n",
      "2898193     2  ENSG00000165246           14  ...    mRNA_end_NF   \n",
      "2898195     2  ENSG00000165246           14  ...    mRNA_end_NF   \n",
      "2898197     2  ENSG00000165246           14  ...    mRNA_end_NF   \n",
      "2898199     2  ENSG00000165246           14  ...    mRNA_end_NF   \n",
      "2898201     1  ENSG00000165246           14  ...    mRNA_end_NF   \n",
      "2898213     0  ENSG00000165246           14  ...          basic   \n",
      "2898216     2  ENSG00000165246           14  ...          basic   \n",
      "2898218     2  ENSG00000165246           14  ...          basic   \n",
      "2898220     1  ENSG00000165246           14  ...          basic   \n",
      "2898229     0  ENSG00000165246           14  ...    mRNA_end_NF   \n",
      "2898232     2  ENSG00000165246           14  ...    mRNA_end_NF   \n",
      "2898234     2  ENSG00000165246           14  ...    mRNA_end_NF   \n",
      "2898236     2  ENSG00000165246           14  ...    mRNA_end_NF   \n",
      "2898238     1  ENSG00000165246           14  ...    mRNA_end_NF   \n",
      "2898246     0  ENSG00000165246           14  ...          basic   \n",
      "2898249     2  ENSG00000165246           14  ...          basic   \n",
      "2898251     2  ENSG00000165246           14  ...          basic   \n",
      "2898253     2  ENSG00000165246           14  ...          basic   \n",
      "2898255     2  ENSG00000165246           14  ...          basic   \n",
      "2898257     2  ENSG00000165246           14  ...          basic   \n",
      "2898259     1  ENSG00000165246           14  ...          basic   \n",
      "2898277     0  ENSG00000165246           14  ...    mRNA_end_NF   \n",
      "2898287     0  ENSG00000165246           14  ...          basic   \n",
      "2898290     2  ENSG00000165246           14  ...          basic   \n",
      "2898292     2  ENSG00000165246           14  ...          basic   \n",
      "2898294     2  ENSG00000165246           14  ...          basic   \n",
      "2898296     1  ENSG00000165246           14  ...          basic   \n",
      "2898303     2  ENSG00000165246           14  ...  mRNA_start_NF   \n",
      "2898305     2  ENSG00000165246           14  ...  mRNA_start_NF   \n",
      "2898307     2  ENSG00000165246           14  ...  mRNA_start_NF   \n",
      "2898309     2  ENSG00000165246           14  ...  mRNA_start_NF   \n",
      "\n",
      "        transcript_support_level exon_number exon_id exon_version (assigned  \\\n",
      "2898190                      NaN           2     NaN          NaN       NaN   \n",
      "2898193                      NaN           3     NaN          NaN       NaN   \n",
      "2898195                      NaN           4     NaN          NaN       NaN   \n",
      "2898197                      NaN           5     NaN          NaN       NaN   \n",
      "2898199                      NaN           6     NaN          NaN       NaN   \n",
      "2898201                      NaN           7     NaN          NaN       NaN   \n",
      "2898213                        1           3     NaN          NaN       NaN   \n",
      "2898216                        1           4     NaN          NaN       NaN   \n",
      "2898218                        1           5     NaN          NaN       NaN   \n",
      "2898220                        1           6     NaN          NaN       NaN   \n",
      "2898229                        1           2     NaN          NaN       NaN   \n",
      "2898232                        1           3     NaN          NaN       NaN   \n",
      "2898234                        1           4     NaN          NaN       NaN   \n",
      "2898236                        1           5     NaN          NaN       NaN   \n",
      "2898238                        1           6     NaN          NaN       NaN   \n",
      "2898246                        1           2     NaN          NaN       NaN   \n",
      "2898249                        1           3     NaN          NaN       NaN   \n",
      "2898251                        1           4     NaN          NaN       NaN   \n",
      "2898253                        1           5     NaN          NaN       NaN   \n",
      "2898255                        1           6     NaN          NaN       NaN   \n",
      "2898257                        1           7     NaN          NaN       NaN   \n",
      "2898259                        1           8     NaN          NaN       NaN   \n",
      "2898277                      NaN           2     NaN          NaN       NaN   \n",
      "2898287                        1           2     NaN          NaN       NaN   \n",
      "2898290                        1           3     NaN          NaN       NaN   \n",
      "2898292                        1           4     NaN          NaN       NaN   \n",
      "2898294                        1           5     NaN          NaN       NaN   \n",
      "2898296                        1           6     NaN          NaN       NaN   \n",
      "2898303                        1           1     NaN          NaN       NaN   \n",
      "2898305                        1           2     NaN          NaN       NaN   \n",
      "2898307                        1           3     NaN          NaN       NaN   \n",
      "2898309                        1           4     NaN          NaN       NaN   \n",
      "\n",
      "        previous       protein_id protein_version    ccds_id  \n",
      "2898190      NaN  ENSP00000496594               1        NaN  \n",
      "2898193      NaN  ENSP00000496594               1        NaN  \n",
      "2898195      NaN  ENSP00000496594               1        NaN  \n",
      "2898197      NaN  ENSP00000496594               1        NaN  \n",
      "2898199      NaN  ENSP00000496594               1        NaN  \n",
      "2898201      NaN  ENSP00000496594               1        NaN  \n",
      "2898213      NaN  ENSP00000372325               1  CCDS56619  \n",
      "2898216      NaN  ENSP00000372325               1  CCDS56619  \n",
      "2898218      NaN  ENSP00000372325               1  CCDS56619  \n",
      "2898220      NaN  ENSP00000372325               1  CCDS56619  \n",
      "2898229      NaN  ENSP00000348169               2  CCDS14788  \n",
      "2898232      NaN  ENSP00000348169               2  CCDS14788  \n",
      "2898234      NaN  ENSP00000348169               2  CCDS14788  \n",
      "2898236      NaN  ENSP00000348169               2  CCDS14788  \n",
      "2898238      NaN  ENSP00000348169               2  CCDS14788  \n",
      "2898246      NaN  ENSP00000372320               1        NaN  \n",
      "2898249      NaN  ENSP00000372320               1        NaN  \n",
      "2898251      NaN  ENSP00000372320               1        NaN  \n",
      "2898253      NaN  ENSP00000372320               1        NaN  \n",
      "2898255      NaN  ENSP00000372320               1        NaN  \n",
      "2898257      NaN  ENSP00000372320               1        NaN  \n",
      "2898259      NaN  ENSP00000372320               1        NaN  \n",
      "2898277      NaN  ENSP00000494046               1        NaN  \n",
      "2898287      NaN  ENSP00000342535               5  CCDS14788  \n",
      "2898290      NaN  ENSP00000342535               5  CCDS14788  \n",
      "2898292      NaN  ENSP00000342535               5  CCDS14788  \n",
      "2898294      NaN  ENSP00000342535               5  CCDS14788  \n",
      "2898296      NaN  ENSP00000342535               5  CCDS14788  \n",
      "2898303      NaN  ENSP00000412638               1        NaN  \n",
      "2898305      NaN  ENSP00000412638               1        NaN  \n",
      "2898307      NaN  ENSP00000412638               1        NaN  \n",
      "2898309      NaN  ENSP00000412638               1        NaN  \n",
      "\n",
      "[32 rows x 28 columns]\n",
      "<pandas.core.groupby.generic.DataFrameGroupBy object at 0x7f00eef3f700>\n",
      "HERE 14622691 14723016\n",
      "HERE 14723369 14824087\n",
      "adding 14824473 14829629\n",
      "adding 14830619 14840312\n",
      "HERE 14622691 14723016\n",
      "HERE 14723369 14824087\n",
      "adding 14824473 14829629\n",
      "adding 14830619 14840312\n",
      "adding 14622691 14719358\n",
      "adding 14719618 14723016\n",
      "HERE 14723369 14748518\n",
      "adding 14748829 14824087\n",
      "adding 14824473 14829629\n"
     ]
    },
    {
     "name": "stderr",
     "output_type": "stream",
     "text": [
      "/tmp/ipykernel_3779053/2834357883.py:40: FutureWarning: The frame.append method is deprecated and will be removed from pandas in a future version. Use pandas.concat instead.\n",
      "  intron_coordinates = intron_coordinates.append(new_row, ignore_index=True)\n",
      "/tmp/ipykernel_3779053/2834357883.py:40: FutureWarning: The frame.append method is deprecated and will be removed from pandas in a future version. Use pandas.concat instead.\n",
      "  intron_coordinates = intron_coordinates.append(new_row, ignore_index=True)\n",
      "/tmp/ipykernel_3779053/2834357883.py:40: FutureWarning: The frame.append method is deprecated and will be removed from pandas in a future version. Use pandas.concat instead.\n",
      "  intron_coordinates = intron_coordinates.append(new_row, ignore_index=True)\n",
      "/tmp/ipykernel_3779053/2834357883.py:40: FutureWarning: The frame.append method is deprecated and will be removed from pandas in a future version. Use pandas.concat instead.\n",
      "  intron_coordinates = intron_coordinates.append(new_row, ignore_index=True)\n",
      "/tmp/ipykernel_3779053/2834357883.py:40: FutureWarning: The frame.append method is deprecated and will be removed from pandas in a future version. Use pandas.concat instead.\n",
      "  intron_coordinates = intron_coordinates.append(new_row, ignore_index=True)\n",
      "/tmp/ipykernel_3779053/2834357883.py:40: FutureWarning: The frame.append method is deprecated and will be removed from pandas in a future version. Use pandas.concat instead.\n",
      "  intron_coordinates = intron_coordinates.append(new_row, ignore_index=True)\n",
      "/tmp/ipykernel_3779053/2834357883.py:40: FutureWarning: The frame.append method is deprecated and will be removed from pandas in a future version. Use pandas.concat instead.\n",
      "  intron_coordinates = intron_coordinates.append(new_row, ignore_index=True)\n",
      "/tmp/ipykernel_3779053/2834357883.py:40: FutureWarning: The frame.append method is deprecated and will be removed from pandas in a future version. Use pandas.concat instead.\n",
      "  intron_coordinates = intron_coordinates.append(new_row, ignore_index=True)\n",
      "/tmp/ipykernel_3779053/2834357883.py:40: FutureWarning: The frame.append method is deprecated and will be removed from pandas in a future version. Use pandas.concat instead.\n",
      "  intron_coordinates = intron_coordinates.append(new_row, ignore_index=True)\n",
      "/tmp/ipykernel_3779053/2834357883.py:40: FutureWarning: The frame.append method is deprecated and will be removed from pandas in a future version. Use pandas.concat instead.\n",
      "  intron_coordinates = intron_coordinates.append(new_row, ignore_index=True)\n",
      "/tmp/ipykernel_3779053/2834357883.py:40: FutureWarning: The frame.append method is deprecated and will be removed from pandas in a future version. Use pandas.concat instead.\n",
      "  intron_coordinates = intron_coordinates.append(new_row, ignore_index=True)\n"
     ]
    },
    {
     "name": "stdout",
     "output_type": "stream",
     "text": [
      "adding 14830619 14840312\n",
      "HERE 14723369 14824087\n",
      "adding 14824473 14829629\n",
      "adding 14830619 14840312\n",
      "adding 14622691 14719358\n",
      "adding 14719618 14723016\n",
      "adding 14723369 14733351\n",
      "adding 14622691 14719358\n",
      "adding 14719618 14723016\n",
      "HERE 14723369 14824087\n",
      "adding 14824473 14829629\n",
      "adding 14830619 14840312\n"
     ]
    },
    {
     "name": "stderr",
     "output_type": "stream",
     "text": [
      "/tmp/ipykernel_3779053/2834357883.py:40: FutureWarning: The frame.append method is deprecated and will be removed from pandas in a future version. Use pandas.concat instead.\n",
      "  intron_coordinates = intron_coordinates.append(new_row, ignore_index=True)\n",
      "/tmp/ipykernel_3779053/2834357883.py:40: FutureWarning: The frame.append method is deprecated and will be removed from pandas in a future version. Use pandas.concat instead.\n",
      "  intron_coordinates = intron_coordinates.append(new_row, ignore_index=True)\n",
      "/tmp/ipykernel_3779053/2834357883.py:40: FutureWarning: The frame.append method is deprecated and will be removed from pandas in a future version. Use pandas.concat instead.\n",
      "  intron_coordinates = intron_coordinates.append(new_row, ignore_index=True)\n",
      "/tmp/ipykernel_3779053/2834357883.py:40: FutureWarning: The frame.append method is deprecated and will be removed from pandas in a future version. Use pandas.concat instead.\n",
      "  intron_coordinates = intron_coordinates.append(new_row, ignore_index=True)\n",
      "/tmp/ipykernel_3779053/2834357883.py:40: FutureWarning: The frame.append method is deprecated and will be removed from pandas in a future version. Use pandas.concat instead.\n",
      "  intron_coordinates = intron_coordinates.append(new_row, ignore_index=True)\n",
      "/tmp/ipykernel_3779053/2834357883.py:40: FutureWarning: The frame.append method is deprecated and will be removed from pandas in a future version. Use pandas.concat instead.\n",
      "  intron_coordinates = intron_coordinates.append(new_row, ignore_index=True)\n",
      "/tmp/ipykernel_3779053/2834357883.py:40: FutureWarning: The frame.append method is deprecated and will be removed from pandas in a future version. Use pandas.concat instead.\n",
      "  intron_coordinates = intron_coordinates.append(new_row, ignore_index=True)\n",
      "/tmp/ipykernel_3779053/2834357883.py:40: FutureWarning: The frame.append method is deprecated and will be removed from pandas in a future version. Use pandas.concat instead.\n",
      "  intron_coordinates = intron_coordinates.append(new_row, ignore_index=True)\n"
     ]
    }
   ],
   "source": [
    "intron_coordinates = pd.DataFrame(columns=['seqname', 'feature', 'start', 'end', 'gene_name'])  \n",
    "genes = [\"TXLNG\", \"TXLNGY\", \"EIF1AX\", \"EIF1AY\", \"KDM5D\" , \"KDM5C\",\"UTY\", \"KDM6A\", \"ZFY\", \"ZFX\", \"DDX3Y\" ,\"DDX3X\", \"USP9Y\" , \"USP9X\", \"RPS4Y1\", \"RPS4X\", \"TMSB4X\", \"TMSB4Y\", \"NLGN4X\", \"NLGN4Y\"] \n",
    "\n",
    "#genes = [\"ZFY\"] \n",
    "\n",
    "for gene in genes: \n",
    "    testzfx = gtf_xy[gtf_xy['gene_name'] == gene] \n",
    "    exons = testzfx[testzfx['Feature'] == \"CDS\"]\n",
    "    print(exons)\n",
    "    if gene == 'TXLNGY':\n",
    "        exons = testzfx[testzfx['Feature'] == \"exon\"]\n",
    "    exons = exons.sort_values(['Chromosome', 'Start', 'End']) #sort values start to end \n",
    "    grouped_exons = exons.groupby('transcript_id')\n",
    "    print(grouped_exons)\n",
    "    for name, group in grouped_exons:\n",
    "      #  print(name)\n",
    "        for i in range(1, len(group)):\n",
    "            intron_start = group.iloc[i-1][4] \n",
    "            intron_end = group.iloc[i][3] \n",
    "            \n",
    "            if (intron_end - intron_start > 200) & (intron_end > intron_start): \n",
    "                intron_start = intron_start + 100\n",
    "                intron_end = intron_end - 100\n",
    "            else:\n",
    "                continue\n",
    "        # Check for overlap with exons of any transcripts \n",
    "            #print(group.iloc[i-1][24] == '1')  \n",
    "            #get rid of any grouped exon \n",
    "            if (group.iloc[i-1][24] == '1') | (group.iloc[i][24] == '1'): \n",
    "                print('FIRST', intron_start, intron_end)\n",
    "                continue\n",
    "            \n",
    "            if intron_overlapping(exons, intron_start, intron_end): #this doesnt crop out everything that id want it to# #need to make it better                 \n",
    "                print(\"HERE\", intron_start, intron_end) \n",
    "                continue\n",
    "            \n",
    "            else:\n",
    "                print(\"adding\", intron_start, intron_end) \n",
    "                new_row = pd.Series({'seqname': testzfx['Chromosome'].iloc[0], 'feature': 'intron', 'start': intron_start, 'end':intron_end, 'gene_name':gene}) \n",
    "                intron_coordinates = intron_coordinates.append(new_row, ignore_index=True) \n",
    "                "
   ]
  },
  {
   "cell_type": "code",
   "execution_count": 74,
   "id": "fbd87dcc-a2f0-4cbe-b395-9ab9fcf0e95a",
   "metadata": {},
   "outputs": [
    {
     "data": {
      "text/html": [
       "<div>\n",
       "<style scoped>\n",
       "    .dataframe tbody tr th:only-of-type {\n",
       "        vertical-align: middle;\n",
       "    }\n",
       "\n",
       "    .dataframe tbody tr th {\n",
       "        vertical-align: top;\n",
       "    }\n",
       "\n",
       "    .dataframe thead th {\n",
       "        text-align: right;\n",
       "    }\n",
       "</style>\n",
       "<table border=\"1\" class=\"dataframe\">\n",
       "  <thead>\n",
       "    <tr style=\"text-align: right;\">\n",
       "      <th></th>\n",
       "      <th>seqname</th>\n",
       "      <th>feature</th>\n",
       "      <th>start</th>\n",
       "      <th>end</th>\n",
       "      <th>gene_name</th>\n",
       "    </tr>\n",
       "  </thead>\n",
       "  <tbody>\n",
       "    <tr>\n",
       "      <th>2898127</th>\n",
       "      <td>chrY</td>\n",
       "      <td>exon</td>\n",
       "      <td>13703898</td>\n",
       "      <td>13704435</td>\n",
       "      <td>TMSB4Y</td>\n",
       "    </tr>\n",
       "    <tr>\n",
       "      <th>2898128</th>\n",
       "      <td>chrY</td>\n",
       "      <td>CDS</td>\n",
       "      <td>13704335</td>\n",
       "      <td>13704435</td>\n",
       "      <td>TMSB4Y</td>\n",
       "    </tr>\n",
       "    <tr>\n",
       "      <th>2898130</th>\n",
       "      <td>chrY</td>\n",
       "      <td>exon</td>\n",
       "      <td>13705224</td>\n",
       "      <td>13706024</td>\n",
       "      <td>TMSB4Y</td>\n",
       "    </tr>\n",
       "    <tr>\n",
       "      <th>2898131</th>\n",
       "      <td>chrY</td>\n",
       "      <td>CDS</td>\n",
       "      <td>13705224</td>\n",
       "      <td>13705256</td>\n",
       "      <td>TMSB4Y</td>\n",
       "    </tr>\n",
       "  </tbody>\n",
       "</table>\n",
       "</div>"
      ],
      "text/plain": [
       "        seqname feature     start       end gene_name\n",
       "2898127    chrY    exon  13703898  13704435    TMSB4Y\n",
       "2898128    chrY     CDS  13704335  13704435    TMSB4Y\n",
       "2898130    chrY    exon  13705224  13706024    TMSB4Y\n",
       "2898131    chrY     CDS  13705224  13705256    TMSB4Y"
      ]
     },
     "execution_count": 74,
     "metadata": {},
     "output_type": "execute_result"
    }
   ],
   "source": [
    "gtf_small = gtf_xy[['Chromosome', 'Feature', 'Start', 'End', 'gene_name']] \n",
    "gtf_small = gtf_small.rename(columns={\"Chromosome\": \"seqname\", \"Feature\": \"feature\", \"Start\":\"start\", \"End\": \"end\", \"gene_name\": \"gene_name\"}) #(\"seqname\", \"feature\", \"start\", \"end\", \"gene_name\")\n",
    "gtf_small[gtf_small['gene_name'] == 'TMSB4Y']"
   ]
  },
  {
   "cell_type": "code",
   "execution_count": 75,
   "id": "b9306674-2876-4312-b4fc-b2ee5f201264",
   "metadata": {},
   "outputs": [
    {
     "name": "stdout",
     "output_type": "stream",
     "text": [
      "{'UTY', 'RPS4X', 'DDX3X', 'EIF1AX', 'ZFY', 'TMSB4Y', 'TMSB4X', 'ZFX', 'KDM6A', 'TXLNG', 'USP9X', 'TXLNGY', 'NLGN4X', 'KDM5D', 'DDX3Y', 'USP9Y', 'EIF1AY', 'KDM5C', 'RPS4Y1', 'NLGN4Y'}\n"
     ]
    }
   ],
   "source": [
    "vertically_concatenated = pd.concat([gtf_small, intron_coordinates], axis=0) \n",
    "vertically_concatenated = vertically_concatenated[(vertically_concatenated['feature'] == \"CDS\") | (vertically_concatenated['feature'] == \"intron\") | ((vertically_concatenated['feature'] == 'exon') & (vertically_concatenated['gene_name'] == 'TXLNGY'))]\n",
    "print(set(vertically_concatenated['gene_name']))"
   ]
  },
  {
   "cell_type": "code",
   "execution_count": 76,
   "id": "4f7f2821-0151-48ba-bb5b-15348441f449",
   "metadata": {},
   "outputs": [],
   "source": [
    "vertically_concatenated['feature'].unique()\n",
    "#get only unique rows ####\n",
    "vertically_concatenated.to_csv(\"XY_gtf_w_introns_100923.txt\",  index=None, sep=str('\\t'))\n",
    "#vertically_concatenated.to_csv(\"XY_gtf_w_introns_072123.txt\",  index=None, sep=str('\\t'))"
   ]
  },
  {
   "cell_type": "code",
   "execution_count": 77,
   "id": "b2b328ac-fc8d-4667-9e76-8cca967ea873",
   "metadata": {},
   "outputs": [
    {
     "data": {
      "text/html": [
       "<div>\n",
       "<style scoped>\n",
       "    .dataframe tbody tr th:only-of-type {\n",
       "        vertical-align: middle;\n",
       "    }\n",
       "\n",
       "    .dataframe tbody tr th {\n",
       "        vertical-align: top;\n",
       "    }\n",
       "\n",
       "    .dataframe thead th {\n",
       "        text-align: right;\n",
       "    }\n",
       "</style>\n",
       "<table border=\"1\" class=\"dataframe\">\n",
       "  <thead>\n",
       "    <tr style=\"text-align: right;\">\n",
       "      <th></th>\n",
       "      <th>seqname</th>\n",
       "      <th>feature</th>\n",
       "      <th>start</th>\n",
       "      <th>end</th>\n",
       "      <th>gene_name</th>\n",
       "    </tr>\n",
       "  </thead>\n",
       "  <tbody>\n",
       "    <tr>\n",
       "      <th>2898628</th>\n",
       "      <td>chrY</td>\n",
       "      <td>exon</td>\n",
       "      <td>19567312</td>\n",
       "      <td>19567482</td>\n",
       "      <td>TXLNGY</td>\n",
       "    </tr>\n",
       "    <tr>\n",
       "      <th>2898629</th>\n",
       "      <td>chrY</td>\n",
       "      <td>exon</td>\n",
       "      <td>19587209</td>\n",
       "      <td>19587507</td>\n",
       "      <td>TXLNGY</td>\n",
       "    </tr>\n",
       "    <tr>\n",
       "      <th>2898630</th>\n",
       "      <td>chrY</td>\n",
       "      <td>exon</td>\n",
       "      <td>19588369</td>\n",
       "      <td>19588650</td>\n",
       "      <td>TXLNGY</td>\n",
       "    </tr>\n",
       "    <tr>\n",
       "      <th>2898631</th>\n",
       "      <td>chrY</td>\n",
       "      <td>exon</td>\n",
       "      <td>19589526</td>\n",
       "      <td>19589612</td>\n",
       "      <td>TXLNGY</td>\n",
       "    </tr>\n",
       "    <tr>\n",
       "      <th>2898632</th>\n",
       "      <td>chrY</td>\n",
       "      <td>exon</td>\n",
       "      <td>19590082</td>\n",
       "      <td>19590247</td>\n",
       "      <td>TXLNGY</td>\n",
       "    </tr>\n",
       "    <tr>\n",
       "      <th>...</th>\n",
       "      <td>...</td>\n",
       "      <td>...</td>\n",
       "      <td>...</td>\n",
       "      <td>...</td>\n",
       "      <td>...</td>\n",
       "    </tr>\n",
       "    <tr>\n",
       "      <th>21</th>\n",
       "      <td>chrY</td>\n",
       "      <td>intron</td>\n",
       "      <td>19569559</td>\n",
       "      <td>19587109</td>\n",
       "      <td>TXLNGY</td>\n",
       "    </tr>\n",
       "    <tr>\n",
       "      <th>22</th>\n",
       "      <td>chrY</td>\n",
       "      <td>intron</td>\n",
       "      <td>19597765</td>\n",
       "      <td>19598451</td>\n",
       "      <td>TXLNGY</td>\n",
       "    </tr>\n",
       "    <tr>\n",
       "      <th>23</th>\n",
       "      <td>chrY</td>\n",
       "      <td>intron</td>\n",
       "      <td>19598739</td>\n",
       "      <td>19599638</td>\n",
       "      <td>TXLNGY</td>\n",
       "    </tr>\n",
       "    <tr>\n",
       "      <th>24</th>\n",
       "      <td>chrY</td>\n",
       "      <td>intron</td>\n",
       "      <td>19599931</td>\n",
       "      <td>19602115</td>\n",
       "      <td>TXLNGY</td>\n",
       "    </tr>\n",
       "    <tr>\n",
       "      <th>25</th>\n",
       "      <td>chrY</td>\n",
       "      <td>intron</td>\n",
       "      <td>19602411</td>\n",
       "      <td>19603696</td>\n",
       "      <td>TXLNGY</td>\n",
       "    </tr>\n",
       "  </tbody>\n",
       "</table>\n",
       "<p>68 rows × 5 columns</p>\n",
       "</div>"
      ],
      "text/plain": [
       "        seqname feature     start       end gene_name\n",
       "2898628    chrY    exon  19567312  19567482    TXLNGY\n",
       "2898629    chrY    exon  19587209  19587507    TXLNGY\n",
       "2898630    chrY    exon  19588369  19588650    TXLNGY\n",
       "2898631    chrY    exon  19589526  19589612    TXLNGY\n",
       "2898632    chrY    exon  19590082  19590247    TXLNGY\n",
       "...         ...     ...       ...       ...       ...\n",
       "21         chrY  intron  19569559  19587109    TXLNGY\n",
       "22         chrY  intron  19597765  19598451    TXLNGY\n",
       "23         chrY  intron  19598739  19599638    TXLNGY\n",
       "24         chrY  intron  19599931  19602115    TXLNGY\n",
       "25         chrY  intron  19602411  19603696    TXLNGY\n",
       "\n",
       "[68 rows x 5 columns]"
      ]
     },
     "execution_count": 77,
     "metadata": {},
     "output_type": "execute_result"
    }
   ],
   "source": [
    "#gtf_small.to_csv(\"/lab/solexa_page/hannah/2XY_gtf_small_072123.txt\",  index=None, sep=str('\\t'))\n",
    "vertically_concatenated[vertically_concatenated['gene_name'] == 'TXLNGY']"
   ]
  },
  {
   "cell_type": "code",
   "execution_count": 273,
   "id": "af41538c-7a13-4872-ac5f-35e5bb50d237",
   "metadata": {},
   "outputs": [
    {
     "name": "stdout",
     "output_type": "stream",
     "text": [
      "clustalo -i lcl_starts_bed_1000bp_1019.fa -o aligned.fasta --auto -v\n"
     ]
    }
   ],
   "source": [
    "from Bio.Align.Applications import ClustalOmegaCommandline\n",
    "in_file = \"lcl_starts_bed_1000bp_1019.fa\"\n",
    "out_file = \"aligned.fasta\"\n",
    "clustalomega_cline = ClustalOmegaCommandline(infile=in_file, outfile=out_file, verbose=True, auto=True) \n",
    "print(clustalomega_cline)\n",
    "#clustalo -i unaligned.fasta -o aligned.fasta --auto -v"
   ]
  },
  {
   "cell_type": "code",
   "execution_count": null,
   "id": "c31d8caf-ea96-4c89-b6e1-9b75573e2fdf",
   "metadata": {},
   "outputs": [],
   "source": [
    "clustalomega_cline()"
   ]
  },
  {
   "cell_type": "code",
   "execution_count": 2,
   "id": "740868f9-cd2a-430f-9b97-dce91c7bbeb0",
   "metadata": {},
   "outputs": [
    {
     "name": "stderr",
     "output_type": "stream",
     "text": [
      "Loading required package: BiocGenerics\n",
      "\n",
      "Loading required package: parallel\n",
      "\n",
      "\n",
      "Attaching package: ‘BiocGenerics’\n",
      "\n",
      "\n",
      "The following objects are masked from ‘package:parallel’:\n",
      "\n",
      "    clusterApply, clusterApplyLB, clusterCall, clusterEvalQ,\n",
      "    clusterExport, clusterMap, parApply, parCapply, parLapply,\n",
      "    parLapplyLB, parRapply, parSapply, parSapplyLB\n",
      "\n",
      "\n",
      "The following objects are masked from ‘package:stats’:\n",
      "\n",
      "    IQR, mad, sd, var, xtabs\n",
      "\n",
      "\n",
      "The following objects are masked from ‘package:base’:\n",
      "\n",
      "    anyDuplicated, append, as.data.frame, basename, cbind, colnames,\n",
      "    dirname, do.call, duplicated, eval, evalq, Filter, Find, get, grep,\n",
      "    grepl, intersect, is.unsorted, lapply, Map, mapply, match, mget,\n",
      "    order, paste, pmax, pmax.int, pmin, pmin.int, Position, rank,\n",
      "    rbind, Reduce, rownames, sapply, setdiff, sort, table, tapply,\n",
      "    union, unique, unsplit, which, which.max, which.min\n",
      "\n",
      "\n",
      "Loading required package: S4Vectors\n",
      "\n",
      "Loading required package: stats4\n",
      "\n",
      "\n",
      "Attaching package: ‘S4Vectors’\n",
      "\n",
      "\n",
      "The following object is masked from ‘package:base’:\n",
      "\n",
      "    expand.grid\n",
      "\n",
      "\n",
      "Loading required package: IRanges\n",
      "\n",
      "Loading required package: GenomeInfoDb\n",
      "\n",
      "Loading required package: GenomicRanges\n",
      "\n",
      "Loading required package: Biostrings\n",
      "\n",
      "Loading required package: XVector\n",
      "\n",
      "\n",
      "Attaching package: ‘Biostrings’\n",
      "\n",
      "\n",
      "The following object is masked from ‘package:base’:\n",
      "\n",
      "    strsplit\n",
      "\n",
      "\n",
      "Loading required package: rtracklayer\n",
      "\n"
     ]
    }
   ],
   "source": [
    "#R code to extract sequences NEED TO CHANGE CODE TO R\n",
    "library('BSgenome') \n",
    "\n"
   ]
  },
  {
   "cell_type": "code",
   "execution_count": 5,
   "id": "93408fad-cf8f-4bc3-9a75-2c1a78d2068e",
   "metadata": {},
   "outputs": [
    {
     "name": "stderr",
     "output_type": "stream",
     "text": [
      "Bioconductor version '3.10' is out-of-date; the current release version '3.16'\n",
      "  is available with R version '4.2'; see https://bioconductor.org/install\n",
      "\n",
      "'getOption(\"repos\")' replaces Bioconductor standard repositories, see\n",
      "'?repositories' for details\n",
      "\n",
      "replacement repositories:\n",
      "    CRAN: https://cloud.r-project.org\n",
      "\n",
      "\n",
      "Bioconductor version 3.10 (BiocManager 1.30.16), R 3.6.3 (2020-02-29)\n",
      "\n",
      "Installing package(s) 'BSgenome.Ptroglodytes.UCSC.panTro3'\n",
      "\n",
      "Installation paths not writeable, unable to update packages\n",
      "  path: /nfs/apps/lib/R/3.6/site-library.2022q1\n",
      "  packages:\n",
      "    additivityTests, ade4, AER, akima, alphahull, amap, Amelia, aod, ape,\n",
      "    argparse, arm, aroma.affymetrix, aroma.apd, aroma.cn, aroma.core, arrow,\n",
      "    ashr, babelgene, base64, BatchJobs, batchtools, bayesm, BBmisc, bbmle,\n",
      "    bdsmatrix, beanplot, BH, BiasedUrn, bibtex, bigmemory, bigmemory.sri,\n",
      "    BiocManager, bit, blob, blockmodeling, BMA, boot, brew, broom, bslib,\n",
      "    Cairo, callr, canvasXpress, car, caret, chron, circlize, class, classInt,\n",
      "    cli, clipr, clue, cluster, ClusterR, cobs, codetools, colorRamps,\n",
      "    colorspace, colourpicker, commonmark, compositions, conquer, copula, covr,\n",
      "    coxme, cpp11, crayon, crul, cubature, curl, CVST, DAAG, DBI, ddalpha,\n",
      "    Delaporte, dendextend, densityClust, DEoptimR, desc, deSolve, devtools,\n",
      "    DiagrammeR, dichromat, digest, dimRed, doBy, doMC, doParallel, doRNG,\n",
      "    doSNOW, dotCall64, dplyr, DT, dtplyr, dtw, e1071, earth, ecodist, effects,\n",
      "    ellipse, energy, enrichR, EnvStats, ergm.count, estimability, evaluate,\n",
      "    exactRankTests, expm, extRemes, fansi, farver, fBasics, FD, ff, fields,\n",
      "    fitdistrplus, flexclust, flexdashboard, flexmix, fMultivar, FNN,\n",
      "    fontawesome, forcats, foreach, formatR, fpc, fRegression, fs, furrr,\n",
      "    future, future.apply, gamlss, gamlss.dist, gargle, gbm, gdata, gee,\n",
      "    geepack, generics, geometry, gert, ggbeeswarm, ggforce, ggfortify, ggplot2,\n",
      "    ggpubr, ggraph, ggrepel, ggridges, ggsignif, ggtext, gh, git2r, gitcreds,\n",
      "    glmmTMB, glmnet, globals, glue, gmodels, gmp, gnm, googlesheets4,\n",
      "    googleVis, gower, gplots, graphlayouts, gridSVG, gridtext, GSA, gsalib,\n",
      "    gtable, gtools, h2o, hash, haven, hdf5r, hergm, highr, Hmisc, HMM, hms,\n",
      "    HSAUR, htmlTable, htmltools, htmlwidgets, httpuv, httr, hwriter, ica, idr,\n",
      "    igraph, insight, ipred, IRkernel, irlba, isoband, iterators, jackstraw,\n",
      "    janitor, jomo, jpeg, jsonlite, keras, kernlab, km.ci, knitr, ks, lars,\n",
      "    latentnet, latticeExtra, lava, leiden, leidenbase, lifecycle, linprog,\n",
      "    listenv, littler, lme4, lobstr, logspline, loo, lpSolve, lpSolveAPI, lsa,\n",
      "    lubridate, magic, magrittr, mapproj, maps, maptools, markdown, MASS,\n",
      "    Matching, MatchIt, mathjaxr, matlab, Matrix, matrixcalc, MatrixModels,\n",
      "    matrixStats, mboost, mclust, MCMCpack, metap, mgcv, mi, mice, minpack.lm,\n",
      "    minqa, mitml, mixsqp, mnormt, moments, MPV, msigdbr, multcomp, NbClust,\n",
      "    ncdf4, network, networkDynamic, nleqslv, nlme, nloptr, NMF, NMOF, nnet,\n",
      "    Nozzle.R1, np, OpenImageR, openssl, openxlsx, optparse, ordinal, outliers,\n",
      "    pairsD3, parallelly, party, partykit, patchwork, pbapply, pbdZMQ,\n",
      "    pbmcapply, PBSmapping, pcaPP, PDSCE, permute, pillar, pkgbuild, pkgload,\n",
      "    pkgmaker, plm, plotly, plotmo, pls, plyr, png, polspline, polyclip,\n",
      "    polynom, pracma, processx, progressr, proxy, pryr, ps, pspline, psych,\n",
      "    purrr, qap, qtl, quantmod, quantreg, R.cache, R.devices, R.filesets,\n",
      "    R.matlab, R.methodsS3, R.oo, R.rsp, R.utils, R2HTML, ragg, ranger, raster,\n",
      "    rbibutils, Rcmdr, RColorBrewer, Rcpp, RcppAnnoy, RcppArmadillo, RcppEigen,\n",
      "    RcppHNSW, RcppParallel, RCurl, Rdpack, readr, readxl, recipes, relevent,\n",
      "    repr, reshape, reticulate, rgdal, rgenoud, rgl, rjags, RJSONIO, rlang,\n",
      "    rmarkdown, Rmisc, RMTstat, RMySQL, rncl, RNeXML, robust, robustbase, Rook,\n",
      "    roxygen2, rpart, rprojroot, rrcov, RRF, rsample, RSpectra, RSQLite, rstan,\n",
      "    rstatix, rstudioapi, Rtsne, rversions, rvest, s2, sandwich, sass, scales,\n",
      "    scattermore, scatterplot3d, sctransform, segmented, sem, sendmailR, seqinr,\n",
      "    seriation, servr, setRNG, sf, sfsmisc, shapes, shiny, shinyBS, shinyFiles,\n",
      "    slam, slider, sm, sn, sna, snowfall, sourcetools, sp, spam, sparsesvd,\n",
      "    spatial, spatstat, spatstat.data, spatstat.geom, spatstat.linnet,\n",
      "    spatstat.sparse, spatstat.utils, spData, spdep, speedglm, splancs, statmod,\n",
      "    statnet.common, stringdist, stringi, stringr, strucchange, subselect,\n",
      "    survival, survMisc, svglite, sys, systemfit, systemfonts, tclust,\n",
      "    tensorflow, tergm, terra, testthat, TFMPvalue, tfruns, TH.data, tibble,\n",
      "    tidygraph, tidyr, tidyselect, tiff, timeDate, timeSeries, tinytex, tkrplot,\n",
      "    TMB, tree, TSA, tseries, tsne, TSP, tweenr, tzdb, ucminf, umap, units,\n",
      "    usethis, utf8, uuid, uwot, vcd, vctrs, vegan, VennDiagram, VGAM, VIM,\n",
      "    vioplot, viridisLite, visNetwork, vroom, webshot, WGCNA, wheatmap, whisker,\n",
      "    withr, wk, WriteXLS, xfun, XLConnect, xts, yaml, yulab.utils, zip, zoo\n",
      "\n",
      "Old packages: 'backports', 'betareg', 'brio', 'checkmate', 'data.table',\n",
      "  'dbplyr', 'diffobj', 'eulerr', 'GGally', 'ggthemes', 'lmtest', 'modelr',\n",
      "  'officer', 'rayshader', 'reprex', 'rstantools', 'rvg', 'tidyverse',\n",
      "  'venneuler', 'waldo'\n",
      "\n",
      "'getOption(\"repos\")' replaces Bioconductor standard repositories, see\n",
      "'?repositories' for details\n",
      "\n",
      "replacement repositories:\n",
      "    CRAN: https://cloud.r-project.org\n",
      "\n",
      "\n"
     ]
    },
    {
     "ename": "ERROR",
     "evalue": "Error in .stopOnAvailablePkg(genome): BSgenome.Mmulatta.UCSC.rheMac10 package is not currently installed.\n  You first need to install it, which you can do with:\n      library(BiocManager)\n      install(\"BSgenome.Mmulatta.UCSC.rheMac10\")\n",
     "output_type": "error",
     "traceback": [
      "Error in .stopOnAvailablePkg(genome): BSgenome.Mmulatta.UCSC.rheMac10 package is not currently installed.\n  You first need to install it, which you can do with:\n      library(BiocManager)\n      install(\"BSgenome.Mmulatta.UCSC.rheMac10\")\nTraceback:\n",
      "1. getBSgenome(\"BSgenome.Mmulatta.UCSC.rheMac10\")",
      "2. .getBSgenomeObjectFromInstalledPkgname(genome, load.only = load.only)",
      "3. .stopOnAvailablePkg(genome)",
      "4. stop(genome, \" package is not currently installed.\\n\", \"  You first need to install it, which you can do with:\\n\", \n .     \"      library(BiocManager)\\n\", \"      install(\\\"\", genome, \n .     \"\\\"\", ifelse(is.source, \", type=\\\"source\\\"\", \"\"), \")\")"
     ]
    }
   ],
   "source": [
    "\n",
    "genome_hs <- getBSgenome(\"BSgenome.Hsapiens.UCSC.hg38\")\n",
    "genome_pantro <- getBSgenome(\"BSgenome.Ptroglodytes.UCSC.panTro3\")\n",
    "genome_mmulatta <- getBSgenome(\"BSgenome.Mmulatta.UCSC.rheMac10\")\n",
    "genome_caljac <- getBSgenome(\"BSgenome.Cjacchus.UCSC.calJac3\") \n"
   ]
  },
  {
   "cell_type": "code",
   "execution_count": 25,
   "id": "330a7867-7f1c-4674-a933-87ce99a7b045",
   "metadata": {},
   "outputs": [],
   "source": [
    "df = pd.read_csv(\"file_for_fifty_bp_dist_calcs_k562.txt\", sep = \"\\t\") \n",
    "\n"
   ]
  },
  {
   "cell_type": "code",
   "execution_count": 26,
   "id": "b2e94672-154e-469c-8339-a6423617e39d",
   "metadata": {},
   "outputs": [
    {
     "name": "stdout",
     "output_type": "stream",
     "text": [
      "                      coords      log2  gene.x orientation.x\n",
      "1     chr6:73520747-73520797 -1.034596  EEF1A1         minus\n",
      "2     chr6:73520797-73520847 -0.998709  EEF1A1         minus\n",
      "3     chr6:73520847-73520897 -1.053027  EEF1A1         minus\n",
      "4     chr6:73520897-73520947  0.077554  EEF1A1         minus\n",
      "5     chr6:73520947-73520997  1.473086  EEF1A1         minus\n",
      "...                      ...       ...     ...           ...\n",
      "1797             cmv:251-301  1.310459     CMV          plus\n",
      "1798             cmv:301-351  1.789657     CMV          plus\n",
      "1799             cmv:351-401  1.813127     CMV          plus\n",
      "1800             cmv:401-451  1.686615     CMV          plus\n",
      "1801             cmv:451-501  2.098418     CMV          plus\n",
      "\n",
      "[1801 rows x 4 columns]\n"
     ]
    }
   ],
   "source": [
    "print(df)"
   ]
  },
  {
   "cell_type": "code",
   "execution_count": 27,
   "id": "750e6811-80d2-4ab0-8be0-f3e5a2ffbe15",
   "metadata": {},
   "outputs": [],
   "source": [
    "df = pd.read_csv(\"fib_counts_1_200.txt\", sep = \"\\t\") #\n"
   ]
  },
  {
   "cell_type": "code",
   "execution_count": 28,
   "id": "78acf145-71d5-4141-9c7c-5661365857e2",
   "metadata": {},
   "outputs": [
    {
     "data": {
      "text/html": [
       "<div>\n",
       "<style scoped>\n",
       "    .dataframe tbody tr th:only-of-type {\n",
       "        vertical-align: middle;\n",
       "    }\n",
       "\n",
       "    .dataframe tbody tr th {\n",
       "        vertical-align: top;\n",
       "    }\n",
       "\n",
       "    .dataframe thead th {\n",
       "        text-align: right;\n",
       "    }\n",
       "</style>\n",
       "<table border=\"1\" class=\"dataframe\">\n",
       "  <thead>\n",
       "    <tr style=\"text-align: right;\">\n",
       "      <th></th>\n",
       "      <th>coords</th>\n",
       "      <th>log2</th>\n",
       "      <th>gene.x</th>\n",
       "      <th>orientation.x</th>\n",
       "      <th>type</th>\n",
       "    </tr>\n",
       "  </thead>\n",
       "  <tbody>\n",
       "    <tr>\n",
       "      <th>0</th>\n",
       "      <td>chr6:73520747-73520946</td>\n",
       "      <td>-0.874478</td>\n",
       "      <td>EEF1A1</td>\n",
       "      <td>minus</td>\n",
       "      <td>positive ctl</td>\n",
       "    </tr>\n",
       "    <tr>\n",
       "      <th>1</th>\n",
       "      <td>chr6:73520747-73520946_shuff</td>\n",
       "      <td>-1.500939</td>\n",
       "      <td>EEF1A1</td>\n",
       "      <td>minus</td>\n",
       "      <td>negative ctl</td>\n",
       "    </tr>\n",
       "    <tr>\n",
       "      <th>2</th>\n",
       "      <td>chr6:73520797-73520996</td>\n",
       "      <td>-1.090219</td>\n",
       "      <td>EEF1A1</td>\n",
       "      <td>minus</td>\n",
       "      <td>positive ctl</td>\n",
       "    </tr>\n",
       "    <tr>\n",
       "      <th>3</th>\n",
       "      <td>chr6:73520797-73520996_shuff</td>\n",
       "      <td>-0.842316</td>\n",
       "      <td>EEF1A1</td>\n",
       "      <td>minus</td>\n",
       "      <td>negative ctl</td>\n",
       "    </tr>\n",
       "    <tr>\n",
       "      <th>4</th>\n",
       "      <td>chr6:73520847-73521046</td>\n",
       "      <td>-0.930851</td>\n",
       "      <td>EEF1A1</td>\n",
       "      <td>minus</td>\n",
       "      <td>positive ctl</td>\n",
       "    </tr>\n",
       "    <tr>\n",
       "      <th>...</th>\n",
       "      <td>...</td>\n",
       "      <td>...</td>\n",
       "      <td>...</td>\n",
       "      <td>...</td>\n",
       "      <td>...</td>\n",
       "    </tr>\n",
       "    <tr>\n",
       "      <th>1884</th>\n",
       "      <td>cmv:251-450_shuff</td>\n",
       "      <td>-0.348521</td>\n",
       "      <td>CMV</td>\n",
       "      <td>plus</td>\n",
       "      <td>negative ctl</td>\n",
       "    </tr>\n",
       "    <tr>\n",
       "      <th>1885</th>\n",
       "      <td>cmv:301-500</td>\n",
       "      <td>4.948123</td>\n",
       "      <td>CMV</td>\n",
       "      <td>plus</td>\n",
       "      <td>positive ctl</td>\n",
       "    </tr>\n",
       "    <tr>\n",
       "      <th>1886</th>\n",
       "      <td>cmv:301-500_shuff</td>\n",
       "      <td>-0.303872</td>\n",
       "      <td>CMV</td>\n",
       "      <td>plus</td>\n",
       "      <td>negative ctl</td>\n",
       "    </tr>\n",
       "    <tr>\n",
       "      <th>1887</th>\n",
       "      <td>cmv:51-250</td>\n",
       "      <td>6.783378</td>\n",
       "      <td>CMV</td>\n",
       "      <td>plus</td>\n",
       "      <td>positive ctl</td>\n",
       "    </tr>\n",
       "    <tr>\n",
       "      <th>1888</th>\n",
       "      <td>cmv:51-250_shuff</td>\n",
       "      <td>-1.500066</td>\n",
       "      <td>CMV</td>\n",
       "      <td>plus</td>\n",
       "      <td>negative ctl</td>\n",
       "    </tr>\n",
       "  </tbody>\n",
       "</table>\n",
       "<p>1889 rows × 5 columns</p>\n",
       "</div>"
      ],
      "text/plain": [
       "                            coords      log2  gene.x orientation.x  \\\n",
       "0           chr6:73520747-73520946 -0.874478  EEF1A1         minus   \n",
       "1     chr6:73520747-73520946_shuff -1.500939  EEF1A1         minus   \n",
       "2           chr6:73520797-73520996 -1.090219  EEF1A1         minus   \n",
       "3     chr6:73520797-73520996_shuff -0.842316  EEF1A1         minus   \n",
       "4           chr6:73520847-73521046 -0.930851  EEF1A1         minus   \n",
       "...                            ...       ...     ...           ...   \n",
       "1884             cmv:251-450_shuff -0.348521     CMV          plus   \n",
       "1885                   cmv:301-500  4.948123     CMV          plus   \n",
       "1886             cmv:301-500_shuff -0.303872     CMV          plus   \n",
       "1887                    cmv:51-250  6.783378     CMV          plus   \n",
       "1888              cmv:51-250_shuff -1.500066     CMV          plus   \n",
       "\n",
       "              type  \n",
       "0     positive ctl  \n",
       "1     negative ctl  \n",
       "2     positive ctl  \n",
       "3     negative ctl  \n",
       "4     positive ctl  \n",
       "...            ...  \n",
       "1884  negative ctl  \n",
       "1885  positive ctl  \n",
       "1886  negative ctl  \n",
       "1887  positive ctl  \n",
       "1888  negative ctl  \n",
       "\n",
       "[1889 rows x 5 columns]"
      ]
     },
     "execution_count": 28,
     "metadata": {},
     "output_type": "execute_result"
    }
   ],
   "source": [
    "df"
   ]
  },
  {
   "cell_type": "code",
   "execution_count": 29,
   "id": "20210dc4-0afb-4630-80f4-c2f297293f56",
   "metadata": {},
   "outputs": [],
   "source": [
    "df = pd.read_csv(\"fib_counts_1_200.txt\", sep = \"\\t\") #"
   ]
  },
  {
   "cell_type": "code",
   "execution_count": 30,
   "id": "3375cb34-13c9-46d4-8e67-6d2e0083f485",
   "metadata": {},
   "outputs": [
    {
     "data": {
      "text/html": [
       "<div>\n",
       "<style scoped>\n",
       "    .dataframe tbody tr th:only-of-type {\n",
       "        vertical-align: middle;\n",
       "    }\n",
       "\n",
       "    .dataframe tbody tr th {\n",
       "        vertical-align: top;\n",
       "    }\n",
       "\n",
       "    .dataframe thead th {\n",
       "        text-align: right;\n",
       "    }\n",
       "</style>\n",
       "<table border=\"1\" class=\"dataframe\">\n",
       "  <thead>\n",
       "    <tr style=\"text-align: right;\">\n",
       "      <th></th>\n",
       "      <th>coords</th>\n",
       "      <th>log2</th>\n",
       "      <th>gene.x</th>\n",
       "      <th>orientation.x</th>\n",
       "      <th>type</th>\n",
       "    </tr>\n",
       "  </thead>\n",
       "  <tbody>\n",
       "    <tr>\n",
       "      <th>0</th>\n",
       "      <td>chr6:73520747-73520946</td>\n",
       "      <td>-0.874478</td>\n",
       "      <td>EEF1A1</td>\n",
       "      <td>minus</td>\n",
       "      <td>positive ctl</td>\n",
       "    </tr>\n",
       "    <tr>\n",
       "      <th>1</th>\n",
       "      <td>chr6:73520747-73520946_shuff</td>\n",
       "      <td>-1.500939</td>\n",
       "      <td>EEF1A1</td>\n",
       "      <td>minus</td>\n",
       "      <td>negative ctl</td>\n",
       "    </tr>\n",
       "    <tr>\n",
       "      <th>2</th>\n",
       "      <td>chr6:73520797-73520996</td>\n",
       "      <td>-1.090219</td>\n",
       "      <td>EEF1A1</td>\n",
       "      <td>minus</td>\n",
       "      <td>positive ctl</td>\n",
       "    </tr>\n",
       "    <tr>\n",
       "      <th>3</th>\n",
       "      <td>chr6:73520797-73520996_shuff</td>\n",
       "      <td>-0.842316</td>\n",
       "      <td>EEF1A1</td>\n",
       "      <td>minus</td>\n",
       "      <td>negative ctl</td>\n",
       "    </tr>\n",
       "    <tr>\n",
       "      <th>4</th>\n",
       "      <td>chr6:73520847-73521046</td>\n",
       "      <td>-0.930851</td>\n",
       "      <td>EEF1A1</td>\n",
       "      <td>minus</td>\n",
       "      <td>positive ctl</td>\n",
       "    </tr>\n",
       "    <tr>\n",
       "      <th>...</th>\n",
       "      <td>...</td>\n",
       "      <td>...</td>\n",
       "      <td>...</td>\n",
       "      <td>...</td>\n",
       "      <td>...</td>\n",
       "    </tr>\n",
       "    <tr>\n",
       "      <th>1884</th>\n",
       "      <td>cmv:251-450_shuff</td>\n",
       "      <td>-0.348521</td>\n",
       "      <td>CMV</td>\n",
       "      <td>plus</td>\n",
       "      <td>negative ctl</td>\n",
       "    </tr>\n",
       "    <tr>\n",
       "      <th>1885</th>\n",
       "      <td>cmv:301-500</td>\n",
       "      <td>4.948123</td>\n",
       "      <td>CMV</td>\n",
       "      <td>plus</td>\n",
       "      <td>positive ctl</td>\n",
       "    </tr>\n",
       "    <tr>\n",
       "      <th>1886</th>\n",
       "      <td>cmv:301-500_shuff</td>\n",
       "      <td>-0.303872</td>\n",
       "      <td>CMV</td>\n",
       "      <td>plus</td>\n",
       "      <td>negative ctl</td>\n",
       "    </tr>\n",
       "    <tr>\n",
       "      <th>1887</th>\n",
       "      <td>cmv:51-250</td>\n",
       "      <td>6.783378</td>\n",
       "      <td>CMV</td>\n",
       "      <td>plus</td>\n",
       "      <td>positive ctl</td>\n",
       "    </tr>\n",
       "    <tr>\n",
       "      <th>1888</th>\n",
       "      <td>cmv:51-250_shuff</td>\n",
       "      <td>-1.500066</td>\n",
       "      <td>CMV</td>\n",
       "      <td>plus</td>\n",
       "      <td>negative ctl</td>\n",
       "    </tr>\n",
       "  </tbody>\n",
       "</table>\n",
       "<p>1889 rows × 5 columns</p>\n",
       "</div>"
      ],
      "text/plain": [
       "                            coords      log2  gene.x orientation.x  \\\n",
       "0           chr6:73520747-73520946 -0.874478  EEF1A1         minus   \n",
       "1     chr6:73520747-73520946_shuff -1.500939  EEF1A1         minus   \n",
       "2           chr6:73520797-73520996 -1.090219  EEF1A1         minus   \n",
       "3     chr6:73520797-73520996_shuff -0.842316  EEF1A1         minus   \n",
       "4           chr6:73520847-73521046 -0.930851  EEF1A1         minus   \n",
       "...                            ...       ...     ...           ...   \n",
       "1884             cmv:251-450_shuff -0.348521     CMV          plus   \n",
       "1885                   cmv:301-500  4.948123     CMV          plus   \n",
       "1886             cmv:301-500_shuff -0.303872     CMV          plus   \n",
       "1887                    cmv:51-250  6.783378     CMV          plus   \n",
       "1888              cmv:51-250_shuff -1.500066     CMV          plus   \n",
       "\n",
       "              type  \n",
       "0     positive ctl  \n",
       "1     negative ctl  \n",
       "2     positive ctl  \n",
       "3     negative ctl  \n",
       "4     positive ctl  \n",
       "...            ...  \n",
       "1884  negative ctl  \n",
       "1885  positive ctl  \n",
       "1886  negative ctl  \n",
       "1887  positive ctl  \n",
       "1888  negative ctl  \n",
       "\n",
       "[1889 rows x 5 columns]"
      ]
     },
     "execution_count": 30,
     "metadata": {},
     "output_type": "execute_result"
    }
   ],
   "source": [
    "df"
   ]
  },
  {
   "cell_type": "code",
   "execution_count": 25,
   "id": "89497f86-a2e0-4d4b-b1f5-dfa98892a2f5",
   "metadata": {},
   "outputs": [
    {
     "name": "stdout",
     "output_type": "stream",
     "text": [
      "200\n",
      "200\n",
      "200\n",
      "200\n",
      "231\n",
      "231\n",
      "231\n",
      "231\n",
      "856\n",
      "856\n",
      "856\n",
      "856\n",
      "203\n",
      "203\n",
      "203\n",
      "203\n",
      "205\n",
      "205\n",
      "205\n",
      "205\n",
      "207\n",
      "207\n",
      "207\n",
      "207\n",
      "200\n",
      "200\n",
      "200\n",
      "200\n",
      "202\n",
      "202\n",
      "202\n",
      "202\n",
      "202\n",
      "202\n",
      "202\n",
      "202\n",
      "202\n",
      "202\n",
      "202\n",
      "202\n",
      "200\n",
      "200\n",
      "200\n",
      "200\n",
      "200\n",
      "200\n",
      "200\n",
      "200\n",
      "204\n",
      "204\n",
      "204\n",
      "204\n",
      "200\n",
      "200\n",
      "200\n",
      "200\n",
      "210\n",
      "210\n",
      "210\n",
      "210\n",
      "201\n",
      "201\n",
      "201\n",
      "201\n",
      "200\n",
      "200\n",
      "200\n",
      "200\n",
      "230\n",
      "230\n",
      "230\n",
      "230\n",
      "211\n",
      "211\n",
      "211\n",
      "0\n",
      "here\n",
      "200\n",
      "200\n",
      "200\n",
      "0\n",
      "here\n",
      "202\n",
      "202\n",
      "202\n",
      "0\n",
      "here\n",
      "205\n",
      "205\n",
      "205\n",
      "0\n",
      "here\n",
      "367\n",
      "367\n",
      "367\n",
      "367\n",
      "229\n",
      "229\n",
      "229\n",
      "229\n",
      "200\n",
      "200\n",
      "200\n",
      "200\n",
      "206\n",
      "206\n",
      "206\n",
      "206\n",
      "200\n",
      "200\n",
      "200\n",
      "200\n",
      "217\n",
      "217\n",
      "217\n",
      "217\n",
      "200\n",
      "200\n",
      "200\n",
      "200\n",
      "200\n",
      "200\n",
      "200\n",
      "200\n"
     ]
    }
   ],
   "source": [
    "#genes = [\"TXLNG\", \"TXLNGY\", \"EIF1AX\", \"EIF1AY\", \"KDM5D\" , \"KDM5C\",\"UTY\", \"KDM6A\", \"ZFY\",  \"DDX3Y\" ,\"DDX3X\", \"USP9Y\" , \"USP9X\", \"RPS4Y1\", \"RPS4X\", \"TMSB4X\", \"TMSB4Y\"] \n",
    "#genes = [\"EIF1AY\"] \n",
    "genes = [\"EIF1AX\", \"EIF1AY\", \"KDM5D\" , \"KDM5C\",\"UTY\", \"KDM6A\", \"ZFY\",  \"DDX3Y\" ,\"DDX3X\", \"USP9Y\" , \"USP9X\", \"RPS4Y1\", \"RPS4X\", \"TMSB4X\", \"TMSB4Y\"] \n",
    "\n",
    "#genes = [\"ZFX\"]\n",
    "\n",
    "types_of_seq = [\"upmax\", \"downmax\"] #\"exon\", \"intron\", \"max_peak\"] \n",
    "from Bio import AlignIO \n",
    "from Bio import SeqIO \n",
    "\n",
    "#genes = [\"TXLNGY\"] \n",
    "#genes = [\"ZFX\"] \n",
    "for gene in genes: \n",
    "    for type_1 in types_of_seq: \n",
    "        #alignments = AlignIO.parse('/lab/solexa_page/hannah/220516_mpra/msa/long_alignments/by_feature/' +  gene + type_1 + '_msa.fa', \"fasta\")\n",
    "        #print(alignments)\n",
    "        #print([record for record in alignments]) # if len(record.seq) > 0])\n",
    "    # Create a new list of non-empty alignment records\n",
    "        #non_empty_alignments = [record for record in alignments if len(record.seq) > 0]\n",
    "        #print(non_empty_alignments)\n",
    "        name = '/lab/solexa_page/hannah/220516_mpra/msa/long_alignments/by_feature/' + gene + type_1 + '_msa.new.fa'\n",
    "    # Write the non-empty alignments to the output file in PHYLIP format\n",
    "       # AlignIO.write(non_empty_alignments, name, 'phylip') \n",
    "        \n",
    "        with open(name, 'w') as name:\n",
    "\n",
    "            for record in SeqIO.parse('/lab/solexa_page/hannah/220516_mpra/msa/long_alignments/by_feature/' +  gene + type_1 + '_msa.fa', \"fasta\"):\n",
    "        # Check if the sequence is empty\n",
    "                print(len(record.seq))\n",
    "                if len(record.seq) == 0:\n",
    "            # Skip this record and don't write it to the output file\n",
    "                    print(\"here\")\n",
    "                    continue\n",
    "       # Write the record to the output file\n",
    "                SeqIO.write(record, name, 'fasta')\n",
    "       # print(\"hello\") \n",
    "        name1 = '/lab/solexa_page/hannah/220516_mpra/msa/long_alignments/by_feature/' + gene + type_1 + '_msa.new.fa'\n",
    "        records = SeqIO.parse(name1, \"fasta\")\n",
    "        \n",
    "        new_name = '/lab/solexa_page/hannah/220516_mpra/msa/long_alignments/by_feature/' +  gene + type_1 + '_msa.phy'\n",
    "\n",
    "        SeqIO.write(records, new_name, 'phylip')\n",
    "      #print(gene) \n",
    "      #alignments = AlignIO.parse('/lab/solexa_page/hannah/220516_mpra/msa/long_alignments/by_feature/' +  gene + type_1 + '_msa.fa', \"fasta\")\n",
    "      #i should be able to get rid of groups with nothing there? \n",
    "      #  AlignIO.write(alignments, name, 'phylip') \n",
    "    "
   ]
  },
  {
   "cell_type": "code",
   "execution_count": 26,
   "id": "70491968-eb3c-492c-897c-618ad6a813ad",
   "metadata": {},
   "outputs": [
    {
     "data": {
      "text/plain": [
       "3"
      ]
     },
     "execution_count": 26,
     "metadata": {},
     "output_type": "execute_result"
    }
   ],
   "source": [
    "#gene = \"NLGN\" \n",
    "#name1 = '/lab/solexa_page/hannah/220516_mpra/msa/long_alignments/nlgn4_analysis/' + gene +  '_msa_new.fa' \n",
    "\n",
    "name1 = '/lab/solexa_page/hannah/220516_mpra/msa/long_alignments/nlgn4_analysis/out.fa'\n",
    "records = SeqIO.parse(name1, \"fasta\") \n",
    "new_name = '/lab/solexa_page/hannah/220516_mpra/msa/long_alignments/nlgn4_analysis/' +  'out' + '_msa.phy' \n",
    "\n",
    "SeqIO.write(records, new_name, 'phylip') "
   ]
  },
  {
   "cell_type": "code",
   "execution_count": 12,
   "id": "8080c21b-e263-4534-88e1-e05c79a8b21f",
   "metadata": {},
   "outputs": [
    {
     "data": {
      "text/plain": [
       "0"
      ]
     },
     "execution_count": 12,
     "metadata": {},
     "output_type": "execute_result"
    }
   ],
   "source": [
    "AlignIO.write(alignments, name, 'phylip') "
   ]
  },
  {
   "cell_type": "code",
   "execution_count": 63,
   "id": "7b1a857f-6aa1-4924-af47-af76d98783d8",
   "metadata": {},
   "outputs": [
    {
     "name": "stdout",
     "output_type": "stream",
     "text": [
      "None\n"
     ]
    }
   ],
   "source": [
    "result = subprocess.run([ \"mkdir\",  \"test1\"], check = True)  \n",
    "\n",
    "print(result.stdout) "
   ]
  },
  {
   "cell_type": "code",
   "execution_count": 64,
   "id": "8942ed32-ec86-4eeb-9be2-a6aa7b89bc8e",
   "metadata": {},
   "outputs": [
    {
     "data": {
      "text/plain": [
       "CompletedProcess(args=['rm', '-rf', 'test1'], returncode=0)"
      ]
     },
     "execution_count": 64,
     "metadata": {},
     "output_type": "execute_result"
    }
   ],
   "source": [
    "subprocess.run([\"rm\", \"-rf\", \"test1\"], check=True)"
   ]
  },
  {
   "cell_type": "code",
   "execution_count": null,
   "id": "9097a9f2-b19b-48a5-bdb1-cb7dda35fc12",
   "metadata": {},
   "outputs": [],
   "source": []
  },
  {
   "cell_type": "code",
   "execution_count": null,
   "id": "6663f312-3518-42a8-93e4-e5fa4cbfc498",
   "metadata": {},
   "outputs": [],
   "source": []
  },
  {
   "cell_type": "code",
   "execution_count": null,
   "id": "4a5b8ff0-7ec2-48aa-9f74-eac508a2b9a3",
   "metadata": {},
   "outputs": [],
   "source": []
  },
  {
   "cell_type": "code",
   "execution_count": 13,
   "id": "6c2a4af0-5760-4c4d-9c11-75eff851e29e",
   "metadata": {},
   "outputs": [],
   "source": [
    "import gtfparse"
   ]
  },
  {
   "cell_type": "code",
   "execution_count": 12,
   "id": "1438dbd0-c73c-416d-9393-07d853688a38",
   "metadata": {},
   "outputs": [
    {
     "name": "stdout",
     "output_type": "stream",
     "text": [
      "/usr/local/lib/python3.8/dist-packages/secretstorage/dhcrypto.py:16: CryptographyDeprecationWarning: int_from_bytes is deprecated, use int.from_bytes instead\n",
      "  from cryptography.utils import int_from_bytes\n",
      "/usr/local/lib/python3.8/dist-packages/secretstorage/util.py:25: CryptographyDeprecationWarning: int_from_bytes is deprecated, use int.from_bytes instead\n",
      "  from cryptography.utils import int_from_bytes\n",
      "Defaulting to user installation because normal site-packages is not writeable\n",
      "Requirement already satisfied: gtfparse in /home/hlharris/.local/lib/python3.8/site-packages (2.0.1)\n",
      "Requirement already satisfied: polars in /home/hlharris/.local/lib/python3.8/site-packages (from gtfparse) (0.18.3)\n",
      "\u001b[33mWARNING: You are using pip version 21.2.4; however, version 23.2 is available.\n",
      "You should consider upgrading via the '/opt/jupyterhub/bin/python3 -m pip install --upgrade pip' command.\u001b[0m\n",
      "Note: you may need to restart the kernel to use updated packages.\n"
     ]
    }
   ],
   "source": [
    "pip install gtfparse"
   ]
  },
  {
   "cell_type": "code",
   "execution_count": 14,
   "id": "18f0bc0b-c554-49f3-938b-0193fc4927ad",
   "metadata": {},
   "outputs": [],
   "source": [
    "from gtfparse import read_gtf\n",
    "\n"
   ]
  },
  {
   "cell_type": "code",
   "execution_count": 11,
   "id": "a00121ac-5bfe-491a-a7f8-7a2fbf256c09",
   "metadata": {},
   "outputs": [
    {
     "data": {
      "text/plain": [
       "<function gtfparse.read_gtf.read_gtf(filepath_or_buffer, expand_attribute_column=True, infer_biotype_column=False, column_converters={}, usecols=None, features=None, result_type='polars')>"
      ]
     },
     "execution_count": 11,
     "metadata": {},
     "output_type": "execute_result"
    }
   ],
   "source": [
    "read_gtf"
   ]
  },
  {
   "cell_type": "code",
   "execution_count": null,
   "id": "d5afa805-12a1-4c2f-99f8-7790d0cd01de",
   "metadata": {},
   "outputs": [],
   "source": []
  },
  {
   "cell_type": "code",
   "execution_count": null,
   "id": "9e9f7cfe-e34b-4022-8e8c-c3ccd2c7032e",
   "metadata": {},
   "outputs": [],
   "source": []
  },
  {
   "cell_type": "code",
   "execution_count": null,
   "id": "bfc89c3e-ab97-4511-ad77-6e99172cb4e2",
   "metadata": {},
   "outputs": [],
   "source": []
  },
  {
   "cell_type": "code",
   "execution_count": null,
   "id": "ace455cc-cf33-483f-a9bd-aae2e8642438",
   "metadata": {},
   "outputs": [],
   "source": []
  }
 ],
 "metadata": {
  "kernelspec": {
   "display_name": "Python 3",
   "language": "python",
   "name": "python3"
  },
  "language_info": {
   "codemirror_mode": {
    "name": "ipython",
    "version": 3
   },
   "file_extension": ".py",
   "mimetype": "text/x-python",
   "name": "python",
   "nbconvert_exporter": "python",
   "pygments_lexer": "ipython3",
   "version": "3.8.10"
  },
  "toc-autonumbering": false,
  "toc-showmarkdowntxt": false
 },
 "nbformat": 4,
 "nbformat_minor": 5
}
