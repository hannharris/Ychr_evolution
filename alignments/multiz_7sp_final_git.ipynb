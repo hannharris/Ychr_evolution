{
 "cells": [
  {
   "cell_type": "code",
   "execution_count": 1,
   "id": "730dde14-c23c-40b6-81bf-bc4bfe9115ca",
   "metadata": {
    "tags": []
   },
   "outputs": [],
   "source": [
    "import os\n",
    "import subprocess\n",
    "import Bio\n",
    "from Bio import SeqIO \n",
    "from Bio import AlignIO\n",
    "from Bio.Align import MultipleSeqAlignment\n",
    "import glob\n",
    "from Bio import SeqRecord\n",
    "import pandas as pd\n",
    "import genomicranges as gr\n",
    "from Bio.Seq import Seq\n",
    "import pyranges as pr\n",
    "from Bio import AlignIO, SeqIO"
   ]
  },
  {
   "cell_type": "code",
   "execution_count": null,
   "id": "f5b976d1-c057-432c-b6fe-219bdfcd3643",
   "metadata": {},
   "outputs": [],
   "source": [
    "myPath = #PATH TO GITHUB FOLDER"
   ]
  },
  {
   "cell_type": "code",
   "execution_count": null,
   "id": "e056ccd4-0cb2-4e5d-b80d-1de342edd4ed",
   "metadata": {
    "tags": []
   },
   "outputs": [],
   "source": [
    "def make_sbatch_file(filename):\n",
    "    \n",
    "    my_list = [\"#!/bin/bash\", \n",
    "               \"#SBATCH --job-name=all_bz\", \n",
    "               \"#SBATCH --nodes=1\",  \n",
    "               \"#SBATCH --ntasks=1\",                     \n",
    "               \"#SBATCH --cpus-per-task=10\",              \n",
    "               \"#SBATCH --mem=20gb\",                    \n",
    "               \"#SBATCH --partition=20\",                \n",
    "               \"##SBATCH --output all_bz-%j.out\",  \n",
    "               \"#SBATCH --mail-type=ALL\",               \n",
    "               \"#SBATCH --mail-user=hlharris@wi.mit.edu\"] \n",
    "    \n",
    "    with open(filename, \"w\") as file: \n",
    "        for item in my_list:\n",
    "            file.write(item + '\\n') \n",
    "    \n",
    "def calc_zeros(alignment): \n",
    "    count = 0 \n",
    "    return [0 if base == \"-\" else (count := count + 1) for base in alignment[0]]\n",
    "\n",
    "\n",
    "def crop_alignment(start, end, alignment):\n",
    "        \n",
    "    zeros_seq = calc_zeros(alignment)\n",
    "    try:\n",
    "        ix_start = zeros_seq.index(start)\n",
    "        #print(ix_start)\n",
    "        ix_end = zeros_seq.index(end) #pretty elegant\n",
    "        #print(ix_end)\n",
    "        cropped_alignment = alignment[:, ix_start:ix_end]\n",
    "        return cropped_alignment\n",
    "    except: \n",
    "        return None\n",
    "    \n",
    "    \n",
    "def concat_alignment(gtf_file, alignment):\n",
    "   # print(alignment)\n",
    "    complete_align_type = MultipleSeqAlignment([]) \n",
    "    #add the groups to complete align: \n",
    "    for recordix in range(len(alignment)): \n",
    "        new_record = SeqRecord(\"\")\n",
    "        new_record.id = alignment[recordix].id \n",
    "        new_record.seq = Seq(\"\") #added this \n",
    "\n",
    "        complete_align_type.append(new_record)\n",
    "    \n",
    "    for index, row in gtf_file.iterrows():     \n",
    "        crop_align = crop_alignment(row[3], row[4], alignment)\n",
    "        #print(crop_align)\n",
    "        if crop_align is not None: \n",
    "            for recordix in range(len(crop_align)): \n",
    "                complete_align_type[recordix].seq += crop_align[recordix].seq #append additional sequence\n",
    "        \n",
    "    return complete_align_type"
   ]
  },
  {
   "cell_type": "code",
   "execution_count": null,
   "id": "330c49f6-09df-494f-9ab5-cecf0a4fb8af",
   "metadata": {
    "tags": []
   },
   "outputs": [],
   "source": [
    "def has_ACGT(sequence):\n",
    "    count_ACGT = sum(c in 'ACTG' for c in sequence)\n",
    "    return count_ACGT > len(sequence) / 4 #true or false"
   ]
  },
  {
   "cell_type": "code",
   "execution_count": 2,
   "id": "cba67d6c-5224-47a3-810c-ef55302b400e",
   "metadata": {
    "tags": []
   },
   "outputs": [
    {
     "name": "stdout",
     "output_type": "stream",
     "text": [
      "EIF1AX\n"
     ]
    },
    {
     "ename": "NameError",
     "evalue": "name 'myPath' is not defined",
     "output_type": "error",
     "traceback": [
      "\u001b[0;31m---------------------------------------------------------------------------\u001b[0m",
      "\u001b[0;31mNameError\u001b[0m                                 Traceback (most recent call last)",
      "Cell \u001b[0;32mIn[2], line 17\u001b[0m\n\u001b[1;32m     15\u001b[0m \u001b[38;5;28;01mfor\u001b[39;00m gene \u001b[38;5;129;01min\u001b[39;00m genes: \n\u001b[1;32m     16\u001b[0m     \u001b[38;5;28mprint\u001b[39m(gene)\n\u001b[0;32m---> 17\u001b[0m     records \u001b[38;5;241m=\u001b[39m \u001b[38;5;28mlist\u001b[39m(SeqIO\u001b[38;5;241m.\u001b[39mparse(\u001b[43mmyPath\u001b[49m \u001b[38;5;241m+\u001b[39m \u001b[38;5;124m'\u001b[39m\u001b[38;5;124m/sequences/\u001b[39m\u001b[38;5;124m'\u001b[39m \u001b[38;5;241m+\u001b[39m gene \u001b[38;5;241m+\u001b[39m \u001b[38;5;124m\"\u001b[39m\u001b[38;5;124m.fa\u001b[39m\u001b[38;5;124m\"\u001b[39m, \u001b[38;5;124m\"\u001b[39m\u001b[38;5;124mfasta\u001b[39m\u001b[38;5;124m\"\u001b[39m)) \n\u001b[1;32m     19\u001b[0m     \u001b[38;5;66;03m#set the trees for input \u001b[39;00m\n\u001b[1;32m     20\u001b[0m     \u001b[38;5;28;01mif\u001b[39;00m \u001b[38;5;28mlen\u001b[39m(records) \u001b[38;5;241m==\u001b[39m \u001b[38;5;241m3\u001b[39m: \n",
      "\u001b[0;31mNameError\u001b[0m: name 'myPath' is not defined"
     ]
    }
   ],
   "source": [
    "from Bio.Seq import Seq\n",
    "from Bio.SeqRecord import SeqRecord\n",
    "\n",
    "genes = [ \"EIF1AX\", \"EIF1AY\", \"KDM5D\" , \"KDM5C\",\"UTY\", \"KDM6A\", \"ZFY\", \"ZFX\", \"DDX3Y\" ,\"DDX3X\", \"USP9Y\" , \"USP9X\", \"RPS4Y1\", \"RPS4X\"] \n",
    "\n",
    "\n",
    "regions = [\"exon\", \"intron\", \"promoter\"]  \n",
    "\n",
    "species_dict = {0:\"human\", 1:\"chimp\", 2: \"mac\", 3: \"marm\"} \n",
    "\n",
    "files_generated = [] \n",
    "spec1 = 'humanmasked'\n",
    "\n",
    "\n",
    "for gene in genes: \n",
    "    print(gene)\n",
    "    records = list(SeqIO.parse(myPath + '/sequences/' + gene + \".fa\", \"fasta\")) \n",
    "    \n",
    "    #set the trees for input \n",
    "    if len(records) == 3: \n",
    "        tree = '((((((humanmasked chimp) gorilla) orangutan) pileatedgibbon) mac) lemur loris)'\n",
    "        list_of_species = ['chimp', 'gorilla', 'orangutan', 'pileatedgibbon', 'mac']\n",
    "    else: \n",
    "        tree = '((((((humanmasked chimp) gorilla) orangutan) pileatedgibbon) mac marm) lemur loris)' \n",
    "        list_of_species = ['chimp', 'gorilla', 'orangutan', 'pileatedgibbon', 'mac', 'marm']\n",
    "\n",
    "        \n",
    "    #make a new directory for each gene: \n",
    "    os.chdir(myPath + '/sequences/primates/' + gene)\n",
    "    \n",
    "    \n",
    "    gtf_file = pd.read_csv(myPath + \"/tables/\" + gene + \"_gtf_all103023.txt\", delimiter=\"\\t\", header = None) \n",
    "    \n",
    "    for spec2ix in range(len(list_of_species)): \n",
    "        \n",
    "        spec2 = list_of_species[spec2ix]\n",
    "        spec2ix = spec2ix + 1\n",
    "        second_align_file_name = spec1 + \".\" + spec2  \n",
    "        \n",
    "        msa = list(SeqIO.parse(myPath + '/sequences/primates/' + gene + \"/\" + gene + \"_msamasked.fa\", \"fasta\")) #get the MASKED version there\n",
    "\n",
    "        new_filepath = myPath + \"/sequences/primates/\" + gene + \"/\" + second_align_file_name + \"_msa.fa\"\n",
    "        pair_alignment = MultipleSeqAlignment([msa[0]]) #add human alignment\n",
    "\n",
    "        pair_alignment.append(msa[spec2ix]) \n",
    "\n",
    "        SeqIO.write(pair_alignment, new_filepath, \"fasta\") #as fasta\n",
    "\n",
    "        \n",
    "        #separate into multiple files based on GTF file \n",
    "        for region in regions: \n",
    "            #\n",
    "            gtf_file1 = gtf_file[gtf_file[2] == region] \n",
    "            new_alignment = AlignIO.read(myPath + \"/sequences/primates/\" + gene + \"/\" + second_align_file_name + \"_msa.fa\", \"fasta\")\n",
    "            #\n",
    "            returned_align = concat_alignment(gtf_file1,new_alignment) \n",
    "            \n",
    "            filtered_sequences = [record for record in returned_align if has_ACGT(record.seq)] \n",
    "            if filtered_sequences:\n",
    "                SeqIO.write(filtered_sequences, myPath + \"/sequences/primates/\" + gene + \"/\" + second_align_file_name + \"_\" + region + \"_msa.phy\", \"phylip\") #as phylip\n",
    "                \n",
    "                new_alignment = MultipleSeqAlignment([])\n",
    "\n",
    "                for record in filtered_sequences:\n",
    "    # Replace '*' with '-' in the sequence\n",
    "                    modified_seq = str(record.seq).replace('*', '-')\n",
    "    # Replace 'N' with '-'\n",
    "                    modified_seq = modified_seq.replace('N', '-')\n",
    "    \n",
    "    # Create a new SeqRecord with the modified sequence\n",
    "                    new_record = SeqRecord(Seq(modified_seq), id=record.id)\n",
    "    \n",
    "    # Append the new record to the new alignment\n",
    "                    new_alignment.append(new_record)\n",
    "        \n",
    "                SeqIO.write(new_alignment, myPath +  \"/sequences/primates/\" + gene + \"/\" + second_align_file_name + \"_\" + region + \"_msa.phy\", \"phylip\") #as phylip\n",
    "\n",
    "                subprocess.run(['/lab/page_scratch/hannah/trimal/source/trimal', '-in', myPath + '/sequences/primates/' + gene + '/' + second_align_file_name + '_' + region + '_msa.phy', '-out', myPath + '/sequences/primates/' + gene + '/' + second_align_file_name + '_' + region + '_msa_filtered.phy', '-gt', '1'],  stderr=subprocess.PIPE)\n",
    "\n",
    "            else: \n",
    "                print(\"check\") "
   ]
  }
 ],
 "metadata": {
  "kernelspec": {
   "display_name": "Python 3",
   "language": "python",
   "name": "python3"
  },
  "language_info": {
   "codemirror_mode": {
    "name": "ipython",
    "version": 3
   },
   "file_extension": ".py",
   "mimetype": "text/x-python",
   "name": "python",
   "nbconvert_exporter": "python",
   "pygments_lexer": "ipython3",
   "version": "3.8.10"
  }
 },
 "nbformat": 4,
 "nbformat_minor": 5
}
