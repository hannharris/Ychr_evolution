{
 "cells": [
  {
   "cell_type": "code",
   "execution_count": 3,
   "id": "e166751c-3024-432c-9647-1a6e5b042cd5",
   "metadata": {},
   "outputs": [],
   "source": [
    "import pandas as pd\n",
    "import matplotlib as plt\n",
    "import matplotlib.pyplot as plt\n",
    "import copy\n",
    "from gtfparse import read_gtf\n",
    "import os\n",
    "import pyranges as pr\n"
   ]
  },
  {
   "cell_type": "code",
   "execution_count": null,
   "id": "b17a86f2-1d1b-4350-a43c-3ffe6b598a1b",
   "metadata": {
    "tags": []
   },
   "outputs": [],
   "source": [
    "#download most updated GTF file from ensembl\n",
    "\n",
    "gtf_ = pr.read_gtf(\"/nfs/genomes/human_hg38_dec13_no_random/gtf/Homo_sapiens.GRCh38.99.chr.canonical.gtf\") #dowload gtf file from ensembl\n",
    "gtf_ = gtf_.df"
   ]
  },
  {
   "cell_type": "code",
   "execution_count": 16,
   "id": "59eb3d21-5b57-4c3f-b1fb-46851935e749",
   "metadata": {
    "tags": []
   },
   "outputs": [
    {
     "data": {
      "text/plain": [
       "array(['CDS'], dtype=object)"
      ]
     },
     "execution_count": 16,
     "metadata": {},
     "output_type": "execute_result"
    }
   ],
   "source": [
    "genes = [ \"EIF1AX\", \"EIF1AY\", \"KDM5D\" , \"KDM5C\",\"UTY\", \"KDM6A\", \"ZFY\", \"ZFX\", \"DDX3Y\" ,\"DDX3X\", \"USP9Y\" , \"USP9X\", \"RPS4Y1\", \"RPS4X\"] \n",
    "\n",
    "gtf_xy = gtf_[gtf_.gene_name.isin(genes)]\n",
    "\n",
    "#extract the exons and genes\n",
    "gtf_xy = gtf_xy[(gtf_xy['Feature'] == \"CDS\")]\n",
    "\n",
    "gtf_xy['Feature'].unique() \n",
    "gtf_xy['gene_name'].unique()\n",
    "gtf_xy['Feature'].unique() "
   ]
  },
  {
   "cell_type": "code",
   "execution_count": null,
   "id": "f5e56d43-cf2f-4804-94a2-e4e7c44c285c",
   "metadata": {
    "tags": []
   },
   "outputs": [],
   "source": [
    "def intron_overlapping(exons, intron_start, intron_end):\n",
    "    \n",
    "    #input data frame of exons, coordinates of intron_start and intron_ent \n",
    "    #if the intron overlaps an exon, returns false \n",
    "\n",
    "    for index in range(len(exons)): \n",
    "        exon_st = exons.iloc[index]['Start']\n",
    "        exon_end = exons.iloc[index]['End']\n",
    "        \n",
    "        if ((exon_st >= intron_start) & (exon_st <= intron_end)):\n",
    "            return True\n",
    "        if ((exon_end >= intron_start) & (exon_end <= intron_end)):\n",
    "            return True\n",
    "        \n",
    "        if ((exon_st <= intron_start) & (exon_end >= intron_start)):\n",
    "            return True \n",
    "        if ((exon_st <= intron_end) & (exon_end >= intron_end)):\n",
    "            return True\n",
    "\n",
    "    return False\n"
   ]
  },
  {
   "cell_type": "code",
   "execution_count": null,
   "id": "ef3dba0d-4456-42da-9dde-f17ae4ddfb2b",
   "metadata": {
    "collapsed": true,
    "jupyter": {
     "outputs_hidden": true
    },
    "tags": []
   },
   "outputs": [],
   "source": [
    "intron_coordinates = pd.DataFrame(columns=['seqname', 'feature', 'start', 'end', 'gene_name'])  \n",
    "genes = [ \"EIF1AX\", \"EIF1AY\", \"KDM5D\" , \"KDM5C\",\"UTY\", \"KDM6A\", \"ZFY\", \"ZFX\", \"DDX3Y\" ,\"DDX3X\", \"USP9Y\" , \"USP9X\", \"RPS4Y1\", \"RPS4X\"] \n",
    "\n",
    "#genes = [\"ZFY\"] \n",
    "\n",
    "for gene in genes: \n",
    "    testzfx = gtf_xy[gtf_xy['gene_name'] == gene] \n",
    "    exons = testzfx[testzfx['Feature'] == \"CDS\"]\n",
    "    \n",
    "    exons = exons.sort_values(['Chromosome', 'Start', 'End']) #sort values start to end \n",
    "    grouped_exons = exons.groupby('transcript_id')\n",
    "    print(grouped_exons)\n",
    "    for name, group in grouped_exons:\n",
    "      #  print(name)\n",
    "        for i in range(1, len(group)):\n",
    "            intron_start = group.iloc[i-1][4] \n",
    "            intron_end = group.iloc[i][3] \n",
    "            \n",
    "            if (intron_end - intron_start > 200) & (intron_end > intron_start): \n",
    "                intron_start = intron_start + 100\n",
    "                intron_end = intron_end - 100\n",
    "            else:\n",
    "                continue\n",
    "        # Check for overlap with exons of any transcripts \n",
    "            #get rid of any grouped exon \n",
    "            if (group.iloc[i-1][24] == '1') | (group.iloc[i][24] == '1'): \n",
    "                #print('FIRST', intron_start, intron_end)\n",
    "                continue\n",
    "            \n",
    "            if intron_overlapping(exons, intron_start, intron_end):                 \n",
    "                #print(\"HERE\", intron_start, intron_end) \n",
    "                continue\n",
    "            \n",
    "            else:\n",
    "                #print(\"adding\", intron_start, intron_end) \n",
    "                new_row = pd.Series({'seqname': testzfx['Chromosome'].iloc[0], 'feature': 'intron', 'start': intron_start, 'end':intron_end, 'gene_name':gene}) \n",
    "                intron_coordinates = intron_coordinates.append(new_row, ignore_index=True) \n",
    "                "
   ]
  },
  {
   "cell_type": "code",
   "execution_count": 20,
   "id": "fb2db4d1-b3c9-4b0a-a021-1d201131fbe5",
   "metadata": {
    "tags": []
   },
   "outputs": [
    {
     "data": {
      "text/html": [
       "<div>\n",
       "<style scoped>\n",
       "    .dataframe tbody tr th:only-of-type {\n",
       "        vertical-align: middle;\n",
       "    }\n",
       "\n",
       "    .dataframe tbody tr th {\n",
       "        vertical-align: top;\n",
       "    }\n",
       "\n",
       "    .dataframe thead th {\n",
       "        text-align: right;\n",
       "    }\n",
       "</style>\n",
       "<table border=\"1\" class=\"dataframe\">\n",
       "  <thead>\n",
       "    <tr style=\"text-align: right;\">\n",
       "      <th></th>\n",
       "      <th>seqname</th>\n",
       "      <th>feature</th>\n",
       "      <th>start</th>\n",
       "      <th>end</th>\n",
       "      <th>gene_name</th>\n",
       "    </tr>\n",
       "  </thead>\n",
       "  <tbody>\n",
       "    <tr>\n",
       "      <th>2813677</th>\n",
       "      <td>chrX</td>\n",
       "      <td>CDS</td>\n",
       "      <td>41334252</td>\n",
       "      <td>41334297</td>\n",
       "      <td>DDX3X</td>\n",
       "    </tr>\n",
       "    <tr>\n",
       "      <th>2813680</th>\n",
       "      <td>chrX</td>\n",
       "      <td>CDS</td>\n",
       "      <td>41337407</td>\n",
       "      <td>41337465</td>\n",
       "      <td>DDX3X</td>\n",
       "    </tr>\n",
       "    <tr>\n",
       "      <th>2813682</th>\n",
       "      <td>chrX</td>\n",
       "      <td>CDS</td>\n",
       "      <td>41339035</td>\n",
       "      <td>41339083</td>\n",
       "      <td>DDX3X</td>\n",
       "    </tr>\n",
       "    <tr>\n",
       "      <th>2813684</th>\n",
       "      <td>chrX</td>\n",
       "      <td>CDS</td>\n",
       "      <td>41341483</td>\n",
       "      <td>41341616</td>\n",
       "      <td>DDX3X</td>\n",
       "    </tr>\n",
       "    <tr>\n",
       "      <th>2813686</th>\n",
       "      <td>chrX</td>\n",
       "      <td>CDS</td>\n",
       "      <td>41342494</td>\n",
       "      <td>41342653</td>\n",
       "      <td>DDX3X</td>\n",
       "    </tr>\n",
       "    <tr>\n",
       "      <th>...</th>\n",
       "      <td>...</td>\n",
       "      <td>...</td>\n",
       "      <td>...</td>\n",
       "      <td>...</td>\n",
       "      <td>...</td>\n",
       "    </tr>\n",
       "    <tr>\n",
       "      <th>2815274</th>\n",
       "      <td>chrX</td>\n",
       "      <td>CDS</td>\n",
       "      <td>41346319</td>\n",
       "      <td>41346410</td>\n",
       "      <td>DDX3X</td>\n",
       "    </tr>\n",
       "    <tr>\n",
       "      <th>2815276</th>\n",
       "      <td>chrX</td>\n",
       "      <td>CDS</td>\n",
       "      <td>41346504</td>\n",
       "      <td>41346622</td>\n",
       "      <td>DDX3X</td>\n",
       "    </tr>\n",
       "    <tr>\n",
       "      <th>2815278</th>\n",
       "      <td>chrX</td>\n",
       "      <td>CDS</td>\n",
       "      <td>41346858</td>\n",
       "      <td>41347012</td>\n",
       "      <td>DDX3X</td>\n",
       "    </tr>\n",
       "    <tr>\n",
       "      <th>2815280</th>\n",
       "      <td>chrX</td>\n",
       "      <td>CDS</td>\n",
       "      <td>41347311</td>\n",
       "      <td>41347451</td>\n",
       "      <td>DDX3X</td>\n",
       "    </tr>\n",
       "    <tr>\n",
       "      <th>2815282</th>\n",
       "      <td>chrX</td>\n",
       "      <td>CDS</td>\n",
       "      <td>41347859</td>\n",
       "      <td>41347921</td>\n",
       "      <td>DDX3X</td>\n",
       "    </tr>\n",
       "  </tbody>\n",
       "</table>\n",
       "<p>445 rows × 5 columns</p>\n",
       "</div>"
      ],
      "text/plain": [
       "        seqname feature     start       end gene_name\n",
       "2813677    chrX     CDS  41334252  41334297     DDX3X\n",
       "2813680    chrX     CDS  41337407  41337465     DDX3X\n",
       "2813682    chrX     CDS  41339035  41339083     DDX3X\n",
       "2813684    chrX     CDS  41341483  41341616     DDX3X\n",
       "2813686    chrX     CDS  41342494  41342653     DDX3X\n",
       "...         ...     ...       ...       ...       ...\n",
       "2815274    chrX     CDS  41346319  41346410     DDX3X\n",
       "2815276    chrX     CDS  41346504  41346622     DDX3X\n",
       "2815278    chrX     CDS  41346858  41347012     DDX3X\n",
       "2815280    chrX     CDS  41347311  41347451     DDX3X\n",
       "2815282    chrX     CDS  41347859  41347921     DDX3X\n",
       "\n",
       "[445 rows x 5 columns]"
      ]
     },
     "execution_count": 20,
     "metadata": {},
     "output_type": "execute_result"
    }
   ],
   "source": [
    "gtf_small = gtf_xy[['Chromosome', 'Feature', 'Start', 'End', 'gene_name']] \n",
    "gtf_small = gtf_small.rename(columns={\"Chromosome\": \"seqname\", \"Feature\": \"feature\", \"Start\":\"start\", \"End\": \"end\", \"gene_name\": \"gene_name\"}) #(\"seqname\", \"feature\", \"start\", \"end\", \"gene_name\")\n",
    "gtf_small[gtf_small['gene_name'] == 'DDX3X']"
   ]
  },
  {
   "cell_type": "code",
   "execution_count": 21,
   "id": "a6b4e604-94ee-4ab7-9bc0-0dde5e82cbc5",
   "metadata": {
    "tags": []
   },
   "outputs": [],
   "source": [
    "vertically_concatenated = pd.concat([gtf_small, intron_coordinates], axis=0) \n",
    "vertically_concatenated = vertically_concatenated[(vertically_concatenated['feature'] == \"CDS\") | (vertically_concatenated['feature'] == \"intron\") | ((vertically_concatenated['feature'] == 'exon') )]"
   ]
  },
  {
   "cell_type": "code",
   "execution_count": null,
   "id": "23b375aa-8926-4075-8826-dd0d2df36205",
   "metadata": {
    "tags": []
   },
   "outputs": [],
   "source": [
    "vertically_concatenated['feature'].unique()\n",
    "vertically_concatenated.to_csv(myPath + \"/tables/\" + \"XY_gtf_w_introns_012924.txt\",  index=None, sep=str('\\t'))"
   ]
  }
 ],
 "metadata": {
  "kernelspec": {
   "display_name": "Python 3",
   "language": "python",
   "name": "python3"
  },
  "language_info": {
   "codemirror_mode": {
    "name": "ipython",
    "version": 3
   },
   "file_extension": ".py",
   "mimetype": "text/x-python",
   "name": "python",
   "nbconvert_exporter": "python",
   "pygments_lexer": "ipython3",
   "version": "3.8.10"
  }
 },
 "nbformat": 4,
 "nbformat_minor": 5
}
