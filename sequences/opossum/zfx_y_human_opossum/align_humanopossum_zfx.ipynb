{
 "cells": [
  {
   "cell_type": "code",
   "execution_count": 78,
   "id": "3384461c-281c-4f6a-bd23-b6a029f9d3f1",
   "metadata": {
    "tags": []
   },
   "outputs": [],
   "source": [
    "import os\n",
    "import subprocess\n",
    "import Bio\n",
    "from Bio import SeqIO \n",
    "from Bio import AlignIO\n",
    "from Bio.Align import MultipleSeqAlignment\n",
    "import glob\n",
    "from Bio import SeqRecord\n",
    "import pandas as pd\n",
    "####pip install genomicranges #this worked \n",
    "import genomicranges as gr\n",
    "from Bio.Seq import Seq\n",
    "####from Bio.SeqRecord import SeqRecord  \n",
    "import pyranges as pr\n",
    "from Bio import AlignIO, SeqIO"
   ]
  },
  {
   "cell_type": "code",
   "execution_count": 79,
   "id": "6751b5fb-8c8c-4d6a-b604-bed161ea26b4",
   "metadata": {
    "tags": []
   },
   "outputs": [],
   "source": [
    "def make_sbatch_file(filename):\n",
    "    \n",
    "    my_list = [\"#!/bin/bash\", \n",
    "               \"#SBATCH --job-name=all_bz\", \n",
    "               \"#SBATCH --nodes=1\",  \n",
    "               \"#SBATCH --ntasks=1\",                     \n",
    "               \"#SBATCH --cpus-per-task=10\",              \n",
    "               \"#SBATCH --mem=20gb\",                    \n",
    "               \"#SBATCH --partition=20\",                \n",
    "               \"##SBATCH --output all_bz-%j.out\",  \n",
    "               \"#SBATCH --mail-type=ALL\",               \n",
    "               \"#SBATCH --mail-user=hlharris@wi.mit.edu\"] \n",
    "    \n",
    "    with open(filename, \"w\") as file: \n",
    "        for item in my_list:\n",
    "            file.write(item + '\\n') \n",
    "    \n",
    "def calc_zeros(alignment): \n",
    "    count = 0 \n",
    "    return [0 if base == \"-\" else (count := count + 1) for base in alignment[0]]\n",
    "\n",
    "\n",
    "def crop_alignment(start, end, alignment):\n",
    "        \n",
    "    zeros_seq = calc_zeros(alignment)\n",
    "    #print(zeros_seq) #MIGHT NEED TO SUBTRACT 1 FROM EACH \n",
    "    try:\n",
    "        ix_start = zeros_seq.index(start)\n",
    "        #print(ix_start)\n",
    "        ix_end = zeros_seq.index(end) #pretty elegant\n",
    "        #print(ix_end)\n",
    "        cropped_alignment = alignment[:, ix_start:ix_end]\n",
    "        return cropped_alignment\n",
    "    except: \n",
    "        return None\n",
    "    \n",
    "    \n",
    "def concat_alignment(gtf_file, alignment):\n",
    "   # print(alignment)\n",
    "    complete_align_type = MultipleSeqAlignment([]) \n",
    "    #add the groups to complete align: \n",
    "    for recordix in range(len(alignment)): \n",
    "        #new_record = SeqRecord.SeqRecord(\"\") \n",
    "        new_record = SeqRecord(\"\")\n",
    "        new_record.id = alignment[recordix].id \n",
    "        new_record.seq = Seq(\"\") #added this \n",
    "\n",
    "        complete_align_type.append(new_record)\n",
    "    \n",
    "   # print(complete_align_type)\n",
    "    for index, row in gtf_file.iterrows():     \n",
    "        crop_align = crop_alignment(row[3], row[4], alignment)\n",
    "        #print(crop_align)\n",
    "        if crop_align is not None: \n",
    "            for recordix in range(len(crop_align)): \n",
    "                complete_align_type[recordix].seq += crop_align[recordix].seq #append additional sequence\n",
    "        \n",
    "    return complete_align_type\n",
    "\n",
    "def has_ACGT(sequence):\n",
    "    count_ACGT = sum(c in 'ACTG' for c in sequence)\n",
    "    return count_ACGT > len(sequence) / 1000 #true or false"
   ]
  },
  {
   "cell_type": "code",
   "execution_count": 6,
   "id": "0c432019-f2b6-4a37-a70e-cb58dcd07a1c",
   "metadata": {
    "tags": []
   },
   "outputs": [
    {
     "name": "stdout",
     "output_type": "stream",
     "text": [
      "ZFX\n",
      "Submitted batch job 1479188\n"
     ]
    },
    {
     "data": {
      "text/plain": [
       "CompletedProcess(args=['sbatch', 'testj1.sh'], returncode=0, stderr=b'')"
      ]
     },
     "execution_count": 6,
     "metadata": {},
     "output_type": "execute_result"
    }
   ],
   "source": [
    "#generate alignment of full gene sequences\n",
    "\n",
    "gene = 'ZFX'\n",
    "\n",
    "tree = '(humanmasked_X humanmasked_Y (opossum))'\n",
    "    \n",
    "    \n",
    "subprocess.run([\"cp\", '/lab/solexa_page/hannah/220516_mpra/msa/long_alignments/multiz_7sp/'+ 'ZFX' + \"/\" + 'humanmasked', '/lab/solexa_page/hannah/220516_mpra/msa/long_alignments/multiz_dog_bull/opossum/zfx_y_human_opossum/humanmasked_X'])\n",
    "subprocess.run([\"cp\", '/lab/solexa_page/hannah/220516_mpra/msa/long_alignments/multiz_7sp/'+ 'ZFY' + \"/\" + 'humanmasked', '/lab/solexa_page/hannah/220516_mpra/msa/long_alignments/multiz_dog_bull/opossum/zfx_y_human_opossum/humanmasked_Y'])\n",
    "subprocess.run([\"cp\", '/lab/solexa_page/hannah/220516_mpra/msa/long_alignments/multiz_dog_bull/'+ 'opossum' + \"/\" + 'ZFX_fullgene', '/lab/solexa_page/hannah/220516_mpra/msa/long_alignments/multiz_dog_bull/opossum/zfx_y_human_opossum/opossum']) \n",
    "\n",
    "\n",
    "subprocess.run([\"touch\", \"all_bz.log\"])  #making a new file \n",
    "    \n",
    "with open(\"all_bz.log\", \"w\") as log_file:\n",
    "    result = subprocess.run(['all_bz', '-', tree], stdout=log_file, stderr=subprocess.PIPE, check=True)\n",
    "        \n",
    "make_sbatch_file(\"testj1.sh\") #make sbatch file - it makes a new one each time through so you dont have to delete the old one \n",
    "print(gene) \n",
    "with open(\"testj1.sh\", \"a\") as file: #append to the file \n",
    "    file.write(\"bash \") \n",
    "    file.write(\"all_bz.log\" + \"\\n\")\n",
    "    file.write(\"tba '\" + tree + \"' *.*.maf tba.maf >&tba.log\" + \"\\n\") \n",
    "    file.write(\"maf_project tba.maf humanmasked_X '\" + tree + \"' > human_proj.maf\" + \"\\n\") #project from the perspective of the X chr \n",
    "    file.write(\"msa_view -o FASTA human_proj.maf > \" + gene + \"_msa.fa\")\n",
    "        \n",
    "subprocess.run([\"sbatch\", 'testj1.sh'], stderr=subprocess.PIPE)\n",
    "  "
   ]
  },
  {
   "cell_type": "code",
   "execution_count": null,
   "id": "03719946-4fa0-423c-a5ae-551da5071747",
   "metadata": {
    "tags": []
   },
   "outputs": [],
   "source": [
    "#FOR ALIGNMENTS */- \n",
    "from Bio.Seq import Seq\n",
    "from Bio.SeqRecord import SeqRecord\n",
    "\n",
    "genes = ['ZFX']\n",
    "\n",
    "regions = [\"exon\", \"intron\"] #, \"promoter\"]  \n",
    "#regions = [ \"promoter\"] #just do promoter  \n",
    "\n",
    "\n",
    "list_of_species = ['humanmasked_X', 'humanmasked_Y', 'opossum']\n",
    "\n",
    "files_generated = [] \n",
    "\n",
    "spec1 = 'humanmasked_X' \n",
    "\n",
    "for gene in genes: \n",
    "    print(gene) \n",
    "\n",
    "    #change dir: \n",
    "    \n",
    "    gtf_file = pd.read_csv(\"/lab/solexa_page/hannah/220516_mpra/msa/long_alignments/\" + gene + \"_gtf_all103023.txt\", delimiter=\"\\t\", header = None) #pd.read_csv(\"/lab/solexa_page/hannah/220516_mpra/msa/long_alignments/\" + gene + \"_gtf_all0721.txt\", delimiter=\"\\t\", header = None) \n",
    "    #print(gtf_file)\n",
    "    \n",
    "#    for spec2ix in range(len(list_of_species)): \n",
    "       # print(spec2ix, 'im at the top')\n",
    "        \n",
    "#        spec2 = list_of_species[spec2ix] \n",
    "#        print(spec2, 'spec2')\n",
    "#        spec2ix = spec2ix + 1\n",
    "#        second_align_file_name = spec1 + \".\" + spec2  \n",
    "        \n",
    "#        msa = list(SeqIO.parse('/lab/solexa_page/hannah/220516_mpra/msa/long_alignments/multiz_dog_bull/' + gene + \"/human_chicken/\" + gene + \"_msa.fa\", \"fasta\")) #get the MASKED version there\n",
    "\n",
    "#        new_filepath = \"/lab/solexa_page/hannah/220516_mpra/msa/long_alignments/multiz_dog_bull/\" + gene + \"/human_chicken/\" + second_align_file_name + \"_msa.fa\"\n",
    "#        pair_alignment = MultipleSeqAlignment([msa[0]]) #add human alignment\n",
    "\n",
    "#        pair_alignment.append(msa[spec2ix]) \n",
    "\n",
    "#        SeqIO.write(pair_alignment, new_filepath, \"fasta\") #as fasta\n",
    "\n",
    "  \n",
    "    # separate into multiple files based on GTF file \n",
    "    for region in regions: \n",
    "        print(region, \"region\")\n",
    "\n",
    "        gtf_file1 = gtf_file[gtf_file[2] == region] \n",
    "       \n",
    "        new_alignment = AlignIO.read(\"/lab/solexa_page/hannah/220516_mpra/msa/long_alignments/multiz_dog_bull/opossum/zfx_y_human_opossum/ZFX_msa.fa\", \"fasta\")\n",
    "        #print(gtf_file1)\n",
    "        returned_align = concat_alignment(gtf_file1,new_alignment) \n",
    "        #print(returned_align[0].seq)\n",
    "        filtered_sequences = [record for record in returned_align if has_ACGT(record.seq)] \n",
    "        \n",
    "        filtered_sequences[0].id = 'humanX'\n",
    "        filtered_sequences[1].id = 'humanY'\n",
    "        filtered_sequences[2].id = 'op'\n",
    "        \n",
    "        if filtered_sequences:\n",
    "            SeqIO.write(filtered_sequences, \"/lab/solexa_page/hannah/220516_mpra/msa/long_alignments/multiz_dog_bull/opossum/zfx_y_human_opossum/ZFX_\"  + region + \"_msa.phy\", \"phylip\") #as phylip\n",
    "                \n",
    "            new_alignment = MultipleSeqAlignment([])\n",
    "\n",
    "            for record in filtered_sequences:\n",
    "                print(record)\n",
    "    # Replace '*' with '-' in the sequence\n",
    "                modified_seq = str(record.seq).replace('*', '-')\n",
    "    # Replace 'N' with '-'\n",
    "                modified_seq = modified_seq.replace('N', '-')    \n",
    "    # Create a new SeqRecord with the modified sequence \n",
    "                new_record = SeqRecord(Seq(modified_seq), id=record.id)\n",
    "    \n",
    "    # Append the new record to the new alignment\n",
    "                new_alignment.append(new_record)\n",
    "        \n",
    "                SeqIO.write(new_alignment, \"/lab/solexa_page/hannah/220516_mpra/msa/long_alignments/multiz_dog_bull/opossum/zfx_y_human_opossum/ZFX_\"  + region + \"_msa.phy\", \"phylip\") #as phylip\n",
    "\n",
    "            subprocess.run(['/lab/page_scratch/hannah/trimal/source/trimal', '-in', '/lab/solexa_page/hannah/220516_mpra/msa/long_alignments/multiz_dog_bull/opossum/zfx_y_human_opossum/ZFX_'  + region + \"_msa.phy\", '-out', '/lab/solexa_page/hannah/220516_mpra/msa/long_alignments/multiz_dog_bull/opossum/zfx_y_human_opossum/ZFX_' + region +  '_msa_filtered.phy', '-gt', '1'],  stderr=subprocess.PIPE)\n",
    "\n",
    "        else: \n",
    "            print(\"stupid check\") "
   ]
  },
  {
   "cell_type": "code",
   "execution_count": 76,
   "id": "9b349d2f-3651-41c1-b191-c4073099379b",
   "metadata": {},
   "outputs": [],
   "source": [
    "#from alignment get places where X and Y have different bases \n",
    "#if X is same as opossum, add value depending on what the change is \n",
    "#if Y is the same as opossum, add value depending on what the change is \n",
    "  \n",
    "#first value for X, second for Y\n",
    "dict_types = {'CG_AT': [0,0], 'CG_GC':[0,0], 'CG_TA':[0,0], 'TA_AT':[0,0], 'TA_CG':[0,0], 'TA_GC':[0,0]}     \n",
    "    \n",
    "\n",
    "#alignment = AlignIO.read('/lab/solexa_page/hannah/220516_mpra/msa/long_alignments/multiz_dog_bull/opossum/zfx_y_human_opossum/ZFX_promoter_msa_filtered.phy', 'phylip')\n",
    "\n",
    "#alignment = AlignIO.read('/lab/solexa_page/hannah/220516_mpra/msa/long_alignments/multiz_dog_bull/opossum/zfx_y_human_opossum/ZFX_exon_msa_filtered.phy', 'phylip')\n",
    "\n",
    "alignment = AlignIO.read('/lab/solexa_page/hannah/220516_mpra/msa/long_alignments/multiz_dog_bull/opossum/zfx_y_human_opossum/ZFX_intron_msa_filtered.phy', 'phylip')\n",
    "\n",
    "\n",
    "for i in range(alignment.get_alignment_length()):\n",
    "    # Get the characters at position i for each sequence\n",
    "    characters = alignment[:, i]\n",
    "    X = characters[0]\n",
    "    Y = characters[1]\n",
    "    op = characters[2]\n",
    "    if X == Y or X == Y == op:\n",
    "        next\n",
    "   \n",
    "    if X == op: \n",
    "        valueix = 1\n",
    "        \n",
    "        if X == \"C\":\n",
    "            if Y == \"A\":\n",
    "                dict_types['CG_AT'][valueix] += 1\n",
    "            if Y == \"T\":\n",
    "                dict_types['CG_TA'][valueix] += 1\n",
    "            if Y == \"G\":\n",
    "                dict_types['CG_GC'][valueix] += 1\n",
    "            \n",
    "        if X == \"G\":\n",
    "            if Y == \"A\":\n",
    "                dict_types['CG_TA'][valueix] += 1\n",
    "            if Y == \"T\":\n",
    "                dict_types['CG_AT'][valueix] += 1\n",
    "            if Y == \"C\":\n",
    "                dict_types['CG_GC'][valueix] += 1\n",
    "        \n",
    "        if X == \"T\":\n",
    "            if Y == \"A\":\n",
    "                dict_types['TA_AT'][valueix] += 1\n",
    "            if Y == \"G\":\n",
    "                dict_types['TA_GC'][valueix] += 1\n",
    "            if Y == \"C\":\n",
    "                dict_types['TA_CG'][valueix] += 1\n",
    "                \n",
    "        \n",
    "        if X == \"A\":\n",
    "            if Y == \"T\":\n",
    "                dict_types['TA_AT'][valueix] += 1\n",
    "            if Y == \"G\":\n",
    "                dict_types['TA_CG'][valueix] += 1\n",
    "            if Y == \"C\":\n",
    "                dict_types['TA_GC'][valueix] += 1\n",
    "        \n",
    "                \n",
    "    if Y == op: \n",
    "        valueix = 0\n",
    "               \n",
    "        if Y == \"C\":\n",
    "            if X == \"A\":\n",
    "                dict_types['CG_AT'][valueix] += 1\n",
    "            if X == \"T\":\n",
    "                dict_types['CG_TA'][valueix] += 1\n",
    "            if X == \"G\":\n",
    "                dict_types['CG_GC'][valueix] += 1\n",
    "            \n",
    "        if Y == \"G\":\n",
    "            if X == \"A\":\n",
    "                dict_types['CG_TA'][valueix] += 1\n",
    "            if X == \"T\":\n",
    "                dict_types['CG_AT'][valueix] += 1\n",
    "            if X == \"C\":\n",
    "                dict_types['CG_GC'][valueix] += 1\n",
    "        \n",
    "        if Y == \"T\":\n",
    "            if X  == \"A\":\n",
    "                dict_types['TA_AT'][valueix] += 1\n",
    "            if X  == \"G\":\n",
    "                dict_types['TA_GC'][valueix] += 1\n",
    "            if X  == \"C\":\n",
    "                dict_types['TA_CG'][valueix] += 1\n",
    "        \n",
    "        \n",
    "        if Y == \"A\":\n",
    "            if X  == \"T\":\n",
    "                dict_types['TA_AT'][valueix] += 1\n",
    "            if X  == \"G\":\n",
    "                dict_types['TA_CG'][valueix] += 1\n",
    "            if X  == \"C\":\n",
    "                dict_types['TA_GC'][valueix] += 1\n",
    "\n",
    "    \n",
    "    \n",
    "df = pd.DataFrame.from_dict(dict_types, orient='index', columns=['X', 'Y'])\n"
   ]
  },
  {
   "cell_type": "code",
   "execution_count": 77,
   "id": "da63eb21-58f1-4bf4-8cc1-7f0d13e4a080",
   "metadata": {
    "tags": []
   },
   "outputs": [
    {
     "data": {
      "text/html": [
       "<div>\n",
       "<style scoped>\n",
       "    .dataframe tbody tr th:only-of-type {\n",
       "        vertical-align: middle;\n",
       "    }\n",
       "\n",
       "    .dataframe tbody tr th {\n",
       "        vertical-align: top;\n",
       "    }\n",
       "\n",
       "    .dataframe thead th {\n",
       "        text-align: right;\n",
       "    }\n",
       "</style>\n",
       "<table border=\"1\" class=\"dataframe\">\n",
       "  <thead>\n",
       "    <tr style=\"text-align: right;\">\n",
       "      <th></th>\n",
       "      <th>X</th>\n",
       "      <th>Y</th>\n",
       "    </tr>\n",
       "  </thead>\n",
       "  <tbody>\n",
       "    <tr>\n",
       "      <th>CG_AT</th>\n",
       "      <td>2</td>\n",
       "      <td>6</td>\n",
       "    </tr>\n",
       "    <tr>\n",
       "      <th>CG_GC</th>\n",
       "      <td>1</td>\n",
       "      <td>1</td>\n",
       "    </tr>\n",
       "    <tr>\n",
       "      <th>CG_TA</th>\n",
       "      <td>5</td>\n",
       "      <td>8</td>\n",
       "    </tr>\n",
       "    <tr>\n",
       "      <th>TA_AT</th>\n",
       "      <td>3</td>\n",
       "      <td>9</td>\n",
       "    </tr>\n",
       "    <tr>\n",
       "      <th>TA_CG</th>\n",
       "      <td>8</td>\n",
       "      <td>12</td>\n",
       "    </tr>\n",
       "    <tr>\n",
       "      <th>TA_GC</th>\n",
       "      <td>4</td>\n",
       "      <td>2</td>\n",
       "    </tr>\n",
       "  </tbody>\n",
       "</table>\n",
       "</div>"
      ],
      "text/plain": [
       "       X   Y\n",
       "CG_AT  2   6\n",
       "CG_GC  1   1\n",
       "CG_TA  5   8\n",
       "TA_AT  3   9\n",
       "TA_CG  8  12\n",
       "TA_GC  4   2"
      ]
     },
     "execution_count": 77,
     "metadata": {},
     "output_type": "execute_result"
    }
   ],
   "source": [
    "df\n",
    "#df.to_csv('mutation_types.txt')"
   ]
  },
  {
   "cell_type": "code",
   "execution_count": 66,
   "id": "5210265f-83ae-4082-a4bd-2a0a024119b4",
   "metadata": {},
   "outputs": [],
   "source": [
    "#df.to_csv('mutation_types_exon.txt')"
   ]
  },
  {
   "cell_type": "code",
   "execution_count": 69,
   "id": "737eaf6c-d4f7-4b05-9239-25fb40831e24",
   "metadata": {
    "tags": []
   },
   "outputs": [],
   "source": [
    "#df.to_csv('mutation_types_intron.txt')"
   ]
  },
  {
   "cell_type": "code",
   "execution_count": 80,
   "id": "7bdc419a-5ecb-427c-8300-68bed2bc5dcd",
   "metadata": {},
   "outputs": [],
   "source": [
    "#df.to_csv('mutation_promoter.txt')"
   ]
  },
  {
   "cell_type": "code",
   "execution_count": 98,
   "id": "01968cae-7986-41e9-9175-abef7a4c7f75",
   "metadata": {
    "tags": []
   },
   "outputs": [],
   "source": [
    "#count up C+ As\n",
    "from Bio.SeqUtils import GC\n",
    "alignment = AlignIO.read('/lab/solexa_page/hannah/220516_mpra/msa/long_alignments/multiz_dog_bull/opossum/zfx_y_human_opossum/ZFX_intron_msa_filtered.phy', 'phylip')\n",
    "alignment_op = alignment[2]"
   ]
  },
  {
   "cell_type": "code",
   "execution_count": 99,
   "id": "66d0e4df-b40e-4a82-bf4a-96f55ca8bd9b",
   "metadata": {
    "tags": []
   },
   "outputs": [
    {
     "data": {
      "text/plain": [
       "31.147540983606557"
      ]
     },
     "execution_count": 99,
     "metadata": {},
     "output_type": "execute_result"
    }
   ],
   "source": [
    "GC(alignment_op.seq)"
   ]
  },
  {
   "cell_type": "code",
   "execution_count": 100,
   "id": "6da21a82-65fc-44c2-a055-1e7c080752b7",
   "metadata": {
    "tags": []
   },
   "outputs": [
    {
     "data": {
      "text/plain": [
       "95.0"
      ]
     },
     "execution_count": 100,
     "metadata": {},
     "output_type": "execute_result"
    }
   ],
   "source": [
    "len(alignment_op.seq) * (GC(alignment_op.seq)/100)"
   ]
  },
  {
   "cell_type": "code",
   "execution_count": 101,
   "id": "0bbb4da9-0130-4458-b09c-543ea1a04e9d",
   "metadata": {
    "tags": []
   },
   "outputs": [
    {
     "data": {
      "text/plain": [
       "210.0"
      ]
     },
     "execution_count": 101,
     "metadata": {},
     "output_type": "execute_result"
    }
   ],
   "source": [
    "len(alignment_op.seq) * (1- GC(alignment_op.seq)/100)"
   ]
  },
  {
   "cell_type": "code",
   "execution_count": null,
   "id": "48cf2198-c09a-4db6-9d32-b359f900bcd8",
   "metadata": {},
   "outputs": [],
   "source": []
  }
 ],
 "metadata": {
  "kernelspec": {
   "display_name": "Python 3",
   "language": "python",
   "name": "python3"
  },
  "language_info": {
   "codemirror_mode": {
    "name": "ipython",
    "version": 3
   },
   "file_extension": ".py",
   "mimetype": "text/x-python",
   "name": "python",
   "nbconvert_exporter": "python",
   "pygments_lexer": "ipython3",
   "version": "3.8.10"
  }
 },
 "nbformat": 4,
 "nbformat_minor": 5
}
